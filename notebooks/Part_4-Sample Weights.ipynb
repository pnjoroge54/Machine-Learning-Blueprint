{
 "cells": [
  {
   "cell_type": "markdown",
   "id": "883cfcc8",
   "metadata": {
    "vscode": {
     "languageId": "plaintext"
    }
   },
   "source": [
    "# Meta-Labeling Experiments: A Step-by-Step Guide\n",
    "\n",
    "## Introduction\n",
    "\n",
    "This notebook recreates the meta-labeling experiments from Hudson & Thames' research in a beginner-friendly manner. Meta-labeling is a machine learning technique that sits on top of a primary trading strategy to improve performance by filtering out false positive signals.\n",
    "\n",
    "**Key Concepts:**\n",
    "- **Primary Model**: Generates trading signals (buy/sell/hold)\n",
    "- **Triple Barrier Method**: Advanced labeling technique that accounts for stop-loss, take-profit, and time-based exits\n",
    "- **Meta-Labeling**: Secondary ML model that decides whether to act on primary model signals\n",
    "- **Goal**: Improve Sharpe ratio, reduce drawdown, and increase precision\n",
    "\n",
    "## Setup and Dependencies"
   ]
  },
  {
   "cell_type": "code",
   "execution_count": 14,
   "id": "607009b9",
   "metadata": {},
   "outputs": [
    {
     "name": "stderr",
     "output_type": "stream",
     "text": [
      "\u001b[32m2025-10-27 06:01:15.655\u001b[0m | \u001b[1mINFO    \u001b[0m | \u001b[36mafml\u001b[0m:\u001b[36msetup_jupyter\u001b[0m:\u001b[36m215\u001b[0m - \u001b[1mSetting up AFML for Jupyter notebook...\u001b[0m\n",
      "\u001b[32m2025-10-27 06:01:15.665\u001b[0m | \u001b[34m\u001b[1mDEBUG   \u001b[0m | \u001b[36mafml.cache\u001b[0m:\u001b[36m_configure_numba\u001b[0m:\u001b[36m61\u001b[0m - \u001b[34m\u001b[1mNumba cache configured: C:\\Users\\JoeN\\AppData\\Local\\afml\\afml\\Cache\\numba_cache\u001b[0m\n"
     ]
    },
    {
     "name": "stdout",
     "output_type": "stream",
     "text": [
      "Reloading 'afml.strategies.bollinger_features'.\n",
      "Reloading 'afml.features.moving_averages'.\n",
      "The autoreload extension is already loaded. To reload it, use:\n",
      "  %reload_ext autoreload\n",
      "The line_profiler extension is already loaded. To reload it, use:\n",
      "  %reload_ext line_profiler\n",
      "Auto-reload available: True\n"
     ]
    },
    {
     "name": "stderr",
     "output_type": "stream",
     "text": [
      "\u001b[32m2025-10-27 06:01:15.670\u001b[0m | \u001b[1mINFO    \u001b[0m | \u001b[36mafml.cache\u001b[0m:\u001b[36minitialize_cache_system\u001b[0m:\u001b[36m310\u001b[0m - \u001b[1mAFML cache system initialized:\u001b[0m\n",
      "\u001b[32m2025-10-27 06:01:15.670\u001b[0m | \u001b[1mINFO    \u001b[0m | \u001b[36mafml.cache\u001b[0m:\u001b[36minitialize_cache_system\u001b[0m:\u001b[36m311\u001b[0m - \u001b[1m  Joblib cache: C:\\Users\\JoeN\\AppData\\Local\\afml\\afml\\Cache\\joblib_cache\u001b[0m\n",
      "\u001b[32m2025-10-27 06:01:15.675\u001b[0m | \u001b[1mINFO    \u001b[0m | \u001b[36mafml.cache\u001b[0m:\u001b[36minitialize_cache_system\u001b[0m:\u001b[36m312\u001b[0m - \u001b[1m  Numba cache: C:\\Users\\JoeN\\AppData\\Local\\afml\\afml\\Cache\\numba_cache\u001b[0m\n",
      "\u001b[32m2025-10-27 06:01:15.675\u001b[0m | \u001b[1mINFO    \u001b[0m | \u001b[36mafml.cache\u001b[0m:\u001b[36minitialize_cache_system\u001b[0m:\u001b[36m318\u001b[0m - \u001b[1m  Loaded stats: 4 functions, 37.3% hit rate\u001b[0m\n",
      "\u001b[32m2025-10-27 06:01:15.680\u001b[0m | \u001b[1mINFO    \u001b[0m | \u001b[36mafml.cache.auto_reload\u001b[0m:\u001b[36mstart_watching\u001b[0m:\u001b[36m52\u001b[0m - \u001b[1mWatching for changes: C:\\Users\\JoeN\\Documents\\GitHub\\Machine-Learning-Blueprint\\notebooks\u001b[0m\n",
      "\u001b[32m2025-10-27 06:01:15.690\u001b[0m | \u001b[1mINFO    \u001b[0m | \u001b[36mafml\u001b[0m:\u001b[36msetup_jupyter\u001b[0m:\u001b[36m224\u001b[0m - \u001b[1mAuto-reload enabled\u001b[0m\n",
      "\u001b[32m2025-10-27 06:01:15.695\u001b[0m | \u001b[1mINFO    \u001b[0m | \u001b[36mafml\u001b[0m:\u001b[36msetup_jupyter\u001b[0m:\u001b[36m238\u001b[0m - \u001b[1mCache ready: 37.3% hit rate\u001b[0m\n"
     ]
    },
    {
     "name": "stdout",
     "output_type": "stream",
     "text": [
      "Working Dir: c:\\Users\\JoeN\\Documents\\GitHub\\Machine-Learning-Blueprint\\notebooks\n"
     ]
    }
   ],
   "source": [
    "# --- Extension Setup ---\n",
    "%load_ext autoreload\n",
    "%load_ext line_profiler\n",
    "%autoreload 3 -p\n",
    "\n",
    "# --- Module Imports ---\n",
    "import sys\n",
    "sys.path.append(\"..\")  # Adjust if your afml repo is nested differently\n",
    "\n",
    "# --- Autoreload Target ---\n",
    "%aimport afml\n",
    "\n",
    "# --- AFML Initialization ---\n",
    "import afml\n",
    "\n",
    "# Check if auto-reload is available\n",
    "print(f\"Auto-reload available: {afml.AUTO_RELOAD_AVAILABLE}\")\n",
    "\n",
    "# Setup with auto-reload enabled\n",
    "app = afml.setup_jupyter(enable_auto_reload=True)\n",
    "\n",
    "# # --- Logging (Optional but Recommended) ---\n",
    "# from loguru import logger\n",
    "# from pathlib import Path\n",
    "\n",
    "# # Optional: clear old logs\n",
    "# log_path = Path(\"logs\") / \"afml_session.log\"\n",
    "# log_path.parent.mkdir(exist_ok=True)\n",
    "# log_path.unlink(missing_ok=True)\n",
    "\n",
    "# # Configure Loguru\n",
    "# logger.add(log_path, level=\"INFO\", rotation=\"10 MB\", retention=\"10 days\")\n",
    "# logger.info(\"Session started\")\n",
    "\n",
    "# --- Environment Diagnostics ---\n",
    "from pathlib import Path\n",
    "print(f\"Working Dir: {Path.cwd()}\")\n"
   ]
  },
  {
   "cell_type": "code",
   "execution_count": 15,
   "id": "2507ee02",
   "metadata": {},
   "outputs": [],
   "source": [
    "import warnings\n",
    "import winsound\n",
    "\n",
    "from pathlib import Path\n",
    "from pprint import pprint\n",
    "\n",
    "import matplotlib.pyplot as plt\n",
    "import MetaTrader5 as mt5\n",
    "from sklearn.base import clone\n",
    "from sklearn.ensemble import RandomForestClassifier\n",
    "\n",
    "from afml.cache import cache_maintenance\n",
    "from afml.cross_validation.cross_validation import (\n",
    "    PurgedKFold,\n",
    "    PurgedSplit,\n",
    "    ml_cross_val_score,\n",
    "    ml_cross_val_scores_all,\n",
    ")\n",
    "from afml.data_structures.bars import *\n",
    "from afml.labeling import (\n",
    "    add_vertical_barrier,\n",
    "    get_event_weights,\n",
    "    triple_barrier_labels,\n",
    ")\n",
    "from afml.mt5.load_data import (\n",
    "    login_mt5,\n",
    "    get_bars,\n",
    ")\n",
    "from afml.sample_weights.optimized_attribution import (\n",
    "    get_weights_by_time_decay_optimized,\n",
    ")\n",
    "from afml.strategies import (\n",
    "    BollingerStrategy,\n",
    "    MACrossoverStrategy,\n",
    "    create_bollinger_features,\n",
    "    get_entries,\n",
    ")\n",
    "from afml.util import (\n",
    "    get_daily_vol,\n",
    "    value_counts_data,\n",
    ")   \n",
    "\n",
    "warnings.filterwarnings(\"ignore\")\n",
    "plt.style.use(\"seaborn-v0_8-whitegrid\")\n",
    "# plt.style.use(\"dark_background\")"
   ]
  },
  {
   "cell_type": "markdown",
   "id": "160822e7",
   "metadata": {},
   "source": [
    "## 1. Data Preparation"
   ]
  },
  {
   "cell_type": "code",
   "execution_count": 16,
   "id": "2f257b76",
   "metadata": {},
   "outputs": [],
   "source": [
    "symbol = \"EURUSD\"\n",
    "start_date, end_date = \"2018-01-01\", \"2024-12-31\"\n",
    "sample_start, sample_end = start_date, \"2022-12-31\"        "
   ]
  },
  {
   "cell_type": "markdown",
   "id": "9129c536",
   "metadata": {},
   "source": [
    "## 2. Bollinger Band Strategy"
   ]
  },
  {
   "cell_type": "code",
   "execution_count": 17,
   "id": "f960964f",
   "metadata": {},
   "outputs": [],
   "source": [
    "bb_timeframe = \"M5\"\n",
    "file = Path(r\"..\\data\\EURUSD_M5_time_2018-01-01-2024-12-31.parq\")\n",
    "bb_time_bars = pd.read_parquet(file)"
   ]
  },
  {
   "cell_type": "code",
   "execution_count": 18,
   "id": "aaae6549",
   "metadata": {},
   "outputs": [],
   "source": [
    "bb_period, bb_std = 20, 2 # Bollinger Band parameters\n",
    "bb_strategy = BollingerStrategy(window=bb_period, num_std=bb_std)\n",
    "bb_lookback = 10\n",
    "bb_pt_barrier, bb_sl_barrier, bb_time_horizon = (1, 2, dict(days=1))\n",
    "min_ret = 0.0\n",
    "bb_vol_multiplier = 1"
   ]
  },
  {
   "cell_type": "markdown",
   "id": "e83dccff",
   "metadata": {},
   "source": [
    "### Time-Bars"
   ]
  },
  {
   "cell_type": "code",
   "execution_count": 19,
   "id": "144d9465",
   "metadata": {},
   "outputs": [
    {
     "name": "stdout",
     "output_type": "stream",
     "text": [
      "Bollinger_w20_std2 Signals:\n",
      "\n",
      "        count  proportion\n",
      "side                     \n",
      " 0    310,455    0.840146\n",
      "-1     29,598    0.080097\n",
      " 1     29,472    0.079756\n",
      "\n"
     ]
    },
    {
     "name": "stderr",
     "output_type": "stream",
     "text": [
      "\u001b[32m2025-10-27 06:01:20.822\u001b[0m | \u001b[1mINFO    \u001b[0m | \u001b[36mafml.filters.filters\u001b[0m:\u001b[36mcusum_filter\u001b[0m:\u001b[36m151\u001b[0m - \u001b[1m40,787 CUSUM-filtered events\u001b[0m\n",
      "\u001b[32m2025-10-27 06:01:20.915\u001b[0m | \u001b[1mINFO    \u001b[0m | \u001b[36mafml.strategies.signal_processing\u001b[0m:\u001b[36mget_entries\u001b[0m:\u001b[36m105\u001b[0m - \u001b[1mBollinger_w20_std2 | 14,459 (24.48%) trade events selected by CUSUM filter (threshold = 0.0696%).\u001b[0m\n"
     ]
    }
   ],
   "source": [
    "bb_side = bb_strategy.generate_signals(bb_time_bars)\n",
    "bb_df = bb_time_bars.loc[sample_start : sample_end]\n",
    "\n",
    "print(f\"{bb_strategy.get_strategy_name()} Signals:\")\n",
    "value_counts_data(bb_side.reindex(bb_df.index), verbose=True)\n",
    "\n",
    "# Volatility target for barriers\n",
    "vol_lookback = 20\n",
    "vol_target = get_daily_vol(bb_df.close, vol_lookback) * bb_vol_multiplier\n",
    "close = bb_df.close\n",
    "_, t_events = get_entries(bb_strategy, bb_df, filter_threshold=vol_target.mean())\n",
    "\n",
    "vertical_barriers = add_vertical_barrier(t_events, close, **bb_time_horizon)"
   ]
  },
  {
   "cell_type": "markdown",
   "id": "76ada8a2",
   "metadata": {},
   "source": [
    "#### Feature Engineering"
   ]
  },
  {
   "cell_type": "code",
   "execution_count": 20,
   "id": "63d09b56",
   "metadata": {},
   "outputs": [
    {
     "name": "stderr",
     "output_type": "stream",
     "text": [
      "\u001b[32m2025-10-27 06:01:21.769\u001b[0m | \u001b[34m\u001b[1mDEBUG   \u001b[0m | \u001b[36mafml.cache.selective_cleaner\u001b[0m:\u001b[36mtrack_function\u001b[0m:\u001b[36m112\u001b[0m - \u001b[34m\u001b[1mFunction changed: afml.strategies.bollinger_features.create_bollinger_features\u001b[0m\n",
      "\u001b[32m2025-10-27 06:01:22.291\u001b[0m | \u001b[34m\u001b[1mDEBUG   \u001b[0m | \u001b[36mafml.cache.selective_cleaner\u001b[0m:\u001b[36m_clear_function_caches\u001b[0m:\u001b[36m309\u001b[0m - \u001b[34m\u001b[1mCleared cache directory: C:\\Users\\JoeN\\AppData\\Local\\afml\\afml\\Cache\\joblib_cache\\joblib\\afml\\strategies\\bollinger_features\\create_bollinger_features\u001b[0m\n",
      "\u001b[32m2025-10-27 06:01:22.296\u001b[0m | \u001b[1mINFO    \u001b[0m | \u001b[36mafml.cache.selective_cleaner\u001b[0m:\u001b[36mwrapper\u001b[0m:\u001b[36m350\u001b[0m - \u001b[1mAuto-cleared changed function cache: afml.strategies.bollinger_features.create_bollinger_features\u001b[0m\n",
      "\u001b[32m2025-10-27 06:01:29.865\u001b[0m | \u001b[1mINFO    \u001b[0m | \u001b[36mafml.features.moving_averages\u001b[0m:\u001b[36mcalculate_ma_differences\u001b[0m:\u001b[36m42\u001b[0m - \u001b[1m\n",
      "Dropped features with correlation > 0.75: \n",
      "\t['sma_diff_10_200', 'sma_diff_10_50', 'sma_diff_20_100', 'sma_diff_20_200', 'sma_diff_20_50', 'sma_diff_50_100', 'sma_diff_50_200']\n",
      "Kept features: \n",
      "\t['sma_diff_10_20', 'sma_diff_10_100', 'sma_diff_100_200']\u001b[0m\n"
     ]
    },
    {
     "name": "stdout",
     "output_type": "stream",
     "text": [
      "<class 'pandas.core.frame.DataFrame'>\n",
      "DatetimeIndex: 516825 entries, 2018-01-02 23:20:00 to 2024-12-31 00:00:00\n",
      "Data columns (total 52 columns):\n",
      " #   Column               Non-Null Count   Dtype  \n",
      "---  ------               --------------   -----  \n",
      " 0   spread               516825 non-null  float32\n",
      " 1   vol                  516825 non-null  float32\n",
      " 2   h1_vol               516825 non-null  float32\n",
      " 3   h4_vol               516825 non-null  float32\n",
      " 4   d1_vol               516825 non-null  float32\n",
      " 5   ret                  516825 non-null  float32\n",
      " 6   ret_5                516825 non-null  float32\n",
      " 7   ret_10               516825 non-null  float32\n",
      " 8   ret_1_lag_1          516825 non-null  float32\n",
      " 9   ret_5_lag_1          516825 non-null  float32\n",
      " 10  ret_10_lag_1         516825 non-null  float32\n",
      " 11  ret_1_lag_2          516825 non-null  float32\n",
      " 12  ret_5_lag_2          516825 non-null  float32\n",
      " 13  ret_10_lag_2         516825 non-null  float32\n",
      " 14  ret_1_lag_3          516825 non-null  float32\n",
      " 15  ret_5_lag_3          516825 non-null  float32\n",
      " 16  ret_10_lag_3         516825 non-null  float32\n",
      " 17  ret_skew             516825 non-null  float32\n",
      " 18  ret_kurt             516825 non-null  float32\n",
      " 19  autocorr             516825 non-null  float32\n",
      " 20  autocorr_1           516825 non-null  float32\n",
      " 21  autocorr_2           516825 non-null  float32\n",
      " 22  autocorr_3           516825 non-null  float32\n",
      " 23  autocorr_4           516825 non-null  float32\n",
      " 24  autocorr_5           516825 non-null  float32\n",
      " 25  bbb_20_2.0           516825 non-null  float32\n",
      " 26  bbp_20_2.0           516825 non-null  float64\n",
      " 27  truerange_1          516825 non-null  float32\n",
      " 28  atrr_14              516825 non-null  float32\n",
      " 29  rsi_14               516825 non-null  float32\n",
      " 30  stochrsik_14_14_3_3  516825 non-null  float32\n",
      " 31  stochrsid_14_14_3_3  516825 non-null  float32\n",
      " 32  adx_14               516825 non-null  float32\n",
      " 33  dmp_14               516825 non-null  float32\n",
      " 34  dmn_14               516825 non-null  float32\n",
      " 35  dm_net               516825 non-null  float32\n",
      " 36  macd_12_26_9         516825 non-null  float32\n",
      " 37  macdh_12_26_9        516825 non-null  float32\n",
      " 38  sma_diff_10_20       516825 non-null  float32\n",
      " 39  sma_diff_10_100      516825 non-null  float32\n",
      " 40  sma_diff_100_200     516825 non-null  float32\n",
      " 41  sma_cross_10_20      516825 non-null  int8   \n",
      " 42  sma_cross_10_50      516825 non-null  int8   \n",
      " 43  sma_cross_10_100     516825 non-null  int8   \n",
      " 44  sma_cross_10_200     516825 non-null  int8   \n",
      " 45  sma_cross_20_50      516825 non-null  int8   \n",
      " 46  sma_cross_20_100     516825 non-null  int8   \n",
      " 47  sma_cross_20_200     516825 non-null  int8   \n",
      " 48  sma_cross_50_100     516825 non-null  int8   \n",
      " 49  sma_cross_50_200     516825 non-null  int8   \n",
      " 50  sma_cross_100_200    516825 non-null  int8   \n",
      " 51  side                 516825 non-null  int8   \n",
      "dtypes: float32(40), float64(1), int8(11)\n",
      "memory usage: 92.2 MB\n"
     ]
    }
   ],
   "source": [
    "bb_feat = create_bollinger_features(bb_time_bars, bb_period, bb_std)\n",
    "bb_feat_time = bb_feat.copy()\n",
    "bb_feat_time.info()\n",
    "# not_stationary = is_stationary(bb_feat_time)"
   ]
  },
  {
   "cell_type": "markdown",
   "id": "fbe1c961",
   "metadata": {},
   "source": [
    "#### Triple-Barrier Method"
   ]
  },
  {
   "cell_type": "code",
   "execution_count": 21,
   "id": "edaf6686",
   "metadata": {},
   "outputs": [
    {
     "name": "stdout",
     "output_type": "stream",
     "text": [
      "Triple-Barrier (pt=1, sl=2, h={'days': 1}):\n",
      "\n",
      "     count  proportion\n",
      "bin                   \n",
      "-1   7,102         0.5\n",
      " 1   7,102         0.5\n",
      "\n",
      "Average Uniqueness: 0.7994\n"
     ]
    }
   ],
   "source": [
    "bb_events_tb = triple_barrier_labels(\n",
    "    close,\n",
    "    vol_target,\n",
    "    t_events,\n",
    "    pt_sl=[bb_pt_barrier, bb_sl_barrier],\n",
    "    min_ret=min_ret,\n",
    "    vertical_barrier_times=vertical_barriers,\n",
    "    vertical_barrier_zero=True,\n",
    "    verbose=False,\n",
    ")\n",
    "\n",
    "bb_events_tb_time = bb_events_tb.copy()\n",
    "print(f\"Triple-Barrier (pt={bb_pt_barrier}, sl={bb_sl_barrier}, h={bb_time_horizon}):\")\n",
    "value_counts_data(bb_events_tb.bin, verbose=True)\n",
    "\n",
    "weights = get_event_weights(bb_events_tb, close)\n",
    "av_uniqueness = weights['tW'].mean()\n",
    "print(f\"Average Uniqueness: {av_uniqueness:.4f}\")"
   ]
  },
  {
   "cell_type": "code",
   "execution_count": 22,
   "id": "c5b85936",
   "metadata": {},
   "outputs": [
    {
     "name": "stdout",
     "output_type": "stream",
     "text": [
      "Triple-Barrier (pt=1, sl=2, h={'days': 1}):\n",
      "\n",
      "     count  proportion\n",
      "bin                   \n",
      "1    9,402    0.650838\n",
      "0    5,044    0.349162\n",
      "\n",
      "Average Uniqueness: 0.6315\n"
     ]
    }
   ],
   "source": [
    "bb_events_tb = triple_barrier_labels(\n",
    "    close,\n",
    "    vol_target,\n",
    "    t_events,\n",
    "    pt_sl=[bb_pt_barrier, bb_sl_barrier],\n",
    "    min_ret=min_ret,\n",
    "    vertical_barrier_times=vertical_barriers,\n",
    "    side_prediction=bb_side,\n",
    "    vertical_barrier_zero=True,\n",
    "    verbose=False,\n",
    ")\n",
    "\n",
    "bb_events_tb_time_meta = bb_events_tb.copy()\n",
    "print(f\"Triple-Barrier (pt={bb_pt_barrier}, sl={bb_sl_barrier}, h={bb_time_horizon}):\")\n",
    "value_counts_data(bb_events_tb.bin, verbose=True)\n",
    "\n",
    "weights = get_event_weights(bb_events_tb, close)\n",
    "av_uniqueness = weights['tW'].mean()\n",
    "print(f\"Average Uniqueness: {av_uniqueness:.4f}\")"
   ]
  },
  {
   "cell_type": "markdown",
   "id": "f3ac89d4",
   "metadata": {},
   "source": [
    "#### Cross-Validation of Weighting Methods"
   ]
  },
  {
   "cell_type": "markdown",
   "id": "110b0920",
   "metadata": {},
   "source": [
    "##### Primary Model "
   ]
  },
  {
   "cell_type": "code",
   "execution_count": 23,
   "id": "9509134e",
   "metadata": {},
   "outputs": [],
   "source": [
    "cont = bb_events_tb_time.copy()\n",
    "X = bb_feat_time.reindex(cont.index)\n",
    "y = cont[\"bin\"]\n",
    "t1 = cont[\"t1\"]\n",
    "\n",
    "test_size = 0.2\n",
    "n_splits = 10\n",
    "pct_embargo = 0.01\n",
    "\n",
    "train, test = PurgedSplit(t1, test_size).split(X)\n",
    "X_train, X_test, y_train, y_test = (\n",
    "        X.iloc[train],\n",
    "        X.iloc[test],\n",
    "        y.iloc[train],\n",
    "        y.iloc[test],\n",
    "    )\n",
    "\n",
    "cont_train = get_event_weights(cont.iloc[train], bb_df.close)\n",
    "bb_cont_train = cont_train.copy()"
   ]
  },
  {
   "cell_type": "code",
   "execution_count": 24,
   "id": "0e03121f",
   "metadata": {},
   "outputs": [
    {
     "name": "stdout",
     "output_type": "stream",
     "text": [
      "Average Uniqueness in Training Set: 0.8193\n"
     ]
    },
    {
     "data": {
      "text/plain": [
       "dict_keys(['unweighted', 'uniqueness', 'return'])"
      ]
     },
     "execution_count": 24,
     "metadata": {},
     "output_type": "execute_result"
    }
   ],
   "source": [
    "avg_u = cont_train.tW.mean()\n",
    "print(f\"Average Uniqueness in Training Set: {avg_u:.4f}\")\n",
    "weighting_schemes = {\n",
    "    \"unweighted\": pd.Series(1., index=cont_train.index),\n",
    "    \"uniqueness\": cont_train[\"tW\"],\n",
    "    \"return\": cont_train[\"w\"],\n",
    "    }\n",
    "\n",
    "decay_factors = [0.1, 0.25, 0.5, 0.75, 0.9]\n",
    "time_decay_weights = {}\n",
    "for time_decay in decay_factors:\n",
    "    for linear in (1, 0):\n",
    "        decay_w = get_weights_by_time_decay_optimized(\n",
    "                    triple_barrier_events=cont,\n",
    "                    close_index=close.index,\n",
    "                    last_weight=time_decay,\n",
    "                    linear=linear,\n",
    "                    av_uniqueness=cont_train[\"tW\"],\n",
    "                )\n",
    "        method = \"linear\" if linear else \"exp\"\n",
    "        time_decay_weights[f\"{method}_time_decay_{time_decay}\"] = decay_w\n",
    "        \n",
    "# for k, v in time_decay_weights.items():\n",
    "#     weighting_schemes[k] = v\n",
    "\n",
    "weighting_schemes.keys()"
   ]
  },
  {
   "cell_type": "code",
   "execution_count": 25,
   "id": "8d2c2bca",
   "metadata": {},
   "outputs": [
    {
     "data": {
      "text/plain": [
       "{'standard': RandomForestClassifier(criterion='entropy', min_weight_fraction_leaf=0.05,\n",
       "                        n_jobs=-1, random_state=42),\n",
       " 'balanced_subsample': RandomForestClassifier(class_weight='balanced_subsample', criterion='entropy',\n",
       "                        min_weight_fraction_leaf=0.05, n_jobs=-1,\n",
       "                        random_state=42),\n",
       " 'max_samples': RandomForestClassifier(criterion='entropy', max_samples=0.8193019128311877,\n",
       "                        min_weight_fraction_leaf=0.05, n_jobs=-1,\n",
       "                        random_state=42),\n",
       " 'combined': RandomForestClassifier(class_weight='balanced_subsample', criterion='entropy',\n",
       "                        max_samples=0.8193019128311877,\n",
       "                        min_weight_fraction_leaf=0.05, n_jobs=-1,\n",
       "                        random_state=42)}"
      ]
     },
     "execution_count": 25,
     "metadata": {},
     "output_type": "execute_result"
    }
   ],
   "source": [
    "random_state = 42\n",
    "min_w_leaf = 0.05\n",
    "\n",
    "\n",
    "rf = RandomForestClassifier(\n",
    "    criterion='entropy',\n",
    "    n_estimators=100,\n",
    "    random_state=random_state,\n",
    "    min_weight_fraction_leaf=min_w_leaf,\n",
    "    n_jobs=-1,  # Use all available cores\n",
    "    )\n",
    "\n",
    "clf0 = rf\n",
    "clf1 = clone(rf).set_params(class_weight='balanced_subsample')\n",
    "clf2 = clone(rf).set_params(max_samples=avg_u)\n",
    "clf3 = clone(rf).set_params(max_samples=avg_u, class_weight='balanced_subsample')\n",
    "\n",
    "clfs = {k: v for k, v in zip(['standard', 'balanced_subsample', 'max_samples', 'combined'], [clf0, clf1, clf2, clf3])}\n",
    "clfs"
   ]
  },
  {
   "cell_type": "code",
   "execution_count": 26,
   "id": "06278dba",
   "metadata": {},
   "outputs": [
    {
     "name": "stdout",
     "output_type": "stream",
     "text": [
      "RandomForestClassifier Weighting Schemes\n",
      "unweighted balanced_subsample model achieved the best neg_log_loss score of -0.691693.\n",
      "uniqueness combined model achieved the best neg_log_loss score of -0.690717.\n",
      "return balanced_subsample model achieved the best neg_log_loss score of -0.643201.\n",
      "\n",
      "                            unweighted          uniqueness              return\n",
      "standard            -0.691826 ± 0.0015  -0.690970 ± 0.0013  -0.643280 ± 0.0058\n",
      "balanced_subsample  -0.691693 ± 0.0015  -0.690832 ± 0.0012  -0.643201 ± 0.0058\n",
      "max_samples         -0.692046 ± 0.0016  -0.690862 ± 0.0013  -0.643707 ± 0.0061\n",
      "combined            -0.691907 ± 0.0016  -0.690717 ± 0.0011  -0.643621 ± 0.0060\n",
      "\n",
      "Selected Best Classifier (balanced_subsample): RandomForestClassifier(class_weight='balanced_subsample', criterion='entropy',\n",
      "                       min_weight_fraction_leaf=0.05, n_jobs=-1,\n",
      "                       random_state=42)\n"
     ]
    }
   ],
   "source": [
    "cv_gen = PurgedKFold(n_splits, cont_train.t1, pct_embargo)\n",
    "cv_scores_d = {k: {} for k in clfs.keys()}\n",
    "print(rf.__class__.__name__, \"Weighting Schemes\")\n",
    "all_clf_scores_df = pd.DataFrame(dtype=pd.StringDtype())\n",
    "best_models = []\n",
    "\n",
    "for scheme, sample_weights in weighting_schemes.items():\n",
    "    best_score, best_model = None, None\n",
    "    for param, clf in clfs.items():\n",
    "        w = sample_weights.values\n",
    "        cv_scores = ml_cross_val_score(\n",
    "            clf, X_train, y_train, cv_gen, \n",
    "            sample_weight_train=w, \n",
    "            sample_weight_score=w,\n",
    "            scoring=\"log_loss\",\n",
    "        )\n",
    "        score = cv_scores.mean()\n",
    "        cv_scores_d[param][scheme] = score\n",
    "        best_score = max(best_score, score) if best_score is not None else score\n",
    "        if score == best_score:\n",
    "            best_model = param\n",
    "        all_clf_scores_df.loc[param, scheme] = f\"{cv_scores.mean():.6f} ± {cv_scores.std():.4f}\"\n",
    "    best_models.append(best_model)\n",
    "    print(f\"{scheme} {best_model} model achieved the best neg_log_loss score of {best_score:.6f}.\")\n",
    "\n",
    "print()\n",
    "pprint(all_clf_scores_df, sort_dicts=False)\n",
    "best_model = max(best_models, key=best_models.count)\n",
    "best_clf = clone(clfs[best_model])\n",
    "print(f\"\\nSelected Best Classifier ({best_model}): {best_clf}\")"
   ]
  },
  {
   "cell_type": "code",
   "execution_count": 27,
   "id": "311350fb",
   "metadata": {},
   "outputs": [
    {
     "name": "stdout",
     "output_type": "stream",
     "text": [
      "                   unweighted       uniqueness           return\n",
      "accuracy       0.5264 ± 0.011   0.5345 ± 0.009   0.6556 ± 0.009\n",
      "pwa            0.5324 ± 0.014   0.5388 ± 0.008   0.6640 ± 0.011\n",
      "neg_log_loss  -0.6917 ± 0.002  -0.6908 ± 0.001  -0.6432 ± 0.006\n",
      "precision      0.5243 ± 0.015   0.5317 ± 0.019   0.6452 ± 0.027\n",
      "recall         0.5578 ± 0.033   0.5643 ± 0.032   0.6414 ± 0.023\n",
      "f1             0.5397 ± 0.014   0.5465 ± 0.011   0.6431 ± 0.022\n",
      "\n",
      "return model achieved the best neg_log_loss score of -0.643201.\n",
      "\n"
     ]
    }
   ],
   "source": [
    "all_cv_scores_d = {}\n",
    "all_cms = {}\n",
    "best_score, best_model = None, None\n",
    "all_cv_scores_df = pd.DataFrame(dtype=pd.StringDtype())\n",
    "\n",
    "for scheme, sample_weights in weighting_schemes.items():\n",
    "    w = sample_weights.values\n",
    "    cv_scores, cv_scores_df, cms = ml_cross_val_scores_all(\n",
    "        best_clf, X_train, y_train, cv_gen, \n",
    "        sample_weight_train=w, \n",
    "        sample_weight_score=w,\n",
    "    )\n",
    "    score = cv_scores['neg_log_loss'].mean()\n",
    "    all_cv_scores_d[scheme] = cv_scores\n",
    "    all_cms[scheme] = cms\n",
    "    best_score = max(best_score, score) if best_score is not None else score\n",
    "    if score == best_score:\n",
    "        best_model = scheme\n",
    "    for idx, row in cv_scores_df.iterrows():\n",
    "        all_cv_scores_df.loc[idx, scheme] = f\"{row['mean']:.4f} ± {row['std']:.3f}\"\n",
    "pprint(all_cv_scores_df)\n",
    "print(f\"\\n{best_model} model achieved the best neg_log_loss score of {best_score:.6f}.\\n\")"
   ]
  },
  {
   "cell_type": "code",
   "execution_count": 28,
   "id": "9c81fbdc",
   "metadata": {},
   "outputs": [
    {
     "name": "stdout",
     "output_type": "stream",
     "text": [
      "{'unweighted': [{'fold': 1, 'TN': 299.0, 'FP': 275.0, 'FN': 262.0, 'TP': 301.0},\n",
      "                {'fold': 2, 'TN': 273.0, 'FP': 328.0, 'FN': 226.0, 'TP': 310.0},\n",
      "                {'fold': 3, 'TN': 279.0, 'FP': 292.0, 'FN': 238.0, 'TP': 328.0},\n",
      "                {'fold': 4, 'TN': 292.0, 'FP': 290.0, 'FN': 233.0, 'TP': 322.0},\n",
      "                {'fold': 5, 'TN': 261.0, 'FP': 295.0, 'FN': 250.0, 'TP': 330.0},\n",
      "                {'fold': 6, 'TN': 289.0, 'FP': 266.0, 'FN': 275.0, 'TP': 306.0},\n",
      "                {'fold': 7, 'TN': 292.0, 'FP': 245.0, 'FN': 309.0, 'TP': 290.0},\n",
      "                {'fold': 8, 'TN': 305.0, 'FP': 272.0, 'FN': 245.0, 'TP': 314.0},\n",
      "                {'fold': 9, 'TN': 277.0, 'FP': 311.0, 'FN': 217.0, 'TP': 331.0},\n",
      "                {'fold': 10,\n",
      "                 'TN': 258.0,\n",
      "                 'FP': 297.0,\n",
      "                 'FN': 256.0,\n",
      "                 'TP': 325.0}],\n",
      " 'uniqueness': [{'fold': 1,\n",
      "                 'TN': 234.78,\n",
      "                 'FP': 228.22,\n",
      "                 'FN': 203.79,\n",
      "                 'TP': 250.29},\n",
      "                {'fold': 2,\n",
      "                 'TN': 214.18,\n",
      "                 'FP': 264.63,\n",
      "                 'FN': 168.56,\n",
      "                 'TP': 255.36},\n",
      "                {'fold': 3,\n",
      "                 'TN': 230.77,\n",
      "                 'FP': 237.87,\n",
      "                 'FN': 191.25,\n",
      "                 'TP': 266.94},\n",
      "                {'fold': 4,\n",
      "                 'TN': 252.39,\n",
      "                 'FP': 256.33,\n",
      "                 'FN': 207.62,\n",
      "                 'TP': 278.18},\n",
      "                {'fold': 5,\n",
      "                 'TN': 228.34,\n",
      "                 'FP': 237.79,\n",
      "                 'FN': 209.73,\n",
      "                 'TP': 277.26},\n",
      "                {'fold': 6,\n",
      "                 'TN': 228.38,\n",
      "                 'FP': 191.68,\n",
      "                 'FN': 215.06,\n",
      "                 'TP': 232.08},\n",
      "                {'fold': 7,\n",
      "                 'TN': 247.51,\n",
      "                 'FP': 186.48,\n",
      "                 'FN': 246.57,\n",
      "                 'TP': 241.69},\n",
      "                {'fold': 8,\n",
      "                 'TN': 264.06,\n",
      "                 'FP': 227.47,\n",
      "                 'FN': 195.91,\n",
      "                 'TP': 268.43},\n",
      "                {'fold': 9,\n",
      "                 'TN': 256.29,\n",
      "                 'FP': 258.49,\n",
      "                 'FN': 197.16,\n",
      "                 'TP': 281.67},\n",
      "                {'fold': 10,\n",
      "                 'TN': 208.13,\n",
      "                 'FP': 221.81,\n",
      "                 'FN': 186.1,\n",
      "                 'TP': 261.29}],\n",
      " 'return': [{'fold': 1, 'TN': 411.55, 'FP': 179.71, 'FN': 222.54, 'TP': 378.24},\n",
      "            {'fold': 2, 'TN': 408.95, 'FP': 234.97, 'FN': 202.4, 'TP': 352.81},\n",
      "            {'fold': 3, 'TN': 396.67, 'FP': 184.13, 'FN': 190.36, 'TP': 351.18},\n",
      "            {'fold': 4, 'TN': 333.77, 'FP': 173.74, 'FN': 150.55, 'TP': 273.42},\n",
      "            {'fold': 5, 'TN': 371.64, 'FP': 192.42, 'FN': 188.83, 'TP': 374.23},\n",
      "            {'fold': 6, 'TN': 436.92, 'FP': 238.84, 'FN': 259.04, 'TP': 472.14},\n",
      "            {'fold': 7, 'TN': 357.09, 'FP': 201.72, 'FN': 198.64, 'TP': 429.53},\n",
      "            {'fold': 8, 'TN': 366.67, 'FP': 168.81, 'FN': 187.76, 'TP': 296.72},\n",
      "            {'fold': 9, 'TN': 363.86, 'FP': 157.16, 'FN': 165.06, 'TP': 248.65},\n",
      "            {'fold': 10,\n",
      "             'TN': 438.12,\n",
      "             'FP': 207.71,\n",
      "             'FN': 210.14,\n",
      "             'TP': 387.32}]}\n"
     ]
    }
   ],
   "source": [
    "pprint(all_cms, sort_dicts=False)"
   ]
  },
  {
   "cell_type": "markdown",
   "id": "b04e170c",
   "metadata": {},
   "source": [
    "##### Meta-Labelled"
   ]
  },
  {
   "cell_type": "code",
   "execution_count": 29,
   "id": "c9519e6e",
   "metadata": {},
   "outputs": [],
   "source": [
    "cont = bb_events_tb_time_meta.copy()\n",
    "X = bb_feat_time.reindex(cont.index)\n",
    "y = cont[\"bin\"]\n",
    "t1 = cont[\"t1\"]\n",
    "\n",
    "test_size = 0.2\n",
    "n_splits = 10\n",
    "pct_embargo = 0.01\n",
    "\n",
    "train, test = PurgedSplit(t1, test_size).split(X)\n",
    "X_train, X_test, y_train, y_test = (\n",
    "        X.iloc[train],\n",
    "        X.iloc[test],\n",
    "        y.iloc[train],\n",
    "        y.iloc[test],\n",
    "    )\n",
    "\n",
    "cont_train = get_event_weights(cont.iloc[train], bb_df.close)\n",
    "bb_cont_train_meta = cont_train.copy()"
   ]
  },
  {
   "cell_type": "code",
   "execution_count": 30,
   "id": "e9e6a3c6",
   "metadata": {},
   "outputs": [
    {
     "data": {
      "text/plain": [
       "dict_keys(['unweighted', 'uniqueness', 'return'])"
      ]
     },
     "execution_count": 30,
     "metadata": {},
     "output_type": "execute_result"
    }
   ],
   "source": [
    "avg_u = cont_train.tW.mean()\n",
    "weighting_schemes = {\n",
    "    \"unweighted\": pd.Series(1., index=cont_train.index),\n",
    "    \"uniqueness\": cont_train[\"tW\"],\n",
    "    \"return\": cont_train[\"w\"],\n",
    "    }\n",
    "\n",
    "decay_factors = [0.1, 0.25, 0.5, 0.75, 0.9]\n",
    "time_decay_weights = {}\n",
    "for time_decay in decay_factors:\n",
    "    for linear in (1, 0):\n",
    "        decay_w = get_weights_by_time_decay_optimized(\n",
    "                    triple_barrier_events=cont,\n",
    "                    close_index=close.index,\n",
    "                    last_weight=time_decay,\n",
    "                    linear=linear,\n",
    "                    av_uniqueness=cont_train[\"tW\"],\n",
    "                )\n",
    "        method = \"linear\" if linear else \"exp\"\n",
    "        time_decay_weights[f\"{method}_time_decay_{time_decay}\"] = decay_w\n",
    "        \n",
    "# for k, v in time_decay_weights.items():\n",
    "#     weighting_schemes[k] = v\n",
    "\n",
    "weighting_schemes.keys()"
   ]
  },
  {
   "cell_type": "code",
   "execution_count": 31,
   "id": "5e8b52a4",
   "metadata": {},
   "outputs": [
    {
     "name": "stdout",
     "output_type": "stream",
     "text": [
      "Average uniqueness: 0.6538\n",
      "\n"
     ]
    }
   ],
   "source": [
    "random_state = 42\n",
    "min_w_leaf = 0.05\n",
    "print(f\"Average uniqueness: {avg_u:.4f}\\n\")\n",
    "rf = RandomForestClassifier(\n",
    "    criterion='entropy',\n",
    "    n_estimators=100,\n",
    "    random_state=random_state,\n",
    "    min_weight_fraction_leaf=min_w_leaf,\n",
    "    n_jobs=-1,  # Use all available cores\n",
    "    )\n",
    "\n",
    "clf0 = rf\n",
    "clf1 = clone(rf).set_params(class_weight='balanced_subsample')\n",
    "clf2 = clone(rf).set_params(max_samples=avg_u)\n",
    "clf3 = clone(rf).set_params(max_samples=avg_u, class_weight='balanced_subsample')\n",
    "clfs = {k: v for k, v in zip(['standard', 'balanced_subsample', 'max_samples', 'combined'], [clf0, clf1, clf2, clf3])}"
   ]
  },
  {
   "cell_type": "code",
   "execution_count": null,
   "id": "c5665489",
   "metadata": {},
   "outputs": [
    {
     "name": "stdout",
     "output_type": "stream",
     "text": [
      "RandomForestClassifier Weighting Schemes\n",
      "unweighted max_samples model achieved the best f1 score of 0.786447.\n",
      "uniqueness max_samples model achieved the best f1 score of 0.795146.\n",
      "return combined model achieved the best f1 score of 0.000000.\n",
      "\n",
      "                           unweighted         uniqueness             return\n",
      "standard            0.786447 ± 0.0125  0.795146 ± 0.0106  0.000000 ± 0.0000\n",
      "balanced_subsample  0.596072 ± 0.0481  0.726919 ± 0.0162  0.000000 ± 0.0000\n",
      "max_samples         0.786447 ± 0.0125  0.795146 ± 0.0106  0.000000 ± 0.0000\n",
      "combined            0.597667 ± 0.0513  0.729129 ± 0.0256  0.000000 ± 0.0000\n",
      "\n",
      "Selected Best Classifier (max_samples): RandomForestClassifier(criterion='entropy', max_samples=0.6537650779739149,\n",
      "                       min_weight_fraction_leaf=0.05, n_jobs=-1,\n",
      "                       random_state=42)\n"
     ]
    }
   ],
   "source": [
    "cv_gen = PurgedKFold(n_splits, cont_train.t1, pct_embargo)\n",
    "cv_scores_d = {k: {} for k in clfs.keys()}\n",
    "print(rf.__class__.__name__, \"Weighting Schemes\")\n",
    "all_clf_scores_df = pd.DataFrame(dtype=pd.StringDtype())\n",
    "best_models = []\n",
    "\n",
    "for scheme, sample_weights in weighting_schemes.items():\n",
    "    best_score, best_model = None, None\n",
    "    for param, clf in clfs.items():\n",
    "        w = sample_weights.values\n",
    "        cv_scores = ml_cross_val_score(\n",
    "            clf, X_train, y_train, cv_gen, \n",
    "            sample_weight_train=w, \n",
    "            sample_weight_score=w,\n",
    "            scoring=\"f1\",\n",
    "        )\n",
    "        score = cv_scores.mean()\n",
    "        cv_scores_d[param][scheme] = score\n",
    "        best_score = max(best_score, score) if best_score is not None else score\n",
    "        if score == best_score:\n",
    "            best_model = param\n",
    "        all_clf_scores_df.loc[param, scheme] = f\"{cv_scores.mean():.6f} ± {cv_scores.std():.4f}\"\n",
    "    best_models.append(best_model)\n",
    "    print(f\"{scheme} {best_model} model achieved the best f1 score of {best_score:.6f}\")\n",
    "\n",
    "print()\n",
    "pprint(all_clf_scores_df, sort_dicts=False)\n",
    "best_model = max(best_models, key=best_models.count)\n",
    "best_clf = clone(clfs[best_model])\n",
    "print(f\"\\nSelected Best Classifier ({best_model}): {best_clf}\")"
   ]
  },
  {
   "cell_type": "code",
   "execution_count": null,
   "id": "afd491f1",
   "metadata": {},
   "outputs": [
    {
     "name": "stdout",
     "output_type": "stream",
     "text": [
      "                   unweighted       uniqueness           return\n",
      "accuracy       0.6482 ± 0.017   0.6601 ± 0.015   0.6534 ± 0.010\n",
      "pwa            0.6489 ± 0.018   0.6604 ± 0.016   0.6645 ± 0.009\n",
      "neg_log_loss  -0.6489 ± 0.011  -0.6417 ± 0.011  -0.6419 ± 0.005\n",
      "precision      0.6482 ± 0.017   0.6601 ± 0.015   0.0000 ± 0.000\n",
      "recall         1.0000 ± 0.000   1.0000 ± 0.000   0.0000 ± 0.000\n",
      "f1             0.7864 ± 0.013   0.7951 ± 0.011   0.0000 ± 0.000\n",
      "\n",
      "uniqueness model achieved the best f1 score of 0.795146.\n",
      "\n"
     ]
    }
   ],
   "source": [
    "all_cv_scores_d = {}\n",
    "all_cms = {}\n",
    "best_score, best_model = None, None\n",
    "all_cv_scores_df = pd.DataFrame(dtype=pd.StringDtype())\n",
    "\n",
    "for scheme, sample_weights in weighting_schemes.items():\n",
    "    w = sample_weights.values\n",
    "    cv_scores, cv_scores_df, cms = ml_cross_val_scores_all(\n",
    "        best_clf, X_train, y_train, cv_gen, \n",
    "        sample_weight_train=w, \n",
    "        sample_weight_score=w,\n",
    "    )\n",
    "    score = cv_scores['f1'].mean()\n",
    "    all_cv_scores_d[scheme] = cv_scores\n",
    "    all_cms[scheme] = cms\n",
    "    best_score = max(best_score, score) if best_score is not None else score\n",
    "    if score == best_score:\n",
    "        best_model = scheme\n",
    "    for idx, row in cv_scores_df.iterrows():\n",
    "        all_cv_scores_df.loc[idx, scheme] = f\"{row['mean']:.4f} ± {row['std']:.3f}\"\n",
    "pprint(all_cv_scores_df)\n",
    "print(f\"\\n{best_model} model achieved the best f1 score of {best_score:.6f}\\n\")"
   ]
  },
  {
   "cell_type": "code",
   "execution_count": 34,
   "id": "108fd6e0",
   "metadata": {},
   "outputs": [
    {
     "name": "stdout",
     "output_type": "stream",
     "text": [
      "{'unweighted': [{'fold': 1, 'TN': 0.0, 'FP': 370.0, 'FN': 0.0, 'TP': 786.0},\n",
      "                {'fold': 2, 'TN': 0.0, 'FP': 424.0, 'FN': 0.0, 'TP': 732.0},\n",
      "                {'fold': 3, 'TN': 0.0, 'FP': 414.0, 'FN': 0.0, 'TP': 742.0},\n",
      "                {'fold': 4, 'TN': 0.0, 'FP': 387.0, 'FN': 0.0, 'TP': 768.0},\n",
      "                {'fold': 5, 'TN': 0.0, 'FP': 409.0, 'FN': 0.0, 'TP': 746.0},\n",
      "                {'fold': 6, 'TN': 0.0, 'FP': 427.0, 'FN': 0.0, 'TP': 728.0},\n",
      "                {'fold': 7, 'TN': 0.0, 'FP': 410.0, 'FN': 0.0, 'TP': 745.0},\n",
      "                {'fold': 8, 'TN': 0.0, 'FP': 411.0, 'FN': 0.0, 'TP': 744.0},\n",
      "                {'fold': 9, 'TN': 0.0, 'FP': 380.0, 'FN': 0.0, 'TP': 775.0},\n",
      "                {'fold': 10, 'TN': 0.0, 'FP': 432.0, 'FN': 0.0, 'TP': 723.0}],\n",
      " 'uniqueness': [{'fold': 1, 'TN': 0.0, 'FP': 229.55, 'FN': 0.0, 'TP': 505.32},\n",
      "                {'fold': 2, 'TN': 0.0, 'FP': 250.59, 'FN': 0.0, 'TP': 452.34},\n",
      "                {'fold': 3, 'TN': 0.0, 'FP': 248.73, 'FN': 0.0, 'TP': 483.54},\n",
      "                {'fold': 4, 'TN': 0.0, 'FP': 266.23, 'FN': 0.0, 'TP': 563.22},\n",
      "                {'fold': 5, 'TN': 0.0, 'FP': 272.44, 'FN': 0.0, 'TP': 518.11},\n",
      "                {'fold': 6, 'TN': 0.0, 'FP': 245.15, 'FN': 0.0, 'TP': 440.07},\n",
      "                {'fold': 7, 'TN': 0.0, 'FP': 260.61, 'FN': 0.0, 'TP': 482.67},\n",
      "                {'fold': 8, 'TN': 0.0, 'FP': 268.84, 'FN': 0.0, 'TP': 514.16},\n",
      "                {'fold': 9, 'TN': 0.0, 'FP': 280.66, 'FN': 0.0, 'TP': 582.69},\n",
      "                {'fold': 10, 'TN': 0.0, 'FP': 239.6, 'FN': 0.0, 'TP': 448.42}],\n",
      " 'return': [{'fold': 1, 'TN': 769.43, 'FP': 0.0, 'FN': 435.82, 'TP': 0.0},\n",
      "            {'fold': 2, 'TN': 818.72, 'FP': 0.0, 'FN': 397.93, 'TP': 0.0},\n",
      "            {'fold': 3, 'TN': 730.17, 'FP': 0.0, 'FN': 381.43, 'TP': 0.0},\n",
      "            {'fold': 4, 'TN': 637.05, 'FP': 0.0, 'FN': 320.1, 'TP': 0.0},\n",
      "            {'fold': 5, 'TN': 725.5, 'FP': 0.0, 'FN': 391.37, 'TP': 0.0},\n",
      "            {'fold': 6, 'TN': 933.24, 'FP': 0.0, 'FN': 496.31, 'TP': 0.0},\n",
      "            {'fold': 7, 'TN': 781.54, 'FP': 0.0, 'FN': 423.09, 'TP': 0.0},\n",
      "            {'fold': 8, 'TN': 718.08, 'FP': 0.0, 'FN': 375.45, 'TP': 0.0},\n",
      "            {'fold': 9, 'TN': 630.36, 'FP': 0.0, 'FN': 356.03, 'TP': 0.0},\n",
      "            {'fold': 10, 'TN': 804.64, 'FP': 0.0, 'FN': 426.74, 'TP': 0.0}]}\n"
     ]
    }
   ],
   "source": [
    "pprint(all_cms, sort_dicts=False)"
   ]
  },
  {
   "cell_type": "markdown",
   "id": "5bb5b1bc",
   "metadata": {},
   "source": [
    "#### Sequential Bootstrap"
   ]
  },
  {
   "cell_type": "code",
   "execution_count": 23,
   "id": "379210a5",
   "metadata": {},
   "outputs": [],
   "source": [
    "from sklearn.tree import DecisionTreeClassifier\n",
    "\n",
    "\n",
    "min_w_leaf = 0.05\n",
    "\n",
    "# More straightforward and gives you better control\n",
    "base_tree = DecisionTreeClassifier(\n",
    "    criterion='entropy',\n",
    "    class_weight='balanced',\n",
    "    \n",
    "    # Pre-pruning parameters\n",
    "    min_weight_fraction_leaf=min_w_leaf,\n",
    "    # max_depth=10,\n",
    "    # min_samples_split=20,\n",
    "    # min_samples_leaf=10,\n",
    ")\n",
    "base_rf = RandomForestClassifier(\n",
    "    criterion='entropy',\n",
    "    n_estimators=1,\n",
    "    bootstrap=False,\n",
    "    class_weight='balanced_subsample',\n",
    "    min_weight_fraction_leaf=min_w_leaf,\n",
    "    )"
   ]
  },
  {
   "cell_type": "code",
   "execution_count": 24,
   "id": "4e97bc4c",
   "metadata": {},
   "outputs": [
    {
     "data": {
      "application/vnd.microsoft.datawrangler.viewer.v0+json": {
       "columns": [
        {
         "name": "bin",
         "rawType": "int8",
         "type": "integer"
        },
        {
         "name": "count",
         "rawType": "object",
         "type": "string"
        },
        {
         "name": "proportion",
         "rawType": "float64",
         "type": "float"
        }
       ],
       "ref": "d2ea22ab-cc96-4d10-941f-32566801d2dc",
       "rows": [
        [
         "1",
         "7,489",
         "0.6482298969964512"
        ],
        [
         "0",
         "4,064",
         "0.3517701030035489"
        ]
       ],
       "shape": {
        "columns": 2,
        "rows": 2
       }
      },
      "text/html": [
       "<div>\n",
       "<style scoped>\n",
       "    .dataframe tbody tr th:only-of-type {\n",
       "        vertical-align: middle;\n",
       "    }\n",
       "\n",
       "    .dataframe tbody tr th {\n",
       "        vertical-align: top;\n",
       "    }\n",
       "\n",
       "    .dataframe thead th {\n",
       "        text-align: right;\n",
       "    }\n",
       "</style>\n",
       "<table border=\"1\" class=\"dataframe\">\n",
       "  <thead>\n",
       "    <tr style=\"text-align: right;\">\n",
       "      <th></th>\n",
       "      <th>count</th>\n",
       "      <th>proportion</th>\n",
       "    </tr>\n",
       "    <tr>\n",
       "      <th>bin</th>\n",
       "      <th></th>\n",
       "      <th></th>\n",
       "    </tr>\n",
       "  </thead>\n",
       "  <tbody>\n",
       "    <tr>\n",
       "      <th>1</th>\n",
       "      <td>7,489</td>\n",
       "      <td>0.64823</td>\n",
       "    </tr>\n",
       "    <tr>\n",
       "      <th>0</th>\n",
       "      <td>4,064</td>\n",
       "      <td>0.35177</td>\n",
       "    </tr>\n",
       "  </tbody>\n",
       "</table>\n",
       "</div>"
      ],
      "text/plain": [
       "     count  proportion\n",
       "bin                   \n",
       "1    7,489     0.64823\n",
       "0    4,064     0.35177"
      ]
     },
     "execution_count": 24,
     "metadata": {},
     "output_type": "execute_result"
    }
   ],
   "source": [
    "value_counts_data(cont_train.bin)"
   ]
  },
  {
   "cell_type": "code",
   "execution_count": 25,
   "id": "76f6fb62",
   "metadata": {},
   "outputs": [],
   "source": [
    "from afml.sampling.optimized_sb_bagging import SequentiallyBootstrappedBaggingClassifier\n",
    "\n",
    "\n",
    "t = slice(0, None)\n",
    "idx = y_train.index[t]\n",
    "t1_train = cont_train.loc[idx, 't1']\n",
    "w_train = cont_train.loc[idx, \"tW\"]\n",
    "cv_gen = PurgedKFold(t1=t1_train, pct_embargo=0.01)\n",
    "\n",
    "seq_rf = SequentiallyBootstrappedBaggingClassifier(\n",
    "    samples_info_sets=t1_train,\n",
    "    price_bars_index=bb_df.index,\n",
    "    estimator=base_tree,\n",
    "    n_estimators=50,\n",
    "    oob_score=True,\n",
    "    max_samples=avg_u,\n",
    "    n_jobs=3,\n",
    "    random_state=42,\n",
    "    verbose=0,\n",
    ")\n",
    "# seq_rf.fit(\n",
    "#     X_train.iloc[t, :],\n",
    "#     y_train.iloc[t],\n",
    "#     sample_weight=w_train.values,\n",
    "# )\n",
    "# print(f\"Out-of-Bag Score: {seq_rf.oob_score_:.4f}\")"
   ]
  },
  {
   "cell_type": "code",
   "execution_count": 26,
   "id": "4590e5ff",
   "metadata": {},
   "outputs": [
    {
     "ename": "TypeError",
     "evalue": "expecting {i8*, i8*, i64, i64, i32*, [1 x i64], [1 x i64]} but got {i8*, i8*, i64, i64, i64*, [1 x i64], [1 x i64]}",
     "output_type": "error",
     "traceback": [
      "\u001b[1;31m---------------------------------------------------------------------------\u001b[0m",
      "\u001b[1;31mTypeError\u001b[0m                                 Traceback (most recent call last)",
      "Cell \u001b[1;32mIn[26], line 1\u001b[0m\n\u001b[1;32m----> 1\u001b[0m all_scores, all_scores_df \u001b[38;5;241m=\u001b[39m \u001b[43mml_cross_val_scores_all\u001b[49m\u001b[43m(\u001b[49m\n\u001b[0;32m      2\u001b[0m \u001b[43m    \u001b[49m\u001b[43mclassifier\u001b[49m\u001b[38;5;241;43m=\u001b[39;49m\u001b[43mseq_rf\u001b[49m\u001b[43m,\u001b[49m\u001b[43m \u001b[49m\n\u001b[0;32m      3\u001b[0m \u001b[43m    \u001b[49m\u001b[43mX\u001b[49m\u001b[38;5;241;43m=\u001b[39;49m\u001b[43mX_train\u001b[49m\u001b[38;5;241;43m.\u001b[39;49m\u001b[43miloc\u001b[49m\u001b[43m[\u001b[49m\u001b[43mt\u001b[49m\u001b[43m,\u001b[49m\u001b[43m \u001b[49m\u001b[43m:\u001b[49m\u001b[43m]\u001b[49m\u001b[43m,\u001b[49m\n\u001b[0;32m      4\u001b[0m \u001b[43m    \u001b[49m\u001b[43my\u001b[49m\u001b[38;5;241;43m=\u001b[39;49m\u001b[43my_train\u001b[49m\u001b[38;5;241;43m.\u001b[39;49m\u001b[43miloc\u001b[49m\u001b[43m[\u001b[49m\u001b[43mt\u001b[49m\u001b[43m]\u001b[49m\u001b[43m,\u001b[49m\n\u001b[0;32m      5\u001b[0m \u001b[43m    \u001b[49m\u001b[43mcv_gen\u001b[49m\u001b[38;5;241;43m=\u001b[39;49m\u001b[43mcv_gen\u001b[49m\u001b[43m,\u001b[49m\n\u001b[0;32m      6\u001b[0m \u001b[43m    \u001b[49m\u001b[43msample_weight_train\u001b[49m\u001b[38;5;241;43m=\u001b[39;49m\u001b[43mw_train\u001b[49m\u001b[43m,\u001b[49m\n\u001b[0;32m      7\u001b[0m \u001b[43m    \u001b[49m\u001b[43msample_weight_score\u001b[49m\u001b[38;5;241;43m=\u001b[39;49m\u001b[43mw_train\u001b[49m\u001b[43m,\u001b[49m\n\u001b[0;32m      8\u001b[0m \u001b[43m    \u001b[49m\u001b[43m)\u001b[49m\n\u001b[0;32m      9\u001b[0m all_scores_df\u001b[38;5;241m.\u001b[39mround(\u001b[38;5;241m4\u001b[39m)\n",
      "File \u001b[1;32mc:\\Users\\JoeN\\Documents\\GitHub\\Machine-Learning-Blueprint\\notebooks\\..\\afml\\cross_validation\\cross_validation.py:346\u001b[0m, in \u001b[0;36mml_cross_val_scores_all\u001b[1;34m(classifier, X, y, cv_gen, sample_weight_train, sample_weight_score)\u001b[0m\n\u001b[0;32m    342\u001b[0m \u001b[38;5;28;01mif\u001b[39;00m seq_bootstrap:\n\u001b[0;32m    343\u001b[0m     classifier \u001b[38;5;241m=\u001b[39m clone(classifier)\u001b[38;5;241m.\u001b[39mset_params(\n\u001b[0;32m    344\u001b[0m         samples_info_sets\u001b[38;5;241m=\u001b[39mt1\u001b[38;5;241m.\u001b[39miloc[train]\n\u001b[0;32m    345\u001b[0m     )  \u001b[38;5;66;03m# Create new instance\u001b[39;00m\n\u001b[1;32m--> 346\u001b[0m fit \u001b[38;5;241m=\u001b[39m \u001b[43mclassifier\u001b[49m\u001b[38;5;241;43m.\u001b[39;49m\u001b[43mfit\u001b[49m\u001b[43m(\u001b[49m\n\u001b[0;32m    347\u001b[0m \u001b[43m    \u001b[49m\u001b[43mX\u001b[49m\u001b[38;5;241;43m=\u001b[39;49m\u001b[43mX\u001b[49m\u001b[38;5;241;43m.\u001b[39;49m\u001b[43miloc\u001b[49m\u001b[43m[\u001b[49m\u001b[43mtrain\u001b[49m\u001b[43m,\u001b[49m\u001b[43m \u001b[49m\u001b[43m:\u001b[49m\u001b[43m]\u001b[49m\u001b[43m,\u001b[49m\n\u001b[0;32m    348\u001b[0m \u001b[43m    \u001b[49m\u001b[43my\u001b[49m\u001b[38;5;241;43m=\u001b[39;49m\u001b[43my\u001b[49m\u001b[38;5;241;43m.\u001b[39;49m\u001b[43miloc\u001b[49m\u001b[43m[\u001b[49m\u001b[43mtrain\u001b[49m\u001b[43m]\u001b[49m\u001b[43m,\u001b[49m\n\u001b[0;32m    349\u001b[0m \u001b[43m    \u001b[49m\u001b[43msample_weight\u001b[49m\u001b[38;5;241;43m=\u001b[39;49m\u001b[43msample_weight_train\u001b[49m\u001b[43m[\u001b[49m\u001b[43mtrain\u001b[49m\u001b[43m]\u001b[49m\u001b[43m,\u001b[49m\n\u001b[0;32m    350\u001b[0m \u001b[43m\u001b[49m\u001b[43m)\u001b[49m\n\u001b[0;32m    351\u001b[0m prob \u001b[38;5;241m=\u001b[39m fit\u001b[38;5;241m.\u001b[39mpredict_proba(X\u001b[38;5;241m.\u001b[39miloc[test, :])\n\u001b[0;32m    352\u001b[0m pred \u001b[38;5;241m=\u001b[39m fit\u001b[38;5;241m.\u001b[39mpredict(X\u001b[38;5;241m.\u001b[39miloc[test, :])\n",
      "File \u001b[1;32mc:\\Users\\JoeN\\Documents\\GitHub\\Machine-Learning-Blueprint\\notebooks\\..\\afml\\sampling\\optimized_sb_bagging.py:212\u001b[0m, in \u001b[0;36mSequentiallyBootstrappedBaseBagging.fit\u001b[1;34m(self, X, y, sample_weight)\u001b[0m\n\u001b[0;32m    191\u001b[0m \u001b[38;5;28;01mdef\u001b[39;00m\u001b[38;5;250m \u001b[39m\u001b[38;5;21mfit\u001b[39m(\u001b[38;5;28mself\u001b[39m, X, y, sample_weight\u001b[38;5;241m=\u001b[39m\u001b[38;5;28;01mNone\u001b[39;00m):\n\u001b[0;32m    192\u001b[0m \u001b[38;5;250m    \u001b[39m\u001b[38;5;124;03m\"\"\"\u001b[39;00m\n\u001b[0;32m    193\u001b[0m \u001b[38;5;124;03m    Build a Sequentially Bootstrapped Bagging ensemble of estimators from the training\u001b[39;00m\n\u001b[0;32m    194\u001b[0m \u001b[38;5;124;03m    set (X, y).\u001b[39;00m\n\u001b[1;32m   (...)\u001b[0m\n\u001b[0;32m    210\u001b[0m \u001b[38;5;124;03m    self : (object)\u001b[39;00m\n\u001b[0;32m    211\u001b[0m \u001b[38;5;124;03m    \"\"\"\u001b[39;00m\n\u001b[1;32m--> 212\u001b[0m     \u001b[38;5;28;01mreturn\u001b[39;00m \u001b[38;5;28;43mself\u001b[39;49m\u001b[38;5;241;43m.\u001b[39;49m\u001b[43m_fit\u001b[49m\u001b[43m(\u001b[49m\u001b[43mX\u001b[49m\u001b[43m,\u001b[49m\u001b[43m \u001b[49m\u001b[43my\u001b[49m\u001b[43m,\u001b[49m\u001b[43m \u001b[49m\u001b[38;5;28;43mself\u001b[39;49m\u001b[38;5;241;43m.\u001b[39;49m\u001b[43mmax_samples\u001b[49m\u001b[43m,\u001b[49m\u001b[43m \u001b[49m\u001b[43msample_weight\u001b[49m\u001b[38;5;241;43m=\u001b[39;49m\u001b[43msample_weight\u001b[49m\u001b[43m)\u001b[49m\n",
      "File \u001b[1;32mc:\\Users\\JoeN\\Documents\\GitHub\\Machine-Learning-Blueprint\\notebooks\\..\\afml\\sampling\\optimized_sb_bagging.py:470\u001b[0m, in \u001b[0;36mSequentiallyBootstrappedBaggingClassifier._fit\u001b[1;34m(self, X, y, max_samples, max_depth, sample_weight)\u001b[0m\n\u001b[0;32m    467\u001b[0m \u001b[38;5;28mself\u001b[39m\u001b[38;5;241m.\u001b[39mn_classes_ \u001b[38;5;241m=\u001b[39m \u001b[38;5;28mlen\u001b[39m(\u001b[38;5;28mself\u001b[39m\u001b[38;5;241m.\u001b[39mclasses_)\n\u001b[0;32m    469\u001b[0m \u001b[38;5;66;03m# Call parent _fit method\u001b[39;00m\n\u001b[1;32m--> 470\u001b[0m \u001b[38;5;28;01mreturn\u001b[39;00m \u001b[38;5;28;43msuper\u001b[39;49m\u001b[43m(\u001b[49m\u001b[43m)\u001b[49m\u001b[38;5;241;43m.\u001b[39;49m\u001b[43m_fit\u001b[49m\u001b[43m(\u001b[49m\u001b[43mX\u001b[49m\u001b[43m,\u001b[49m\u001b[43m \u001b[49m\u001b[43my\u001b[49m\u001b[43m,\u001b[49m\u001b[43m \u001b[49m\u001b[43mmax_samples\u001b[49m\u001b[43m,\u001b[49m\u001b[43m \u001b[49m\u001b[43mmax_depth\u001b[49m\u001b[43m,\u001b[49m\u001b[43m \u001b[49m\u001b[43msample_weight\u001b[49m\u001b[43m)\u001b[49m\n",
      "File \u001b[1;32mc:\\Users\\JoeN\\Documents\\GitHub\\Machine-Learning-Blueprint\\notebooks\\..\\afml\\sampling\\optimized_sb_bagging.py:283\u001b[0m, in \u001b[0;36mSequentiallyBootstrappedBaseBagging._fit\u001b[1;34m(self, X, y, max_samples, max_depth, sample_weight)\u001b[0m\n\u001b[0;32m    281\u001b[0m \u001b[38;5;66;03m# Compute indicator matrix for sequential bootstrap\u001b[39;00m\n\u001b[0;32m    282\u001b[0m \u001b[38;5;28;01mif\u001b[39;00m \u001b[38;5;28mself\u001b[39m\u001b[38;5;241m.\u001b[39mactive_indices_ \u001b[38;5;129;01mis\u001b[39;00m \u001b[38;5;28;01mNone\u001b[39;00m:\n\u001b[1;32m--> 283\u001b[0m     \u001b[38;5;28mself\u001b[39m\u001b[38;5;241m.\u001b[39mactive_indices_ \u001b[38;5;241m=\u001b[39m \u001b[43mprecompute_active_indices\u001b[49m\u001b[43m(\u001b[49m\n\u001b[0;32m    284\u001b[0m \u001b[43m        \u001b[49m\u001b[38;5;28;43mself\u001b[39;49m\u001b[38;5;241;43m.\u001b[39;49m\u001b[43msamples_info_sets\u001b[49m\u001b[43m,\u001b[49m\u001b[43m \u001b[49m\u001b[38;5;28;43mself\u001b[39;49m\u001b[38;5;241;43m.\u001b[39;49m\u001b[43mprice_bars_index\u001b[49m\n\u001b[0;32m    285\u001b[0m \u001b[43m    \u001b[49m\u001b[43m)\u001b[49m\n\u001b[0;32m    287\u001b[0m \u001b[38;5;66;03m# Check if indicator matrix matches data shape\u001b[39;00m\n\u001b[0;32m    288\u001b[0m \u001b[38;5;28;01mif\u001b[39;00m \u001b[38;5;28mlen\u001b[39m(\u001b[38;5;28mself\u001b[39m\u001b[38;5;241m.\u001b[39mactive_indices_) \u001b[38;5;241m!=\u001b[39m n_samples:\n",
      "File \u001b[1;32mc:\\Users\\JoeN\\Documents\\GitHub\\Machine-Learning-Blueprint\\notebooks\\..\\afml\\sampling\\optimized_bootstrapping.py:64\u001b[0m, in \u001b[0;36mprecompute_active_indices\u001b[1;34m(samples_info_sets, price_bars_index)\u001b[0m\n\u001b[0;32m     61\u001b[0m     price_bars_array \u001b[38;5;241m=\u001b[39m np\u001b[38;5;241m.\u001b[39masarray(price_bars_index, dtype\u001b[38;5;241m=\u001b[39m\u001b[38;5;124m\"\u001b[39m\u001b[38;5;124mint64\u001b[39m\u001b[38;5;124m\"\u001b[39m)\n\u001b[0;32m     63\u001b[0m \u001b[38;5;66;03m# Call nopython implementation\u001b[39;00m\n\u001b[1;32m---> 64\u001b[0m typed_dict \u001b[38;5;241m=\u001b[39m \u001b[43m_precompute_active_indices_nopython\u001b[49m\u001b[43m(\u001b[49m\u001b[43mt0_array\u001b[49m\u001b[43m,\u001b[49m\u001b[43m \u001b[49m\u001b[43mt1_array\u001b[49m\u001b[43m,\u001b[49m\u001b[43m \u001b[49m\u001b[43mprice_bars_array\u001b[49m\u001b[43m)\u001b[49m\n\u001b[0;32m     66\u001b[0m \u001b[38;5;66;03m# Convert numba typed dict to regular Python dict for compatibility\u001b[39;00m\n\u001b[0;32m     67\u001b[0m result \u001b[38;5;241m=\u001b[39m {\u001b[38;5;28mint\u001b[39m(k): v \u001b[38;5;28;01mfor\u001b[39;00m k, v \u001b[38;5;129;01min\u001b[39;00m typed_dict\u001b[38;5;241m.\u001b[39mitems()}\n",
      "File \u001b[1;32mc:\\Users\\JoeN\\miniforge3\\envs\\mlfinlab_env\\lib\\site-packages\\numba\\core\\dispatcher.py:443\u001b[0m, in \u001b[0;36m_DispatcherBase._compile_for_args\u001b[1;34m(self, *args, **kws)\u001b[0m\n\u001b[0;32m    441\u001b[0m             e\u001b[38;5;241m.\u001b[39mpatch_message(\u001b[38;5;124m'\u001b[39m\u001b[38;5;130;01m\\n\u001b[39;00m\u001b[38;5;124m'\u001b[39m\u001b[38;5;241m.\u001b[39mjoin((\u001b[38;5;28mstr\u001b[39m(e)\u001b[38;5;241m.\u001b[39mrstrip(), help_msg)))\n\u001b[0;32m    442\u001b[0m     \u001b[38;5;66;03m# ignore the FULL_TRACEBACKS config, this needs reporting!\u001b[39;00m\n\u001b[1;32m--> 443\u001b[0m     \u001b[38;5;28;01mraise\u001b[39;00m e\n\u001b[0;32m    444\u001b[0m \u001b[38;5;28;01mfinally\u001b[39;00m:\n\u001b[0;32m    445\u001b[0m     \u001b[38;5;28mself\u001b[39m\u001b[38;5;241m.\u001b[39m_types_active_call\u001b[38;5;241m.\u001b[39mclear()\n",
      "File \u001b[1;32mc:\\Users\\JoeN\\miniforge3\\envs\\mlfinlab_env\\lib\\site-packages\\numba\\core\\dispatcher.py:376\u001b[0m, in \u001b[0;36m_DispatcherBase._compile_for_args\u001b[1;34m(self, *args, **kws)\u001b[0m\n\u001b[0;32m    374\u001b[0m return_val \u001b[38;5;241m=\u001b[39m \u001b[38;5;28;01mNone\u001b[39;00m\n\u001b[0;32m    375\u001b[0m \u001b[38;5;28;01mtry\u001b[39;00m:\n\u001b[1;32m--> 376\u001b[0m     return_val \u001b[38;5;241m=\u001b[39m \u001b[38;5;28;43mself\u001b[39;49m\u001b[38;5;241;43m.\u001b[39;49m\u001b[43mcompile\u001b[49m\u001b[43m(\u001b[49m\u001b[38;5;28;43mtuple\u001b[39;49m\u001b[43m(\u001b[49m\u001b[43margtypes\u001b[49m\u001b[43m)\u001b[49m\u001b[43m)\u001b[49m\n\u001b[0;32m    377\u001b[0m \u001b[38;5;28;01mexcept\u001b[39;00m errors\u001b[38;5;241m.\u001b[39mForceLiteralArg \u001b[38;5;28;01mas\u001b[39;00m e:\n\u001b[0;32m    378\u001b[0m     \u001b[38;5;66;03m# Received request for compiler re-entry with the list of arguments\u001b[39;00m\n\u001b[0;32m    379\u001b[0m     \u001b[38;5;66;03m# indicated by e.requested_args.\u001b[39;00m\n\u001b[0;32m    380\u001b[0m     \u001b[38;5;66;03m# First, check if any of these args are already Literal-ized\u001b[39;00m\n\u001b[0;32m    381\u001b[0m     already_lit_pos \u001b[38;5;241m=\u001b[39m [i \u001b[38;5;28;01mfor\u001b[39;00m i \u001b[38;5;129;01min\u001b[39;00m e\u001b[38;5;241m.\u001b[39mrequested_args\n\u001b[0;32m    382\u001b[0m                        \u001b[38;5;28;01mif\u001b[39;00m \u001b[38;5;28misinstance\u001b[39m(args[i], types\u001b[38;5;241m.\u001b[39mLiteral)]\n",
      "File \u001b[1;32mc:\\Users\\JoeN\\miniforge3\\envs\\mlfinlab_env\\lib\\site-packages\\numba\\core\\dispatcher.py:904\u001b[0m, in \u001b[0;36mDispatcher.compile\u001b[1;34m(self, sig)\u001b[0m\n\u001b[0;32m    902\u001b[0m \u001b[38;5;28;01mwith\u001b[39;00m ev\u001b[38;5;241m.\u001b[39mtrigger_event(\u001b[38;5;124m\"\u001b[39m\u001b[38;5;124mnumba:compile\u001b[39m\u001b[38;5;124m\"\u001b[39m, data\u001b[38;5;241m=\u001b[39mev_details):\n\u001b[0;32m    903\u001b[0m     \u001b[38;5;28;01mtry\u001b[39;00m:\n\u001b[1;32m--> 904\u001b[0m         cres \u001b[38;5;241m=\u001b[39m \u001b[38;5;28;43mself\u001b[39;49m\u001b[38;5;241;43m.\u001b[39;49m\u001b[43m_compiler\u001b[49m\u001b[38;5;241;43m.\u001b[39;49m\u001b[43mcompile\u001b[49m\u001b[43m(\u001b[49m\u001b[43margs\u001b[49m\u001b[43m,\u001b[49m\u001b[43m \u001b[49m\u001b[43mreturn_type\u001b[49m\u001b[43m)\u001b[49m\n\u001b[0;32m    905\u001b[0m     \u001b[38;5;28;01mexcept\u001b[39;00m errors\u001b[38;5;241m.\u001b[39mForceLiteralArg \u001b[38;5;28;01mas\u001b[39;00m e:\n\u001b[0;32m    906\u001b[0m         \u001b[38;5;28;01mdef\u001b[39;00m\u001b[38;5;250m \u001b[39m\u001b[38;5;21mfolded\u001b[39m(args, kws):\n",
      "File \u001b[1;32mc:\\Users\\JoeN\\miniforge3\\envs\\mlfinlab_env\\lib\\site-packages\\numba\\core\\dispatcher.py:80\u001b[0m, in \u001b[0;36m_FunctionCompiler.compile\u001b[1;34m(self, args, return_type)\u001b[0m\n\u001b[0;32m     79\u001b[0m \u001b[38;5;28;01mdef\u001b[39;00m\u001b[38;5;250m \u001b[39m\u001b[38;5;21mcompile\u001b[39m(\u001b[38;5;28mself\u001b[39m, args, return_type):\n\u001b[1;32m---> 80\u001b[0m     status, retval \u001b[38;5;241m=\u001b[39m \u001b[38;5;28;43mself\u001b[39;49m\u001b[38;5;241;43m.\u001b[39;49m\u001b[43m_compile_cached\u001b[49m\u001b[43m(\u001b[49m\u001b[43margs\u001b[49m\u001b[43m,\u001b[49m\u001b[43m \u001b[49m\u001b[43mreturn_type\u001b[49m\u001b[43m)\u001b[49m\n\u001b[0;32m     81\u001b[0m     \u001b[38;5;28;01mif\u001b[39;00m status:\n\u001b[0;32m     82\u001b[0m         \u001b[38;5;28;01mreturn\u001b[39;00m retval\n",
      "File \u001b[1;32mc:\\Users\\JoeN\\miniforge3\\envs\\mlfinlab_env\\lib\\site-packages\\numba\\core\\dispatcher.py:94\u001b[0m, in \u001b[0;36m_FunctionCompiler._compile_cached\u001b[1;34m(self, args, return_type)\u001b[0m\n\u001b[0;32m     91\u001b[0m     \u001b[38;5;28;01mpass\u001b[39;00m\n\u001b[0;32m     93\u001b[0m \u001b[38;5;28;01mtry\u001b[39;00m:\n\u001b[1;32m---> 94\u001b[0m     retval \u001b[38;5;241m=\u001b[39m \u001b[38;5;28;43mself\u001b[39;49m\u001b[38;5;241;43m.\u001b[39;49m\u001b[43m_compile_core\u001b[49m\u001b[43m(\u001b[49m\u001b[43margs\u001b[49m\u001b[43m,\u001b[49m\u001b[43m \u001b[49m\u001b[43mreturn_type\u001b[49m\u001b[43m)\u001b[49m\n\u001b[0;32m     95\u001b[0m \u001b[38;5;28;01mexcept\u001b[39;00m errors\u001b[38;5;241m.\u001b[39mTypingError \u001b[38;5;28;01mas\u001b[39;00m e:\n\u001b[0;32m     96\u001b[0m     \u001b[38;5;28mself\u001b[39m\u001b[38;5;241m.\u001b[39m_failed_cache[key] \u001b[38;5;241m=\u001b[39m e\n",
      "File \u001b[1;32mc:\\Users\\JoeN\\miniforge3\\envs\\mlfinlab_env\\lib\\site-packages\\numba\\core\\dispatcher.py:107\u001b[0m, in \u001b[0;36m_FunctionCompiler._compile_core\u001b[1;34m(self, args, return_type)\u001b[0m\n\u001b[0;32m    104\u001b[0m flags \u001b[38;5;241m=\u001b[39m \u001b[38;5;28mself\u001b[39m\u001b[38;5;241m.\u001b[39m_customize_flags(flags)\n\u001b[0;32m    106\u001b[0m impl \u001b[38;5;241m=\u001b[39m \u001b[38;5;28mself\u001b[39m\u001b[38;5;241m.\u001b[39m_get_implementation(args, {})\n\u001b[1;32m--> 107\u001b[0m cres \u001b[38;5;241m=\u001b[39m \u001b[43mcompiler\u001b[49m\u001b[38;5;241;43m.\u001b[39;49m\u001b[43mcompile_extra\u001b[49m\u001b[43m(\u001b[49m\u001b[38;5;28;43mself\u001b[39;49m\u001b[38;5;241;43m.\u001b[39;49m\u001b[43mtargetdescr\u001b[49m\u001b[38;5;241;43m.\u001b[39;49m\u001b[43mtyping_context\u001b[49m\u001b[43m,\u001b[49m\n\u001b[0;32m    108\u001b[0m \u001b[43m                              \u001b[49m\u001b[38;5;28;43mself\u001b[39;49m\u001b[38;5;241;43m.\u001b[39;49m\u001b[43mtargetdescr\u001b[49m\u001b[38;5;241;43m.\u001b[39;49m\u001b[43mtarget_context\u001b[49m\u001b[43m,\u001b[49m\n\u001b[0;32m    109\u001b[0m \u001b[43m                              \u001b[49m\u001b[43mimpl\u001b[49m\u001b[43m,\u001b[49m\n\u001b[0;32m    110\u001b[0m \u001b[43m                              \u001b[49m\u001b[43margs\u001b[49m\u001b[38;5;241;43m=\u001b[39;49m\u001b[43margs\u001b[49m\u001b[43m,\u001b[49m\u001b[43m \u001b[49m\u001b[43mreturn_type\u001b[49m\u001b[38;5;241;43m=\u001b[39;49m\u001b[43mreturn_type\u001b[49m\u001b[43m,\u001b[49m\n\u001b[0;32m    111\u001b[0m \u001b[43m                              \u001b[49m\u001b[43mflags\u001b[49m\u001b[38;5;241;43m=\u001b[39;49m\u001b[43mflags\u001b[49m\u001b[43m,\u001b[49m\u001b[43m \u001b[49m\u001b[38;5;28;43mlocals\u001b[39;49m\u001b[38;5;241;43m=\u001b[39;49m\u001b[38;5;28;43mself\u001b[39;49m\u001b[38;5;241;43m.\u001b[39;49m\u001b[43mlocals\u001b[49m\u001b[43m,\u001b[49m\n\u001b[0;32m    112\u001b[0m \u001b[43m                              \u001b[49m\u001b[43mpipeline_class\u001b[49m\u001b[38;5;241;43m=\u001b[39;49m\u001b[38;5;28;43mself\u001b[39;49m\u001b[38;5;241;43m.\u001b[39;49m\u001b[43mpipeline_class\u001b[49m\u001b[43m)\u001b[49m\n\u001b[0;32m    113\u001b[0m \u001b[38;5;66;03m# Check typing error if object mode is used\u001b[39;00m\n\u001b[0;32m    114\u001b[0m \u001b[38;5;28;01mif\u001b[39;00m cres\u001b[38;5;241m.\u001b[39mtyping_error \u001b[38;5;129;01mis\u001b[39;00m \u001b[38;5;129;01mnot\u001b[39;00m \u001b[38;5;28;01mNone\u001b[39;00m \u001b[38;5;129;01mand\u001b[39;00m \u001b[38;5;129;01mnot\u001b[39;00m flags\u001b[38;5;241m.\u001b[39menable_pyobject:\n",
      "File \u001b[1;32mc:\\Users\\JoeN\\miniforge3\\envs\\mlfinlab_env\\lib\\site-packages\\numba\\core\\compiler.py:739\u001b[0m, in \u001b[0;36mcompile_extra\u001b[1;34m(typingctx, targetctx, func, args, return_type, flags, locals, library, pipeline_class)\u001b[0m\n\u001b[0;32m    715\u001b[0m \u001b[38;5;250m\u001b[39m\u001b[38;5;124;03m\"\"\"Compiler entry point\u001b[39;00m\n\u001b[0;32m    716\u001b[0m \n\u001b[0;32m    717\u001b[0m \u001b[38;5;124;03mParameter\u001b[39;00m\n\u001b[1;32m   (...)\u001b[0m\n\u001b[0;32m    735\u001b[0m \u001b[38;5;124;03m    compiler pipeline\u001b[39;00m\n\u001b[0;32m    736\u001b[0m \u001b[38;5;124;03m\"\"\"\u001b[39;00m\n\u001b[0;32m    737\u001b[0m pipeline \u001b[38;5;241m=\u001b[39m pipeline_class(typingctx, targetctx, library,\n\u001b[0;32m    738\u001b[0m                           args, return_type, flags, \u001b[38;5;28mlocals\u001b[39m)\n\u001b[1;32m--> 739\u001b[0m \u001b[38;5;28;01mreturn\u001b[39;00m \u001b[43mpipeline\u001b[49m\u001b[38;5;241;43m.\u001b[39;49m\u001b[43mcompile_extra\u001b[49m\u001b[43m(\u001b[49m\u001b[43mfunc\u001b[49m\u001b[43m)\u001b[49m\n",
      "File \u001b[1;32mc:\\Users\\JoeN\\miniforge3\\envs\\mlfinlab_env\\lib\\site-packages\\numba\\core\\compiler.py:439\u001b[0m, in \u001b[0;36mCompilerBase.compile_extra\u001b[1;34m(self, func)\u001b[0m\n\u001b[0;32m    437\u001b[0m \u001b[38;5;28mself\u001b[39m\u001b[38;5;241m.\u001b[39mstate\u001b[38;5;241m.\u001b[39mlifted \u001b[38;5;241m=\u001b[39m ()\n\u001b[0;32m    438\u001b[0m \u001b[38;5;28mself\u001b[39m\u001b[38;5;241m.\u001b[39mstate\u001b[38;5;241m.\u001b[39mlifted_from \u001b[38;5;241m=\u001b[39m \u001b[38;5;28;01mNone\u001b[39;00m\n\u001b[1;32m--> 439\u001b[0m \u001b[38;5;28;01mreturn\u001b[39;00m \u001b[38;5;28;43mself\u001b[39;49m\u001b[38;5;241;43m.\u001b[39;49m\u001b[43m_compile_bytecode\u001b[49m\u001b[43m(\u001b[49m\u001b[43m)\u001b[49m\n",
      "File \u001b[1;32mc:\\Users\\JoeN\\miniforge3\\envs\\mlfinlab_env\\lib\\site-packages\\numba\\core\\compiler.py:505\u001b[0m, in \u001b[0;36mCompilerBase._compile_bytecode\u001b[1;34m(self)\u001b[0m\n\u001b[0;32m    501\u001b[0m \u001b[38;5;250m\u001b[39m\u001b[38;5;124;03m\"\"\"\u001b[39;00m\n\u001b[0;32m    502\u001b[0m \u001b[38;5;124;03mPopulate and run pipeline for bytecode input\u001b[39;00m\n\u001b[0;32m    503\u001b[0m \u001b[38;5;124;03m\"\"\"\u001b[39;00m\n\u001b[0;32m    504\u001b[0m \u001b[38;5;28;01massert\u001b[39;00m \u001b[38;5;28mself\u001b[39m\u001b[38;5;241m.\u001b[39mstate\u001b[38;5;241m.\u001b[39mfunc_ir \u001b[38;5;129;01mis\u001b[39;00m \u001b[38;5;28;01mNone\u001b[39;00m\n\u001b[1;32m--> 505\u001b[0m \u001b[38;5;28;01mreturn\u001b[39;00m \u001b[38;5;28;43mself\u001b[39;49m\u001b[38;5;241;43m.\u001b[39;49m\u001b[43m_compile_core\u001b[49m\u001b[43m(\u001b[49m\u001b[43m)\u001b[49m\n",
      "File \u001b[1;32mc:\\Users\\JoeN\\miniforge3\\envs\\mlfinlab_env\\lib\\site-packages\\numba\\core\\compiler.py:481\u001b[0m, in \u001b[0;36mCompilerBase._compile_core\u001b[1;34m(self)\u001b[0m\n\u001b[0;32m    479\u001b[0m \u001b[38;5;28;01mexcept\u001b[39;00m \u001b[38;5;167;01mException\u001b[39;00m \u001b[38;5;28;01mas\u001b[39;00m e:\n\u001b[0;32m    480\u001b[0m     \u001b[38;5;28;01mif\u001b[39;00m \u001b[38;5;129;01mnot\u001b[39;00m \u001b[38;5;28misinstance\u001b[39m(e, errors\u001b[38;5;241m.\u001b[39mNumbaError):\n\u001b[1;32m--> 481\u001b[0m         \u001b[38;5;28;01mraise\u001b[39;00m e\n\u001b[0;32m    482\u001b[0m     \u001b[38;5;28mself\u001b[39m\u001b[38;5;241m.\u001b[39mstate\u001b[38;5;241m.\u001b[39mstatus\u001b[38;5;241m.\u001b[39mfail_reason \u001b[38;5;241m=\u001b[39m e\n\u001b[0;32m    483\u001b[0m     \u001b[38;5;28;01mif\u001b[39;00m is_final_pipeline:\n",
      "File \u001b[1;32mc:\\Users\\JoeN\\miniforge3\\envs\\mlfinlab_env\\lib\\site-packages\\numba\\core\\compiler.py:473\u001b[0m, in \u001b[0;36mCompilerBase._compile_core\u001b[1;34m(self)\u001b[0m\n\u001b[0;32m    471\u001b[0m res \u001b[38;5;241m=\u001b[39m \u001b[38;5;28;01mNone\u001b[39;00m\n\u001b[0;32m    472\u001b[0m \u001b[38;5;28;01mtry\u001b[39;00m:\n\u001b[1;32m--> 473\u001b[0m     \u001b[43mpm\u001b[49m\u001b[38;5;241;43m.\u001b[39;49m\u001b[43mrun\u001b[49m\u001b[43m(\u001b[49m\u001b[38;5;28;43mself\u001b[39;49m\u001b[38;5;241;43m.\u001b[39;49m\u001b[43mstate\u001b[49m\u001b[43m)\u001b[49m\n\u001b[0;32m    474\u001b[0m     \u001b[38;5;28;01mif\u001b[39;00m \u001b[38;5;28mself\u001b[39m\u001b[38;5;241m.\u001b[39mstate\u001b[38;5;241m.\u001b[39mcr \u001b[38;5;129;01mis\u001b[39;00m \u001b[38;5;129;01mnot\u001b[39;00m \u001b[38;5;28;01mNone\u001b[39;00m:\n\u001b[0;32m    475\u001b[0m         \u001b[38;5;28;01mbreak\u001b[39;00m\n",
      "File \u001b[1;32mc:\\Users\\JoeN\\miniforge3\\envs\\mlfinlab_env\\lib\\site-packages\\numba\\core\\compiler_machinery.py:363\u001b[0m, in \u001b[0;36mPassManager.run\u001b[1;34m(self, state)\u001b[0m\n\u001b[0;32m    361\u001b[0m \u001b[38;5;28;01mexcept\u001b[39;00m \u001b[38;5;167;01mException\u001b[39;00m \u001b[38;5;28;01mas\u001b[39;00m e:\n\u001b[0;32m    362\u001b[0m     \u001b[38;5;28;01mif\u001b[39;00m \u001b[38;5;129;01mnot\u001b[39;00m \u001b[38;5;28misinstance\u001b[39m(e, errors\u001b[38;5;241m.\u001b[39mNumbaError):\n\u001b[1;32m--> 363\u001b[0m         \u001b[38;5;28;01mraise\u001b[39;00m e\n\u001b[0;32m    364\u001b[0m     msg \u001b[38;5;241m=\u001b[39m \u001b[38;5;124m\"\u001b[39m\u001b[38;5;124mFailed in \u001b[39m\u001b[38;5;132;01m%s\u001b[39;00m\u001b[38;5;124m mode pipeline (step: \u001b[39m\u001b[38;5;132;01m%s\u001b[39;00m\u001b[38;5;124m)\u001b[39m\u001b[38;5;124m\"\u001b[39m \u001b[38;5;241m%\u001b[39m \\\n\u001b[0;32m    365\u001b[0m         (\u001b[38;5;28mself\u001b[39m\u001b[38;5;241m.\u001b[39mpipeline_name, pass_desc)\n\u001b[0;32m    366\u001b[0m     patched_exception \u001b[38;5;241m=\u001b[39m \u001b[38;5;28mself\u001b[39m\u001b[38;5;241m.\u001b[39m_patch_error(msg, e)\n",
      "File \u001b[1;32mc:\\Users\\JoeN\\miniforge3\\envs\\mlfinlab_env\\lib\\site-packages\\numba\\core\\compiler_machinery.py:356\u001b[0m, in \u001b[0;36mPassManager.run\u001b[1;34m(self, state)\u001b[0m\n\u001b[0;32m    354\u001b[0m pass_inst \u001b[38;5;241m=\u001b[39m _pass_registry\u001b[38;5;241m.\u001b[39mget(pss)\u001b[38;5;241m.\u001b[39mpass_inst\n\u001b[0;32m    355\u001b[0m \u001b[38;5;28;01mif\u001b[39;00m \u001b[38;5;28misinstance\u001b[39m(pass_inst, CompilerPass):\n\u001b[1;32m--> 356\u001b[0m     \u001b[38;5;28;43mself\u001b[39;49m\u001b[38;5;241;43m.\u001b[39;49m\u001b[43m_runPass\u001b[49m\u001b[43m(\u001b[49m\u001b[43midx\u001b[49m\u001b[43m,\u001b[49m\u001b[43m \u001b[49m\u001b[43mpass_inst\u001b[49m\u001b[43m,\u001b[49m\u001b[43m \u001b[49m\u001b[43mstate\u001b[49m\u001b[43m)\u001b[49m\n\u001b[0;32m    357\u001b[0m \u001b[38;5;28;01melse\u001b[39;00m:\n\u001b[0;32m    358\u001b[0m     \u001b[38;5;28;01mraise\u001b[39;00m \u001b[38;5;167;01mBaseException\u001b[39;00m(\u001b[38;5;124m\"\u001b[39m\u001b[38;5;124mLegacy pass in use\u001b[39m\u001b[38;5;124m\"\u001b[39m)\n",
      "File \u001b[1;32mc:\\Users\\JoeN\\miniforge3\\envs\\mlfinlab_env\\lib\\site-packages\\numba\\core\\compiler_lock.py:35\u001b[0m, in \u001b[0;36m_CompilerLock.__call__.<locals>._acquire_compile_lock\u001b[1;34m(*args, **kwargs)\u001b[0m\n\u001b[0;32m     32\u001b[0m \u001b[38;5;129m@functools\u001b[39m\u001b[38;5;241m.\u001b[39mwraps(func)\n\u001b[0;32m     33\u001b[0m \u001b[38;5;28;01mdef\u001b[39;00m\u001b[38;5;250m \u001b[39m\u001b[38;5;21m_acquire_compile_lock\u001b[39m(\u001b[38;5;241m*\u001b[39margs, \u001b[38;5;241m*\u001b[39m\u001b[38;5;241m*\u001b[39mkwargs):\n\u001b[0;32m     34\u001b[0m     \u001b[38;5;28;01mwith\u001b[39;00m \u001b[38;5;28mself\u001b[39m:\n\u001b[1;32m---> 35\u001b[0m         \u001b[38;5;28;01mreturn\u001b[39;00m func(\u001b[38;5;241m*\u001b[39margs, \u001b[38;5;241m*\u001b[39m\u001b[38;5;241m*\u001b[39mkwargs)\n",
      "File \u001b[1;32mc:\\Users\\JoeN\\miniforge3\\envs\\mlfinlab_env\\lib\\site-packages\\numba\\core\\compiler_machinery.py:311\u001b[0m, in \u001b[0;36mPassManager._runPass\u001b[1;34m(self, index, pss, internal_state)\u001b[0m\n\u001b[0;32m    309\u001b[0m     mutated \u001b[38;5;241m|\u001b[39m\u001b[38;5;241m=\u001b[39m check(pss\u001b[38;5;241m.\u001b[39mrun_initialization, internal_state)\n\u001b[0;32m    310\u001b[0m \u001b[38;5;28;01mwith\u001b[39;00m SimpleTimer() \u001b[38;5;28;01mas\u001b[39;00m pass_time:\n\u001b[1;32m--> 311\u001b[0m     mutated \u001b[38;5;241m|\u001b[39m\u001b[38;5;241m=\u001b[39m \u001b[43mcheck\u001b[49m\u001b[43m(\u001b[49m\u001b[43mpss\u001b[49m\u001b[38;5;241;43m.\u001b[39;49m\u001b[43mrun_pass\u001b[49m\u001b[43m,\u001b[49m\u001b[43m \u001b[49m\u001b[43minternal_state\u001b[49m\u001b[43m)\u001b[49m\n\u001b[0;32m    312\u001b[0m \u001b[38;5;28;01mwith\u001b[39;00m SimpleTimer() \u001b[38;5;28;01mas\u001b[39;00m finalize_time:\n\u001b[0;32m    313\u001b[0m     mutated \u001b[38;5;241m|\u001b[39m\u001b[38;5;241m=\u001b[39m check(pss\u001b[38;5;241m.\u001b[39mrun_finalizer, internal_state)\n",
      "File \u001b[1;32mc:\\Users\\JoeN\\miniforge3\\envs\\mlfinlab_env\\lib\\site-packages\\numba\\core\\compiler_machinery.py:272\u001b[0m, in \u001b[0;36mPassManager._runPass.<locals>.check\u001b[1;34m(func, compiler_state)\u001b[0m\n\u001b[0;32m    271\u001b[0m \u001b[38;5;28;01mdef\u001b[39;00m\u001b[38;5;250m \u001b[39m\u001b[38;5;21mcheck\u001b[39m(func, compiler_state):\n\u001b[1;32m--> 272\u001b[0m     mangled \u001b[38;5;241m=\u001b[39m \u001b[43mfunc\u001b[49m\u001b[43m(\u001b[49m\u001b[43mcompiler_state\u001b[49m\u001b[43m)\u001b[49m\n\u001b[0;32m    273\u001b[0m     \u001b[38;5;28;01mif\u001b[39;00m mangled \u001b[38;5;129;01mnot\u001b[39;00m \u001b[38;5;129;01min\u001b[39;00m (\u001b[38;5;28;01mTrue\u001b[39;00m, \u001b[38;5;28;01mFalse\u001b[39;00m):\n\u001b[0;32m    274\u001b[0m         msg \u001b[38;5;241m=\u001b[39m (\u001b[38;5;124m\"\u001b[39m\u001b[38;5;124mCompilerPass implementations should return True/False. \u001b[39m\u001b[38;5;124m\"\u001b[39m\n\u001b[0;32m    275\u001b[0m                \u001b[38;5;124m\"\u001b[39m\u001b[38;5;124mCompilerPass with name \u001b[39m\u001b[38;5;124m'\u001b[39m\u001b[38;5;132;01m%s\u001b[39;00m\u001b[38;5;124m'\u001b[39m\u001b[38;5;124m did not.\u001b[39m\u001b[38;5;124m\"\u001b[39m)\n",
      "File \u001b[1;32mc:\\Users\\JoeN\\miniforge3\\envs\\mlfinlab_env\\lib\\site-packages\\numba\\core\\typed_passes.py:112\u001b[0m, in \u001b[0;36mBaseTypeInference.run_pass\u001b[1;34m(self, state)\u001b[0m\n\u001b[0;32m    106\u001b[0m \u001b[38;5;250m\u001b[39m\u001b[38;5;124;03m\"\"\"\u001b[39;00m\n\u001b[0;32m    107\u001b[0m \u001b[38;5;124;03mType inference and legalization\u001b[39;00m\n\u001b[0;32m    108\u001b[0m \u001b[38;5;124;03m\"\"\"\u001b[39;00m\n\u001b[0;32m    109\u001b[0m \u001b[38;5;28;01mwith\u001b[39;00m fallback_context(state, \u001b[38;5;124m'\u001b[39m\u001b[38;5;124mFunction \u001b[39m\u001b[38;5;124m\"\u001b[39m\u001b[38;5;132;01m%s\u001b[39;00m\u001b[38;5;124m\"\u001b[39m\u001b[38;5;124m failed type inference\u001b[39m\u001b[38;5;124m'\u001b[39m\n\u001b[0;32m    110\u001b[0m                       \u001b[38;5;241m%\u001b[39m (state\u001b[38;5;241m.\u001b[39mfunc_id\u001b[38;5;241m.\u001b[39mfunc_name,)):\n\u001b[0;32m    111\u001b[0m     \u001b[38;5;66;03m# Type inference\u001b[39;00m\n\u001b[1;32m--> 112\u001b[0m     typemap, return_type, calltypes, errs \u001b[38;5;241m=\u001b[39m \u001b[43mtype_inference_stage\u001b[49m\u001b[43m(\u001b[49m\n\u001b[0;32m    113\u001b[0m \u001b[43m        \u001b[49m\u001b[43mstate\u001b[49m\u001b[38;5;241;43m.\u001b[39;49m\u001b[43mtypingctx\u001b[49m\u001b[43m,\u001b[49m\n\u001b[0;32m    114\u001b[0m \u001b[43m        \u001b[49m\u001b[43mstate\u001b[49m\u001b[38;5;241;43m.\u001b[39;49m\u001b[43mtargetctx\u001b[49m\u001b[43m,\u001b[49m\n\u001b[0;32m    115\u001b[0m \u001b[43m        \u001b[49m\u001b[43mstate\u001b[49m\u001b[38;5;241;43m.\u001b[39;49m\u001b[43mfunc_ir\u001b[49m\u001b[43m,\u001b[49m\n\u001b[0;32m    116\u001b[0m \u001b[43m        \u001b[49m\u001b[43mstate\u001b[49m\u001b[38;5;241;43m.\u001b[39;49m\u001b[43margs\u001b[49m\u001b[43m,\u001b[49m\n\u001b[0;32m    117\u001b[0m \u001b[43m        \u001b[49m\u001b[43mstate\u001b[49m\u001b[38;5;241;43m.\u001b[39;49m\u001b[43mreturn_type\u001b[49m\u001b[43m,\u001b[49m\n\u001b[0;32m    118\u001b[0m \u001b[43m        \u001b[49m\u001b[43mstate\u001b[49m\u001b[38;5;241;43m.\u001b[39;49m\u001b[43mlocals\u001b[49m\u001b[43m,\u001b[49m\n\u001b[0;32m    119\u001b[0m \u001b[43m        \u001b[49m\u001b[43mraise_errors\u001b[49m\u001b[38;5;241;43m=\u001b[39;49m\u001b[38;5;28;43mself\u001b[39;49m\u001b[38;5;241;43m.\u001b[39;49m\u001b[43m_raise_errors\u001b[49m\u001b[43m)\u001b[49m\n\u001b[0;32m    120\u001b[0m     state\u001b[38;5;241m.\u001b[39mtypemap \u001b[38;5;241m=\u001b[39m typemap\n\u001b[0;32m    121\u001b[0m     \u001b[38;5;66;03m# save errors in case of partial typing\u001b[39;00m\n",
      "File \u001b[1;32mc:\\Users\\JoeN\\miniforge3\\envs\\mlfinlab_env\\lib\\site-packages\\numba\\core\\typed_passes.py:93\u001b[0m, in \u001b[0;36mtype_inference_stage\u001b[1;34m(typingctx, targetctx, interp, args, return_type, locals, raise_errors)\u001b[0m\n\u001b[0;32m     91\u001b[0m     infer\u001b[38;5;241m.\u001b[39mbuild_constraint()\n\u001b[0;32m     92\u001b[0m     \u001b[38;5;66;03m# return errors in case of partial typing\u001b[39;00m\n\u001b[1;32m---> 93\u001b[0m     errs \u001b[38;5;241m=\u001b[39m \u001b[43minfer\u001b[49m\u001b[38;5;241;43m.\u001b[39;49m\u001b[43mpropagate\u001b[49m\u001b[43m(\u001b[49m\u001b[43mraise_errors\u001b[49m\u001b[38;5;241;43m=\u001b[39;49m\u001b[43mraise_errors\u001b[49m\u001b[43m)\u001b[49m\n\u001b[0;32m     94\u001b[0m     typemap, restype, calltypes \u001b[38;5;241m=\u001b[39m infer\u001b[38;5;241m.\u001b[39munify(raise_errors\u001b[38;5;241m=\u001b[39mraise_errors)\n\u001b[0;32m     96\u001b[0m \u001b[38;5;28;01mreturn\u001b[39;00m _TypingResults(typemap, restype, calltypes, errs)\n",
      "File \u001b[1;32mc:\\Users\\JoeN\\miniforge3\\envs\\mlfinlab_env\\lib\\site-packages\\numba\\core\\typeinfer.py:1066\u001b[0m, in \u001b[0;36mTypeInferer.propagate\u001b[1;34m(self, raise_errors)\u001b[0m\n\u001b[0;32m   1063\u001b[0m oldtoken \u001b[38;5;241m=\u001b[39m newtoken\n\u001b[0;32m   1064\u001b[0m \u001b[38;5;66;03m# Errors can appear when the type set is incomplete; only\u001b[39;00m\n\u001b[0;32m   1065\u001b[0m \u001b[38;5;66;03m# raise them when there is no progress anymore.\u001b[39;00m\n\u001b[1;32m-> 1066\u001b[0m errors \u001b[38;5;241m=\u001b[39m \u001b[38;5;28;43mself\u001b[39;49m\u001b[38;5;241;43m.\u001b[39;49m\u001b[43mconstraints\u001b[49m\u001b[38;5;241;43m.\u001b[39;49m\u001b[43mpropagate\u001b[49m\u001b[43m(\u001b[49m\u001b[38;5;28;43mself\u001b[39;49m\u001b[43m)\u001b[49m\n\u001b[0;32m   1067\u001b[0m newtoken \u001b[38;5;241m=\u001b[39m \u001b[38;5;28mself\u001b[39m\u001b[38;5;241m.\u001b[39mget_state_token()\n\u001b[0;32m   1068\u001b[0m \u001b[38;5;28mself\u001b[39m\u001b[38;5;241m.\u001b[39mdebug\u001b[38;5;241m.\u001b[39mpropagate_finished()\n",
      "File \u001b[1;32mc:\\Users\\JoeN\\miniforge3\\envs\\mlfinlab_env\\lib\\site-packages\\numba\\core\\typeinfer.py:160\u001b[0m, in \u001b[0;36mConstraintNetwork.propagate\u001b[1;34m(self, typeinfer)\u001b[0m\n\u001b[0;32m    157\u001b[0m \u001b[38;5;28;01mwith\u001b[39;00m typeinfer\u001b[38;5;241m.\u001b[39mwarnings\u001b[38;5;241m.\u001b[39mcatch_warnings(filename\u001b[38;5;241m=\u001b[39mloc\u001b[38;5;241m.\u001b[39mfilename,\n\u001b[0;32m    158\u001b[0m                                        lineno\u001b[38;5;241m=\u001b[39mloc\u001b[38;5;241m.\u001b[39mline):\n\u001b[0;32m    159\u001b[0m     \u001b[38;5;28;01mtry\u001b[39;00m:\n\u001b[1;32m--> 160\u001b[0m         \u001b[43mconstraint\u001b[49m\u001b[43m(\u001b[49m\u001b[43mtypeinfer\u001b[49m\u001b[43m)\u001b[49m\n\u001b[0;32m    161\u001b[0m     \u001b[38;5;28;01mexcept\u001b[39;00m ForceLiteralArg \u001b[38;5;28;01mas\u001b[39;00m e:\n\u001b[0;32m    162\u001b[0m         errors\u001b[38;5;241m.\u001b[39mappend(e)\n",
      "File \u001b[1;32mc:\\Users\\JoeN\\miniforge3\\envs\\mlfinlab_env\\lib\\site-packages\\numba\\core\\typeinfer.py:774\u001b[0m, in \u001b[0;36mSetItemConstraint.__call__\u001b[1;34m(self, typeinfer)\u001b[0m\n\u001b[0;32m    771\u001b[0m idxty \u001b[38;5;241m=\u001b[39m typevars[\u001b[38;5;28mself\u001b[39m\u001b[38;5;241m.\u001b[39mindex\u001b[38;5;241m.\u001b[39mname]\u001b[38;5;241m.\u001b[39mgetone()\n\u001b[0;32m    772\u001b[0m valty \u001b[38;5;241m=\u001b[39m typevars[\u001b[38;5;28mself\u001b[39m\u001b[38;5;241m.\u001b[39mvalue\u001b[38;5;241m.\u001b[39mname]\u001b[38;5;241m.\u001b[39mgetone()\n\u001b[1;32m--> 774\u001b[0m sig \u001b[38;5;241m=\u001b[39m \u001b[43mtypeinfer\u001b[49m\u001b[38;5;241;43m.\u001b[39;49m\u001b[43mcontext\u001b[49m\u001b[38;5;241;43m.\u001b[39;49m\u001b[43mresolve_setitem\u001b[49m\u001b[43m(\u001b[49m\u001b[43mtargetty\u001b[49m\u001b[43m,\u001b[49m\u001b[43m \u001b[49m\u001b[43midxty\u001b[49m\u001b[43m,\u001b[49m\u001b[43m \u001b[49m\u001b[43mvalty\u001b[49m\u001b[43m)\u001b[49m\n\u001b[0;32m    775\u001b[0m \u001b[38;5;28;01mif\u001b[39;00m sig \u001b[38;5;129;01mis\u001b[39;00m \u001b[38;5;28;01mNone\u001b[39;00m:\n\u001b[0;32m    776\u001b[0m     \u001b[38;5;28;01mraise\u001b[39;00m TypingError(\u001b[38;5;124m\"\u001b[39m\u001b[38;5;124mCannot resolve setitem: \u001b[39m\u001b[38;5;132;01m%s\u001b[39;00m\u001b[38;5;124m[\u001b[39m\u001b[38;5;132;01m%s\u001b[39;00m\u001b[38;5;124m] = \u001b[39m\u001b[38;5;132;01m%s\u001b[39;00m\u001b[38;5;124m\"\u001b[39m \u001b[38;5;241m%\u001b[39m\n\u001b[0;32m    777\u001b[0m                       (targetty, idxty, valty), loc\u001b[38;5;241m=\u001b[39m\u001b[38;5;28mself\u001b[39m\u001b[38;5;241m.\u001b[39mloc)\n",
      "File \u001b[1;32mc:\\Users\\JoeN\\miniforge3\\envs\\mlfinlab_env\\lib\\site-packages\\numba\\core\\typing\\context.py:331\u001b[0m, in \u001b[0;36mBaseContext.resolve_setitem\u001b[1;34m(self, target, index, value)\u001b[0m\n\u001b[0;32m    329\u001b[0m \u001b[38;5;28;01massert\u001b[39;00m \u001b[38;5;28misinstance\u001b[39m(index, types\u001b[38;5;241m.\u001b[39mType), index\n\u001b[0;32m    330\u001b[0m fnty \u001b[38;5;241m=\u001b[39m \u001b[38;5;28mself\u001b[39m\u001b[38;5;241m.\u001b[39mresolve_value_type(operator\u001b[38;5;241m.\u001b[39msetitem)\n\u001b[1;32m--> 331\u001b[0m sig \u001b[38;5;241m=\u001b[39m \u001b[43mfnty\u001b[49m\u001b[38;5;241;43m.\u001b[39;49m\u001b[43mget_call_type\u001b[49m\u001b[43m(\u001b[49m\u001b[38;5;28;43mself\u001b[39;49m\u001b[43m,\u001b[49m\u001b[43m \u001b[49m\u001b[43m(\u001b[49m\u001b[43mtarget\u001b[49m\u001b[43m,\u001b[49m\u001b[43m \u001b[49m\u001b[43mindex\u001b[49m\u001b[43m,\u001b[49m\u001b[43m \u001b[49m\u001b[43mvalue\u001b[49m\u001b[43m)\u001b[49m\u001b[43m,\u001b[49m\u001b[43m \u001b[49m\u001b[43m{\u001b[49m\u001b[43m}\u001b[49m\u001b[43m)\u001b[49m\n\u001b[0;32m    332\u001b[0m \u001b[38;5;28;01mreturn\u001b[39;00m sig\n",
      "File \u001b[1;32mc:\\Users\\JoeN\\miniforge3\\envs\\mlfinlab_env\\lib\\site-packages\\numba\\core\\types\\functions.py:311\u001b[0m, in \u001b[0;36mBaseFunction.get_call_type\u001b[1;34m(self, context, args, kws)\u001b[0m\n\u001b[0;32m    309\u001b[0m \u001b[38;5;28;01mexcept\u001b[39;00m \u001b[38;5;167;01mException\u001b[39;00m \u001b[38;5;28;01mas\u001b[39;00m e:\n\u001b[0;32m    310\u001b[0m     \u001b[38;5;28;01mif\u001b[39;00m \u001b[38;5;129;01mnot\u001b[39;00m \u001b[38;5;28misinstance\u001b[39m(e, errors\u001b[38;5;241m.\u001b[39mNumbaError):\n\u001b[1;32m--> 311\u001b[0m         \u001b[38;5;28;01mraise\u001b[39;00m e\n\u001b[0;32m    312\u001b[0m     sig \u001b[38;5;241m=\u001b[39m \u001b[38;5;28;01mNone\u001b[39;00m\n\u001b[0;32m    313\u001b[0m     failures\u001b[38;5;241m.\u001b[39madd_error(temp, \u001b[38;5;28;01mFalse\u001b[39;00m, e, uselit)\n",
      "File \u001b[1;32mc:\\Users\\JoeN\\miniforge3\\envs\\mlfinlab_env\\lib\\site-packages\\numba\\core\\types\\functions.py:308\u001b[0m, in \u001b[0;36mBaseFunction.get_call_type\u001b[1;34m(self, context, args, kws)\u001b[0m\n\u001b[0;32m    305\u001b[0m         nolitargs \u001b[38;5;241m=\u001b[39m \u001b[38;5;28mtuple\u001b[39m([_unlit_non_poison(a) \u001b[38;5;28;01mfor\u001b[39;00m a \u001b[38;5;129;01min\u001b[39;00m args])\n\u001b[0;32m    306\u001b[0m         nolitkws \u001b[38;5;241m=\u001b[39m {k: _unlit_non_poison(v)\n\u001b[0;32m    307\u001b[0m                     \u001b[38;5;28;01mfor\u001b[39;00m k, v \u001b[38;5;129;01min\u001b[39;00m kws\u001b[38;5;241m.\u001b[39mitems()}\n\u001b[1;32m--> 308\u001b[0m         sig \u001b[38;5;241m=\u001b[39m \u001b[43mtemp\u001b[49m\u001b[38;5;241;43m.\u001b[39;49m\u001b[43mapply\u001b[49m\u001b[43m(\u001b[49m\u001b[43mnolitargs\u001b[49m\u001b[43m,\u001b[49m\u001b[43m \u001b[49m\u001b[43mnolitkws\u001b[49m\u001b[43m)\u001b[49m\n\u001b[0;32m    309\u001b[0m \u001b[38;5;28;01mexcept\u001b[39;00m \u001b[38;5;167;01mException\u001b[39;00m \u001b[38;5;28;01mas\u001b[39;00m e:\n\u001b[0;32m    310\u001b[0m     \u001b[38;5;28;01mif\u001b[39;00m \u001b[38;5;129;01mnot\u001b[39;00m \u001b[38;5;28misinstance\u001b[39m(e, errors\u001b[38;5;241m.\u001b[39mNumbaError):\n",
      "File \u001b[1;32mc:\\Users\\JoeN\\miniforge3\\envs\\mlfinlab_env\\lib\\site-packages\\numba\\core\\typing\\templates.py:358\u001b[0m, in \u001b[0;36mAbstractTemplate.apply\u001b[1;34m(self, args, kws)\u001b[0m\n\u001b[0;32m    356\u001b[0m \u001b[38;5;28;01mdef\u001b[39;00m\u001b[38;5;250m \u001b[39m\u001b[38;5;21mapply\u001b[39m(\u001b[38;5;28mself\u001b[39m, args, kws):\n\u001b[0;32m    357\u001b[0m     generic \u001b[38;5;241m=\u001b[39m \u001b[38;5;28mgetattr\u001b[39m(\u001b[38;5;28mself\u001b[39m, \u001b[38;5;124m\"\u001b[39m\u001b[38;5;124mgeneric\u001b[39m\u001b[38;5;124m\"\u001b[39m)\n\u001b[1;32m--> 358\u001b[0m     sig \u001b[38;5;241m=\u001b[39m \u001b[43mgeneric\u001b[49m\u001b[43m(\u001b[49m\u001b[43margs\u001b[49m\u001b[43m,\u001b[49m\u001b[43m \u001b[49m\u001b[43mkws\u001b[49m\u001b[43m)\u001b[49m\n\u001b[0;32m    359\u001b[0m     \u001b[38;5;66;03m# Enforce that *generic()* must return None or Signature\u001b[39;00m\n\u001b[0;32m    360\u001b[0m     \u001b[38;5;28;01mif\u001b[39;00m sig \u001b[38;5;129;01mis\u001b[39;00m \u001b[38;5;129;01mnot\u001b[39;00m \u001b[38;5;28;01mNone\u001b[39;00m:\n",
      "File \u001b[1;32mc:\\Users\\JoeN\\miniforge3\\envs\\mlfinlab_env\\lib\\site-packages\\numba\\core\\typing\\templates.py:621\u001b[0m, in \u001b[0;36m_OverloadFunctionTemplate.generic\u001b[1;34m(self, args, kws)\u001b[0m\n\u001b[0;32m    615\u001b[0m \u001b[38;5;250m\u001b[39m\u001b[38;5;124;03m\"\"\"\u001b[39;00m\n\u001b[0;32m    616\u001b[0m \u001b[38;5;124;03mType the overloaded function by compiling the appropriate\u001b[39;00m\n\u001b[0;32m    617\u001b[0m \u001b[38;5;124;03mimplementation for the given args.\u001b[39;00m\n\u001b[0;32m    618\u001b[0m \u001b[38;5;124;03m\"\"\"\u001b[39;00m\n\u001b[0;32m    619\u001b[0m \u001b[38;5;28;01mfrom\u001b[39;00m\u001b[38;5;250m \u001b[39m\u001b[38;5;21;01mnumba\u001b[39;00m\u001b[38;5;21;01m.\u001b[39;00m\u001b[38;5;21;01mcore\u001b[39;00m\u001b[38;5;21;01m.\u001b[39;00m\u001b[38;5;21;01mtyped_passes\u001b[39;00m\u001b[38;5;250m \u001b[39m\u001b[38;5;28;01mimport\u001b[39;00m PreLowerStripPhis\n\u001b[1;32m--> 621\u001b[0m disp, new_args \u001b[38;5;241m=\u001b[39m \u001b[38;5;28;43mself\u001b[39;49m\u001b[38;5;241;43m.\u001b[39;49m\u001b[43m_get_impl\u001b[49m\u001b[43m(\u001b[49m\u001b[43margs\u001b[49m\u001b[43m,\u001b[49m\u001b[43m \u001b[49m\u001b[43mkws\u001b[49m\u001b[43m)\u001b[49m\n\u001b[0;32m    622\u001b[0m \u001b[38;5;28;01mif\u001b[39;00m disp \u001b[38;5;129;01mis\u001b[39;00m \u001b[38;5;28;01mNone\u001b[39;00m:\n\u001b[0;32m    623\u001b[0m     \u001b[38;5;28;01mreturn\u001b[39;00m\n",
      "File \u001b[1;32mc:\\Users\\JoeN\\miniforge3\\envs\\mlfinlab_env\\lib\\site-packages\\numba\\core\\typing\\templates.py:720\u001b[0m, in \u001b[0;36m_OverloadFunctionTemplate._get_impl\u001b[1;34m(self, args, kws)\u001b[0m\n\u001b[0;32m    716\u001b[0m \u001b[38;5;28;01mexcept\u001b[39;00m \u001b[38;5;167;01mKeyError\u001b[39;00m:\n\u001b[0;32m    717\u001b[0m     \u001b[38;5;66;03m# pass and try outside the scope so as to not have KeyError with a\u001b[39;00m\n\u001b[0;32m    718\u001b[0m     \u001b[38;5;66;03m# nested addition error in the case the _build_impl fails\u001b[39;00m\n\u001b[0;32m    719\u001b[0m     \u001b[38;5;28;01mpass\u001b[39;00m\n\u001b[1;32m--> 720\u001b[0m impl, args \u001b[38;5;241m=\u001b[39m \u001b[38;5;28;43mself\u001b[39;49m\u001b[38;5;241;43m.\u001b[39;49m\u001b[43m_build_impl\u001b[49m\u001b[43m(\u001b[49m\u001b[43mcache_key\u001b[49m\u001b[43m,\u001b[49m\u001b[43m \u001b[49m\u001b[43margs\u001b[49m\u001b[43m,\u001b[49m\u001b[43m \u001b[49m\u001b[43mkws\u001b[49m\u001b[43m)\u001b[49m\n\u001b[0;32m    721\u001b[0m \u001b[38;5;28;01mreturn\u001b[39;00m impl, args\n",
      "File \u001b[1;32mc:\\Users\\JoeN\\miniforge3\\envs\\mlfinlab_env\\lib\\site-packages\\numba\\core\\typing\\templates.py:824\u001b[0m, in \u001b[0;36m_OverloadFunctionTemplate._build_impl\u001b[1;34m(self, cache_key, args, kws)\u001b[0m\n\u001b[0;32m    822\u001b[0m \u001b[38;5;66;03m# Make sure that the implementation can be fully compiled\u001b[39;00m\n\u001b[0;32m    823\u001b[0m disp_type \u001b[38;5;241m=\u001b[39m types\u001b[38;5;241m.\u001b[39mDispatcher(disp)\n\u001b[1;32m--> 824\u001b[0m \u001b[43mdisp_type\u001b[49m\u001b[38;5;241;43m.\u001b[39;49m\u001b[43mget_call_type\u001b[49m\u001b[43m(\u001b[49m\u001b[38;5;28;43mself\u001b[39;49m\u001b[38;5;241;43m.\u001b[39;49m\u001b[43mcontext\u001b[49m\u001b[43m,\u001b[49m\u001b[43m \u001b[49m\u001b[43margs\u001b[49m\u001b[43m,\u001b[49m\u001b[43m \u001b[49m\u001b[43mkws\u001b[49m\u001b[43m)\u001b[49m\n\u001b[0;32m    825\u001b[0m \u001b[38;5;28;01mif\u001b[39;00m cache_key \u001b[38;5;129;01mis\u001b[39;00m \u001b[38;5;129;01mnot\u001b[39;00m \u001b[38;5;28;01mNone\u001b[39;00m:\n\u001b[0;32m    826\u001b[0m     \u001b[38;5;28mself\u001b[39m\u001b[38;5;241m.\u001b[39m_impl_cache[cache_key] \u001b[38;5;241m=\u001b[39m disp, args\n",
      "File \u001b[1;32mc:\\Users\\JoeN\\miniforge3\\envs\\mlfinlab_env\\lib\\site-packages\\numba\\core\\types\\functions.py:538\u001b[0m, in \u001b[0;36mDispatcher.get_call_type\u001b[1;34m(self, context, args, kws)\u001b[0m\n\u001b[0;32m    531\u001b[0m \u001b[38;5;28;01mdef\u001b[39;00m\u001b[38;5;250m \u001b[39m\u001b[38;5;21mget_call_type\u001b[39m(\u001b[38;5;28mself\u001b[39m, context, args, kws):\n\u001b[0;32m    532\u001b[0m \u001b[38;5;250m    \u001b[39m\u001b[38;5;124;03m\"\"\"\u001b[39;00m\n\u001b[0;32m    533\u001b[0m \u001b[38;5;124;03m    Resolve a call to this dispatcher using the given argument types.\u001b[39;00m\n\u001b[0;32m    534\u001b[0m \u001b[38;5;124;03m    A signature returned and it is ensured that a compiled specialization\u001b[39;00m\n\u001b[0;32m    535\u001b[0m \u001b[38;5;124;03m    is available for it.\u001b[39;00m\n\u001b[0;32m    536\u001b[0m \u001b[38;5;124;03m    \"\"\"\u001b[39;00m\n\u001b[0;32m    537\u001b[0m     template, pysig, args, kws \u001b[38;5;241m=\u001b[39m \\\n\u001b[1;32m--> 538\u001b[0m         \u001b[38;5;28;43mself\u001b[39;49m\u001b[38;5;241;43m.\u001b[39;49m\u001b[43mdispatcher\u001b[49m\u001b[38;5;241;43m.\u001b[39;49m\u001b[43mget_call_template\u001b[49m\u001b[43m(\u001b[49m\u001b[43margs\u001b[49m\u001b[43m,\u001b[49m\u001b[43m \u001b[49m\u001b[43mkws\u001b[49m\u001b[43m)\u001b[49m\n\u001b[0;32m    539\u001b[0m     sig \u001b[38;5;241m=\u001b[39m template(context)\u001b[38;5;241m.\u001b[39mapply(args, kws)\n\u001b[0;32m    540\u001b[0m     \u001b[38;5;28;01mif\u001b[39;00m sig:\n",
      "File \u001b[1;32mc:\\Users\\JoeN\\miniforge3\\envs\\mlfinlab_env\\lib\\site-packages\\numba\\core\\dispatcher.py:319\u001b[0m, in \u001b[0;36m_DispatcherBase.get_call_template\u001b[1;34m(self, args, kws)\u001b[0m\n\u001b[0;32m    317\u001b[0m \u001b[38;5;66;03m# Ensure an overload is available\u001b[39;00m\n\u001b[0;32m    318\u001b[0m \u001b[38;5;28;01mif\u001b[39;00m \u001b[38;5;28mself\u001b[39m\u001b[38;5;241m.\u001b[39m_can_compile:\n\u001b[1;32m--> 319\u001b[0m     \u001b[38;5;28;43mself\u001b[39;49m\u001b[38;5;241;43m.\u001b[39;49m\u001b[43mcompile\u001b[49m\u001b[43m(\u001b[49m\u001b[38;5;28;43mtuple\u001b[39;49m\u001b[43m(\u001b[49m\u001b[43margs\u001b[49m\u001b[43m)\u001b[49m\u001b[43m)\u001b[49m\n\u001b[0;32m    321\u001b[0m \u001b[38;5;66;03m# Create function type for typing\u001b[39;00m\n\u001b[0;32m    322\u001b[0m func_name \u001b[38;5;241m=\u001b[39m \u001b[38;5;28mself\u001b[39m\u001b[38;5;241m.\u001b[39mpy_func\u001b[38;5;241m.\u001b[39m\u001b[38;5;18m__name__\u001b[39m\n",
      "File \u001b[1;32mc:\\Users\\JoeN\\miniforge3\\envs\\mlfinlab_env\\lib\\site-packages\\numba\\core\\dispatcher.py:904\u001b[0m, in \u001b[0;36mDispatcher.compile\u001b[1;34m(self, sig)\u001b[0m\n\u001b[0;32m    902\u001b[0m \u001b[38;5;28;01mwith\u001b[39;00m ev\u001b[38;5;241m.\u001b[39mtrigger_event(\u001b[38;5;124m\"\u001b[39m\u001b[38;5;124mnumba:compile\u001b[39m\u001b[38;5;124m\"\u001b[39m, data\u001b[38;5;241m=\u001b[39mev_details):\n\u001b[0;32m    903\u001b[0m     \u001b[38;5;28;01mtry\u001b[39;00m:\n\u001b[1;32m--> 904\u001b[0m         cres \u001b[38;5;241m=\u001b[39m \u001b[38;5;28;43mself\u001b[39;49m\u001b[38;5;241;43m.\u001b[39;49m\u001b[43m_compiler\u001b[49m\u001b[38;5;241;43m.\u001b[39;49m\u001b[43mcompile\u001b[49m\u001b[43m(\u001b[49m\u001b[43margs\u001b[49m\u001b[43m,\u001b[49m\u001b[43m \u001b[49m\u001b[43mreturn_type\u001b[49m\u001b[43m)\u001b[49m\n\u001b[0;32m    905\u001b[0m     \u001b[38;5;28;01mexcept\u001b[39;00m errors\u001b[38;5;241m.\u001b[39mForceLiteralArg \u001b[38;5;28;01mas\u001b[39;00m e:\n\u001b[0;32m    906\u001b[0m         \u001b[38;5;28;01mdef\u001b[39;00m\u001b[38;5;250m \u001b[39m\u001b[38;5;21mfolded\u001b[39m(args, kws):\n",
      "File \u001b[1;32mc:\\Users\\JoeN\\miniforge3\\envs\\mlfinlab_env\\lib\\site-packages\\numba\\core\\dispatcher.py:80\u001b[0m, in \u001b[0;36m_FunctionCompiler.compile\u001b[1;34m(self, args, return_type)\u001b[0m\n\u001b[0;32m     79\u001b[0m \u001b[38;5;28;01mdef\u001b[39;00m\u001b[38;5;250m \u001b[39m\u001b[38;5;21mcompile\u001b[39m(\u001b[38;5;28mself\u001b[39m, args, return_type):\n\u001b[1;32m---> 80\u001b[0m     status, retval \u001b[38;5;241m=\u001b[39m \u001b[38;5;28;43mself\u001b[39;49m\u001b[38;5;241;43m.\u001b[39;49m\u001b[43m_compile_cached\u001b[49m\u001b[43m(\u001b[49m\u001b[43margs\u001b[49m\u001b[43m,\u001b[49m\u001b[43m \u001b[49m\u001b[43mreturn_type\u001b[49m\u001b[43m)\u001b[49m\n\u001b[0;32m     81\u001b[0m     \u001b[38;5;28;01mif\u001b[39;00m status:\n\u001b[0;32m     82\u001b[0m         \u001b[38;5;28;01mreturn\u001b[39;00m retval\n",
      "File \u001b[1;32mc:\\Users\\JoeN\\miniforge3\\envs\\mlfinlab_env\\lib\\site-packages\\numba\\core\\dispatcher.py:94\u001b[0m, in \u001b[0;36m_FunctionCompiler._compile_cached\u001b[1;34m(self, args, return_type)\u001b[0m\n\u001b[0;32m     91\u001b[0m     \u001b[38;5;28;01mpass\u001b[39;00m\n\u001b[0;32m     93\u001b[0m \u001b[38;5;28;01mtry\u001b[39;00m:\n\u001b[1;32m---> 94\u001b[0m     retval \u001b[38;5;241m=\u001b[39m \u001b[38;5;28;43mself\u001b[39;49m\u001b[38;5;241;43m.\u001b[39;49m\u001b[43m_compile_core\u001b[49m\u001b[43m(\u001b[49m\u001b[43margs\u001b[49m\u001b[43m,\u001b[49m\u001b[43m \u001b[49m\u001b[43mreturn_type\u001b[49m\u001b[43m)\u001b[49m\n\u001b[0;32m     95\u001b[0m \u001b[38;5;28;01mexcept\u001b[39;00m errors\u001b[38;5;241m.\u001b[39mTypingError \u001b[38;5;28;01mas\u001b[39;00m e:\n\u001b[0;32m     96\u001b[0m     \u001b[38;5;28mself\u001b[39m\u001b[38;5;241m.\u001b[39m_failed_cache[key] \u001b[38;5;241m=\u001b[39m e\n",
      "File \u001b[1;32mc:\\Users\\JoeN\\miniforge3\\envs\\mlfinlab_env\\lib\\site-packages\\numba\\core\\dispatcher.py:107\u001b[0m, in \u001b[0;36m_FunctionCompiler._compile_core\u001b[1;34m(self, args, return_type)\u001b[0m\n\u001b[0;32m    104\u001b[0m flags \u001b[38;5;241m=\u001b[39m \u001b[38;5;28mself\u001b[39m\u001b[38;5;241m.\u001b[39m_customize_flags(flags)\n\u001b[0;32m    106\u001b[0m impl \u001b[38;5;241m=\u001b[39m \u001b[38;5;28mself\u001b[39m\u001b[38;5;241m.\u001b[39m_get_implementation(args, {})\n\u001b[1;32m--> 107\u001b[0m cres \u001b[38;5;241m=\u001b[39m \u001b[43mcompiler\u001b[49m\u001b[38;5;241;43m.\u001b[39;49m\u001b[43mcompile_extra\u001b[49m\u001b[43m(\u001b[49m\u001b[38;5;28;43mself\u001b[39;49m\u001b[38;5;241;43m.\u001b[39;49m\u001b[43mtargetdescr\u001b[49m\u001b[38;5;241;43m.\u001b[39;49m\u001b[43mtyping_context\u001b[49m\u001b[43m,\u001b[49m\n\u001b[0;32m    108\u001b[0m \u001b[43m                              \u001b[49m\u001b[38;5;28;43mself\u001b[39;49m\u001b[38;5;241;43m.\u001b[39;49m\u001b[43mtargetdescr\u001b[49m\u001b[38;5;241;43m.\u001b[39;49m\u001b[43mtarget_context\u001b[49m\u001b[43m,\u001b[49m\n\u001b[0;32m    109\u001b[0m \u001b[43m                              \u001b[49m\u001b[43mimpl\u001b[49m\u001b[43m,\u001b[49m\n\u001b[0;32m    110\u001b[0m \u001b[43m                              \u001b[49m\u001b[43margs\u001b[49m\u001b[38;5;241;43m=\u001b[39;49m\u001b[43margs\u001b[49m\u001b[43m,\u001b[49m\u001b[43m \u001b[49m\u001b[43mreturn_type\u001b[49m\u001b[38;5;241;43m=\u001b[39;49m\u001b[43mreturn_type\u001b[49m\u001b[43m,\u001b[49m\n\u001b[0;32m    111\u001b[0m \u001b[43m                              \u001b[49m\u001b[43mflags\u001b[49m\u001b[38;5;241;43m=\u001b[39;49m\u001b[43mflags\u001b[49m\u001b[43m,\u001b[49m\u001b[43m \u001b[49m\u001b[38;5;28;43mlocals\u001b[39;49m\u001b[38;5;241;43m=\u001b[39;49m\u001b[38;5;28;43mself\u001b[39;49m\u001b[38;5;241;43m.\u001b[39;49m\u001b[43mlocals\u001b[49m\u001b[43m,\u001b[49m\n\u001b[0;32m    112\u001b[0m \u001b[43m                              \u001b[49m\u001b[43mpipeline_class\u001b[49m\u001b[38;5;241;43m=\u001b[39;49m\u001b[38;5;28;43mself\u001b[39;49m\u001b[38;5;241;43m.\u001b[39;49m\u001b[43mpipeline_class\u001b[49m\u001b[43m)\u001b[49m\n\u001b[0;32m    113\u001b[0m \u001b[38;5;66;03m# Check typing error if object mode is used\u001b[39;00m\n\u001b[0;32m    114\u001b[0m \u001b[38;5;28;01mif\u001b[39;00m cres\u001b[38;5;241m.\u001b[39mtyping_error \u001b[38;5;129;01mis\u001b[39;00m \u001b[38;5;129;01mnot\u001b[39;00m \u001b[38;5;28;01mNone\u001b[39;00m \u001b[38;5;129;01mand\u001b[39;00m \u001b[38;5;129;01mnot\u001b[39;00m flags\u001b[38;5;241m.\u001b[39menable_pyobject:\n",
      "File \u001b[1;32mc:\\Users\\JoeN\\miniforge3\\envs\\mlfinlab_env\\lib\\site-packages\\numba\\core\\compiler.py:739\u001b[0m, in \u001b[0;36mcompile_extra\u001b[1;34m(typingctx, targetctx, func, args, return_type, flags, locals, library, pipeline_class)\u001b[0m\n\u001b[0;32m    715\u001b[0m \u001b[38;5;250m\u001b[39m\u001b[38;5;124;03m\"\"\"Compiler entry point\u001b[39;00m\n\u001b[0;32m    716\u001b[0m \n\u001b[0;32m    717\u001b[0m \u001b[38;5;124;03mParameter\u001b[39;00m\n\u001b[1;32m   (...)\u001b[0m\n\u001b[0;32m    735\u001b[0m \u001b[38;5;124;03m    compiler pipeline\u001b[39;00m\n\u001b[0;32m    736\u001b[0m \u001b[38;5;124;03m\"\"\"\u001b[39;00m\n\u001b[0;32m    737\u001b[0m pipeline \u001b[38;5;241m=\u001b[39m pipeline_class(typingctx, targetctx, library,\n\u001b[0;32m    738\u001b[0m                           args, return_type, flags, \u001b[38;5;28mlocals\u001b[39m)\n\u001b[1;32m--> 739\u001b[0m \u001b[38;5;28;01mreturn\u001b[39;00m \u001b[43mpipeline\u001b[49m\u001b[38;5;241;43m.\u001b[39;49m\u001b[43mcompile_extra\u001b[49m\u001b[43m(\u001b[49m\u001b[43mfunc\u001b[49m\u001b[43m)\u001b[49m\n",
      "File \u001b[1;32mc:\\Users\\JoeN\\miniforge3\\envs\\mlfinlab_env\\lib\\site-packages\\numba\\core\\compiler.py:439\u001b[0m, in \u001b[0;36mCompilerBase.compile_extra\u001b[1;34m(self, func)\u001b[0m\n\u001b[0;32m    437\u001b[0m \u001b[38;5;28mself\u001b[39m\u001b[38;5;241m.\u001b[39mstate\u001b[38;5;241m.\u001b[39mlifted \u001b[38;5;241m=\u001b[39m ()\n\u001b[0;32m    438\u001b[0m \u001b[38;5;28mself\u001b[39m\u001b[38;5;241m.\u001b[39mstate\u001b[38;5;241m.\u001b[39mlifted_from \u001b[38;5;241m=\u001b[39m \u001b[38;5;28;01mNone\u001b[39;00m\n\u001b[1;32m--> 439\u001b[0m \u001b[38;5;28;01mreturn\u001b[39;00m \u001b[38;5;28;43mself\u001b[39;49m\u001b[38;5;241;43m.\u001b[39;49m\u001b[43m_compile_bytecode\u001b[49m\u001b[43m(\u001b[49m\u001b[43m)\u001b[49m\n",
      "File \u001b[1;32mc:\\Users\\JoeN\\miniforge3\\envs\\mlfinlab_env\\lib\\site-packages\\numba\\core\\compiler.py:505\u001b[0m, in \u001b[0;36mCompilerBase._compile_bytecode\u001b[1;34m(self)\u001b[0m\n\u001b[0;32m    501\u001b[0m \u001b[38;5;250m\u001b[39m\u001b[38;5;124;03m\"\"\"\u001b[39;00m\n\u001b[0;32m    502\u001b[0m \u001b[38;5;124;03mPopulate and run pipeline for bytecode input\u001b[39;00m\n\u001b[0;32m    503\u001b[0m \u001b[38;5;124;03m\"\"\"\u001b[39;00m\n\u001b[0;32m    504\u001b[0m \u001b[38;5;28;01massert\u001b[39;00m \u001b[38;5;28mself\u001b[39m\u001b[38;5;241m.\u001b[39mstate\u001b[38;5;241m.\u001b[39mfunc_ir \u001b[38;5;129;01mis\u001b[39;00m \u001b[38;5;28;01mNone\u001b[39;00m\n\u001b[1;32m--> 505\u001b[0m \u001b[38;5;28;01mreturn\u001b[39;00m \u001b[38;5;28;43mself\u001b[39;49m\u001b[38;5;241;43m.\u001b[39;49m\u001b[43m_compile_core\u001b[49m\u001b[43m(\u001b[49m\u001b[43m)\u001b[49m\n",
      "File \u001b[1;32mc:\\Users\\JoeN\\miniforge3\\envs\\mlfinlab_env\\lib\\site-packages\\numba\\core\\compiler.py:481\u001b[0m, in \u001b[0;36mCompilerBase._compile_core\u001b[1;34m(self)\u001b[0m\n\u001b[0;32m    479\u001b[0m \u001b[38;5;28;01mexcept\u001b[39;00m \u001b[38;5;167;01mException\u001b[39;00m \u001b[38;5;28;01mas\u001b[39;00m e:\n\u001b[0;32m    480\u001b[0m     \u001b[38;5;28;01mif\u001b[39;00m \u001b[38;5;129;01mnot\u001b[39;00m \u001b[38;5;28misinstance\u001b[39m(e, errors\u001b[38;5;241m.\u001b[39mNumbaError):\n\u001b[1;32m--> 481\u001b[0m         \u001b[38;5;28;01mraise\u001b[39;00m e\n\u001b[0;32m    482\u001b[0m     \u001b[38;5;28mself\u001b[39m\u001b[38;5;241m.\u001b[39mstate\u001b[38;5;241m.\u001b[39mstatus\u001b[38;5;241m.\u001b[39mfail_reason \u001b[38;5;241m=\u001b[39m e\n\u001b[0;32m    483\u001b[0m     \u001b[38;5;28;01mif\u001b[39;00m is_final_pipeline:\n",
      "File \u001b[1;32mc:\\Users\\JoeN\\miniforge3\\envs\\mlfinlab_env\\lib\\site-packages\\numba\\core\\compiler.py:473\u001b[0m, in \u001b[0;36mCompilerBase._compile_core\u001b[1;34m(self)\u001b[0m\n\u001b[0;32m    471\u001b[0m res \u001b[38;5;241m=\u001b[39m \u001b[38;5;28;01mNone\u001b[39;00m\n\u001b[0;32m    472\u001b[0m \u001b[38;5;28;01mtry\u001b[39;00m:\n\u001b[1;32m--> 473\u001b[0m     \u001b[43mpm\u001b[49m\u001b[38;5;241;43m.\u001b[39;49m\u001b[43mrun\u001b[49m\u001b[43m(\u001b[49m\u001b[38;5;28;43mself\u001b[39;49m\u001b[38;5;241;43m.\u001b[39;49m\u001b[43mstate\u001b[49m\u001b[43m)\u001b[49m\n\u001b[0;32m    474\u001b[0m     \u001b[38;5;28;01mif\u001b[39;00m \u001b[38;5;28mself\u001b[39m\u001b[38;5;241m.\u001b[39mstate\u001b[38;5;241m.\u001b[39mcr \u001b[38;5;129;01mis\u001b[39;00m \u001b[38;5;129;01mnot\u001b[39;00m \u001b[38;5;28;01mNone\u001b[39;00m:\n\u001b[0;32m    475\u001b[0m         \u001b[38;5;28;01mbreak\u001b[39;00m\n",
      "File \u001b[1;32mc:\\Users\\JoeN\\miniforge3\\envs\\mlfinlab_env\\lib\\site-packages\\numba\\core\\compiler_machinery.py:363\u001b[0m, in \u001b[0;36mPassManager.run\u001b[1;34m(self, state)\u001b[0m\n\u001b[0;32m    361\u001b[0m \u001b[38;5;28;01mexcept\u001b[39;00m \u001b[38;5;167;01mException\u001b[39;00m \u001b[38;5;28;01mas\u001b[39;00m e:\n\u001b[0;32m    362\u001b[0m     \u001b[38;5;28;01mif\u001b[39;00m \u001b[38;5;129;01mnot\u001b[39;00m \u001b[38;5;28misinstance\u001b[39m(e, errors\u001b[38;5;241m.\u001b[39mNumbaError):\n\u001b[1;32m--> 363\u001b[0m         \u001b[38;5;28;01mraise\u001b[39;00m e\n\u001b[0;32m    364\u001b[0m     msg \u001b[38;5;241m=\u001b[39m \u001b[38;5;124m\"\u001b[39m\u001b[38;5;124mFailed in \u001b[39m\u001b[38;5;132;01m%s\u001b[39;00m\u001b[38;5;124m mode pipeline (step: \u001b[39m\u001b[38;5;132;01m%s\u001b[39;00m\u001b[38;5;124m)\u001b[39m\u001b[38;5;124m\"\u001b[39m \u001b[38;5;241m%\u001b[39m \\\n\u001b[0;32m    365\u001b[0m         (\u001b[38;5;28mself\u001b[39m\u001b[38;5;241m.\u001b[39mpipeline_name, pass_desc)\n\u001b[0;32m    366\u001b[0m     patched_exception \u001b[38;5;241m=\u001b[39m \u001b[38;5;28mself\u001b[39m\u001b[38;5;241m.\u001b[39m_patch_error(msg, e)\n",
      "File \u001b[1;32mc:\\Users\\JoeN\\miniforge3\\envs\\mlfinlab_env\\lib\\site-packages\\numba\\core\\compiler_machinery.py:356\u001b[0m, in \u001b[0;36mPassManager.run\u001b[1;34m(self, state)\u001b[0m\n\u001b[0;32m    354\u001b[0m pass_inst \u001b[38;5;241m=\u001b[39m _pass_registry\u001b[38;5;241m.\u001b[39mget(pss)\u001b[38;5;241m.\u001b[39mpass_inst\n\u001b[0;32m    355\u001b[0m \u001b[38;5;28;01mif\u001b[39;00m \u001b[38;5;28misinstance\u001b[39m(pass_inst, CompilerPass):\n\u001b[1;32m--> 356\u001b[0m     \u001b[38;5;28;43mself\u001b[39;49m\u001b[38;5;241;43m.\u001b[39;49m\u001b[43m_runPass\u001b[49m\u001b[43m(\u001b[49m\u001b[43midx\u001b[49m\u001b[43m,\u001b[49m\u001b[43m \u001b[49m\u001b[43mpass_inst\u001b[49m\u001b[43m,\u001b[49m\u001b[43m \u001b[49m\u001b[43mstate\u001b[49m\u001b[43m)\u001b[49m\n\u001b[0;32m    357\u001b[0m \u001b[38;5;28;01melse\u001b[39;00m:\n\u001b[0;32m    358\u001b[0m     \u001b[38;5;28;01mraise\u001b[39;00m \u001b[38;5;167;01mBaseException\u001b[39;00m(\u001b[38;5;124m\"\u001b[39m\u001b[38;5;124mLegacy pass in use\u001b[39m\u001b[38;5;124m\"\u001b[39m)\n",
      "File \u001b[1;32mc:\\Users\\JoeN\\miniforge3\\envs\\mlfinlab_env\\lib\\site-packages\\numba\\core\\compiler_lock.py:35\u001b[0m, in \u001b[0;36m_CompilerLock.__call__.<locals>._acquire_compile_lock\u001b[1;34m(*args, **kwargs)\u001b[0m\n\u001b[0;32m     32\u001b[0m \u001b[38;5;129m@functools\u001b[39m\u001b[38;5;241m.\u001b[39mwraps(func)\n\u001b[0;32m     33\u001b[0m \u001b[38;5;28;01mdef\u001b[39;00m\u001b[38;5;250m \u001b[39m\u001b[38;5;21m_acquire_compile_lock\u001b[39m(\u001b[38;5;241m*\u001b[39margs, \u001b[38;5;241m*\u001b[39m\u001b[38;5;241m*\u001b[39mkwargs):\n\u001b[0;32m     34\u001b[0m     \u001b[38;5;28;01mwith\u001b[39;00m \u001b[38;5;28mself\u001b[39m:\n\u001b[1;32m---> 35\u001b[0m         \u001b[38;5;28;01mreturn\u001b[39;00m func(\u001b[38;5;241m*\u001b[39margs, \u001b[38;5;241m*\u001b[39m\u001b[38;5;241m*\u001b[39mkwargs)\n",
      "File \u001b[1;32mc:\\Users\\JoeN\\miniforge3\\envs\\mlfinlab_env\\lib\\site-packages\\numba\\core\\compiler_machinery.py:311\u001b[0m, in \u001b[0;36mPassManager._runPass\u001b[1;34m(self, index, pss, internal_state)\u001b[0m\n\u001b[0;32m    309\u001b[0m     mutated \u001b[38;5;241m|\u001b[39m\u001b[38;5;241m=\u001b[39m check(pss\u001b[38;5;241m.\u001b[39mrun_initialization, internal_state)\n\u001b[0;32m    310\u001b[0m \u001b[38;5;28;01mwith\u001b[39;00m SimpleTimer() \u001b[38;5;28;01mas\u001b[39;00m pass_time:\n\u001b[1;32m--> 311\u001b[0m     mutated \u001b[38;5;241m|\u001b[39m\u001b[38;5;241m=\u001b[39m \u001b[43mcheck\u001b[49m\u001b[43m(\u001b[49m\u001b[43mpss\u001b[49m\u001b[38;5;241;43m.\u001b[39;49m\u001b[43mrun_pass\u001b[49m\u001b[43m,\u001b[49m\u001b[43m \u001b[49m\u001b[43minternal_state\u001b[49m\u001b[43m)\u001b[49m\n\u001b[0;32m    312\u001b[0m \u001b[38;5;28;01mwith\u001b[39;00m SimpleTimer() \u001b[38;5;28;01mas\u001b[39;00m finalize_time:\n\u001b[0;32m    313\u001b[0m     mutated \u001b[38;5;241m|\u001b[39m\u001b[38;5;241m=\u001b[39m check(pss\u001b[38;5;241m.\u001b[39mrun_finalizer, internal_state)\n",
      "File \u001b[1;32mc:\\Users\\JoeN\\miniforge3\\envs\\mlfinlab_env\\lib\\site-packages\\numba\\core\\compiler_machinery.py:272\u001b[0m, in \u001b[0;36mPassManager._runPass.<locals>.check\u001b[1;34m(func, compiler_state)\u001b[0m\n\u001b[0;32m    271\u001b[0m \u001b[38;5;28;01mdef\u001b[39;00m\u001b[38;5;250m \u001b[39m\u001b[38;5;21mcheck\u001b[39m(func, compiler_state):\n\u001b[1;32m--> 272\u001b[0m     mangled \u001b[38;5;241m=\u001b[39m \u001b[43mfunc\u001b[49m\u001b[43m(\u001b[49m\u001b[43mcompiler_state\u001b[49m\u001b[43m)\u001b[49m\n\u001b[0;32m    273\u001b[0m     \u001b[38;5;28;01mif\u001b[39;00m mangled \u001b[38;5;129;01mnot\u001b[39;00m \u001b[38;5;129;01min\u001b[39;00m (\u001b[38;5;28;01mTrue\u001b[39;00m, \u001b[38;5;28;01mFalse\u001b[39;00m):\n\u001b[0;32m    274\u001b[0m         msg \u001b[38;5;241m=\u001b[39m (\u001b[38;5;124m\"\u001b[39m\u001b[38;5;124mCompilerPass implementations should return True/False. \u001b[39m\u001b[38;5;124m\"\u001b[39m\n\u001b[0;32m    275\u001b[0m                \u001b[38;5;124m\"\u001b[39m\u001b[38;5;124mCompilerPass with name \u001b[39m\u001b[38;5;124m'\u001b[39m\u001b[38;5;132;01m%s\u001b[39;00m\u001b[38;5;124m'\u001b[39m\u001b[38;5;124m did not.\u001b[39m\u001b[38;5;124m\"\u001b[39m)\n",
      "File \u001b[1;32mc:\\Users\\JoeN\\miniforge3\\envs\\mlfinlab_env\\lib\\site-packages\\numba\\core\\typed_passes.py:468\u001b[0m, in \u001b[0;36mBaseNativeLowering.run_pass\u001b[1;34m(self, state)\u001b[0m\n\u001b[0;32m    465\u001b[0m \u001b[38;5;28;01mwith\u001b[39;00m targetctx\u001b[38;5;241m.\u001b[39mpush_code_library(library):\n\u001b[0;32m    466\u001b[0m     lower \u001b[38;5;241m=\u001b[39m \u001b[38;5;28mself\u001b[39m\u001b[38;5;241m.\u001b[39mlowering_class(targetctx, library, fndesc, interp,\n\u001b[0;32m    467\u001b[0m                                 metadata\u001b[38;5;241m=\u001b[39mmetadata)\n\u001b[1;32m--> 468\u001b[0m     \u001b[43mlower\u001b[49m\u001b[38;5;241;43m.\u001b[39;49m\u001b[43mlower\u001b[49m\u001b[43m(\u001b[49m\u001b[43m)\u001b[49m\n\u001b[0;32m    469\u001b[0m     \u001b[38;5;28;01mif\u001b[39;00m \u001b[38;5;129;01mnot\u001b[39;00m flags\u001b[38;5;241m.\u001b[39mno_cpython_wrapper:\n\u001b[0;32m    470\u001b[0m         lower\u001b[38;5;241m.\u001b[39mcreate_cpython_wrapper(flags\u001b[38;5;241m.\u001b[39mrelease_gil)\n",
      "File \u001b[1;32mc:\\Users\\JoeN\\miniforge3\\envs\\mlfinlab_env\\lib\\site-packages\\numba\\core\\lowering.py:193\u001b[0m, in \u001b[0;36mBaseLower.lower\u001b[1;34m(self)\u001b[0m\n\u001b[0;32m    191\u001b[0m \u001b[38;5;28;01mif\u001b[39;00m \u001b[38;5;28mself\u001b[39m\u001b[38;5;241m.\u001b[39mgenerator_info \u001b[38;5;129;01mis\u001b[39;00m \u001b[38;5;28;01mNone\u001b[39;00m:\n\u001b[0;32m    192\u001b[0m     \u001b[38;5;28mself\u001b[39m\u001b[38;5;241m.\u001b[39mgenlower \u001b[38;5;241m=\u001b[39m \u001b[38;5;28;01mNone\u001b[39;00m\n\u001b[1;32m--> 193\u001b[0m     \u001b[38;5;28;43mself\u001b[39;49m\u001b[38;5;241;43m.\u001b[39;49m\u001b[43mlower_normal_function\u001b[49m\u001b[43m(\u001b[49m\u001b[38;5;28;43mself\u001b[39;49m\u001b[38;5;241;43m.\u001b[39;49m\u001b[43mfndesc\u001b[49m\u001b[43m)\u001b[49m\n\u001b[0;32m    194\u001b[0m \u001b[38;5;28;01melse\u001b[39;00m:\n\u001b[0;32m    195\u001b[0m     \u001b[38;5;28mself\u001b[39m\u001b[38;5;241m.\u001b[39mgenlower \u001b[38;5;241m=\u001b[39m \u001b[38;5;28mself\u001b[39m\u001b[38;5;241m.\u001b[39mGeneratorLower(\u001b[38;5;28mself\u001b[39m)\n",
      "File \u001b[1;32mc:\\Users\\JoeN\\miniforge3\\envs\\mlfinlab_env\\lib\\site-packages\\numba\\core\\lowering.py:232\u001b[0m, in \u001b[0;36mBaseLower.lower_normal_function\u001b[1;34m(self, fndesc)\u001b[0m\n\u001b[0;32m    230\u001b[0m \u001b[38;5;66;03m# Init argument values\u001b[39;00m\n\u001b[0;32m    231\u001b[0m \u001b[38;5;28mself\u001b[39m\u001b[38;5;241m.\u001b[39mextract_function_arguments()\n\u001b[1;32m--> 232\u001b[0m entry_block_tail \u001b[38;5;241m=\u001b[39m \u001b[38;5;28;43mself\u001b[39;49m\u001b[38;5;241;43m.\u001b[39;49m\u001b[43mlower_function_body\u001b[49m\u001b[43m(\u001b[49m\u001b[43m)\u001b[49m\n\u001b[0;32m    234\u001b[0m \u001b[38;5;66;03m# Close tail of entry block, do not emit debug metadata else the\u001b[39;00m\n\u001b[0;32m    235\u001b[0m \u001b[38;5;66;03m# unconditional jump gets associated with the metadata from the function\u001b[39;00m\n\u001b[0;32m    236\u001b[0m \u001b[38;5;66;03m# body end.\u001b[39;00m\n\u001b[0;32m    237\u001b[0m \u001b[38;5;28;01mwith\u001b[39;00m debuginfo\u001b[38;5;241m.\u001b[39msuspend_emission(\u001b[38;5;28mself\u001b[39m\u001b[38;5;241m.\u001b[39mbuilder):\n",
      "File \u001b[1;32mc:\\Users\\JoeN\\miniforge3\\envs\\mlfinlab_env\\lib\\site-packages\\numba\\core\\lowering.py:262\u001b[0m, in \u001b[0;36mBaseLower.lower_function_body\u001b[1;34m(self)\u001b[0m\n\u001b[0;32m    260\u001b[0m     \u001b[38;5;28mself\u001b[39m\u001b[38;5;241m.\u001b[39mbuilder\u001b[38;5;241m.\u001b[39mposition_at_end(bb)\n\u001b[0;32m    261\u001b[0m     \u001b[38;5;28mself\u001b[39m\u001b[38;5;241m.\u001b[39mdebug_print(\u001b[38;5;124mf\u001b[39m\u001b[38;5;124m\"\u001b[39m\u001b[38;5;124m# lower block: \u001b[39m\u001b[38;5;132;01m{\u001b[39;00moffset\u001b[38;5;132;01m}\u001b[39;00m\u001b[38;5;124m\"\u001b[39m)\n\u001b[1;32m--> 262\u001b[0m     \u001b[38;5;28;43mself\u001b[39;49m\u001b[38;5;241;43m.\u001b[39;49m\u001b[43mlower_block\u001b[49m\u001b[43m(\u001b[49m\u001b[43mblock\u001b[49m\u001b[43m)\u001b[49m\n\u001b[0;32m    263\u001b[0m \u001b[38;5;28mself\u001b[39m\u001b[38;5;241m.\u001b[39mpost_lower()\n\u001b[0;32m    264\u001b[0m \u001b[38;5;28;01mreturn\u001b[39;00m entry_block_tail\n",
      "File \u001b[1;32mc:\\Users\\JoeN\\miniforge3\\envs\\mlfinlab_env\\lib\\site-packages\\numba\\core\\lowering.py:276\u001b[0m, in \u001b[0;36mBaseLower.lower_block\u001b[1;34m(self, block)\u001b[0m\n\u001b[0;32m    273\u001b[0m     defaulterrcls \u001b[38;5;241m=\u001b[39m partial(LoweringError, loc\u001b[38;5;241m=\u001b[39m\u001b[38;5;28mself\u001b[39m\u001b[38;5;241m.\u001b[39mloc)\n\u001b[0;32m    274\u001b[0m     \u001b[38;5;28;01mwith\u001b[39;00m new_error_context(\u001b[38;5;124m'\u001b[39m\u001b[38;5;124mlowering \u001b[39m\u001b[38;5;124m\"\u001b[39m\u001b[38;5;132;01m{inst}\u001b[39;00m\u001b[38;5;124m\"\u001b[39m\u001b[38;5;124m at \u001b[39m\u001b[38;5;132;01m{loc}\u001b[39;00m\u001b[38;5;124m'\u001b[39m, inst\u001b[38;5;241m=\u001b[39minst,\n\u001b[0;32m    275\u001b[0m                            loc\u001b[38;5;241m=\u001b[39m\u001b[38;5;28mself\u001b[39m\u001b[38;5;241m.\u001b[39mloc, errcls_\u001b[38;5;241m=\u001b[39mdefaulterrcls):\n\u001b[1;32m--> 276\u001b[0m         \u001b[38;5;28;43mself\u001b[39;49m\u001b[38;5;241;43m.\u001b[39;49m\u001b[43mlower_inst\u001b[49m\u001b[43m(\u001b[49m\u001b[43minst\u001b[49m\u001b[43m)\u001b[49m\n\u001b[0;32m    277\u001b[0m \u001b[38;5;28mself\u001b[39m\u001b[38;5;241m.\u001b[39mpost_block(block)\n",
      "File \u001b[1;32mc:\\Users\\JoeN\\miniforge3\\envs\\mlfinlab_env\\lib\\site-packages\\numba\\core\\lowering.py:462\u001b[0m, in \u001b[0;36mLower.lower_inst\u001b[1;34m(self, inst)\u001b[0m\n\u001b[0;32m    460\u001b[0m \u001b[38;5;28;01mif\u001b[39;00m \u001b[38;5;28misinstance\u001b[39m(inst, ir\u001b[38;5;241m.\u001b[39mAssign):\n\u001b[0;32m    461\u001b[0m     ty \u001b[38;5;241m=\u001b[39m \u001b[38;5;28mself\u001b[39m\u001b[38;5;241m.\u001b[39mtypeof(inst\u001b[38;5;241m.\u001b[39mtarget\u001b[38;5;241m.\u001b[39mname)\n\u001b[1;32m--> 462\u001b[0m     val \u001b[38;5;241m=\u001b[39m \u001b[38;5;28;43mself\u001b[39;49m\u001b[38;5;241;43m.\u001b[39;49m\u001b[43mlower_assign\u001b[49m\u001b[43m(\u001b[49m\u001b[43mty\u001b[49m\u001b[43m,\u001b[49m\u001b[43m \u001b[49m\u001b[43minst\u001b[49m\u001b[43m)\u001b[49m\n\u001b[0;32m    463\u001b[0m     argidx \u001b[38;5;241m=\u001b[39m \u001b[38;5;28;01mNone\u001b[39;00m\n\u001b[0;32m    464\u001b[0m     \u001b[38;5;66;03m# If this is a store from an arg, like x = arg.x then tell debuginfo\u001b[39;00m\n\u001b[0;32m    465\u001b[0m     \u001b[38;5;66;03m# that this is the arg\u001b[39;00m\n",
      "File \u001b[1;32mc:\\Users\\JoeN\\miniforge3\\envs\\mlfinlab_env\\lib\\site-packages\\numba\\core\\lowering.py:674\u001b[0m, in \u001b[0;36mLower.lower_assign\u001b[1;34m(self, ty, inst)\u001b[0m\n\u001b[0;32m    671\u001b[0m     \u001b[38;5;28;01mreturn\u001b[39;00m res\n\u001b[0;32m    673\u001b[0m \u001b[38;5;28;01melif\u001b[39;00m \u001b[38;5;28misinstance\u001b[39m(value, ir\u001b[38;5;241m.\u001b[39mExpr):\n\u001b[1;32m--> 674\u001b[0m     \u001b[38;5;28;01mreturn\u001b[39;00m \u001b[38;5;28;43mself\u001b[39;49m\u001b[38;5;241;43m.\u001b[39;49m\u001b[43mlower_expr\u001b[49m\u001b[43m(\u001b[49m\u001b[43mty\u001b[49m\u001b[43m,\u001b[49m\u001b[43m \u001b[49m\u001b[43mvalue\u001b[49m\u001b[43m)\u001b[49m\n\u001b[0;32m    676\u001b[0m \u001b[38;5;28;01melif\u001b[39;00m \u001b[38;5;28misinstance\u001b[39m(value, ir\u001b[38;5;241m.\u001b[39mVar):\n\u001b[0;32m    677\u001b[0m     val \u001b[38;5;241m=\u001b[39m \u001b[38;5;28mself\u001b[39m\u001b[38;5;241m.\u001b[39mloadvar(value\u001b[38;5;241m.\u001b[39mname)\n",
      "File \u001b[1;32mc:\\Users\\JoeN\\miniforge3\\envs\\mlfinlab_env\\lib\\site-packages\\numba\\core\\lowering.py:1268\u001b[0m, in \u001b[0;36mLower.lower_expr\u001b[1;34m(self, resty, expr)\u001b[0m\n\u001b[0;32m   1265\u001b[0m     \u001b[38;5;28;01mreturn\u001b[39;00m res\n\u001b[0;32m   1267\u001b[0m \u001b[38;5;28;01melif\u001b[39;00m expr\u001b[38;5;241m.\u001b[39mop \u001b[38;5;241m==\u001b[39m \u001b[38;5;124m'\u001b[39m\u001b[38;5;124mcall\u001b[39m\u001b[38;5;124m'\u001b[39m:\n\u001b[1;32m-> 1268\u001b[0m     res \u001b[38;5;241m=\u001b[39m \u001b[38;5;28;43mself\u001b[39;49m\u001b[38;5;241;43m.\u001b[39;49m\u001b[43mlower_call\u001b[49m\u001b[43m(\u001b[49m\u001b[43mresty\u001b[49m\u001b[43m,\u001b[49m\u001b[43m \u001b[49m\u001b[43mexpr\u001b[49m\u001b[43m)\u001b[49m\n\u001b[0;32m   1269\u001b[0m     \u001b[38;5;28;01mreturn\u001b[39;00m res\n\u001b[0;32m   1271\u001b[0m \u001b[38;5;28;01melif\u001b[39;00m expr\u001b[38;5;241m.\u001b[39mop \u001b[38;5;241m==\u001b[39m \u001b[38;5;124m'\u001b[39m\u001b[38;5;124mpair_first\u001b[39m\u001b[38;5;124m'\u001b[39m:\n",
      "File \u001b[1;32mc:\\Users\\JoeN\\miniforge3\\envs\\mlfinlab_env\\lib\\site-packages\\numba\\core\\lowering.py:939\u001b[0m, in \u001b[0;36mLower.lower_call\u001b[1;34m(self, resty, expr)\u001b[0m\n\u001b[0;32m    936\u001b[0m     res \u001b[38;5;241m=\u001b[39m \u001b[38;5;28mself\u001b[39m\u001b[38;5;241m.\u001b[39m_lower_call_FunctionType(fnty, expr, signature)\n\u001b[0;32m    938\u001b[0m \u001b[38;5;28;01melse\u001b[39;00m:\n\u001b[1;32m--> 939\u001b[0m     res \u001b[38;5;241m=\u001b[39m \u001b[38;5;28;43mself\u001b[39;49m\u001b[38;5;241;43m.\u001b[39;49m\u001b[43m_lower_call_normal\u001b[49m\u001b[43m(\u001b[49m\u001b[43mfnty\u001b[49m\u001b[43m,\u001b[49m\u001b[43m \u001b[49m\u001b[43mexpr\u001b[49m\u001b[43m,\u001b[49m\u001b[43m \u001b[49m\u001b[43msignature\u001b[49m\u001b[43m)\u001b[49m\n\u001b[0;32m    941\u001b[0m \u001b[38;5;66;03m# If lowering the call returned None, interpret that as returning dummy\u001b[39;00m\n\u001b[0;32m    942\u001b[0m \u001b[38;5;66;03m# value if the return type of the function is void, otherwise there is\u001b[39;00m\n\u001b[0;32m    943\u001b[0m \u001b[38;5;66;03m# a problem\u001b[39;00m\n\u001b[0;32m    944\u001b[0m \u001b[38;5;28;01mif\u001b[39;00m res \u001b[38;5;129;01mis\u001b[39;00m \u001b[38;5;28;01mNone\u001b[39;00m:\n",
      "File \u001b[1;32mc:\\Users\\JoeN\\miniforge3\\envs\\mlfinlab_env\\lib\\site-packages\\numba\\core\\lowering.py:1239\u001b[0m, in \u001b[0;36mLower._lower_call_normal\u001b[1;34m(self, fnty, expr, signature)\u001b[0m\n\u001b[0;32m   1236\u001b[0m     \u001b[38;5;66;03m# Prepend the self reference\u001b[39;00m\n\u001b[0;32m   1237\u001b[0m     argvals \u001b[38;5;241m=\u001b[39m [the_self] \u001b[38;5;241m+\u001b[39m \u001b[38;5;28mlist\u001b[39m(argvals)\n\u001b[1;32m-> 1239\u001b[0m res \u001b[38;5;241m=\u001b[39m \u001b[43mimpl\u001b[49m\u001b[43m(\u001b[49m\u001b[38;5;28;43mself\u001b[39;49m\u001b[38;5;241;43m.\u001b[39;49m\u001b[43mbuilder\u001b[49m\u001b[43m,\u001b[49m\u001b[43m \u001b[49m\u001b[43margvals\u001b[49m\u001b[43m,\u001b[49m\u001b[43m \u001b[49m\u001b[38;5;28;43mself\u001b[39;49m\u001b[38;5;241;43m.\u001b[39;49m\u001b[43mloc\u001b[49m\u001b[43m)\u001b[49m\n\u001b[0;32m   1240\u001b[0m \u001b[38;5;28;01mreturn\u001b[39;00m res\n",
      "File \u001b[1;32mc:\\Users\\JoeN\\miniforge3\\envs\\mlfinlab_env\\lib\\site-packages\\numba\\core\\base.py:1190\u001b[0m, in \u001b[0;36m_wrap_impl.__call__\u001b[1;34m(self, builder, args, loc)\u001b[0m\n\u001b[0;32m   1189\u001b[0m \u001b[38;5;28;01mdef\u001b[39;00m\u001b[38;5;250m \u001b[39m\u001b[38;5;21m__call__\u001b[39m(\u001b[38;5;28mself\u001b[39m, builder, args, loc\u001b[38;5;241m=\u001b[39m\u001b[38;5;28;01mNone\u001b[39;00m):\n\u001b[1;32m-> 1190\u001b[0m     res \u001b[38;5;241m=\u001b[39m \u001b[38;5;28;43mself\u001b[39;49m\u001b[38;5;241;43m.\u001b[39;49m\u001b[43m_imp\u001b[49m\u001b[43m(\u001b[49m\u001b[38;5;28;43mself\u001b[39;49m\u001b[38;5;241;43m.\u001b[39;49m\u001b[43m_context\u001b[49m\u001b[43m,\u001b[49m\u001b[43m \u001b[49m\u001b[43mbuilder\u001b[49m\u001b[43m,\u001b[49m\u001b[43m \u001b[49m\u001b[38;5;28;43mself\u001b[39;49m\u001b[38;5;241;43m.\u001b[39;49m\u001b[43m_sig\u001b[49m\u001b[43m,\u001b[49m\u001b[43m \u001b[49m\u001b[43margs\u001b[49m\u001b[43m,\u001b[49m\u001b[43m \u001b[49m\u001b[43mloc\u001b[49m\u001b[38;5;241;43m=\u001b[39;49m\u001b[43mloc\u001b[49m\u001b[43m)\u001b[49m\n\u001b[0;32m   1191\u001b[0m     \u001b[38;5;28mself\u001b[39m\u001b[38;5;241m.\u001b[39m_context\u001b[38;5;241m.\u001b[39madd_linking_libs(\u001b[38;5;28mgetattr\u001b[39m(\u001b[38;5;28mself\u001b[39m, \u001b[38;5;124m'\u001b[39m\u001b[38;5;124mlibs\u001b[39m\u001b[38;5;124m'\u001b[39m, ()))\n\u001b[0;32m   1192\u001b[0m     \u001b[38;5;28;01mreturn\u001b[39;00m res\n",
      "File \u001b[1;32mc:\\Users\\JoeN\\miniforge3\\envs\\mlfinlab_env\\lib\\site-packages\\numba\\core\\base.py:1220\u001b[0m, in \u001b[0;36m_wrap_missing_loc.__call__.<locals>.wrapper\u001b[1;34m(*args, **kwargs)\u001b[0m\n\u001b[0;32m   1218\u001b[0m \u001b[38;5;28;01mdef\u001b[39;00m\u001b[38;5;250m \u001b[39m\u001b[38;5;21mwrapper\u001b[39m(\u001b[38;5;241m*\u001b[39margs, \u001b[38;5;241m*\u001b[39m\u001b[38;5;241m*\u001b[39mkwargs):\n\u001b[0;32m   1219\u001b[0m     kwargs\u001b[38;5;241m.\u001b[39mpop(\u001b[38;5;124m'\u001b[39m\u001b[38;5;124mloc\u001b[39m\u001b[38;5;124m'\u001b[39m)     \u001b[38;5;66;03m# drop unused loc\u001b[39;00m\n\u001b[1;32m-> 1220\u001b[0m     \u001b[38;5;28;01mreturn\u001b[39;00m fn(\u001b[38;5;241m*\u001b[39margs, \u001b[38;5;241m*\u001b[39m\u001b[38;5;241m*\u001b[39mkwargs)\n",
      "File \u001b[1;32mc:\\Users\\JoeN\\miniforge3\\envs\\mlfinlab_env\\lib\\site-packages\\numba\\typed\\typedobjectutils.py:29\u001b[0m, in \u001b[0;36m_cast.<locals>.codegen\u001b[1;34m(context, builder, signature, args)\u001b[0m\n\u001b[0;32m     27\u001b[0m \u001b[38;5;28;01mdef\u001b[39;00m\u001b[38;5;250m \u001b[39m\u001b[38;5;21mcodegen\u001b[39m(context, builder, signature, args):\n\u001b[0;32m     28\u001b[0m     [val, typ] \u001b[38;5;241m=\u001b[39m args\n\u001b[1;32m---> 29\u001b[0m     \u001b[43mcontext\u001b[49m\u001b[38;5;241;43m.\u001b[39;49m\u001b[43mnrt\u001b[49m\u001b[38;5;241;43m.\u001b[39;49m\u001b[43mincref\u001b[49m\u001b[43m(\u001b[49m\u001b[43mbuilder\u001b[49m\u001b[43m,\u001b[49m\u001b[43m \u001b[49m\u001b[43msignature\u001b[49m\u001b[38;5;241;43m.\u001b[39;49m\u001b[43mreturn_type\u001b[49m\u001b[43m,\u001b[49m\u001b[43m \u001b[49m\u001b[43mval\u001b[49m\u001b[43m)\u001b[49m\n\u001b[0;32m     30\u001b[0m     \u001b[38;5;28;01mreturn\u001b[39;00m val\n",
      "File \u001b[1;32mc:\\Users\\JoeN\\miniforge3\\envs\\mlfinlab_env\\lib\\site-packages\\numba\\core\\runtime\\context.py:382\u001b[0m, in \u001b[0;36mNRTContext.incref\u001b[1;34m(self, builder, typ, value)\u001b[0m\n\u001b[0;32m    378\u001b[0m \u001b[38;5;28;01mdef\u001b[39;00m\u001b[38;5;250m \u001b[39m\u001b[38;5;21mincref\u001b[39m(\u001b[38;5;28mself\u001b[39m, builder, typ, value):\n\u001b[0;32m    379\u001b[0m \u001b[38;5;250m    \u001b[39m\u001b[38;5;124;03m\"\"\"\u001b[39;00m\n\u001b[0;32m    380\u001b[0m \u001b[38;5;124;03m    Recursively incref the given *value* and its members.\u001b[39;00m\n\u001b[0;32m    381\u001b[0m \u001b[38;5;124;03m    \"\"\"\u001b[39;00m\n\u001b[1;32m--> 382\u001b[0m     \u001b[38;5;28;43mself\u001b[39;49m\u001b[38;5;241;43m.\u001b[39;49m\u001b[43m_call_incref_decref\u001b[49m\u001b[43m(\u001b[49m\u001b[43mbuilder\u001b[49m\u001b[43m,\u001b[49m\u001b[43m \u001b[49m\u001b[43mtyp\u001b[49m\u001b[43m,\u001b[49m\u001b[43m \u001b[49m\u001b[43mvalue\u001b[49m\u001b[43m,\u001b[49m\u001b[43m \u001b[49m\u001b[38;5;124;43m\"\u001b[39;49m\u001b[38;5;124;43mNRT_incref\u001b[39;49m\u001b[38;5;124;43m\"\u001b[39;49m\u001b[43m)\u001b[49m\n",
      "File \u001b[1;32mc:\\Users\\JoeN\\miniforge3\\envs\\mlfinlab_env\\lib\\site-packages\\numba\\core\\runtime\\context.py:367\u001b[0m, in \u001b[0;36mNRTContext._call_incref_decref\u001b[1;34m(self, builder, typ, value, funcname)\u001b[0m\n\u001b[0;32m    363\u001b[0m \u001b[38;5;28mself\u001b[39m\u001b[38;5;241m.\u001b[39m_require_nrt()\n\u001b[0;32m    365\u001b[0m \u001b[38;5;28;01mfrom\u001b[39;00m\u001b[38;5;250m \u001b[39m\u001b[38;5;21;01mnumba\u001b[39;00m\u001b[38;5;21;01m.\u001b[39;00m\u001b[38;5;21;01mcore\u001b[39;00m\u001b[38;5;21;01m.\u001b[39;00m\u001b[38;5;21;01mruntime\u001b[39;00m\u001b[38;5;21;01m.\u001b[39;00m\u001b[38;5;21;01mnrtdynmod\u001b[39;00m\u001b[38;5;250m \u001b[39m\u001b[38;5;28;01mimport\u001b[39;00m incref_decref_ty\n\u001b[1;32m--> 367\u001b[0m meminfos \u001b[38;5;241m=\u001b[39m \u001b[38;5;28;43mself\u001b[39;49m\u001b[38;5;241;43m.\u001b[39;49m\u001b[43mget_meminfos\u001b[49m\u001b[43m(\u001b[49m\u001b[43mbuilder\u001b[49m\u001b[43m,\u001b[49m\u001b[43m \u001b[49m\u001b[43mtyp\u001b[49m\u001b[43m,\u001b[49m\u001b[43m \u001b[49m\u001b[43mvalue\u001b[49m\u001b[43m)\u001b[49m\n\u001b[0;32m    368\u001b[0m \u001b[38;5;28;01mfor\u001b[39;00m _, mi \u001b[38;5;129;01min\u001b[39;00m meminfos:\n\u001b[0;32m    369\u001b[0m     mod \u001b[38;5;241m=\u001b[39m builder\u001b[38;5;241m.\u001b[39mmodule\n",
      "File \u001b[1;32mc:\\Users\\JoeN\\miniforge3\\envs\\mlfinlab_env\\lib\\site-packages\\numba\\core\\runtime\\context.py:355\u001b[0m, in \u001b[0;36mNRTContext.get_meminfos\u001b[1;34m(self, builder, ty, val)\u001b[0m\n\u001b[0;32m    352\u001b[0m     meminfos\u001b[38;5;241m.\u001b[39mappend((ty, mi))\n\u001b[0;32m    354\u001b[0m \u001b[38;5;28;01mfor\u001b[39;00m mtyp, getter \u001b[38;5;129;01min\u001b[39;00m members:\n\u001b[1;32m--> 355\u001b[0m     field \u001b[38;5;241m=\u001b[39m \u001b[43mgetter\u001b[49m\u001b[43m(\u001b[49m\u001b[43mval\u001b[49m\u001b[43m)\u001b[49m\n\u001b[0;32m    356\u001b[0m     inner_meminfos \u001b[38;5;241m=\u001b[39m \u001b[38;5;28mself\u001b[39m\u001b[38;5;241m.\u001b[39mget_meminfos(builder, mtyp, field)\n\u001b[0;32m    357\u001b[0m     meminfos\u001b[38;5;241m.\u001b[39mextend(inner_meminfos)\n",
      "File \u001b[1;32mc:\\Users\\JoeN\\miniforge3\\envs\\mlfinlab_env\\lib\\site-packages\\numba\\core\\datamodel\\old_models.py:713\u001b[0m, in \u001b[0;36mStructModel.traverse.<locals>.getter\u001b[1;34m(k, value)\u001b[0m\n\u001b[0;32m    711\u001b[0m \u001b[38;5;28;01mif\u001b[39;00m value\u001b[38;5;241m.\u001b[39mtype \u001b[38;5;241m!=\u001b[39m \u001b[38;5;28mself\u001b[39m\u001b[38;5;241m.\u001b[39mget_value_type():\n\u001b[0;32m    712\u001b[0m     args \u001b[38;5;241m=\u001b[39m \u001b[38;5;28mself\u001b[39m\u001b[38;5;241m.\u001b[39mget_value_type(), value\u001b[38;5;241m.\u001b[39mtype\n\u001b[1;32m--> 713\u001b[0m     \u001b[38;5;28;01mraise\u001b[39;00m \u001b[38;5;167;01mTypeError\u001b[39;00m(\u001b[38;5;124m\"\u001b[39m\u001b[38;5;124mexpecting \u001b[39m\u001b[38;5;132;01m{0}\u001b[39;00m\u001b[38;5;124m but got \u001b[39m\u001b[38;5;132;01m{1}\u001b[39;00m\u001b[38;5;124m\"\u001b[39m\u001b[38;5;241m.\u001b[39mformat(\u001b[38;5;241m*\u001b[39margs))\n\u001b[0;32m    714\u001b[0m \u001b[38;5;28;01mreturn\u001b[39;00m \u001b[38;5;28mself\u001b[39m\u001b[38;5;241m.\u001b[39mget(builder, value, k)\n",
      "\u001b[1;31mTypeError\u001b[0m: expecting {i8*, i8*, i64, i64, i32*, [1 x i64], [1 x i64]} but got {i8*, i8*, i64, i64, i64*, [1 x i64], [1 x i64]}"
     ]
    }
   ],
   "source": [
    "all_scores, all_scores_df = ml_cross_val_scores_all(\n",
    "    classifier=seq_rf, \n",
    "    X=X_train.iloc[t, :],\n",
    "    y=y_train.iloc[t],\n",
    "    cv_gen=cv_gen,\n",
    "    sample_weight_train=w_train,\n",
    "    sample_weight_score=w_train,\n",
    "    )\n",
    "all_scores_df.round(4)"
   ]
  },
  {
   "cell_type": "code",
   "execution_count": null,
   "id": "9471ed57",
   "metadata": {},
   "outputs": [],
   "source": [
    "winsound.Beep(1000, 1000)"
   ]
  },
  {
   "cell_type": "markdown",
   "id": "36ec20ef",
   "metadata": {},
   "source": [
    "## 3. Moving Average Crossover Strategy"
   ]
  },
  {
   "cell_type": "code",
   "execution_count": 65,
   "id": "7f163b16",
   "metadata": {},
   "outputs": [],
   "source": [
    "from afml.strategies.ma_crossover_feature_engine import ForexFeatureEngine\n",
    "\n",
    "ma_timeframe = \"M5\"\n",
    "file = Path(r\"..\\data\\EURUSD_M15_time_2018-01-01-2024-12-31.parq\")\n",
    "ma_time_bars = pd.read_parquet(file)\n",
    "\n",
    "fast_window, slow_window = 20, 50\n",
    "ma_strategy = MACrossoverStrategy(fast_window, slow_window)\n",
    "ma_pt_barrier, ma_sl_barrier, ma_time_horizon = (0, 2, dict(days=5))\n",
    "ma_vol_multiplier = 1"
   ]
  },
  {
   "cell_type": "markdown",
   "id": "b0e673d8",
   "metadata": {},
   "source": [
    "### Time-Bars"
   ]
  },
  {
   "cell_type": "code",
   "execution_count": 66,
   "id": "34c09a6c",
   "metadata": {},
   "outputs": [
    {
     "name": "stderr",
     "output_type": "stream",
     "text": [
      "\u001b[32m2025-10-27 06:58:41.959\u001b[0m | \u001b[1mINFO    \u001b[0m | \u001b[36mafml.filters.filters\u001b[0m:\u001b[36mcusum_filter\u001b[0m:\u001b[36m151\u001b[0m - \u001b[1m12,748 CUSUM-filtered events\u001b[0m\n"
     ]
    },
    {
     "name": "stdout",
     "output_type": "stream",
     "text": [
      "MACrossover_20_50 Signals:\n",
      "\n",
      "       count  proportion\n",
      "side                    \n",
      "-1    61,845    0.502062\n",
      " 1    61,287    0.497532\n",
      " 0        50    0.000406\n",
      "\n"
     ]
    },
    {
     "name": "stderr",
     "output_type": "stream",
     "text": [
      "\u001b[32m2025-10-27 06:58:42.059\u001b[0m | \u001b[1mINFO    \u001b[0m | \u001b[36mafml.strategies.signal_processing\u001b[0m:\u001b[36mget_entries\u001b[0m:\u001b[36m105\u001b[0m - \u001b[1mMACrossover_20_50 | 12,744 (10.35%) trade events selected by CUSUM filter (threshold = 0.1252%).\u001b[0m\n"
     ]
    }
   ],
   "source": [
    "ma_side = ma_strategy.generate_signals(ma_time_bars)\n",
    "ma_df = ma_time_bars.loc[sample_start : sample_end]\n",
    "\n",
    "\n",
    "print(f\"{ma_strategy.get_strategy_name()} Signals:\")\n",
    "value_counts_data(ma_side.reindex(ma_df.index), verbose=True)\n",
    "\n",
    "# Volatility target for barriers\n",
    "vol_lookback = fast_window\n",
    "vol_target = get_daily_vol(ma_df.close, vol_lookback) * ma_vol_multiplier\n",
    "close = ma_df.close\n",
    "\n",
    "thres = vol_target.mean()\n",
    "_, t_events = get_entries(ma_strategy, ma_df, filter_threshold=vol_target.mean())\n",
    "\n",
    "vertical_barriers = add_vertical_barrier(t_events, close, **ma_time_horizon)\n",
    "linear_decay = False"
   ]
  },
  {
   "cell_type": "markdown",
   "id": "de5f7545",
   "metadata": {},
   "source": [
    "#### Feature Engineering"
   ]
  },
  {
   "cell_type": "code",
   "execution_count": 67,
   "id": "9804e688",
   "metadata": {},
   "outputs": [
    {
     "name": "stdout",
     "output_type": "stream",
     "text": [
      "Memory usage reduced from 106.62 MB to 55.49 MB (48.0% reduction)\n",
      "<class 'pandas.core.frame.DataFrame'>\n",
      "DatetimeIndex: 172386 entries, 2018-01-01 23:15:00 to 2024-12-31 00:00:00\n",
      "Data columns (total 94 columns):\n",
      " #   Column                          Non-Null Count   Dtype  \n",
      "---  ------                          --------------   -----  \n",
      " 0   ma_10                           172386 non-null  float32\n",
      " 1   ma_20                           172386 non-null  float32\n",
      " 2   ma_50                           172386 non-null  float32\n",
      " 3   ma_100                          172386 non-null  float32\n",
      " 4   ma_200                          172386 non-null  float32\n",
      " 5   ma_10_20_cross                  172386 non-null  float64\n",
      " 6   ma_20_50_cross                  172386 non-null  float64\n",
      " 7   ma_50_200_cross                 172386 non-null  float64\n",
      " 8   ma_spread_10_20                 172386 non-null  float32\n",
      " 9   ma_spread_20_50                 172386 non-null  float32\n",
      " 10  ma_spread_50_200                172386 non-null  float32\n",
      " 11  ma_20_slope                     172386 non-null  float32\n",
      " 12  ma_50_slope                     172386 non-null  float32\n",
      " 13  price_above_ma_20               172386 non-null  float64\n",
      " 14  price_above_ma_50               172386 non-null  float64\n",
      " 15  ma_ribbon_aligned               172386 non-null  float64\n",
      " 16  atr_14                          172386 non-null  float32\n",
      " 17  atr_21                          172386 non-null  float32\n",
      " 18  atr_regime                      172386 non-null  float32\n",
      " 19  realized_vol_10                 172386 non-null  float32\n",
      " 20  realized_vol_20                 172386 non-null  float32\n",
      " 21  realized_vol_50                 172386 non-null  float32\n",
      " 22  vol_of_vol                      172386 non-null  float32\n",
      " 23  hl_range                        172386 non-null  float32\n",
      " 24  hl_range_ma                     172386 non-null  float32\n",
      " 25  hl_range_regime                 172386 non-null  float32\n",
      " 26  bb_upper                        172386 non-null  float32\n",
      " 27  bb_lower                        172386 non-null  float32\n",
      " 28  bb_percent                      172386 non-null  float64\n",
      " 29  bb_bandwidth                    172386 non-null  float32\n",
      " 30  bb_squeeze                      172386 non-null  float32\n",
      " 31  efficiency_ratio_14             172386 non-null  float32\n",
      " 32  efficiency_ratio_30             172386 non-null  float32\n",
      " 33  adx_14                          172386 non-null  float32\n",
      " 34  dmp_14                          172386 non-null  float32\n",
      " 35  dmn_14                          172386 non-null  float32\n",
      " 36  adx_trend_strength              172386 non-null  float64\n",
      " 37  adx_trend_direction             172386 non-null  float64\n",
      " 38  trend_window                    172386 non-null  float32\n",
      " 39  trend_slope                     172386 non-null  float32\n",
      " 40  trend_t_value                   172386 non-null  float32\n",
      " 41  trend_rsquared                  172386 non-null  float32\n",
      " 42  trend_ret                       172386 non-null  float32\n",
      " 43  roc_10                          172386 non-null  float32\n",
      " 44  roc_20                          172386 non-null  float32\n",
      " 45  momentum_14                     172386 non-null  float32\n",
      " 46  hh_ll_20                        172386 non-null  float32\n",
      " 47  trend_persistence               172386 non-null  float32\n",
      " 48  return_skew_20                  172386 non-null  float32\n",
      " 49  return_kurtosis_20              172386 non-null  float32\n",
      " 50  var_95                          172386 non-null  float32\n",
      " 51  cvar_95                         172386 non-null  float32\n",
      " 52  market_stress                   172386 non-null  float64\n",
      " 53  current_drawdown                172386 non-null  float32\n",
      " 54  days_since_high                 172386 non-null  float64\n",
      " 55  hour_sin_h1                     172386 non-null  float32\n",
      " 56  hour_cos_h1                     172386 non-null  float32\n",
      " 57  hour_sin_h2                     172386 non-null  float32\n",
      " 58  hour_cos_h2                     172386 non-null  float32\n",
      " 59  hour_sin_h3                     172386 non-null  float32\n",
      " 60  hour_cos_h3                     172386 non-null  float32\n",
      " 61  dayofweek_sin                   172386 non-null  float32\n",
      " 62  dayofweek_cos                   172386 non-null  float32\n",
      " 63  dayofyear_sin                   172386 non-null  float32\n",
      " 64  dayofyear_cos                   172386 non-null  float32\n",
      " 65  sydney_session                  172386 non-null  float64\n",
      " 66  tokyo_session                   172386 non-null  float64\n",
      " 67  london_session                  172386 non-null  float64\n",
      " 68  ny_session                      172386 non-null  float64\n",
      " 69  session_overlap                 172386 non-null  float64\n",
      " 70  friday_ny_close                 172386 non-null  float64\n",
      " 71  sunday_open                     172386 non-null  float64\n",
      " 72  month_end                       172386 non-null  float64\n",
      " 73  quarter_end                     172386 non-null  float64\n",
      " 74  sydney_session_vol              172386 non-null  float32\n",
      " 75  tokyo_session_vol               172386 non-null  float32\n",
      " 76  london_session_vol              172386 non-null  float32\n",
      " 77  ny_session_vol                  172386 non-null  float32\n",
      " 78  session_overlap_vol             172386 non-null  float32\n",
      " 79  friday_ny_close_vol             172386 non-null  float32\n",
      " 80  month_end_vol                   172386 non-null  float32\n",
      " 81  quarter_end_vol                 172386 non-null  float32\n",
      " 82  doji                            172386 non-null  float64\n",
      " 83  hammer                          172386 non-null  float64\n",
      " 84  inside_bar                      172386 non-null  float64\n",
      " 85  outside_bar                     172386 non-null  float64\n",
      " 86  near_recent_high                172386 non-null  float64\n",
      " 87  near_recent_low                 172386 non-null  float64\n",
      " 88  fractal_trend_strength          172386 non-null  float32\n",
      " 89  fractal_trend_direction         172386 non-null  float32\n",
      " 90  fractal_ma_ratio                172386 non-null  float32\n",
      " 91  fractal_trend_confirmation      172386 non-null  float64\n",
      " 92  distance_to_fractal_resistance  172386 non-null  float32\n",
      " 93  distance_to_fractal_support     172386 non-null  float32\n",
      "dtypes: float32(67), float64(27)\n",
      "memory usage: 84.9 MB\n"
     ]
    }
   ],
   "source": [
    "ma_feat_engine = ForexFeatureEngine(pair_name=symbol)\n",
    "ma_feat_time = ma_feat_engine.calculate_all_features(ma_time_bars, ma_timeframe, lr_period=(5, 20))\n",
    "ma_feat_time.info()"
   ]
  },
  {
   "cell_type": "code",
   "execution_count": 68,
   "id": "aef1de34",
   "metadata": {},
   "outputs": [
    {
     "name": "stdout",
     "output_type": "stream",
     "text": [
      "  0. ma_10\n",
      "  1. ma_20\n",
      "  2. ma_50\n",
      "  3. ma_100\n",
      "  4. ma_200\n",
      "  5. ma_10_20_cross\n",
      "  6. ma_20_50_cross\n",
      "  7. ma_50_200_cross\n",
      "  8. ma_spread_10_20\n",
      "  9. ma_spread_20_50\n",
      " 10. ma_spread_50_200\n",
      " 11. ma_20_slope\n",
      " 12. ma_50_slope\n",
      " 13. price_above_ma_20\n",
      " 14. price_above_ma_50\n",
      " 15. ma_ribbon_aligned\n",
      " 16. atr_14\n",
      " 17. atr_21\n",
      " 18. atr_regime\n",
      " 19. realized_vol_10\n",
      " 20. realized_vol_20\n",
      " 21. realized_vol_50\n",
      " 22. vol_of_vol\n",
      " 23. hl_range\n",
      " 24. hl_range_ma\n",
      " 25. hl_range_regime\n",
      " 26. bb_upper\n",
      " 27. bb_lower\n",
      " 28. bb_percent\n",
      " 29. bb_bandwidth\n",
      " 30. bb_squeeze\n",
      " 31. efficiency_ratio_14\n",
      " 32. efficiency_ratio_30\n",
      " 33. adx_14\n",
      " 34. dmp_14\n",
      " 35. dmn_14\n",
      " 36. adx_trend_strength\n",
      " 37. adx_trend_direction\n",
      " 38. trend_window\n",
      " 39. trend_slope\n",
      " 40. trend_t_value\n",
      " 41. trend_rsquared\n",
      " 42. trend_ret\n",
      " 43. roc_10\n",
      " 44. roc_20\n",
      " 45. momentum_14\n",
      " 46. hh_ll_20\n",
      " 47. trend_persistence\n",
      " 48. return_skew_20\n",
      " 49. return_kurtosis_20\n",
      " 50. var_95\n",
      " 51. cvar_95\n",
      " 52. market_stress\n",
      " 53. current_drawdown\n",
      " 54. days_since_high\n",
      " 55. hour_sin_h1\n",
      " 56. hour_cos_h1\n",
      " 57. hour_sin_h2\n",
      " 58. hour_cos_h2\n",
      " 59. hour_sin_h3\n",
      " 60. hour_cos_h3\n",
      " 61. dayofweek_sin\n",
      " 62. dayofweek_cos\n",
      " 63. dayofyear_sin\n",
      " 64. dayofyear_cos\n",
      " 65. sydney_session\n",
      " 66. tokyo_session\n",
      " 67. london_session\n",
      " 68. ny_session\n",
      " 69. session_overlap\n",
      " 70. friday_ny_close\n",
      " 71. sunday_open\n",
      " 72. month_end\n",
      " 73. quarter_end\n",
      " 74. sydney_session_vol\n",
      " 75. tokyo_session_vol\n",
      " 76. london_session_vol\n",
      " 77. ny_session_vol\n",
      " 78. session_overlap_vol\n",
      " 79. friday_ny_close_vol\n",
      " 80. month_end_vol\n",
      " 81. quarter_end_vol\n",
      " 82. doji\n",
      " 83. hammer\n",
      " 84. inside_bar\n",
      " 85. outside_bar\n",
      " 86. near_recent_high\n",
      " 87. near_recent_low\n",
      " 88. fractal_trend_strength\n",
      " 89. fractal_trend_direction\n",
      " 90. fractal_ma_ratio\n",
      " 91. fractal_trend_confirmation\n",
      " 92. distance_to_fractal_resistance\n",
      " 93. distance_to_fractal_support\n"
     ]
    }
   ],
   "source": [
    "for i, col in enumerate(ma_feat_time):\n",
    "    print(f\"{i:>3}. {col}\")"
   ]
  },
  {
   "cell_type": "markdown",
   "id": "b863eb59",
   "metadata": {},
   "source": [
    "#### Triple-Barrier Method"
   ]
  },
  {
   "cell_type": "code",
   "execution_count": 69,
   "id": "1b77596f",
   "metadata": {},
   "outputs": [
    {
     "name": "stdout",
     "output_type": "stream",
     "text": [
      "<class 'pandas.core.frame.DataFrame'>\n",
      "DatetimeIndex: 12716 entries, 2018-01-03 02:45:00 to 2022-12-30 12:30:00\n",
      "Data columns (total 5 columns):\n",
      " #   Column  Non-Null Count  Dtype         \n",
      "---  ------  --------------  -----         \n",
      " 0   t1      12716 non-null  datetime64[ns]\n",
      " 1   trgt    12716 non-null  float64       \n",
      " 2   ret     12716 non-null  float64       \n",
      " 3   bin     12716 non-null  int8          \n",
      " 4   side    12716 non-null  int8          \n",
      "dtypes: datetime64[ns](1), float64(2), int8(2)\n",
      "memory usage: 422.2 KB\n",
      "Triple-Barrier (pt=0, sl=2, h={'days': 5}):\n",
      "\n",
      "     count  proportion\n",
      "bin                   \n",
      "0    9,109    0.716342\n",
      "1    3,607    0.283658\n",
      "\n",
      "Average Uniqueness: 0.0668\n"
     ]
    }
   ],
   "source": [
    "ma_events_tb = triple_barrier_labels(\n",
    "    close=close,\n",
    "    target=vol_target,\n",
    "    t_events=t_events,\n",
    "    pt_sl=[ma_pt_barrier, ma_sl_barrier],\n",
    "    min_ret=min_ret,\n",
    "    vertical_barrier_times=vertical_barriers,\n",
    "    side_prediction=ma_side,\n",
    "    vertical_barrier_zero=False,\n",
    "    verbose=False,\n",
    ")\n",
    "ma_events_tb_time = ma_events_tb.copy()\n",
    "ma_events_tb.info()\n",
    "\n",
    "print(f\"Triple-Barrier (pt={ma_pt_barrier}, sl={ma_sl_barrier}, h={ma_time_horizon}):\")\n",
    "value_counts_data(ma_events_tb.bin, verbose=True)\n",
    "\n",
    "weights = get_event_weights(ma_events_tb, close)\n",
    "av_uniqueness = weights['tW'].mean()\n",
    "print(f\"Average Uniqueness: {av_uniqueness:.4f}\")"
   ]
  },
  {
   "cell_type": "markdown",
   "id": "1c240c6f",
   "metadata": {},
   "source": [
    "#### Cross-Validation of Weighting Methods"
   ]
  },
  {
   "cell_type": "code",
   "execution_count": 70,
   "id": "d72404d8",
   "metadata": {},
   "outputs": [],
   "source": [
    "cont = ma_events_tb_time.copy()\n",
    "X = ma_feat_time.reindex(cont.index)\n",
    "y = cont[\"bin\"]\n",
    "t1 = cont[\"t1\"]\n",
    "\n",
    "test_size = 0.2\n",
    "n_splits = 10\n",
    "pct_embargo = 0.01\n",
    "\n",
    "train, test = PurgedSplit(t1, test_size).split(X)\n",
    "X_train, X_test, y_train, y_test = (\n",
    "        X.iloc[train],\n",
    "        X.iloc[test],\n",
    "        y.iloc[train],\n",
    "        y.iloc[test],\n",
    "    )\n",
    "cont_train = get_event_weights(cont.iloc[train], ma_df.close)\n",
    "avg_u = cont_train.tW.mean()"
   ]
  },
  {
   "cell_type": "code",
   "execution_count": 71,
   "id": "7edaa4d0",
   "metadata": {},
   "outputs": [
    {
     "data": {
      "text/plain": [
       "dict_keys(['unweighted', 'uniqueness', 'return'])"
      ]
     },
     "execution_count": 71,
     "metadata": {},
     "output_type": "execute_result"
    }
   ],
   "source": [
    "decay_factors = [0.0, 0.1, 0.25, 0.5, 0.75, 0.9]\n",
    "time_decay_weights = {}\n",
    "for time_decay in decay_factors:\n",
    "    for linear in (1, 0):\n",
    "        decay_w = get_weights_by_time_decay_optimized(\n",
    "                    triple_barrier_events=cont,\n",
    "                    close_index=close.index,\n",
    "                    last_weight=time_decay,\n",
    "                    linear=linear,\n",
    "                    av_uniqueness=cont_train[\"tW\"],\n",
    "                )\n",
    "        method = \"linear\" if linear else \"exp\"\n",
    "        time_decay_weights[f\"{method}_time_decay_{time_decay}\"] = decay_w\n",
    "        \n",
    "weighting_schemes = {\n",
    "    \"unweighted\": pd.Series(1., index=cont_train.index),\n",
    "    \"uniqueness\": cont_train[\"tW\"],\n",
    "    \"return\": cont_train[\"w\"],\n",
    "    }\n",
    "\n",
    "# for k, v in time_decay_weights.items():\n",
    "#     weighting_schemes[k] = v\n",
    "\n",
    "weighting_schemes.keys()"
   ]
  },
  {
   "cell_type": "code",
   "execution_count": 72,
   "id": "45cd0230",
   "metadata": {},
   "outputs": [
    {
     "name": "stdout",
     "output_type": "stream",
     "text": [
      "Average uniqueness: 0.0735\n",
      "\n"
     ]
    }
   ],
   "source": [
    "random_state = 42\n",
    "min_w_leaf = 0.05\n",
    "print(f\"Average uniqueness: {avg_u:.4f}\\n\")\n",
    "rf = RandomForestClassifier(\n",
    "    criterion='entropy',\n",
    "    n_estimators=100,\n",
    "    random_state=random_state,\n",
    "    min_weight_fraction_leaf=min_w_leaf,\n",
    "    n_jobs=-1,  # Use all available cores\n",
    "    )\n",
    "\n",
    "clf0 = rf\n",
    "clf1 = clone(rf).set_params(class_weight='balanced_subsample')\n",
    "clf2 = clone(rf).set_params(max_samples=avg_u)\n",
    "clf3 = clone(rf).set_params(max_samples=avg_u, class_weight='balanced_subsample')\n",
    "clfs = {k: v for k, v in zip(['standard', 'balanced_subsample', 'max_samples', 'combined'], [clf0, clf1, clf2, clf3])}"
   ]
  },
  {
   "cell_type": "code",
   "execution_count": 73,
   "id": "a00a9faa",
   "metadata": {},
   "outputs": [
    {
     "data": {
      "image/png": "[encoded data removed]",
      "text/plain": [
       "<Figure size 640x480 with 1 Axes>"
      ]
     },
     "metadata": {},
     "output_type": "display_data"
    }
   ],
   "source": [
    "cont_train[\"tW\"].hist(bins=100, grid=False)\n",
    "plt.title(f\"Average Uniqueness - MA_{fast_window}_{slow_window} Crossover Strategy\");"
   ]
  },
  {
   "cell_type": "code",
   "execution_count": 74,
   "id": "38d38785",
   "metadata": {},
   "outputs": [
    {
     "name": "stdout",
     "output_type": "stream",
     "text": [
      "RandomForestClassifier Weighting Schemes\n",
      "unweighted balanced_subsample model achieved the best f1 score of 0.405778\n",
      "uniqueness balanced_subsample model achieved the best f1 score of 0.326313\n",
      "return combined model achieved the best f1 score of 0.674708\n",
      "\n",
      "                           unweighted         uniqueness             return\n",
      "standard            0.000000 ± 0.0000  0.000000 ± 0.0000  0.480684 ± 0.1373\n",
      "balanced_subsample  0.405778 ± 0.0620  0.326313 ± 0.0933  0.674708 ± 0.0518\n",
      "max_samples         0.000000 ± 0.0000  0.000000 ± 0.0000  0.291804 ± 0.1409\n",
      "combined            0.358043 ± 0.0838  0.249652 ± 0.1109  0.674708 ± 0.0518\n",
      "\n",
      "Selected Best Classifier (balanced_subsample): RandomForestClassifier(class_weight='balanced_subsample', criterion='entropy',\n",
      "                       min_weight_fraction_leaf=0.05, n_jobs=-1,\n",
      "                       random_state=42)\n"
     ]
    }
   ],
   "source": [
    "cv_gen = PurgedKFold(n_splits, cont_train.t1, pct_embargo)\n",
    "cv_scores_d = {k: {} for k in clfs.keys()}\n",
    "print(rf.__class__.__name__, \"Weighting Schemes\")\n",
    "all_clf_scores_df = pd.DataFrame(dtype=pd.StringDtype())\n",
    "best_models = []\n",
    "\n",
    "for scheme, sample_weights in weighting_schemes.items():\n",
    "    best_score, best_model = None, None\n",
    "    for param, clf in clfs.items():\n",
    "        w = sample_weights.values\n",
    "        cv_scores = ml_cross_val_score(\n",
    "            clf, X_train, y_train, cv_gen, \n",
    "            sample_weight_train=w, \n",
    "            sample_weight_score=w,\n",
    "            scoring=\"f1\",\n",
    "        )\n",
    "        score = cv_scores.mean()\n",
    "        cv_scores_d[param][scheme] = score\n",
    "        best_score = max(best_score, score) if best_score is not None else score\n",
    "        if score == best_score:\n",
    "            best_model = param\n",
    "        all_clf_scores_df.loc[param, scheme] = f\"{cv_scores.mean():.6f} ± {cv_scores.std():.4f}\"\n",
    "    best_models.append(best_model)\n",
    "    print(f\"{scheme} {best_model} model achieved the best f1 score of {best_score:.6f}\")\n",
    "\n",
    "print()\n",
    "pprint(all_clf_scores_df, sort_dicts=False)\n",
    "best_model = max(best_models, key=best_models.count)\n",
    "best_clf = clone(clfs[best_model])\n",
    "print(f\"\\nSelected Best Classifier ({best_model}): {best_clf}\")"
   ]
  },
  {
   "cell_type": "code",
   "execution_count": null,
   "id": "ec81f6d4",
   "metadata": {},
   "outputs": [
    {
     "name": "stdout",
     "output_type": "stream",
     "text": [
      "                   unweighted       uniqueness           return\n",
      "accuracy       0.5640 ± 0.081   0.6234 ± 0.070   0.5116 ± 0.063\n",
      "pwa            0.5954 ± 0.103   0.7045 ± 0.070   0.5103 ± 0.065\n",
      "neg_log_loss  -0.6810 ± 0.025  -0.6501 ± 0.024  -0.7781 ± 0.058\n",
      "precision      0.3450 ± 0.036   0.3223 ± 0.046   0.5116 ± 0.063\n",
      "recall         0.5335 ± 0.186   0.3749 ± 0.181   1.0000 ± 0.000\n",
      "f1             0.4058 ± 0.062   0.3263 ± 0.093   0.6747 ± 0.052\n",
      "\n",
      "return model achieved the best f1 score of 0.674708\n",
      "\n"
     ]
    }
   ],
   "source": [
    "all_cv_scores_d = {}\n",
    "all_cms = {}\n",
    "best_score, best_model = None, None\n",
    "all_cv_scores_df = pd.DataFrame(dtype=pd.StringDtype())\n",
    "\n",
    "for scheme, sample_weights in weighting_schemes.items():\n",
    "    w = sample_weights.values\n",
    "    cv_scores, cv_scores_df, cms = ml_cross_val_scores_all(\n",
    "        best_clf, X_train, y_train, cv_gen, \n",
    "        sample_weight_train=w, \n",
    "        sample_weight_score=w,\n",
    "    )\n",
    "    score = cv_scores['f1'].mean()\n",
    "    all_cv_scores_d[scheme] = cv_scores\n",
    "    all_cms[scheme] = cms\n",
    "    best_score = max(best_score, score) if best_score is not None else score\n",
    "    if score == best_score:\n",
    "        best_model = scheme\n",
    "    for idx, row in cv_scores_df.iterrows():\n",
    "        all_cv_scores_df.loc[idx, scheme] = f\"{row['mean']:.6f} ± {row['std']:.3f}\"\n",
    "pprint(all_cv_scores_df)\n",
    "print(f\"\\n{best_model} model achieved the best f1 score of {best_score:.6f}\\n\")"
   ]
  },
  {
   "cell_type": "code",
   "execution_count": 76,
   "id": "b0d97e4f",
   "metadata": {},
   "outputs": [
    {
     "name": "stdout",
     "output_type": "stream",
     "text": [
      "{'unweighted': [{'fold': 1, 'TN': 393.0, 'FP': 328.0, 'FN': 110.0, 'TP': 185.0},\n",
      "                {'fold': 2, 'TN': 483.0, 'FP': 248.0, 'FN': 158.0, 'TP': 127.0},\n",
      "                {'fold': 3, 'TN': 450.0, 'FP': 279.0, 'FN': 156.0, 'TP': 131.0},\n",
      "                {'fold': 4, 'TN': 578.0, 'FP': 161.0, 'FN': 187.0, 'TP': 90.0},\n",
      "                {'fold': 5, 'TN': 139.0, 'FP': 482.0, 'FN': 80.0, 'TP': 315.0},\n",
      "                {'fold': 6, 'TN': 336.0, 'FP': 419.0, 'FN': 91.0, 'TP': 170.0},\n",
      "                {'fold': 7, 'TN': 518.0, 'FP': 229.0, 'FN': 158.0, 'TP': 111.0},\n",
      "                {'fold': 8, 'TN': 596.0, 'FP': 127.0, 'FN': 205.0, 'TP': 88.0},\n",
      "                {'fold': 9, 'TN': 480.0, 'FP': 267.0, 'FN': 150.0, 'TP': 119.0},\n",
      "                {'fold': 10,\n",
      "                 'TN': 129.0,\n",
      "                 'FP': 554.0,\n",
      "                 'FN': 41.0,\n",
      "                 'TP': 292.0}],\n",
      " 'uniqueness': [{'fold': 1, 'TN': 30.15, 'FP': 15.23, 'FN': 8.09, 'TP': 8.55},\n",
      "                {'fold': 2, 'TN': 38.07, 'FP': 12.72, 'FN': 11.85, 'TP': 5.95},\n",
      "                {'fold': 3, 'TN': 42.39, 'FP': 14.82, 'FN': 14.37, 'TP': 6.75},\n",
      "                {'fold': 4, 'TN': 90.37, 'FP': 8.22, 'FN': 27.62, 'TP': 3.48},\n",
      "                {'fold': 5, 'TN': 15.7, 'FP': 10.91, 'FN': 8.86, 'TP': 7.94},\n",
      "                {'fold': 6, 'TN': 25.53, 'FP': 18.85, 'FN': 6.98, 'TP': 7.0},\n",
      "                {'fold': 7, 'TN': 42.51, 'FP': 15.83, 'FN': 12.6, 'TP': 5.37},\n",
      "                {'fold': 8, 'TN': 68.25, 'FP': 6.42, 'FN': 21.56, 'TP': 3.62},\n",
      "                {'fold': 9, 'TN': 52.85, 'FP': 14.41, 'FN': 14.41, 'TP': 6.12},\n",
      "                {'fold': 10, 'TN': 11.95, 'FP': 18.37, 'FN': 2.93, 'TP': 9.08}],\n",
      " 'return': [{'fold': 1, 'TN': 0.0, 'FP': 435.9, 'FN': 0.0, 'TP': 519.53},\n",
      "            {'fold': 2, 'TN': 0.0, 'FP': 514.25, 'FN': 0.0, 'TP': 489.13},\n",
      "            {'fold': 3, 'TN': 0.0, 'FP': 536.09, 'FN': 0.0, 'TP': 440.01},\n",
      "            {'fold': 4, 'TN': 0.0, 'FP': 657.04, 'FN': 0.0, 'TP': 642.66},\n",
      "            {'fold': 5, 'TN': 0.0, 'FP': 302.37, 'FN': 0.0, 'TP': 646.52},\n",
      "            {'fold': 6, 'TN': 0.0, 'FP': 484.12, 'FN': 0.0, 'TP': 447.37},\n",
      "            {'fold': 7, 'TN': 0.0, 'FP': 547.72, 'FN': 0.0, 'TP': 466.52},\n",
      "            {'fold': 8, 'TN': 0.0, 'FP': 568.0, 'FN': 0.0, 'TP': 563.98},\n",
      "            {'fold': 9, 'TN': 0.0, 'FP': 579.0, 'FN': 0.0, 'TP': 534.86},\n",
      "            {'fold': 10, 'TN': 0.0, 'FP': 361.7, 'FN': 0.0, 'TP': 423.23}]}\n"
     ]
    }
   ],
   "source": [
    "pprint(all_cms, sort_dicts=False)"
   ]
  },
  {
   "cell_type": "code",
   "execution_count": 77,
   "id": "917bdda2",
   "metadata": {},
   "outputs": [],
   "source": [
    "winsound.Beep(1000, 1000)"
   ]
  }
 ],
 "metadata": {
  "kernelspec": {
   "display_name": "mlfinlab_env",
   "language": "python",
   "name": "python3"
  },
  "language_info": {
   "codemirror_mode": {
    "name": "ipython",
    "version": 3
   },
   "file_extension": ".py",
   "mimetype": "text/x-python",
   "name": "python",
   "nbconvert_exporter": "python",
   "pygments_lexer": "ipython3",
   "version": "3.10.18"
  }
 },
 "nbformat": 4,
 "nbformat_minor": 5
}
