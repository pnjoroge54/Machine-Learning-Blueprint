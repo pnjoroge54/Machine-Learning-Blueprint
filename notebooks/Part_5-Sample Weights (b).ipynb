{
 "cells": [
  {
   "cell_type": "markdown",
   "id": "883cfcc8",
   "metadata": {
    "vscode": {
     "languageId": "plaintext"
    }
   },
   "source": [
    "# Meta-Labeling Experiments: A Step-by-Step Guide\n",
    "\n",
    "## Introduction\n",
    "\n",
    "This notebook recreates the meta-labeling experiments from Hudson & Thames' research in a beginner-friendly manner. Meta-labeling is a machine learning technique that sits on top of a primary trading strategy to improve performance by filtering out false positive signals.\n",
    "\n",
    "**Key Concepts:**\n",
    "- **Primary Model**: Generates trading signals (buy/sell/hold)\n",
    "- **Triple Barrier Method**: Advanced labeling technique that accounts for stop-loss, take-profit, and time-based exits\n",
    "- **Meta-Labeling**: Secondary ML model that decides whether to act on primary model signals\n",
    "- **Goal**: Improve Sharpe ratio, reduce drawdown, and increase precision\n",
    "\n",
    "## Setup and Dependencies"
   ]
  },
  {
   "cell_type": "code",
   "execution_count": 3,
   "id": "607009b9",
   "metadata": {},
   "outputs": [
    {
     "name": "stderr",
     "output_type": "stream",
     "text": [
      "\u001b[32m2025-10-23 01:30:19.611\u001b[0m | \u001b[34m\u001b[1mDEBUG   \u001b[0m | \u001b[36mafml.cache\u001b[0m:\u001b[36m<module>\u001b[0m:\u001b[36m344\u001b[0m - \u001b[34m\u001b[1mAuto-reload functionality available\u001b[0m\n",
      "\u001b[32m2025-10-23 01:30:19.613\u001b[0m | \u001b[34m\u001b[1mDEBUG   \u001b[0m | \u001b[36mafml.cache\u001b[0m:\u001b[36m_configure_numba\u001b[0m:\u001b[36m61\u001b[0m - \u001b[34m\u001b[1mNumba cache configured: C:\\Users\\JoeN\\AppData\\Local\\afml\\afml\\Cache\\numba_cache\u001b[0m\n",
      "\u001b[32m2025-10-23 01:30:19.614\u001b[0m | \u001b[1mINFO    \u001b[0m | \u001b[36mafml.cache\u001b[0m:\u001b[36minitialize_cache_system\u001b[0m:\u001b[36m310\u001b[0m - \u001b[1mAFML cache system initialized:\u001b[0m\n",
      "\u001b[32m2025-10-23 01:30:19.618\u001b[0m | \u001b[1mINFO    \u001b[0m | \u001b[36mafml.cache\u001b[0m:\u001b[36minitialize_cache_system\u001b[0m:\u001b[36m311\u001b[0m - \u001b[1m  Joblib cache: C:\\Users\\JoeN\\AppData\\Local\\afml\\afml\\Cache\\joblib_cache\u001b[0m\n",
      "\u001b[32m2025-10-23 01:30:19.620\u001b[0m | \u001b[1mINFO    \u001b[0m | \u001b[36mafml.cache\u001b[0m:\u001b[36minitialize_cache_system\u001b[0m:\u001b[36m312\u001b[0m - \u001b[1m  Numba cache: C:\\Users\\JoeN\\AppData\\Local\\afml\\afml\\Cache\\numba_cache\u001b[0m\n",
      "\u001b[32m2025-10-23 01:30:19.623\u001b[0m | \u001b[1mINFO    \u001b[0m | \u001b[36mafml.cache\u001b[0m:\u001b[36minitialize_cache_system\u001b[0m:\u001b[36m318\u001b[0m - \u001b[1m  Loaded stats: 4 functions, 37.8% hit rate\u001b[0m\n",
      "\u001b[32m2025-10-23 01:30:26.917\u001b[0m | \u001b[34m\u001b[1mDEBUG   \u001b[0m | \u001b[36mafml.cache.selective_cleaner\u001b[0m:\u001b[36m_load_tracking_data\u001b[0m:\u001b[36m39\u001b[0m - \u001b[34m\u001b[1mLoaded tracking data for 17 functions\u001b[0m\n",
      "\u001b[32m2025-10-23 01:30:33.505\u001b[0m | \u001b[34m\u001b[1mDEBUG   \u001b[0m | \u001b[36mafml\u001b[0m:\u001b[36m<module>\u001b[0m:\u001b[36m91\u001b[0m - \u001b[34m\u001b[1mImported lightweight modules directly\u001b[0m\n",
      "\u001b[32m2025-10-23 01:30:33.507\u001b[0m | \u001b[1mINFO    \u001b[0m | \u001b[36mafml\u001b[0m:\u001b[36m<module>\u001b[0m:\u001b[36m375\u001b[0m - \u001b[1mAFML v1.0.0 ready - 10 heavy modules available for lazy loading\u001b[0m\n",
      "\u001b[32m2025-10-23 01:30:33.509\u001b[0m | \u001b[34m\u001b[1mDEBUG   \u001b[0m | \u001b[36mafml\u001b[0m:\u001b[36m<module>\u001b[0m:\u001b[36m378\u001b[0m - \u001b[34m\u001b[1mCache status: Hit rate: 37.8% | Tracked functions: 4 | Heavy modules loaded: 0\u001b[0m\n",
      "\u001b[32m2025-10-23 01:30:33.512\u001b[0m | \u001b[1mINFO    \u001b[0m | \u001b[36mafml\u001b[0m:\u001b[36msetup_jupyter\u001b[0m:\u001b[36m214\u001b[0m - \u001b[1mSetting up AFML for Jupyter notebook...\u001b[0m\n",
      "\u001b[32m2025-10-23 01:30:33.515\u001b[0m | \u001b[34m\u001b[1mDEBUG   \u001b[0m | \u001b[36mafml.cache\u001b[0m:\u001b[36m_configure_numba\u001b[0m:\u001b[36m61\u001b[0m - \u001b[34m\u001b[1mNumba cache configured: C:\\Users\\JoeN\\AppData\\Local\\afml\\afml\\Cache\\numba_cache\u001b[0m\n",
      "\u001b[32m2025-10-23 01:30:33.520\u001b[0m | \u001b[1mINFO    \u001b[0m | \u001b[36mafml.cache\u001b[0m:\u001b[36minitialize_cache_system\u001b[0m:\u001b[36m310\u001b[0m - \u001b[1mAFML cache system initialized:\u001b[0m\n",
      "\u001b[32m2025-10-23 01:30:33.521\u001b[0m | \u001b[1mINFO    \u001b[0m | \u001b[36mafml.cache\u001b[0m:\u001b[36minitialize_cache_system\u001b[0m:\u001b[36m311\u001b[0m - \u001b[1m  Joblib cache: C:\\Users\\JoeN\\AppData\\Local\\afml\\afml\\Cache\\joblib_cache\u001b[0m\n",
      "\u001b[32m2025-10-23 01:30:33.523\u001b[0m | \u001b[1mINFO    \u001b[0m | \u001b[36mafml.cache\u001b[0m:\u001b[36minitialize_cache_system\u001b[0m:\u001b[36m312\u001b[0m - \u001b[1m  Numba cache: C:\\Users\\JoeN\\AppData\\Local\\afml\\afml\\Cache\\numba_cache\u001b[0m\n",
      "\u001b[32m2025-10-23 01:30:33.526\u001b[0m | \u001b[1mINFO    \u001b[0m | \u001b[36mafml.cache\u001b[0m:\u001b[36minitialize_cache_system\u001b[0m:\u001b[36m318\u001b[0m - \u001b[1m  Loaded stats: 4 functions, 37.8% hit rate\u001b[0m\n",
      "\u001b[32m2025-10-23 01:30:33.534\u001b[0m | \u001b[1mINFO    \u001b[0m | \u001b[36mafml.cache.auto_reload\u001b[0m:\u001b[36mstart_watching\u001b[0m:\u001b[36m52\u001b[0m - \u001b[1mWatching for changes: C:\\Users\\JoeN\\Documents\\GitHub\\Machine-Learning-Blueprint\\notebooks\u001b[0m\n",
      "\u001b[32m2025-10-23 01:30:33.554\u001b[0m | \u001b[1mINFO    \u001b[0m | \u001b[36mafml.cache.auto_reload\u001b[0m:\u001b[36mstart_watching\u001b[0m:\u001b[36m52\u001b[0m - \u001b[1mWatching for changes: C:\\Users\\JoeN\\Documents\\GitHub\\Machine-Learning-Blueprint\\notebooks\u001b[0m\n",
      "\u001b[32m2025-10-23 01:30:33.558\u001b[0m | \u001b[1mINFO    \u001b[0m | \u001b[36mafml\u001b[0m:\u001b[36msetup_jupyter\u001b[0m:\u001b[36m223\u001b[0m - \u001b[1mAuto-reload enabled\u001b[0m\n",
      "\u001b[32m2025-10-23 01:30:33.560\u001b[0m | \u001b[1mINFO    \u001b[0m | \u001b[36mafml\u001b[0m:\u001b[36msetup_jupyter\u001b[0m:\u001b[36m237\u001b[0m - \u001b[1mCache ready: 37.8% hit rate\u001b[0m\n"
     ]
    },
    {
     "name": "stdout",
     "output_type": "stream",
     "text": [
      "Auto-reload available: True\n",
      "Working Dir: c:\\Users\\JoeN\\Documents\\GitHub\\Machine-Learning-Blueprint\\notebooks\n"
     ]
    }
   ],
   "source": [
    "# --- Extension Setup ---\n",
    "%reload_ext autoreload\n",
    "%load_ext line_profiler\n",
    "%autoreload 3 -p\n",
    "\n",
    "# --- Module Imports ---\n",
    "import sys\n",
    "sys.path.append(\"..\")  # Adjust if your afml repo is nested differently\n",
    "\n",
    "# --- Autoreload Target ---\n",
    "%aimport afml\n",
    "\n",
    "# --- AFML Initialization ---\n",
    "import afml\n",
    "\n",
    "# Check if auto-reload is available\n",
    "print(f\"Auto-reload available: {afml.AUTO_RELOAD_AVAILABLE}\")\n",
    "\n",
    "# Setup with auto-reload enabled\n",
    "app = afml.setup_jupyter(enable_auto_reload=True)\n",
    "\n",
    "# # --- Logging (Optional but Recommended) ---\n",
    "# from loguru import logger\n",
    "# from pathlib import Path\n",
    "\n",
    "# # Optional: clear old logs\n",
    "# log_path = Path(\"logs\") / \"afml_session.log\"\n",
    "# log_path.parent.mkdir(exist_ok=True)\n",
    "# log_path.unlink(missing_ok=True)\n",
    "\n",
    "# # Configure Loguru\n",
    "# logger.add(log_path, level=\"INFO\", rotation=\"10 MB\", retention=\"10 days\")\n",
    "# logger.info(\"Session started\")\n",
    "\n",
    "# --- Environment Diagnostics ---\n",
    "from pathlib import Path\n",
    "print(f\"Working Dir: {Path.cwd()}\")\n"
   ]
  },
  {
   "cell_type": "code",
   "execution_count": 4,
   "id": "2507ee02",
   "metadata": {},
   "outputs": [],
   "source": [
    "import warnings\n",
    "import winsound\n",
    "from datetime import datetime as dt\n",
    "from datetime import timedelta\n",
    "from pathlib import Path\n",
    "from pprint import pprint\n",
    "\n",
    "import matplotlib.pyplot as plt\n",
    "import MetaTrader5 as mt5\n",
    "import numpy as np\n",
    "import pandas as pd\n",
    "import pandas_ta as ta\n",
    "import seaborn as sns\n",
    "import talib\n",
    "from sklearn.ensemble import RandomForestClassifier\n",
    "from sklearn.metrics import accuracy_score, f1_score, log_loss, precision_score, recall_score\n",
    "from sklearn.base import clone\n",
    "\n",
    "from afml.backtest_statistics import calculate_performance_metrics\n",
    "from afml.bet_sizing.bet_sizing import (\n",
    "    bet_size_budget,\n",
    "    bet_size_probability,\n",
    "    bet_size_reserve,\n",
    ")\n",
    "from afml.cache import cache_maintenance, clear_afml_cache, selective_cache_clear\n",
    "from afml.cross_validation.cross_validation import (\n",
    "    PurgedKFold,\n",
    "    PurgedSplit,\n",
    "    ml_cross_val_score,\n",
    "    ml_cross_val_scores_all,\n",
    "    best_weighting_by_mean_score,\n",
    ")\n",
    "from afml.cross_validation.scoring import probability_weighted_accuracy\n",
    "from afml.data_structures.bars import make_bars, calculate_ticks_per_period\n",
    "from afml.features import get_fractal_features, get_time_features, is_stationary\n",
    "from afml.filters import cusum_filter, z_score_filter\n",
    "from afml.labeling import (\n",
    "    add_vertical_barrier,\n",
    "    drop_labels,\n",
    "    get_event_weights,\n",
    "    get_events,\n",
    "    trend_scanning_labels,\n",
    "    triple_barrier_labels,\n",
    ")\n",
    "from afml.mt5.load_data import (\n",
    "    clean_tick_data,\n",
    "    get_ticks,\n",
    "    load_tick_data,\n",
    "    login_mt5,\n",
    "    save_data_to_parquet,\n",
    ")\n",
    "from afml.sample_weights.optimized_attribution import (\n",
    "    get_weights_by_time_decay_optimized,\n",
    ")\n",
    "from afml.sampling import (\n",
    "    SequentiallyBootstrappedBaggingClassifier,\n",
    "    get_ind_mat_average_uniqueness,\n",
    "    get_ind_matrix,\n",
    "    seq_bootstrap,\n",
    "    precompute_active_indices,\n",
    ")\n",
    "from afml.strategies import (\n",
    "    BollingerStrategy,\n",
    "    MACrossoverStrategy,\n",
    "    create_bollinger_features,\n",
    "    get_entries,\n",
    "    plot_bbands,\n",
    "    plot_bbands_dual_bbp_bw,\n",
    ")\n",
    "from afml.util import (\n",
    "    CLEAN_DATA_PATH,\n",
    "    COMMODITIES,\n",
    "    CRYPTO,\n",
    "    DATA_PATH,\n",
    "    FX_MAJORS,\n",
    "    GREEKS,\n",
    "    PERCENTILES,\n",
    "    UTC,\n",
    "    DataFrameFormatter,\n",
    "    get_daily_vol,\n",
    "    get_period_vol,\n",
    "    smart_subscript,\n",
    "    to_subscript,\n",
    "    value_counts_data,\n",
    ")\n",
    "\n",
    "warnings.filterwarnings(\"ignore\")\n",
    "plt.style.use(\"dark_background\")"
   ]
  },
  {
   "cell_type": "code",
   "execution_count": 5,
   "id": "bf608c7b",
   "metadata": {},
   "outputs": [
    {
     "name": "stderr",
     "output_type": "stream",
     "text": [
      "\u001b[32m2025-10-23 01:30:39.998\u001b[0m | \u001b[1mINFO    \u001b[0m | \u001b[36mafml.cache.selective_cleaner\u001b[0m:\u001b[36mselective_cache_clear\u001b[0m:\u001b[36m274\u001b[0m - \u001b[1mNo function changes detected\u001b[0m\n",
      "\u001b[32m2025-10-23 01:30:40.125\u001b[0m | \u001b[1mINFO    \u001b[0m | \u001b[36mafml.cache.selective_cleaner\u001b[0m:\u001b[36mcache_maintenance\u001b[0m:\u001b[36m425\u001b[0m - \u001b[1mCache maintenance completed: 10 functions checked\u001b[0m\n"
     ]
    },
    {
     "name": "stdout",
     "output_type": "stream",
     "text": [
      "{'functions_checked': 10,\n",
      " 'changed_functions': [],\n",
      " 'cleared_functions': [],\n",
      " 'size_cleared_mb': 0,\n",
      " 'old_files_removed': 0}\n"
     ]
    }
   ],
   "source": [
    "# clear_afml_cache()\n",
    "pprint(cache_maintenance(), sort_dicts=False)"
   ]
  },
  {
   "cell_type": "markdown",
   "id": "160822e7",
   "metadata": {},
   "source": [
    "## 1. Data Preparation"
   ]
  },
  {
   "cell_type": "code",
   "execution_count": 6,
   "id": "2f257b76",
   "metadata": {},
   "outputs": [
    {
     "name": "stderr",
     "output_type": "stream",
     "text": [
      "\u001b[32m2025-10-23 01:30:40.804\u001b[0m | \u001b[1mINFO    \u001b[0m | \u001b[36mafml.mt5.load_data\u001b[0m:\u001b[36mlogin_mt5\u001b[0m:\u001b[36m83\u001b[0m - \u001b[1mAttempting to log in to MT5 with account: FundedNext_STLR2_6K\u001b[0m\n",
      "\u001b[32m2025-10-23 01:30:49.561\u001b[0m | \u001b[32m\u001b[1mSUCCESS \u001b[0m | \u001b[36mafml.mt5.load_data\u001b[0m:\u001b[36mlogin_mt5\u001b[0m:\u001b[36m94\u001b[0m - \u001b[32m\u001b[1mSuccessfully logged in to MT5 as FundedNext_STLR2_6K.\u001b[0m\n",
      "\u001b[32m2025-10-23 01:30:49.566\u001b[0m | \u001b[1mINFO    \u001b[0m | \u001b[36mafml.mt5.load_data\u001b[0m:\u001b[36mlogin_mt5\u001b[0m:\u001b[36m96\u001b[0m - \u001b[1mMT5 Version: (500, 5370, '17 Oct 2025')\u001b[0m\n",
      "\u001b[32m2025-10-23 01:30:49.574\u001b[0m | \u001b[1mINFO    \u001b[0m | \u001b[36mafml.mt5.load_data\u001b[0m:\u001b[36mlogin_mt5\u001b[0m:\u001b[36m99\u001b[0m - \u001b[1mConnected to MetaTrader 5 at C:\\Program Files\\MetaTrader 5\u001b[0m\n"
     ]
    },
    {
     "data": {
      "text/plain": [
       "'FundedNext_STLR2_6K'"
      ]
     },
     "execution_count": 6,
     "metadata": {},
     "output_type": "execute_result"
    }
   ],
   "source": [
    "account = \"FundedNext_STLR2_6K\"\n",
    "\n",
    "# Your transaction cost constants\n",
    "COST_PER_ROUND_LOT = 3.00\n",
    "UNITS_PER_LOT = 100000\n",
    "COST_PER_UNIT = COST_PER_ROUND_LOT / UNITS_PER_LOT\n",
    "\n",
    "# account = \"METAQUOTES_DEMO_25K\"\n",
    "# account = login_mt5(account)\n",
    "symbol = \"EURUSD\"\n",
    "columns = ['bid', 'ask']\n",
    "tick_bar_dict = {\"M1\": 50, \"M5\": 200, \"M15\": 700, \"M30\": 1000, \"H1\": 3000}\n",
    "tick_df = None\n",
    "\n",
    "start_date, end_date = \"2018-01-01\", \"2024-12-31\"\n",
    "sample_start, sample_end = start_date, \"2022-12-31\"\n",
    "oos_start = pd.Timestamp(sample_end) + timedelta(days=1) # Out-of-sample start date\n",
    "login_mt5(account)"
   ]
  },
  {
   "cell_type": "code",
   "execution_count": 7,
   "id": "f816170a",
   "metadata": {},
   "outputs": [],
   "source": [
    "def get_data(symbol, timeframe, dirpath=\"../data\"):\n",
    "    \"\"\"Returns time-bars and tick-bars for timeframe\"\"\"\n",
    "    global tick_df\n",
    "    timeframe = timeframe.title()\n",
    "    directory = Path(dirpath)\n",
    "    tick_bar_size = tick_bar_dict.get(timeframe)\n",
    "    fname = Path(dirpath, f\"{symbol}_{timeframe}_time_{start_date}-{end_date}.parq\")\n",
    "    fname1 = Path(dirpath, f\"{symbol}_{timeframe}_tick-{tick_bar_size}_{start_date}-{end_date}.parq\")\n",
    "    time_bars, tick_bars = (None, None)\n",
    "\n",
    "    # --- Construct the search pattern ---\n",
    "    # The '*' is a wildcard that matches any sequence of characters\n",
    "    search_pattern = f\"{symbol}_{timeframe}_*\"\n",
    "\n",
    "    # --- Find the files ---\n",
    "    # glob() returns a generator, so you can iterate over it\n",
    "    found_files = directory.glob(search_pattern)\n",
    "\n",
    "    # --- Print the results ---\n",
    "    for file in found_files:\n",
    "        if fname == file:\n",
    "            time_bars = pd.read_parquet(fname)\n",
    "            print(\"Loaded\", file.name)\n",
    "        elif fname1 == file:\n",
    "            tick_bars = pd.read_parquet(fname1)\n",
    "            print(\"Loaded\", file.name)\n",
    "        \n",
    "    if any(x is None for x in (time_bars, tick_bars)):\n",
    "        try:\n",
    "            tick_df = load_tick_data(CLEAN_DATA_PATH, symbol, start_date, end_date, account, columns)\n",
    "            print(f\"Loading ticks from {CLEAN_DATA_PATH}...\")\n",
    "        except FileNotFoundError:\n",
    "            print(f\"Downloading ticks to {DATA_PATH}...\")\n",
    "            save_data_to_parquet(DATA_PATH, symbol, start_date, end_date, account)\n",
    "            tick_df = load_tick_data(DATA_PATH, symbol, start_date, end_date, account, columns)\n",
    "            tick_df = clean_tick_data(tick_df)\n",
    "        if time_bars is None:\n",
    "            time_bars = make_bars(tick_df, bar_type=\"time\", timeframe=timeframe, price=\"bid_ask\", verbose=True)\n",
    "            time_bars.to_parquet(fname)\n",
    "        if tick_bars is None:\n",
    "            tick_bar_size = calculate_ticks_per_period(tick_df, timeframe)\n",
    "            tick_bar_dict[timeframe] = tick_bar_size\n",
    "            tick_bars = make_bars(tick_df, bar_type=\"tick\", bar_size=tick_bar_size, price=\"bid_ask\", verbose=True)\n",
    "            fname1 = Path(dirpath, f\"{symbol}_{timeframe}_tick-{tick_bar_size}_{start_date}-{end_date}.parq\")\n",
    "            tick_bars.to_parquet(fname1)\n",
    "\n",
    "    return time_bars, tick_bars"
   ]
  },
  {
   "cell_type": "code",
   "execution_count": 8,
   "id": "6174ceb8",
   "metadata": {},
   "outputs": [],
   "source": [
    "# eur_usd = get_ticks(symbol, sample_start, sample_end)\n",
    "# save_data_to_parquet(\"../data\", \"XAUUSD\", start_date, end_date, account)      "
   ]
  },
  {
   "cell_type": "code",
   "execution_count": 9,
   "id": "cbb5d2d9",
   "metadata": {},
   "outputs": [],
   "source": [
    "# xauusd = load_tick_data(\"../data\", \"XAUUSD\", sample_start, sample_end, account, columns)\n",
    "# xauusd_clean = clean_tick_data(xauusd)"
   ]
  },
  {
   "cell_type": "markdown",
   "id": "9129c536",
   "metadata": {},
   "source": [
    "## 2. Bollinger Band Strategy"
   ]
  },
  {
   "cell_type": "code",
   "execution_count": 10,
   "id": "f960964f",
   "metadata": {},
   "outputs": [
    {
     "name": "stdout",
     "output_type": "stream",
     "text": [
      "M5 = tick-200\n",
      "Loaded EURUSD_M5_tick-200_2018-01-01-2024-12-31.parq\n",
      "Loaded EURUSD_M5_time_2018-01-01-2024-12-31.parq\n"
     ]
    }
   ],
   "source": [
    "bb_timeframe = \"M5\"\n",
    "tick_bar_size = tick_bar_dict.get(bb_timeframe)\n",
    "print(f\"{bb_timeframe} = tick-{tick_bar_size}\")\n",
    "bb_time_bars, bb_tick_bars = get_data(symbol, bb_timeframe)\n",
    "bar_size = f\"tick-{bb_tick_bars.tick_volume.iloc[0]}\""
   ]
  },
  {
   "cell_type": "code",
   "execution_count": 20,
   "id": "aaae6549",
   "metadata": {},
   "outputs": [],
   "source": [
    "bb_period, bb_std = 20, 2 # Bollinger Band parameters\n",
    "bb_strategy = BollingerStrategy(window=bb_period, num_std=bb_std)\n",
    "bb_lookback = 10\n",
    "bb_pt_barrier, bb_sl_barrier = (1, 2)\n",
    "bb_time_horizon = dict(hours=4)\n",
    "min_ret = 0.0\n",
    "bb_vol_multiplier = 1"
   ]
  },
  {
   "cell_type": "markdown",
   "id": "e83dccff",
   "metadata": {},
   "source": [
    "### Time-Bars"
   ]
  },
  {
   "cell_type": "code",
   "execution_count": 23,
   "id": "144d9465",
   "metadata": {},
   "outputs": [
    {
     "name": "stdout",
     "output_type": "stream",
     "text": [
      "Bollinger_w20_std2 Signals:\n",
      "\n",
      "        count  proportion\n",
      "side                     \n",
      " 0    310,455    0.840146\n",
      "-1     29,598    0.080097\n",
      " 1     29,472    0.079756\n",
      "\n"
     ]
    },
    {
     "name": "stderr",
     "output_type": "stream",
     "text": [
      "\u001b[32m2025-10-23 01:36:38.757\u001b[0m | \u001b[1mINFO    \u001b[0m | \u001b[36mafml.filters.filters\u001b[0m:\u001b[36mcusum_filter\u001b[0m:\u001b[36m151\u001b[0m - \u001b[1m40,787 CUSUM-filtered events\u001b[0m\n",
      "\u001b[32m2025-10-23 01:36:38.967\u001b[0m | \u001b[1mINFO    \u001b[0m | \u001b[36mafml.strategies.signal_processing\u001b[0m:\u001b[36mget_entries\u001b[0m:\u001b[36m105\u001b[0m - \u001b[1mBollinger_w20_std2 | 14,459 (24.48%) trade events selected by CUSUM filter (threshold = 0.0696%).\u001b[0m\n"
     ]
    }
   ],
   "source": [
    "bb_side = bb_strategy.generate_signals(bb_time_bars)\n",
    "bb_df = bb_time_bars.loc[sample_start : sample_end]\n",
    "\n",
    "print(f\"{bb_strategy.get_strategy_name()} Signals:\")\n",
    "value_counts_data(bb_side.reindex(bb_df.index), verbose=True)\n",
    "\n",
    "# Volatility target for barriers\n",
    "vol_lookback = bb_period\n",
    "vol_target = get_daily_vol(bb_df.close, vol_lookback) * bb_vol_multiplier\n",
    "close = bb_df.close\n",
    "_, t_events = get_entries(bb_strategy, bb_df, filter_threshold=vol_target.mean())\n",
    "\n",
    "vertical_barriers = add_vertical_barrier(t_events, close, **bb_time_horizon)"
   ]
  },
  {
   "cell_type": "markdown",
   "id": "76ada8a2",
   "metadata": {},
   "source": [
    "#### Feature Engineering"
   ]
  },
  {
   "cell_type": "code",
   "execution_count": 13,
   "id": "63d09b56",
   "metadata": {},
   "outputs": [
    {
     "name": "stdout",
     "output_type": "stream",
     "text": [
      "<class 'pandas.core.frame.DataFrame'>\n",
      "DatetimeIndex: 516825 entries, 2018-01-02 23:20:00 to 2024-12-31 00:00:00\n",
      "Data columns (total 63 columns):\n",
      " #   Column               Non-Null Count   Dtype  \n",
      "---  ------               --------------   -----  \n",
      " 0   close                516825 non-null  float32\n",
      " 1   spread               516825 non-null  float32\n",
      " 2   vol                  516825 non-null  float32\n",
      " 3   h1_vol               516825 non-null  float32\n",
      " 4   h4_vol               516825 non-null  float32\n",
      " 5   d1_vol               516825 non-null  float32\n",
      " 6   ret                  516825 non-null  float32\n",
      " 7   ret_5                516825 non-null  float32\n",
      " 8   ret_10               516825 non-null  float32\n",
      " 9   ret_1_lag_1          516825 non-null  float32\n",
      " 10  ret_5_lag_1          516825 non-null  float32\n",
      " 11  ret_10_lag_1         516825 non-null  float32\n",
      " 12  ret_1_lag_2          516825 non-null  float32\n",
      " 13  ret_5_lag_2          516825 non-null  float32\n",
      " 14  ret_10_lag_2         516825 non-null  float32\n",
      " 15  ret_1_lag_3          516825 non-null  float32\n",
      " 16  ret_5_lag_3          516825 non-null  float32\n",
      " 17  ret_10_lag_3         516825 non-null  float32\n",
      " 18  ret_skew             516825 non-null  float32\n",
      " 19  ret_kurt             516825 non-null  float32\n",
      " 20  autocorr             516825 non-null  float32\n",
      " 21  autocorr_1           516825 non-null  float32\n",
      " 22  autocorr_2           516825 non-null  float32\n",
      " 23  autocorr_3           516825 non-null  float32\n",
      " 24  autocorr_4           516825 non-null  float32\n",
      " 25  autocorr_5           516825 non-null  float32\n",
      " 26  bbl_20_2.0           516825 non-null  float32\n",
      " 27  bbm_20_2.0           516825 non-null  float32\n",
      " 28  bbu_20_2.0           516825 non-null  float32\n",
      " 29  bbb_20_2.0           516825 non-null  float32\n",
      " 30  bbp_20_2.0           516825 non-null  float64\n",
      " 31  truerange_1          516825 non-null  float32\n",
      " 32  atrr_14              516825 non-null  float32\n",
      " 33  rsi_14               516825 non-null  float32\n",
      " 34  stochrsik_14_14_3_3  516825 non-null  float32\n",
      " 35  stochrsid_14_14_3_3  516825 non-null  float32\n",
      " 36  adx_14               516825 non-null  float32\n",
      " 37  dmp_14               516825 non-null  float32\n",
      " 38  dmn_14               516825 non-null  float32\n",
      " 39  dm_net               516825 non-null  float32\n",
      " 40  macd_12_26_9         516825 non-null  float32\n",
      " 41  macdh_12_26_9        516825 non-null  float32\n",
      " 42  sma_diff_10_20       516825 non-null  float32\n",
      " 43  sma_diff_10_50       516825 non-null  float32\n",
      " 44  sma_diff_10_100      516825 non-null  float32\n",
      " 45  sma_diff_10_200      516825 non-null  float32\n",
      " 46  sma_diff_20_50       516825 non-null  float32\n",
      " 47  sma_diff_20_100      516825 non-null  float32\n",
      " 48  sma_diff_20_200      516825 non-null  float32\n",
      " 49  sma_diff_50_100      516825 non-null  float32\n",
      " 50  sma_diff_50_200      516825 non-null  float32\n",
      " 51  sma_diff_100_200     516825 non-null  float32\n",
      " 52  sma_cross_10_20      516825 non-null  int8   \n",
      " 53  sma_cross_10_50      516825 non-null  int8   \n",
      " 54  sma_cross_10_100     516825 non-null  int8   \n",
      " 55  sma_cross_10_200     516825 non-null  int8   \n",
      " 56  sma_cross_20_50      516825 non-null  int8   \n",
      " 57  sma_cross_20_100     516825 non-null  int8   \n",
      " 58  sma_cross_20_200     516825 non-null  int8   \n",
      " 59  sma_cross_50_100     516825 non-null  int8   \n",
      " 60  sma_cross_50_200     516825 non-null  int8   \n",
      " 61  sma_cross_100_200    516825 non-null  int8   \n",
      " 62  side                 516825 non-null  int8   \n",
      "dtypes: float32(51), float64(1), int8(11)\n",
      "memory usage: 113.9 MB\n"
     ]
    }
   ],
   "source": [
    "bb_feat = create_bollinger_features(bb_time_bars, bb_period, bb_std)\n",
    "bb_feat_time = bb_feat.copy()\n",
    "bb_feat_time.info()\n",
    "# not_stationary = is_stationary(bb_feat_time)"
   ]
  },
  {
   "cell_type": "markdown",
   "id": "fbe1c961",
   "metadata": {},
   "source": [
    "#### Triple-Barrier Method"
   ]
  },
  {
   "cell_type": "code",
   "execution_count": 24,
   "id": "c5b85936",
   "metadata": {},
   "outputs": [
    {
     "name": "stdout",
     "output_type": "stream",
     "text": [
      "Triple-Barrier (pt=1, sl=2, h={'hours': 4}):\n",
      "\n",
      "     count  proportion\n",
      "bin                   \n",
      "1    8,210    0.568284\n",
      "0    6,237    0.431716\n",
      "\n",
      "Average Uniqueness: 0.7523\n"
     ]
    }
   ],
   "source": [
    "bb_events_tb = triple_barrier_labels(\n",
    "    close,\n",
    "    vol_target,\n",
    "    t_events,\n",
    "    pt_sl=[bb_pt_barrier, bb_sl_barrier],\n",
    "    min_ret=min_ret,\n",
    "    vertical_barrier_times=vertical_barriers,\n",
    "    side_prediction=bb_side,\n",
    "    vertical_barrier_zero=True,\n",
    "    verbose=False,\n",
    ")\n",
    "\n",
    "bb_events_tb_time = bb_events_tb.copy()\n",
    "print(f\"Triple-Barrier (pt={bb_pt_barrier}, sl={bb_sl_barrier}, h={bb_time_horizon}):\")\n",
    "value_counts_data(bb_events_tb.bin, verbose=True)\n",
    "\n",
    "weights = get_event_weights(bb_events_tb, close)\n",
    "av_uniqueness = weights['tW'].mean()\n",
    "print(f\"Average Uniqueness: {av_uniqueness:.4f}\")"
   ]
  },
  {
   "cell_type": "markdown",
   "id": "f3ac89d4",
   "metadata": {},
   "source": [
    "#### Cross-Validation of Weighting Methods"
   ]
  },
  {
   "cell_type": "code",
   "execution_count": 49,
   "id": "a896f185",
   "metadata": {},
   "outputs": [
    {
     "data": {
      "text/plain": [
       "\"\\n# Assuming you have:\\n# - price_data: OHLCV data\\n# - features: technical indicators/features\\n# - events: output from get_events() (triple barrier labeling)\\n\\nfrom mlfinlab.labeling import get_events\\n\\n# Generate triple barrier events\\ntriple_barrier_events = get_events(\\n    close=price_data['close'],\\n    t_events=some_trigger_events,  # Your entry signals\\n    pt_sl=[1.0, 1.0],  # Profit take / stop loss\\n    target=volatility_estimates,  # Your volatility estimates\\n    min_ret=0.005,  # Minimum return\\n    num_threads=1,\\n    vertical_barrier_times=vertical_barriers  # Optional\\n)\\n\\n# Get labels and samples_info_sets\\nlabels = triple_barrier_events['bin']\\nsamples_info_sets = triple_barrier_events['t1']\\n\\n# Prepare data\\nX, y, samples_info_sets, price_bars_index = prepare_financial_data(\\n    price_data, features, labels\\n)\\n\\n# Then proceed with the cross-validation as shown above\\n\""
      ]
     },
     "execution_count": 49,
     "metadata": {},
     "output_type": "execute_result"
    }
   ],
   "source": [
    "# Real-world example with financial data preparation\n",
    "def prepare_financial_data(price_data, features, labels):\n",
    "    \"\"\"\n",
    "    price_data: DataFrame with price information\n",
    "    features: DataFrame with feature columns\n",
    "    labels: Series with target labels from triple barrier method\n",
    "    samples_info_sets: Series with t1 values from get_events()\n",
    "    \"\"\"\n",
    "    \n",
    "    # Ensure all indices are aligned\n",
    "    common_index = price_data.index.intersection(features.index).intersection(labels.index)\n",
    "    \n",
    "    X = features.loc[common_index]\n",
    "    y = labels.loc[common_index, 'bin']\n",
    "    \n",
    "    # Assuming you have samples_info_sets from triple barrier labeling\n",
    "    samples_info_sets = labels.loc[common_index, 't1']  # Your t1 series from get_events()\n",
    "    price_bars_index = price_data.index\n",
    "    \n",
    "    return X, y, samples_info_sets, price_bars_index\n",
    "\n",
    "# Example usage with real financial data:\n",
    "\"\"\"\n",
    "# Assuming you have:\n",
    "# - price_data: OHLCV data\n",
    "# - features: technical indicators/features\n",
    "# - events: output from get_events() (triple barrier labeling)\n",
    "\n",
    "from mlfinlab.labeling import get_events\n",
    "\n",
    "# Generate triple barrier events\n",
    "triple_barrier_events = get_events(\n",
    "    close=price_data['close'],\n",
    "    t_events=some_trigger_events,  # Your entry signals\n",
    "    pt_sl=[1.0, 1.0],  # Profit take / stop loss\n",
    "    target=volatility_estimates,  # Your volatility estimates\n",
    "    min_ret=0.005,  # Minimum return\n",
    "    num_threads=1,\n",
    "    vertical_barrier_times=vertical_barriers  # Optional\n",
    ")\n",
    "\n",
    "# Get labels and samples_info_sets\n",
    "labels = triple_barrier_events['bin']\n",
    "samples_info_sets = triple_barrier_events['t1']\n",
    "\n",
    "# Prepare data\n",
    "X, y, samples_info_sets, price_bars_index = prepare_financial_data(\n",
    "    price_data, features, labels\n",
    ")\n",
    "\n",
    "# Then proceed with the cross-validation as shown above\n",
    "\"\"\""
   ]
  },
  {
   "cell_type": "code",
   "execution_count": 50,
   "id": "9509134e",
   "metadata": {},
   "outputs": [],
   "source": [
    "X, y, t1, price_bars_index = prepare_financial_data(bb_df.close, features=bb_feat_time, labels=bb_events_tb_time)\n",
    "cont = bb_events_tb_time.loc[X.index]\n",
    "\n",
    "test_size = 0.25\n",
    "n_splits = 3\n",
    "pct_embargo = 0.01\n",
    "\n",
    "train, test = PurgedSplit(t1, test_size).split(X)\n",
    "X_train, X_test, y_train, y_test = (\n",
    "        X.iloc[train],\n",
    "        X.iloc[test],\n",
    "        y.iloc[train],\n",
    "        y.iloc[test],\n",
    "    )\n",
    "\n",
    "cont_train = get_event_weights(cont.iloc[train], bb_df.close.loc[price_bars_index])\n",
    "cont_train_bb = cont_train.copy()"
   ]
  },
  {
   "cell_type": "code",
   "execution_count": 51,
   "id": "0e03121f",
   "metadata": {},
   "outputs": [
    {
     "data": {
      "text/plain": [
       "dict_keys(['unweighted', 'uniqueness', 'return'])"
      ]
     },
     "execution_count": 51,
     "metadata": {},
     "output_type": "execute_result"
    }
   ],
   "source": [
    "weighting_schemes = {\n",
    "    \"unweighted\": pd.Series(1., index=cont_train.index),\n",
    "    \"uniqueness\": cont_train[\"tW\"],\n",
    "    \"return\": cont_train[\"w\"],\n",
    "    }\n",
    "\n",
    "\n",
    "decay_factors = [0.0, 0.1, 0.25, 0.5, 0.75, 0.9]\n",
    "time_decay_weights = {}\n",
    "for time_decay in decay_factors:\n",
    "    for linear in (1, 0):\n",
    "        decay_w = get_weights_by_time_decay_optimized(\n",
    "                    triple_barrier_events=cont,\n",
    "                    close_index=close.index,\n",
    "                    decay=time_decay,\n",
    "                    linear=linear,\n",
    "                    av_uniqueness=cont_train[\"tW\"],\n",
    "                )\n",
    "        method = \"linear\" if linear else \"exp\"\n",
    "        time_decay_weights[f\"{method}_time_decay_{time_decay}\"] = decay_w\n",
    "        \n",
    "# for k, v in time_decay_weights.items():\n",
    "#     weighting_schemes[k] = v\n",
    "    # if k.startswith('exp'):\n",
    "    #     weighting_schemes[k.replace('exp_', '')] = v.iloc[train]\n",
    "\n",
    "weighting_schemes.keys()"
   ]
  },
  {
   "cell_type": "code",
   "execution_count": 27,
   "id": "8d2c2bca",
   "metadata": {},
   "outputs": [],
   "source": [
    "random_state = 42\n",
    "min_w_leaf = 0.05\n",
    "\n",
    "clf = RandomForestClassifier(\n",
    "    criterion='entropy',\n",
    "    n_estimators=100,\n",
    "    class_weight='balanced_subsample',\n",
    "    random_state=random_state,\n",
    "    min_weight_fraction_leaf=min_w_leaf,\n",
    "    max_samples=cont_train.tW.mean(),\n",
    "    n_jobs=-1,  # Use all available cores\n",
    "    )"
   ]
  },
  {
   "cell_type": "code",
   "execution_count": 28,
   "id": "e0ac3962",
   "metadata": {},
   "outputs": [
    {
     "data": {
      "image/png": "[encoded data removed]",
      "text/plain": [
       "<Figure size 640x480 with 1 Axes>"
      ]
     },
     "metadata": {},
     "output_type": "display_data"
    }
   ],
   "source": [
    "cont_train[\"tW\"].hist(bins=100, grid=False)\n",
    "plt.title(\"Average Uniqueness - Bollinger Band Strategy\");"
   ]
  },
  {
   "cell_type": "code",
   "execution_count": 33,
   "id": "7b49880d",
   "metadata": {},
   "outputs": [
    {
     "name": "stdout",
     "output_type": "stream",
     "text": [
      "RandomForestClassifier Weighting Schemes\n",
      "f1_score:\n",
      "  unweighted: μ = 0.599608, σ = 0.028855\n",
      "  uniqueness: μ = 0.681995, σ = 0.020191\n",
      "  return: μ = 0.000000, σ = 0.000000\n"
     ]
    }
   ],
   "source": [
    "cv_gen = PurgedKFold(n_splits, cont_train.t1, pct_embargo)\n",
    "cv_scores_d = {}\n",
    "print(clf.__class__.__name__, \"Weighting Schemes\")\n",
    "\n",
    "best_scheme = None\n",
    "scoring = f1_score\n",
    "print(f\"{scoring.__name__}:\")\n",
    "\n",
    "for scheme, sample_weights in weighting_schemes.items():\n",
    "    w = sample_weights.values\n",
    "    if scheme.startswith(('linear_time_decay', 'exp_time_decay')):\n",
    "        if 'exp_time_decay' in scheme:\n",
    "            continue\n",
    "        if best_scheme is None:\n",
    "            best_scheme, best_score = best_weighting_by_mean_score(cv_scores_d, y_train)\n",
    "        w *= weighting_schemes[best_scheme].values # Combine with best scheme\n",
    "        scheme = f\"{best_scheme}_{scheme}\"\n",
    "            \n",
    "\n",
    "    cv_score = ml_cross_val_score(\n",
    "        clf, X_train, y_train, cv_gen, \n",
    "        sample_weight_train=w, \n",
    "        sample_weight_score=w,\n",
    "        scoring=scoring,\n",
    "    )\n",
    "    cv_scores_d[scheme] = cv_score\n",
    "    print(f\"  {scheme}: μ = {cv_score.mean():.6f}, σ = {cv_score.std():.6f}\")\n"
   ]
  },
  {
   "cell_type": "code",
   "execution_count": null,
   "id": "3f9fe784",
   "metadata": {},
   "outputs": [],
   "source": [
    "cv_scores_mu_df = pd.DataFrame(index=cv_scores_d.keys())\n",
    "cv_scores_std_df = pd.DataFrame(index=cv_scores_d.keys()) \n",
    "cv_scores_df = pd.DataFrame(index=cv_scores_d.keys(), dtype=pd.StringDtype()) \n",
    "\n",
    "for idx, dict_ in cv_scores_d.items():\n",
    "    for key, val in dict_.items():\n",
    "        col = key.replace('_score', '').replace('probability_weighted_accuracy', 'PWA')\n",
    "        cv_scores_mu_df.loc[idx, col] = val.mean()\n",
    "        cv_scores_std_df.loc[idx, col] = val.std()\n",
    "        cv_scores_df.loc[idx, col] = f\"{val.mean():.3f} ± {val.std():.3f}\"\n",
    "\n",
    "# print(f\"Mean of CV Scores: \\n{cv_scores_mu_df}\")\n",
    "# print(f\"\\nStd of CV Scores: \\n{cv_scores_std_df}\")\n",
    "# print(f\"\\nCV Scores: \\n{cv_scores_df}\")  \n",
    "# cv_scores_df.to_html(\"cv_scores_bb.html\")\n",
    "cv_scores_df"
   ]
  },
  {
   "cell_type": "markdown",
   "id": "1ec290cd",
   "metadata": {},
   "source": [
    "#### Sequentially Bootstrapping Bagging Classifiers"
   ]
  },
  {
   "cell_type": "code",
   "execution_count": null,
   "id": "91d9a960",
   "metadata": {},
   "outputs": [
    {
     "name": "stdout",
     "output_type": "stream",
     "text": [
      "n:  500 | indm0:    7.19 MB, indm1: 0.02 MB\n",
      "n: 1000 | indm0:   23.75 MB, indm1: 0.04 MB\n",
      "n: 2000 | indm0:   93.65 MB, indm1: 0.07 MB\n",
      "n: 4000 | indm0:  412.23 MB, indm1: 0.14 MB\n",
      "n: 8000 | indm0: 1237.82 MB, indm1: 0.28 MB\n"
     ]
    }
   ],
   "source": [
    "from afml.sampling.optimized_bootstrapping import (\n",
    "    precompute_active_indices,\n",
    "    seq_bootstrap_optimized,\n",
    ")\n",
    "\n",
    "for n in (500, 1000, 2000, 4000, 8000):\n",
    "    t = slice(0, n)\n",
    "    indm0 = get_ind_matrix(cont_train_bb.t1[t], bb_df.close)\n",
    "    indm1 = precompute_active_indices(cont_train_bb.t1[t], bb_df.close)\n",
    "    print(f\"n: {n:>4} | indm0: {sys.getsizeof(indm0) / 1024**2:>7.2f} MB, indm1: {sys.getsizeof(indm1) / 1024**2:>3.2f} MB\")"
   ]
  },
  {
   "cell_type": "code",
   "execution_count": null,
   "id": "5b896dc8",
   "metadata": {},
   "outputs": [],
   "source": [
    "t = slice(0, 1000)\n",
    "indm0 = get_ind_matrix(cont_train_bb.t1[t], bb_df.close)\n",
    "indm1 = precompute_active_indices(cont_train_bb.t1[t], bb_df.close)"
   ]
  },
  {
   "cell_type": "markdown",
   "id": "84264771",
   "metadata": {},
   "source": [
    "| N | Standard | Optimized |\n",
    "| :--- | :--- | :--- |\n",
    "| 500 | 42.6 | 7.7 |\n",
    "| 1000 | 42.6 | 7.7 |\n"
   ]
  },
  {
   "cell_type": "code",
   "execution_count": null,
   "id": "d7f8dd02",
   "metadata": {},
   "outputs": [],
   "source": [
    "phi = seq_bootstrap_optimized(indm1)"
   ]
  },
  {
   "cell_type": "code",
   "execution_count": null,
   "id": "d37d1b5b",
   "metadata": {},
   "outputs": [
    {
     "ename": "KeyboardInterrupt",
     "evalue": "",
     "output_type": "error",
     "traceback": [
      "\u001b[1;31m---------------------------------------------------------------------------\u001b[0m\n",
      "\u001b[1;31mKeyboardInterrupt\u001b[0m                         Traceback (most recent call last)\n",
      "Cell \u001b[1;32mIn[56], line 1\u001b[0m\n",
      "\u001b[1;32m----> 1\u001b[0m \u001b[43mget_ipython\u001b[49m\u001b[43m(\u001b[49m\u001b[43m)\u001b[49m\u001b[38;5;241;43m.\u001b[39;49m\u001b[43mrun_line_magic\u001b[49m\u001b[43m(\u001b[49m\u001b[38;5;124;43m'\u001b[39;49m\u001b[38;5;124;43mtimeit\u001b[39;49m\u001b[38;5;124;43m'\u001b[39;49m\u001b[43m,\u001b[49m\u001b[43m \u001b[49m\u001b[38;5;124;43m'\u001b[39;49m\u001b[38;5;124;43mseq_bootstrap(indm0)\u001b[39;49m\u001b[38;5;124;43m'\u001b[39;49m\u001b[43m)\u001b[49m\n",
      "\u001b[0;32m      2\u001b[0m get_ipython()\u001b[38;5;241m.\u001b[39mrun_line_magic(\u001b[38;5;124m'\u001b[39m\u001b[38;5;124mtimeit\u001b[39m\u001b[38;5;124m'\u001b[39m, \u001b[38;5;124m'\u001b[39m\u001b[38;5;124mseq_bootstrap_optimized(indm1)\u001b[39m\u001b[38;5;124m'\u001b[39m)\n",
      "\n",
      "File \u001b[1;32mc:\\Users\\JoeN\\miniforge3\\envs\\mlfinlab_env\\lib\\site-packages\\IPython\\core\\interactiveshell.py:2482\u001b[0m, in \u001b[0;36mInteractiveShell.run_line_magic\u001b[1;34m(self, magic_name, line, _stack_depth)\u001b[0m\n",
      "\u001b[0;32m   2480\u001b[0m     kwargs[\u001b[38;5;124m'\u001b[39m\u001b[38;5;124mlocal_ns\u001b[39m\u001b[38;5;124m'\u001b[39m] \u001b[38;5;241m=\u001b[39m \u001b[38;5;28mself\u001b[39m\u001b[38;5;241m.\u001b[39mget_local_scope(stack_depth)\n",
      "\u001b[0;32m   2481\u001b[0m \u001b[38;5;28;01mwith\u001b[39;00m \u001b[38;5;28mself\u001b[39m\u001b[38;5;241m.\u001b[39mbuiltin_trap:\n",
      "\u001b[1;32m-> 2482\u001b[0m     result \u001b[38;5;241m=\u001b[39m fn(\u001b[38;5;241m*\u001b[39margs, \u001b[38;5;241m*\u001b[39m\u001b[38;5;241m*\u001b[39mkwargs)\n",
      "\u001b[0;32m   2484\u001b[0m \u001b[38;5;66;03m# The code below prevents the output from being displayed\u001b[39;00m\n",
      "\u001b[0;32m   2485\u001b[0m \u001b[38;5;66;03m# when using magics with decorator @output_can_be_silenced\u001b[39;00m\n",
      "\u001b[0;32m   2486\u001b[0m \u001b[38;5;66;03m# when the last Python token in the expression is a ';'.\u001b[39;00m\n",
      "\u001b[0;32m   2487\u001b[0m \u001b[38;5;28;01mif\u001b[39;00m \u001b[38;5;28mgetattr\u001b[39m(fn, magic\u001b[38;5;241m.\u001b[39mMAGIC_OUTPUT_CAN_BE_SILENCED, \u001b[38;5;28;01mFalse\u001b[39;00m):\n",
      "\n",
      "File \u001b[1;32mc:\\Users\\JoeN\\miniforge3\\envs\\mlfinlab_env\\lib\\site-packages\\IPython\\core\\magics\\execution.py:1213\u001b[0m, in \u001b[0;36mExecutionMagics.timeit\u001b[1;34m(self, line, cell, local_ns)\u001b[0m\n",
      "\u001b[0;32m   1210\u001b[0m         \u001b[38;5;28;01mif\u001b[39;00m time_number \u001b[38;5;241m>\u001b[39m\u001b[38;5;241m=\u001b[39m \u001b[38;5;241m0.2\u001b[39m:\n",
      "\u001b[0;32m   1211\u001b[0m             \u001b[38;5;28;01mbreak\u001b[39;00m\n",
      "\u001b[1;32m-> 1213\u001b[0m all_runs \u001b[38;5;241m=\u001b[39m \u001b[43mtimer\u001b[49m\u001b[38;5;241;43m.\u001b[39;49m\u001b[43mrepeat\u001b[49m\u001b[43m(\u001b[49m\u001b[43mrepeat\u001b[49m\u001b[43m,\u001b[49m\u001b[43m \u001b[49m\u001b[43mnumber\u001b[49m\u001b[43m)\u001b[49m\n",
      "\u001b[0;32m   1214\u001b[0m best \u001b[38;5;241m=\u001b[39m \u001b[38;5;28mmin\u001b[39m(all_runs) \u001b[38;5;241m/\u001b[39m number\n",
      "\u001b[0;32m   1215\u001b[0m worst \u001b[38;5;241m=\u001b[39m \u001b[38;5;28mmax\u001b[39m(all_runs) \u001b[38;5;241m/\u001b[39m number\n",
      "\n",
      "File \u001b[1;32mc:\\Users\\JoeN\\miniforge3\\envs\\mlfinlab_env\\lib\\timeit.py:206\u001b[0m, in \u001b[0;36mTimer.repeat\u001b[1;34m(self, repeat, number)\u001b[0m\n",
      "\u001b[0;32m    204\u001b[0m r \u001b[38;5;241m=\u001b[39m []\n",
      "\u001b[0;32m    205\u001b[0m \u001b[38;5;28;01mfor\u001b[39;00m i \u001b[38;5;129;01min\u001b[39;00m \u001b[38;5;28mrange\u001b[39m(repeat):\n",
      "\u001b[1;32m--> 206\u001b[0m     t \u001b[38;5;241m=\u001b[39m \u001b[38;5;28;43mself\u001b[39;49m\u001b[38;5;241;43m.\u001b[39;49m\u001b[43mtimeit\u001b[49m\u001b[43m(\u001b[49m\u001b[43mnumber\u001b[49m\u001b[43m)\u001b[49m\n",
      "\u001b[0;32m    207\u001b[0m     r\u001b[38;5;241m.\u001b[39mappend(t)\n",
      "\u001b[0;32m    208\u001b[0m \u001b[38;5;28;01mreturn\u001b[39;00m r\n",
      "\n",
      "File \u001b[1;32mc:\\Users\\JoeN\\miniforge3\\envs\\mlfinlab_env\\lib\\site-packages\\IPython\\core\\magics\\execution.py:174\u001b[0m, in \u001b[0;36mTimer.timeit\u001b[1;34m(self, number)\u001b[0m\n",
      "\u001b[0;32m    172\u001b[0m gc\u001b[38;5;241m.\u001b[39mdisable()\n",
      "\u001b[0;32m    173\u001b[0m \u001b[38;5;28;01mtry\u001b[39;00m:\n",
      "\u001b[1;32m--> 174\u001b[0m     timing \u001b[38;5;241m=\u001b[39m \u001b[38;5;28;43mself\u001b[39;49m\u001b[38;5;241;43m.\u001b[39;49m\u001b[43minner\u001b[49m\u001b[43m(\u001b[49m\u001b[43mit\u001b[49m\u001b[43m,\u001b[49m\u001b[43m \u001b[49m\u001b[38;5;28;43mself\u001b[39;49m\u001b[38;5;241;43m.\u001b[39;49m\u001b[43mtimer\u001b[49m\u001b[43m)\u001b[49m\n",
      "\u001b[0;32m    175\u001b[0m \u001b[38;5;28;01mfinally\u001b[39;00m:\n",
      "\u001b[0;32m    176\u001b[0m     \u001b[38;5;28;01mif\u001b[39;00m gcold:\n",
      "\n",
      "File \u001b[1;32m<magic-timeit>:1\u001b[0m, in \u001b[0;36minner\u001b[1;34m(_it, _timer)\u001b[0m\n",
      "\n",
      "File \u001b[1;32mc:\\Users\\JoeN\\Documents\\GitHub\\Machine-Learning-Blueprint\\notebooks\\..\\afml\\sampling\\bootstrapping.py:172\u001b[0m, in \u001b[0;36mseq_bootstrap\u001b[1;34m(ind_mat, sample_length, warmup_samples, compare, verbose, random_state)\u001b[0m\n",
      "\u001b[0;32m    170\u001b[0m prev_concurrency \u001b[38;5;241m=\u001b[39m np\u001b[38;5;241m.\u001b[39mzeros(ind_mat\u001b[38;5;241m.\u001b[39mshape[\u001b[38;5;241m0\u001b[39m])  \u001b[38;5;66;03m# Init with zeros (phi is empty)\u001b[39;00m\n",
      "\u001b[0;32m    171\u001b[0m \u001b[38;5;28;01mwhile\u001b[39;00m \u001b[38;5;28mlen\u001b[39m(phi) \u001b[38;5;241m<\u001b[39m sample_length:\n",
      "\u001b[1;32m--> 172\u001b[0m     prob \u001b[38;5;241m=\u001b[39m \u001b[43m_bootstrap_loop_run\u001b[49m\u001b[43m(\u001b[49m\u001b[43mind_mat\u001b[49m\u001b[43m,\u001b[49m\u001b[43m \u001b[49m\u001b[43mprev_concurrency\u001b[49m\u001b[43m)\u001b[49m  \u001b[38;5;66;03m# Draw probabilities\u001b[39;00m\n",
      "\u001b[0;32m    173\u001b[0m     \u001b[38;5;28;01mtry\u001b[39;00m:\n",
      "\u001b[0;32m    174\u001b[0m         choice \u001b[38;5;241m=\u001b[39m warmup_samples\u001b[38;5;241m.\u001b[39mpop(\u001b[38;5;241m0\u001b[39m)  \u001b[38;5;66;03m# It would get samples from warmup until it is empty\u001b[39;00m\n",
      "\n",
      "\u001b[1;31mKeyboardInterrupt\u001b[0m: "
     ]
    }
   ],
   "source": [
    "# %timeit seq_bootstrap(indm0)\n",
    "# %timeit seq_bootstrap_optimized(indm1)"
   ]
  },
  {
   "cell_type": "code",
   "execution_count": null,
   "id": "816d96c8",
   "metadata": {},
   "outputs": [],
   "source": [
    "from sklearn.tree import DecisionTreeClassifier\n",
    "\n",
    "# More straightforward and gives you better control\n",
    "base_tree = DecisionTreeClassifier(\n",
    "    criterion='entropy',\n",
    "    class_weight='balanced',\n",
    "    \n",
    "    # Pre-pruning parameters\n",
    "    max_depth=10,\n",
    "    min_samples_split=20,\n",
    "    min_samples_leaf=10,\n",
    ")\n",
    "base_rf = RandomForestClassifier(\n",
    "    criterion='entropy',\n",
    "    n_estimators=1,\n",
    "    bootstrap=False,\n",
    "    class_weight='balanced_subsample',\n",
    "    )"
   ]
  },
  {
   "cell_type": "code",
   "execution_count": null,
   "id": "4fdfb1df",
   "metadata": {},
   "outputs": [
    {
     "name": "stderr",
     "output_type": "stream",
     "text": [
      "[Parallel(n_jobs=4)]: Using backend LokyBackend with 4 concurrent workers.\n"
     ]
    },
    {
     "ename": "KeyboardInterrupt",
     "evalue": "",
     "output_type": "error",
     "traceback": [
      "\u001b[1;31m---------------------------------------------------------------------------\u001b[0m\n",
      "\u001b[1;31mKeyboardInterrupt\u001b[0m                         Traceback (most recent call last)\n",
      "Cell \u001b[1;32mIn[18], line 20\u001b[0m\n",
      "\u001b[0;32m      3\u001b[0m base_rf \u001b[38;5;241m=\u001b[39m RandomForestClassifier(\n",
      "\u001b[0;32m      4\u001b[0m     criterion\u001b[38;5;241m=\u001b[39m\u001b[38;5;124m'\u001b[39m\u001b[38;5;124mentropy\u001b[39m\u001b[38;5;124m'\u001b[39m,\n",
      "\u001b[0;32m      5\u001b[0m     n_estimators\u001b[38;5;241m=\u001b[39m\u001b[38;5;241m1\u001b[39m,\n",
      "\u001b[0;32m      6\u001b[0m     bootstrap\u001b[38;5;241m=\u001b[39m\u001b[38;5;28;01mFalse\u001b[39;00m,\n",
      "\u001b[0;32m      7\u001b[0m     class_weight\u001b[38;5;241m=\u001b[39m\u001b[38;5;124m'\u001b[39m\u001b[38;5;124mbalanced_subsample\u001b[39m\u001b[38;5;124m'\u001b[39m,\n",
      "\u001b[0;32m      8\u001b[0m     )\n",
      "\u001b[0;32m     10\u001b[0m seq_rf \u001b[38;5;241m=\u001b[39m SequentiallyBootstrappedBaggingClassifier(\n",
      "\u001b[0;32m     11\u001b[0m     samples_info_sets\u001b[38;5;241m=\u001b[39mt1[t],\n",
      "\u001b[0;32m     12\u001b[0m     price_bars_index\u001b[38;5;241m=\u001b[39mbb_df\u001b[38;5;241m.\u001b[39mindex,\n",
      "\u001b[1;32m   (...)\u001b[0m\n",
      "\u001b[0;32m     18\u001b[0m     verbose\u001b[38;5;241m=\u001b[39m\u001b[38;5;241m1\u001b[39m,\n",
      "\u001b[0;32m     19\u001b[0m )\n",
      "\u001b[1;32m---> 20\u001b[0m \u001b[43mseq_rf\u001b[49m\u001b[38;5;241;43m.\u001b[39;49m\u001b[43mfit\u001b[49m\u001b[43m(\u001b[49m\n",
      "\u001b[0;32m     21\u001b[0m \u001b[43m    \u001b[49m\u001b[43mX_train\u001b[49m\u001b[38;5;241;43m.\u001b[39;49m\u001b[43miloc\u001b[49m\u001b[43m[\u001b[49m\u001b[43mt\u001b[49m\u001b[43m,\u001b[49m\u001b[43m \u001b[49m\u001b[43m:\u001b[49m\u001b[43m]\u001b[49m\u001b[43m,\u001b[49m\n",
      "\u001b[0;32m     22\u001b[0m \u001b[43m    \u001b[49m\u001b[43my_train\u001b[49m\u001b[38;5;241;43m.\u001b[39;49m\u001b[43miloc\u001b[49m\u001b[43m[\u001b[49m\u001b[43mt\u001b[49m\u001b[43m]\u001b[49m\u001b[43m,\u001b[49m\n",
      "\u001b[0;32m     23\u001b[0m \u001b[43m    \u001b[49m\u001b[43msample_weight\u001b[49m\u001b[38;5;241;43m=\u001b[39;49m\u001b[43mcont_train\u001b[49m\u001b[38;5;241;43m.\u001b[39;49m\u001b[43mloc\u001b[49m\u001b[43m[\u001b[49m\u001b[43my_train\u001b[49m\u001b[38;5;241;43m.\u001b[39;49m\u001b[43mindex\u001b[49m\u001b[43m[\u001b[49m\u001b[43mt\u001b[49m\u001b[43m]\u001b[49m\u001b[43m,\u001b[49m\u001b[43m \u001b[49m\u001b[38;5;124;43m\"\u001b[39;49m\u001b[38;5;124;43mw\u001b[39;49m\u001b[38;5;124;43m\"\u001b[39;49m\u001b[43m]\u001b[49m\u001b[38;5;241;43m.\u001b[39;49m\u001b[43mvalues\u001b[49m\u001b[43m,\u001b[49m\n",
      "\u001b[0;32m     24\u001b[0m \u001b[43m)\u001b[49m\n",
      "\u001b[0;32m     25\u001b[0m \u001b[38;5;28mprint\u001b[39m(\u001b[38;5;124mf\u001b[39m\u001b[38;5;124m\"\u001b[39m\u001b[38;5;124mOut-of-Bag Score: \u001b[39m\u001b[38;5;132;01m{\u001b[39;00mseq_rf\u001b[38;5;241m.\u001b[39moob_score_\u001b[38;5;132;01m:\u001b[39;00m\u001b[38;5;124m.4f\u001b[39m\u001b[38;5;132;01m}\u001b[39;00m\u001b[38;5;124m\"\u001b[39m)\n",
      "\n",
      "File \u001b[1;32mc:\\Users\\JoeN\\Documents\\GitHub\\Machine-Learning-Blueprint\\notebooks\\..\\afml\\sampling\\optimized_sb_bagging.py:212\u001b[0m, in \u001b[0;36mSequentiallyBootstrappedBaseBagging.fit\u001b[1;34m(self, X, y, sample_weight)\u001b[0m\n",
      "\u001b[0;32m    191\u001b[0m \u001b[38;5;28;01mdef\u001b[39;00m\u001b[38;5;250m \u001b[39m\u001b[38;5;21mfit\u001b[39m(\u001b[38;5;28mself\u001b[39m, X, y, sample_weight\u001b[38;5;241m=\u001b[39m\u001b[38;5;28;01mNone\u001b[39;00m):\n",
      "\u001b[0;32m    192\u001b[0m \u001b[38;5;250m    \u001b[39m\u001b[38;5;124;03m\"\"\"\u001b[39;00m\n",
      "\u001b[0;32m    193\u001b[0m \u001b[38;5;124;03m    Build a Sequentially Bootstrapped Bagging ensemble of estimators from the training\u001b[39;00m\n",
      "\u001b[0;32m    194\u001b[0m \u001b[38;5;124;03m    set (X, y).\u001b[39;00m\n",
      "\u001b[1;32m   (...)\u001b[0m\n",
      "\u001b[0;32m    210\u001b[0m \u001b[38;5;124;03m    self : (object)\u001b[39;00m\n",
      "\u001b[0;32m    211\u001b[0m \u001b[38;5;124;03m    \"\"\"\u001b[39;00m\n",
      "\u001b[1;32m--> 212\u001b[0m     \u001b[38;5;28;01mreturn\u001b[39;00m \u001b[38;5;28;43mself\u001b[39;49m\u001b[38;5;241;43m.\u001b[39;49m\u001b[43m_fit\u001b[49m\u001b[43m(\u001b[49m\u001b[43mX\u001b[49m\u001b[43m,\u001b[49m\u001b[43m \u001b[49m\u001b[43my\u001b[49m\u001b[43m,\u001b[49m\u001b[43m \u001b[49m\u001b[38;5;28;43mself\u001b[39;49m\u001b[38;5;241;43m.\u001b[39;49m\u001b[43mmax_samples\u001b[49m\u001b[43m,\u001b[49m\u001b[43m \u001b[49m\u001b[43msample_weight\u001b[49m\u001b[38;5;241;43m=\u001b[39;49m\u001b[43msample_weight\u001b[49m\u001b[43m)\u001b[49m\n",
      "\n",
      "File \u001b[1;32mc:\\Users\\JoeN\\Documents\\GitHub\\Machine-Learning-Blueprint\\notebooks\\..\\afml\\sampling\\optimized_sb_bagging.py:470\u001b[0m, in \u001b[0;36mSequentiallyBootstrappedBaggingClassifier._fit\u001b[1;34m(self, X, y, max_samples, max_depth, sample_weight)\u001b[0m\n",
      "\u001b[0;32m    467\u001b[0m \u001b[38;5;28mself\u001b[39m\u001b[38;5;241m.\u001b[39mn_classes_ \u001b[38;5;241m=\u001b[39m \u001b[38;5;28mlen\u001b[39m(\u001b[38;5;28mself\u001b[39m\u001b[38;5;241m.\u001b[39mclasses_)\n",
      "\u001b[0;32m    469\u001b[0m \u001b[38;5;66;03m# Call parent _fit method\u001b[39;00m\n",
      "\u001b[1;32m--> 470\u001b[0m \u001b[38;5;28;01mreturn\u001b[39;00m \u001b[38;5;28;43msuper\u001b[39;49m\u001b[43m(\u001b[49m\u001b[43m)\u001b[49m\u001b[38;5;241;43m.\u001b[39;49m\u001b[43m_fit\u001b[49m\u001b[43m(\u001b[49m\u001b[43mX\u001b[49m\u001b[43m,\u001b[49m\u001b[43m \u001b[49m\u001b[43my\u001b[49m\u001b[43m,\u001b[49m\u001b[43m \u001b[49m\u001b[43mmax_samples\u001b[49m\u001b[43m,\u001b[49m\u001b[43m \u001b[49m\u001b[43mmax_depth\u001b[49m\u001b[43m,\u001b[49m\u001b[43m \u001b[49m\u001b[43msample_weight\u001b[49m\u001b[43m)\u001b[49m\n",
      "\n",
      "File \u001b[1;32mc:\\Users\\JoeN\\Documents\\GitHub\\Machine-Learning-Blueprint\\notebooks\\..\\afml\\sampling\\optimized_sb_bagging.py:328\u001b[0m, in \u001b[0;36mSequentiallyBootstrappedBaseBagging._fit\u001b[1;34m(self, X, y, max_samples, max_depth, sample_weight)\u001b[0m\n",
      "\u001b[0;32m    325\u001b[0m     \u001b[38;5;28mself\u001b[39m\u001b[38;5;241m.\u001b[39m_seeds \u001b[38;5;241m=\u001b[39m np\u001b[38;5;241m.\u001b[39mconcatenate([\u001b[38;5;28mself\u001b[39m\u001b[38;5;241m.\u001b[39m_seeds, seeds])\n",
      "\u001b[0;32m    327\u001b[0m \u001b[38;5;66;03m# Build estimators in parallel\u001b[39;00m\n",
      "\u001b[1;32m--> 328\u001b[0m all_results \u001b[38;5;241m=\u001b[39m \u001b[43mParallel\u001b[49m\u001b[43m(\u001b[49m\u001b[43mn_jobs\u001b[49m\u001b[38;5;241;43m=\u001b[39;49m\u001b[43mn_jobs\u001b[49m\u001b[43m,\u001b[49m\u001b[43m \u001b[49m\u001b[43mverbose\u001b[49m\u001b[38;5;241;43m=\u001b[39;49m\u001b[38;5;28;43mself\u001b[39;49m\u001b[38;5;241;43m.\u001b[39;49m\u001b[43mverbose\u001b[49m\u001b[43m)\u001b[49m\u001b[43m(\u001b[49m\n",
      "\u001b[0;32m    329\u001b[0m \u001b[43m    \u001b[49m\u001b[43mdelayed\u001b[49m\u001b[43m(\u001b[49m\u001b[43m_parallel_build_estimators\u001b[49m\u001b[43m)\u001b[49m\u001b[43m(\u001b[49m\n",
      "\u001b[0;32m    330\u001b[0m \u001b[43m        \u001b[49m\u001b[43mn_estimators\u001b[49m\u001b[43m[\u001b[49m\u001b[43mi\u001b[49m\u001b[43m]\u001b[49m\u001b[43m,\u001b[49m\n",
      "\u001b[0;32m    331\u001b[0m \u001b[43m        \u001b[49m\u001b[38;5;28;43mself\u001b[39;49m\u001b[43m,\u001b[49m\n",
      "\u001b[0;32m    332\u001b[0m \u001b[43m        \u001b[49m\u001b[43mX\u001b[49m\u001b[43m,\u001b[49m\n",
      "\u001b[0;32m    333\u001b[0m \u001b[43m        \u001b[49m\u001b[43my\u001b[49m\u001b[43m,\u001b[49m\n",
      "\u001b[0;32m    334\u001b[0m \u001b[43m        \u001b[49m\u001b[38;5;28;43mself\u001b[39;49m\u001b[38;5;241;43m.\u001b[39;49m\u001b[43mactive_indices_\u001b[49m\u001b[43m,\u001b[49m\n",
      "\u001b[0;32m    335\u001b[0m \u001b[43m        \u001b[49m\u001b[43msample_weight\u001b[49m\u001b[43m,\u001b[49m\n",
      "\u001b[0;32m    336\u001b[0m \u001b[43m        \u001b[49m\u001b[43mseeds\u001b[49m\u001b[43m[\u001b[49m\u001b[43mstarts\u001b[49m\u001b[43m[\u001b[49m\u001b[43mi\u001b[49m\u001b[43m]\u001b[49m\u001b[43m \u001b[49m\u001b[43m:\u001b[49m\u001b[43m \u001b[49m\u001b[43mstarts\u001b[49m\u001b[43m[\u001b[49m\u001b[43mi\u001b[49m\u001b[43m \u001b[49m\u001b[38;5;241;43m+\u001b[39;49m\u001b[43m \u001b[49m\u001b[38;5;241;43m1\u001b[39;49m\u001b[43m]\u001b[49m\u001b[43m]\u001b[49m\u001b[43m,\u001b[49m\n",
      "\u001b[0;32m    337\u001b[0m \u001b[43m        \u001b[49m\u001b[43mtotal_n_estimators\u001b[49m\u001b[43m,\u001b[49m\n",
      "\u001b[0;32m    338\u001b[0m \u001b[43m        \u001b[49m\u001b[43mverbose\u001b[49m\u001b[38;5;241;43m=\u001b[39;49m\u001b[38;5;28;43mself\u001b[39;49m\u001b[38;5;241;43m.\u001b[39;49m\u001b[43mverbose\u001b[49m\u001b[43m,\u001b[49m\n",
      "\u001b[0;32m    339\u001b[0m \u001b[43m    \u001b[49m\u001b[43m)\u001b[49m\n",
      "\u001b[0;32m    340\u001b[0m \u001b[43m    \u001b[49m\u001b[38;5;28;43;01mfor\u001b[39;49;00m\u001b[43m \u001b[49m\u001b[43mi\u001b[49m\u001b[43m \u001b[49m\u001b[38;5;129;43;01min\u001b[39;49;00m\u001b[43m \u001b[49m\u001b[38;5;28;43mrange\u001b[39;49m\u001b[43m(\u001b[49m\u001b[43mn_jobs\u001b[49m\u001b[43m)\u001b[49m\n",
      "\u001b[0;32m    341\u001b[0m \u001b[43m\u001b[49m\u001b[43m)\u001b[49m\n",
      "\u001b[0;32m    343\u001b[0m \u001b[38;5;66;03m# Unpack results\u001b[39;00m\n",
      "\u001b[0;32m    344\u001b[0m \u001b[38;5;28;01mfor\u001b[39;00m result \u001b[38;5;129;01min\u001b[39;00m all_results:\n",
      "\n",
      "File \u001b[1;32mc:\\Users\\JoeN\\miniforge3\\envs\\mlfinlab_env\\lib\\site-packages\\joblib\\parallel.py:2072\u001b[0m, in \u001b[0;36mParallel.__call__\u001b[1;34m(self, iterable)\u001b[0m\n",
      "\u001b[0;32m   2066\u001b[0m \u001b[38;5;66;03m# The first item from the output is blank, but it makes the interpreter\u001b[39;00m\n",
      "\u001b[0;32m   2067\u001b[0m \u001b[38;5;66;03m# progress until it enters the Try/Except block of the generator and\u001b[39;00m\n",
      "\u001b[0;32m   2068\u001b[0m \u001b[38;5;66;03m# reaches the first `yield` statement. This starts the asynchronous\u001b[39;00m\n",
      "\u001b[0;32m   2069\u001b[0m \u001b[38;5;66;03m# dispatch of the tasks to the workers.\u001b[39;00m\n",
      "\u001b[0;32m   2070\u001b[0m \u001b[38;5;28mnext\u001b[39m(output)\n",
      "\u001b[1;32m-> 2072\u001b[0m \u001b[38;5;28;01mreturn\u001b[39;00m output \u001b[38;5;28;01mif\u001b[39;00m \u001b[38;5;28mself\u001b[39m\u001b[38;5;241m.\u001b[39mreturn_generator \u001b[38;5;28;01melse\u001b[39;00m \u001b[38;5;28;43mlist\u001b[39;49m\u001b[43m(\u001b[49m\u001b[43moutput\u001b[49m\u001b[43m)\u001b[49m\n",
      "\n",
      "File \u001b[1;32mc:\\Users\\JoeN\\miniforge3\\envs\\mlfinlab_env\\lib\\site-packages\\joblib\\parallel.py:1682\u001b[0m, in \u001b[0;36mParallel._get_outputs\u001b[1;34m(self, iterator, pre_dispatch)\u001b[0m\n",
      "\u001b[0;32m   1679\u001b[0m     \u001b[38;5;28;01myield\u001b[39;00m\n",
      "\u001b[0;32m   1681\u001b[0m     \u001b[38;5;28;01mwith\u001b[39;00m \u001b[38;5;28mself\u001b[39m\u001b[38;5;241m.\u001b[39m_backend\u001b[38;5;241m.\u001b[39mretrieval_context():\n",
      "\u001b[1;32m-> 1682\u001b[0m         \u001b[38;5;28;01myield from\u001b[39;00m \u001b[38;5;28mself\u001b[39m\u001b[38;5;241m.\u001b[39m_retrieve()\n",
      "\u001b[0;32m   1684\u001b[0m \u001b[38;5;28;01mexcept\u001b[39;00m \u001b[38;5;167;01mGeneratorExit\u001b[39;00m:\n",
      "\u001b[0;32m   1685\u001b[0m     \u001b[38;5;66;03m# The generator has been garbage collected before being fully\u001b[39;00m\n",
      "\u001b[0;32m   1686\u001b[0m     \u001b[38;5;66;03m# consumed. This aborts the remaining tasks if possible and warn\u001b[39;00m\n",
      "\u001b[0;32m   1687\u001b[0m     \u001b[38;5;66;03m# the user if necessary.\u001b[39;00m\n",
      "\u001b[0;32m   1688\u001b[0m     \u001b[38;5;28mself\u001b[39m\u001b[38;5;241m.\u001b[39m_exception \u001b[38;5;241m=\u001b[39m \u001b[38;5;28;01mTrue\u001b[39;00m\n",
      "\n",
      "File \u001b[1;32mc:\\Users\\JoeN\\miniforge3\\envs\\mlfinlab_env\\lib\\site-packages\\joblib\\parallel.py:1800\u001b[0m, in \u001b[0;36mParallel._retrieve\u001b[1;34m(self)\u001b[0m\n",
      "\u001b[0;32m   1789\u001b[0m \u001b[38;5;28;01mif\u001b[39;00m \u001b[38;5;28mself\u001b[39m\u001b[38;5;241m.\u001b[39mreturn_ordered:\n",
      "\u001b[0;32m   1790\u001b[0m     \u001b[38;5;66;03m# Case ordered: wait for completion (or error) of the next job\u001b[39;00m\n",
      "\u001b[0;32m   1791\u001b[0m     \u001b[38;5;66;03m# that have been dispatched and not retrieved yet. If no job\u001b[39;00m\n",
      "\u001b[1;32m   (...)\u001b[0m\n",
      "\u001b[0;32m   1795\u001b[0m     \u001b[38;5;66;03m# control only have to be done on the amount of time the next\u001b[39;00m\n",
      "\u001b[0;32m   1796\u001b[0m     \u001b[38;5;66;03m# dispatched job is pending.\u001b[39;00m\n",
      "\u001b[0;32m   1797\u001b[0m     \u001b[38;5;28;01mif\u001b[39;00m (nb_jobs \u001b[38;5;241m==\u001b[39m \u001b[38;5;241m0\u001b[39m) \u001b[38;5;129;01mor\u001b[39;00m (\n",
      "\u001b[0;32m   1798\u001b[0m         \u001b[38;5;28mself\u001b[39m\u001b[38;5;241m.\u001b[39m_jobs[\u001b[38;5;241m0\u001b[39m]\u001b[38;5;241m.\u001b[39mget_status(timeout\u001b[38;5;241m=\u001b[39m\u001b[38;5;28mself\u001b[39m\u001b[38;5;241m.\u001b[39mtimeout) \u001b[38;5;241m==\u001b[39m TASK_PENDING\n",
      "\u001b[0;32m   1799\u001b[0m     ):\n",
      "\u001b[1;32m-> 1800\u001b[0m         \u001b[43mtime\u001b[49m\u001b[38;5;241;43m.\u001b[39;49m\u001b[43msleep\u001b[49m\u001b[43m(\u001b[49m\u001b[38;5;241;43m0.01\u001b[39;49m\u001b[43m)\u001b[49m\n",
      "\u001b[0;32m   1801\u001b[0m         \u001b[38;5;28;01mcontinue\u001b[39;00m\n",
      "\u001b[0;32m   1803\u001b[0m \u001b[38;5;28;01melif\u001b[39;00m nb_jobs \u001b[38;5;241m==\u001b[39m \u001b[38;5;241m0\u001b[39m:\n",
      "\u001b[0;32m   1804\u001b[0m     \u001b[38;5;66;03m# Case unordered: jobs are added to the list of jobs to\u001b[39;00m\n",
      "\u001b[0;32m   1805\u001b[0m     \u001b[38;5;66;03m# retrieve `self._jobs` only once completed or in error, which\u001b[39;00m\n",
      "\u001b[1;32m   (...)\u001b[0m\n",
      "\u001b[0;32m   1811\u001b[0m     \u001b[38;5;66;03m# timeouts before any other dispatched job has completed and\u001b[39;00m\n",
      "\u001b[0;32m   1812\u001b[0m     \u001b[38;5;66;03m# been added to `self._jobs` to be retrieved.\u001b[39;00m\n",
      "\n",
      "\u001b[1;31mKeyboardInterrupt\u001b[0m: "
     ]
    }
   ],
   "source": [
    "t = slice(0, 1000)\n",
    "\n",
    "seq_rf = SequentiallyBootstrappedBaggingClassifier(\n",
    "    samples_info_sets=t1[t],\n",
    "    price_bars_index=bb_df.index,\n",
    "    estimator=None, # base_tree\n",
    "    n_estimators=50,\n",
    "    oob_score=True,\n",
    "    n_jobs=-1,\n",
    "    random_state=42,\n",
    "    verbose=1,\n",
    ")\n",
    "seq_rf.fit(\n",
    "    X_train.iloc[t, :],\n",
    "    y_train.iloc[t],\n",
    "    sample_weight=cont_train.loc[y_train.index[t], \"w\"].values,\n",
    ")\n",
    "print(f\"Out-of-Bag Score: {seq_rf.oob_score_:.4f}\")"
   ]
  },
  {
   "cell_type": "code",
   "execution_count": null,
   "id": "ebd2d022",
   "metadata": {},
   "outputs": [],
   "source": [
    "winsound.Beep(1000, 1000)\n",
    "# N=1000\n",
    "# | n_estimators=10 | 3m 27.3s | Out-of-Bag Score: 0.2120\n",
    "# | n_estimators=50 | 3m 27.3s | Out-of-Bag Score: 0.2120"
   ]
  },
  {
   "cell_type": "code",
   "execution_count": null,
   "id": "6ccf5d49",
   "metadata": {},
   "outputs": [
    {
     "name": "stderr",
     "output_type": "stream",
     "text": [
      "[Parallel(n_jobs=4)]: Using backend LokyBackend with 4 concurrent workers.\n"
     ]
    },
    {
     "ename": "KeyboardInterrupt",
     "evalue": "",
     "output_type": "error",
     "traceback": [
      "\u001b[1;31m---------------------------------------------------------------------------\u001b[0m",
      "\u001b[1;31mKeyboardInterrupt\u001b[0m                         Traceback (most recent call last)",
      "Cell \u001b[1;32mIn[59], line 28\u001b[0m\n\u001b[0;32m      7\u001b[0m base_estimator \u001b[38;5;241m=\u001b[39m DecisionTreeClassifier(\n\u001b[0;32m      8\u001b[0m     criterion\u001b[38;5;241m=\u001b[39m\u001b[38;5;124m'\u001b[39m\u001b[38;5;124mentropy\u001b[39m\u001b[38;5;124m'\u001b[39m, \n\u001b[0;32m      9\u001b[0m     class_weight\u001b[38;5;241m=\u001b[39m\u001b[38;5;124m'\u001b[39m\u001b[38;5;124mbalanced\u001b[39m\u001b[38;5;124m'\u001b[39m,\n\u001b[0;32m     10\u001b[0m     min_weight_fraction_leaf\u001b[38;5;241m=\u001b[39m\u001b[38;5;241m0.05\u001b[39m,\n\u001b[0;32m     11\u001b[0m     )\n\u001b[0;32m     12\u001b[0m seq_rf \u001b[38;5;241m=\u001b[39m SequentiallyBootstrappedBaggingClassifier(\n\u001b[0;32m     13\u001b[0m     samples_info_sets\u001b[38;5;241m=\u001b[39mcont_train\u001b[38;5;241m.\u001b[39mt1[train_],\n\u001b[0;32m     14\u001b[0m     price_bars_index\u001b[38;5;241m=\u001b[39mprice_bars_index,\n\u001b[1;32m   (...)\u001b[0m\n\u001b[0;32m     24\u001b[0m     verbose\u001b[38;5;241m=\u001b[39m\u001b[38;5;241m1\u001b[39m,\n\u001b[0;32m     25\u001b[0m )\n\u001b[1;32m---> 28\u001b[0m seq_fit \u001b[38;5;241m=\u001b[39m \u001b[43mseq_rf\u001b[49m\u001b[38;5;241;43m.\u001b[39;49m\u001b[43mfit\u001b[49m\u001b[43m(\u001b[49m\u001b[43mX_train\u001b[49m\u001b[38;5;241;43m.\u001b[39;49m\u001b[43miloc\u001b[49m\u001b[43m[\u001b[49m\u001b[43mtrain_\u001b[49m\u001b[43m]\u001b[49m\u001b[43m,\u001b[49m\u001b[43m \u001b[49m\u001b[43my_train\u001b[49m\u001b[43m[\u001b[49m\u001b[43mtrain_\u001b[49m\u001b[43m]\u001b[49m\u001b[43m,\u001b[49m\u001b[43m \u001b[49m\u001b[43msample_weight\u001b[49m\u001b[38;5;241;43m=\u001b[39;49m\u001b[43mcont_train\u001b[49m\u001b[43m[\u001b[49m\u001b[38;5;124;43m\"\u001b[39;49m\u001b[38;5;124;43mw\u001b[39;49m\u001b[38;5;124;43m\"\u001b[39;49m\u001b[43m]\u001b[49m\u001b[43m[\u001b[49m\u001b[43mtrain_\u001b[49m\u001b[43m]\u001b[49m\u001b[43m)\u001b[49m\n\u001b[0;32m     29\u001b[0m seq_probs \u001b[38;5;241m=\u001b[39m seq_rf\u001b[38;5;241m.\u001b[39mpredict_proba(X_test)\n\u001b[0;32m     30\u001b[0m seq_pred \u001b[38;5;241m=\u001b[39m seq_rf\u001b[38;5;241m.\u001b[39mpredict(X_test)\n",
      "File \u001b[1;32mc:\\Users\\JoeN\\Documents\\GitHub\\Machine-Learning-Blueprint\\notebooks\\..\\afml\\sampling\\optimized_sb_bagging.py:212\u001b[0m, in \u001b[0;36mSequentiallyBootstrappedBaseBagging.fit\u001b[1;34m(self, X, y, sample_weight)\u001b[0m\n\u001b[0;32m    191\u001b[0m \u001b[38;5;28;01mdef\u001b[39;00m\u001b[38;5;250m \u001b[39m\u001b[38;5;21mfit\u001b[39m(\u001b[38;5;28mself\u001b[39m, X, y, sample_weight\u001b[38;5;241m=\u001b[39m\u001b[38;5;28;01mNone\u001b[39;00m):\n\u001b[0;32m    192\u001b[0m \u001b[38;5;250m    \u001b[39m\u001b[38;5;124;03m\"\"\"\u001b[39;00m\n\u001b[0;32m    193\u001b[0m \u001b[38;5;124;03m    Build a Sequentially Bootstrapped Bagging ensemble of estimators from the training\u001b[39;00m\n\u001b[0;32m    194\u001b[0m \u001b[38;5;124;03m    set (X, y).\u001b[39;00m\n\u001b[1;32m   (...)\u001b[0m\n\u001b[0;32m    210\u001b[0m \u001b[38;5;124;03m    self : (object)\u001b[39;00m\n\u001b[0;32m    211\u001b[0m \u001b[38;5;124;03m    \"\"\"\u001b[39;00m\n\u001b[1;32m--> 212\u001b[0m     \u001b[38;5;28;01mreturn\u001b[39;00m \u001b[38;5;28;43mself\u001b[39;49m\u001b[38;5;241;43m.\u001b[39;49m\u001b[43m_fit\u001b[49m\u001b[43m(\u001b[49m\u001b[43mX\u001b[49m\u001b[43m,\u001b[49m\u001b[43m \u001b[49m\u001b[43my\u001b[49m\u001b[43m,\u001b[49m\u001b[43m \u001b[49m\u001b[38;5;28;43mself\u001b[39;49m\u001b[38;5;241;43m.\u001b[39;49m\u001b[43mmax_samples\u001b[49m\u001b[43m,\u001b[49m\u001b[43m \u001b[49m\u001b[43msample_weight\u001b[49m\u001b[38;5;241;43m=\u001b[39;49m\u001b[43msample_weight\u001b[49m\u001b[43m)\u001b[49m\n",
      "File \u001b[1;32mc:\\Users\\JoeN\\Documents\\GitHub\\Machine-Learning-Blueprint\\notebooks\\..\\afml\\sampling\\optimized_sb_bagging.py:407\u001b[0m, in \u001b[0;36mSequentiallyBootstrappedBaggingClassifier._fit\u001b[1;34m(self, X, y, max_samples, max_depth, sample_weight)\u001b[0m\n\u001b[0;32m    404\u001b[0m \u001b[38;5;28mself\u001b[39m\u001b[38;5;241m.\u001b[39mn_classes_ \u001b[38;5;241m=\u001b[39m \u001b[38;5;28mlen\u001b[39m(\u001b[38;5;28mself\u001b[39m\u001b[38;5;241m.\u001b[39mclasses_)\n\u001b[0;32m    406\u001b[0m \u001b[38;5;66;03m# Call parent _fit method\u001b[39;00m\n\u001b[1;32m--> 407\u001b[0m \u001b[38;5;28;01mreturn\u001b[39;00m \u001b[38;5;28;43msuper\u001b[39;49m\u001b[43m(\u001b[49m\u001b[43m)\u001b[49m\u001b[38;5;241;43m.\u001b[39;49m\u001b[43m_fit\u001b[49m\u001b[43m(\u001b[49m\u001b[43mX\u001b[49m\u001b[43m,\u001b[49m\u001b[43m \u001b[49m\u001b[43my\u001b[49m\u001b[43m,\u001b[49m\u001b[43m \u001b[49m\u001b[43mmax_samples\u001b[49m\u001b[43m,\u001b[49m\u001b[43m \u001b[49m\u001b[43mmax_depth\u001b[49m\u001b[43m,\u001b[49m\u001b[43m \u001b[49m\u001b[43msample_weight\u001b[49m\u001b[43m)\u001b[49m\n",
      "File \u001b[1;32mc:\\Users\\JoeN\\Documents\\GitHub\\Machine-Learning-Blueprint\\notebooks\\..\\afml\\sampling\\optimized_sb_bagging.py:328\u001b[0m, in \u001b[0;36mSequentiallyBootstrappedBaseBagging._fit\u001b[1;34m(self, X, y, max_samples, max_depth, sample_weight)\u001b[0m\n\u001b[0;32m    325\u001b[0m     \u001b[38;5;28mself\u001b[39m\u001b[38;5;241m.\u001b[39m_seeds \u001b[38;5;241m=\u001b[39m np\u001b[38;5;241m.\u001b[39mconcatenate([\u001b[38;5;28mself\u001b[39m\u001b[38;5;241m.\u001b[39m_seeds, seeds])\n\u001b[0;32m    327\u001b[0m \u001b[38;5;66;03m# Build estimators in parallel\u001b[39;00m\n\u001b[1;32m--> 328\u001b[0m all_results \u001b[38;5;241m=\u001b[39m \u001b[43mParallel\u001b[49m\u001b[43m(\u001b[49m\u001b[43mn_jobs\u001b[49m\u001b[38;5;241;43m=\u001b[39;49m\u001b[43mn_jobs\u001b[49m\u001b[43m,\u001b[49m\u001b[43m \u001b[49m\u001b[43mverbose\u001b[49m\u001b[38;5;241;43m=\u001b[39;49m\u001b[38;5;28;43mself\u001b[39;49m\u001b[38;5;241;43m.\u001b[39;49m\u001b[43mverbose\u001b[49m\u001b[43m)\u001b[49m\u001b[43m(\u001b[49m\n\u001b[0;32m    329\u001b[0m \u001b[43m    \u001b[49m\u001b[43mdelayed\u001b[49m\u001b[43m(\u001b[49m\u001b[43m_parallel_build_estimators\u001b[49m\u001b[43m)\u001b[49m\u001b[43m(\u001b[49m\n\u001b[0;32m    330\u001b[0m \u001b[43m        \u001b[49m\u001b[43mn_estimators\u001b[49m\u001b[43m[\u001b[49m\u001b[43mi\u001b[49m\u001b[43m]\u001b[49m\u001b[43m,\u001b[49m\n\u001b[0;32m    331\u001b[0m \u001b[43m        \u001b[49m\u001b[38;5;28;43mself\u001b[39;49m\u001b[43m,\u001b[49m\n\u001b[0;32m    332\u001b[0m \u001b[43m        \u001b[49m\u001b[43mX\u001b[49m\u001b[43m,\u001b[49m\n\u001b[0;32m    333\u001b[0m \u001b[43m        \u001b[49m\u001b[43my\u001b[49m\u001b[43m,\u001b[49m\n\u001b[0;32m    334\u001b[0m \u001b[43m        \u001b[49m\u001b[38;5;28;43mself\u001b[39;49m\u001b[38;5;241;43m.\u001b[39;49m\u001b[43mactive_indices_\u001b[49m\u001b[43m,\u001b[49m\n\u001b[0;32m    335\u001b[0m \u001b[43m        \u001b[49m\u001b[43msample_weight\u001b[49m\u001b[43m,\u001b[49m\n\u001b[0;32m    336\u001b[0m \u001b[43m        \u001b[49m\u001b[43mseeds\u001b[49m\u001b[43m[\u001b[49m\u001b[43mstarts\u001b[49m\u001b[43m[\u001b[49m\u001b[43mi\u001b[49m\u001b[43m]\u001b[49m\u001b[43m \u001b[49m\u001b[43m:\u001b[49m\u001b[43m \u001b[49m\u001b[43mstarts\u001b[49m\u001b[43m[\u001b[49m\u001b[43mi\u001b[49m\u001b[43m \u001b[49m\u001b[38;5;241;43m+\u001b[39;49m\u001b[43m \u001b[49m\u001b[38;5;241;43m1\u001b[39;49m\u001b[43m]\u001b[49m\u001b[43m]\u001b[49m\u001b[43m,\u001b[49m\n\u001b[0;32m    337\u001b[0m \u001b[43m        \u001b[49m\u001b[43mtotal_n_estimators\u001b[49m\u001b[43m,\u001b[49m\n\u001b[0;32m    338\u001b[0m \u001b[43m        \u001b[49m\u001b[43mverbose\u001b[49m\u001b[38;5;241;43m=\u001b[39;49m\u001b[38;5;28;43mself\u001b[39;49m\u001b[38;5;241;43m.\u001b[39;49m\u001b[43mverbose\u001b[49m\u001b[43m,\u001b[49m\n\u001b[0;32m    339\u001b[0m \u001b[43m    \u001b[49m\u001b[43m)\u001b[49m\n\u001b[0;32m    340\u001b[0m \u001b[43m    \u001b[49m\u001b[38;5;28;43;01mfor\u001b[39;49;00m\u001b[43m \u001b[49m\u001b[43mi\u001b[49m\u001b[43m \u001b[49m\u001b[38;5;129;43;01min\u001b[39;49;00m\u001b[43m \u001b[49m\u001b[38;5;28;43mrange\u001b[39;49m\u001b[43m(\u001b[49m\u001b[43mn_jobs\u001b[49m\u001b[43m)\u001b[49m\n\u001b[0;32m    341\u001b[0m \u001b[43m\u001b[49m\u001b[43m)\u001b[49m\n\u001b[0;32m    343\u001b[0m \u001b[38;5;66;03m# Unpack results\u001b[39;00m\n\u001b[0;32m    344\u001b[0m \u001b[38;5;28;01mfor\u001b[39;00m result \u001b[38;5;129;01min\u001b[39;00m all_results:\n",
      "File \u001b[1;32mc:\\Users\\JoeN\\miniforge3\\envs\\mlfinlab_env\\lib\\site-packages\\joblib\\parallel.py:2072\u001b[0m, in \u001b[0;36mParallel.__call__\u001b[1;34m(self, iterable)\u001b[0m\n\u001b[0;32m   2066\u001b[0m \u001b[38;5;66;03m# The first item from the output is blank, but it makes the interpreter\u001b[39;00m\n\u001b[0;32m   2067\u001b[0m \u001b[38;5;66;03m# progress until it enters the Try/Except block of the generator and\u001b[39;00m\n\u001b[0;32m   2068\u001b[0m \u001b[38;5;66;03m# reaches the first `yield` statement. This starts the asynchronous\u001b[39;00m\n\u001b[0;32m   2069\u001b[0m \u001b[38;5;66;03m# dispatch of the tasks to the workers.\u001b[39;00m\n\u001b[0;32m   2070\u001b[0m \u001b[38;5;28mnext\u001b[39m(output)\n\u001b[1;32m-> 2072\u001b[0m \u001b[38;5;28;01mreturn\u001b[39;00m output \u001b[38;5;28;01mif\u001b[39;00m \u001b[38;5;28mself\u001b[39m\u001b[38;5;241m.\u001b[39mreturn_generator \u001b[38;5;28;01melse\u001b[39;00m \u001b[38;5;28;43mlist\u001b[39;49m\u001b[43m(\u001b[49m\u001b[43moutput\u001b[49m\u001b[43m)\u001b[49m\n",
      "File \u001b[1;32mc:\\Users\\JoeN\\miniforge3\\envs\\mlfinlab_env\\lib\\site-packages\\joblib\\parallel.py:1682\u001b[0m, in \u001b[0;36mParallel._get_outputs\u001b[1;34m(self, iterator, pre_dispatch)\u001b[0m\n\u001b[0;32m   1679\u001b[0m     \u001b[38;5;28;01myield\u001b[39;00m\n\u001b[0;32m   1681\u001b[0m     \u001b[38;5;28;01mwith\u001b[39;00m \u001b[38;5;28mself\u001b[39m\u001b[38;5;241m.\u001b[39m_backend\u001b[38;5;241m.\u001b[39mretrieval_context():\n\u001b[1;32m-> 1682\u001b[0m         \u001b[38;5;28;01myield from\u001b[39;00m \u001b[38;5;28mself\u001b[39m\u001b[38;5;241m.\u001b[39m_retrieve()\n\u001b[0;32m   1684\u001b[0m \u001b[38;5;28;01mexcept\u001b[39;00m \u001b[38;5;167;01mGeneratorExit\u001b[39;00m:\n\u001b[0;32m   1685\u001b[0m     \u001b[38;5;66;03m# The generator has been garbage collected before being fully\u001b[39;00m\n\u001b[0;32m   1686\u001b[0m     \u001b[38;5;66;03m# consumed. This aborts the remaining tasks if possible and warn\u001b[39;00m\n\u001b[0;32m   1687\u001b[0m     \u001b[38;5;66;03m# the user if necessary.\u001b[39;00m\n\u001b[0;32m   1688\u001b[0m     \u001b[38;5;28mself\u001b[39m\u001b[38;5;241m.\u001b[39m_exception \u001b[38;5;241m=\u001b[39m \u001b[38;5;28;01mTrue\u001b[39;00m\n",
      "File \u001b[1;32mc:\\Users\\JoeN\\miniforge3\\envs\\mlfinlab_env\\lib\\site-packages\\joblib\\parallel.py:1800\u001b[0m, in \u001b[0;36mParallel._retrieve\u001b[1;34m(self)\u001b[0m\n\u001b[0;32m   1789\u001b[0m \u001b[38;5;28;01mif\u001b[39;00m \u001b[38;5;28mself\u001b[39m\u001b[38;5;241m.\u001b[39mreturn_ordered:\n\u001b[0;32m   1790\u001b[0m     \u001b[38;5;66;03m# Case ordered: wait for completion (or error) of the next job\u001b[39;00m\n\u001b[0;32m   1791\u001b[0m     \u001b[38;5;66;03m# that have been dispatched and not retrieved yet. If no job\u001b[39;00m\n\u001b[1;32m   (...)\u001b[0m\n\u001b[0;32m   1795\u001b[0m     \u001b[38;5;66;03m# control only have to be done on the amount of time the next\u001b[39;00m\n\u001b[0;32m   1796\u001b[0m     \u001b[38;5;66;03m# dispatched job is pending.\u001b[39;00m\n\u001b[0;32m   1797\u001b[0m     \u001b[38;5;28;01mif\u001b[39;00m (nb_jobs \u001b[38;5;241m==\u001b[39m \u001b[38;5;241m0\u001b[39m) \u001b[38;5;129;01mor\u001b[39;00m (\n\u001b[0;32m   1798\u001b[0m         \u001b[38;5;28mself\u001b[39m\u001b[38;5;241m.\u001b[39m_jobs[\u001b[38;5;241m0\u001b[39m]\u001b[38;5;241m.\u001b[39mget_status(timeout\u001b[38;5;241m=\u001b[39m\u001b[38;5;28mself\u001b[39m\u001b[38;5;241m.\u001b[39mtimeout) \u001b[38;5;241m==\u001b[39m TASK_PENDING\n\u001b[0;32m   1799\u001b[0m     ):\n\u001b[1;32m-> 1800\u001b[0m         \u001b[43mtime\u001b[49m\u001b[38;5;241;43m.\u001b[39;49m\u001b[43msleep\u001b[49m\u001b[43m(\u001b[49m\u001b[38;5;241;43m0.01\u001b[39;49m\u001b[43m)\u001b[49m\n\u001b[0;32m   1801\u001b[0m         \u001b[38;5;28;01mcontinue\u001b[39;00m\n\u001b[0;32m   1803\u001b[0m \u001b[38;5;28;01melif\u001b[39;00m nb_jobs \u001b[38;5;241m==\u001b[39m \u001b[38;5;241m0\u001b[39m:\n\u001b[0;32m   1804\u001b[0m     \u001b[38;5;66;03m# Case unordered: jobs are added to the list of jobs to\u001b[39;00m\n\u001b[0;32m   1805\u001b[0m     \u001b[38;5;66;03m# retrieve `self._jobs` only once completed or in error, which\u001b[39;00m\n\u001b[1;32m   (...)\u001b[0m\n\u001b[0;32m   1811\u001b[0m     \u001b[38;5;66;03m# timeouts before any other dispatched job has completed and\u001b[39;00m\n\u001b[0;32m   1812\u001b[0m     \u001b[38;5;66;03m# been added to `self._jobs` to be retrieved.\u001b[39;00m\n",
      "\u001b[1;31mKeyboardInterrupt\u001b[0m: "
     ]
    }
   ],
   "source": [
    "from sklearn.tree import DecisionTreeClassifier\n",
    "\n",
    "\n",
    "train_ = train[:1000]\n",
    "\n",
    "# Initialize the sequentially bootstrapped classifier\n",
    "base_estimator = DecisionTreeClassifier(\n",
    "    criterion='entropy', \n",
    "    class_weight='balanced',\n",
    "    min_weight_fraction_leaf=0.025,\n",
    "    )\n",
    "seq_rf = SequentiallyBootstrappedBaggingClassifier(\n",
    "    samples_info_sets=cont_train.t1[train_],\n",
    "    price_bars_index=price_bars_index,\n",
    "    estimator=base_estimator,\n",
    "    n_estimators=10,\n",
    "    max_samples=0.8,\n",
    "    max_features=1.0,\n",
    "    bootstrap_features=False,\n",
    "    oob_score=False,\n",
    "    warm_start=False,\n",
    "    n_jobs=-1,\n",
    "    random_state=42,\n",
    "    verbose=0,\n",
    ")\n",
    "\n",
    "\n",
    "seq_fit = seq_rf.fit(X_train.iloc[train_], y_train[train_], sample_weight=cont_train[\"w\"][train_])\n",
    "seq_probs = seq_rf.predict_proba(X_test)\n",
    "seq_pred = seq_rf.predict(X_test)\n",
    "print(f\"OOB Score: {seq_rf.oob_score_:.4f}\")\n",
    "print(f\"Test Accuracy: {accuracy_score(y_test, seq_pred):.4f}\")\n",
    "print(f\"Test Log Loss: {log_loss(y_test, seq_probs):.4f}\")\n",
    "print(f\"Test Precision: {precision_score(y_test, seq_pred):.4f}\")\n",
    "print(f\"Test Recall: {recall_score(y_test, seq_pred):.4f}\")\n",
    "print(f\"Test F1 Score: {f1_score(y_test, seq_pred):.4f}\")"
   ]
  },
  {
   "cell_type": "markdown",
   "id": "cfd79a4f",
   "metadata": {},
   "source": [
    "##### Reports"
   ]
  },
  {
   "cell_type": "code",
   "execution_count": null,
   "id": "ebce442e",
   "metadata": {},
   "outputs": [],
   "source": [
    "dirpath = Path(\"reports\", \"time_bars\", bb_timeframe)\n",
    "dirpath.mkdir(parents=True, exist_ok=True)\n",
    "\n",
    "# Simulated loop over labeling methods\n",
    "labeling_methods = [\n",
    "    \"triple-barrier_daily_vol\", \n",
    "    f\"triple-barrier_SMA{bb_period}\", \n",
    "    ]\n",
    "models = [model_bb_tb_time, model_bb_tb_time1]"
   ]
  },
  {
   "cell_type": "code",
   "execution_count": null,
   "id": "402e8e67",
   "metadata": {},
   "outputs": [],
   "source": [
    "# fp = Path(dirpath, \"unweighted\")\n",
    "# fp_plots = Path(dirpath, \"plots\", \"unweighted\")\n",
    "# fp_plots.mkdir(parents=True, exist_ok=True)\n",
    "# bb_models = [model_bb_fh_time, model_bb_tb_time, model_bb_trend_time]\n",
    "\n",
    "# bb_roc = compare_roc_curves(\n",
    "#     bb_models[:], plot_titles[:], columns=2, height=7.5, \n",
    "#     fig_title=f\"Bollinger Strategy (window= {bb_period}, $\\\\sigma = {bb_std}$)\"\n",
    "#     )\n",
    "# bb_roc.savefig(fp_plots / \"bb_roc_comparison.png\", bbox_inches=\"tight\", dpi=100)\n",
    "\n",
    "# # bb_roc = compare_roc_curves(bb_models[:2], plot_titles[:2], columns=2)\n",
    "# # bb_roc.savefig(dirpath / \"bb_roc_barrier_comparison.png\", bbox_inches=\"tight\", dpi=100)\n",
    "\n",
    "# # bb_roc_trend = compare_roc_curves(bb_models[2:], plot_titles[2:], columns=2)\n",
    "# # bb_roc_trend.savefig(dirpath / \"bb_roc_trend_comparison.png\", bbox_inches=\"tight\", dpi=100)\n",
    "\n",
    "# # meta_labelinglassification_reports(model_data=bb_models, titles=bb_titles, output_filenames=filenames, path=fp)"
   ]
  },
  {
   "cell_type": "code",
   "execution_count": null,
   "id": "f1ada263",
   "metadata": {},
   "outputs": [],
   "source": [
    "# fp_w = Path(dirpath, \"return_weighted\") \n",
    "# fp_plots = Path(dirpath, \"plots\", \"return_weighted\")\n",
    "# fp_plots.mkdir(parents=True, exist_ok=True)\n",
    "\n",
    "# bb_models_w = [model_bb_fh_time_w, model_bb_tbtime_w, model_bb_trend_time_w]\n",
    "# bb_titles_w = [f\"Return-Weighted {w}\" for w in bb_titles]\n",
    "# filenames_w = [f\"{w}_w\" for w in filenames]\n",
    "\n",
    "# bbb_roc = compare_roc_curves(\n",
    "#     bb_models_w[:], plot_titles[:], columns=2, height=7.5, \n",
    "#     fig_title=f\"Bollinger Strategy (window= {bb_period}, $\\\\sigma = {bb_std}$)\"\n",
    "#     )\n",
    "# bb_roc.savefig(fp_plots / \"bb_roc_comparison.png\", bbox_inches=\"tight\", dpi=100)\n",
    "\n",
    "# meta_labelinglassification_reports(model_data=bb_models_w, titles=bb_titles_w, output_filenames=filenames_w, path=fp_w)"
   ]
  },
  {
   "cell_type": "code",
   "execution_count": null,
   "id": "077c5860",
   "metadata": {},
   "outputs": [],
   "source": [
    "# fp_tw = Path(dirpath, \"time_weighted\") \n",
    "# plot_titles_tw = [fr\"$\\lambda = {decay}$\" for decay in time_decays]\n",
    "# columns = 2\n",
    "# height = 7.5\n",
    "# fig_titles = [f\"Time-Decay ($\\lambda$): {method} ROC Curves\" for method in bb_titles]\n",
    "\n",
    "# bb_models_tw, bb_titles_tw, filenames_tw = [], [], []\n",
    "# for time_decay, labels in models_bb_time_tw.items():\n",
    "#     for i, (label, model) in enumerate(labels.items()):\n",
    "#         bb_models_tw.append(model)\n",
    "#         bb_titles_tw.append(f\"Time-Weighted (λ = {time_decay}) {bb_titles[i]}\")\n",
    "#         filenames_tw.append(f\"{filenames[i]}_tw_{time_decay}\")\n",
    "\n",
    "# meta_labelinglassification_reports(model_data=bb_models_tw, titles=bb_titles_tw, output_filenames=filenames_tw, path=fp_tw)\n",
    "\n",
    "# fig_title = fig_titles[0]\n",
    "# bb_roc_fh_tw = compare_roc_curves(bb_models_tw[::4], plot_titles_tw, fig_title, columns, height)\n",
    "# bb_roc_fh_tw.savefig(dirpath / \"bb_roc_fixed_horizon_comparison_time_weighted.png\", bbox_inches=\"tight\", dpi=100)"
   ]
  },
  {
   "cell_type": "markdown",
   "id": "801a97f6",
   "metadata": {},
   "source": [
    "##### Out-of-Sample"
   ]
  },
  {
   "cell_type": "code",
   "execution_count": null,
   "id": "0226f832",
   "metadata": {},
   "outputs": [
    {
     "name": "stdout",
     "output_type": "stream",
     "text": [
      "\u001b[32m2025-09-22 19:27:12\u001b[0m | \u001b[1mINFO    \u001b[0m | \u001b[1mBollinger_w20_std1.5 | 71,159 (100.00%) trade events.\u001b[0m\n",
      "\n",
      "       count  proportion\n",
      "side                    \n",
      "-1    35,933    0.504968\n",
      " 1    35,226    0.495032\n",
      "\n",
      "<class 'pandas.core.frame.DataFrame'>\n",
      "DatetimeIndex: 71159 entries, 2021-12-31 02:40:00 to 2024-12-31 00:00:00\n",
      "Data columns (total 47 columns):\n",
      " #   Column               Non-Null Count  Dtype  \n",
      "---  ------               --------------  -----  \n",
      " 0   close                71159 non-null  float32\n",
      " 1   spread               71159 non-null  float32\n",
      " 2   vol                  71159 non-null  float32\n",
      " 3   h1_vol               71159 non-null  float32\n",
      " 4   h4_vol               71159 non-null  float32\n",
      " 5   d1_vol               71159 non-null  float32\n",
      " 6   ret                  71159 non-null  float32\n",
      " 7   ret_5                71159 non-null  float32\n",
      " 8   ret_10               71159 non-null  float32\n",
      " 9   ret_1_lag_1          71159 non-null  float32\n",
      " 10  ret_5_lag_1          71159 non-null  float32\n",
      " 11  ret_10_lag_1         71159 non-null  float32\n",
      " 12  ret_1_lag_2          71159 non-null  float32\n",
      " 13  ret_5_lag_2          71159 non-null  float32\n",
      " 14  ret_10_lag_2         71159 non-null  float32\n",
      " 15  ret_1_lag_3          71159 non-null  float32\n",
      " 16  ret_5_lag_3          71159 non-null  float32\n",
      " 17  ret_10_lag_3         71159 non-null  float32\n",
      " 18  ret_skew             71159 non-null  float32\n",
      " 19  ret_kurt             71159 non-null  float32\n",
      " 20  autocorr             71159 non-null  float32\n",
      " 21  autocorr_1           71159 non-null  float32\n",
      " 22  autocorr_2           71159 non-null  float32\n",
      " 23  autocorr_3           71159 non-null  float32\n",
      " 24  autocorr_4           71159 non-null  float32\n",
      " 25  autocorr_5           71159 non-null  float32\n",
      " 26  bbl_20_1.5           71159 non-null  float32\n",
      " 27  bbm_20_1.5           71159 non-null  float32\n",
      " 28  bbu_20_1.5           71159 non-null  float32\n",
      " 29  bbb_20_1.5           71159 non-null  float32\n",
      " 30  bbp_20_1.5           71159 non-null  float64\n",
      " 31  truerange_1          71159 non-null  float32\n",
      " 32  atrr_14              71159 non-null  float32\n",
      " 33  rsi_14               71159 non-null  float32\n",
      " 34  stochrsik_14_14_3_3  71159 non-null  float32\n",
      " 35  stochrsid_14_14_3_3  71159 non-null  float32\n",
      " 36  adx_14               71159 non-null  float32\n",
      " 37  dmp_14               71159 non-null  float32\n",
      " 38  dmn_14               71159 non-null  float32\n",
      " 39  dm_net               71159 non-null  float32\n",
      " 40  macd_12_26_9         71159 non-null  float32\n",
      " 41  macdh_12_26_9        71159 non-null  float32\n",
      " 42  sma_diff_5_20        71159 non-null  float32\n",
      " 43  sma_diff_5_50        71159 non-null  float32\n",
      " 44  sma_diff_20_100      71159 non-null  float32\n",
      " 45  sma_diff_100_200     71159 non-null  float32\n",
      " 46  side                 71159 non-null  int8   \n",
      "dtypes: float32(45), float64(1), int8(1)\n",
      "memory usage: 13.4 MB\n"
     ]
    }
   ],
   "source": [
    "\n",
    "\n",
    "# Create events set for model\n",
    "df = bb_time_bars[sample_end:]\n",
    "close = df.close.copy()\n",
    "target = get_daily_vol(bb_time_bars.close, vol_lookback).reindex(df.index) * bb_vol_multiplier\n",
    "\n",
    "side, t_events = get_entries(bb_strategy, df, on_crossover=False)\n",
    "vertical_barrier_times = add_vertical_barrier(t_events, close, num_bars=bb_time_horizon)\n",
    "\n",
    "# Create feature set for model\n",
    "X_test = bb_feat_time.reindex(t_events).dropna().copy()\n",
    "value_counts_data(X_test.side, verbose=True)\n",
    "X_test.info()\n",
    "\n",
    "\n",
    "bb_events_tb_time_oos = get_events(\n",
    "    close, t_events, \n",
    "    pt_sl=[bb_pt_barrier, bb_sl_barrier],\n",
    "    target=target, \n",
    "    vertical_barrier_times=vertical_barrier_times, \n",
    "    side_prediction=bb_side,\n",
    "    )\n",
    "bb_events_tb_time_oos1 = get_events(\n",
    "    close, t_events, \n",
    "    pt_sl=[bb_pt_barrier, bb_sl_barrier],\n",
    "    target=close.rolling(bb_period).std().reindex(df.index), \n",
    "    vertical_barrier_times=vertical_barrier_times, \n",
    "    side_prediction=bb_side,\n",
    "    )\n",
    "labeling_methods = [\n",
    "    \"triple-barrier_daily_vol\", \n",
    "    \"triple-barrier_SMA20\", \n",
    "\n",
    "    ]\n",
    "models = [\n",
    "    model_bb_tb_time, model_bb_tb_time1,\n",
    "    model_bb_tb_time_uw, model_bb_tb_time_uw1,\n",
    "    model_bb_tb_time_rw, model_bb_tb_time_rw1,\n",
    "    model_bb_tb_time_tw, model_bb_tb_time_tw1,\n",
    "    ]\n",
    "events_oos = {\n",
    "              f\"triple_barrier_daily_vol{vol_lookback}_unweighted\": bb_events_tb_time_oos,\n",
    "              f\"triple_barrier_SMA{bb_period}_unweighted\": bb_events_tb_time_oos1,\n",
    "              f\"triple_barrier_daily_vol{vol_lookback}_uniqueness_weighted\": bb_events_tb_time_oos,\n",
    "              f\"triple_barrier_SMA{bb_period}_uniqueness_weighted\": bb_events_tb_time_oos1,\n",
    "              f\"triple_barrier_daily_vol{vol_lookback}_return_weighted\": bb_events_tb_time_oos,\n",
    "              f\"triple_barrier_SMA{bb_period}_return_weighted\": bb_events_tb_time_oos1,\n",
    "              f\"triple_barrier_daily_vol{vol_lookback}_time_weighted\": bb_events_tb_time_oos,\n",
    "              f\"triple_barrier_SMA{bb_period}_time_weighted\": bb_events_tb_time_oos1,\n",
    "              }"
   ]
  },
  {
   "cell_type": "code",
   "execution_count": null,
   "id": "e5b161e5",
   "metadata": {},
   "outputs": [],
   "source": [
    "bet_sizing_methods = [None, 'probability', 'budget', 'reserve', 'dynamic']\n",
    "bet_sizing = bet_sizing_methods[0]\n",
    "\n",
    "if bet_sizing == \"probability\":\n",
    "    bet_sizing_args = dict(step_size=0.0, average_active=False)\n",
    "else:\n",
    "    bet_sizing_args = dict()\n",
    "\n",
    "bb_model_results_time = {}\n",
    "time_metrics_oos = {\"primary_model\": {}, \"meta_model\": {}}\n",
    "bb_metrics_time = pd.DataFrame()"
   ]
  },
  {
   "cell_type": "code",
   "execution_count": null,
   "id": "587d7a8f",
   "metadata": {},
   "outputs": [
    {
     "ename": "ValueError",
     "evalue": "The feature names should match those that were passed during fit.\nFeature names seen at fit time, yet now missing:\n- ts_bin\n- ts_prob\n",
     "output_type": "error",
     "traceback": [
      "\u001b[1;31m---------------------------------------------------------------------------\u001b[0m",
      "\u001b[1;31mValueError\u001b[0m                                Traceback (most recent call last)",
      "Cell \u001b[1;32mIn[56], line 3\u001b[0m\n\u001b[0;32m      1\u001b[0m i, j \u001b[38;5;241m=\u001b[39m \u001b[38;5;241m2\u001b[39m, \u001b[38;5;241m6\u001b[39m\n\u001b[0;32m      2\u001b[0m \u001b[38;5;28;01mfor\u001b[39;00m model_name, model \u001b[38;5;129;01min\u001b[39;00m \u001b[38;5;28mzip\u001b[39m(labeling_methods[i : j], models[i : j]):\n\u001b[1;32m----> 3\u001b[0m     prob \u001b[38;5;241m=\u001b[39m \u001b[43mmodel\u001b[49m\u001b[38;5;241;43m.\u001b[39;49m\u001b[43mfit\u001b[49m\u001b[38;5;241;43m.\u001b[39;49m\u001b[43mpredict_proba\u001b[49m\u001b[43m(\u001b[49m\u001b[43mX_test\u001b[49m\u001b[43m)\u001b[49m[:, \u001b[38;5;241m1\u001b[39m]\n\u001b[0;32m      4\u001b[0m     prob \u001b[38;5;241m=\u001b[39m pd\u001b[38;5;241m.\u001b[39mSeries(prob, index\u001b[38;5;241m=\u001b[39mX_test\u001b[38;5;241m.\u001b[39mindex)\n\u001b[0;32m      5\u001b[0m     name \u001b[38;5;241m=\u001b[39m \u001b[38;5;124mf\u001b[39m\u001b[38;5;124m\"\u001b[39m\u001b[38;5;132;01m{\u001b[39;00mbb_strategy\u001b[38;5;241m.\u001b[39mget_strategy_name()\u001b[38;5;132;01m}\u001b[39;00m\u001b[38;5;124m (\u001b[39m\u001b[38;5;132;01m{\u001b[39;00mmodel_name\u001b[38;5;241m.\u001b[39mreplace(\u001b[38;5;124m'\u001b[39m\u001b[38;5;124m_\u001b[39m\u001b[38;5;124m'\u001b[39m,\u001b[38;5;250m \u001b[39m\u001b[38;5;124m'\u001b[39m\u001b[38;5;124m \u001b[39m\u001b[38;5;124m'\u001b[39m)\u001b[38;5;241m.\u001b[39mtitle()\u001b[38;5;132;01m}\u001b[39;00m\u001b[38;5;124m)\u001b[39m\u001b[38;5;124m\"\u001b[39m\n",
      "File \u001b[1;32mc:\\Users\\JoeN\\miniforge3\\envs\\mlfinlab_env\\lib\\site-packages\\sklearn\\ensemble\\_forest.py:946\u001b[0m, in \u001b[0;36mForestClassifier.predict_proba\u001b[1;34m(self, X)\u001b[0m\n\u001b[0;32m    944\u001b[0m check_is_fitted(\u001b[38;5;28mself\u001b[39m)\n\u001b[0;32m    945\u001b[0m \u001b[38;5;66;03m# Check data\u001b[39;00m\n\u001b[1;32m--> 946\u001b[0m X \u001b[38;5;241m=\u001b[39m \u001b[38;5;28;43mself\u001b[39;49m\u001b[38;5;241;43m.\u001b[39;49m\u001b[43m_validate_X_predict\u001b[49m\u001b[43m(\u001b[49m\u001b[43mX\u001b[49m\u001b[43m)\u001b[49m\n\u001b[0;32m    948\u001b[0m \u001b[38;5;66;03m# Assign chunk of trees to jobs\u001b[39;00m\n\u001b[0;32m    949\u001b[0m n_jobs, _, _ \u001b[38;5;241m=\u001b[39m _partition_estimators(\u001b[38;5;28mself\u001b[39m\u001b[38;5;241m.\u001b[39mn_estimators, \u001b[38;5;28mself\u001b[39m\u001b[38;5;241m.\u001b[39mn_jobs)\n",
      "File \u001b[1;32mc:\\Users\\JoeN\\miniforge3\\envs\\mlfinlab_env\\lib\\site-packages\\sklearn\\ensemble\\_forest.py:638\u001b[0m, in \u001b[0;36mBaseForest._validate_X_predict\u001b[1;34m(self, X)\u001b[0m\n\u001b[0;32m    635\u001b[0m \u001b[38;5;28;01melse\u001b[39;00m:\n\u001b[0;32m    636\u001b[0m     ensure_all_finite \u001b[38;5;241m=\u001b[39m \u001b[38;5;28;01mTrue\u001b[39;00m\n\u001b[1;32m--> 638\u001b[0m X \u001b[38;5;241m=\u001b[39m \u001b[43mvalidate_data\u001b[49m\u001b[43m(\u001b[49m\n\u001b[0;32m    639\u001b[0m \u001b[43m    \u001b[49m\u001b[38;5;28;43mself\u001b[39;49m\u001b[43m,\u001b[49m\n\u001b[0;32m    640\u001b[0m \u001b[43m    \u001b[49m\u001b[43mX\u001b[49m\u001b[43m,\u001b[49m\n\u001b[0;32m    641\u001b[0m \u001b[43m    \u001b[49m\u001b[43mdtype\u001b[49m\u001b[38;5;241;43m=\u001b[39;49m\u001b[43mDTYPE\u001b[49m\u001b[43m,\u001b[49m\n\u001b[0;32m    642\u001b[0m \u001b[43m    \u001b[49m\u001b[43maccept_sparse\u001b[49m\u001b[38;5;241;43m=\u001b[39;49m\u001b[38;5;124;43m\"\u001b[39;49m\u001b[38;5;124;43mcsr\u001b[39;49m\u001b[38;5;124;43m\"\u001b[39;49m\u001b[43m,\u001b[49m\n\u001b[0;32m    643\u001b[0m \u001b[43m    \u001b[49m\u001b[43mreset\u001b[49m\u001b[38;5;241;43m=\u001b[39;49m\u001b[38;5;28;43;01mFalse\u001b[39;49;00m\u001b[43m,\u001b[49m\n\u001b[0;32m    644\u001b[0m \u001b[43m    \u001b[49m\u001b[43mensure_all_finite\u001b[49m\u001b[38;5;241;43m=\u001b[39;49m\u001b[43mensure_all_finite\u001b[49m\u001b[43m,\u001b[49m\n\u001b[0;32m    645\u001b[0m \u001b[43m\u001b[49m\u001b[43m)\u001b[49m\n\u001b[0;32m    646\u001b[0m \u001b[38;5;28;01mif\u001b[39;00m issparse(X) \u001b[38;5;129;01mand\u001b[39;00m (X\u001b[38;5;241m.\u001b[39mindices\u001b[38;5;241m.\u001b[39mdtype \u001b[38;5;241m!=\u001b[39m np\u001b[38;5;241m.\u001b[39mintc \u001b[38;5;129;01mor\u001b[39;00m X\u001b[38;5;241m.\u001b[39mindptr\u001b[38;5;241m.\u001b[39mdtype \u001b[38;5;241m!=\u001b[39m np\u001b[38;5;241m.\u001b[39mintc):\n\u001b[0;32m    647\u001b[0m     \u001b[38;5;28;01mraise\u001b[39;00m \u001b[38;5;167;01mValueError\u001b[39;00m(\u001b[38;5;124m\"\u001b[39m\u001b[38;5;124mNo support for np.int64 index based sparse matrices\u001b[39m\u001b[38;5;124m\"\u001b[39m)\n",
      "File \u001b[1;32mc:\\Users\\JoeN\\miniforge3\\envs\\mlfinlab_env\\lib\\site-packages\\sklearn\\utils\\validation.py:2919\u001b[0m, in \u001b[0;36mvalidate_data\u001b[1;34m(_estimator, X, y, reset, validate_separately, skip_check_array, **check_params)\u001b[0m\n\u001b[0;32m   2835\u001b[0m \u001b[38;5;28;01mdef\u001b[39;00m\u001b[38;5;250m \u001b[39m\u001b[38;5;21mvalidate_data\u001b[39m(\n\u001b[0;32m   2836\u001b[0m     _estimator,\n\u001b[0;32m   2837\u001b[0m     \u001b[38;5;241m/\u001b[39m,\n\u001b[1;32m   (...)\u001b[0m\n\u001b[0;32m   2843\u001b[0m     \u001b[38;5;241m*\u001b[39m\u001b[38;5;241m*\u001b[39mcheck_params,\n\u001b[0;32m   2844\u001b[0m ):\n\u001b[0;32m   2845\u001b[0m \u001b[38;5;250m    \u001b[39m\u001b[38;5;124;03m\"\"\"Validate input data and set or check feature names and counts of the input.\u001b[39;00m\n\u001b[0;32m   2846\u001b[0m \n\u001b[0;32m   2847\u001b[0m \u001b[38;5;124;03m    This helper function should be used in an estimator that requires input\u001b[39;00m\n\u001b[1;32m   (...)\u001b[0m\n\u001b[0;32m   2917\u001b[0m \u001b[38;5;124;03m        validated.\u001b[39;00m\n\u001b[0;32m   2918\u001b[0m \u001b[38;5;124;03m    \"\"\"\u001b[39;00m\n\u001b[1;32m-> 2919\u001b[0m     \u001b[43m_check_feature_names\u001b[49m\u001b[43m(\u001b[49m\u001b[43m_estimator\u001b[49m\u001b[43m,\u001b[49m\u001b[43m \u001b[49m\u001b[43mX\u001b[49m\u001b[43m,\u001b[49m\u001b[43m \u001b[49m\u001b[43mreset\u001b[49m\u001b[38;5;241;43m=\u001b[39;49m\u001b[43mreset\u001b[49m\u001b[43m)\u001b[49m\n\u001b[0;32m   2920\u001b[0m     tags \u001b[38;5;241m=\u001b[39m get_tags(_estimator)\n\u001b[0;32m   2921\u001b[0m     \u001b[38;5;28;01mif\u001b[39;00m y \u001b[38;5;129;01mis\u001b[39;00m \u001b[38;5;28;01mNone\u001b[39;00m \u001b[38;5;129;01mand\u001b[39;00m tags\u001b[38;5;241m.\u001b[39mtarget_tags\u001b[38;5;241m.\u001b[39mrequired:\n",
      "File \u001b[1;32mc:\\Users\\JoeN\\miniforge3\\envs\\mlfinlab_env\\lib\\site-packages\\sklearn\\utils\\validation.py:2777\u001b[0m, in \u001b[0;36m_check_feature_names\u001b[1;34m(estimator, X, reset)\u001b[0m\n\u001b[0;32m   2774\u001b[0m \u001b[38;5;28;01mif\u001b[39;00m \u001b[38;5;129;01mnot\u001b[39;00m missing_names \u001b[38;5;129;01mand\u001b[39;00m \u001b[38;5;129;01mnot\u001b[39;00m unexpected_names:\n\u001b[0;32m   2775\u001b[0m     message \u001b[38;5;241m+\u001b[39m\u001b[38;5;241m=\u001b[39m \u001b[38;5;124m\"\u001b[39m\u001b[38;5;124mFeature names must be in the same order as they were in fit.\u001b[39m\u001b[38;5;130;01m\\n\u001b[39;00m\u001b[38;5;124m\"\u001b[39m\n\u001b[1;32m-> 2777\u001b[0m \u001b[38;5;28;01mraise\u001b[39;00m \u001b[38;5;167;01mValueError\u001b[39;00m(message)\n",
      "\u001b[1;31mValueError\u001b[0m: The feature names should match those that were passed during fit.\nFeature names seen at fit time, yet now missing:\n- ts_bin\n- ts_prob\n"
     ]
    }
   ],
   "source": [
    "i, j = 2, 6\n",
    "for model_name, model in zip(labeling_methods[i : j], models[i : j]):\n",
    "    prob = model.fit.predict_proba(X_test)[:, 1]\n",
    "    prob = pd.Series(prob, index=X_test.index)\n",
    "    name = f\"{bb_strategy.get_strategy_name()} ({model_name.replace('_', ' ').title()})\"\n",
    "    results = run_meta_labeling_analysis(\n",
    "        events=events_oos[model_name],\n",
    "        meta_probabilities=prob,\n",
    "        close=close,\n",
    "        confidence_threshold=0.5,\n",
    "        strategy_name=name,\n",
    "        bet_sizing=bet_sizing,\n",
    "        **bet_sizing_args\n",
    "        )\n",
    "    bb_model_results_time[model_name] = results\n",
    "    bb_metrics_time[model_name] = results[\"meta_metrics\"]\n",
    "\n",
    "bb_metrics_time"
   ]
  },
  {
   "cell_type": "code",
   "execution_count": null,
   "id": "b63b616d",
   "metadata": {},
   "outputs": [
    {
     "name": "stdout",
     "output_type": "stream",
     "text": [
      "\n",
      "====================================================================================================\n",
      "Meta-Labeling Performance Analysis: Bollinger_w20_std1.5\n",
      "====================================================================================================\n",
      "\n",
      "Signal Filtering Summary:\n",
      "  Total Primary Signals: 71,147\n",
      "  Filtered Signals: 53,966\n",
      "  Filter Rate: 24.15%\n",
      "  Confidence Threshold: 0.5\n",
      "\n",
      "CORE PERFORMANCE METRICS       Primary         Meta-Labeled    Improvement    \n",
      "===========================================================================\n",
      "Total Return                   1,731.29%       1,444.67%       -16.6%         \n",
      "Annualized Return              163.53%         148.99%         -8.9%          \n",
      "Sharpe Ratio                   6.8280          8.5534          +25.3%         \n",
      "Sortino Ratio                  8.9424          11.1258         +24.4%         \n",
      "Calmar Ratio                   3.4373          3.8842          +13.0%         \n",
      "\n",
      "RISK METRICS                   Primary         Meta-Labeled    Improvement    \n",
      "===========================================================================\n",
      "Max Drawdown                   47.57%          38.36%          +19.4%         \n",
      "Avg Drawdown                   2.75%           2.17%           +21.0%         \n",
      "Volatility (Ann.)              0.4576          0.4501          +1.7%          \n",
      "Downside Volatility            0.3494          0.3460          +1.0%          \n",
      "Ulcer Index                    0.0658          0.0558          +15.2%         \n",
      "VaR (95%)                      -0.29%          -0.28%          +3.0%          \n",
      "CVaR (95%)                     -0.41%          -0.41%          +1.3%          \n",
      "\n",
      "TRADING METRICS                Primary         Meta-Labeled    Improvement    \n",
      "===========================================================================\n",
      "Number of Trades               71,147          53,966          -24.1%         \n",
      "Trades per Year                23,710          17,984          -24.2%         \n",
      "Win Rate                       55.36%          55.45%          +0.2%          \n",
      "Avg Win                        0.1169%         0.1143%         -2.3%          \n",
      "Avg Loss                       -0.1359%        -0.1309%        +3.7%          \n",
      "Best Trade                     1.4700%         1.4700%         +0.0%          \n",
      "Worst Trade                    -1.4394%        -1.4394%        -0.0%          \n",
      "Profit Factor                  1.07            1.09            +1.8%          \n",
      "Expectancy                     0.0041%         0.0050%         +24.0%         \n",
      "Kelly Criterion                0.0348          0.0441          +26.9%         \n",
      "Max Consecutive Wins           73              50              -31.5%         \n",
      "Max Consecutive Losses         59              50              +15.3%         \n",
      "\n",
      "DISTRIBUTION METRICS           Primary         Meta-Labeled    Improvement    \n",
      "===========================================================================\n",
      "Skewness                       -0.4911         -0.4584         +6.7%          \n",
      "Kurtosis                       3.4626          4.1503          -19.9%         \n",
      "\n",
      "SUMMARY ASSESSMENT\n",
      "==================================================\n",
      "  ✅ Meta-labeling shows GOOD improvement\n",
      "  Sharpe Ratio Change: +25.3%\n",
      "  Total Return Change: -16.6%\n",
      "  Max Drawdown Change: +19.4%\n",
      "\n",
      "✅ Meta-labeling improves risk-adjusted returns\n",
      "\n",
      "📊 Signal filtering removed 24.1% of trades\n",
      "\n",
      "\n",
      "====================================================================================================\n",
      "Meta-Labeling Performance Analysis: Bollinger_w20_std1.5\n",
      "====================================================================================================\n",
      "\n",
      "Signal Filtering Summary:\n",
      "  Total Primary Signals: 71,147\n",
      "  Filtered Signals: 53,966\n",
      "  Filter Rate: 24.15%\n",
      "  Confidence Threshold: 0.5\n",
      "\n",
      "CORE PERFORMANCE METRICS       Primary         Meta-Labeled    Improvement    \n",
      "===========================================================================\n",
      "Total Return                   1,731.29%       1,444.67%       -16.6%         \n",
      "Annualized Return              163.53%         148.99%         -8.9%          \n",
      "Sharpe Ratio                   6.8280          8.5534          +25.3%         \n",
      "Sortino Ratio                  8.9424          11.1258         +24.4%         \n",
      "Calmar Ratio                   3.4373          3.8842          +13.0%         \n",
      "\n",
      "RISK METRICS                   Primary         Meta-Labeled    Improvement    \n",
      "===========================================================================\n",
      "Max Drawdown                   47.57%          38.36%          +19.4%         \n",
      "Avg Drawdown                   2.75%           2.17%           +21.0%         \n",
      "Volatility (Ann.)              0.4576          0.4501          +1.7%          \n",
      "Downside Volatility            0.3494          0.3460          +1.0%          \n",
      "Ulcer Index                    0.0658          0.0558          +15.2%         \n",
      "VaR (95%)                      -0.29%          -0.28%          +3.0%          \n",
      "CVaR (95%)                     -0.41%          -0.41%          +1.3%          \n",
      "\n",
      "TRADING METRICS                Primary         Meta-Labeled    Improvement    \n",
      "===========================================================================\n",
      "Number of Trades               71,147          53,966          -24.1%         \n",
      "Trades per Year                23,710          17,984          -24.2%         \n",
      "Win Rate                       55.36%          55.45%          +0.2%          \n",
      "Avg Win                        0.1169%         0.1143%         -2.3%          \n",
      "Avg Loss                       -0.1359%        -0.1309%        +3.7%          \n",
      "Best Trade                     1.4700%         1.4700%         +0.0%          \n",
      "Worst Trade                    -1.4394%        -1.4394%        -0.0%          \n",
      "Profit Factor                  1.07            1.09            +1.8%          \n",
      "Expectancy                     0.0041%         0.0050%         +24.0%         \n",
      "Kelly Criterion                0.0348          0.0441          +26.9%         \n",
      "Max Consecutive Wins           73              50              -31.5%         \n",
      "Max Consecutive Losses         59              50              +15.3%         \n",
      "\n",
      "DISTRIBUTION METRICS           Primary         Meta-Labeled    Improvement    \n",
      "===========================================================================\n",
      "Skewness                       -0.4911         -0.4584         +6.7%          \n",
      "Kurtosis                       3.4626          4.1503          -19.9%         \n",
      "\n",
      "SUMMARY ASSESSMENT\n",
      "==================================================\n",
      "  ✅ Meta-labeling shows GOOD improvement\n",
      "  Sharpe Ratio Change: +25.3%\n",
      "  Total Return Change: -16.6%\n",
      "  Max Drawdown Change: +19.4%\n",
      "\n",
      "✅ Meta-labeling improves risk-adjusted returns\n",
      "\n",
      "📊 Signal filtering removed 24.1% of trades\n",
      "\n"
     ]
    },
    {
     "data": {
      "application/vnd.microsoft.datawrangler.viewer.v0+json": {
       "columns": [
        {
         "name": "index",
         "rawType": "object",
         "type": "string"
        },
        {
         "name": "fixed_horizon_unweighted",
         "rawType": "object",
         "type": "unknown"
        },
        {
         "name": "fixed_horizon_return_weighted",
         "rawType": "object",
         "type": "unknown"
        },
        {
         "name": "triple_barrier_unweighted",
         "rawType": "object",
         "type": "unknown"
        },
        {
         "name": "triple_barrier_return_weighted",
         "rawType": "object",
         "type": "unknown"
        }
       ],
       "ref": "f7825e90-f3e9-4f9d-a7c9-7362b3633196",
       "rows": [
        [
         "total_return",
         "4.822451505604041",
         "4.822451505604041",
         "14.446689996751845",
         "14.446689996751845"
        ],
        [
         "annualized_return",
         "0.7987761442914527",
         "0.7987761442914527",
         "1.4899354297706275",
         "1.4899354297706275"
        ],
        [
         "volatility",
         "0.5597809769771153",
         "0.5597809769771153",
         "0.45007670478409423",
         "0.45007670478409423"
        ],
        [
         "downside_volatility",
         "0.4237021013181138",
         "0.4237021013181138",
         "0.3460150140142632",
         "0.3460150140142632"
        ],
        [
         "sharpe_ratio",
         "4.589303719917601",
         "4.589303719917601",
         "8.553423765485439",
         "8.553423765485439"
        ],
        [
         "sortino_ratio",
         "6.063233842806423",
         "6.063233842806423",
         "11.125808496948505",
         "11.125808496948505"
        ],
        [
         "var_95",
         "-0.0030225515365600586",
         "-0.0030225515365600586",
         "-0.0027722418308258057",
         "-0.0027722418308258057"
        ],
        [
         "cvar_95",
         "-0.00495551715916552",
         "-0.00495551715916552",
         "-0.004075027276251483",
         "-0.004075027276251483"
        ],
        [
         "skewness",
         "0.022100370137554545",
         "0.022100370137554545",
         "-0.4583964885900646",
         "-0.4583964885900646"
        ],
        [
         "kurtosis",
         "7.986032096886998",
         "7.986032096886998",
         "4.15029524568084",
         "4.15029524568084"
        ],
        [
         "pos_concentration",
         "4.7392777461580645e-05",
         "4.7392777461580645e-05",
         "2.4971713728172828e-05",
         "2.4971713728172828e-05"
        ],
        [
         "neg_concentration",
         "5.062707687656548e-05",
         "5.062707687656548e-05",
         "3.9448851883374144e-05",
         "3.9448851883374144e-05"
        ],
        [
         "time_concentration",
         "0.001603553442722343",
         "0.001603553442722343",
         "0.001603553442722343",
         "0.001603553442722343"
        ],
        [
         "max_drawdown",
         "0.48006151563547017",
         "0.48006151563547017",
         "0.3835875073520132",
         "0.3835875073520132"
        ],
        [
         "avg_drawdown",
         "0.03275250159878345",
         "0.03275250159878345",
         "0.021735258819903028",
         "0.021735258819903028"
        ],
        [
         "drawdown_duration",
         "6 days 09:46:56",
         "6 days 09:46:56",
         "3 days 08:10:23",
         "3 days 08:10:23"
        ],
        [
         "ulcer_index",
         "0.08495939657066548",
         "0.08495939657066548",
         "0.05578958649679194",
         "0.05578958649679194"
        ],
        [
         "calmar_ratio",
         "1.6639037254092146",
         "1.6639037254092146",
         "3.8842126013330605",
         "3.8842126013330605"
        ],
        [
         "avg_trade_duration",
         "0 days 01:01:55.200000",
         "0 days 01:01:55.200000",
         "0 days 01:16:19.200000",
         "0 days 01:16:19.200000"
        ],
        [
         "bet_frequency",
         "14476",
         "14476",
         "13152",
         "13152"
        ],
        [
         "bets_per_year",
         "4824",
         "4824",
         "4382",
         "4382"
        ],
        [
         "num_trades",
         "53966",
         "53966",
         "53966",
         "53966"
        ],
        [
         "trades_per_year",
         "17984",
         "17984",
         "17984",
         "17984"
        ],
        [
         "win_rate",
         "0.5107104473186821",
         "0.5107104473186821",
         "0.5544787458770337",
         "0.5544787458770337"
        ],
        [
         "avg_win",
         "0.0013575401297847788",
         "0.0013575401297847788",
         "0.0011426196220871423",
         "0.0011426196220871423"
        ],
        [
         "avg_loss",
         "-0.001350317169745881",
         "-0.001350317169745881",
         "-0.0013089367610683322",
         "-0.0013089367610683322"
        ],
        [
         "best_trade",
         "0.020187854766845703",
         "0.020187854766845703",
         "0.01470029354095459",
         "0.01470029354095459"
        ],
        [
         "worst_trade",
         "-0.020418763160705566",
         "-0.020418763160705566",
         "-0.014393925666809082",
         "-0.014393925666809082"
        ],
        [
         "profit_factor",
         "1.0527917514183283",
         "1.0527917514183283",
         "1.0895966521528866",
         "1.0895966521528866"
        ],
        [
         "expectancy",
         "3.2613842972580866e-05",
         "3.2613842972580866e-05",
         "5.039914771055203e-05",
         "5.039914771055203e-05"
        ],
        [
         "kelly_criterion",
         "0.02402422017369854",
         "0.02402422017369854",
         "0.04410842132965609",
         "0.04410842132965609"
        ],
        [
         "consecutive_wins",
         "39",
         "39",
         "50",
         "50"
        ],
        [
         "consecutive_losses",
         "51",
         "51",
         "50",
         "50"
        ],
        [
         "ratio_of_longs",
         "0.527647037023311",
         "0.527647037023311",
         "0.527647037023311",
         "0.527647037023311"
        ],
        [
         "signal_filter_rate",
         "0.24148593756588477",
         "0.24148593756588477",
         "0.24148593756588477",
         "0.24148593756588477"
        ],
        [
         "confidence_threshold",
         "0.5",
         "0.5",
         "0.5",
         "0.5"
        ],
        [
         "information_ratio",
         null,
         null,
         null,
         null
        ]
       ],
       "shape": {
        "columns": 4,
        "rows": 37
       }
      },
      "text/html": [
       "<div>\n",
       "<style scoped>\n",
       "    .dataframe tbody tr th:only-of-type {\n",
       "        vertical-align: middle;\n",
       "    }\n",
       "\n",
       "    .dataframe tbody tr th {\n",
       "        vertical-align: top;\n",
       "    }\n",
       "\n",
       "    .dataframe thead th {\n",
       "        text-align: right;\n",
       "    }\n",
       "</style>\n",
       "<table border=\"1\" class=\"dataframe\">\n",
       "  <thead>\n",
       "    <tr style=\"text-align: right;\">\n",
       "      <th></th>\n",
       "      <th>fixed_horizon_unweighted</th>\n",
       "      <th>fixed_horizon_return_weighted</th>\n",
       "      <th>triple_barrier_unweighted</th>\n",
       "      <th>triple_barrier_return_weighted</th>\n",
       "    </tr>\n",
       "  </thead>\n",
       "  <tbody>\n",
       "    <tr>\n",
       "      <th>total_return</th>\n",
       "      <td>4.822452</td>\n",
       "      <td>4.822452</td>\n",
       "      <td>14.44669</td>\n",
       "      <td>14.44669</td>\n",
       "    </tr>\n",
       "    <tr>\n",
       "      <th>annualized_return</th>\n",
       "      <td>0.798776</td>\n",
       "      <td>0.798776</td>\n",
       "      <td>1.489935</td>\n",
       "      <td>1.489935</td>\n",
       "    </tr>\n",
       "    <tr>\n",
       "      <th>volatility</th>\n",
       "      <td>0.559781</td>\n",
       "      <td>0.559781</td>\n",
       "      <td>0.450077</td>\n",
       "      <td>0.450077</td>\n",
       "    </tr>\n",
       "    <tr>\n",
       "      <th>downside_volatility</th>\n",
       "      <td>0.423702</td>\n",
       "      <td>0.423702</td>\n",
       "      <td>0.346015</td>\n",
       "      <td>0.346015</td>\n",
       "    </tr>\n",
       "    <tr>\n",
       "      <th>sharpe_ratio</th>\n",
       "      <td>4.589304</td>\n",
       "      <td>4.589304</td>\n",
       "      <td>8.553424</td>\n",
       "      <td>8.553424</td>\n",
       "    </tr>\n",
       "    <tr>\n",
       "      <th>sortino_ratio</th>\n",
       "      <td>6.063234</td>\n",
       "      <td>6.063234</td>\n",
       "      <td>11.125808</td>\n",
       "      <td>11.125808</td>\n",
       "    </tr>\n",
       "    <tr>\n",
       "      <th>var_95</th>\n",
       "      <td>-0.003023</td>\n",
       "      <td>-0.003023</td>\n",
       "      <td>-0.002772</td>\n",
       "      <td>-0.002772</td>\n",
       "    </tr>\n",
       "    <tr>\n",
       "      <th>cvar_95</th>\n",
       "      <td>-0.004956</td>\n",
       "      <td>-0.004956</td>\n",
       "      <td>-0.004075</td>\n",
       "      <td>-0.004075</td>\n",
       "    </tr>\n",
       "    <tr>\n",
       "      <th>skewness</th>\n",
       "      <td>0.0221</td>\n",
       "      <td>0.0221</td>\n",
       "      <td>-0.458396</td>\n",
       "      <td>-0.458396</td>\n",
       "    </tr>\n",
       "    <tr>\n",
       "      <th>kurtosis</th>\n",
       "      <td>7.986032</td>\n",
       "      <td>7.986032</td>\n",
       "      <td>4.150295</td>\n",
       "      <td>4.150295</td>\n",
       "    </tr>\n",
       "    <tr>\n",
       "      <th>pos_concentration</th>\n",
       "      <td>0.000047</td>\n",
       "      <td>0.000047</td>\n",
       "      <td>0.000025</td>\n",
       "      <td>0.000025</td>\n",
       "    </tr>\n",
       "    <tr>\n",
       "      <th>neg_concentration</th>\n",
       "      <td>0.000051</td>\n",
       "      <td>0.000051</td>\n",
       "      <td>0.000039</td>\n",
       "      <td>0.000039</td>\n",
       "    </tr>\n",
       "    <tr>\n",
       "      <th>time_concentration</th>\n",
       "      <td>0.001604</td>\n",
       "      <td>0.001604</td>\n",
       "      <td>0.001604</td>\n",
       "      <td>0.001604</td>\n",
       "    </tr>\n",
       "    <tr>\n",
       "      <th>max_drawdown</th>\n",
       "      <td>0.480062</td>\n",
       "      <td>0.480062</td>\n",
       "      <td>0.383588</td>\n",
       "      <td>0.383588</td>\n",
       "    </tr>\n",
       "    <tr>\n",
       "      <th>avg_drawdown</th>\n",
       "      <td>0.032753</td>\n",
       "      <td>0.032753</td>\n",
       "      <td>0.021735</td>\n",
       "      <td>0.021735</td>\n",
       "    </tr>\n",
       "    <tr>\n",
       "      <th>drawdown_duration</th>\n",
       "      <td>6 days 09:46:56</td>\n",
       "      <td>6 days 09:46:56</td>\n",
       "      <td>3 days 08:10:23</td>\n",
       "      <td>3 days 08:10:23</td>\n",
       "    </tr>\n",
       "    <tr>\n",
       "      <th>ulcer_index</th>\n",
       "      <td>0.084959</td>\n",
       "      <td>0.084959</td>\n",
       "      <td>0.05579</td>\n",
       "      <td>0.05579</td>\n",
       "    </tr>\n",
       "    <tr>\n",
       "      <th>calmar_ratio</th>\n",
       "      <td>1.663904</td>\n",
       "      <td>1.663904</td>\n",
       "      <td>3.884213</td>\n",
       "      <td>3.884213</td>\n",
       "    </tr>\n",
       "    <tr>\n",
       "      <th>avg_trade_duration</th>\n",
       "      <td>0 days 01:01:55.200000</td>\n",
       "      <td>0 days 01:01:55.200000</td>\n",
       "      <td>0 days 01:16:19.200000</td>\n",
       "      <td>0 days 01:16:19.200000</td>\n",
       "    </tr>\n",
       "    <tr>\n",
       "      <th>bet_frequency</th>\n",
       "      <td>14476</td>\n",
       "      <td>14476</td>\n",
       "      <td>13152</td>\n",
       "      <td>13152</td>\n",
       "    </tr>\n",
       "    <tr>\n",
       "      <th>bets_per_year</th>\n",
       "      <td>4824</td>\n",
       "      <td>4824</td>\n",
       "      <td>4382</td>\n",
       "      <td>4382</td>\n",
       "    </tr>\n",
       "    <tr>\n",
       "      <th>num_trades</th>\n",
       "      <td>53966</td>\n",
       "      <td>53966</td>\n",
       "      <td>53966</td>\n",
       "      <td>53966</td>\n",
       "    </tr>\n",
       "    <tr>\n",
       "      <th>trades_per_year</th>\n",
       "      <td>17984</td>\n",
       "      <td>17984</td>\n",
       "      <td>17984</td>\n",
       "      <td>17984</td>\n",
       "    </tr>\n",
       "    <tr>\n",
       "      <th>win_rate</th>\n",
       "      <td>0.51071</td>\n",
       "      <td>0.51071</td>\n",
       "      <td>0.554479</td>\n",
       "      <td>0.554479</td>\n",
       "    </tr>\n",
       "    <tr>\n",
       "      <th>avg_win</th>\n",
       "      <td>0.001358</td>\n",
       "      <td>0.001358</td>\n",
       "      <td>0.001143</td>\n",
       "      <td>0.001143</td>\n",
       "    </tr>\n",
       "    <tr>\n",
       "      <th>avg_loss</th>\n",
       "      <td>-0.00135</td>\n",
       "      <td>-0.00135</td>\n",
       "      <td>-0.001309</td>\n",
       "      <td>-0.001309</td>\n",
       "    </tr>\n",
       "    <tr>\n",
       "      <th>best_trade</th>\n",
       "      <td>0.020188</td>\n",
       "      <td>0.020188</td>\n",
       "      <td>0.0147</td>\n",
       "      <td>0.0147</td>\n",
       "    </tr>\n",
       "    <tr>\n",
       "      <th>worst_trade</th>\n",
       "      <td>-0.020419</td>\n",
       "      <td>-0.020419</td>\n",
       "      <td>-0.014394</td>\n",
       "      <td>-0.014394</td>\n",
       "    </tr>\n",
       "    <tr>\n",
       "      <th>profit_factor</th>\n",
       "      <td>1.052792</td>\n",
       "      <td>1.052792</td>\n",
       "      <td>1.089597</td>\n",
       "      <td>1.089597</td>\n",
       "    </tr>\n",
       "    <tr>\n",
       "      <th>expectancy</th>\n",
       "      <td>0.000033</td>\n",
       "      <td>0.000033</td>\n",
       "      <td>0.00005</td>\n",
       "      <td>0.00005</td>\n",
       "    </tr>\n",
       "    <tr>\n",
       "      <th>kelly_criterion</th>\n",
       "      <td>0.024024</td>\n",
       "      <td>0.024024</td>\n",
       "      <td>0.044108</td>\n",
       "      <td>0.044108</td>\n",
       "    </tr>\n",
       "    <tr>\n",
       "      <th>consecutive_wins</th>\n",
       "      <td>39</td>\n",
       "      <td>39</td>\n",
       "      <td>50</td>\n",
       "      <td>50</td>\n",
       "    </tr>\n",
       "    <tr>\n",
       "      <th>consecutive_losses</th>\n",
       "      <td>51</td>\n",
       "      <td>51</td>\n",
       "      <td>50</td>\n",
       "      <td>50</td>\n",
       "    </tr>\n",
       "    <tr>\n",
       "      <th>ratio_of_longs</th>\n",
       "      <td>0.527647</td>\n",
       "      <td>0.527647</td>\n",
       "      <td>0.527647</td>\n",
       "      <td>0.527647</td>\n",
       "    </tr>\n",
       "    <tr>\n",
       "      <th>signal_filter_rate</th>\n",
       "      <td>0.241486</td>\n",
       "      <td>0.241486</td>\n",
       "      <td>0.241486</td>\n",
       "      <td>0.241486</td>\n",
       "    </tr>\n",
       "    <tr>\n",
       "      <th>confidence_threshold</th>\n",
       "      <td>0.5</td>\n",
       "      <td>0.5</td>\n",
       "      <td>0.5</td>\n",
       "      <td>0.5</td>\n",
       "    </tr>\n",
       "    <tr>\n",
       "      <th>information_ratio</th>\n",
       "      <td>NaN</td>\n",
       "      <td>NaN</td>\n",
       "      <td>NaN</td>\n",
       "      <td>NaN</td>\n",
       "    </tr>\n",
       "  </tbody>\n",
       "</table>\n",
       "</div>"
      ],
      "text/plain": [
       "                     fixed_horizon_unweighted fixed_horizon_return_weighted  \\\n",
       "total_return                         4.822452                      4.822452   \n",
       "annualized_return                    0.798776                      0.798776   \n",
       "volatility                           0.559781                      0.559781   \n",
       "downside_volatility                  0.423702                      0.423702   \n",
       "sharpe_ratio                         4.589304                      4.589304   \n",
       "sortino_ratio                        6.063234                      6.063234   \n",
       "var_95                              -0.003023                     -0.003023   \n",
       "cvar_95                             -0.004956                     -0.004956   \n",
       "skewness                               0.0221                        0.0221   \n",
       "kurtosis                             7.986032                      7.986032   \n",
       "pos_concentration                    0.000047                      0.000047   \n",
       "neg_concentration                    0.000051                      0.000051   \n",
       "time_concentration                   0.001604                      0.001604   \n",
       "max_drawdown                         0.480062                      0.480062   \n",
       "avg_drawdown                         0.032753                      0.032753   \n",
       "drawdown_duration             6 days 09:46:56               6 days 09:46:56   \n",
       "ulcer_index                          0.084959                      0.084959   \n",
       "calmar_ratio                         1.663904                      1.663904   \n",
       "avg_trade_duration     0 days 01:01:55.200000        0 days 01:01:55.200000   \n",
       "bet_frequency                           14476                         14476   \n",
       "bets_per_year                            4824                          4824   \n",
       "num_trades                              53966                         53966   \n",
       "trades_per_year                         17984                         17984   \n",
       "win_rate                              0.51071                       0.51071   \n",
       "avg_win                              0.001358                      0.001358   \n",
       "avg_loss                             -0.00135                      -0.00135   \n",
       "best_trade                           0.020188                      0.020188   \n",
       "worst_trade                         -0.020419                     -0.020419   \n",
       "profit_factor                        1.052792                      1.052792   \n",
       "expectancy                           0.000033                      0.000033   \n",
       "kelly_criterion                      0.024024                      0.024024   \n",
       "consecutive_wins                           39                            39   \n",
       "consecutive_losses                         51                            51   \n",
       "ratio_of_longs                       0.527647                      0.527647   \n",
       "signal_filter_rate                   0.241486                      0.241486   \n",
       "confidence_threshold                      0.5                           0.5   \n",
       "information_ratio                         NaN                           NaN   \n",
       "\n",
       "                     triple_barrier_unweighted triple_barrier_return_weighted  \n",
       "total_return                          14.44669                       14.44669  \n",
       "annualized_return                     1.489935                       1.489935  \n",
       "volatility                            0.450077                       0.450077  \n",
       "downside_volatility                   0.346015                       0.346015  \n",
       "sharpe_ratio                          8.553424                       8.553424  \n",
       "sortino_ratio                        11.125808                      11.125808  \n",
       "var_95                               -0.002772                      -0.002772  \n",
       "cvar_95                              -0.004075                      -0.004075  \n",
       "skewness                             -0.458396                      -0.458396  \n",
       "kurtosis                              4.150295                       4.150295  \n",
       "pos_concentration                     0.000025                       0.000025  \n",
       "neg_concentration                     0.000039                       0.000039  \n",
       "time_concentration                    0.001604                       0.001604  \n",
       "max_drawdown                          0.383588                       0.383588  \n",
       "avg_drawdown                          0.021735                       0.021735  \n",
       "drawdown_duration              3 days 08:10:23                3 days 08:10:23  \n",
       "ulcer_index                            0.05579                        0.05579  \n",
       "calmar_ratio                          3.884213                       3.884213  \n",
       "avg_trade_duration      0 days 01:16:19.200000         0 days 01:16:19.200000  \n",
       "bet_frequency                            13152                          13152  \n",
       "bets_per_year                             4382                           4382  \n",
       "num_trades                               53966                          53966  \n",
       "trades_per_year                          17984                          17984  \n",
       "win_rate                              0.554479                       0.554479  \n",
       "avg_win                               0.001143                       0.001143  \n",
       "avg_loss                             -0.001309                      -0.001309  \n",
       "best_trade                              0.0147                         0.0147  \n",
       "worst_trade                          -0.014394                      -0.014394  \n",
       "profit_factor                         1.089597                       1.089597  \n",
       "expectancy                             0.00005                        0.00005  \n",
       "kelly_criterion                       0.044108                       0.044108  \n",
       "consecutive_wins                            50                             50  \n",
       "consecutive_losses                          50                             50  \n",
       "ratio_of_longs                        0.527647                       0.527647  \n",
       "signal_filter_rate                    0.241486                       0.241486  \n",
       "confidence_threshold                       0.5                            0.5  \n",
       "information_ratio                          NaN                            NaN  "
      ]
     },
     "execution_count": 45,
     "metadata": {},
     "output_type": "execute_result"
    }
   ],
   "source": [
    "for model_name, model in zip(\n",
    "    [\"unweighted\", \"uniqueness_weighted\", \"return_weighted\", \"time_weighted\"], \n",
    "    [model_bb_tb_time, model_bb_tb_time_uw, model_bb_tb_time_rw, model_bb_tb_time_tw]\n",
    "    ):\n",
    "    prob = model.fit.predict_proba(X_test)[:, 1]\n",
    "    prob = pd.Series(prob, index=X_test.index)\n",
    "\n",
    "    results = run_meta_labeling_analysis(\n",
    "        events=bb_events_tb_time_oos,\n",
    "        meta_probabilities=prob,\n",
    "        close=close,\n",
    "        confidence_threshold=0.5,\n",
    "        strategy_name=bb_strategy.get_strategy_name(),\n",
    "        bet_sizing=bet_sizing,\n",
    "        **bet_sizing_args\n",
    "        )\n",
    "    bb_model_results_time[f\"triple_barrier_{model_name}\"] = results\n",
    "    bb_metrics_time[f\"triple_barrier_{model_name}\"] = results[\"meta_metrics\"]\n",
    "\n",
    "bb_metrics_time"
   ]
  },
  {
   "cell_type": "code",
   "execution_count": null,
   "id": "f7608170",
   "metadata": {},
   "outputs": [
    {
     "name": "stdout",
     "output_type": "stream",
     "text": [
      "\n",
      "====================================================================================================\n",
      "Meta-Labeling Performance Analysis: Bollinger_w20_std1.5\n",
      "====================================================================================================\n",
      "\n",
      "Signal Filtering Summary:\n",
      "  Total Primary Signals: 71,147\n",
      "  Filtered Signals: 31,030\n",
      "  Filter Rate: 56.39%\n",
      "  Confidence Threshold: 0.5\n",
      "\n",
      "CORE PERFORMANCE METRICS       Primary         Meta-Labeled    Improvement    \n",
      "===========================================================================\n",
      "Total Return                   1,272.20%       476.33%         -62.6%         \n",
      "Annualized Return              139.36%         79.27%          -43.1%         \n",
      "Sharpe Ratio                   5.3004          6.4379          +21.5%         \n",
      "Sortino Ratio                  8.3059          10.6801         +28.6%         \n",
      "Calmar Ratio                   3.5156          2.3522          -33.1%         \n",
      "\n",
      "RISK METRICS                   Primary         Meta-Labeled    Improvement    \n",
      "===========================================================================\n",
      "Max Drawdown                   39.64%          33.70%          +15.0%         \n",
      "Avg Drawdown                   3.52%           3.49%           +0.8%          \n",
      "Volatility (Ann.)              0.5408          0.6842          -26.5%         \n",
      "Downside Volatility            0.3451          0.4124          -19.5%         \n",
      "Ulcer Index                    0.0720          0.0727          -0.9%          \n",
      "VaR (95%)                      -0.30%          -0.38%          -28.2%         \n",
      "CVaR (95%)                     -0.42%          -0.51%          -20.0%         \n",
      "\n",
      "TRADING METRICS                Primary         Meta-Labeled    Improvement    \n",
      "===========================================================================\n",
      "Number of Trades               71,147          31,030          -56.4%         \n",
      "Trades per Year                23,710          10,340          -56.4%         \n",
      "Win Rate                       50.00%          50.21%          +0.4%          \n",
      "Avg Win                        0.1415%         0.1881%         +33.0%         \n",
      "Avg Loss                       -0.1341%        -0.1781%        -32.9%         \n",
      "Best Trade                     2.0188%         2.0188%         +0.0%          \n",
      "Worst Trade                    -1.4394%        -1.4394%        -0.0%          \n",
      "Profit Factor                  1.06            1.07            +0.9%          \n",
      "Expectancy                     0.0037%         0.0058%         +56.9%         \n",
      "Kelly Criterion                0.0261          0.0307          +18.0%         \n",
      "Max Consecutive Wins           69              54              -21.7%         \n",
      "Max Consecutive Losses         59              49              +16.9%         \n",
      "\n",
      "DISTRIBUTION METRICS           Primary         Meta-Labeled    Improvement    \n",
      "===========================================================================\n",
      "Skewness                       0.7253          0.6027          -16.9%         \n",
      "Kurtosis                       5.7419          3.4699          +39.6%         \n",
      "\n",
      "SUMMARY ASSESSMENT\n",
      "==================================================\n",
      "  ❌ Meta-labeling DOES NOT improve performance\n",
      "  Sharpe Ratio Change: +21.5%\n",
      "  Total Return Change: -62.6%\n",
      "  Max Drawdown Change: +15.0%\n",
      "\n",
      "✅ Meta-labeling improves risk-adjusted returns\n",
      "\n",
      "📊 Signal filtering removed 56.4% of trades\n",
      "   High filtering rate suggests meta-model is selective\n",
      "\n"
     ]
    }
   ],
   "source": [
    "model = model_bb_trend_time\n",
    "# opt_threshold = get_optimal_threshold(model)\n",
    "\n",
    "events = get_events(\n",
    "    close, t_events, \n",
    "    pt_sl=[0, bb_sl_barrier], \n",
    "    target=target, \n",
    "    vertical_barrier_times=vertical_barrier_times, \n",
    "    side_prediction=bb_side,\n",
    "    )\n",
    "\n",
    "prob = model.fit.predict_proba(X_test)[:, 1]\n",
    "prob = pd.Series(prob, index=X_test.index)\n",
    "\n",
    "results = run_meta_labeling_analysis(\n",
    "    events=events,\n",
    "    meta_probabilities=prob,\n",
    "    close=close,\n",
    "    # confidence_threshold=opt_threshold[\"threshold\"],\n",
    "    confidence_threshold=0.5,\n",
    "    strategy_name=bb_strategy.get_strategy_name(),\n",
    "    bet_sizing=bet_sizing,\n",
    "    **bet_sizing_args\n",
    "    )\n",
    "bb_model_results_time[\"trend_scanning\"] = results"
   ]
  },
  {
   "cell_type": "code",
   "execution_count": null,
   "id": "d321eda3",
   "metadata": {},
   "outputs": [
    {
     "data": {
      "application/vnd.microsoft.datawrangler.viewer.v0+json": {
       "columns": [
        {
         "name": "time",
         "rawType": "datetime64[ns]",
         "type": "datetime"
        },
        {
         "name": "t1",
         "rawType": "datetime64[ns]",
         "type": "datetime"
        },
        {
         "name": "side",
         "rawType": "int8",
         "type": "integer"
        },
        {
         "name": "active_long",
         "rawType": "int32",
         "type": "integer"
        },
        {
         "name": "active_short",
         "rawType": "int32",
         "type": "integer"
        },
        {
         "name": "bet_size",
         "rawType": "float64",
         "type": "float"
        }
       ],
       "ref": "9668c6cc-da7a-4c5b-80f8-56bac12c2345",
       "rows": [
        [
         "2021-12-31 02:40:00",
         "2021-12-31 06:50:00",
         "1",
         "1",
         "0",
         "0.02631578947368421"
        ],
        [
         "2021-12-31 02:50:00",
         "2021-12-31 07:00:00",
         "1",
         "2",
         "0",
         "0.05263157894736842"
        ],
        [
         "2021-12-31 02:55:00",
         "2021-12-31 07:05:00",
         "1",
         "3",
         "0",
         "0.07894736842105263"
        ],
        [
         "2021-12-31 03:00:00",
         "2021-12-31 07:10:00",
         "1",
         "4",
         "0",
         "0.10526315789473684"
        ],
        [
         "2021-12-31 03:05:00",
         "2021-12-31 07:15:00",
         "1",
         "5",
         "0",
         "0.13157894736842105"
        ],
        [
         "2021-12-31 03:10:00",
         "2021-12-31 07:20:00",
         "1",
         "6",
         "0",
         "0.15789473684210525"
        ],
        [
         "2021-12-31 03:15:00",
         "2021-12-31 07:25:00",
         "1",
         "7",
         "0",
         "0.18421052631578946"
        ],
        [
         "2021-12-31 03:20:00",
         "2021-12-31 07:30:00",
         "1",
         "8",
         "0",
         "0.21052631578947367"
        ],
        [
         "2021-12-31 03:25:00",
         "2021-12-31 07:35:00",
         "1",
         "9",
         "0",
         "0.23684210526315788"
        ],
        [
         "2021-12-31 03:35:00",
         "2021-12-31 07:45:00",
         "1",
         "10",
         "0",
         "0.2631578947368421"
        ],
        [
         "2021-12-31 03:40:00",
         "2021-12-31 07:50:00",
         "1",
         "11",
         "0",
         "0.2894736842105263"
        ],
        [
         "2021-12-31 04:35:00",
         "2021-12-31 08:45:00",
         "1",
         "12",
         "0",
         "0.3157894736842105"
        ],
        [
         "2021-12-31 04:40:00",
         "2021-12-31 08:50:00",
         "1",
         "13",
         "0",
         "0.34210526315789475"
        ],
        [
         "2021-12-31 04:45:00",
         "2021-12-31 08:55:00",
         "1",
         "14",
         "0",
         "0.3684210526315789"
        ],
        [
         "2021-12-31 04:50:00",
         "2021-12-31 09:00:00",
         "1",
         "15",
         "0",
         "0.39473684210526316"
        ],
        [
         "2021-12-31 04:55:00",
         "2021-12-31 06:45:00",
         "1",
         "16",
         "0",
         "0.42105263157894735"
        ],
        [
         "2021-12-31 06:05:00",
         "2021-12-31 08:35:00",
         "-1",
         "16",
         "1",
         "0.39931350114416475"
        ],
        [
         "2021-12-31 06:10:00",
         "2021-12-31 07:00:00",
         "-1",
         "16",
         "2",
         "0.37757437070938216"
        ],
        [
         "2021-12-31 06:15:00",
         "2021-12-31 07:00:00",
         "-1",
         "16",
         "3",
         "0.3558352402745995"
        ],
        [
         "2021-12-31 06:20:00",
         "2021-12-31 07:00:00",
         "-1",
         "16",
         "4",
         "0.3340961098398169"
        ],
        [
         "2021-12-31 06:25:00",
         "2021-12-31 07:00:00",
         "-1",
         "16",
         "5",
         "0.3123569794050343"
        ],
        [
         "2021-12-31 06:30:00",
         "2021-12-31 07:00:00",
         "-1",
         "16",
         "6",
         "0.29061784897025167"
        ],
        [
         "2021-12-31 06:35:00",
         "2021-12-31 07:00:00",
         "-1",
         "16",
         "7",
         "0.2688787185354691"
        ],
        [
         "2021-12-31 06:40:00",
         "2021-12-31 07:00:00",
         "-1",
         "16",
         "8",
         "0.24713958810068648"
        ],
        [
         "2021-12-31 06:45:00",
         "2021-12-31 07:00:00",
         "-1",
         "15",
         "9",
         "0.19908466819221968"
        ],
        [
         "2021-12-31 07:00:00",
         "2021-12-31 10:15:00",
         "1",
         "14",
         "1",
         "0.34668192219679633"
        ],
        [
         "2021-12-31 07:05:00",
         "2021-12-31 10:10:00",
         "1",
         "14",
         "1",
         "0.34668192219679633"
        ],
        [
         "2021-12-31 07:10:00",
         "2021-12-31 10:15:00",
         "1",
         "14",
         "1",
         "0.34668192219679633"
        ],
        [
         "2021-12-31 08:35:00",
         "2021-12-31 10:10:00",
         "1",
         "8",
         "0",
         "0.21052631578947367"
        ],
        [
         "2021-12-31 08:45:00",
         "2021-12-31 10:00:00",
         "1",
         "8",
         "0",
         "0.21052631578947367"
        ],
        [
         "2021-12-31 08:55:00",
         "2021-12-31 10:00:00",
         "1",
         "7",
         "0",
         "0.18421052631578946"
        ],
        [
         "2021-12-31 09:00:00",
         "2021-12-31 09:35:00",
         "1",
         "7",
         "0",
         "0.18421052631578946"
        ],
        [
         "2021-12-31 10:00:00",
         "2021-12-31 14:10:00",
         "-1",
         "4",
         "1",
         "0.08352402745995423"
        ],
        [
         "2021-12-31 10:05:00",
         "2021-12-31 14:15:00",
         "-1",
         "4",
         "2",
         "0.06178489702517162"
        ],
        [
         "2021-12-31 10:10:00",
         "2021-12-31 14:20:00",
         "-1",
         "2",
         "3",
         "-0.012585812356979406"
        ],
        [
         "2021-12-31 10:15:00",
         "2021-12-31 13:10:00",
         "-1",
         "0",
         "4",
         "-0.08695652173913043"
        ],
        [
         "2021-12-31 10:20:00",
         "2021-12-31 13:05:00",
         "-1",
         "0",
         "5",
         "-0.10869565217391304"
        ],
        [
         "2021-12-31 10:25:00",
         "2021-12-31 13:05:00",
         "-1",
         "0",
         "6",
         "-0.13043478260869565"
        ],
        [
         "2021-12-31 10:30:00",
         "2021-12-31 13:05:00",
         "-1",
         "0",
         "7",
         "-0.15217391304347827"
        ],
        [
         "2021-12-31 10:35:00",
         "2021-12-31 13:10:00",
         "-1",
         "0",
         "8",
         "-0.17391304347826086"
        ],
        [
         "2021-12-31 10:45:00",
         "2021-12-31 13:10:00",
         "-1",
         "0",
         "9",
         "-0.1956521739130435"
        ],
        [
         "2021-12-31 11:50:00",
         "2021-12-31 14:55:00",
         "1",
         "1",
         "9",
         "-0.16933638443935928"
        ],
        [
         "2021-12-31 11:55:00",
         "2021-12-31 14:55:00",
         "1",
         "2",
         "9",
         "-0.14302059496567507"
        ],
        [
         "2021-12-31 12:05:00",
         "2021-12-31 14:55:00",
         "1",
         "3",
         "9",
         "-0.11670480549199086"
        ],
        [
         "2021-12-31 12:50:00",
         "2021-12-31 14:50:00",
         "1",
         "4",
         "9",
         "-0.09038901601830665"
        ],
        [
         "2021-12-31 13:00:00",
         "2021-12-31 14:50:00",
         "1",
         "5",
         "9",
         "-0.06407322654462244"
        ],
        [
         "2021-12-31 13:05:00",
         "2021-12-31 13:50:00",
         "1",
         "6",
         "6",
         "0.027459954233409606"
        ],
        [
         "2021-12-31 13:10:00",
         "2021-12-31 13:35:00",
         "1",
         "7",
         "3",
         "0.11899313501144164"
        ],
        [
         "2021-12-31 14:50:00",
         "2021-12-31 17:00:00",
         "-1",
         "3",
         "1",
         "0.05720823798627002"
        ],
        [
         "2021-12-31 14:55:00",
         "2021-12-31 18:25:00",
         "-1",
         "0",
         "2",
         "-0.043478260869565216"
        ]
       ],
       "shape": {
        "columns": 5,
        "rows": 71159
       }
      },
      "text/html": [
       "<div>\n",
       "<style scoped>\n",
       "    .dataframe tbody tr th:only-of-type {\n",
       "        vertical-align: middle;\n",
       "    }\n",
       "\n",
       "    .dataframe tbody tr th {\n",
       "        vertical-align: top;\n",
       "    }\n",
       "\n",
       "    .dataframe thead th {\n",
       "        text-align: right;\n",
       "    }\n",
       "</style>\n",
       "<table border=\"1\" class=\"dataframe\">\n",
       "  <thead>\n",
       "    <tr style=\"text-align: right;\">\n",
       "      <th></th>\n",
       "      <th>t1</th>\n",
       "      <th>side</th>\n",
       "      <th>active_long</th>\n",
       "      <th>active_short</th>\n",
       "      <th>bet_size</th>\n",
       "    </tr>\n",
       "    <tr>\n",
       "      <th>time</th>\n",
       "      <th></th>\n",
       "      <th></th>\n",
       "      <th></th>\n",
       "      <th></th>\n",
       "      <th></th>\n",
       "    </tr>\n",
       "  </thead>\n",
       "  <tbody>\n",
       "    <tr>\n",
       "      <th>2021-12-31 02:40:00</th>\n",
       "      <td>2021-12-31 06:50:00</td>\n",
       "      <td>1</td>\n",
       "      <td>1</td>\n",
       "      <td>0</td>\n",
       "      <td>0.026316</td>\n",
       "    </tr>\n",
       "    <tr>\n",
       "      <th>2021-12-31 02:50:00</th>\n",
       "      <td>2021-12-31 07:00:00</td>\n",
       "      <td>1</td>\n",
       "      <td>2</td>\n",
       "      <td>0</td>\n",
       "      <td>0.052632</td>\n",
       "    </tr>\n",
       "    <tr>\n",
       "      <th>2021-12-31 02:55:00</th>\n",
       "      <td>2021-12-31 07:05:00</td>\n",
       "      <td>1</td>\n",
       "      <td>3</td>\n",
       "      <td>0</td>\n",
       "      <td>0.078947</td>\n",
       "    </tr>\n",
       "    <tr>\n",
       "      <th>2021-12-31 03:00:00</th>\n",
       "      <td>2021-12-31 07:10:00</td>\n",
       "      <td>1</td>\n",
       "      <td>4</td>\n",
       "      <td>0</td>\n",
       "      <td>0.105263</td>\n",
       "    </tr>\n",
       "    <tr>\n",
       "      <th>2021-12-31 03:05:00</th>\n",
       "      <td>2021-12-31 07:15:00</td>\n",
       "      <td>1</td>\n",
       "      <td>5</td>\n",
       "      <td>0</td>\n",
       "      <td>0.131579</td>\n",
       "    </tr>\n",
       "    <tr>\n",
       "      <th>...</th>\n",
       "      <td>...</td>\n",
       "      <td>...</td>\n",
       "      <td>...</td>\n",
       "      <td>...</td>\n",
       "      <td>...</td>\n",
       "    </tr>\n",
       "    <tr>\n",
       "      <th>2024-12-30 21:00:00</th>\n",
       "      <td>NaT</td>\n",
       "      <td>-1</td>\n",
       "      <td>1</td>\n",
       "      <td>1</td>\n",
       "      <td>0.004577</td>\n",
       "    </tr>\n",
       "    <tr>\n",
       "      <th>2024-12-30 22:00:00</th>\n",
       "      <td>NaT</td>\n",
       "      <td>1</td>\n",
       "      <td>0</td>\n",
       "      <td>1</td>\n",
       "      <td>-0.021739</td>\n",
       "    </tr>\n",
       "    <tr>\n",
       "      <th>2024-12-30 23:45:00</th>\n",
       "      <td>NaT</td>\n",
       "      <td>-1</td>\n",
       "      <td>0</td>\n",
       "      <td>0</td>\n",
       "      <td>0.000000</td>\n",
       "    </tr>\n",
       "    <tr>\n",
       "      <th>2024-12-30 23:55:00</th>\n",
       "      <td>NaT</td>\n",
       "      <td>-1</td>\n",
       "      <td>0</td>\n",
       "      <td>0</td>\n",
       "      <td>0.000000</td>\n",
       "    </tr>\n",
       "    <tr>\n",
       "      <th>2024-12-31 00:00:00</th>\n",
       "      <td>NaT</td>\n",
       "      <td>-1</td>\n",
       "      <td>0</td>\n",
       "      <td>0</td>\n",
       "      <td>0.000000</td>\n",
       "    </tr>\n",
       "  </tbody>\n",
       "</table>\n",
       "<p>71159 rows × 5 columns</p>\n",
       "</div>"
      ],
      "text/plain": [
       "                                     t1  side  active_long  active_short  \\\n",
       "time                                                                       \n",
       "2021-12-31 02:40:00 2021-12-31 06:50:00     1            1             0   \n",
       "2021-12-31 02:50:00 2021-12-31 07:00:00     1            2             0   \n",
       "2021-12-31 02:55:00 2021-12-31 07:05:00     1            3             0   \n",
       "2021-12-31 03:00:00 2021-12-31 07:10:00     1            4             0   \n",
       "2021-12-31 03:05:00 2021-12-31 07:15:00     1            5             0   \n",
       "...                                 ...   ...          ...           ...   \n",
       "2024-12-30 21:00:00                 NaT    -1            1             1   \n",
       "2024-12-30 22:00:00                 NaT     1            0             1   \n",
       "2024-12-30 23:45:00                 NaT    -1            0             0   \n",
       "2024-12-30 23:55:00                 NaT    -1            0             0   \n",
       "2024-12-31 00:00:00                 NaT    -1            0             0   \n",
       "\n",
       "                     bet_size  \n",
       "time                           \n",
       "2021-12-31 02:40:00  0.026316  \n",
       "2021-12-31 02:50:00  0.052632  \n",
       "2021-12-31 02:55:00  0.078947  \n",
       "2021-12-31 03:00:00  0.105263  \n",
       "2021-12-31 03:05:00  0.131579  \n",
       "...                       ...  \n",
       "2024-12-30 21:00:00  0.004577  \n",
       "2024-12-30 22:00:00 -0.021739  \n",
       "2024-12-30 23:45:00  0.000000  \n",
       "2024-12-30 23:55:00  0.000000  \n",
       "2024-12-31 00:00:00  0.000000  \n",
       "\n",
       "[71159 rows x 5 columns]"
      ]
     },
     "execution_count": 61,
     "metadata": {},
     "output_type": "execute_result"
    }
   ],
   "source": [
    "from afml.bet_sizing.bet_sizing import bet_size_budget\n",
    "\n",
    "bet_size_budget(events.t1, events.side)"
   ]
  },
  {
   "cell_type": "code",
   "execution_count": null,
   "id": "38abe1bf",
   "metadata": {},
   "outputs": [
    {
     "data": {
      "application/vnd.microsoft.datawrangler.viewer.v0+json": {
       "columns": [
        {
         "name": "index",
         "rawType": "object",
         "type": "string"
        },
        {
         "name": "fixed_horizon",
         "rawType": "object",
         "type": "unknown"
        },
        {
         "name": "triple_barrier",
         "rawType": "object",
         "type": "unknown"
        }
       ],
       "ref": "e7c5bfa4-d828-43c8-9262-3f2ec660dcfa",
       "rows": [
        [
         "total_return",
         "-1.0",
         "17.3128604888916"
        ],
        [
         "annualized_return",
         "-1.0",
         "1.6375884323500673"
        ],
        [
         "volatility",
         "7.366912650474836",
         "0.4576241887223172"
        ],
        [
         "downside_volatility",
         "4.559798034401701",
         "0.3494210220142798"
        ],
        [
         "sharpe_ratio",
         "-24.175336665100417",
         "6.8278113820908395"
        ],
        [
         "sortino_ratio",
         "-39.05821972024796",
         "8.942139847414882"
        ],
        [
         "var_95",
         "-0.08440695740037112",
         "-0.0028574466705322266"
        ],
        [
         "cvar_95",
         "-0.10476448873504177",
         "-0.004128928"
        ],
        [
         "skewness",
         "0.10236212571483984",
         "-0.49108987613846766"
        ],
        [
         "kurtosis",
         "0.17294191704882111",
         "3.462620947432489"
        ],
        [
         "pos_concentration",
         "2.125882872985723e-05",
         "1.7556198544539583e-05"
        ],
        [
         "neg_concentration",
         "1.3298779072143185e-05",
         "2.8250254792813793e-05"
        ],
        [
         "time_concentration",
         "0.0010769638993820083",
         "0.0010769638993820083"
        ],
        [
         "max_drawdown",
         "1.0",
         "0.47574157500832714"
        ],
        [
         "avg_drawdown",
         "0.2059955430634331",
         "0.027501269095502594"
        ],
        [
         "drawdown_duration",
         "136 days 23:03:45",
         "3 days 15:04:31"
        ],
        [
         "ulcer_index",
         "0.3785813417908404",
         "0.06577791544238693"
        ],
        [
         "calmar_ratio",
         "-1.0",
         "3.442180625734473"
        ],
        [
         "avg_trade_duration",
         "0 days 03:51:50.400000",
         "0 days 02:42:43.200000"
        ],
        [
         "bet_frequency",
         "9503",
         "9503"
        ],
        [
         "bets_per_year",
         "3167",
         "3167"
        ],
        [
         "num_trades",
         "71147",
         "71147"
        ],
        [
         "trades_per_year",
         "23714",
         "23712"
        ],
        [
         "win_rate",
         "0.4300813808031259",
         "0.5536424585716896"
        ],
        [
         "avg_win",
         "0.03597073563968351",
         "0.0011690634"
        ],
        [
         "avg_loss",
         "-0.0403208132484831",
         "-0.0013589995"
        ],
        [
         "best_trade",
         "0.22613918952028356",
         "0.01470029354095459"
        ],
        [
         "worst_trade",
         "-0.20179775207895034",
         "-0.014393925666809082"
        ],
        [
         "profit_factor",
         "0.6732212757417803",
         "1.0698994"
        ],
        [
         "expectancy",
         "-0.00750923855905122",
         "4.064344077890983e-05"
        ],
        [
         "kelly_criterion",
         "-0.20875966047152245",
         "0.03476581094954989"
        ],
        [
         "consecutive_wins",
         "37",
         "73"
        ],
        [
         "consecutive_losses",
         "42",
         "59"
        ],
        [
         "ratio_of_longs",
         "0.49510169086539135",
         "0.49510169086539135"
        ]
       ],
       "shape": {
        "columns": 2,
        "rows": 34
       }
      },
      "text/html": [
       "<div>\n",
       "<style scoped>\n",
       "    .dataframe tbody tr th:only-of-type {\n",
       "        vertical-align: middle;\n",
       "    }\n",
       "\n",
       "    .dataframe tbody tr th {\n",
       "        vertical-align: top;\n",
       "    }\n",
       "\n",
       "    .dataframe thead th {\n",
       "        text-align: right;\n",
       "    }\n",
       "</style>\n",
       "<table border=\"1\" class=\"dataframe\">\n",
       "  <thead>\n",
       "    <tr style=\"text-align: right;\">\n",
       "      <th></th>\n",
       "      <th>fixed_horizon</th>\n",
       "      <th>triple_barrier</th>\n",
       "    </tr>\n",
       "  </thead>\n",
       "  <tbody>\n",
       "    <tr>\n",
       "      <th>total_return</th>\n",
       "      <td>-1.0</td>\n",
       "      <td>17.31286</td>\n",
       "    </tr>\n",
       "    <tr>\n",
       "      <th>annualized_return</th>\n",
       "      <td>-1.0</td>\n",
       "      <td>1.637588</td>\n",
       "    </tr>\n",
       "    <tr>\n",
       "      <th>volatility</th>\n",
       "      <td>7.366913</td>\n",
       "      <td>0.457624</td>\n",
       "    </tr>\n",
       "    <tr>\n",
       "      <th>downside_volatility</th>\n",
       "      <td>4.559798</td>\n",
       "      <td>0.349421</td>\n",
       "    </tr>\n",
       "    <tr>\n",
       "      <th>sharpe_ratio</th>\n",
       "      <td>-24.175337</td>\n",
       "      <td>6.827811</td>\n",
       "    </tr>\n",
       "    <tr>\n",
       "      <th>sortino_ratio</th>\n",
       "      <td>-39.05822</td>\n",
       "      <td>8.94214</td>\n",
       "    </tr>\n",
       "    <tr>\n",
       "      <th>var_95</th>\n",
       "      <td>-0.084407</td>\n",
       "      <td>-0.002857</td>\n",
       "    </tr>\n",
       "    <tr>\n",
       "      <th>cvar_95</th>\n",
       "      <td>-0.104764</td>\n",
       "      <td>-0.004129</td>\n",
       "    </tr>\n",
       "    <tr>\n",
       "      <th>skewness</th>\n",
       "      <td>0.102362</td>\n",
       "      <td>-0.49109</td>\n",
       "    </tr>\n",
       "    <tr>\n",
       "      <th>kurtosis</th>\n",
       "      <td>0.172942</td>\n",
       "      <td>3.462621</td>\n",
       "    </tr>\n",
       "    <tr>\n",
       "      <th>pos_concentration</th>\n",
       "      <td>0.000021</td>\n",
       "      <td>0.000018</td>\n",
       "    </tr>\n",
       "    <tr>\n",
       "      <th>neg_concentration</th>\n",
       "      <td>0.000013</td>\n",
       "      <td>0.000028</td>\n",
       "    </tr>\n",
       "    <tr>\n",
       "      <th>time_concentration</th>\n",
       "      <td>0.001077</td>\n",
       "      <td>0.001077</td>\n",
       "    </tr>\n",
       "    <tr>\n",
       "      <th>max_drawdown</th>\n",
       "      <td>1.0</td>\n",
       "      <td>0.475742</td>\n",
       "    </tr>\n",
       "    <tr>\n",
       "      <th>avg_drawdown</th>\n",
       "      <td>0.205996</td>\n",
       "      <td>0.027501</td>\n",
       "    </tr>\n",
       "    <tr>\n",
       "      <th>drawdown_duration</th>\n",
       "      <td>136 days 23:03:45</td>\n",
       "      <td>3 days 15:04:31</td>\n",
       "    </tr>\n",
       "    <tr>\n",
       "      <th>ulcer_index</th>\n",
       "      <td>0.378581</td>\n",
       "      <td>0.065778</td>\n",
       "    </tr>\n",
       "    <tr>\n",
       "      <th>calmar_ratio</th>\n",
       "      <td>-1.0</td>\n",
       "      <td>3.442181</td>\n",
       "    </tr>\n",
       "    <tr>\n",
       "      <th>avg_trade_duration</th>\n",
       "      <td>0 days 03:51:50.400000</td>\n",
       "      <td>0 days 02:42:43.200000</td>\n",
       "    </tr>\n",
       "    <tr>\n",
       "      <th>bet_frequency</th>\n",
       "      <td>9503</td>\n",
       "      <td>9503</td>\n",
       "    </tr>\n",
       "    <tr>\n",
       "      <th>bets_per_year</th>\n",
       "      <td>3167</td>\n",
       "      <td>3167</td>\n",
       "    </tr>\n",
       "    <tr>\n",
       "      <th>num_trades</th>\n",
       "      <td>71147</td>\n",
       "      <td>71147</td>\n",
       "    </tr>\n",
       "    <tr>\n",
       "      <th>trades_per_year</th>\n",
       "      <td>23714</td>\n",
       "      <td>23712</td>\n",
       "    </tr>\n",
       "    <tr>\n",
       "      <th>win_rate</th>\n",
       "      <td>0.430081</td>\n",
       "      <td>0.553642</td>\n",
       "    </tr>\n",
       "    <tr>\n",
       "      <th>avg_win</th>\n",
       "      <td>0.035971</td>\n",
       "      <td>0.001169</td>\n",
       "    </tr>\n",
       "    <tr>\n",
       "      <th>avg_loss</th>\n",
       "      <td>-0.040321</td>\n",
       "      <td>-0.001359</td>\n",
       "    </tr>\n",
       "    <tr>\n",
       "      <th>best_trade</th>\n",
       "      <td>0.226139</td>\n",
       "      <td>0.0147</td>\n",
       "    </tr>\n",
       "    <tr>\n",
       "      <th>worst_trade</th>\n",
       "      <td>-0.201798</td>\n",
       "      <td>-0.014394</td>\n",
       "    </tr>\n",
       "    <tr>\n",
       "      <th>profit_factor</th>\n",
       "      <td>0.673221</td>\n",
       "      <td>1.069899</td>\n",
       "    </tr>\n",
       "    <tr>\n",
       "      <th>expectancy</th>\n",
       "      <td>-0.007509</td>\n",
       "      <td>0.000041</td>\n",
       "    </tr>\n",
       "    <tr>\n",
       "      <th>kelly_criterion</th>\n",
       "      <td>-0.20876</td>\n",
       "      <td>0.034766</td>\n",
       "    </tr>\n",
       "    <tr>\n",
       "      <th>consecutive_wins</th>\n",
       "      <td>37</td>\n",
       "      <td>73</td>\n",
       "    </tr>\n",
       "    <tr>\n",
       "      <th>consecutive_losses</th>\n",
       "      <td>42</td>\n",
       "      <td>59</td>\n",
       "    </tr>\n",
       "    <tr>\n",
       "      <th>ratio_of_longs</th>\n",
       "      <td>0.495102</td>\n",
       "      <td>0.495102</td>\n",
       "    </tr>\n",
       "  </tbody>\n",
       "</table>\n",
       "</div>"
      ],
      "text/plain": [
       "                              fixed_horizon          triple_barrier\n",
       "total_return                           -1.0                17.31286\n",
       "annualized_return                      -1.0                1.637588\n",
       "volatility                         7.366913                0.457624\n",
       "downside_volatility                4.559798                0.349421\n",
       "sharpe_ratio                     -24.175337                6.827811\n",
       "sortino_ratio                     -39.05822                 8.94214\n",
       "var_95                            -0.084407               -0.002857\n",
       "cvar_95                           -0.104764               -0.004129\n",
       "skewness                           0.102362                -0.49109\n",
       "kurtosis                           0.172942                3.462621\n",
       "pos_concentration                  0.000021                0.000018\n",
       "neg_concentration                  0.000013                0.000028\n",
       "time_concentration                 0.001077                0.001077\n",
       "max_drawdown                            1.0                0.475742\n",
       "avg_drawdown                       0.205996                0.027501\n",
       "drawdown_duration         136 days 23:03:45         3 days 15:04:31\n",
       "ulcer_index                        0.378581                0.065778\n",
       "calmar_ratio                           -1.0                3.442181\n",
       "avg_trade_duration   0 days 03:51:50.400000  0 days 02:42:43.200000\n",
       "bet_frequency                          9503                    9503\n",
       "bets_per_year                          3167                    3167\n",
       "num_trades                            71147                   71147\n",
       "trades_per_year                       23714                   23712\n",
       "win_rate                           0.430081                0.553642\n",
       "avg_win                            0.035971                0.001169\n",
       "avg_loss                          -0.040321               -0.001359\n",
       "best_trade                         0.226139                  0.0147\n",
       "worst_trade                       -0.201798               -0.014394\n",
       "profit_factor                      0.673221                1.069899\n",
       "expectancy                        -0.007509                0.000041\n",
       "kelly_criterion                    -0.20876                0.034766\n",
       "consecutive_wins                         37                      73\n",
       "consecutive_losses                       42                      59\n",
       "ratio_of_longs                     0.495102                0.495102"
      ]
     },
     "execution_count": 54,
     "metadata": {},
     "output_type": "execute_result"
    }
   ],
   "source": [
    "time_metrics_oos = {}\n",
    "for col, res in bb_model_results_time.items():\n",
    "    time_metrics_oos.setdefault(\"primary_model\", []).append(pd.Series(res[\"primary_metrics\"], name=col))\n",
    "    time_metrics_oos.setdefault(\"meta_model\", []).append(pd.Series(res[\"meta_metrics\"], name=col))\n",
    "\n",
    "primary_metrics_df = pd.concat(time_metrics_oos[\"primary_model\"], axis=1)\n",
    "meta_metrics_df = pd.concat(time_metrics_oos[\"meta_model\"], axis=1)\n",
    "# pprint(time_metrics_oos)\n",
    "primary_metrics_df"
   ]
  },
  {
   "cell_type": "code",
   "execution_count": null,
   "id": "559d5ead",
   "metadata": {},
   "outputs": [
    {
     "data": {
      "application/vnd.microsoft.datawrangler.viewer.v0+json": {
       "columns": [
        {
         "name": "index",
         "rawType": "object",
         "type": "string"
        },
        {
         "name": "fixed_horizon",
         "rawType": "object",
         "type": "unknown"
        },
        {
         "name": "triple_barrier",
         "rawType": "object",
         "type": "unknown"
        }
       ],
       "ref": "34c5829e-93a7-4c2a-9b3f-01f5c8da8336",
       "rows": [
        [
         "total_return",
         "-1.0",
         "6.835007809049808"
        ],
        [
         "annualized_return",
         "-1.0",
         "0.9870887434343021"
        ],
        [
         "volatility",
         "7.366912650474836",
         "0.44470670990443695"
        ],
        [
         "downside_volatility",
         "4.559798034401701",
         "0.3394165907794404"
        ],
        [
         "sharpe_ratio",
         "-24.175336665100417",
         "8.599692849051754"
        ],
        [
         "sortino_ratio",
         "-39.05821972024796",
         "11.267395928726572"
        ],
        [
         "var_95",
         "-0.08440695740037112",
         "-0.0026779353618621824"
        ],
        [
         "cvar_95",
         "-0.10476448873504177",
         "-0.0039932230719156294"
        ],
        [
         "skewness",
         "0.10236212571483984",
         "-0.4420310171412535"
        ],
        [
         "kurtosis",
         "0.17294191704882111",
         "4.331773747179808"
        ],
        [
         "pos_concentration",
         "2.125882872985723e-05",
         "3.219635433330682e-05"
        ],
        [
         "neg_concentration",
         "1.3298779072143185e-05",
         "4.936430103208561e-05"
        ],
        [
         "time_concentration",
         "0.0010769638993820083",
         "0.004177110837270253"
        ],
        [
         "max_drawdown",
         "1.0",
         "0.3390367110329813"
        ],
        [
         "avg_drawdown",
         "0.2059955430634331",
         "0.019044458961787983"
        ],
        [
         "drawdown_duration",
         "136 days 23:03:45",
         "4 days 01:22:19"
        ],
        [
         "ulcer_index",
         "0.3785813417908404",
         "0.04534366710775789"
        ],
        [
         "calmar_ratio",
         "-1.0",
         "2.9114509175918672"
        ],
        [
         "avg_trade_duration",
         "0 days 03:51:50.400000",
         "0 days 04:03:21.600000"
        ],
        [
         "bet_frequency",
         "9503",
         "6497"
        ],
        [
         "bets_per_year",
         "3167",
         "2165"
        ],
        [
         "num_trades",
         "71147",
         "40832"
        ],
        [
         "trades_per_year",
         "23714",
         "13609"
        ],
        [
         "win_rate",
         "0.4300813808031259",
         "0.5644347570532915"
        ],
        [
         "avg_win",
         "0.03597073563968351",
         "0.0011185172887232659"
        ],
        [
         "avg_loss",
         "-0.0403208132484831",
         "-0.0013346765342685724"
        ],
        [
         "best_trade",
         "0.22613918952028356",
         "0.01470029354095459"
        ],
        [
         "worst_trade",
         "-0.20179775207895034",
         "-0.013973593711853027"
        ],
        [
         "profit_factor",
         "0.6732212757417803",
         "1.0893008646558042"
        ],
        [
         "expectancy",
         "-0.00750923855905122",
         "4.999132521646117e-05"
        ],
        [
         "kelly_criterion",
         "-0.20875966047152245",
         "0.044694280294517386"
        ],
        [
         "consecutive_wins",
         "37",
         "51"
        ],
        [
         "consecutive_losses",
         "42",
         "47"
        ],
        [
         "ratio_of_longs",
         "0.49510169086539135",
         "0.5508914576802508"
        ],
        [
         "signal_filter_rate",
         "0.0",
         "0.42608964538209626"
        ],
        [
         "confidence_threshold",
         "0.5",
         "0.5"
        ],
        [
         "information_ratio",
         null,
         null
        ]
       ],
       "shape": {
        "columns": 2,
        "rows": 37
       }
      },
      "text/html": [
       "<div>\n",
       "<style scoped>\n",
       "    .dataframe tbody tr th:only-of-type {\n",
       "        vertical-align: middle;\n",
       "    }\n",
       "\n",
       "    .dataframe tbody tr th {\n",
       "        vertical-align: top;\n",
       "    }\n",
       "\n",
       "    .dataframe thead th {\n",
       "        text-align: right;\n",
       "    }\n",
       "</style>\n",
       "<table border=\"1\" class=\"dataframe\">\n",
       "  <thead>\n",
       "    <tr style=\"text-align: right;\">\n",
       "      <th></th>\n",
       "      <th>fixed_horizon</th>\n",
       "      <th>triple_barrier</th>\n",
       "    </tr>\n",
       "  </thead>\n",
       "  <tbody>\n",
       "    <tr>\n",
       "      <th>total_return</th>\n",
       "      <td>-1.0</td>\n",
       "      <td>6.835008</td>\n",
       "    </tr>\n",
       "    <tr>\n",
       "      <th>annualized_return</th>\n",
       "      <td>-1.0</td>\n",
       "      <td>0.987089</td>\n",
       "    </tr>\n",
       "    <tr>\n",
       "      <th>volatility</th>\n",
       "      <td>7.366913</td>\n",
       "      <td>0.444707</td>\n",
       "    </tr>\n",
       "    <tr>\n",
       "      <th>downside_volatility</th>\n",
       "      <td>4.559798</td>\n",
       "      <td>0.339417</td>\n",
       "    </tr>\n",
       "    <tr>\n",
       "      <th>sharpe_ratio</th>\n",
       "      <td>-24.175337</td>\n",
       "      <td>8.599693</td>\n",
       "    </tr>\n",
       "    <tr>\n",
       "      <th>sortino_ratio</th>\n",
       "      <td>-39.05822</td>\n",
       "      <td>11.267396</td>\n",
       "    </tr>\n",
       "    <tr>\n",
       "      <th>var_95</th>\n",
       "      <td>-0.084407</td>\n",
       "      <td>-0.002678</td>\n",
       "    </tr>\n",
       "    <tr>\n",
       "      <th>cvar_95</th>\n",
       "      <td>-0.104764</td>\n",
       "      <td>-0.003993</td>\n",
       "    </tr>\n",
       "    <tr>\n",
       "      <th>skewness</th>\n",
       "      <td>0.102362</td>\n",
       "      <td>-0.442031</td>\n",
       "    </tr>\n",
       "    <tr>\n",
       "      <th>kurtosis</th>\n",
       "      <td>0.172942</td>\n",
       "      <td>4.331774</td>\n",
       "    </tr>\n",
       "    <tr>\n",
       "      <th>pos_concentration</th>\n",
       "      <td>0.000021</td>\n",
       "      <td>0.000032</td>\n",
       "    </tr>\n",
       "    <tr>\n",
       "      <th>neg_concentration</th>\n",
       "      <td>0.000013</td>\n",
       "      <td>0.000049</td>\n",
       "    </tr>\n",
       "    <tr>\n",
       "      <th>time_concentration</th>\n",
       "      <td>0.001077</td>\n",
       "      <td>0.004177</td>\n",
       "    </tr>\n",
       "    <tr>\n",
       "      <th>max_drawdown</th>\n",
       "      <td>1.0</td>\n",
       "      <td>0.339037</td>\n",
       "    </tr>\n",
       "    <tr>\n",
       "      <th>avg_drawdown</th>\n",
       "      <td>0.205996</td>\n",
       "      <td>0.019044</td>\n",
       "    </tr>\n",
       "    <tr>\n",
       "      <th>drawdown_duration</th>\n",
       "      <td>136 days 23:03:45</td>\n",
       "      <td>4 days 01:22:19</td>\n",
       "    </tr>\n",
       "    <tr>\n",
       "      <th>ulcer_index</th>\n",
       "      <td>0.378581</td>\n",
       "      <td>0.045344</td>\n",
       "    </tr>\n",
       "    <tr>\n",
       "      <th>calmar_ratio</th>\n",
       "      <td>-1.0</td>\n",
       "      <td>2.911451</td>\n",
       "    </tr>\n",
       "    <tr>\n",
       "      <th>avg_trade_duration</th>\n",
       "      <td>0 days 03:51:50.400000</td>\n",
       "      <td>0 days 04:03:21.600000</td>\n",
       "    </tr>\n",
       "    <tr>\n",
       "      <th>bet_frequency</th>\n",
       "      <td>9503</td>\n",
       "      <td>6497</td>\n",
       "    </tr>\n",
       "    <tr>\n",
       "      <th>bets_per_year</th>\n",
       "      <td>3167</td>\n",
       "      <td>2165</td>\n",
       "    </tr>\n",
       "    <tr>\n",
       "      <th>num_trades</th>\n",
       "      <td>71147</td>\n",
       "      <td>40832</td>\n",
       "    </tr>\n",
       "    <tr>\n",
       "      <th>trades_per_year</th>\n",
       "      <td>23714</td>\n",
       "      <td>13609</td>\n",
       "    </tr>\n",
       "    <tr>\n",
       "      <th>win_rate</th>\n",
       "      <td>0.430081</td>\n",
       "      <td>0.564435</td>\n",
       "    </tr>\n",
       "    <tr>\n",
       "      <th>avg_win</th>\n",
       "      <td>0.035971</td>\n",
       "      <td>0.001119</td>\n",
       "    </tr>\n",
       "    <tr>\n",
       "      <th>avg_loss</th>\n",
       "      <td>-0.040321</td>\n",
       "      <td>-0.001335</td>\n",
       "    </tr>\n",
       "    <tr>\n",
       "      <th>best_trade</th>\n",
       "      <td>0.226139</td>\n",
       "      <td>0.0147</td>\n",
       "    </tr>\n",
       "    <tr>\n",
       "      <th>worst_trade</th>\n",
       "      <td>-0.201798</td>\n",
       "      <td>-0.013974</td>\n",
       "    </tr>\n",
       "    <tr>\n",
       "      <th>profit_factor</th>\n",
       "      <td>0.673221</td>\n",
       "      <td>1.089301</td>\n",
       "    </tr>\n",
       "    <tr>\n",
       "      <th>expectancy</th>\n",
       "      <td>-0.007509</td>\n",
       "      <td>0.00005</td>\n",
       "    </tr>\n",
       "    <tr>\n",
       "      <th>kelly_criterion</th>\n",
       "      <td>-0.20876</td>\n",
       "      <td>0.044694</td>\n",
       "    </tr>\n",
       "    <tr>\n",
       "      <th>consecutive_wins</th>\n",
       "      <td>37</td>\n",
       "      <td>51</td>\n",
       "    </tr>\n",
       "    <tr>\n",
       "      <th>consecutive_losses</th>\n",
       "      <td>42</td>\n",
       "      <td>47</td>\n",
       "    </tr>\n",
       "    <tr>\n",
       "      <th>ratio_of_longs</th>\n",
       "      <td>0.495102</td>\n",
       "      <td>0.550891</td>\n",
       "    </tr>\n",
       "    <tr>\n",
       "      <th>signal_filter_rate</th>\n",
       "      <td>0.0</td>\n",
       "      <td>0.42609</td>\n",
       "    </tr>\n",
       "    <tr>\n",
       "      <th>confidence_threshold</th>\n",
       "      <td>0.5</td>\n",
       "      <td>0.5</td>\n",
       "    </tr>\n",
       "    <tr>\n",
       "      <th>information_ratio</th>\n",
       "      <td>NaN</td>\n",
       "      <td>NaN</td>\n",
       "    </tr>\n",
       "  </tbody>\n",
       "</table>\n",
       "</div>"
      ],
      "text/plain": [
       "                               fixed_horizon          triple_barrier\n",
       "total_return                            -1.0                6.835008\n",
       "annualized_return                       -1.0                0.987089\n",
       "volatility                          7.366913                0.444707\n",
       "downside_volatility                 4.559798                0.339417\n",
       "sharpe_ratio                      -24.175337                8.599693\n",
       "sortino_ratio                      -39.05822               11.267396\n",
       "var_95                             -0.084407               -0.002678\n",
       "cvar_95                            -0.104764               -0.003993\n",
       "skewness                            0.102362               -0.442031\n",
       "kurtosis                            0.172942                4.331774\n",
       "pos_concentration                   0.000021                0.000032\n",
       "neg_concentration                   0.000013                0.000049\n",
       "time_concentration                  0.001077                0.004177\n",
       "max_drawdown                             1.0                0.339037\n",
       "avg_drawdown                        0.205996                0.019044\n",
       "drawdown_duration          136 days 23:03:45         4 days 01:22:19\n",
       "ulcer_index                         0.378581                0.045344\n",
       "calmar_ratio                            -1.0                2.911451\n",
       "avg_trade_duration    0 days 03:51:50.400000  0 days 04:03:21.600000\n",
       "bet_frequency                           9503                    6497\n",
       "bets_per_year                           3167                    2165\n",
       "num_trades                             71147                   40832\n",
       "trades_per_year                        23714                   13609\n",
       "win_rate                            0.430081                0.564435\n",
       "avg_win                             0.035971                0.001119\n",
       "avg_loss                           -0.040321               -0.001335\n",
       "best_trade                          0.226139                  0.0147\n",
       "worst_trade                        -0.201798               -0.013974\n",
       "profit_factor                       0.673221                1.089301\n",
       "expectancy                         -0.007509                 0.00005\n",
       "kelly_criterion                     -0.20876                0.044694\n",
       "consecutive_wins                          37                      51\n",
       "consecutive_losses                        42                      47\n",
       "ratio_of_longs                      0.495102                0.550891\n",
       "signal_filter_rate                       0.0                 0.42609\n",
       "confidence_threshold                     0.5                     0.5\n",
       "information_ratio                        NaN                     NaN"
      ]
     },
     "execution_count": 56,
     "metadata": {},
     "output_type": "execute_result"
    }
   ],
   "source": [
    "meta_metrics_df"
   ]
  },
  {
   "cell_type": "code",
   "execution_count": null,
   "id": "3ea23520",
   "metadata": {},
   "outputs": [
    {
     "data": {
      "application/vnd.microsoft.datawrangler.viewer.v0+json": {
       "columns": [
        {
         "name": "time",
         "rawType": "datetime64[ns]",
         "type": "datetime"
        },
        {
         "name": "bet_size",
         "rawType": "float64",
         "type": "float"
        },
        {
         "name": "0",
         "rawType": "float64",
         "type": "float"
        }
       ],
       "ref": "f70a72aa-1e81-4c78-8dbb-3057c6b96c62",
       "rows": [
        [
         "2021-12-31 02:40:00",
         "-0.04119095627042513",
         "0.47421029411612975"
        ],
        [
         "2021-12-31 02:50:00",
         "-0.044235208332788045",
         "0.4723080470313967"
        ],
        [
         "2021-12-31 04:35:00",
         "-0.014694273131671709",
         "0.490792770732205"
        ],
        [
         "2021-12-31 07:00:00",
         "-0.037061191828127726",
         "0.4767920250731431"
        ],
        [
         "2021-12-31 08:35:00",
         "-0.0022697899138165445",
         "0.49857762394306654"
        ],
        [
         "2021-12-31 10:00:00",
         "-0.001639015059582638",
         "0.5010270989280282"
        ],
        [
         "2021-12-31 11:50:00",
         "-0.03254119042231629",
         "0.47961912918318955"
        ],
        [
         "2021-12-31 12:05:00",
         "-0.03937423856319067",
         "0.47534585755901115"
        ],
        [
         "2021-12-31 13:00:00",
         "-0.02660140086803464",
         "0.48333621683113187"
        ],
        [
         "2021-12-31 18:00:00",
         "-0.015558972718105357",
         "0.5097489046274464"
        ],
        [
         "2021-12-31 18:25:00",
         "-0.02819116904925667",
         "0.5176588490401435"
        ],
        [
         "2021-12-31 19:00:00",
         "-0.020884984920306326",
         "0.513084735519623"
        ],
        [
         "2021-12-31 19:20:00",
         "-0.03314287666210369",
         "0.4792427160969817"
        ],
        [
         "2021-12-31 22:00:00",
         "-0.016125970843034243",
         "0.4898959220343485"
        ],
        [
         "2021-12-31 22:25:00",
         "-0.014886650315342753",
         "0.4906722576231599"
        ],
        [
         "2021-12-31 23:00:00",
         "-0.02482747363929838",
         "0.4844467068898496"
        ],
        [
         "2022-01-03 00:15:00",
         "-0.010174527451814686",
         "0.4936244060192323"
        ],
        [
         "2022-01-03 01:20:00",
         "-0.019147283998042997",
         "0.48800352170557904"
        ],
        [
         "2022-01-03 02:40:00",
         "-0.01899272794100937",
         "0.4881003200528303"
        ],
        [
         "2022-01-03 05:55:00",
         "-0.006902112900433077",
         "0.49567485004622697"
        ],
        [
         "2022-01-03 08:30:00",
         "-0.02735716872575622",
         "0.4828631505297966"
        ],
        [
         "2022-01-03 09:00:00",
         "-0.0123864593550429",
         "0.5077614388448028"
        ],
        [
         "2022-01-03 10:00:00",
         "-0.01682858030970502",
         "0.5105441854258025"
        ],
        [
         "2022-01-03 11:05:00",
         "-0.01609536553728197",
         "0.5100849067509483"
        ],
        [
         "2022-01-03 13:10:00",
         "-0.020333006833979872",
         "0.48726093480405885"
        ],
        [
         "2022-01-03 13:50:00",
         "-0.03586970131120548",
         "0.477537124306748"
        ],
        [
         "2022-01-03 14:30:00",
         "-0.007860934504481332",
         "0.5049259507956572"
        ],
        [
         "2022-01-03 15:10:00",
         "-0.020913569578574154",
         "0.4868973639843105"
        ],
        [
         "2022-01-03 16:15:00",
         "-0.05918225660083287",
         "0.4629808301441304"
        ],
        [
         "2022-01-03 16:30:00",
         "-0.002326544799715613",
         "0.49854205838771387"
        ],
        [
         "2022-01-03 17:45:00",
         "-0.005803046985201954",
         "0.4963635437055937"
        ],
        [
         "2022-01-03 17:55:00",
         "-0.025925535429689228",
         "0.4837592942198077"
        ],
        [
         "2022-01-03 21:45:00",
         "-0.021690166675819245",
         "0.4864110506169371"
        ],
        [
         "2022-01-03 22:15:00",
         "-0.03885121862998808",
         "0.4756728258197771"
        ],
        [
         "2022-01-03 22:25:00",
         "-0.028242174609448667",
         "0.48230922789337094"
        ],
        [
         "2022-01-03 23:15:00",
         "-0.04984362022087496",
         "0.4688056870253277"
        ],
        [
         "2022-01-04 04:00:00",
         "-0.06090735950480597",
         "0.46190587329846744"
        ],
        [
         "2022-01-04 07:15:00",
         "-0.02478124026028128",
         "0.48447565138817983"
        ],
        [
         "2022-01-04 07:25:00",
         "-0.027279270878098894",
         "0.4829119086038157"
        ],
        [
         "2022-01-04 07:45:00",
         "-0.04315261696545425",
         "0.472984431548107"
        ],
        [
         "2022-01-04 11:55:00",
         "-0.025593844798615817",
         "0.48396693404943963"
        ],
        [
         "2022-01-04 14:00:00",
         "-0.02526709562265439",
         "0.4841714859162472"
        ],
        [
         "2022-01-04 19:35:00",
         "-0.03641993131772625",
         "0.4771930250656013"
        ],
        [
         "2022-01-04 21:50:00",
         "-0.032030961963623206",
         "0.47993834469326185"
        ],
        [
         "2022-01-04 22:10:00",
         "-0.03832990390023028",
         "0.47599874879563725"
        ],
        [
         "2022-01-05 00:25:00",
         "-0.05610291433378167",
         "0.4649004958894316"
        ],
        [
         "2022-01-05 01:00:00",
         "-0.06263440853963598",
         "0.4608300574265373"
        ],
        [
         "2022-01-05 01:25:00",
         "-0.061147180390504374",
         "0.4617564623472998"
        ],
        [
         "2022-01-05 05:15:00",
         "-0.057354898232315765",
         "0.4641198792242959"
        ],
        [
         "2022-01-05 05:30:00",
         "-0.037525947880929",
         "0.47650141741554974"
        ]
       ],
       "shape": {
        "columns": 2,
        "rows": 11440
       }
      },
      "text/html": [
       "<div>\n",
       "<style scoped>\n",
       "    .dataframe tbody tr th:only-of-type {\n",
       "        vertical-align: middle;\n",
       "    }\n",
       "\n",
       "    .dataframe tbody tr th {\n",
       "        vertical-align: top;\n",
       "    }\n",
       "\n",
       "    .dataframe thead th {\n",
       "        text-align: right;\n",
       "    }\n",
       "</style>\n",
       "<table border=\"1\" class=\"dataframe\">\n",
       "  <thead>\n",
       "    <tr style=\"text-align: right;\">\n",
       "      <th></th>\n",
       "      <th>bet_size</th>\n",
       "      <th>0</th>\n",
       "    </tr>\n",
       "    <tr>\n",
       "      <th>time</th>\n",
       "      <th></th>\n",
       "      <th></th>\n",
       "    </tr>\n",
       "  </thead>\n",
       "  <tbody>\n",
       "    <tr>\n",
       "      <th>2021-12-31 02:40:00</th>\n",
       "      <td>-0.041191</td>\n",
       "      <td>0.474210</td>\n",
       "    </tr>\n",
       "    <tr>\n",
       "      <th>2021-12-31 02:50:00</th>\n",
       "      <td>-0.044235</td>\n",
       "      <td>0.472308</td>\n",
       "    </tr>\n",
       "    <tr>\n",
       "      <th>2021-12-31 04:35:00</th>\n",
       "      <td>-0.014694</td>\n",
       "      <td>0.490793</td>\n",
       "    </tr>\n",
       "    <tr>\n",
       "      <th>2021-12-31 07:00:00</th>\n",
       "      <td>-0.037061</td>\n",
       "      <td>0.476792</td>\n",
       "    </tr>\n",
       "    <tr>\n",
       "      <th>2021-12-31 08:35:00</th>\n",
       "      <td>-0.002270</td>\n",
       "      <td>0.498578</td>\n",
       "    </tr>\n",
       "    <tr>\n",
       "      <th>...</th>\n",
       "      <td>...</td>\n",
       "      <td>...</td>\n",
       "    </tr>\n",
       "    <tr>\n",
       "      <th>2024-12-30 11:50:00</th>\n",
       "      <td>-0.093214</td>\n",
       "      <td>0.558149</td>\n",
       "    </tr>\n",
       "    <tr>\n",
       "      <th>2024-12-30 13:25:00</th>\n",
       "      <td>-0.050949</td>\n",
       "      <td>0.531885</td>\n",
       "    </tr>\n",
       "    <tr>\n",
       "      <th>2024-12-30 13:55:00</th>\n",
       "      <td>-0.032719</td>\n",
       "      <td>0.520492</td>\n",
       "    </tr>\n",
       "    <tr>\n",
       "      <th>2024-12-30 14:10:00</th>\n",
       "      <td>-0.033488</td>\n",
       "      <td>0.520973</td>\n",
       "    </tr>\n",
       "    <tr>\n",
       "      <th>2024-12-30 19:25:00</th>\n",
       "      <td>-0.031519</td>\n",
       "      <td>0.519741</td>\n",
       "    </tr>\n",
       "  </tbody>\n",
       "</table>\n",
       "<p>11440 rows × 2 columns</p>\n",
       "</div>"
      ],
      "text/plain": [
       "                     bet_size         0\n",
       "time                                   \n",
       "2021-12-31 02:40:00 -0.041191  0.474210\n",
       "2021-12-31 02:50:00 -0.044235  0.472308\n",
       "2021-12-31 04:35:00 -0.014694  0.490793\n",
       "2021-12-31 07:00:00 -0.037061  0.476792\n",
       "2021-12-31 08:35:00 -0.002270  0.498578\n",
       "...                       ...       ...\n",
       "2024-12-30 11:50:00 -0.093214  0.558149\n",
       "2024-12-30 13:25:00 -0.050949  0.531885\n",
       "2024-12-30 13:55:00 -0.032719  0.520492\n",
       "2024-12-30 14:10:00 -0.033488  0.520973\n",
       "2024-12-30 19:25:00 -0.031519  0.519741\n",
       "\n",
       "[11440 rows x 2 columns]"
      ]
     },
     "execution_count": 175,
     "metadata": {},
     "output_type": "execute_result"
    }
   ],
   "source": [
    "bet_sizes_raw = bet_size_probability(\n",
    "            events,\n",
    "            prob.reindex(events.index),\n",
    "            num_classes=2,\n",
    "            pred=events.side,\n",
    "            # **kwargs,\n",
    "        )\n",
    "# bet_sizes_raw.describe()\n",
    "pd.concat([bet_sizes_raw, prob], axis=1).dropna()[bet_sizes_raw < 0]"
   ]
  },
  {
   "cell_type": "code",
   "execution_count": null,
   "id": "382c2de2",
   "metadata": {},
   "outputs": [
    {
     "data": {
      "application/vnd.microsoft.datawrangler.viewer.v0+json": {
       "columns": [
        {
         "name": "time",
         "rawType": "datetime64[ns]",
         "type": "datetime"
        },
        {
         "name": "0",
         "rawType": "float32",
         "type": "float"
        },
        {
         "name": "1",
         "rawType": "float32",
         "type": "float"
        }
       ],
       "ref": "14b581d6-38e2-4764-b66e-aa8863361c7f",
       "rows": [
        [
         "2021-12-31 02:40:00",
         "9.262562e-05",
         "0.0"
        ],
        [
         "2021-12-31 02:50:00",
         "-0.0010510087",
         "-0.0"
        ],
        [
         "2021-12-31 03:35:00",
         "-0.0004285574",
         "-0.0004285574"
        ],
        [
         "2021-12-31 04:35:00",
         "-0.0009188652",
         "-0.0"
        ],
        [
         "2021-12-31 06:05:00",
         "0.00093203783",
         "-0.0"
        ],
        [
         "2021-12-31 07:00:00",
         "0.001463294",
         "0.0"
        ],
        [
         "2021-12-31 08:35:00",
         "0.0010920763",
         "0.0"
        ],
        [
         "2021-12-31 08:45:00",
         "0.0009640455",
         "0.0009640455"
        ],
        [
         "2021-12-31 08:55:00",
         "0.0009418726",
         "0.0009418726"
        ],
        [
         "2021-12-31 10:00:00",
         "-0.0006715059",
         "0.0006715059"
        ],
        [
         "2021-12-31 10:45:00",
         "0.001865983",
         "-0.0"
        ],
        [
         "2021-12-31 11:50:00",
         "0.0026851892",
         "0.0"
        ],
        [
         "2021-12-31 12:05:00",
         "0.002512455",
         "0.0"
        ],
        [
         "2021-12-31 12:50:00",
         "0.0018728971",
         "0.0018728971"
        ],
        [
         "2021-12-31 13:00:00",
         "0.0018773079",
         "0.0"
        ],
        [
         "2021-12-31 14:50:00",
         "-0.0027555227",
         "0.0"
        ],
        [
         "2021-12-31 16:25:00",
         "-0.0025628805",
         "0.0"
        ],
        [
         "2021-12-31 17:00:00",
         "-0.00089275837",
         "0.0"
        ],
        [
         "2021-12-31 17:15:00",
         "-0.0011342764",
         "0.0"
        ],
        [
         "2021-12-31 18:00:00",
         "0.00010097027",
         "-0.00010097027"
        ],
        [
         "2021-12-31 18:25:00",
         "0.0005840659",
         "-0.0005840659"
        ],
        [
         "2021-12-31 19:00:00",
         "0.0008869767",
         "-0.0008869767"
        ],
        [
         "2021-12-31 19:20:00",
         "-0.00020647049",
         "-0.0"
        ],
        [
         "2021-12-31 22:00:00",
         "-0.0023601651",
         "-0.0"
        ],
        [
         "2021-12-31 22:25:00",
         "-0.0023953319",
         "-0.0"
        ],
        [
         "2021-12-31 23:00:00",
         "-0.0024706721",
         "-0.0"
        ],
        [
         "2022-01-03 00:15:00",
         "-0.0025938153",
         "-0.0"
        ],
        [
         "2022-01-03 00:50:00",
         "-0.0018954277",
         "-0.0018954277"
        ],
        [
         "2022-01-03 01:20:00",
         "-0.0018030405",
         "-0.0"
        ],
        [
         "2022-01-03 02:40:00",
         "-0.001589179",
         "-0.0"
        ],
        [
         "2022-01-03 03:05:00",
         "-0.001378119",
         "-0.001378119"
        ],
        [
         "2022-01-03 03:40:00",
         "8.8095665e-05",
         "8.8095665e-05"
        ],
        [
         "2022-01-03 03:55:00",
         "-6.15716e-05",
         "-6.15716e-05"
        ],
        [
         "2022-01-03 05:55:00",
         "0.0006260872",
         "0.0"
        ],
        [
         "2022-01-03 06:30:00",
         "0.0009922981",
         "0.0009922981"
        ],
        [
         "2022-01-03 07:35:00",
         "-0.0007183552",
         "0.0"
        ],
        [
         "2022-01-03 08:30:00",
         "0.00201118",
         "0.0"
        ],
        [
         "2022-01-03 09:00:00",
         "-0.00022923946",
         "0.00022923946"
        ],
        [
         "2022-01-03 10:00:00",
         "-0.00044941902",
         "0.00044941902"
        ],
        [
         "2022-01-03 10:55:00",
         "0.00053721666",
         "-0.0"
        ],
        [
         "2022-01-03 11:05:00",
         "0.0017255545",
         "-0.0017255545"
        ],
        [
         "2022-01-03 12:20:00",
         "0.002252698",
         "-0.0"
        ],
        [
         "2022-01-03 13:10:00",
         "-0.0036827326",
         "-0.0"
        ],
        [
         "2022-01-03 13:50:00",
         "-0.0034939647",
         "-0.0"
        ],
        [
         "2022-01-03 14:30:00",
         "0.0015356541",
         "-0.0015356541"
        ],
        [
         "2022-01-03 15:10:00",
         "-0.002507329",
         "-0.0"
        ],
        [
         "2022-01-03 16:15:00",
         "-0.00057047606",
         "-0.0"
        ],
        [
         "2022-01-03 16:30:00",
         "0.00015497208",
         "0.0"
        ],
        [
         "2022-01-03 17:45:00",
         "0.00077962875",
         "0.0"
        ],
        [
         "2022-01-03 17:55:00",
         "0.00093925",
         "0.0"
        ]
       ],
       "shape": {
        "columns": 2,
        "rows": 23898
       }
      },
      "text/html": [
       "<div>\n",
       "<style scoped>\n",
       "    .dataframe tbody tr th:only-of-type {\n",
       "        vertical-align: middle;\n",
       "    }\n",
       "\n",
       "    .dataframe tbody tr th {\n",
       "        vertical-align: top;\n",
       "    }\n",
       "\n",
       "    .dataframe thead th {\n",
       "        text-align: right;\n",
       "    }\n",
       "</style>\n",
       "<table border=\"1\" class=\"dataframe\">\n",
       "  <thead>\n",
       "    <tr style=\"text-align: right;\">\n",
       "      <th></th>\n",
       "      <th>0</th>\n",
       "      <th>1</th>\n",
       "    </tr>\n",
       "    <tr>\n",
       "      <th>time</th>\n",
       "      <th></th>\n",
       "      <th></th>\n",
       "    </tr>\n",
       "  </thead>\n",
       "  <tbody>\n",
       "    <tr>\n",
       "      <th>2021-12-31 02:40:00</th>\n",
       "      <td>0.000093</td>\n",
       "      <td>0.000000</td>\n",
       "    </tr>\n",
       "    <tr>\n",
       "      <th>2021-12-31 02:50:00</th>\n",
       "      <td>-0.001051</td>\n",
       "      <td>-0.000000</td>\n",
       "    </tr>\n",
       "    <tr>\n",
       "      <th>2021-12-31 03:35:00</th>\n",
       "      <td>-0.000429</td>\n",
       "      <td>-0.000429</td>\n",
       "    </tr>\n",
       "    <tr>\n",
       "      <th>2021-12-31 04:35:00</th>\n",
       "      <td>-0.000919</td>\n",
       "      <td>-0.000000</td>\n",
       "    </tr>\n",
       "    <tr>\n",
       "      <th>2021-12-31 06:05:00</th>\n",
       "      <td>0.000932</td>\n",
       "      <td>-0.000000</td>\n",
       "    </tr>\n",
       "    <tr>\n",
       "      <th>...</th>\n",
       "      <td>...</td>\n",
       "      <td>...</td>\n",
       "    </tr>\n",
       "    <tr>\n",
       "      <th>2024-12-30 14:10:00</th>\n",
       "      <td>0.001043</td>\n",
       "      <td>-0.001043</td>\n",
       "    </tr>\n",
       "    <tr>\n",
       "      <th>2024-12-30 15:15:00</th>\n",
       "      <td>-0.002965</td>\n",
       "      <td>-0.002965</td>\n",
       "    </tr>\n",
       "    <tr>\n",
       "      <th>2024-12-30 15:30:00</th>\n",
       "      <td>-0.002764</td>\n",
       "      <td>-0.002764</td>\n",
       "    </tr>\n",
       "    <tr>\n",
       "      <th>2024-12-30 17:45:00</th>\n",
       "      <td>0.001522</td>\n",
       "      <td>0.001522</td>\n",
       "    </tr>\n",
       "    <tr>\n",
       "      <th>2024-12-30 19:25:00</th>\n",
       "      <td>-0.000780</td>\n",
       "      <td>0.000780</td>\n",
       "    </tr>\n",
       "  </tbody>\n",
       "</table>\n",
       "<p>23898 rows × 2 columns</p>\n",
       "</div>"
      ],
      "text/plain": [
       "                            0         1\n",
       "time                                   \n",
       "2021-12-31 02:40:00  0.000093  0.000000\n",
       "2021-12-31 02:50:00 -0.001051 -0.000000\n",
       "2021-12-31 03:35:00 -0.000429 -0.000429\n",
       "2021-12-31 04:35:00 -0.000919 -0.000000\n",
       "2021-12-31 06:05:00  0.000932 -0.000000\n",
       "...                       ...       ...\n",
       "2024-12-30 14:10:00  0.001043 -0.001043\n",
       "2024-12-30 15:15:00 -0.002965 -0.002965\n",
       "2024-12-30 15:30:00 -0.002764 -0.002764\n",
       "2024-12-30 17:45:00  0.001522  0.001522\n",
       "2024-12-30 19:25:00 -0.000780  0.000780\n",
       "\n",
       "[23898 rows x 2 columns]"
      ]
     },
     "execution_count": 189,
     "metadata": {},
     "output_type": "execute_result"
    }
   ],
   "source": [
    "pd.concat([results[\"primary_returns\"], results[\"meta_returns\"]], axis=1)"
   ]
  },
  {
   "cell_type": "code",
   "execution_count": null,
   "id": "59830193",
   "metadata": {},
   "outputs": [
    {
     "ename": "NameError",
     "evalue": "name 'model_bb_trend_time' is not defined",
     "output_type": "error",
     "traceback": [
      "\u001b[1;31m---------------------------------------------------------------------------\u001b[0m",
      "\u001b[1;31mNameError\u001b[0m                                 Traceback (most recent call last)",
      "Cell \u001b[1;32mIn[181], line 1\u001b[0m\n\u001b[1;32m----> 1\u001b[0m model \u001b[38;5;241m=\u001b[39m \u001b[43mmodel_bb_trend_time\u001b[49m\n\u001b[0;32m      2\u001b[0m \u001b[38;5;66;03m# confidence_threshold = get_optimal_threshold(model)\u001b[39;00m\n\u001b[0;32m      4\u001b[0m events \u001b[38;5;241m=\u001b[39m get_events(\n\u001b[0;32m      5\u001b[0m     close, t_events, \n\u001b[0;32m      6\u001b[0m     pt_sl\u001b[38;5;241m=\u001b[39m[\u001b[38;5;241m0\u001b[39m, \u001b[38;5;241m0\u001b[39m],\n\u001b[1;32m   (...)\u001b[0m\n\u001b[0;32m      9\u001b[0m     side_prediction\u001b[38;5;241m=\u001b[39mprimary_signals,\n\u001b[0;32m     10\u001b[0m     )\u001b[38;5;241m.\u001b[39mdropna(subset\u001b[38;5;241m=\u001b[39m[\u001b[38;5;124m\"\u001b[39m\u001b[38;5;124mt1\u001b[39m\u001b[38;5;124m\"\u001b[39m])\n",
      "\u001b[1;31mNameError\u001b[0m: name 'model_bb_trend_time' is not defined"
     ]
    }
   ],
   "source": [
    "model = model_bb_trend_time\n",
    "# opt_threshold = get_optimal_threshold(model)\n",
    "\n",
    "events = get_events(\n",
    "    close, t_events, \n",
    "    pt_sl=[0, 0],\n",
    "    target=target, \n",
    "    vertical_barrier_times=vertical_barrier_times, \n",
    "    side_prediction=primary_signals,\n",
    "    ).dropna(subset=[\"t1\"])\n",
    "\n",
    "prob = model.fit.predict_proba(X_test)[:, 1]\n",
    "prob = pd.Series(prob, index=X_test.index)\n",
    "\n",
    "results = run_meta_labeling_analysis(\n",
    "    close,\n",
    "    events,\n",
    "    prob,\n",
    "    confidence_threshold=0.5,\n",
    "    strategy_name=bb_strategy.get_strategy_name()\n",
    "    )\n",
    "bb_model_results_time[f\"trend_scanning_{volatility_threshold}\"] = results"
   ]
  },
  {
   "cell_type": "code",
   "execution_count": null,
   "id": "9c8e6d1e",
   "metadata": {},
   "outputs": [],
   "source": [
    "# # meta_positions = (prob > 0.44).astype(\"int8\")\n",
    "# # value_counts_data(meta_positions)\n",
    "# fit = model_bb_fh_time.fit\n",
    "# prob = pd.Series(fit.predict_proba(X_test)[:, 1], index=X_test.index)\n",
    "\n",
    "# bet_sizes_raw = bet_size_probability(\n",
    "#         events,\n",
    "#         prob,\n",
    "#         num_classes=2,\n",
    "#         pred=events['side'],\n",
    "#         step_size=0,\n",
    "#         average_active=0,\n",
    "#     )\n",
    "# bet_sizes_raw.describe()"
   ]
  },
  {
   "cell_type": "markdown",
   "id": "36ec20ef",
   "metadata": {},
   "source": [
    "## 3. Moving Average Crossover Strategy"
   ]
  },
  {
   "cell_type": "code",
   "execution_count": 57,
   "id": "7f163b16",
   "metadata": {},
   "outputs": [
    {
     "name": "stdout",
     "output_type": "stream",
     "text": [
      "Loaded EURUSD_M5_tick-200_2018-01-01-2024-12-31.parq\n",
      "Loaded EURUSD_M5_time_2018-01-01-2024-12-31.parq\n"
     ]
    }
   ],
   "source": [
    "from afml.strategies.ma_crossover_feature_engine import ForexFeatureEngine\n",
    "\n",
    "ma_timeframe = \"M5\"\n",
    "tick_bar_size = tick_bar_dict.get(ma_timeframe)\n",
    "ma_time_bars, ma_tick_bars = get_data(symbol, ma_timeframe)\n",
    "ma_bar_size = f\"tick-{ma_tick_bars.tick_volume.iloc[0]}\"\n",
    "\n",
    "fast_window, slow_window = 20, 50\n",
    "ma_strategy = MACrossoverStrategy(fast_window, slow_window)\n",
    "ma_pt_barrier, ma_sl_barrier, ma_time_horizon = (0, 2, 1)\n",
    "ma_vol_multiplier = 1\n",
    "\n"
   ]
  },
  {
   "cell_type": "markdown",
   "id": "b0e673d8",
   "metadata": {},
   "source": [
    "### Time-Bars"
   ]
  },
  {
   "cell_type": "code",
   "execution_count": 58,
   "id": "34c09a6c",
   "metadata": {},
   "outputs": [
    {
     "name": "stdout",
     "output_type": "stream",
     "text": [
      "MACrossover_20_50 Signals:\n",
      "\n",
      "        count  proportion\n",
      "side                     \n",
      " 1    185,825    0.502875\n",
      "-1    183,650    0.496989\n",
      " 0         50    0.000135\n",
      "\n",
      "\u001b[32m2025-10-20 05:49:35\u001b[0m | \u001b[1mINFO    \u001b[0m | \u001b[1m53,746 CUSUM-filtered events\u001b[0m\n",
      "\u001b[32m2025-10-20 05:49:35\u001b[0m | \u001b[1mINFO    \u001b[0m | \u001b[1mMACrossover_20_50 | 53,746 (14.55%) trade events selected by CUSUM filter using series.\u001b[0m\n"
     ]
    }
   ],
   "source": [
    "ma_side = ma_strategy.generate_signals(ma_time_bars)\n",
    "ma_df = ma_time_bars.loc[sample_start : sample_end]\n",
    "\n",
    "\n",
    "print(f\"{ma_strategy.get_strategy_name()} Signals:\")\n",
    "value_counts_data(ma_side.reindex(ma_df.index), verbose=True)\n",
    "\n",
    "# Volatility target for barriers\n",
    "vol_lookback = fast_window\n",
    "vol_target = get_daily_vol(ma_df.close, vol_lookback) * ma_vol_multiplier\n",
    "close = ma_df.close\n",
    "\n",
    "thres = vol_target.mean()\n",
    "_, t_events = get_entries(ma_strategy, ma_df, filter_threshold=vol_target)\n",
    "\n",
    "vertical_barriers = add_vertical_barrier(t_events, close, days=ma_time_horizon)\n",
    "linear_decay = False"
   ]
  },
  {
   "cell_type": "markdown",
   "id": "de5f7545",
   "metadata": {},
   "source": [
    "#### Feature Engineering"
   ]
  },
  {
   "cell_type": "code",
   "execution_count": 59,
   "id": "9804e688",
   "metadata": {},
   "outputs": [
    {
     "name": "stdout",
     "output_type": "stream",
     "text": [
      "Memory usage reduced from 323.86 MB to 170.48 MB (47.4% reduction)\n"
     ]
    }
   ],
   "source": [
    "ma_feat_engine = ForexFeatureEngine(pair_name=symbol)\n",
    "ma_feat = ma_feat_engine.calculate_all_features(ma_time_bars, ma_timeframe, lr_period=(5, fast_window))\n",
    "# ma_feat = ma_feat.join(ma_side.shift(), how=\"inner\")\n",
    "ma_feat_time = ma_feat.copy()\n",
    "# ma_feat_time.info()"
   ]
  },
  {
   "cell_type": "code",
   "execution_count": 60,
   "id": "aef1de34",
   "metadata": {},
   "outputs": [
    {
     "name": "stdout",
     "output_type": "stream",
     "text": [
      "  0. ma_10\n",
      "  1. ma_20\n",
      "  2. ma_50\n",
      "  3. ma_100\n",
      "  4. ma_200\n",
      "  5. ma_10_20_cross\n",
      "  6. ma_20_50_cross\n",
      "  7. ma_50_200_cross\n",
      "  8. ma_spread_10_20\n",
      "  9. ma_spread_20_50\n",
      " 10. ma_spread_50_200\n",
      " 11. ma_20_slope\n",
      " 12. ma_50_slope\n",
      " 13. price_above_ma_20\n",
      " 14. price_above_ma_50\n",
      " 15. ma_ribbon_aligned\n",
      " 16. atr_14\n",
      " 17. atr_21\n",
      " 18. atr_regime\n",
      " 19. realized_vol_10\n",
      " 20. realized_vol_20\n",
      " 21. realized_vol_50\n",
      " 22. vol_of_vol\n",
      " 23. hl_range\n",
      " 24. hl_range_ma\n",
      " 25. hl_range_regime\n",
      " 26. bb_upper\n",
      " 27. bb_lower\n",
      " 28. bb_percent\n",
      " 29. bb_bandwidth\n",
      " 30. bb_squeeze\n",
      " 31. efficiency_ratio_14\n",
      " 32. efficiency_ratio_30\n",
      " 33. adx_14\n",
      " 34. dmp_14\n",
      " 35. dmn_14\n",
      " 36. adx_trend_strength\n",
      " 37. adx_trend_direction\n",
      " 38. trend_window\n",
      " 39. trend_slope\n",
      " 40. trend_t_value\n",
      " 41. trend_rsquared\n",
      " 42. trend_ret\n",
      " 43. roc_10\n",
      " 44. roc_20\n",
      " 45. momentum_14\n",
      " 46. hh_ll_20\n",
      " 47. trend_persistence\n",
      " 48. return_skew_20\n",
      " 49. return_kurtosis_20\n",
      " 50. var_95\n",
      " 51. cvar_95\n",
      " 52. market_stress\n",
      " 53. current_drawdown\n",
      " 54. days_since_high\n",
      " 55. hour_sin_h1\n",
      " 56. hour_cos_h1\n",
      " 57. hour_sin_h2\n",
      " 58. hour_cos_h2\n",
      " 59. hour_sin_h3\n",
      " 60. hour_cos_h3\n",
      " 61. dayofweek_sin\n",
      " 62. dayofweek_cos\n",
      " 63. dayofyear_sin\n",
      " 64. dayofyear_cos\n",
      " 65. sydney_session\n",
      " 66. tokyo_session\n",
      " 67. london_session\n",
      " 68. ny_session\n",
      " 69. session_overlap\n",
      " 70. friday_ny_close\n",
      " 71. sunday_open\n",
      " 72. month_end\n",
      " 73. quarter_end\n",
      " 74. sydney_session_vol\n",
      " 75. tokyo_session_vol\n",
      " 76. london_session_vol\n",
      " 77. ny_session_vol\n",
      " 78. session_overlap_vol\n",
      " 79. friday_ny_close_vol\n",
      " 80. month_end_vol\n",
      " 81. quarter_end_vol\n",
      " 82. doji\n",
      " 83. hammer\n",
      " 84. inside_bar\n",
      " 85. outside_bar\n",
      " 86. near_recent_high\n",
      " 87. near_recent_low\n",
      " 88. fractal_trend_strength\n",
      " 89. fractal_trend_direction\n",
      " 90. fractal_ma_ratio\n",
      " 91. fractal_trend_confirmation\n",
      " 92. distance_to_fractal_resistance\n",
      " 93. distance_to_fractal_support\n"
     ]
    }
   ],
   "source": [
    "for i, col in enumerate(ma_feat_time):\n",
    "    print(f\"{i:>3}. {col}\")"
   ]
  },
  {
   "cell_type": "markdown",
   "id": "b863eb59",
   "metadata": {},
   "source": [
    "#### Triple-Barrier Method"
   ]
  },
  {
   "cell_type": "code",
   "execution_count": 61,
   "id": "1b77596f",
   "metadata": {},
   "outputs": [
    {
     "name": "stdout",
     "output_type": "stream",
     "text": [
      "<class 'pandas.core.frame.DataFrame'>\n",
      "DatetimeIndex: 53725 entries, 2018-01-03 00:10:00 to 2022-12-30 19:40:00\n",
      "Data columns (total 5 columns):\n",
      " #   Column  Non-Null Count  Dtype         \n",
      "---  ------  --------------  -----         \n",
      " 0   t1      53725 non-null  datetime64[ns]\n",
      " 1   trgt    53725 non-null  float64       \n",
      " 2   ret     53725 non-null  float32       \n",
      " 3   bin     53725 non-null  int8          \n",
      " 4   side    53725 non-null  int8          \n",
      "dtypes: datetime64[ns](1), float32(1), float64(1), int8(2)\n",
      "memory usage: 1.5 MB\n",
      "Triple-Barrier (pt=0, sl=2, h=1):\n",
      "\n",
      "      count  proportion\n",
      "bin                    \n",
      "0    41,524    0.772899\n",
      "1    12,201    0.227101\n",
      "\n",
      "Average Uniqueness: 0.0700\n"
     ]
    }
   ],
   "source": [
    "ma_events_tb = triple_barrier_labels(\n",
    "    close=close,\n",
    "    target=vol_target,\n",
    "    t_events=t_events,\n",
    "    pt_sl=[ma_pt_barrier, ma_sl_barrier],\n",
    "    min_ret=min_ret,\n",
    "    vertical_barrier_times=vertical_barriers,\n",
    "    side_prediction=ma_side,\n",
    "    vertical_barrier_zero=False,\n",
    "    verbose=False,\n",
    ")\n",
    "ma_events_tb_time = ma_events_tb.copy()\n",
    "ma_events_tb.info()\n",
    "\n",
    "print(f\"Triple-Barrier (pt={ma_pt_barrier}, sl={ma_sl_barrier}, h={ma_time_horizon}):\")\n",
    "value_counts_data(ma_events_tb.bin, verbose=True)\n",
    "\n",
    "weights = get_event_weights(ma_events_tb, close)\n",
    "av_uniqueness = weights['tW'].mean()\n",
    "print(f\"Average Uniqueness: {av_uniqueness:.4f}\")"
   ]
  },
  {
   "cell_type": "code",
   "execution_count": 62,
   "id": "76bc30a2",
   "metadata": {},
   "outputs": [],
   "source": [
    "# fig, (ax0, ax1) = plt.subplots(2, 1, figsize=(10, 5), dpi=300, sharex=True)\n",
    "# bins = 100\n",
    "# bb_events_tb_time[\"tW\"].hist(ax=ax0, bins=bins, grid=False)\n",
    "# ax0.set_title(\"Bollinger Band Strategy\")\n",
    "# ma_events_tb_time[\"tW\"].hist(ax=ax1, bins=bins, grid=False)\n",
    "# ax1.set_title(f\"MA{fast_window}_{slow_window} Crossover Strategy\")\n",
    "# plt.tight_layout()\n",
    "# fig.suptitle(\"Average Uniqueness\", fontsize=13)\n",
    "# fig.subplots_adjust(top=0.9)\n",
    "# fig.savefig(\"average_uniqueness_comparison.png\", dpi=300);\n",
    "\n"
   ]
  },
  {
   "cell_type": "markdown",
   "id": "68aff28e",
   "metadata": {},
   "source": [
    "#### Trend-Scanning Method"
   ]
  },
  {
   "cell_type": "code",
   "execution_count": 65,
   "id": "b7d942c8",
   "metadata": {},
   "outputs": [
    {
     "name": "stdout",
     "output_type": "stream",
     "text": [
      "<class 'pandas.core.frame.DataFrame'>\n",
      "DatetimeIndex: 1339 entries, 2018-01-03 00:00:00 to 2022-12-29 13:30:00\n",
      "Data columns (total 7 columns):\n",
      " #   Column    Non-Null Count  Dtype         \n",
      "---  ------    --------------  -----         \n",
      " 0   t1        1339 non-null   datetime64[ns]\n",
      " 1   window    1339 non-null   int32         \n",
      " 2   slope     1339 non-null   float64       \n",
      " 3   t_value   1339 non-null   float64       \n",
      " 4   rsquared  1339 non-null   float64       \n",
      " 5   ret       1339 non-null   float32       \n",
      " 6   bin       1339 non-null   int8          \n",
      "dtypes: datetime64[ns](1), float32(1), float64(3), int32(1), int8(1)\n",
      "memory usage: 64.1 KB\n",
      "\n",
      "Trend-Scanning Labels (σ = 0.05)\n"
     ]
    },
    {
     "data": {
      "application/vnd.microsoft.datawrangler.viewer.v0+json": {
       "columns": [
        {
         "name": "bin",
         "rawType": "int8",
         "type": "integer"
        },
        {
         "name": "count",
         "rawType": "object",
         "type": "string"
        },
        {
         "name": "proportion",
         "rawType": "float64",
         "type": "float"
        }
       ],
       "ref": "ca21c368-9511-4186-bbba-231fb0bcdbba",
       "rows": [
        [
         "1",
         "590",
         "0.4406273338312173"
        ],
        [
         "-1",
         "585",
         "0.4368932038834951"
        ],
        [
         "0",
         "164",
         "0.12247946228528753"
        ]
       ],
       "shape": {
        "columns": 2,
        "rows": 3
       }
      },
      "text/html": [
       "<div>\n",
       "<style scoped>\n",
       "    .dataframe tbody tr th:only-of-type {\n",
       "        vertical-align: middle;\n",
       "    }\n",
       "\n",
       "    .dataframe tbody tr th {\n",
       "        vertical-align: top;\n",
       "    }\n",
       "\n",
       "    .dataframe thead th {\n",
       "        text-align: right;\n",
       "    }\n",
       "</style>\n",
       "<table border=\"1\" class=\"dataframe\">\n",
       "  <thead>\n",
       "    <tr style=\"text-align: right;\">\n",
       "      <th></th>\n",
       "      <th>count</th>\n",
       "      <th>proportion</th>\n",
       "    </tr>\n",
       "    <tr>\n",
       "      <th>bin</th>\n",
       "      <th></th>\n",
       "      <th></th>\n",
       "    </tr>\n",
       "  </thead>\n",
       "  <tbody>\n",
       "    <tr>\n",
       "      <th>1</th>\n",
       "      <td>590</td>\n",
       "      <td>0.440627</td>\n",
       "    </tr>\n",
       "    <tr>\n",
       "      <th>-1</th>\n",
       "      <td>585</td>\n",
       "      <td>0.436893</td>\n",
       "    </tr>\n",
       "    <tr>\n",
       "      <th>0</th>\n",
       "      <td>164</td>\n",
       "      <td>0.122479</td>\n",
       "    </tr>\n",
       "  </tbody>\n",
       "</table>\n",
       "</div>"
      ],
      "text/plain": [
       "    count  proportion\n",
       "bin                  \n",
       " 1    590    0.440627\n",
       "-1    585    0.436893\n",
       " 0    164    0.122479"
      ]
     },
     "execution_count": 65,
     "metadata": {},
     "output_type": "execute_result"
    }
   ],
   "source": [
    "span = (5, ma_time_horizon)\n",
    "volatility_threshold = 0.05\n",
    "trend_events = trend_scanning_labels(close, span, volatility_threshold)\n",
    "trend_events = drop_labels(trend_events)\n",
    "ma_events_trend_time = trend_events.reindex(t_events.intersection(trend_events.index))\n",
    "ma_events_trend_time.info()\n",
    "\n",
    "print(f\"\\nTrend-Scanning Labels (σ = {volatility_threshold})\")\n",
    "value_counts_data(ma_events_trend_time[\"bin\"], verbose=False)"
   ]
  },
  {
   "cell_type": "markdown",
   "id": "1c240c6f",
   "metadata": {},
   "source": [
    "#### Cross-Validation of Weighting Methods"
   ]
  },
  {
   "cell_type": "code",
   "execution_count": 63,
   "id": "d72404d8",
   "metadata": {},
   "outputs": [],
   "source": [
    "cont = ma_events_tb_time.copy()\n",
    "X = ma_feat_time.reindex(cont.index)\n",
    "y = cont[\"bin\"]\n",
    "t1 = cont[\"t1\"]\n",
    "\n",
    "test_size = 0.25\n",
    "n_splits = 5\n",
    "pct_embargo = 0.01\n",
    "\n",
    "train, test = PurgedSplit(t1, test_size).split(X)\n",
    "X_train, X_test, y_train, y_test = (\n",
    "        X.iloc[train],\n",
    "        X.iloc[test],\n",
    "        y.iloc[train],\n",
    "        y.iloc[test],\n",
    "    )\n",
    "cont_train = get_event_weights(cont.iloc[train], ma_df.close)"
   ]
  },
  {
   "cell_type": "code",
   "execution_count": 64,
   "id": "7edaa4d0",
   "metadata": {},
   "outputs": [
    {
     "data": {
      "text/plain": [
       "dict_keys(['unweighted', 'uniqueness', 'return', 'linear_time_decay_0.0', 'exp_time_decay_0.0', 'linear_time_decay_0.1', 'exp_time_decay_0.1', 'linear_time_decay_0.25', 'exp_time_decay_0.25', 'linear_time_decay_0.5', 'exp_time_decay_0.5', 'linear_time_decay_0.75', 'exp_time_decay_0.75', 'linear_time_decay_0.9', 'exp_time_decay_0.9'])"
      ]
     },
     "execution_count": 64,
     "metadata": {},
     "output_type": "execute_result"
    }
   ],
   "source": [
    "decay_factors = [0.0, 0.1, 0.25, 0.5, 0.75, 0.9]\n",
    "time_decay_weights = {}\n",
    "for time_decay in decay_factors:\n",
    "    for linear in (1, 0):\n",
    "        decay_w = get_weights_by_time_decay_optimized(\n",
    "                    triple_barrier_events=cont,\n",
    "                    close_index=close.index,\n",
    "                    decay=time_decay,\n",
    "                    linear=linear,\n",
    "                    av_uniqueness=cont_train[\"tW\"],\n",
    "                )\n",
    "        method = \"linear\" if linear else \"exp\"\n",
    "        time_decay_weights[f\"{method}_time_decay_{time_decay}\"] = decay_w\n",
    "        \n",
    "weighting_schemes = {\n",
    "    \"unweighted\": pd.Series(1., index=cont_train.index),\n",
    "    \"uniqueness\": cont_train[\"tW\"],\n",
    "    \"return\": cont_train[\"w\"],\n",
    "    }\n",
    "\n",
    "for k, v in time_decay_weights.items():\n",
    "    weighting_schemes[k] = v\n",
    "    # if k.startswith('exp'):\n",
    "    #     weighting_schemes[k.replace('exp_', '')] = v.iloc[train]\n",
    "\n",
    "weighting_schemes.keys()"
   ]
  },
  {
   "cell_type": "code",
   "execution_count": 65,
   "id": "45cd0230",
   "metadata": {},
   "outputs": [],
   "source": [
    "random_state = 45\n",
    "min_w_leaf = 0.05\n",
    "\n",
    "clf = RandomForestClassifier(\n",
    "    criterion='entropy',\n",
    "    n_estimators=100,\n",
    "    class_weight='balanced_subsample',\n",
    "    random_state=random_state,\n",
    "    min_weight_fraction_leaf=min_w_leaf,\n",
    "    max_samples=cont_train.tW.mean(),\n",
    "    n_jobs=-1,  # Use all available cores\n",
    "    )\n"
   ]
  },
  {
   "cell_type": "code",
   "execution_count": 66,
   "id": "a00a9faa",
   "metadata": {},
   "outputs": [
    {
     "data": {
      "image/png": "[encoded data removed]",
      "text/plain": [
       "<Figure size 640x480 with 1 Axes>"
      ]
     },
     "metadata": {},
     "output_type": "display_data"
    }
   ],
   "source": [
    "cont_train[\"tW\"].hist(bins=100, grid=False)\n",
    "plt.title(f\"Average Uniqueness - MA_{fast_window}_{slow_window} Crossover Strategy\");"
   ]
  },
  {
   "cell_type": "code",
   "execution_count": 67,
   "id": "a252420e",
   "metadata": {},
   "outputs": [
    {
     "name": "stdout",
     "output_type": "stream",
     "text": [
      "RandomForestClassifier Weighting Schemes\n",
      "\n",
      "unweighted:\n",
      "  accuracy: μ = 0.589278, σ = 0.073234\n",
      "  probability_weighted_accuracy: μ = 0.671619, σ = 0.100701\n",
      "  neg_log_loss: μ = -0.650337, σ = 0.036663\n",
      "  precision: μ = 0.297568, σ = 0.025502\n",
      "  recall: μ = 0.587755, σ = 0.124676\n",
      "  f1: μ = 0.387687, σ = 0.015056\n",
      "\n",
      "uniqueness:\n",
      "  accuracy: μ = 0.633646, σ = 0.068310\n",
      "  probability_weighted_accuracy: μ = 0.739948, σ = 0.080367\n",
      "  neg_log_loss: μ = -0.625171, σ = 0.035590\n",
      "  precision: μ = 0.295819, σ = 0.028923\n",
      "  recall: μ = 0.530084, σ = 0.108398\n",
      "  f1: μ = 0.372464, σ = 0.017697\n",
      "\n",
      "return:\n",
      "  accuracy: μ = 0.473282, σ = 0.010644\n",
      "  probability_weighted_accuracy: μ = 0.473363, σ = 0.010807\n",
      "  neg_log_loss: μ = -0.826179, σ = 0.018366\n",
      "  precision: μ = 0.473282, σ = 0.010644\n",
      "  recall: μ = 1.000000, σ = 0.000000\n",
      "  f1: μ = 0.642416, σ = 0.009850\n",
      "\n",
      "Best Scheme so far: return with mean f1 score 0.6424\n",
      "\n",
      "return_linear_time_decay_0.0:\n",
      "  accuracy: μ = 0.476037, σ = 0.011935\n",
      "  probability_weighted_accuracy: μ = 0.475779, σ = 0.011872\n",
      "  neg_log_loss: μ = -0.816030, σ = 0.018647\n",
      "  precision: μ = 0.476037, σ = 0.011935\n",
      "  recall: μ = 1.000000, σ = 0.000000\n",
      "  f1: μ = 0.644931, σ = 0.011027\n",
      "\n",
      "return_linear_time_decay_0.1:\n",
      "  accuracy: μ = 0.474688, σ = 0.011123\n",
      "  probability_weighted_accuracy: μ = 0.474337, σ = 0.011212\n",
      "  neg_log_loss: μ = -0.821351, σ = 0.019709\n",
      "  precision: μ = 0.474688, σ = 0.011123\n",
      "  recall: μ = 1.000000, σ = 0.000000\n",
      "  f1: μ = 0.643703, σ = 0.010287\n",
      "\n",
      "return_linear_time_decay_0.25:\n",
      "  accuracy: μ = 0.474016, σ = 0.010846\n",
      "  probability_weighted_accuracy: μ = 0.473847, σ = 0.010285\n",
      "  neg_log_loss: μ = -0.826335, σ = 0.019159\n",
      "  precision: μ = 0.474016, σ = 0.010846\n",
      "  recall: μ = 1.000000, σ = 0.000000\n",
      "  f1: μ = 0.643089, σ = 0.010034\n",
      "\n",
      "return_linear_time_decay_0.5:\n",
      "  accuracy: μ = 0.473582, σ = 0.010690\n",
      "  probability_weighted_accuracy: μ = 0.473191, σ = 0.011257\n",
      "  neg_log_loss: μ = -0.828642, σ = 0.018757\n",
      "  precision: μ = 0.473582, σ = 0.010690\n",
      "  recall: μ = 1.000000, σ = 0.000000\n",
      "  f1: μ = 0.642692, σ = 0.009892\n",
      "\n",
      "return_linear_time_decay_0.75:\n",
      "  accuracy: μ = 0.473386, σ = 0.010642\n",
      "  probability_weighted_accuracy: μ = 0.473292, σ = 0.010446\n",
      "  neg_log_loss: μ = -0.828243, σ = 0.016836\n",
      "  precision: μ = 0.473386, σ = 0.010642\n",
      "  recall: μ = 1.000000, σ = 0.000000\n",
      "  f1: μ = 0.642511, σ = 0.009848\n",
      "\n",
      "return_linear_time_decay_0.9:\n",
      "  accuracy: μ = 0.473316, σ = 0.010639\n",
      "  probability_weighted_accuracy: μ = 0.473407, σ = 0.010808\n",
      "  neg_log_loss: μ = -0.827085, σ = 0.019076\n",
      "  precision: μ = 0.473316, σ = 0.010639\n",
      "  recall: μ = 1.000000, σ = 0.000000\n",
      "  f1: μ = 0.642447, σ = 0.009845\n"
     ]
    }
   ],
   "source": [
    "cv_gen = PurgedKFold(n_splits, cont_train.t1, pct_embargo)\n",
    "cv_scores_d = {}\n",
    "print(clf.__class__.__name__, \"Weighting Schemes\")\n",
    "\n",
    "best_scheme = None\n",
    "\n",
    "for scheme, sample_weights in weighting_schemes.items():\n",
    "    w = sample_weights.values\n",
    "    if scheme.startswith(('linear_time_decay', 'exp_time_decay')):\n",
    "        if 'exp_time_decay' in scheme:\n",
    "            continue\n",
    "        if best_scheme is None:\n",
    "            best_scheme, best_score = best_weighting_by_mean_score(cv_scores_d, y_train)\n",
    "        w *= weighting_schemes[best_scheme].values # Combine with best scheme\n",
    "        scheme = f\"{best_scheme}_{scheme}\"\n",
    "            \n",
    "\n",
    "    print(f\"\\n{scheme}:\")\n",
    "    cv_scores = ml_cross_val_scores_all(\n",
    "        clf, X_train, y_train, cv_gen, \n",
    "        sample_weight_train=w, \n",
    "        sample_weight_score=w,\n",
    "    )\n",
    "    cv_scores_d[scheme] = cv_scores\n",
    "    for scoring, cv_score in cv_scores.items():\n",
    "        print(f\"  {scoring}: μ = {cv_score.mean():.6f}, σ = {cv_score.std():.6f}\")\n"
   ]
  },
  {
   "cell_type": "code",
   "execution_count": 68,
   "id": "278e5848",
   "metadata": {},
   "outputs": [
    {
     "name": "stdout",
     "output_type": "stream",
     "text": [
      "Mean of CV Scores: \n",
      "                               accuracy       PWA  neg_log_loss  precision  \\\n",
      "unweighted                     0.589278  0.671619     -0.650337   0.297568   \n",
      "uniqueness                     0.633646  0.739948     -0.625171   0.295819   \n",
      "return                         0.473282  0.473363     -0.826179   0.473282   \n",
      "return_linear_time_decay_0.0   0.476037  0.475779     -0.816030   0.476037   \n",
      "return_linear_time_decay_0.1   0.474688  0.474337     -0.821351   0.474688   \n",
      "return_linear_time_decay_0.25  0.474016  0.473847     -0.826335   0.474016   \n",
      "return_linear_time_decay_0.5   0.473582  0.473191     -0.828642   0.473582   \n",
      "return_linear_time_decay_0.75  0.473386  0.473292     -0.828243   0.473386   \n",
      "return_linear_time_decay_0.9   0.473316  0.473407     -0.827085   0.473316   \n",
      "\n",
      "                                 recall        f1  \n",
      "unweighted                     0.587755  0.387687  \n",
      "uniqueness                     0.530084  0.372464  \n",
      "return                         1.000000  0.642416  \n",
      "return_linear_time_decay_0.0   1.000000  0.644931  \n",
      "return_linear_time_decay_0.1   1.000000  0.643703  \n",
      "return_linear_time_decay_0.25  1.000000  0.643089  \n",
      "return_linear_time_decay_0.5   1.000000  0.642692  \n",
      "return_linear_time_decay_0.75  1.000000  0.642511  \n",
      "return_linear_time_decay_0.9   1.000000  0.642447  \n",
      "\n",
      "Std of CV Scores: \n",
      "                               accuracy       PWA  neg_log_loss  precision  \\\n",
      "unweighted                     0.073234  0.100701      0.036663   0.025502   \n",
      "uniqueness                     0.068310  0.080367      0.035590   0.028923   \n",
      "return                         0.010644  0.010807      0.018366   0.010644   \n",
      "return_linear_time_decay_0.0   0.011935  0.011872      0.018647   0.011935   \n",
      "return_linear_time_decay_0.1   0.011123  0.011212      0.019709   0.011123   \n",
      "return_linear_time_decay_0.25  0.010846  0.010285      0.019159   0.010846   \n",
      "return_linear_time_decay_0.5   0.010690  0.011257      0.018757   0.010690   \n",
      "return_linear_time_decay_0.75  0.010642  0.010446      0.016836   0.010642   \n",
      "return_linear_time_decay_0.9   0.010639  0.010808      0.019076   0.010639   \n",
      "\n",
      "                                 recall        f1  \n",
      "unweighted                     0.124676  0.015056  \n",
      "uniqueness                     0.108398  0.017697  \n",
      "return                         0.000000  0.009850  \n",
      "return_linear_time_decay_0.0   0.000000  0.011027  \n",
      "return_linear_time_decay_0.1   0.000000  0.010287  \n",
      "return_linear_time_decay_0.25  0.000000  0.010034  \n",
      "return_linear_time_decay_0.5   0.000000  0.009892  \n",
      "return_linear_time_decay_0.75  0.000000  0.009848  \n",
      "return_linear_time_decay_0.9   0.000000  0.009845  \n"
     ]
    }
   ],
   "source": [
    "cv_scores_mu_df = pd.DataFrame(index=cv_scores_d.keys()) \n",
    "cv_scores_std_df = pd.DataFrame(index=cv_scores_d.keys()) \n",
    "\n",
    "\n",
    "for idx, dict_ in cv_scores_d.items():\n",
    "    for key, val in dict_.items():\n",
    "        col = key.replace('_score', '').replace('probability_weighted_accuracy', 'PWA')\n",
    "        cv_scores_mu_df.loc[idx, col] = val.mean()\n",
    "        cv_scores_std_df.loc[idx, col] = val.std()\n",
    "\n",
    "print(f\"Mean of CV Scores: \\n{cv_scores_mu_df}\")\n",
    "print(f\"\\nStd of CV Scores: \\n{cv_scores_std_df}\")        "
   ]
  },
  {
   "cell_type": "code",
   "execution_count": null,
   "id": "3f23f609",
   "metadata": {},
   "outputs": [
    {
     "data": {
      "text/plain": [
       "dict_keys(['strategy_name', 'primary_metrics', 'meta_metrics', 'primary_returns', 'meta_returns', 'total_primary_signals', 'filtered_signals'])"
      ]
     },
     "execution_count": 114,
     "metadata": {},
     "output_type": "execute_result"
    }
   ],
   "source": [
    "ma_model_results_time[labeling_methods[0]].keys()"
   ]
  },
  {
   "attachments": {
    "image.png": {
     "image/png": "[encoded data removed]"
    }
   },
   "cell_type": "markdown",
   "id": "6af58d7f",
   "metadata": {},
   "source": [
    "![image.png](attachment:image.png)"
   ]
  },
  {
   "cell_type": "markdown",
   "id": "0e3b0d14",
   "metadata": {},
   "source": [
    "## Measurements Section for Article"
   ]
  },
  {
   "cell_type": "markdown",
   "id": "4f71ccdc",
   "metadata": {},
   "source": [
    "- **Accuracy**: Accuracy is the fraction of opportunities correctly labeled by the overlay algorithm,\n",
    "accuracy = $$\\frac{TP + TN}{TP + TN + FP + FN}$$\n",
    "where TP is the number of true positives, TN is the number of true negatives, FP is the number of false positives, and FN is the number of false negatives.\n",
    "\n",
    "- **Precision**: Precision is the fraction of true positives among the predicted positives,\n",
    "$$precision = \\frac{TP}{TP + FP}$$\n",
    "    \n",
    "- **Recall**: Recall is the fraction of true positives among the positives,\n",
    "$$recall = \\frac{TP}{TP + FN}$$\n",
    "\n",
    "- **F1**: Accuracy may not be an adequate classification score for meta-labeling applications. Suppose that, after you apply meta-labeling, there are many more negative cases (label ‘0’) than positive cases (label ‘1’). Under that scenario, a classifier that predicts every case to be negative will achieve high 'accuracy' or 'neg_log_loss', even though it has not learned from the features how to discriminate between cases. In fact, such a model achieves zero recall and undefined precision. The 'f1' score corrects for that performance inflation by scoring the classifier in terms of precision and recall,\n",
    "$$F1 = 2\\frac{precision * recall}{precision + recall}$$\n",
    "\n",
    "As a side note, consider the unusual scenario where, after applying meta-labeling, there are many more positive cases than negative cases. A classifier that predicts all cases to be positive will achieve TN=0 and FN=0, hence accuracy=precision and recall=1. Accuracy will be high, and F1 will not be smaller than accuracy, even though the classifier is not able to discriminate between the observed samples. One solution would be to switch the definitions of positive and negative cases, so that negative cases are predominant, and then score with F1.\n",
    "\n",
    "\n",
    "Table 14.1 characterizes the four degenerate cases of binary classification.\n",
    "As you can see, the F1 score is not defined in two of those cases. For this reason, when Scikit-learn is asked to compute F1 on a sample with no observed 1s or with no predicted 1s, it will print a warning (```UndefinedMetricWarning```), and set the F1 value to 0.\n",
    "\n",
    "TABLE 14.1 The Four Degenerate Cases of Binary Classification\n",
    "\n",
    "| Condition | Collapse | Accuracy | Precision | Recall | F1 |\n",
    "| :--- | :--- | :--- | :--- | :--- | :--- |\n",
    "| Observed all 1s | TN=FP=0 | =recall | 1 | [0,1] | [0,1] |\n",
    "| Observed all 0s | TP=FN=0 | [0,1] | 0 | NaN | NaN |\n",
    "| Predicted all 1s | TN=FN=0 | =precision  |[0,1] | 1 | [0,1] |\n",
    "| Predicted all 0s | TP=FP=0 | [0,1] | NaN | 0 | NaN |\n",
    "\n",
    "When all observed values are positive (label ‘1’), there are no true negatives or false positives, thus precision is 1, recall is a positive real number between 0 and 1 (inclusive), and accuracy equals recall. Then, $F1 = 2\\frac{recall}{1 + recall} \\ge recall$.\n",
    "\n",
    "When all predicted values are positive (label ‘1’), there are no true negatives or false negatives, thus precision is a positive real number between 0 and 1 (inclusive), recall is 1, and accuracy equals precision. Then, $F1 = 2\\frac{precision}{1 + precision} \\ge precision$.\n",
    "\n"
   ]
  },
  {
   "cell_type": "markdown",
   "id": "392e1081",
   "metadata": {},
   "source": [
    "### 9.4 SCORING AND HYPER-PARAMETER TUNING\n",
    "Snippets 9.1 and 9.3 set scoring='f1' for meta-labeling applications. For other applications, they set scoring='neg_log_loss' rather than the standard scoring='accuracy'. Although accuracy has a more intuitive interpretation, I suggest that you use neg_log_loss when you are tuning hyper-parameters for an investment strategy. Let me explain my reasoning.\n",
    "Suppose that your ML investment strategy predicts that you should buy a security, with high probability. You will enter a large long position, as a function of the strategy’s confidence. If the prediction was erroneous, and the market sells off instead, you will lose a lot of money. And yet, accuracy accounts equally for an erroneous buy prediction with high probability and for an erroneous buy prediction with low probability. Moreover, accuracy can offset a miss with high probability with a hit with low probability.\n",
    "Investment strategies profit from predicting the right label with high confidence. Gains from good predictions with low confidence will not suffice to offset the losses from bad predictions with high confidence. For this reason, accuracy does not provide a realistic scoring of the classifier’s performance. Conversely, log loss (aka cross-entropy loss) computes the log-likelihood of the classifier given the true label, which takes predictions’ probabilities into account. Log loss can be estimated as follows:\n",
    "\n",
    "\n",
    "$$\n",
    "L[Y,P] \\;=\\; -\\log \\Pr[Y \\mid P]\n",
    "\\;=\\; -\\frac{1}{N}\\sum_{n=0}^{N-1}\\sum_{k=0}^{K-1} y_{n,k}\\,\\log p_{n,k}\n",
    "$$\n",
    "\n",
    "\n",
    "\n",
    "where\n",
    "- *p*<sub>n,k</sub> is the probability associated with prediction n of label k.\n",
    "- *Y* is a 1-of-*K* binary indicator matrix, such that *y*<sub>n,k</sub> = 1 when observation n was\n",
    "assigned label *k* out of *K* possible labels, and 0 otherwise.\n",
    "\n",
    "Suppose that a classifier predicts two 1s, where the true labels are 1 and 0. The first prediction is a hit and the second prediction is a miss, thus accuracy is 50%. Figure 9.2 plots the cross-entropy loss when these predictions come from probabilities ranging [0.5, 0.9]. One can observe that on the right side of the figure, log loss is large due to misses with high probability, even though the accuracy is 50% in all cases.\n",
    "There is a second reason to prefer cross-entropy loss over accuracy. CV scores a classifier by applying sample weights (see Chapter 7, Section 7.5). As you may recall from Chapter 4, observation weights were determined as a function of the observation’s absolute return. The implication is that sample weighted cross-entropy loss estimates the classifier’s performance in terms of variables involved in a PnL (mark-\n",
    "to-market profit and losses) calculation: It uses the correct label for the side, probability for the position size, and sample weight for the observation’s return/outcome. That is the right ML performance metric for hyper-parameter tuning of financial applications, not accuracy.\n",
    "\n",
    "When we use log loss as a scoring statistic, we often prefer to change its sign, hence referring to “neg log loss.” The reason for this change is cosmetic, driven by intuition: A high neg log loss value is preferred to a low neg log loss value, just as with accuracy."
   ]
  },
  {
   "cell_type": "markdown",
   "id": "75851df0",
   "metadata": {},
   "source": [
    "$$\n",
    "L[Y,P] \\;=\\; -\\log \\Pr[Y \\mid P]\n",
    "\\;=\\; -\\frac{1}{N}\\sum_{n=0}^{N-1}\\sum_{k=0}^{K-1} y_{n,k}\\,\\log p_{n,k}\n",
    "$$\n",
    "\n",
    "$$PWA = \\frac{\\sum_{n=0}^{N-1} y_{n}(p_{n} - K^{-1})}{\\sum_{n=0}^{N-1} (p_{n} - K^{-1})}$$\n",
    "\n",
    "\n",
    "\n",
    "where\n",
    "- *p*<sub>n,k</sub> is the probability associated with prediction n of label k.\n",
    "- *Y* is a 1-of-*K* binary indicator matrix, such that *y*<sub>n,k</sub> = 1 when observation n was\n",
    "assigned label *k* out of *K* possible labels, and 0 otherwise.\n"
   ]
  },
  {
   "cell_type": "code",
   "execution_count": 87,
   "id": "c162c2f7",
   "metadata": {},
   "outputs": [
    {
     "data": {
      "image/png": "[encoded data removed]",
      "text/plain": [
       "<Figure size 700x300 with 1 Axes>"
      ]
     },
     "metadata": {},
     "output_type": "display_data"
    }
   ],
   "source": [
    "import matplotlib.pyplot as plt\n",
    "import matplotlib.dates as mdates\n",
    "from datetime import datetime\n",
    "\n",
    "def plot_trade_timeline(trades, ticks=None, date_anchor=\"2025-01-01\"):\n",
    "    \"\"\"\n",
    "    trades: list of tuples (label, start_time, end_time) with HH:MM strings\n",
    "            e.g., [(\"Trade A\", \"10:00\", \"10:30\"), ...]\n",
    "    ticks: optional list of HH:MM strings for exact x-axis ticks\n",
    "           e.g., [\"10:00\", \"10:15\", \"10:30\", \"10:45\", \"11:00\"]\n",
    "    date_anchor: anchor date to bind all times (YYYY-MM-DD)\n",
    "    \"\"\"\n",
    "    fig, ax = plt.subplots(figsize=(7, 3), dpi=100)\n",
    "\n",
    "    time_fmt = \"%Y-%m-%d %H:%M\"\n",
    "    # Convert HH:MM to anchored datetimes\n",
    "    def to_dt(t): return datetime.strptime(f\"{date_anchor} {t}\", time_fmt)\n",
    "\n",
    "    # Plot bars in list order; we'll invert Y so first is top\n",
    "    for i, (label, start, end) in enumerate(trades):\n",
    "        start_dt, end_dt = to_dt(start), to_dt(end)\n",
    "        ax.barh(\n",
    "            y=i,\n",
    "            width=end_dt - start_dt,\n",
    "            left=start_dt,\n",
    "            height=0.6,\n",
    "            align=\"center\",\n",
    "            label=label\n",
    "        )\n",
    "\n",
    "    # Y-axis: labels and order (invert so first trade is at top)\n",
    "    ax.set_yticks(range(len(trades)))\n",
    "    ax.set_yticklabels([t[0] for t in trades])\n",
    "    ax.invert_yaxis()  # ensures Trade A (index 0) is at the top\n",
    "\n",
    "    # X-axis: exact ticks and formatting\n",
    "    if ticks is None:\n",
    "        # Default to min/max derived from trades, rounded to 15 min steps\n",
    "        ticks = [\"10:00\", \"10:15\", \"10:30\", \"10:45\", \"11:00\"]\n",
    "    tick_dts = [to_dt(t) for t in ticks]\n",
    "    ax.set_xticks(tick_dts)\n",
    "    ax.xaxis.set_major_formatter(mdates.DateFormatter(\"%H:%M\"))\n",
    "\n",
    "    # Limits to the tick range (optional but keeps labels clean)\n",
    "    ax.set_xlim(tick_dts[0], tick_dts[-1])\n",
    "\n",
    "    # Styling\n",
    "    # ax.set_xlabel(\"Time\")\n",
    "    ax.set_title(\"Concurrent Trades\")\n",
    "    # Optional: legend on the right\n",
    "    # ax.legend(loc=\"center left\", bbox_to_anchor=(1.0, 0.5), frameon=False)\n",
    "    fig.savefig(\"concurrent_trades.png\")\n",
    "    \n",
    "    plt.tight_layout()\n",
    "    plt.show()\n",
    "\n",
    "\n",
    "# Example usage\n",
    "trades = [\n",
    "    (\"Trade A\", \"10:00\", \"10:30\"),\n",
    "    (\"Trade B\", \"10:15\", \"10:45\"),\n",
    "    (\"Trade C\", \"10:50\", \"11:00\"),\n",
    "]\n",
    "ticks = [\"10:00\", \"10:15\", \"10:30\", \"10:45\", \"11:00\"]\n",
    "\n",
    "plot_trade_timeline(trades, ticks=ticks)\n"
   ]
  },
  {
   "cell_type": "code",
   "execution_count": 84,
   "id": "9bb9ea2c",
   "metadata": {},
   "outputs": [
    {
     "data": {
      "image/png": "[encoded data removed]",
      "text/plain": [
       "<Figure size 900x260 with 1 Axes>"
      ]
     },
     "metadata": {},
     "output_type": "display_data"
    }
   ],
   "source": [
    "def plot_concurrency_track(signals, hold_minutes=45, date_anchor=\"2025-01-01\", tick_every=15):\n",
    "    parse = lambda s: datetime.strptime(f\"{date_anchor} {s}\", \"%Y-%m-%d %I:%M %p\")\n",
    "    starts = [parse(s) for s in signals]\n",
    "    ends = [s + timedelta(minutes=hold_minutes) for s in starts]\n",
    "    t0, t1 = starts[0], ends[-1]\n",
    "\n",
    "    # Build minute counts\n",
    "    minute_counts = {}\n",
    "    cur = t0.replace(second=0, microsecond=0)\n",
    "    while cur <= t1:\n",
    "        minute_counts[cur] = 0\n",
    "        cur += timedelta(minutes=1)\n",
    "    for s, e in zip(starts, ends):\n",
    "        cur = s.replace(second=0, microsecond=0)\n",
    "        while cur < e:\n",
    "            minute_counts[cur] += 1\n",
    "            cur += timedelta(minutes=1)\n",
    "\n",
    "    # Downsample to ticks for a step plot\n",
    "    tick_times = []\n",
    "    tick_vals = []\n",
    "    cur = t0.replace(second=0, microsecond=0)\n",
    "    while cur <= t1:\n",
    "        tick_times.append(cur)\n",
    "        tick_vals.append(minute_counts.get(cur, 0))\n",
    "        cur += timedelta(minutes=tick_every)\n",
    "\n",
    "    fig, ax = plt.subplots(figsize=(9, 2.6))\n",
    "    ax.step(tick_times, tick_vals, where=\"post\", color=\"#1565c0\")\n",
    "    ax.fill_between(tick_times, tick_vals, step=\"post\", alpha=0.15, color=\"#64b5f6\")\n",
    "\n",
    "    ax.set_xticks(tick_times)\n",
    "    ax.xaxis.set_major_formatter(mdates.DateFormatter(\"%I:%M %p\"))\n",
    "    ax.set_xlim(tick_times[0], tick_times[-1])\n",
    "    ax.set_ylim(0, max(tick_vals) + 1)\n",
    "\n",
    "    ax.set_title(\"Concurrency over time (labels active per minute)\")\n",
    "    ax.set_ylabel(\"Concurrent labels\")\n",
    "    ax.set_xlabel(\"Time\")\n",
    "    ax.grid(axis=\"both\", linestyle=\":\", alpha=0.35)\n",
    "    plt.tight_layout()\n",
    "    plt.show()\n",
    "\n",
    "# Example\n",
    "plot_concurrency_track(signals, hold_minutes=45)\n"
   ]
  },
  {
   "cell_type": "code",
   "execution_count": 80,
   "id": "37b10408",
   "metadata": {},
   "outputs": [
    {
     "data": {
      "image/png": "[encoded data removed]",
      "text/plain": [
       "<Figure size 900x280 with 1 Axes>"
      ]
     },
     "metadata": {},
     "output_type": "display_data"
    }
   ],
   "source": [
    "import matplotlib.pyplot as plt\n",
    "import matplotlib.dates as mdates\n",
    "from datetime import datetime, timedelta\n",
    "from collections import Counter\n",
    "\n",
    "def plot_crowding_fixed(\n",
    "    signals,\n",
    "    hold_minutes=45,\n",
    "    date_anchor=\"2025-01-01\",\n",
    "    tick_every=15,\n",
    "    compact=False,\n",
    "    figsize=(9, 4)\n",
    "):\n",
    "    \"\"\"\n",
    "    signals: list of 'HH:MM AM/PM' strings\n",
    "    hold_minutes: duration of each label\n",
    "    compact: if True, draw a single-row broken timeline to avoid crowding\n",
    "    \"\"\"\n",
    "    parse = lambda s: datetime.strptime(f\"{date_anchor} {s}\", \"%Y-%m-%d %I:%M %p\")\n",
    "    starts = [parse(s) for s in signals]\n",
    "    ends = [s + timedelta(minutes=hold_minutes) for s in starts]\n",
    "    t0, t1 = starts[0], ends[-1]\n",
    "\n",
    "    # Build x ticks at a fixed grid (e.g., 15 minutes)\n",
    "    ticks_dt = []\n",
    "    cur = t0.replace(second=0, microsecond=0)\n",
    "    while cur <= t1:\n",
    "        ticks_dt.append(cur)\n",
    "        cur += timedelta(minutes=tick_every)\n",
    "\n",
    "    # Minute-resolution concurrency\n",
    "    # Count number of active trades for each minute\n",
    "    minute_counts = Counter()\n",
    "    for s, e in zip(starts, ends):\n",
    "        cur = s.replace(second=0, microsecond=0)\n",
    "        while cur < e:\n",
    "            minute_counts[cur] += 1\n",
    "            cur += timedelta(minutes=1)\n",
    "\n",
    "    # Identify true peak band: longest contiguous interval at max concurrency\n",
    "    if minute_counts:\n",
    "        max_c = max(minute_counts.values())  # expected 4\n",
    "        # collect contiguous minute intervals at max_c\n",
    "        max_minutes = sorted([m for m, c in minute_counts.items() if c == max_c])\n",
    "        # group into contiguous blocks\n",
    "        bands = []\n",
    "        block_start = max_minutes[0]\n",
    "        for i in range(1, len(max_minutes)):\n",
    "            if (max_minutes[i] - max_minutes[i-1]) != timedelta(minutes=1):\n",
    "                bands.append((block_start, max_minutes[i-1]))\n",
    "                block_start = max_minutes[i]\n",
    "        bands.append((block_start, max_minutes[-1]))\n",
    "        # choose the longest block as the peak band\n",
    "        peak_start, peak_end = max(bands, key=lambda x: x[1] - x[0])\n",
    "        # widen to tick boundaries for clear annotation\n",
    "        # snap to nearest quarter-hour\n",
    "        def snap_down(dt):\n",
    "            m = (dt.minute // 15) * 15\n",
    "            return dt.replace(minute=m, second=0, microsecond=0)\n",
    "        def snap_up(dt):\n",
    "            m = ((dt.minute + 14) // 15) * 15\n",
    "            return dt.replace(minute=(m % 60), second=0, microsecond=0) + timedelta(hours=(dt.minute + 14) // 60)\n",
    "        band_start = snap_down(peak_start)\n",
    "        band_end = snap_up(peak_end + timedelta(minutes=1))\n",
    "    else:\n",
    "        max_c, band_start, band_end = 0, None, None\n",
    "\n",
    "    fig, ax = plt.subplots(figsize=figsize)\n",
    "\n",
    "    if compact:\n",
    "        # Single-row broken timeline to avoid vertical crowding\n",
    "        # Use broken_barh with segments for each trade\n",
    "        spans = [(s, (e - s)) for s, e in zip(starts, ends)]\n",
    "        # matplotlib's broken_barh expects numeric; use dates with barh instead\n",
    "        # So emulate broken look by drawing semi-transparent bars all on y=0\n",
    "        for s, e in zip(starts, ends):\n",
    "            ax.barh(\n",
    "                y=0, left=s, width=e - s, height=0.8,\n",
    "                color=\"#4db6ac\", alpha=0.65, edgecolor=\"none\"\n",
    "            )\n",
    "        ax.set_yticks([0])\n",
    "        ax.set_yticklabels([\"Labels\"])\n",
    "    else:\n",
    "        # Full timeline with one row per signal\n",
    "        for i, (s, e) in enumerate(zip(starts, ends)):\n",
    "            ax.barh(\n",
    "                y=i, left=s, width=e - s, height=0.6,\n",
    "                color=\"#4db6ac\", edgecolor=\"none\"\n",
    "            )\n",
    "        ax.set_yticks(range(len(signals)))\n",
    "        ax.set_yticklabels(signals)\n",
    "        ax.invert_yaxis()\n",
    "\n",
    "    # Exact peak band overlay\n",
    "    if band_start and band_end and max_c > 0:\n",
    "        ax.axvspan(band_start, band_end, color=\"#ffca28\", alpha=0.2)\n",
    "        ax.text(\n",
    "            band_start + (band_end - band_start)/2,\n",
    "            (0 if compact else -0.6),\n",
    "            f\"Peak overlap: {max_c} concurrent\",\n",
    "            ha=\"center\", va=\"bottom\", fontsize=10, color=\"#8d6e63\"\n",
    "        )\n",
    "\n",
    "    ax.set_xticks(ticks_dt)\n",
    "    ax.xaxis.set_major_formatter(mdates.DateFormatter(\"%I:%M %p\"))\n",
    "    ax.set_xlim(ticks_dt[0], ticks_dt[-1])\n",
    "\n",
    "    ax.set_title(\"Crowding from periodic signals (45-minute holds)\")\n",
    "    ax.set_xlabel(\"Time\")\n",
    "    ax.grid(axis=\"x\", linestyle=\":\", alpha=0.35)\n",
    "    plt.tight_layout()\n",
    "    plt.show()\n",
    "\n",
    "\n",
    "# Example\n",
    "signals = [\n",
    "    \"10:00 AM\", \"10:15 AM\", \"10:30 AM\", \"10:45 AM\",\n",
    "    \"11:00 AM\", \"11:15 AM\", \"11:30 AM\", \"11:45 AM\",\n",
    "]\n",
    "plot_crowding_fixed(signals, hold_minutes=45, compact=True, figsize=(9, 2.8))\n"
   ]
  },
  {
   "cell_type": "code",
   "execution_count": null,
   "id": "235d5338",
   "metadata": {},
   "outputs": [],
   "source": [
    "linear_plt, exp_plt = [], []\n",
    "for decay, decay_w in time_decay_weights.items():\n",
    "    if decay.startswith('linear'):\n",
    "        linear_plt.append(decay_w)\n",
    "    else:\n",
    "        exp_plt.append(decay_w)\n",
    "fig, (ax1, ax2) = plt.subplots(1, 2, figsize=(7.5, 5), sharey=True, dpi=100)\n",
    "for w in linear_plt:\n",
    "    ax1.plot(w, alpha=0.7)\n",
    "for w in exp_plt:\n",
    "    ax2.plot(w, alpha=0.7)\n",
    "\n",
    "ax1.set_title('Linear')\n",
    "ax2.set_title('Exponential')\n",
    "\n",
    "\n",
    "import matplotlib.dates as mdates\n",
    "import matplotlib.pyplot as plt\n",
    "\n",
    "# ax1 and ax2 are your two axes (left/right)\n",
    "axes = [ax1, ax2]\n",
    "\n",
    "for ax in axes:\n",
    "    # show one tick per year on the major axis\n",
    "    ax.xaxis.set_major_locator(mdates.YearLocator())\n",
    "    # format the major ticks as four-digit years\n",
    "    ax.xaxis.set_major_formatter(mdates.DateFormatter('%Y'))\n",
    "    # optionally remove minor ticks\n",
    "    # ax.xaxis.set_minor_locator(mdates.NullLocator())\n",
    "    # tighten the view and improve spacing\n",
    "    ax.set_xlim(pd.to_datetime(sample_start), pd.to_datetime(cont_train.t1.max()))\n",
    "    ax.tick_params(axis='x', which='major', rotation=0, labelsize=10)\n",
    "\n",
    "fig.suptitle(\"Time-Decay Factors\")\n",
    "fig.subplots_adjust(top=0.88)\n",
    "plt.tight_layout();\n",
    "\n",
    "\n",
    "fig.savefig(\"time_decay_factors.png\")\n"
   ]
  },
  {
   "cell_type": "markdown",
   "id": "3f12eaa3",
   "metadata": {},
   "source": [
    "### **Key Insights from the Results**\n",
    "\n",
    "The experimental results reveal a nuanced and strategy-dependent picture of how sample weighting impacts model performance. The effectiveness of each weighting method varies significantly based on the underlying trading logic.\n",
    "\n",
    "#### **1. Uniqueness Weighting: A Robust Default for Meta-Labeling**\n",
    "The **uniqueness weighting** method demonstrated consistent and meaningful improvements across both strategies, establishing itself as a robust default choice.\n",
    "*   **Bollinger Bands Strategy:** Uniqueness weighting delivered a well-rounded performance boost. Accuracy improved from 56.4% to 58.4%, but more importantly, the **F1 score saw a substantial 6.7% increase** (from 0.622 to 0.663). This indicates a superior balance between precision and recall, meaning the model became better at filtering out false signals while capturing true opportunities. The improvement in probability-weighted accuracy further confirms that the model's confidence became better calibrated on unique, non-redundant examples.\n",
    "*   **MA Crossover Strategy:** The benefits were even more pronounced. Uniqueness weighting led to a **7.5% increase in accuracy** (58.9% to 63.4%) and a remarkable **10.2% boost in probability-weighted accuracy** (67.2% to 74.0%). While the F1 score saw a slight dip, the dramatic gains in confidence-weighted metrics are critical for a meta-labeling model, where the goal is to size positions based on the probability of a primary signal's success.\n",
    "\n",
    "#### **2. Return Attribution Weighting: A Cautionary Tale**\n",
    "In stark contrast to the success of uniqueness weighting, the **return attribution method** produced extreme and undesirable outcomes, highlighting a critical pitfall.\n",
    "*   **Bollinger Bands Strategy:** The model collapsed into a trivial classifier. Precision, recall, and F1 score all dropped to zero, while accuracy paradoxically jumped to 69.3%. This pattern is a classic sign of a model that has learned to always predict the majority class (likely `0`, or \"do not take the trade\"). It overfitted to the magnitude of past returns, completely losing its predictive power for the classification task.\n",
    "*   **MA Crossover Strategy:** A similar, though slightly different, failure mode occurred. The model achieved a perfect recall of 1.0 and a 64.2% F1 score, but with an accuracy of only 47.3%. This suggests the model learned to predict the positive class (`1`, or \"take the trade\") almost indiscriminately, capturing all true positives but also generating a massive number of false positives. This behavior is untenable for a live trading system.\n",
    "\n",
    "The failure of return attribution underscores that **concurrency and return magnitude are distinct concepts**. Weighting by returns alone corrupts the learning signal, causing the model to chase past profits rather than learn generalizable patterns from unique informational events.\n",
    "\n",
    "#### **3. The Pervasiveness of the Concurrency Problem**\n",
    "The significant performance gains from uniqueness weighting on both a mean-reversion (Bollinger Bands) and a trend-following (MA Crossover) strategy provide strong evidence that **label concurrency is a universal challenge in financial ML**. It is not an edge case but a fundamental data leakage problem that biases models regardless of the core strategy's logic. Addressing it is not optional for robust model development.\n",
    "\n",
    "### **Conclusion**\n",
    "\n",
    "This article has tackled one of the most insidious problems in financial machine learning: the violation of the IID assumption due to label concurrency. Our experimental results deliver a clear and actionable verdict: **sample weighting based on temporal uniqueness is a powerful and necessary technique for building robust meta-labeling classifiers, while weighting by return attribution is a dangerous distraction.**\n",
    "\n",
    "The uniqueness weighting method consistently improved model performance by ensuring that each observation's influence during training was proportional to its unique information content. For the Bollinger Bands strategy, it enhanced the precision-recall balance (F1 score). For the MA Crossover strategy, it significantly boosted both standard and probability-weighted accuracy. In both cases, it steered the model away from learning spurious patterns from temporally redundant data.\n",
    "\n",
    "Conversely, the dramatic failure of return attribution weighting serves as a critical warning. It demonstrates that conflating an observation's informational uniqueness with its financial return leads to pathological model behavior, either causing total predictive collapse or encouraging reckless over-trading.\n",
    "\n",
    "For the practitioner, these findings translate into a clear mandate:\n",
    "1.  **Always Account for Concurrency:** The IID assumption is fundamentally flawed for financial time series. Ignoring label concurrency will lead to overfit models and live trading losses.\n",
    "2.  **Implement Uniqueness Weighting:** The method outlined here, which calculates the average uniqueness of each triple-barrier label, is a tractable and highly effective solution. It should be a standard component of any financial ML pipeline.\n",
    "3.  **Avoid Naive Return Weighting:** Do not use absolute returns as sample weights for classification models. While returns are crucial for evaluating strategy performance, they are a misleading proxy for an observation's value during training.\n",
    "4.  **Validate with the Right Metrics:** As shown, accuracy alone can be deceptive. A combination of log-loss, F1 score, and probability-weighted accuracy is essential to properly diagnose a model's performance and calibration.\n",
    "\n",
    "By adopting sample weighting based on temporal uniqueness, we move from training models on a distorted, redundant view of the market to training them on a dataset that reflects the true frequency and independence of informational events. This is a foundational step toward developing machine learning models that generalize beyond the backtest and succeed in the adaptive, non-IID reality of financial markets.\n",
    "\n",
    "In the next article of this series, we will take this a step further by exploring **Sequential Bootstrapping**—a more advanced sampling technique that actively prevents overlapping observations from appearing in the same training set, thereby addressing the root of the concurrency problem during the data resampling stage itself."
   ]
  }
 ],
 "metadata": {
  "kernelspec": {
   "display_name": "mlfinlab_env",
   "language": "python",
   "name": "python3"
  },
  "language_info": {
   "codemirror_mode": {
    "name": "ipython",
    "version": 3
   },
   "file_extension": ".py",
   "mimetype": "text/x-python",
   "name": "python",
   "nbconvert_exporter": "python",
   "pygments_lexer": "ipython3",
   "version": "3.10.18"
  }
 },
 "nbformat": 4,
 "nbformat_minor": 5
}
