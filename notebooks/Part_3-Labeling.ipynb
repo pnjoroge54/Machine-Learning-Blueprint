{
 "cells": [
  {
   "cell_type": "markdown",
   "id": "883cfcc8",
   "metadata": {
    "vscode": {
     "languageId": "plaintext"
    }
   },
   "source": [
    "# Meta-Labeling Experiments: A Step-by-Step Guide\n",
    "\n",
    "## Introduction\n",
    "\n",
    "This notebook recreates the meta-labeling experiments from Hudson & Thames' research in a beginner-friendly manner. Meta-labeling is a machine learning technique that sits on top of a primary trading strategy to improve performance by filtering out false positive signals.\n",
    "\n",
    "**Key Concepts:**\n",
    "- **Primary Model**: Generates trading signals (buy/sell/hold)\n",
    "- **Triple Barrier Method**: Advanced labeling technique that accounts for stop-loss, take-profit, and time-based exits\n",
    "- **Meta-Labeling**: Secondary ML model that decides whether to act on primary model signals\n",
    "- **Goal**: Improve Sharpe ratio, reduce drawdown, and increase precision\n",
    "\n",
    "## Setup and Dependencies"
   ]
  },
  {
   "cell_type": "code",
   "execution_count": 1,
   "id": "b1e50b0d",
   "metadata": {},
   "outputs": [],
   "source": [
    "import sys\n",
    "sys.path.append(\"..\")  # Adjust based on your directory structure\n",
    "\n",
    "%load_ext autoreload\n",
    "%load_ext line_profiler\n",
    "%autoreload 3 -p\n",
    "\n",
    "# %aimport afml"
   ]
  },
  {
   "cell_type": "code",
   "execution_count": 2,
   "id": "2507ee02",
   "metadata": {},
   "outputs": [],
   "source": [
    "import warnings\n",
    "import winsound\n",
    "from datetime import timedelta, datetime as dt\n",
    "from pprint import pprint\n",
    "from pathlib import Path\n",
    "\n",
    "import pandas_ta as ta\n",
    "import talib\n",
    "import matplotlib.pyplot as plt\n",
    "import MetaTrader5 as mt5\n",
    "import seaborn as sns\n",
    "from sklearn.ensemble import RandomForestClassifier\n",
    "from feature_engine.selection import DropCorrelatedFeatures\n",
    "\n",
    "from afml.backtest_statistics.reporting import (\n",
    "    create_classification_report_image,\n",
    "    meta_labelling_reports,\n",
    ")\n",
    "\n",
    "from afml.data_structures.bars import *\n",
    "from afml.features import get_time_features, get_fractal_features\n",
    "from afml.filters import cusum_filter\n",
    "from afml.labeling import (\n",
    "    add_vertical_barrier,\n",
    "    calculate_label_metrics,\n",
    "    fixed_time_horizon,\n",
    "    get_bins,\n",
    "    get_bins_from_trend,\n",
    "    get_events,\n",
    "    triple_barrier_labels,\n",
    "    get_trend_scanning_meta_labels,\n",
    "\n",
    ")\n",
    "from afml.strategies import (\n",
    "    BaseStrategy,\n",
    "    BollingerMeanReversionStrategy,\n",
    "    MovingAverageCrossoverStrategy,\n",
    "    TripleBarrierEvaluator,\n",
    "    create_bollinger_features,\n",
    "    get_entries,\n",
    ")\n",
    "from afml.util import (\n",
    "    COMMODITIES,\n",
    "    CLEAN_DATA_PATH,\n",
    "    CRYPTO,\n",
    "    DATA_PATH,\n",
    "    FX_MAJORS,\n",
    "    PERCENTILES,\n",
    "    UTC,\n",
    "    DataFrameFormatter,\n",
    "    get_daily_vol,\n",
    "    value_counts_data,\n",
    ")\n",
    "from afml.mt5.get_data import (\n",
    "    get_ticks,\n",
    "    load_tick_data,\n",
    "    login_mt5,\n",
    "    save_data_to_parquet,\n",
    "    verify_or_create_account_info,\n",
    ")\n",
    "from notebooks.training import train_meta_model, compare_roc_curves, meta_labelling_classification_reports\n",
    "\n",
    "warnings.filterwarnings(\"ignore\")\n",
    "plt.style.use(\"dark_background\")\n"
   ]
  },
  {
   "cell_type": "code",
   "execution_count": 3,
   "id": "015d7b36",
   "metadata": {},
   "outputs": [],
   "source": [
    "# from afml.cache import clear_afml_cache\n",
    "\n",
    "\n",
    "# clear_afml_cache()"
   ]
  },
  {
   "cell_type": "markdown",
   "id": "160822e7",
   "metadata": {},
   "source": [
    "## 1. Data Preparation"
   ]
  },
  {
   "cell_type": "code",
   "execution_count": 4,
   "id": "f816170a",
   "metadata": {},
   "outputs": [],
   "source": [
    "account = \"FundedNext_STLR2_6K\"\n",
    "# account = login_mt5(account=\"FundedNext_STLR2_6K\")\n",
    "symbol = \"EURUSD\"\n",
    "columns = ['bid', 'ask']\n",
    "tick_bar_dict = {\"M1\": 50, \"M5\": 200, \"M15\": 700, \"M30\": 1000, \"H1\": 3000}\n",
    "tick_df = None\n",
    "\n",
    "start_date, end_date = \"2018-01-01\", \"2024-12-31\"\n",
    "sample_start, sample_end = start_date, \"2021-12-31\"\n",
    "oos_start = pd.Timestamp(sample_end) + timedelta(days=1) # Out-of-sample start date\n",
    "\n",
    "\n",
    "def get_data(symbol, timeframe, dirpath=\"../data\"):\n",
    "    \"\"\"Returns time-bars and tick-bars for timeframe\"\"\"\n",
    "    global tick_df\n",
    "    timeframe = timeframe.title()\n",
    "    directory = Path(dirpath)\n",
    "    tick_bar_size = tick_bar_dict[timeframe]\n",
    "    fname = Path(dirpath, f\"{symbol}_{timeframe}_time_{start_date}-{end_date}.parq\")\n",
    "    fname1 = Path(dirpath, f\"{symbol}_{timeframe}_tick-{tick_bar_size}_{start_date}-{end_date}.parq\")\n",
    "    time_bars, tick_bars = (None, None)\n",
    "\n",
    "    # --- Construct the search pattern ---\n",
    "    # The '*' is a wildcard that matches any sequence of characters\n",
    "    search_pattern = f\"{symbol}_{timeframe}_*\"\n",
    "\n",
    "    # --- Find the files ---\n",
    "    # glob() returns a generator, so you can iterate over it\n",
    "    found_files = directory.glob(search_pattern)\n",
    "\n",
    "    # --- Print the results ---\n",
    "    for file in found_files:\n",
    "        if fname == file:\n",
    "            time_bars = pd.read_parquet(fname)\n",
    "            print(\"Loaded\", file.name)\n",
    "        elif fname1 == file:\n",
    "            tick_bars = pd.read_parquet(fname1)\n",
    "            print(\"Loaded\", file.name)\n",
    "        \n",
    "    if any(x is None for x in (time_bars, tick_bars)):\n",
    "        try:\n",
    "            tick_df = load_tick_data(CLEAN_DATA_PATH, symbol, start_date, end_date, account, columns)\n",
    "        except FileNotFoundError:\n",
    "            save_data_to_parquet(CLEAN_DATA_PATH, symbol, start_date, end_date, account)\n",
    "        if time_bars is None:\n",
    "            time_bars = make_bars(tick_df, bar_type=\"time\", timeframe=timeframe, price=\"bid_ask\", verbose=True)\n",
    "            time_bars.to_parquet(fname)\n",
    "        if tick_bars is None:\n",
    "            tick_bar_size = calculate_ticks_per_period(tick_df, timeframe)\n",
    "            tick_bar_dict[timeframe] = tick_bar_size\n",
    "            tick_bars = make_bars(tick_df, bar_type=\"tick\", bar_size=tick_bar_size, price=\"bid_ask\", verbose=True)\n",
    "            fname1 = Path(dirpath, f\"{symbol}_{timeframe}_tick-{tick_bar_size}_{start_date}-{end_date}.parq\")\n",
    "            tick_bars.to_parquet(fname1)\n",
    "\n",
    "    return time_bars, tick_bars"
   ]
  },
  {
   "cell_type": "markdown",
   "id": "9129c536",
   "metadata": {},
   "source": [
    "## 2. Bollinger Band Strategy"
   ]
  },
  {
   "cell_type": "code",
   "execution_count": 5,
   "id": "49716f8d",
   "metadata": {},
   "outputs": [
    {
     "name": "stdout",
     "output_type": "stream",
     "text": [
      "Loaded EURUSD_M5_tick-200_2018-01-01-2024-12-31.parq\n",
      "Loaded EURUSD_M5_time_2018-01-01-2024-12-31.parq\n"
     ]
    }
   ],
   "source": [
    "timeframe = \"M5\"\n",
    "tick_bar_size = tick_bar_dict[timeframe]\n",
    "bb_time_bars, bb_tick_bars = get_data(symbol, timeframe)\n",
    "bar_size = f\"tick-{bb_tick_bars.tick_volume.iloc[0]}\"\n",
    "bb_df = bb_time_bars.loc[sample_start : sample_end]\n",
    "bb_df0 = bb_tick_bars.loc[sample_start : sample_end]"
   ]
  },
  {
   "cell_type": "markdown",
   "id": "76ada8a2",
   "metadata": {},
   "source": [
    "### Feature Engineering"
   ]
  },
  {
   "cell_type": "code",
   "execution_count": 6,
   "id": "63d09b56",
   "metadata": {},
   "outputs": [
    {
     "name": "stdout",
     "output_type": "stream",
     "text": [
      "\u001b[32m2025-08-31 00:56:35.387\u001b[0m | \u001b[1mINFO    \u001b[0m | \u001b[36mafml.features.moving_averages\u001b[0m:\u001b[36mcalculate_ma_differences\u001b[0m:\u001b[36m35\u001b[0m - \u001b[1m\n",
      "Dropped features with correlation > 0.8: \n",
      "\t['sma_diff_10_200', 'sma_diff_10_50', 'sma_diff_20_100', 'sma_diff_20_200', 'sma_diff_20_50', 'sma_diff_50_100', 'sma_diff_50_200', 'sma_diff_5_100', 'sma_diff_5_20', 'sma_diff_5_200', 'sma_diff_5_50']\n",
      "Kept features: \n",
      "\t['sma_diff_5_10', 'sma_diff_10_20', 'sma_diff_10_100', 'sma_diff_100_200']\u001b[0m\n",
      "<class 'pandas.core.frame.DataFrame'>\n",
      "DatetimeIndex: 295657 entries, 2018-01-01 23:05:00 to 2021-12-31 23:00:00\n",
      "Data columns (total 48 columns):\n",
      " #   Column            Non-Null Count   Dtype  \n",
      "---  ------            --------------   -----  \n",
      " 0   rel_spread        295657 non-null  float32\n",
      " 1   bb_bandwidth      295638 non-null  float32\n",
      " 2   bb_percentage     295638 non-null  float64\n",
      " 3   returns           295656 non-null  float32\n",
      " 4   returns_5         295652 non-null  float32\n",
      " 5   returns_10        295647 non-null  float32\n",
      " 6   returns_1_lag_1   295655 non-null  float32\n",
      " 7   returns_5_lag_1   295647 non-null  float32\n",
      " 8   returns_10_lag_1  295637 non-null  float32\n",
      " 9   returns_1_lag_2   295654 non-null  float32\n",
      " 10  returns_5_lag_2   295642 non-null  float32\n",
      " 11  returns_10_lag_2  295627 non-null  float32\n",
      " 12  returns_1_lag_3   295653 non-null  float32\n",
      " 13  returns_5_lag_3   295637 non-null  float32\n",
      " 14  returns_10_lag_3  295617 non-null  float32\n",
      " 15  vol               295652 non-null  float32\n",
      " 16  vol_20            295637 non-null  float32\n",
      " 17  vol_lag_1         295651 non-null  float32\n",
      " 18  vol_lag_2         295650 non-null  float32\n",
      " 19  vol_lag_3         295649 non-null  float32\n",
      " 20  vol_lag_4         295648 non-null  float32\n",
      " 21  vol_lag_5         295647 non-null  float32\n",
      " 22  autocorr          295647 non-null  float32\n",
      " 23  autocorr_1        295646 non-null  float32\n",
      " 24  autocorr_2        295645 non-null  float32\n",
      " 25  autocorr_3        295644 non-null  float32\n",
      " 26  autocorr_4        295643 non-null  float32\n",
      " 27  autocorr_5        295642 non-null  float32\n",
      " 28  H1_vol            295643 non-null  float32\n",
      " 29  H4_vol            295607 non-null  float32\n",
      " 30  D1_vol            295367 non-null  float32\n",
      " 31  returns_skew      295647 non-null  float32\n",
      " 32  returns_kurt      295647 non-null  float32\n",
      " 33  tr                295656 non-null  float32\n",
      " 34  atr               295643 non-null  float32\n",
      " 35  sma_diff_5_10     295643 non-null  float32\n",
      " 36  sma_diff_10_20    295638 non-null  float32\n",
      " 37  sma_diff_10_100   295558 non-null  float32\n",
      " 38  sma_diff_100_200  295458 non-null  float32\n",
      " 39  rsi               295643 non-null  float32\n",
      " 40  stoch_rsi_k       295628 non-null  float32\n",
      " 41  stoch_rsi_d       295626 non-null  float32\n",
      " 42  adx               295630 non-null  float32\n",
      " 43  dmp               295643 non-null  float32\n",
      " 44  dmn               295643 non-null  float32\n",
      " 45  dm_net            295643 non-null  float32\n",
      " 46  macd              295624 non-null  float32\n",
      " 47  macd_hist         295624 non-null  float32\n",
      "dtypes: float32(47), float64(1)\n",
      "memory usage: 65.6 MB\n"
     ]
    }
   ],
   "source": [
    "bb_period, bb_std = 20, 1.5 # Bollinger Band parameters\n",
    "bb_strategy = BollingerMeanReversionStrategy(window=bb_period, num_std=bb_std)\n",
    "\n",
    "# No shifting b/c mean-reversion seems to benefit from contemporaneous information\n",
    "lookback = 10\n",
    "bb_feat = create_bollinger_features(bb_df, lookback, bb_period, bb_std)\n",
    "bb_feat.info()\n",
    "\n",
    "# trend_feat = get_bins_from_trend(bb_df.close, span=(5, bb_period), volatility_threshold=0.1, lookforward=False)\n",
    "# bb_feat = bb_feat.join(trend_feat[['window', 'slope', 't_value', 'rsquared']])\n",
    "\n",
    "# bb_feat = bb_feat.shift() # Avoid look-ahead bias\n"
   ]
  },
  {
   "cell_type": "code",
   "execution_count": 50,
   "id": "b7e0c62e",
   "metadata": {},
   "outputs": [
    {
     "name": "stdout",
     "output_type": "stream",
     "text": [
      "\u001b[32m2025-08-31 01:09:29.333\u001b[0m | \u001b[1mINFO    \u001b[0m | \u001b[36mafml.strategies.genetic_optimizer\u001b[0m:\u001b[36m__init__\u001b[0m:\u001b[36m147\u001b[0m - \u001b[1mGenerating primary signals...\u001b[0m\n",
      "\u001b[32m2025-08-31 01:09:29.483\u001b[0m | \u001b[1mINFO    \u001b[0m | \u001b[36mafml.strategies.strategies\u001b[0m:\u001b[36mget_entries\u001b[0m:\u001b[36m76\u001b[0m - \u001b[1mGenerated 7,834 trade events generated by CUSUM filter.\u001b[0m\n"
     ]
    }
   ],
   "source": [
    "target_vol_params = dict(days=1, lookback=100)\n",
    "tb_evaluator = TripleBarrierEvaluator(\n",
    "    bb_strategy, bb_df, target_vol_params,\n",
    "    target_vol_multiplier=1,\n",
    "    filter_events=True,\n",
    "    vertical_barrier_zero=True,\n",
    "    on_crossover=True,\n",
    "    )\n",
    "pt_barrier, sl_barrier, time_horizon = (2, 1, 20)"
   ]
  },
  {
   "cell_type": "markdown",
   "id": "bd2284a3",
   "metadata": {},
   "source": [
    "### Fixed-Time Horizon Method"
   ]
  },
  {
   "cell_type": "code",
   "execution_count": 8,
   "id": "917ed43f",
   "metadata": {},
   "outputs": [],
   "source": [
    "bb_events_fh = tb_evaluator.evaluate_performance(0, 0, time_horizon)\n",
    "bb_events_fh_metrics = tb_evaluator.calculate_strategy_metrics(bb_events_fh)"
   ]
  },
  {
   "cell_type": "markdown",
   "id": "fbe1c961",
   "metadata": {},
   "source": [
    "### Triple-Barrier Method"
   ]
  },
  {
   "cell_type": "code",
   "execution_count": 9,
   "id": "c5b85936",
   "metadata": {},
   "outputs": [],
   "source": [
    "bb_events_tbl = tb_evaluator.evaluate_performance(pt_barrier, sl_barrier, time_horizon)\n",
    "bb_events_tbl_metrics = tb_evaluator.calculate_strategy_metrics(bb_events_tbl)"
   ]
  },
  {
   "cell_type": "code",
   "execution_count": 10,
   "id": "99347f48",
   "metadata": {},
   "outputs": [
    {
     "name": "stdout",
     "output_type": "stream",
     "text": [
      "Bollinger_w20_std1.5: \n",
      "\n"
     ]
    },
    {
     "data": {
      "application/vnd.microsoft.datawrangler.viewer.v0+json": {
       "columns": [
        {
         "name": "index",
         "rawType": "object",
         "type": "string"
        },
        {
         "name": "fixed_horizon",
         "rawType": "object",
         "type": "unknown"
        },
        {
         "name": "triple_barrier",
         "rawType": "object",
         "type": "unknown"
        }
       ],
       "ref": "2c4543ac-b641-40fb-9697-09fbd7808475",
       "rows": [
        [
         "total_return",
         "0.7241012537477265",
         "0.44250574612289384"
        ],
        [
         "annualized_return",
         "0.14620521633509376",
         "0.0961279162955786"
        ],
        [
         "volatility",
         "0.40575751343050065",
         "0.3779885946830118"
        ],
        [
         "downside_volatility",
         "0.2756656323319422",
         "0.22772266577491074"
        ],
        [
         "sharpe_ratio",
         "12.887154034218703",
         "9.347378863519616"
        ],
        [
         "sortino_ratio",
         "18.968848354022835",
         "15.515375198021841"
        ],
        [
         "var_95",
         "-0.0022262135016876405",
         "-0.0020002128460850643"
        ],
        [
         "cvar_95",
         "-0.0032808483511186023",
         "-0.002784395575736406"
        ],
        [
         "skewness",
         "0.3377669424555541",
         "0.4260032253809848"
        ],
        [
         "kurtosis",
         "4.533642058987901",
         "3.027380230270782"
        ],
        [
         "probabilistic_sharpe_ratio",
         "0.9999878919528811",
         "0.9989019507420437"
        ],
        [
         "pos_concentration",
         "0.0002659671446065537",
         "0.00023204701178845645"
        ],
        [
         "neg_concentration",
         "0.0002579059153697859",
         "0.0001809528881067443"
        ],
        [
         "time_concentration",
         "0.003162863600413463",
         "0.003162863600413463"
        ],
        [
         "max_drawdown",
         "0.08073977476312066",
         "0.10755553769081327"
        ],
        [
         "avg_drawdown",
         "0.005334361215471346",
         "0.0048623376042068005"
        ],
        [
         "drawdown_duration",
         "6 days 10:12:37",
         "7 days 07:54:30"
        ],
        [
         "ulcer_index",
         "0.010663781807425082",
         "0.010718132537269724"
        ],
        [
         "calmar_ratio",
         "1.8108202154890778",
         "0.8937514363222717"
        ],
        [
         "num_trades",
         "7826",
         "7826"
        ],
        [
         "trades_per_year",
         "1959",
         "1959"
        ],
        [
         "win_rate",
         "0.5292614362381804",
         "0.5102223358037311"
        ],
        [
         "avg_win",
         "0.0010568783587700209",
         "0.0010572723986412421"
        ],
        [
         "avg_loss",
         "-0.0010422887318606308",
         "-0.0010075260180561984"
        ],
        [
         "best_trade",
         "0.011397361797839567",
         "0.011067271398325751"
        ],
        [
         "worst_trade",
         "-0.009447455354591239",
         "-0.0073644518623537936"
        ],
        [
         "profit_factor",
         "1.144720196669541",
         "1.097186047852627"
        ],
        [
         "expectancy",
         "6.871945743047064e-05",
         "4.5980253075015415e-05"
        ],
        [
         "kelly_criterion",
         "0.065021160533976",
         "0.043489504818348734"
        ],
        [
         "consecutive_wins",
         "22",
         "11"
        ],
        [
         "consecutive_losses",
         "11",
         "10"
        ],
        [
         "avg_trade_duration",
         "0 days 09:53:21",
         "0 days 09:53:21"
        ],
        [
         "ratio_of_longs",
         "0.5074111934577051",
         "0.5074111934577051"
        ]
       ],
       "shape": {
        "columns": 2,
        "rows": 33
       }
      },
      "text/html": [
       "<div>\n",
       "<style scoped>\n",
       "    .dataframe tbody tr th:only-of-type {\n",
       "        vertical-align: middle;\n",
       "    }\n",
       "\n",
       "    .dataframe tbody tr th {\n",
       "        vertical-align: top;\n",
       "    }\n",
       "\n",
       "    .dataframe thead th {\n",
       "        text-align: right;\n",
       "    }\n",
       "</style>\n",
       "<table border=\"1\" class=\"dataframe\">\n",
       "  <thead>\n",
       "    <tr style=\"text-align: right;\">\n",
       "      <th></th>\n",
       "      <th>fixed_horizon</th>\n",
       "      <th>triple_barrier</th>\n",
       "    </tr>\n",
       "  </thead>\n",
       "  <tbody>\n",
       "    <tr>\n",
       "      <th>total_return</th>\n",
       "      <td>0.724101</td>\n",
       "      <td>0.442506</td>\n",
       "    </tr>\n",
       "    <tr>\n",
       "      <th>annualized_return</th>\n",
       "      <td>0.146205</td>\n",
       "      <td>0.096128</td>\n",
       "    </tr>\n",
       "    <tr>\n",
       "      <th>volatility</th>\n",
       "      <td>0.405758</td>\n",
       "      <td>0.377989</td>\n",
       "    </tr>\n",
       "    <tr>\n",
       "      <th>downside_volatility</th>\n",
       "      <td>0.275666</td>\n",
       "      <td>0.227723</td>\n",
       "    </tr>\n",
       "    <tr>\n",
       "      <th>sharpe_ratio</th>\n",
       "      <td>12.887154</td>\n",
       "      <td>9.347379</td>\n",
       "    </tr>\n",
       "    <tr>\n",
       "      <th>sortino_ratio</th>\n",
       "      <td>18.968848</td>\n",
       "      <td>15.515375</td>\n",
       "    </tr>\n",
       "    <tr>\n",
       "      <th>var_95</th>\n",
       "      <td>-0.002226</td>\n",
       "      <td>-0.002</td>\n",
       "    </tr>\n",
       "    <tr>\n",
       "      <th>cvar_95</th>\n",
       "      <td>-0.003281</td>\n",
       "      <td>-0.002784</td>\n",
       "    </tr>\n",
       "    <tr>\n",
       "      <th>skewness</th>\n",
       "      <td>0.337767</td>\n",
       "      <td>0.426003</td>\n",
       "    </tr>\n",
       "    <tr>\n",
       "      <th>kurtosis</th>\n",
       "      <td>4.533642</td>\n",
       "      <td>3.02738</td>\n",
       "    </tr>\n",
       "    <tr>\n",
       "      <th>probabilistic_sharpe_ratio</th>\n",
       "      <td>0.999988</td>\n",
       "      <td>0.998902</td>\n",
       "    </tr>\n",
       "    <tr>\n",
       "      <th>pos_concentration</th>\n",
       "      <td>0.000266</td>\n",
       "      <td>0.000232</td>\n",
       "    </tr>\n",
       "    <tr>\n",
       "      <th>neg_concentration</th>\n",
       "      <td>0.000258</td>\n",
       "      <td>0.000181</td>\n",
       "    </tr>\n",
       "    <tr>\n",
       "      <th>time_concentration</th>\n",
       "      <td>0.003163</td>\n",
       "      <td>0.003163</td>\n",
       "    </tr>\n",
       "    <tr>\n",
       "      <th>max_drawdown</th>\n",
       "      <td>0.08074</td>\n",
       "      <td>0.107556</td>\n",
       "    </tr>\n",
       "    <tr>\n",
       "      <th>avg_drawdown</th>\n",
       "      <td>0.005334</td>\n",
       "      <td>0.004862</td>\n",
       "    </tr>\n",
       "    <tr>\n",
       "      <th>drawdown_duration</th>\n",
       "      <td>6 days 10:12:37</td>\n",
       "      <td>7 days 07:54:30</td>\n",
       "    </tr>\n",
       "    <tr>\n",
       "      <th>ulcer_index</th>\n",
       "      <td>0.010664</td>\n",
       "      <td>0.010718</td>\n",
       "    </tr>\n",
       "    <tr>\n",
       "      <th>calmar_ratio</th>\n",
       "      <td>1.81082</td>\n",
       "      <td>0.893751</td>\n",
       "    </tr>\n",
       "    <tr>\n",
       "      <th>num_trades</th>\n",
       "      <td>7826</td>\n",
       "      <td>7826</td>\n",
       "    </tr>\n",
       "    <tr>\n",
       "      <th>trades_per_year</th>\n",
       "      <td>1959</td>\n",
       "      <td>1959</td>\n",
       "    </tr>\n",
       "    <tr>\n",
       "      <th>win_rate</th>\n",
       "      <td>0.529261</td>\n",
       "      <td>0.510222</td>\n",
       "    </tr>\n",
       "    <tr>\n",
       "      <th>avg_win</th>\n",
       "      <td>0.001057</td>\n",
       "      <td>0.001057</td>\n",
       "    </tr>\n",
       "    <tr>\n",
       "      <th>avg_loss</th>\n",
       "      <td>-0.001042</td>\n",
       "      <td>-0.001008</td>\n",
       "    </tr>\n",
       "    <tr>\n",
       "      <th>best_trade</th>\n",
       "      <td>0.011397</td>\n",
       "      <td>0.011067</td>\n",
       "    </tr>\n",
       "    <tr>\n",
       "      <th>worst_trade</th>\n",
       "      <td>-0.009447</td>\n",
       "      <td>-0.007364</td>\n",
       "    </tr>\n",
       "    <tr>\n",
       "      <th>profit_factor</th>\n",
       "      <td>1.14472</td>\n",
       "      <td>1.097186</td>\n",
       "    </tr>\n",
       "    <tr>\n",
       "      <th>expectancy</th>\n",
       "      <td>0.000069</td>\n",
       "      <td>0.000046</td>\n",
       "    </tr>\n",
       "    <tr>\n",
       "      <th>kelly_criterion</th>\n",
       "      <td>0.065021</td>\n",
       "      <td>0.04349</td>\n",
       "    </tr>\n",
       "    <tr>\n",
       "      <th>consecutive_wins</th>\n",
       "      <td>22</td>\n",
       "      <td>11</td>\n",
       "    </tr>\n",
       "    <tr>\n",
       "      <th>consecutive_losses</th>\n",
       "      <td>11</td>\n",
       "      <td>10</td>\n",
       "    </tr>\n",
       "    <tr>\n",
       "      <th>avg_trade_duration</th>\n",
       "      <td>0 days 09:53:21</td>\n",
       "      <td>0 days 09:53:21</td>\n",
       "    </tr>\n",
       "    <tr>\n",
       "      <th>ratio_of_longs</th>\n",
       "      <td>0.507411</td>\n",
       "      <td>0.507411</td>\n",
       "    </tr>\n",
       "  </tbody>\n",
       "</table>\n",
       "</div>"
      ],
      "text/plain": [
       "                              fixed_horizon   triple_barrier\n",
       "total_return                       0.724101         0.442506\n",
       "annualized_return                  0.146205         0.096128\n",
       "volatility                         0.405758         0.377989\n",
       "downside_volatility                0.275666         0.227723\n",
       "sharpe_ratio                      12.887154         9.347379\n",
       "sortino_ratio                     18.968848        15.515375\n",
       "var_95                            -0.002226           -0.002\n",
       "cvar_95                           -0.003281        -0.002784\n",
       "skewness                           0.337767         0.426003\n",
       "kurtosis                           4.533642          3.02738\n",
       "probabilistic_sharpe_ratio         0.999988         0.998902\n",
       "pos_concentration                  0.000266         0.000232\n",
       "neg_concentration                  0.000258         0.000181\n",
       "time_concentration                 0.003163         0.003163\n",
       "max_drawdown                        0.08074         0.107556\n",
       "avg_drawdown                       0.005334         0.004862\n",
       "drawdown_duration           6 days 10:12:37  7 days 07:54:30\n",
       "ulcer_index                        0.010664         0.010718\n",
       "calmar_ratio                        1.81082         0.893751\n",
       "num_trades                             7826             7826\n",
       "trades_per_year                        1959             1959\n",
       "win_rate                           0.529261         0.510222\n",
       "avg_win                            0.001057         0.001057\n",
       "avg_loss                          -0.001042        -0.001008\n",
       "best_trade                         0.011397         0.011067\n",
       "worst_trade                       -0.009447        -0.007364\n",
       "profit_factor                       1.14472         1.097186\n",
       "expectancy                         0.000069         0.000046\n",
       "kelly_criterion                    0.065021          0.04349\n",
       "consecutive_wins                         22               11\n",
       "consecutive_losses                       11               10\n",
       "avg_trade_duration          0 days 09:53:21  0 days 09:53:21\n",
       "ratio_of_longs                     0.507411         0.507411"
      ]
     },
     "execution_count": 10,
     "metadata": {},
     "output_type": "execute_result"
    }
   ],
   "source": [
    "print(f\"Bollinger_w{bb_period}_std{bb_std}: \\n\")\n",
    "\n",
    "bb_metrics_df = pd.DataFrame({\n",
    "    \"fixed_horizon\": bb_events_fh_metrics,\n",
    "    \"triple_barrier\": bb_events_tbl_metrics,\n",
    "    })\n",
    "bb_metrics_df"
   ]
  },
  {
   "cell_type": "markdown",
   "id": "d44c8eef",
   "metadata": {},
   "source": [
    "### Trend-Scanning Method"
   ]
  },
  {
   "cell_type": "code",
   "execution_count": 11,
   "id": "fd21b790",
   "metadata": {},
   "outputs": [
    {
     "name": "stdout",
     "output_type": "stream",
     "text": [
      "bb_events_trend.shape: (9708, 4), bb_events_trend_mr.shape: (9708, 4)\n",
      "\n",
      "Bollinger_w20_std1.5_trend_scanning: \n",
      "\n"
     ]
    },
    {
     "data": {
      "application/vnd.microsoft.datawrangler.viewer.v0+json": {
       "columns": [
        {
         "name": "index",
         "rawType": "object",
         "type": "string"
        },
        {
         "name": "trend_time",
         "rawType": "object",
         "type": "unknown"
        },
        {
         "name": "trend_time_mr",
         "rawType": "object",
         "type": "unknown"
        }
       ],
       "ref": "bb49a3bd-f035-43d3-881a-87c3ce9a19b1",
       "rows": [
        [
         "total_return",
         "0.9773267507553101",
         "0.4831489324569702"
        ],
        [
         "annualized_return",
         "0.18609937398601506",
         "0.10370969134038477"
        ],
        [
         "volatility",
         "0.3841023532567763",
         "0.29370442720697454"
        ],
        [
         "downside_volatility",
         "0.28097995967271183",
         "0.26142241390806753"
        ],
        [
         "sharpe_ratio",
         "13.715353919911186",
         "10.371923198164382"
        ],
        [
         "sortino_ratio",
         "18.74902296421343",
         "11.652710708359015"
        ],
        [
         "var_95",
         "-0.0021741718053817746",
         "-0.0015202224254608153"
        ],
        [
         "cvar_95",
         "-0.0032179295",
         "-0.002669014"
        ],
        [
         "skewness",
         "0.15795562576344596",
         "0.40842907918703236"
        ],
        [
         "kurtosis",
         "5.509884411881536",
         "15.090679403816491"
        ],
        [
         "probabilistic_sharpe_ratio",
         "0.999999684286184",
         "0.999920702127761"
        ],
        [
         "pos_concentration",
         "0.000257087468264887",
         "0.00048384211208086196"
        ],
        [
         "neg_concentration",
         "0.00020416571453967834",
         "0.0004554131162617244"
        ],
        [
         "time_concentration",
         "0.006702912808796871",
         "0.006702912808796871"
        ],
        [
         "max_drawdown",
         "0.10290444157374312",
         "0.09292710111899638"
        ],
        [
         "avg_drawdown",
         "0.004586820585848823",
         "0.0033505384845761784"
        ],
        [
         "drawdown_duration",
         "4 days 17:43:21",
         "5 days 15:45:42"
        ],
        [
         "ulcer_index",
         "0.009749489723712892",
         "0.008601712060605326"
        ],
        [
         "calmar_ratio",
         "1.8084678478397165",
         "1.1160327836718043"
        ],
        [
         "num_trades",
         "9708",
         "9708"
        ],
        [
         "trades_per_year",
         "2428",
         "2428"
        ],
        [
         "win_rate",
         "0.4434487021013597",
         "0.4426246394725999"
        ],
        [
         "avg_win",
         "0.0011583705",
         "0.0007138176"
        ],
        [
         "avg_loss",
         "-0.0012174995",
         "-0.0007608229"
        ],
        [
         "best_trade",
         "0.011528372764587402",
         "0.011528372764587402"
        ],
        [
         "worst_trade",
         "-0.008803367614746094",
         "-0.008748888969421387"
        ],
        [
         "profit_factor",
         "1.160976",
         "1.1498922"
        ],
        [
         "expectancy",
         "-0.00016392301868794676",
         "-0.00010811068349130123"
        ],
        [
         "kelly_criterion",
         "-0.14151174028319385",
         "-0.15145420810002863"
        ],
        [
         "consecutive_wins",
         "9",
         "10"
        ],
        [
         "consecutive_losses",
         "11",
         "11"
        ],
        [
         "avg_trade_duration",
         "0 days 00:21:23",
         "0 days 00:21:23"
        ],
        [
         "ratio_of_longs",
         "0.5072759765126372",
         "0.5072759765126372"
        ]
       ],
       "shape": {
        "columns": 2,
        "rows": 33
       }
      },
      "text/html": [
       "<div>\n",
       "<style scoped>\n",
       "    .dataframe tbody tr th:only-of-type {\n",
       "        vertical-align: middle;\n",
       "    }\n",
       "\n",
       "    .dataframe tbody tr th {\n",
       "        vertical-align: top;\n",
       "    }\n",
       "\n",
       "    .dataframe thead th {\n",
       "        text-align: right;\n",
       "    }\n",
       "</style>\n",
       "<table border=\"1\" class=\"dataframe\">\n",
       "  <thead>\n",
       "    <tr style=\"text-align: right;\">\n",
       "      <th></th>\n",
       "      <th>trend_time</th>\n",
       "      <th>trend_time_mr</th>\n",
       "    </tr>\n",
       "  </thead>\n",
       "  <tbody>\n",
       "    <tr>\n",
       "      <th>total_return</th>\n",
       "      <td>0.977327</td>\n",
       "      <td>0.483149</td>\n",
       "    </tr>\n",
       "    <tr>\n",
       "      <th>annualized_return</th>\n",
       "      <td>0.186099</td>\n",
       "      <td>0.10371</td>\n",
       "    </tr>\n",
       "    <tr>\n",
       "      <th>volatility</th>\n",
       "      <td>0.384102</td>\n",
       "      <td>0.293704</td>\n",
       "    </tr>\n",
       "    <tr>\n",
       "      <th>downside_volatility</th>\n",
       "      <td>0.28098</td>\n",
       "      <td>0.261422</td>\n",
       "    </tr>\n",
       "    <tr>\n",
       "      <th>sharpe_ratio</th>\n",
       "      <td>13.715354</td>\n",
       "      <td>10.371923</td>\n",
       "    </tr>\n",
       "    <tr>\n",
       "      <th>sortino_ratio</th>\n",
       "      <td>18.749023</td>\n",
       "      <td>11.652711</td>\n",
       "    </tr>\n",
       "    <tr>\n",
       "      <th>var_95</th>\n",
       "      <td>-0.002174</td>\n",
       "      <td>-0.00152</td>\n",
       "    </tr>\n",
       "    <tr>\n",
       "      <th>cvar_95</th>\n",
       "      <td>-0.003218</td>\n",
       "      <td>-0.002669</td>\n",
       "    </tr>\n",
       "    <tr>\n",
       "      <th>skewness</th>\n",
       "      <td>0.157956</td>\n",
       "      <td>0.408429</td>\n",
       "    </tr>\n",
       "    <tr>\n",
       "      <th>kurtosis</th>\n",
       "      <td>5.509884</td>\n",
       "      <td>15.090679</td>\n",
       "    </tr>\n",
       "    <tr>\n",
       "      <th>probabilistic_sharpe_ratio</th>\n",
       "      <td>1.0</td>\n",
       "      <td>0.999921</td>\n",
       "    </tr>\n",
       "    <tr>\n",
       "      <th>pos_concentration</th>\n",
       "      <td>0.000257</td>\n",
       "      <td>0.000484</td>\n",
       "    </tr>\n",
       "    <tr>\n",
       "      <th>neg_concentration</th>\n",
       "      <td>0.000204</td>\n",
       "      <td>0.000455</td>\n",
       "    </tr>\n",
       "    <tr>\n",
       "      <th>time_concentration</th>\n",
       "      <td>0.006703</td>\n",
       "      <td>0.006703</td>\n",
       "    </tr>\n",
       "    <tr>\n",
       "      <th>max_drawdown</th>\n",
       "      <td>0.102904</td>\n",
       "      <td>0.092927</td>\n",
       "    </tr>\n",
       "    <tr>\n",
       "      <th>avg_drawdown</th>\n",
       "      <td>0.004587</td>\n",
       "      <td>0.003351</td>\n",
       "    </tr>\n",
       "    <tr>\n",
       "      <th>drawdown_duration</th>\n",
       "      <td>4 days 17:43:21</td>\n",
       "      <td>5 days 15:45:42</td>\n",
       "    </tr>\n",
       "    <tr>\n",
       "      <th>ulcer_index</th>\n",
       "      <td>0.009749</td>\n",
       "      <td>0.008602</td>\n",
       "    </tr>\n",
       "    <tr>\n",
       "      <th>calmar_ratio</th>\n",
       "      <td>1.808468</td>\n",
       "      <td>1.116033</td>\n",
       "    </tr>\n",
       "    <tr>\n",
       "      <th>num_trades</th>\n",
       "      <td>9708</td>\n",
       "      <td>9708</td>\n",
       "    </tr>\n",
       "    <tr>\n",
       "      <th>trades_per_year</th>\n",
       "      <td>2428</td>\n",
       "      <td>2428</td>\n",
       "    </tr>\n",
       "    <tr>\n",
       "      <th>win_rate</th>\n",
       "      <td>0.443449</td>\n",
       "      <td>0.442625</td>\n",
       "    </tr>\n",
       "    <tr>\n",
       "      <th>avg_win</th>\n",
       "      <td>0.001158</td>\n",
       "      <td>0.000714</td>\n",
       "    </tr>\n",
       "    <tr>\n",
       "      <th>avg_loss</th>\n",
       "      <td>-0.001217</td>\n",
       "      <td>-0.000761</td>\n",
       "    </tr>\n",
       "    <tr>\n",
       "      <th>best_trade</th>\n",
       "      <td>0.011528</td>\n",
       "      <td>0.011528</td>\n",
       "    </tr>\n",
       "    <tr>\n",
       "      <th>worst_trade</th>\n",
       "      <td>-0.008803</td>\n",
       "      <td>-0.008749</td>\n",
       "    </tr>\n",
       "    <tr>\n",
       "      <th>profit_factor</th>\n",
       "      <td>1.160976</td>\n",
       "      <td>1.149892</td>\n",
       "    </tr>\n",
       "    <tr>\n",
       "      <th>expectancy</th>\n",
       "      <td>-0.000164</td>\n",
       "      <td>-0.000108</td>\n",
       "    </tr>\n",
       "    <tr>\n",
       "      <th>kelly_criterion</th>\n",
       "      <td>-0.141512</td>\n",
       "      <td>-0.151454</td>\n",
       "    </tr>\n",
       "    <tr>\n",
       "      <th>consecutive_wins</th>\n",
       "      <td>9</td>\n",
       "      <td>10</td>\n",
       "    </tr>\n",
       "    <tr>\n",
       "      <th>consecutive_losses</th>\n",
       "      <td>11</td>\n",
       "      <td>11</td>\n",
       "    </tr>\n",
       "    <tr>\n",
       "      <th>avg_trade_duration</th>\n",
       "      <td>0 days 00:21:23</td>\n",
       "      <td>0 days 00:21:23</td>\n",
       "    </tr>\n",
       "    <tr>\n",
       "      <th>ratio_of_longs</th>\n",
       "      <td>0.507276</td>\n",
       "      <td>0.507276</td>\n",
       "    </tr>\n",
       "  </tbody>\n",
       "</table>\n",
       "</div>"
      ],
      "text/plain": [
       "                                 trend_time    trend_time_mr\n",
       "total_return                       0.977327         0.483149\n",
       "annualized_return                  0.186099          0.10371\n",
       "volatility                         0.384102         0.293704\n",
       "downside_volatility                 0.28098         0.261422\n",
       "sharpe_ratio                      13.715354        10.371923\n",
       "sortino_ratio                     18.749023        11.652711\n",
       "var_95                            -0.002174         -0.00152\n",
       "cvar_95                           -0.003218        -0.002669\n",
       "skewness                           0.157956         0.408429\n",
       "kurtosis                           5.509884        15.090679\n",
       "probabilistic_sharpe_ratio              1.0         0.999921\n",
       "pos_concentration                  0.000257         0.000484\n",
       "neg_concentration                  0.000204         0.000455\n",
       "time_concentration                 0.006703         0.006703\n",
       "max_drawdown                       0.102904         0.092927\n",
       "avg_drawdown                       0.004587         0.003351\n",
       "drawdown_duration           4 days 17:43:21  5 days 15:45:42\n",
       "ulcer_index                        0.009749         0.008602\n",
       "calmar_ratio                       1.808468         1.116033\n",
       "num_trades                             9708             9708\n",
       "trades_per_year                        2428             2428\n",
       "win_rate                           0.443449         0.442625\n",
       "avg_win                            0.001158         0.000714\n",
       "avg_loss                          -0.001217        -0.000761\n",
       "best_trade                         0.011528         0.011528\n",
       "worst_trade                       -0.008803        -0.008749\n",
       "profit_factor                      1.160976         1.149892\n",
       "expectancy                        -0.000164        -0.000108\n",
       "kelly_criterion                   -0.141512        -0.151454\n",
       "consecutive_wins                          9               10\n",
       "consecutive_losses                       11               11\n",
       "avg_trade_duration          0 days 00:21:23  0 days 00:21:23\n",
       "ratio_of_longs                     0.507276         0.507276"
      ]
     },
     "execution_count": 11,
     "metadata": {},
     "output_type": "execute_result"
    }
   ],
   "source": [
    "from afml.filters.filters import cusum_filter\n",
    "from afml.labeling.trend_scanning import get_trend_scanning_meta_labels\n",
    "from afml.util.volatility import get_daily_vol\n",
    "\n",
    "\n",
    "span = (5, 20)\n",
    "volatility_threshold = 0.1\n",
    "volatility_threshold_mr = 0.85\n",
    "\n",
    "thres = get_daily_vol(bb_df.close).mean()\n",
    "t_events = cusum_filter(bb_df.close, thres)\n",
    "side = bb_strategy.generate_signals(bb_df)\n",
    "close = bb_df.close\n",
    "\n",
    "bb_events_trend = get_trend_scanning_meta_labels(close, side, t_events, span, volatility_threshold)\n",
    "bb_events_trend_metrics = calculate_label_metrics(bb_df.index, side, bb_events_trend)\n",
    "\n",
    "bb_events_trend_mr = get_trend_scanning_meta_labels(close, side, t_events, span, volatility_threshold_mr)\n",
    "bb_events_trend_metrics_mr = calculate_label_metrics(bb_df.index, side, bb_events_trend_mr)\n",
    "\n",
    "print(f\"bb_events_trend.shape: {bb_events_trend.shape}, bb_events_trend_mr.shape: {bb_events_trend_mr.shape}\\n\")\n",
    "print(f\"Bollinger_w{bb_period}_std{bb_std}_trend_scanning: \\n\")\n",
    "bb_events_trend_metrics_all = pd.concat([bb_events_trend_metrics, bb_events_trend_metrics_mr], axis=1)\n",
    "bb_events_trend_metrics_all.columns = [\"trend_time\", \"trend_time_mr\"]\n",
    "bb_events_trend_metrics_all"
   ]
  },
  {
   "cell_type": "markdown",
   "id": "675591d3",
   "metadata": {},
   "source": [
    "### Random Forest"
   ]
  },
  {
   "cell_type": "code",
   "execution_count": 12,
   "id": "10075d44",
   "metadata": {},
   "outputs": [],
   "source": [
    "random_state = 40\n",
    "min_w_leaf = 0.05\n",
    "\n",
    "rf = RandomForestClassifier(\n",
    "    criterion='entropy',\n",
    "    n_estimators=1000,\n",
    "    class_weight='balanced_subsample',\n",
    "    random_state=random_state,\n",
    "    min_weight_fraction_leaf=min_w_leaf,\n",
    "    n_jobs=-1,  # Use all available cores\n",
    "    )\n",
    "\n"
   ]
  },
  {
   "cell_type": "code",
   "execution_count": 13,
   "id": "189b77de",
   "metadata": {},
   "outputs": [
    {
     "name": "stdout",
     "output_type": "stream",
     "text": [
      "Fixed-Time Horizon Meta-Model Results:\n",
      "\n",
      "Primary-Model on Validation Set:\n",
      "              precision    recall  f1-score   support\n",
      "\n",
      "           0       0.00      0.00      0.00      1146\n",
      "           1       0.51      1.00      0.68      1201\n",
      "\n",
      "    accuracy                           0.51      2347\n",
      "   macro avg       0.26      0.50      0.34      2347\n",
      "weighted avg       0.26      0.51      0.35      2347\n",
      "\n",
      "\n",
      "Confusion Matrix:\n",
      "[[   0 1146]\n",
      " [   0 1201]]\n",
      "\n",
      "Meta-Model on Validation Set:\n",
      "              precision    recall  f1-score   support\n",
      "\n",
      "           0       0.48      0.57      0.52      1146\n",
      "           1       0.50      0.40      0.45      1201\n",
      "\n",
      "    accuracy                           0.48      2347\n",
      "   macro avg       0.49      0.49      0.48      2347\n",
      "weighted avg       0.49      0.48      0.48      2347\n",
      "\n",
      "\n",
      "Confusion Matrix:\n",
      "[[653 493]\n",
      " [716 485]]\n"
     ]
    },
    {
     "data": {
      "image/png": "[encoded data removed]",
      "text/plain": [
       "<Figure size 750x500 with 1 Axes>"
      ]
     },
     "metadata": {},
     "output_type": "display_data"
    }
   ],
   "source": [
    "model_bb_fh = train_meta_model(model=rf, features=bb_feat, labels=bb_events_fh)\n",
    "print(\"Fixed-Time Horizon Meta-Model Results:\\n\")\n",
    "meta_labelling_reports(\n",
    "    model_bb_fh.y_test, model_bb_fh.w_test, model_bb_fh.pred, model_bb_fh.prob, plot_roc=True\n",
    "    )"
   ]
  },
  {
   "cell_type": "code",
   "execution_count": 14,
   "id": "cf3a3ab8",
   "metadata": {},
   "outputs": [
    {
     "name": "stdout",
     "output_type": "stream",
     "text": [
      "Triple Barrier Meta-Model Results:\n",
      "\n",
      "Primary-Model on Validation Set:\n",
      "              precision    recall  f1-score   support\n",
      "\n",
      "           0       0.00      0.00      0.00      2186\n",
      "           1       0.07      1.00      0.13       161\n",
      "\n",
      "    accuracy                           0.07      2347\n",
      "   macro avg       0.03      0.50      0.06      2347\n",
      "weighted avg       0.00      0.07      0.01      2347\n",
      "\n",
      "\n",
      "Confusion Matrix:\n",
      "[[   0 2186]\n",
      " [   0  161]]\n",
      "\n",
      "Meta-Model on Validation Set:\n",
      "              precision    recall  f1-score   support\n",
      "\n",
      "           0       0.97      0.71      0.82      2186\n",
      "           1       0.15      0.68      0.24       161\n",
      "\n",
      "    accuracy                           0.71      2347\n",
      "   macro avg       0.56      0.69      0.53      2347\n",
      "weighted avg       0.91      0.71      0.78      2347\n",
      "\n",
      "\n",
      "Confusion Matrix:\n",
      "[[1554  632]\n",
      " [  52  109]]\n"
     ]
    },
    {
     "data": {
      "image/png": "[encoded data removed]",
      "text/plain": [
       "<Figure size 750x500 with 1 Axes>"
      ]
     },
     "metadata": {},
     "output_type": "display_data"
    }
   ],
   "source": [
    "model_bb_tbl = train_meta_model(model=rf, features=bb_feat, labels=bb_events_tbl)\n",
    "print(\"Triple Barrier Meta-Model Results:\\n\")\n",
    "meta_labelling_reports(\n",
    "    model_bb_tbl.y_test, model_bb_tbl.w_test, model_bb_tbl.pred, model_bb_tbl.prob, plot_roc=True\n",
    "    )"
   ]
  },
  {
   "cell_type": "code",
   "execution_count": 15,
   "id": "4a6b990e",
   "metadata": {},
   "outputs": [
    {
     "name": "stdout",
     "output_type": "stream",
     "text": [
      "Trend-Scanning Meta-Model Results:\n",
      "\n",
      "Primary-Model on Validation Set:\n",
      "              precision    recall  f1-score   support\n",
      "\n",
      "           0       0.00      0.00      0.00      1572\n",
      "           1       0.46      1.00      0.63      1337\n",
      "\n",
      "    accuracy                           0.46      2909\n",
      "   macro avg       0.23      0.50      0.31      2909\n",
      "weighted avg       0.21      0.46      0.29      2909\n",
      "\n",
      "\n",
      "Confusion Matrix:\n",
      "[[   0 1572]\n",
      " [   0 1337]]\n",
      "\n",
      "Meta-Model on Validation Set:\n",
      "              precision    recall  f1-score   support\n",
      "\n",
      "           0       0.86      0.32      0.46      1572\n",
      "           1       0.54      0.94      0.69      1337\n",
      "\n",
      "    accuracy                           0.60      2909\n",
      "   macro avg       0.70      0.63      0.58      2909\n",
      "weighted avg       0.71      0.60      0.57      2909\n",
      "\n",
      "\n",
      "Confusion Matrix:\n",
      "[[ 500 1072]\n",
      " [  80 1257]]\n"
     ]
    },
    {
     "data": {
      "image/png": "[encoded data removed]",
      "text/plain": [
       "<Figure size 750x500 with 1 Axes>"
      ]
     },
     "metadata": {},
     "output_type": "display_data"
    }
   ],
   "source": [
    "model_bb_trend = train_meta_model(model=rf, features=bb_feat, labels=bb_events_trend)\n",
    "print(\"Trend-Scanning Meta-Model Results:\\n\")\n",
    "meta_labelling_reports(\n",
    "    model_bb_trend.y_test, model_bb_trend.w_test, model_bb_trend.pred, model_bb_trend.prob, plot_roc=True\n",
    "    )"
   ]
  },
  {
   "cell_type": "code",
   "execution_count": 16,
   "id": "3ee79980",
   "metadata": {},
   "outputs": [
    {
     "name": "stdout",
     "output_type": "stream",
     "text": [
      "Trend-Scanning Mean-Reversion Meta-Model Results:\n",
      "\n",
      "Primary-Model on Validation Set:\n",
      "              precision    recall  f1-score   support\n",
      "\n",
      "           0       0.00      0.00      0.00      2688\n",
      "           1       0.08      1.00      0.14       221\n",
      "\n",
      "    accuracy                           0.08      2909\n",
      "   macro avg       0.04      0.50      0.07      2909\n",
      "weighted avg       0.01      0.08      0.01      2909\n",
      "\n",
      "\n",
      "Confusion Matrix:\n",
      "[[   0 2688]\n",
      " [   0  221]]\n",
      "\n",
      "Meta-Model on Validation Set:\n",
      "              precision    recall  f1-score   support\n",
      "\n",
      "           0       0.99      0.91      0.95      2688\n",
      "           1       0.46      0.92      0.61       221\n",
      "\n",
      "    accuracy                           0.91      2909\n",
      "   macro avg       0.72      0.92      0.78      2909\n",
      "weighted avg       0.95      0.91      0.92      2909\n",
      "\n",
      "\n",
      "Confusion Matrix:\n",
      "[[2444  244]\n",
      " [  17  204]]\n"
     ]
    },
    {
     "data": {
      "image/png": "[encoded data removed]",
      "text/plain": [
       "<Figure size 750x500 with 1 Axes>"
      ]
     },
     "metadata": {},
     "output_type": "display_data"
    }
   ],
   "source": [
    "model_bb_trend_mr = train_meta_model(model=rf, features=bb_feat, labels=bb_events_trend_mr)\n",
    "print(\"Trend-Scanning Mean-Reversion Meta-Model Results:\\n\")\n",
    "meta_labelling_reports(\n",
    "    model_bb_trend_mr.y_test, model_bb_trend_mr.w_test, model_bb_trend_mr.pred, model_bb_trend_mr.prob, plot_roc=True\n",
    "    )"
   ]
  },
  {
   "cell_type": "code",
   "execution_count": 51,
   "id": "551e2d6c",
   "metadata": {},
   "outputs": [
    {
     "data": {
      "image/png": "[encoded data removed]",
      "text/plain": [
       "<Figure size 750x500 with 4 Axes>"
      ]
     },
     "metadata": {},
     "output_type": "display_data"
    }
   ],
   "source": [
    "titles = [\n",
    "    f\"Fixed-Time Horizon (h={time_horizon})\", \n",
    "    f\"Triple Barrier (pt={pt_barrier}, sl={sl_barrier}, h={time_horizon})\", \n",
    "    f\"Trend-Scanning ($\\\\sigma_{{\\\\text{{threshold}}}} = {volatility_threshold}$)\",\n",
    "    f\"Trend-Scanning ($\\\\sigma_{{\\\\text{{threshold}}}} = {volatility_threshold_mr}$)\",\n",
    "    ]\n",
    "bb_models = [model_bb_fh, model_bb_tbl, model_bb_trend, model_bb_trend_mr]\n",
    "bb_roc = compare_roc_curves(bb_models, titles)\n",
    "bb_roc.savefig(\"reports/bb_roc_comparison.png\")"
   ]
  },
  {
   "cell_type": "code",
   "execution_count": 18,
   "id": "a5662f90",
   "metadata": {},
   "outputs": [
    {
     "name": "stdout",
     "output_type": "stream",
     "text": [
      "Classification Report (as text):\n",
      "              precision    recall  f1-score   support\n",
      "\n",
      "           0       0.00      0.00      0.00      1146\n",
      "           1       0.51      1.00      0.68      1201\n",
      "\n",
      "    accuracy                           0.51      2347\n",
      "   macro avg       0.26      0.50      0.34      2347\n",
      "weighted avg       0.26      0.51      0.35      2347\n",
      "\n",
      "\n",
      "Confusion Matrix:\n",
      "[[   0 1146]\n",
      " [   0 1201]]\n",
      "\n",
      "Accuracy:\n",
      "0.5117170856412442\n",
      "\n",
      "Successfully generated and saved 'reports/bb_fixed_time_primary_clf_report.png'\n",
      "Classification Report (as text):\n",
      "              precision    recall  f1-score   support\n",
      "\n",
      "           0       0.48      0.57      0.52      1146\n",
      "           1       0.50      0.40      0.45      1201\n",
      "\n",
      "    accuracy                           0.48      2347\n",
      "   macro avg       0.49      0.49      0.48      2347\n",
      "weighted avg       0.49      0.48      0.48      2347\n",
      "\n",
      "\n",
      "Confusion Matrix:\n",
      "[[653 493]\n",
      " [716 485]]\n",
      "\n",
      "Accuracy:\n",
      "0.48487430762675754\n",
      "\n",
      "Successfully generated and saved 'reports/bb_fixed_time_meta_clf_report.png'\n",
      "Classification reports saved.\n",
      "\n",
      "Classification Report (as text):\n",
      "              precision    recall  f1-score   support\n",
      "\n",
      "           0       0.00      0.00      0.00      2186\n",
      "           1       0.07      1.00      0.13       161\n",
      "\n",
      "    accuracy                           0.07      2347\n",
      "   macro avg       0.03      0.50      0.06      2347\n",
      "weighted avg       0.00      0.07      0.01      2347\n",
      "\n",
      "\n",
      "Confusion Matrix:\n",
      "[[   0 2186]\n",
      " [   0  161]]\n",
      "\n",
      "Accuracy:\n",
      "0.06859821048146571\n",
      "\n",
      "Successfully generated and saved 'reports/bb_triple_barrier_primary_clf_report.png'\n",
      "Classification Report (as text):\n",
      "              precision    recall  f1-score   support\n",
      "\n",
      "           0       0.97      0.71      0.82      2186\n",
      "           1       0.15      0.68      0.24       161\n",
      "\n",
      "    accuracy                           0.71      2347\n",
      "   macro avg       0.56      0.69      0.53      2347\n",
      "weighted avg       0.91      0.71      0.78      2347\n",
      "\n",
      "\n",
      "Confusion Matrix:\n",
      "[[1554  632]\n",
      " [  52  109]]\n",
      "\n",
      "Accuracy:\n",
      "0.7085641244141457\n",
      "\n",
      "Successfully generated and saved 'reports/bb_triple_barrier_meta_clf_report.png'\n",
      "Classification reports saved.\n",
      "\n",
      "Classification Report (as text):\n",
      "              precision    recall  f1-score   support\n",
      "\n",
      "           0       0.00      0.00      0.00      1572\n",
      "           1       0.46      1.00      0.63      1337\n",
      "\n",
      "    accuracy                           0.46      2909\n",
      "   macro avg       0.23      0.50      0.31      2909\n",
      "weighted avg       0.21      0.46      0.29      2909\n",
      "\n",
      "\n",
      "Confusion Matrix:\n",
      "[[   0 1572]\n",
      " [   0 1337]]\n",
      "\n",
      "Accuracy:\n",
      "0.45960811275352353\n",
      "\n",
      "Successfully generated and saved 'reports/bb_trend_scanning_primary_clf_report.png'\n",
      "Classification Report (as text):\n",
      "              precision    recall  f1-score   support\n",
      "\n",
      "           0       0.86      0.32      0.46      1572\n",
      "           1       0.54      0.94      0.69      1337\n",
      "\n",
      "    accuracy                           0.60      2909\n",
      "   macro avg       0.70      0.63      0.58      2909\n",
      "weighted avg       0.71      0.60      0.57      2909\n",
      "\n",
      "\n",
      "Confusion Matrix:\n",
      "[[ 500 1072]\n",
      " [  80 1257]]\n",
      "\n",
      "Accuracy:\n",
      "0.6039876246132692\n",
      "\n",
      "Successfully generated and saved 'reports/bb_trend_scanning_meta_clf_report.png'\n",
      "Classification reports saved.\n",
      "\n",
      "Classification Report (as text):\n",
      "              precision    recall  f1-score   support\n",
      "\n",
      "           0       0.00      0.00      0.00      2688\n",
      "           1       0.08      1.00      0.14       221\n",
      "\n",
      "    accuracy                           0.08      2909\n",
      "   macro avg       0.04      0.50      0.07      2909\n",
      "weighted avg       0.01      0.08      0.01      2909\n",
      "\n",
      "\n",
      "Confusion Matrix:\n",
      "[[   0 2688]\n",
      " [   0  221]]\n",
      "\n",
      "Accuracy:\n",
      "0.07597112409762805\n",
      "\n",
      "Successfully generated and saved 'reports/bb_trend_scanning_mr_primary_clf_report.png'\n",
      "Classification Report (as text):\n",
      "              precision    recall  f1-score   support\n",
      "\n",
      "           0       0.99      0.91      0.95      2688\n",
      "           1       0.46      0.92      0.61       221\n",
      "\n",
      "    accuracy                           0.91      2909\n",
      "   macro avg       0.72      0.92      0.78      2909\n",
      "weighted avg       0.95      0.91      0.92      2909\n",
      "\n",
      "\n",
      "Confusion Matrix:\n",
      "[[2444  244]\n",
      " [  17  204]]\n",
      "\n",
      "Accuracy:\n",
      "0.9102784462014438\n",
      "\n",
      "Successfully generated and saved 'reports/bb_trend_scanning_mr_meta_clf_report.png'\n",
      "Classification reports saved.\n",
      "\n"
     ]
    }
   ],
   "source": [
    "dirpath = \"reports\"\n",
    "meta_labelling_classification_reports(model_data=model_bb_fh, title=\"Fixed-Time Horizon\", output_filename=f\"{dirpath}/bb_fixed_time\")\n",
    "meta_labelling_classification_reports(model_data=model_bb_tbl, title=\"Triple Barrier\", output_filename=f\"{dirpath}/bb_triple_barrier\")\n",
    "meta_labelling_classification_reports(model_data=model_bb_trend, title=f\"Trend-Scanning (σ_threshold={volatility_threshold})\", \n",
    "                                      output_filename=f\"{dirpath}/bb_trend_scanning\")\n",
    "meta_labelling_classification_reports(model_data=model_bb_trend_mr, title=f\"Trend-Scanning (σ_threshold={volatility_threshold_mr})\", \n",
    "                                      output_filename=f\"{dirpath}/bb_trend_scanning_mr\")"
   ]
  },
  {
   "cell_type": "markdown",
   "id": "36ec20ef",
   "metadata": {},
   "source": [
    "## 3. Moving Average Crossover Strategy"
   ]
  },
  {
   "cell_type": "code",
   "execution_count": 33,
   "id": "7f163b16",
   "metadata": {},
   "outputs": [
    {
     "name": "stdout",
     "output_type": "stream",
     "text": [
      "Loaded EURUSD_M30_tick-1000_2018-01-01-2024-12-31.parq\n",
      "Loaded EURUSD_M30_time_2018-01-01-2024-12-31.parq\n",
      "\u001b[32m2025-08-31 01:02:40.270\u001b[0m | \u001b[1mINFO    \u001b[0m | \u001b[36mafml.strategies.genetic_optimizer\u001b[0m:\u001b[36m__init__\u001b[0m:\u001b[36m147\u001b[0m - \u001b[1mGenerating primary signals...\u001b[0m\n",
      "\u001b[32m2025-08-31 01:02:40.306\u001b[0m | \u001b[1mINFO    \u001b[0m | \u001b[36mafml.strategies.strategies\u001b[0m:\u001b[36mget_entries\u001b[0m:\u001b[36m76\u001b[0m - \u001b[1mGenerated 5,988 trade events generated by CUSUM filter.\u001b[0m\n"
     ]
    }
   ],
   "source": [
    "ma_timeframe = \"M30\"\n",
    "tick_bar_size = tick_bar_dict[ma_timeframe]\n",
    "ma_time_bars, ma_tick_bars = get_data(symbol, ma_timeframe)\n",
    "bar_size = f\"tick-{ma_tick_bars.tick_volume.iloc[0]}\"\n",
    "ma_df = ma_time_bars.loc[sample_start : sample_end]\n",
    "ma_df0 = ma_tick_bars.loc[sample_start : sample_end]\n",
    "\n",
    "fast_window, slow_window = 20, 50\n",
    "ma_strategy = MovingAverageCrossoverStrategy(fast_window, slow_window)\n",
    "pt_barrier, sl_barrier, time_horizon = (4, 1, 200)\n",
    "target_vol_params = dict(days=1, lookback=100)\n",
    "vol_multiplier = 0.5\n",
    "tb_evaluator = TripleBarrierEvaluator(\n",
    "    ma_strategy, ma_df, target_vol_params,\n",
    "    target_vol_multiplier=vol_multiplier,\n",
    "    filter_events=True,\n",
    "    vertical_barrier_zero=False,\n",
    "    )"
   ]
  },
  {
   "cell_type": "markdown",
   "id": "de5f7545",
   "metadata": {},
   "source": [
    "### Feature Engineering"
   ]
  },
  {
   "cell_type": "code",
   "execution_count": 34,
   "id": "de45d939",
   "metadata": {},
   "outputs": [],
   "source": [
    "# from afml.features.fracdiff import fracdiff_optimal, frac_diff_ffd\n",
    "\n",
    "\n",
    "# close_ffd, d, _ = fracdiff_optimal(ma_df.close, verbose=True)\n",
    "# ma_df_ffd = frac_diff_ffd(ma_df, d)"
   ]
  },
  {
   "cell_type": "code",
   "execution_count": 42,
   "id": "9804e688",
   "metadata": {},
   "outputs": [
    {
     "name": "stdout",
     "output_type": "stream",
     "text": [
      "Memory usage reduced from 25.26 MB to 12.76 MB (49.5% reduction)\n",
      "<class 'pandas.core.frame.DataFrame'>\n",
      "DatetimeIndex: 49280 entries, 2018-01-01 23:30:00 to 2021-12-31 23:00:00\n",
      "Data columns (total 79 columns):\n",
      " #   Column                          Non-Null Count  Dtype  \n",
      "---  ------                          --------------  -----  \n",
      " 0   ma_10                           49280 non-null  float32\n",
      " 1   ma_20                           49280 non-null  float32\n",
      " 2   ma_50                           49280 non-null  float32\n",
      " 3   ma_100                          49280 non-null  float32\n",
      " 4   ma_200                          49280 non-null  float32\n",
      " 5   ma_10_20_cross                  49280 non-null  int8   \n",
      " 6   ma_20_50_cross                  49280 non-null  int8   \n",
      " 7   ma_50_200_cross                 49280 non-null  int8   \n",
      " 8   ma_spread_10_20                 49280 non-null  float32\n",
      " 9   ma_spread_20_50                 49280 non-null  float32\n",
      " 10  ma_spread_50_200                49280 non-null  float32\n",
      " 11  ma_20_slope                     49280 non-null  float32\n",
      " 12  ma_50_slope                     49280 non-null  float32\n",
      " 13  price_above_ma_20               49280 non-null  int8   \n",
      " 14  price_above_ma_50               49280 non-null  int8   \n",
      " 15  ma_ribbon_aligned               49280 non-null  int8   \n",
      " 16  atr_14                          49280 non-null  float32\n",
      " 17  atr_21                          49280 non-null  float32\n",
      " 18  atr_regime                      49280 non-null  float32\n",
      " 19  realized_vol_10                 49280 non-null  float32\n",
      " 20  realized_vol_20                 49280 non-null  float32\n",
      " 21  vol_of_vol                      49280 non-null  float32\n",
      " 22  hl_range                        49280 non-null  float32\n",
      " 23  hl_range_ma                     49280 non-null  float32\n",
      " 24  hl_range_regime                 49280 non-null  float32\n",
      " 25  bb_upper                        49280 non-null  float32\n",
      " 26  bb_lower                        49280 non-null  float32\n",
      " 27  bb_percent                      49280 non-null  float64\n",
      " 28  bb_bandwidth                    49280 non-null  float32\n",
      " 29  bb_squeeze                      49280 non-null  float32\n",
      " 30  adx                             49280 non-null  float32\n",
      " 31  plus_di                         49280 non-null  float32\n",
      " 32  minus_di                        49280 non-null  float32\n",
      " 33  efficiency_ratio_14             49280 non-null  float32\n",
      " 34  efficiency_ratio_30             49280 non-null  float32\n",
      " 35  lr_slope                        49280 non-null  float32\n",
      " 36  lr_rsquared                     49280 non-null  float32\n",
      " 37  lr_t_value                      49280 non-null  float32\n",
      " 38  roc_10                          49280 non-null  float32\n",
      " 39  roc_20                          49280 non-null  float32\n",
      " 40  momentum_14                     49280 non-null  float32\n",
      " 41  hh_ll_20                        49280 non-null  float32\n",
      " 42  trend_persistence               49280 non-null  float32\n",
      " 43  asian_session                   49280 non-null  int8   \n",
      " 44  london_session                  49280 non-null  int8   \n",
      " 45  ny_session                      49280 non-null  int8   \n",
      " 46  session_overlap                 49280 non-null  int8   \n",
      " 47  asian_session_vol               49280 non-null  float32\n",
      " 48  london_session_vol              49280 non-null  float32\n",
      " 49  ny_session_vol                  49280 non-null  float32\n",
      " 50  session_vol_ratio               49280 non-null  float32\n",
      " 51  return_skew_20                  49280 non-null  float32\n",
      " 52  return_kurtosis_20              49280 non-null  float32\n",
      " 53  var_95                          49280 non-null  float32\n",
      " 54  cvar_95                         49280 non-null  float32\n",
      " 55  market_stress                   49280 non-null  int8   \n",
      " 56  current_drawdown                49280 non-null  float32\n",
      " 57  days_since_high                 49280 non-null  int32  \n",
      " 58  hour                            49280 non-null  int8   \n",
      " 59  day_of_week                     49280 non-null  int8   \n",
      " 60  day_of_month                    49280 non-null  int8   \n",
      " 61  month                           49280 non-null  int8   \n",
      " 62  hour_sin                        49280 non-null  float32\n",
      " 63  hour_cos                        49280 non-null  float32\n",
      " 64  day_sin                         49280 non-null  float32\n",
      " 65  day_cos                         49280 non-null  float32\n",
      " 66  friday_ny_close                 49280 non-null  int8   \n",
      " 67  sunday_open                     49280 non-null  int8   \n",
      " 68  month_end                       49280 non-null  int8   \n",
      " 69  quarter_end                     49280 non-null  int8   \n",
      " 70  doji                            49280 non-null  int8   \n",
      " 71  hammer                          49280 non-null  int8   \n",
      " 72  inside_bar                      49280 non-null  int8   \n",
      " 73  outside_bar                     49280 non-null  int8   \n",
      " 74  near_recent_high                49280 non-null  int8   \n",
      " 75  near_recent_low                 49280 non-null  int8   \n",
      " 76  fractal_trend_confirmation      49280 non-null  int8   \n",
      " 77  distance_to_fractal_resistance  49280 non-null  float32\n",
      " 78  distance_to_fractal_support     49280 non-null  float32\n",
      "dtypes: float32(51), float64(1), int32(1), int8(26)\n",
      "memory usage: 12.8 MB\n"
     ]
    }
   ],
   "source": [
    "from afml.strategies.ma_crossover_feature_engine import ForexFeatureEngine\n",
    "\n",
    "feat_engine = ForexFeatureEngine(pair_name=symbol)\n",
    "ma_feat = feat_engine.calculate_all_features(ma_df)\n",
    "ma_feat.info()\n",
    "\n",
    "span = (5, slow_window)\n",
    "volatility_threshold = 0.1\n",
    "volatility_threshold_mr = 0.85\n",
    "\n",
    "# bb_feat = create_bollinger_features(ma_df, lookback_window=fast_window, bb_period=20, bb_std=2)\n",
    "\n",
    "# trend_feat = get_bins_from_trend(ma_df.close, span, volatility_threshold, lookforward=False)\n",
    "# trend_feat_cols = {k: f\"trend_{k}\" for k in ['window', 't_value', 'rsquared']}\n",
    "# trend_feat.rename(columns=trend_feat_cols, inplace=True)\n",
    "# trend_feat = trend_feat[trend_feat_cols.values()]\n",
    "\n",
    "# time_feat = get_time_features(ma_df, ma_timeframe, n_terms=3)\n",
    "\n",
    "# vol_series = ma_df.ta.atr(14)\n",
    "# fractal_feat = get_fractal_features(ma_df, vol_series, ma_period=fast_window)\n",
    "\n",
    "# ma_feat = pd.concat([bb_feat, trend_feat, time_feat, fractal_feat], axis=1).shift()\n",
    "# ma_feat = optimize_dtypes(ma_feat)\n",
    "\n",
    "\n",
    "# ma_feat[\"side\"] = ma_strategy.generate_signals(ma_df)\n",
    "# ma_feat.info()"
   ]
  },
  {
   "cell_type": "markdown",
   "id": "a64829d0",
   "metadata": {},
   "source": [
    "### Fixed-Time Horizon Method"
   ]
  },
  {
   "cell_type": "code",
   "execution_count": 36,
   "id": "d2f03181",
   "metadata": {},
   "outputs": [
    {
     "data": {
      "application/vnd.microsoft.datawrangler.viewer.v0+json": {
       "columns": [
        {
         "name": "index",
         "rawType": "object",
         "type": "string"
        },
        {
         "name": "trade_metrics",
         "rawType": "object",
         "type": "unknown"
        }
       ],
       "ref": "c66a81cf-e62c-476a-8fe0-f77bb6b82056",
       "rows": [
        [
         "total_return",
         "0.8989582061767578"
        ],
        [
         "annualized_return",
         "0.1742812348899585"
        ],
        [
         "volatility",
         "1.1021495718518448"
        ],
        [
         "downside_volatility",
         "0.720549035342409"
        ],
        [
         "sharpe_ratio",
         "1.753297971279017"
        ],
        [
         "sortino_ratio",
         "2.68183914430694"
        ],
        [
         "var_95",
         "-0.015042436122894288"
        ],
        [
         "cvar_95",
         "-0.021588562"
        ],
        [
         "skewness",
         "0.005452997208068374"
        ],
        [
         "kurtosis",
         "2.034684418049448"
        ],
        [
         "probabilistic_sharpe_ratio",
         "0.8887047989635111"
        ],
        [
         "pos_concentration",
         "0.00026523007526472943"
        ],
        [
         "neg_concentration",
         "0.0002620107947689109"
        ],
        [
         "time_concentration",
         "0.003804640395530139"
        ],
        [
         "max_drawdown",
         "0.6301011700710774"
        ],
        [
         "avg_drawdown",
         "0.3107865109909642"
        ],
        [
         "drawdown_duration",
         "111 days 21:30:00"
        ],
        [
         "ulcer_index",
         "0.38829426381998505"
        ],
        [
         "calmar_ratio",
         "0.2765924635091521"
        ],
        [
         "num_trades",
         "5965"
        ],
        [
         "trades_per_year",
         "1493"
        ],
        [
         "win_rate",
         "0.509639564124057"
        ],
        [
         "avg_win",
         "0.0074412115"
        ],
        [
         "avg_loss",
         "-0.007416561"
        ],
        [
         "best_trade",
         "0.04209315776824951"
        ],
        [
         "worst_trade",
         "-0.046008944511413574"
        ],
        [
         "profit_factor",
         "1.0431273"
        ],
        [
         "expectancy",
         "0.00015554780434045776"
        ],
        [
         "kelly_criterion",
         "0.02090358567313233"
        ],
        [
         "consecutive_wins",
         "45"
        ],
        [
         "consecutive_losses",
         "43"
        ],
        [
         "avg_trade_duration",
         "1 days 12:46:18"
        ],
        [
         "ratio_of_longs",
         "0.5032690695725063"
        ]
       ],
       "shape": {
        "columns": 1,
        "rows": 33
       }
      },
      "text/plain": [
       "total_return                           0.898958\n",
       "annualized_return                      0.174281\n",
       "volatility                              1.10215\n",
       "downside_volatility                    0.720549\n",
       "sharpe_ratio                           1.753298\n",
       "sortino_ratio                          2.681839\n",
       "var_95                                -0.015042\n",
       "cvar_95                               -0.021589\n",
       "skewness                               0.005453\n",
       "kurtosis                               2.034684\n",
       "probabilistic_sharpe_ratio             0.888705\n",
       "pos_concentration                      0.000265\n",
       "neg_concentration                      0.000262\n",
       "time_concentration                     0.003805\n",
       "max_drawdown                           0.630101\n",
       "avg_drawdown                           0.310787\n",
       "drawdown_duration             111 days 21:30:00\n",
       "ulcer_index                            0.388294\n",
       "calmar_ratio                           0.276592\n",
       "num_trades                                 5965\n",
       "trades_per_year                            1493\n",
       "win_rate                                0.50964\n",
       "avg_win                                0.007441\n",
       "avg_loss                              -0.007417\n",
       "best_trade                             0.042093\n",
       "worst_trade                           -0.046009\n",
       "profit_factor                          1.043127\n",
       "expectancy                             0.000156\n",
       "kelly_criterion                        0.020904\n",
       "consecutive_wins                             45\n",
       "consecutive_losses                           43\n",
       "avg_trade_duration              1 days 12:46:18\n",
       "ratio_of_longs                         0.503269\n",
       "Name: trade_metrics, dtype: object"
      ]
     },
     "execution_count": 36,
     "metadata": {},
     "output_type": "execute_result"
    }
   ],
   "source": [
    "ma_events_fh = tb_evaluator.evaluate_performance(0, 0, time_horizon)\n",
    "ma_events_fh_metrics = tb_evaluator.calculate_strategy_metrics(ma_events_fh)\n",
    "ma_events_fh_metrics"
   ]
  },
  {
   "cell_type": "markdown",
   "id": "b863eb59",
   "metadata": {},
   "source": [
    "### Triple-Barrier Method"
   ]
  },
  {
   "cell_type": "code",
   "execution_count": 37,
   "id": "1b77596f",
   "metadata": {},
   "outputs": [
    {
     "data": {
      "application/vnd.microsoft.datawrangler.viewer.v0+json": {
       "columns": [
        {
         "name": "index",
         "rawType": "object",
         "type": "string"
        },
        {
         "name": "trade_metrics",
         "rawType": "object",
         "type": "unknown"
        }
       ],
       "ref": "3d7b3442-3919-4eb9-b25c-97b31851b6d8",
       "rows": [
        [
         "total_return",
         "1.4741220474243164"
        ],
        [
         "annualized_return",
         "0.25475130767427867"
        ],
        [
         "volatility",
         "0.4741959786698691"
        ],
        [
         "downside_volatility",
         "0.11091719640806816"
        ],
        [
         "sharpe_ratio",
         "4.170137905200123"
        ],
        [
         "sortino_ratio",
         "17.828278113607716"
        ],
        [
         "var_95",
         "-0.003760945796966553"
        ],
        [
         "cvar_95",
         "-0.004676674"
        ],
        [
         "skewness",
         "1.6317568444712083"
        ],
        [
         "kurtosis",
         "2.4047585627071024"
        ],
        [
         "probabilistic_sharpe_ratio",
         "0.9986426861801617"
        ],
        [
         "pos_concentration",
         "0.00017027238612902945"
        ],
        [
         "neg_concentration",
         "5.222771148672205e-05"
        ],
        [
         "time_concentration",
         "0.003776427684686574"
        ],
        [
         "max_drawdown",
         "0.4507048931076091"
        ],
        [
         "avg_drawdown",
         "0.04278598476613379"
        ],
        [
         "drawdown_duration",
         "27 days 00:11:07"
        ],
        [
         "ulcer_index",
         "0.08713950081292292"
        ],
        [
         "calmar_ratio",
         "0.56522862646946"
        ],
        [
         "num_trades",
         "5985"
        ],
        [
         "trades_per_year",
         "1498"
        ],
        [
         "win_rate",
         "0.2549707602339181"
        ],
        [
         "avg_win",
         "0.0066795335"
        ],
        [
         "avg_loss",
         "-0.0020705736"
        ],
        [
         "best_trade",
         "0.02280271053314209"
        ],
        [
         "worst_trade",
         "-0.009121596813201904"
        ],
        [
         "profit_factor",
         "1.1040088"
        ],
        [
         "expectancy",
         "0.00016044784522457434"
        ],
        [
         "kelly_criterion",
         "0.0240208126473323"
        ],
        [
         "consecutive_wins",
         "20"
        ],
        [
         "consecutive_losses",
         "54"
        ],
        [
         "avg_trade_duration",
         "239 days 10:18:46"
        ],
        [
         "ratio_of_longs",
         "0.5027568922305764"
        ]
       ],
       "shape": {
        "columns": 1,
        "rows": 33
       }
      },
      "text/plain": [
       "total_return                           1.474122\n",
       "annualized_return                      0.254751\n",
       "volatility                             0.474196\n",
       "downside_volatility                    0.110917\n",
       "sharpe_ratio                           4.170138\n",
       "sortino_ratio                         17.828278\n",
       "var_95                                -0.003761\n",
       "cvar_95                               -0.004677\n",
       "skewness                               1.631757\n",
       "kurtosis                               2.404759\n",
       "probabilistic_sharpe_ratio             0.998643\n",
       "pos_concentration                       0.00017\n",
       "neg_concentration                      0.000052\n",
       "time_concentration                     0.003776\n",
       "max_drawdown                           0.450705\n",
       "avg_drawdown                           0.042786\n",
       "drawdown_duration              27 days 00:11:07\n",
       "ulcer_index                             0.08714\n",
       "calmar_ratio                           0.565229\n",
       "num_trades                                 5985\n",
       "trades_per_year                            1498\n",
       "win_rate                               0.254971\n",
       "avg_win                                 0.00668\n",
       "avg_loss                              -0.002071\n",
       "best_trade                             0.022803\n",
       "worst_trade                           -0.009122\n",
       "profit_factor                          1.104009\n",
       "expectancy                              0.00016\n",
       "kelly_criterion                        0.024021\n",
       "consecutive_wins                             20\n",
       "consecutive_losses                           54\n",
       "avg_trade_duration            239 days 10:18:46\n",
       "ratio_of_longs                         0.502757\n",
       "Name: trade_metrics, dtype: object"
      ]
     },
     "execution_count": 37,
     "metadata": {},
     "output_type": "execute_result"
    }
   ],
   "source": [
    "ma_events_tbl = tb_evaluator.evaluate_performance(pt_barrier, sl_barrier, time_horizon)\n",
    "ma_events_tbl_metrics = tb_evaluator.calculate_strategy_metrics(ma_events_tbl)\n",
    "ma_events_tbl_metrics"
   ]
  },
  {
   "cell_type": "code",
   "execution_count": 38,
   "id": "d65ee408",
   "metadata": {},
   "outputs": [
    {
     "name": "stdout",
     "output_type": "stream",
     "text": [
      "MACrossover_fast20_slow50: \n",
      "\n"
     ]
    },
    {
     "data": {
      "application/vnd.microsoft.datawrangler.viewer.v0+json": {
       "columns": [
        {
         "name": "index",
         "rawType": "object",
         "type": "string"
        },
        {
         "name": "fixed_horizon",
         "rawType": "object",
         "type": "unknown"
        },
        {
         "name": "triple_barrier",
         "rawType": "object",
         "type": "unknown"
        }
       ],
       "ref": "831d43bd-d392-4d11-8083-ed3ebcd30ff0",
       "rows": [
        [
         "total_return",
         "0.8989582061767578",
         "1.4741220474243164"
        ],
        [
         "annualized_return",
         "0.1742812348899585",
         "0.25475130767427867"
        ],
        [
         "volatility",
         "1.1021495718518448",
         "0.4741959786698691"
        ],
        [
         "downside_volatility",
         "0.720549035342409",
         "0.11091719640806816"
        ],
        [
         "sharpe_ratio",
         "1.753297971279017",
         "4.170137905200123"
        ],
        [
         "sortino_ratio",
         "2.68183914430694",
         "17.828278113607716"
        ],
        [
         "var_95",
         "-0.015042436122894288",
         "-0.003760945796966553"
        ],
        [
         "cvar_95",
         "-0.021588562",
         "-0.004676674"
        ],
        [
         "skewness",
         "0.005452997208068374",
         "1.6317568444712083"
        ],
        [
         "kurtosis",
         "2.034684418049448",
         "2.4047585627071024"
        ],
        [
         "probabilistic_sharpe_ratio",
         "0.8887047989635111",
         "0.9986426861801617"
        ],
        [
         "pos_concentration",
         "0.00026523007526472943",
         "0.00017027238612902945"
        ],
        [
         "neg_concentration",
         "0.0002620107947689109",
         "5.222771148672205e-05"
        ],
        [
         "time_concentration",
         "0.003804640395530139",
         "0.003776427684686574"
        ],
        [
         "max_drawdown",
         "0.6301011700710774",
         "0.4507048931076091"
        ],
        [
         "avg_drawdown",
         "0.3107865109909642",
         "0.04278598476613379"
        ],
        [
         "drawdown_duration",
         "111 days 21:30:00",
         "27 days 00:11:07"
        ],
        [
         "ulcer_index",
         "0.38829426381998505",
         "0.08713950081292292"
        ],
        [
         "calmar_ratio",
         "0.2765924635091521",
         "0.56522862646946"
        ],
        [
         "num_trades",
         "5965",
         "5985"
        ],
        [
         "trades_per_year",
         "1493",
         "1498"
        ],
        [
         "win_rate",
         "0.509639564124057",
         "0.2549707602339181"
        ],
        [
         "avg_win",
         "0.0074412115",
         "0.0066795335"
        ],
        [
         "avg_loss",
         "-0.007416561",
         "-0.0020705736"
        ],
        [
         "best_trade",
         "0.04209315776824951",
         "0.02280271053314209"
        ],
        [
         "worst_trade",
         "-0.046008944511413574",
         "-0.009121596813201904"
        ],
        [
         "profit_factor",
         "1.0431273",
         "1.1040088"
        ],
        [
         "expectancy",
         "0.00015554780434045776",
         "0.00016044784522457434"
        ],
        [
         "kelly_criterion",
         "0.02090358567313233",
         "0.0240208126473323"
        ],
        [
         "consecutive_wins",
         "45",
         "20"
        ],
        [
         "consecutive_losses",
         "43",
         "54"
        ],
        [
         "avg_trade_duration",
         "1 days 12:46:18",
         "239 days 10:18:46"
        ],
        [
         "ratio_of_longs",
         "0.5032690695725063",
         "0.5027568922305764"
        ]
       ],
       "shape": {
        "columns": 2,
        "rows": 33
       }
      },
      "text/html": [
       "<div>\n",
       "<style scoped>\n",
       "    .dataframe tbody tr th:only-of-type {\n",
       "        vertical-align: middle;\n",
       "    }\n",
       "\n",
       "    .dataframe tbody tr th {\n",
       "        vertical-align: top;\n",
       "    }\n",
       "\n",
       "    .dataframe thead th {\n",
       "        text-align: right;\n",
       "    }\n",
       "</style>\n",
       "<table border=\"1\" class=\"dataframe\">\n",
       "  <thead>\n",
       "    <tr style=\"text-align: right;\">\n",
       "      <th></th>\n",
       "      <th>fixed_horizon</th>\n",
       "      <th>triple_barrier</th>\n",
       "    </tr>\n",
       "  </thead>\n",
       "  <tbody>\n",
       "    <tr>\n",
       "      <th>total_return</th>\n",
       "      <td>0.898958</td>\n",
       "      <td>1.474122</td>\n",
       "    </tr>\n",
       "    <tr>\n",
       "      <th>annualized_return</th>\n",
       "      <td>0.174281</td>\n",
       "      <td>0.254751</td>\n",
       "    </tr>\n",
       "    <tr>\n",
       "      <th>volatility</th>\n",
       "      <td>1.10215</td>\n",
       "      <td>0.474196</td>\n",
       "    </tr>\n",
       "    <tr>\n",
       "      <th>downside_volatility</th>\n",
       "      <td>0.720549</td>\n",
       "      <td>0.110917</td>\n",
       "    </tr>\n",
       "    <tr>\n",
       "      <th>sharpe_ratio</th>\n",
       "      <td>1.753298</td>\n",
       "      <td>4.170138</td>\n",
       "    </tr>\n",
       "    <tr>\n",
       "      <th>sortino_ratio</th>\n",
       "      <td>2.681839</td>\n",
       "      <td>17.828278</td>\n",
       "    </tr>\n",
       "    <tr>\n",
       "      <th>var_95</th>\n",
       "      <td>-0.015042</td>\n",
       "      <td>-0.003761</td>\n",
       "    </tr>\n",
       "    <tr>\n",
       "      <th>cvar_95</th>\n",
       "      <td>-0.021589</td>\n",
       "      <td>-0.004677</td>\n",
       "    </tr>\n",
       "    <tr>\n",
       "      <th>skewness</th>\n",
       "      <td>0.005453</td>\n",
       "      <td>1.631757</td>\n",
       "    </tr>\n",
       "    <tr>\n",
       "      <th>kurtosis</th>\n",
       "      <td>2.034684</td>\n",
       "      <td>2.404759</td>\n",
       "    </tr>\n",
       "    <tr>\n",
       "      <th>probabilistic_sharpe_ratio</th>\n",
       "      <td>0.888705</td>\n",
       "      <td>0.998643</td>\n",
       "    </tr>\n",
       "    <tr>\n",
       "      <th>pos_concentration</th>\n",
       "      <td>0.000265</td>\n",
       "      <td>0.00017</td>\n",
       "    </tr>\n",
       "    <tr>\n",
       "      <th>neg_concentration</th>\n",
       "      <td>0.000262</td>\n",
       "      <td>0.000052</td>\n",
       "    </tr>\n",
       "    <tr>\n",
       "      <th>time_concentration</th>\n",
       "      <td>0.003805</td>\n",
       "      <td>0.003776</td>\n",
       "    </tr>\n",
       "    <tr>\n",
       "      <th>max_drawdown</th>\n",
       "      <td>0.630101</td>\n",
       "      <td>0.450705</td>\n",
       "    </tr>\n",
       "    <tr>\n",
       "      <th>avg_drawdown</th>\n",
       "      <td>0.310787</td>\n",
       "      <td>0.042786</td>\n",
       "    </tr>\n",
       "    <tr>\n",
       "      <th>drawdown_duration</th>\n",
       "      <td>111 days 21:30:00</td>\n",
       "      <td>27 days 00:11:07</td>\n",
       "    </tr>\n",
       "    <tr>\n",
       "      <th>ulcer_index</th>\n",
       "      <td>0.388294</td>\n",
       "      <td>0.08714</td>\n",
       "    </tr>\n",
       "    <tr>\n",
       "      <th>calmar_ratio</th>\n",
       "      <td>0.276592</td>\n",
       "      <td>0.565229</td>\n",
       "    </tr>\n",
       "    <tr>\n",
       "      <th>num_trades</th>\n",
       "      <td>5965</td>\n",
       "      <td>5985</td>\n",
       "    </tr>\n",
       "    <tr>\n",
       "      <th>trades_per_year</th>\n",
       "      <td>1493</td>\n",
       "      <td>1498</td>\n",
       "    </tr>\n",
       "    <tr>\n",
       "      <th>win_rate</th>\n",
       "      <td>0.50964</td>\n",
       "      <td>0.254971</td>\n",
       "    </tr>\n",
       "    <tr>\n",
       "      <th>avg_win</th>\n",
       "      <td>0.007441</td>\n",
       "      <td>0.00668</td>\n",
       "    </tr>\n",
       "    <tr>\n",
       "      <th>avg_loss</th>\n",
       "      <td>-0.007417</td>\n",
       "      <td>-0.002071</td>\n",
       "    </tr>\n",
       "    <tr>\n",
       "      <th>best_trade</th>\n",
       "      <td>0.042093</td>\n",
       "      <td>0.022803</td>\n",
       "    </tr>\n",
       "    <tr>\n",
       "      <th>worst_trade</th>\n",
       "      <td>-0.046009</td>\n",
       "      <td>-0.009122</td>\n",
       "    </tr>\n",
       "    <tr>\n",
       "      <th>profit_factor</th>\n",
       "      <td>1.043127</td>\n",
       "      <td>1.104009</td>\n",
       "    </tr>\n",
       "    <tr>\n",
       "      <th>expectancy</th>\n",
       "      <td>0.000156</td>\n",
       "      <td>0.00016</td>\n",
       "    </tr>\n",
       "    <tr>\n",
       "      <th>kelly_criterion</th>\n",
       "      <td>0.020904</td>\n",
       "      <td>0.024021</td>\n",
       "    </tr>\n",
       "    <tr>\n",
       "      <th>consecutive_wins</th>\n",
       "      <td>45</td>\n",
       "      <td>20</td>\n",
       "    </tr>\n",
       "    <tr>\n",
       "      <th>consecutive_losses</th>\n",
       "      <td>43</td>\n",
       "      <td>54</td>\n",
       "    </tr>\n",
       "    <tr>\n",
       "      <th>avg_trade_duration</th>\n",
       "      <td>1 days 12:46:18</td>\n",
       "      <td>239 days 10:18:46</td>\n",
       "    </tr>\n",
       "    <tr>\n",
       "      <th>ratio_of_longs</th>\n",
       "      <td>0.503269</td>\n",
       "      <td>0.502757</td>\n",
       "    </tr>\n",
       "  </tbody>\n",
       "</table>\n",
       "</div>"
      ],
      "text/plain": [
       "                                fixed_horizon     triple_barrier\n",
       "total_return                         0.898958           1.474122\n",
       "annualized_return                    0.174281           0.254751\n",
       "volatility                            1.10215           0.474196\n",
       "downside_volatility                  0.720549           0.110917\n",
       "sharpe_ratio                         1.753298           4.170138\n",
       "sortino_ratio                        2.681839          17.828278\n",
       "var_95                              -0.015042          -0.003761\n",
       "cvar_95                             -0.021589          -0.004677\n",
       "skewness                             0.005453           1.631757\n",
       "kurtosis                             2.034684           2.404759\n",
       "probabilistic_sharpe_ratio           0.888705           0.998643\n",
       "pos_concentration                    0.000265            0.00017\n",
       "neg_concentration                    0.000262           0.000052\n",
       "time_concentration                   0.003805           0.003776\n",
       "max_drawdown                         0.630101           0.450705\n",
       "avg_drawdown                         0.310787           0.042786\n",
       "drawdown_duration           111 days 21:30:00   27 days 00:11:07\n",
       "ulcer_index                          0.388294            0.08714\n",
       "calmar_ratio                         0.276592           0.565229\n",
       "num_trades                               5965               5985\n",
       "trades_per_year                          1493               1498\n",
       "win_rate                              0.50964           0.254971\n",
       "avg_win                              0.007441            0.00668\n",
       "avg_loss                            -0.007417          -0.002071\n",
       "best_trade                           0.042093           0.022803\n",
       "worst_trade                         -0.046009          -0.009122\n",
       "profit_factor                        1.043127           1.104009\n",
       "expectancy                           0.000156            0.00016\n",
       "kelly_criterion                      0.020904           0.024021\n",
       "consecutive_wins                           45                 20\n",
       "consecutive_losses                         43                 54\n",
       "avg_trade_duration            1 days 12:46:18  239 days 10:18:46\n",
       "ratio_of_longs                       0.503269           0.502757"
      ]
     },
     "execution_count": 38,
     "metadata": {},
     "output_type": "execute_result"
    }
   ],
   "source": [
    "print(f\"MACrossover_fast{fast_window}_slow{slow_window}: \\n\")\n",
    "\n",
    "ma_metrics_df = pd.DataFrame({\n",
    "    \"fixed_horizon\": ma_events_fh_metrics,\n",
    "    \"triple_barrier\": ma_events_tbl_metrics,\n",
    "    })\n",
    "ma_metrics_df"
   ]
  },
  {
   "cell_type": "markdown",
   "id": "68aff28e",
   "metadata": {},
   "source": [
    "### Trend-Scanning Method"
   ]
  },
  {
   "cell_type": "code",
   "execution_count": 39,
   "id": "18cb8d17",
   "metadata": {},
   "outputs": [
    {
     "name": "stdout",
     "output_type": "stream",
     "text": [
      "t_events: 5,993\n",
      "MACrossover_fast20_slow50:\n",
      "ma_events_trend.shape: (5970, 4)\n",
      "\n"
     ]
    },
    {
     "data": {
      "application/vnd.microsoft.datawrangler.viewer.v0+json": {
       "columns": [
        {
         "name": "index",
         "rawType": "object",
         "type": "string"
        },
        {
         "name": "fixed_horizon",
         "rawType": "object",
         "type": "unknown"
        },
        {
         "name": "triple_barrier",
         "rawType": "object",
         "type": "unknown"
        },
        {
         "name": "trend_scanning",
         "rawType": "object",
         "type": "unknown"
        },
        {
         "name": "trend_scanning_mr",
         "rawType": "object",
         "type": "unknown"
        }
       ],
       "ref": "61b896c4-0207-497c-9f27-4311ef5f1a57",
       "rows": [
        [
         "total_return",
         "0.8989582061767578",
         "1.4741220474243164",
         "3.9864320755004883",
         "4.350765228271484"
        ],
        [
         "annualized_return",
         "0.1742812348899585",
         "0.25475130767427867",
         "0.49515635058594243",
         "0.5217860634958225"
        ],
        [
         "volatility",
         "1.1021495718518448",
         "0.4741959786698691",
         "1.156368540847366",
         "0.8144592193600845"
        ],
        [
         "downside_volatility",
         "0.720549035342409",
         "0.11091719640806816",
         "0.7247081653015514",
         "0.6963502595636868"
        ],
        [
         "sharpe_ratio",
         "1.753297971279017",
         "4.170137905200123",
         "3.4478208361809553",
         "4.660318574763946"
        ],
        [
         "sortino_ratio",
         "2.68183914430694",
         "17.828278113607716",
         "5.501458021766244",
         "5.450761849000796"
        ],
        [
         "var_95",
         "-0.015042436122894288",
         "-0.003760945796966553",
         "-0.015248316526412963",
         "-0.007754695415496827"
        ],
        [
         "cvar_95",
         "-0.021588562",
         "-0.004676674",
         "-0.022259463",
         "-0.018975485"
        ],
        [
         "skewness",
         "0.005452997208068374",
         "1.6317568444712083",
         "-0.02607669357818935",
         "0.04544116416856526"
        ],
        [
         "kurtosis",
         "2.034684418049448",
         "2.4047585627071024",
         "1.4666510313605503",
         "11.430065481707034"
        ],
        [
         "probabilistic_sharpe_ratio",
         "0.8887047989635111",
         "0.9986426861801617",
         "0.9917567482248077",
         "0.9993989991733027"
        ],
        [
         "pos_concentration",
         "0.00026523007526472943",
         "0.00017027238612902945",
         "0.00021999113665946787",
         "0.0011798565953059176"
        ],
        [
         "neg_concentration",
         "0.0002620107947689109",
         "5.222771148672205e-05",
         "0.00023052519347937486",
         "0.0014489975059874386"
        ],
        [
         "time_concentration",
         "0.003804640395530139",
         "0.003776427684686574",
         "0.003813507825667417",
         "0.003813507825667417"
        ],
        [
         "max_drawdown",
         "0.6301011700710774",
         "0.4507048931076091",
         "0.7354710716265427",
         "0.5808239662410297"
        ],
        [
         "avg_drawdown",
         "0.3107865109909642",
         "0.04278598476613379",
         "0.2627072881224416",
         "0.24010431612305902"
        ],
        [
         "drawdown_duration",
         "111 days 21:30:00",
         "27 days 00:11:07",
         "97 days 00:36:00",
         "121 days 06:45:00"
        ],
        [
         "ulcer_index",
         "0.38829426381998505",
         "0.08713950081292292",
         "0.3350464140829105",
         "0.3006415370955"
        ],
        [
         "calmar_ratio",
         "0.2765924635091521",
         "0.56522862646946",
         "0.6732506140464118",
         "0.8983549127160022"
        ],
        [
         "num_trades",
         "5965",
         "5985",
         "5970",
         "5970"
        ],
        [
         "trades_per_year",
         "1493",
         "1498",
         "1493",
         "1493"
        ],
        [
         "win_rate",
         "0.509639564124057",
         "0.2549707602339181",
         "0.5159128978224455",
         "0.4991624790619765"
        ],
        [
         "avg_win",
         "0.0074412115",
         "0.0066795335",
         "0.008122302",
         "0.0036338717"
        ],
        [
         "avg_loss",
         "-0.007416561",
         "-0.0020705736",
         "-0.008007635",
         "-0.003020122"
        ],
        [
         "best_trade",
         "0.04209315776824951",
         "0.02280271053314209",
         "0.04123872518539429",
         "0.04123872518539429"
        ],
        [
         "worst_trade",
         "-0.046008944511413574",
         "-0.009121596813201904",
         "-0.04608112573623657",
         "-0.04608112573623657"
        ],
        [
         "profit_factor",
         "1.0431273",
         "1.1040088",
         "1.0836296",
         "1.2044327"
        ],
        [
         "expectancy",
         "0.00015554780434045776",
         "0.00016044784522457434",
         "0.00031400718874418114",
         "0.0003013020038910494"
        ],
        [
         "kelly_criterion",
         "0.02090358567313233",
         "0.0240208126473323",
         "0.03865989555025556",
         "0.0829148541582656"
        ],
        [
         "consecutive_wins",
         "45",
         "20",
         "42",
         "35"
        ],
        [
         "consecutive_losses",
         "43",
         "54",
         "35",
         "35"
        ],
        [
         "avg_trade_duration",
         "1 days 12:46:18",
         "239 days 10:18:46",
         null,
         null
        ],
        [
         "ratio_of_longs",
         "0.5032690695725063",
         "0.5027568922305764",
         "0.5032690695725063",
         "0.5032690695725063"
        ]
       ],
       "shape": {
        "columns": 4,
        "rows": 33
       }
      },
      "text/html": [
       "<div>\n",
       "<style scoped>\n",
       "    .dataframe tbody tr th:only-of-type {\n",
       "        vertical-align: middle;\n",
       "    }\n",
       "\n",
       "    .dataframe tbody tr th {\n",
       "        vertical-align: top;\n",
       "    }\n",
       "\n",
       "    .dataframe thead th {\n",
       "        text-align: right;\n",
       "    }\n",
       "</style>\n",
       "<table border=\"1\" class=\"dataframe\">\n",
       "  <thead>\n",
       "    <tr style=\"text-align: right;\">\n",
       "      <th></th>\n",
       "      <th>fixed_horizon</th>\n",
       "      <th>triple_barrier</th>\n",
       "      <th>trend_scanning</th>\n",
       "      <th>trend_scanning_mr</th>\n",
       "    </tr>\n",
       "  </thead>\n",
       "  <tbody>\n",
       "    <tr>\n",
       "      <th>total_return</th>\n",
       "      <td>0.898958</td>\n",
       "      <td>1.474122</td>\n",
       "      <td>3.986432</td>\n",
       "      <td>4.350765</td>\n",
       "    </tr>\n",
       "    <tr>\n",
       "      <th>annualized_return</th>\n",
       "      <td>0.174281</td>\n",
       "      <td>0.254751</td>\n",
       "      <td>0.495156</td>\n",
       "      <td>0.521786</td>\n",
       "    </tr>\n",
       "    <tr>\n",
       "      <th>volatility</th>\n",
       "      <td>1.10215</td>\n",
       "      <td>0.474196</td>\n",
       "      <td>1.156369</td>\n",
       "      <td>0.814459</td>\n",
       "    </tr>\n",
       "    <tr>\n",
       "      <th>downside_volatility</th>\n",
       "      <td>0.720549</td>\n",
       "      <td>0.110917</td>\n",
       "      <td>0.724708</td>\n",
       "      <td>0.69635</td>\n",
       "    </tr>\n",
       "    <tr>\n",
       "      <th>sharpe_ratio</th>\n",
       "      <td>1.753298</td>\n",
       "      <td>4.170138</td>\n",
       "      <td>3.447821</td>\n",
       "      <td>4.660319</td>\n",
       "    </tr>\n",
       "    <tr>\n",
       "      <th>sortino_ratio</th>\n",
       "      <td>2.681839</td>\n",
       "      <td>17.828278</td>\n",
       "      <td>5.501458</td>\n",
       "      <td>5.450762</td>\n",
       "    </tr>\n",
       "    <tr>\n",
       "      <th>var_95</th>\n",
       "      <td>-0.015042</td>\n",
       "      <td>-0.003761</td>\n",
       "      <td>-0.015248</td>\n",
       "      <td>-0.007755</td>\n",
       "    </tr>\n",
       "    <tr>\n",
       "      <th>cvar_95</th>\n",
       "      <td>-0.021589</td>\n",
       "      <td>-0.004677</td>\n",
       "      <td>-0.022259</td>\n",
       "      <td>-0.018975</td>\n",
       "    </tr>\n",
       "    <tr>\n",
       "      <th>skewness</th>\n",
       "      <td>0.005453</td>\n",
       "      <td>1.631757</td>\n",
       "      <td>-0.026077</td>\n",
       "      <td>0.045441</td>\n",
       "    </tr>\n",
       "    <tr>\n",
       "      <th>kurtosis</th>\n",
       "      <td>2.034684</td>\n",
       "      <td>2.404759</td>\n",
       "      <td>1.466651</td>\n",
       "      <td>11.430065</td>\n",
       "    </tr>\n",
       "    <tr>\n",
       "      <th>probabilistic_sharpe_ratio</th>\n",
       "      <td>0.888705</td>\n",
       "      <td>0.998643</td>\n",
       "      <td>0.991757</td>\n",
       "      <td>0.999399</td>\n",
       "    </tr>\n",
       "    <tr>\n",
       "      <th>pos_concentration</th>\n",
       "      <td>0.000265</td>\n",
       "      <td>0.00017</td>\n",
       "      <td>0.00022</td>\n",
       "      <td>0.00118</td>\n",
       "    </tr>\n",
       "    <tr>\n",
       "      <th>neg_concentration</th>\n",
       "      <td>0.000262</td>\n",
       "      <td>0.000052</td>\n",
       "      <td>0.000231</td>\n",
       "      <td>0.001449</td>\n",
       "    </tr>\n",
       "    <tr>\n",
       "      <th>time_concentration</th>\n",
       "      <td>0.003805</td>\n",
       "      <td>0.003776</td>\n",
       "      <td>0.003814</td>\n",
       "      <td>0.003814</td>\n",
       "    </tr>\n",
       "    <tr>\n",
       "      <th>max_drawdown</th>\n",
       "      <td>0.630101</td>\n",
       "      <td>0.450705</td>\n",
       "      <td>0.735471</td>\n",
       "      <td>0.580824</td>\n",
       "    </tr>\n",
       "    <tr>\n",
       "      <th>avg_drawdown</th>\n",
       "      <td>0.310787</td>\n",
       "      <td>0.042786</td>\n",
       "      <td>0.262707</td>\n",
       "      <td>0.240104</td>\n",
       "    </tr>\n",
       "    <tr>\n",
       "      <th>drawdown_duration</th>\n",
       "      <td>111 days 21:30:00</td>\n",
       "      <td>27 days 00:11:07</td>\n",
       "      <td>97 days 00:36:00</td>\n",
       "      <td>121 days 06:45:00</td>\n",
       "    </tr>\n",
       "    <tr>\n",
       "      <th>ulcer_index</th>\n",
       "      <td>0.388294</td>\n",
       "      <td>0.08714</td>\n",
       "      <td>0.335046</td>\n",
       "      <td>0.300642</td>\n",
       "    </tr>\n",
       "    <tr>\n",
       "      <th>calmar_ratio</th>\n",
       "      <td>0.276592</td>\n",
       "      <td>0.565229</td>\n",
       "      <td>0.673251</td>\n",
       "      <td>0.898355</td>\n",
       "    </tr>\n",
       "    <tr>\n",
       "      <th>num_trades</th>\n",
       "      <td>5965</td>\n",
       "      <td>5985</td>\n",
       "      <td>5970</td>\n",
       "      <td>5970</td>\n",
       "    </tr>\n",
       "    <tr>\n",
       "      <th>trades_per_year</th>\n",
       "      <td>1493</td>\n",
       "      <td>1498</td>\n",
       "      <td>1493</td>\n",
       "      <td>1493</td>\n",
       "    </tr>\n",
       "    <tr>\n",
       "      <th>win_rate</th>\n",
       "      <td>0.50964</td>\n",
       "      <td>0.254971</td>\n",
       "      <td>0.515913</td>\n",
       "      <td>0.499162</td>\n",
       "    </tr>\n",
       "    <tr>\n",
       "      <th>avg_win</th>\n",
       "      <td>0.007441</td>\n",
       "      <td>0.00668</td>\n",
       "      <td>0.008122</td>\n",
       "      <td>0.003634</td>\n",
       "    </tr>\n",
       "    <tr>\n",
       "      <th>avg_loss</th>\n",
       "      <td>-0.007417</td>\n",
       "      <td>-0.002071</td>\n",
       "      <td>-0.008008</td>\n",
       "      <td>-0.00302</td>\n",
       "    </tr>\n",
       "    <tr>\n",
       "      <th>best_trade</th>\n",
       "      <td>0.042093</td>\n",
       "      <td>0.022803</td>\n",
       "      <td>0.041239</td>\n",
       "      <td>0.041239</td>\n",
       "    </tr>\n",
       "    <tr>\n",
       "      <th>worst_trade</th>\n",
       "      <td>-0.046009</td>\n",
       "      <td>-0.009122</td>\n",
       "      <td>-0.046081</td>\n",
       "      <td>-0.046081</td>\n",
       "    </tr>\n",
       "    <tr>\n",
       "      <th>profit_factor</th>\n",
       "      <td>1.043127</td>\n",
       "      <td>1.104009</td>\n",
       "      <td>1.08363</td>\n",
       "      <td>1.204433</td>\n",
       "    </tr>\n",
       "    <tr>\n",
       "      <th>expectancy</th>\n",
       "      <td>0.000156</td>\n",
       "      <td>0.00016</td>\n",
       "      <td>0.000314</td>\n",
       "      <td>0.000301</td>\n",
       "    </tr>\n",
       "    <tr>\n",
       "      <th>kelly_criterion</th>\n",
       "      <td>0.020904</td>\n",
       "      <td>0.024021</td>\n",
       "      <td>0.03866</td>\n",
       "      <td>0.082915</td>\n",
       "    </tr>\n",
       "    <tr>\n",
       "      <th>consecutive_wins</th>\n",
       "      <td>45</td>\n",
       "      <td>20</td>\n",
       "      <td>42</td>\n",
       "      <td>35</td>\n",
       "    </tr>\n",
       "    <tr>\n",
       "      <th>consecutive_losses</th>\n",
       "      <td>43</td>\n",
       "      <td>54</td>\n",
       "      <td>35</td>\n",
       "      <td>35</td>\n",
       "    </tr>\n",
       "    <tr>\n",
       "      <th>avg_trade_duration</th>\n",
       "      <td>1 days 12:46:18</td>\n",
       "      <td>239 days 10:18:46</td>\n",
       "      <td>NaT</td>\n",
       "      <td>NaT</td>\n",
       "    </tr>\n",
       "    <tr>\n",
       "      <th>ratio_of_longs</th>\n",
       "      <td>0.503269</td>\n",
       "      <td>0.502757</td>\n",
       "      <td>0.503269</td>\n",
       "      <td>0.503269</td>\n",
       "    </tr>\n",
       "  </tbody>\n",
       "</table>\n",
       "</div>"
      ],
      "text/plain": [
       "                                fixed_horizon     triple_barrier  \\\n",
       "total_return                         0.898958           1.474122   \n",
       "annualized_return                    0.174281           0.254751   \n",
       "volatility                            1.10215           0.474196   \n",
       "downside_volatility                  0.720549           0.110917   \n",
       "sharpe_ratio                         1.753298           4.170138   \n",
       "sortino_ratio                        2.681839          17.828278   \n",
       "var_95                              -0.015042          -0.003761   \n",
       "cvar_95                             -0.021589          -0.004677   \n",
       "skewness                             0.005453           1.631757   \n",
       "kurtosis                             2.034684           2.404759   \n",
       "probabilistic_sharpe_ratio           0.888705           0.998643   \n",
       "pos_concentration                    0.000265            0.00017   \n",
       "neg_concentration                    0.000262           0.000052   \n",
       "time_concentration                   0.003805           0.003776   \n",
       "max_drawdown                         0.630101           0.450705   \n",
       "avg_drawdown                         0.310787           0.042786   \n",
       "drawdown_duration           111 days 21:30:00   27 days 00:11:07   \n",
       "ulcer_index                          0.388294            0.08714   \n",
       "calmar_ratio                         0.276592           0.565229   \n",
       "num_trades                               5965               5985   \n",
       "trades_per_year                          1493               1498   \n",
       "win_rate                              0.50964           0.254971   \n",
       "avg_win                              0.007441            0.00668   \n",
       "avg_loss                            -0.007417          -0.002071   \n",
       "best_trade                           0.042093           0.022803   \n",
       "worst_trade                         -0.046009          -0.009122   \n",
       "profit_factor                        1.043127           1.104009   \n",
       "expectancy                           0.000156            0.00016   \n",
       "kelly_criterion                      0.020904           0.024021   \n",
       "consecutive_wins                           45                 20   \n",
       "consecutive_losses                         43                 54   \n",
       "avg_trade_duration            1 days 12:46:18  239 days 10:18:46   \n",
       "ratio_of_longs                       0.503269           0.502757   \n",
       "\n",
       "                              trend_scanning  trend_scanning_mr  \n",
       "total_return                        3.986432           4.350765  \n",
       "annualized_return                   0.495156           0.521786  \n",
       "volatility                          1.156369           0.814459  \n",
       "downside_volatility                 0.724708            0.69635  \n",
       "sharpe_ratio                        3.447821           4.660319  \n",
       "sortino_ratio                       5.501458           5.450762  \n",
       "var_95                             -0.015248          -0.007755  \n",
       "cvar_95                            -0.022259          -0.018975  \n",
       "skewness                           -0.026077           0.045441  \n",
       "kurtosis                            1.466651          11.430065  \n",
       "probabilistic_sharpe_ratio          0.991757           0.999399  \n",
       "pos_concentration                    0.00022            0.00118  \n",
       "neg_concentration                   0.000231           0.001449  \n",
       "time_concentration                  0.003814           0.003814  \n",
       "max_drawdown                        0.735471           0.580824  \n",
       "avg_drawdown                        0.262707           0.240104  \n",
       "drawdown_duration           97 days 00:36:00  121 days 06:45:00  \n",
       "ulcer_index                         0.335046           0.300642  \n",
       "calmar_ratio                        0.673251           0.898355  \n",
       "num_trades                              5970               5970  \n",
       "trades_per_year                         1493               1493  \n",
       "win_rate                            0.515913           0.499162  \n",
       "avg_win                             0.008122           0.003634  \n",
       "avg_loss                           -0.008008           -0.00302  \n",
       "best_trade                          0.041239           0.041239  \n",
       "worst_trade                        -0.046081          -0.046081  \n",
       "profit_factor                        1.08363           1.204433  \n",
       "expectancy                          0.000314           0.000301  \n",
       "kelly_criterion                      0.03866           0.082915  \n",
       "consecutive_wins                          42                 35  \n",
       "consecutive_losses                        35                 35  \n",
       "avg_trade_duration                       NaT                NaT  \n",
       "ratio_of_longs                      0.503269           0.503269  "
      ]
     },
     "execution_count": 39,
     "metadata": {},
     "output_type": "execute_result"
    }
   ],
   "source": [
    "span = (5, time_horizon)\n",
    "volatility_threshold = 0.1\n",
    "volatility_threshold_mr = 0.85\n",
    "\n",
    "thres = get_daily_vol(ma_df.close).mean() * vol_multiplier\n",
    "t_events = cusum_filter(ma_df.close, thres)\n",
    "print(f\"t_events: {len(t_events):,}\")\n",
    "\n",
    "side = ma_strategy.generate_signals(ma_df)\n",
    "close = ma_df.close\n",
    "\n",
    "ma_events_trend = get_trend_scanning_meta_labels(close, side, t_events, span, volatility_threshold)\n",
    "ma_events_trend_metrics = calculate_label_metrics(ma_df.index, side, ma_events_trend)\n",
    "\n",
    "ma_events_trend_mr = get_trend_scanning_meta_labels(close, side, t_events, span, volatility_threshold_mr)\n",
    "ma_events_trend_metrics_mr = calculate_label_metrics(ma_df.index, side, ma_events_trend_mr)\n",
    "\n",
    "# ma_events_trend_ffd = get_trend_scanning_meta_labels(close_ffd, side, t_events, span, volatility_threshold, use_log=False)\n",
    "\n",
    "ma_metrics_df = pd.DataFrame({\n",
    "    \"fixed_horizon\": ma_events_fh_metrics,\n",
    "    \"triple_barrier\": ma_events_tbl_metrics,\n",
    "    \"trend_scanning\": ma_events_trend_metrics,\n",
    "    \"trend_scanning_mr\": ma_events_trend_metrics_mr,\n",
    "    })\n",
    "\n",
    "print(f\"MACrossover_fast{fast_window}_slow{slow_window}:\")\n",
    "print(f\"ma_events_trend.shape: {ma_events_trend.shape}\\n\")\n",
    "ma_metrics_df"
   ]
  },
  {
   "cell_type": "markdown",
   "id": "303e1899",
   "metadata": {},
   "source": [
    "### Random Forest"
   ]
  },
  {
   "cell_type": "code",
   "execution_count": 40,
   "id": "53715e85",
   "metadata": {},
   "outputs": [],
   "source": [
    "random_state = 40\n",
    "min_w_leaf = 0.05\n",
    "\n",
    "rf = RandomForestClassifier(\n",
    "    criterion='entropy',\n",
    "    n_estimators=1000,\n",
    "    class_weight='balanced_subsample',\n",
    "    random_state=random_state,\n",
    "    min_weight_fraction_leaf=min_w_leaf,\n",
    "    n_jobs=-1,  # Use all available cores\n",
    "    )"
   ]
  },
  {
   "cell_type": "code",
   "execution_count": 43,
   "id": "296835e3",
   "metadata": {},
   "outputs": [
    {
     "name": "stdout",
     "output_type": "stream",
     "text": [
      "Fixed-Time Horizon Meta-Model Results:\n",
      "\n",
      "Primary-Model on Validation Set:\n",
      "              precision    recall  f1-score   support\n",
      "\n",
      "           0       0.00      0.00      0.00       878\n",
      "           1       0.51      1.00      0.67       911\n",
      "\n",
      "    accuracy                           0.51      1789\n",
      "   macro avg       0.25      0.50      0.34      1789\n",
      "weighted avg       0.26      0.51      0.34      1789\n",
      "\n",
      "\n",
      "Confusion Matrix:\n",
      "[[  0 878]\n",
      " [  0 911]]\n",
      "\n",
      "Meta-Model on Validation Set:\n",
      "              precision    recall  f1-score   support\n",
      "\n",
      "           0       0.50      0.73      0.59       878\n",
      "           1       0.53      0.30      0.38       911\n",
      "\n",
      "    accuracy                           0.51      1789\n",
      "   macro avg       0.51      0.51      0.49      1789\n",
      "weighted avg       0.51      0.51      0.48      1789\n",
      "\n",
      "\n",
      "Confusion Matrix:\n",
      "[[637 241]\n",
      " [640 271]]\n"
     ]
    },
    {
     "data": {
      "image/png": "[encoded data removed]",
      "text/plain": [
       "<Figure size 750x500 with 1 Axes>"
      ]
     },
     "metadata": {},
     "output_type": "display_data"
    }
   ],
   "source": [
    "model_ma_fh = train_meta_model(model=rf, features=ma_feat, labels=ma_events_fh)\n",
    "print(\"Fixed-Time Horizon Meta-Model Results:\\n\")\n",
    "meta_labelling_reports(\n",
    "    model_ma_fh.y_test, model_ma_fh.w_test, model_ma_fh.pred, model_ma_fh.prob, plot_roc=True\n",
    "    )"
   ]
  },
  {
   "cell_type": "code",
   "execution_count": 44,
   "id": "808ea536",
   "metadata": {},
   "outputs": [
    {
     "name": "stdout",
     "output_type": "stream",
     "text": [
      "Triple Barrier Meta-Model Results:\n",
      "\n",
      "Primary-Model on Validation Set:\n",
      "              precision    recall  f1-score   support\n",
      "\n",
      "           0       0.00      0.00      0.00      1383\n",
      "           1       0.23      1.00      0.37       412\n",
      "\n",
      "    accuracy                           0.23      1795\n",
      "   macro avg       0.11      0.50      0.19      1795\n",
      "weighted avg       0.05      0.23      0.09      1795\n",
      "\n",
      "\n",
      "Confusion Matrix:\n",
      "[[   0 1383]\n",
      " [   0  412]]\n",
      "\n",
      "Meta-Model on Validation Set:\n",
      "              precision    recall  f1-score   support\n",
      "\n",
      "           0       0.77      0.99      0.87      1383\n",
      "           1       0.48      0.02      0.05       412\n",
      "\n",
      "    accuracy                           0.77      1795\n",
      "   macro avg       0.62      0.51      0.46      1795\n",
      "weighted avg       0.71      0.77      0.68      1795\n",
      "\n",
      "\n",
      "Confusion Matrix:\n",
      "[[1372   11]\n",
      " [ 402   10]]\n"
     ]
    },
    {
     "data": {
      "image/png": "[encoded data removed]",
      "text/plain": [
       "<Figure size 750x500 with 1 Axes>"
      ]
     },
     "metadata": {},
     "output_type": "display_data"
    }
   ],
   "source": [
    "model_ma_tbl = train_meta_model(model=rf, features=ma_feat, labels=ma_events_tbl)\n",
    "print(\"Triple Barrier Meta-Model Results:\\n\")\n",
    "meta_labelling_reports(\n",
    "    model_ma_tbl.y_test, model_ma_tbl.w_test, model_ma_tbl.pred, model_ma_tbl.prob, plot_roc=True\n",
    "    )"
   ]
  },
  {
   "cell_type": "code",
   "execution_count": 45,
   "id": "846cec1b",
   "metadata": {},
   "outputs": [
    {
     "name": "stdout",
     "output_type": "stream",
     "text": [
      "Trend-Scanning Meta-Model Results:\n",
      "\n",
      "Primary-Model on Validation Set:\n",
      "              precision    recall  f1-score   support\n",
      "\n",
      "           0       0.00      0.00      0.00       981\n",
      "           1       0.45      1.00      0.62       809\n",
      "\n",
      "    accuracy                           0.45      1790\n",
      "   macro avg       0.23      0.50      0.31      1790\n",
      "weighted avg       0.20      0.45      0.28      1790\n",
      "\n",
      "\n",
      "Confusion Matrix:\n",
      "[[  0 981]\n",
      " [  0 809]]\n",
      "\n",
      "Meta-Model on Validation Set:\n",
      "              precision    recall  f1-score   support\n",
      "\n",
      "           0       0.58      0.79      0.67       981\n",
      "           1       0.54      0.30      0.39       809\n",
      "\n",
      "    accuracy                           0.57      1790\n",
      "   macro avg       0.56      0.55      0.53      1790\n",
      "weighted avg       0.56      0.57      0.54      1790\n",
      "\n",
      "\n",
      "Confusion Matrix:\n",
      "[[777 204]\n",
      " [566 243]]\n"
     ]
    },
    {
     "data": {
      "image/png": "[encoded data removed]",
      "text/plain": [
       "<Figure size 750x500 with 1 Axes>"
      ]
     },
     "metadata": {},
     "output_type": "display_data"
    }
   ],
   "source": [
    "model_ma_trend = train_meta_model(model=rf, features=ma_feat, labels=ma_events_trend)\n",
    "print(\"Trend-Scanning Meta-Model Results:\\n\")\n",
    "meta_labelling_reports(\n",
    "    model_ma_trend.y_test, model_ma_trend.w_test, model_ma_trend.pred, model_ma_trend.prob, plot_roc=True\n",
    "    )"
   ]
  },
  {
   "cell_type": "code",
   "execution_count": 46,
   "id": "eea1522e",
   "metadata": {},
   "outputs": [
    {
     "name": "stdout",
     "output_type": "stream",
     "text": [
      "Trend-Scanning Meta-Model Results:\n",
      "\n",
      "Primary-Model on Validation Set:\n",
      "              precision    recall  f1-score   support\n",
      "\n",
      "           0       0.00      0.00      0.00      1707\n",
      "           1       0.05      1.00      0.09        83\n",
      "\n",
      "    accuracy                           0.05      1790\n",
      "   macro avg       0.02      0.50      0.04      1790\n",
      "weighted avg       0.00      0.05      0.00      1790\n",
      "\n",
      "\n",
      "Confusion Matrix:\n",
      "[[   0 1707]\n",
      " [   0   83]]\n",
      "\n",
      "Meta-Model on Validation Set:\n",
      "              precision    recall  f1-score   support\n",
      "\n",
      "           0       0.96      0.97      0.96      1707\n",
      "           1       0.16      0.13      0.15        83\n",
      "\n",
      "    accuracy                           0.93      1790\n",
      "   macro avg       0.56      0.55      0.55      1790\n",
      "weighted avg       0.92      0.93      0.92      1790\n",
      "\n",
      "\n",
      "Confusion Matrix:\n",
      "[[1651   56]\n",
      " [  72   11]]\n"
     ]
    },
    {
     "data": {
      "image/png": "[encoded data removed]",
      "text/plain": [
       "<Figure size 750x500 with 1 Axes>"
      ]
     },
     "metadata": {},
     "output_type": "display_data"
    }
   ],
   "source": [
    "model_ma_trend_mr = train_meta_model(model=rf, features=ma_feat, labels=ma_events_trend_mr)\n",
    "print(\"Trend-Scanning Meta-Model Results:\\n\")\n",
    "meta_labelling_reports(\n",
    "    model_ma_trend_mr.y_test, model_ma_trend_mr.w_test, model_ma_trend_mr.pred, model_ma_trend_mr.prob, plot_roc=True\n",
    "    )"
   ]
  },
  {
   "cell_type": "code",
   "execution_count": 47,
   "id": "bc62f830",
   "metadata": {},
   "outputs": [
    {
     "name": "stdout",
     "output_type": "stream",
     "text": [
      "Classification Report (as text):\n",
      "              precision    recall  f1-score   support\n",
      "\n",
      "           0       0.00      0.00      0.00       878\n",
      "           1       0.51      1.00      0.67       911\n",
      "\n",
      "    accuracy                           0.51      1789\n",
      "   macro avg       0.25      0.50      0.34      1789\n",
      "weighted avg       0.26      0.51      0.34      1789\n",
      "\n",
      "\n",
      "Confusion Matrix:\n",
      "[[  0 878]\n",
      " [  0 911]]\n",
      "\n",
      "Accuracy:\n",
      "0.5092230296254892\n",
      "\n",
      "Successfully generated and saved 'reports/ma_fixed_time_primary_clf_report.png'\n",
      "Classification Report (as text):\n",
      "              precision    recall  f1-score   support\n",
      "\n",
      "           0       0.50      0.73      0.59       878\n",
      "           1       0.53      0.30      0.38       911\n",
      "\n",
      "    accuracy                           0.51      1789\n",
      "   macro avg       0.51      0.51      0.49      1789\n",
      "weighted avg       0.51      0.51      0.48      1789\n",
      "\n",
      "\n",
      "Confusion Matrix:\n",
      "[[637 241]\n",
      " [640 271]]\n",
      "\n",
      "Accuracy:\n",
      "0.5075461151481274\n",
      "\n",
      "Successfully generated and saved 'reports/ma_fixed_time_meta_clf_report.png'\n",
      "Classification reports saved.\n",
      "\n",
      "Classification Report (as text):\n",
      "              precision    recall  f1-score   support\n",
      "\n",
      "           0       0.00      0.00      0.00      1383\n",
      "           1       0.23      1.00      0.37       412\n",
      "\n",
      "    accuracy                           0.23      1795\n",
      "   macro avg       0.11      0.50      0.19      1795\n",
      "weighted avg       0.05      0.23      0.09      1795\n",
      "\n",
      "\n",
      "Confusion Matrix:\n",
      "[[   0 1383]\n",
      " [   0  412]]\n",
      "\n",
      "Accuracy:\n",
      "0.22952646239554317\n",
      "\n",
      "Successfully generated and saved 'reports/ma_triple_barrier_primary_clf_report.png'\n",
      "Classification Report (as text):\n",
      "              precision    recall  f1-score   support\n",
      "\n",
      "           0       0.77      0.99      0.87      1383\n",
      "           1       0.48      0.02      0.05       412\n",
      "\n",
      "    accuracy                           0.77      1795\n",
      "   macro avg       0.62      0.51      0.46      1795\n",
      "weighted avg       0.71      0.77      0.68      1795\n",
      "\n",
      "\n",
      "Confusion Matrix:\n",
      "[[1372   11]\n",
      " [ 402   10]]\n",
      "\n",
      "Accuracy:\n",
      "0.7699164345403899\n",
      "\n",
      "Successfully generated and saved 'reports/ma_triple_barrier_meta_clf_report.png'\n",
      "Classification reports saved.\n",
      "\n",
      "Classification Report (as text):\n",
      "              precision    recall  f1-score   support\n",
      "\n",
      "           0       0.00      0.00      0.00       981\n",
      "           1       0.45      1.00      0.62       809\n",
      "\n",
      "    accuracy                           0.45      1790\n",
      "   macro avg       0.23      0.50      0.31      1790\n",
      "weighted avg       0.20      0.45      0.28      1790\n",
      "\n",
      "\n",
      "Confusion Matrix:\n",
      "[[  0 981]\n",
      " [  0 809]]\n",
      "\n",
      "Accuracy:\n",
      "0.4519553072625698\n",
      "\n",
      "Successfully generated and saved 'reports/ma_trend_scanning_primary_clf_report.png'\n",
      "Classification Report (as text):\n",
      "              precision    recall  f1-score   support\n",
      "\n",
      "           0       0.58      0.79      0.67       981\n",
      "           1       0.54      0.30      0.39       809\n",
      "\n",
      "    accuracy                           0.57      1790\n",
      "   macro avg       0.56      0.55      0.53      1790\n",
      "weighted avg       0.56      0.57      0.54      1790\n",
      "\n",
      "\n",
      "Confusion Matrix:\n",
      "[[777 204]\n",
      " [566 243]]\n",
      "\n",
      "Accuracy:\n",
      "0.5698324022346368\n",
      "\n",
      "Successfully generated and saved 'reports/ma_trend_scanning_meta_clf_report.png'\n",
      "Classification reports saved.\n",
      "\n",
      "Classification Report (as text):\n",
      "              precision    recall  f1-score   support\n",
      "\n",
      "           0       0.00      0.00      0.00      1707\n",
      "           1       0.05      1.00      0.09        83\n",
      "\n",
      "    accuracy                           0.05      1790\n",
      "   macro avg       0.02      0.50      0.04      1790\n",
      "weighted avg       0.00      0.05      0.00      1790\n",
      "\n",
      "\n",
      "Confusion Matrix:\n",
      "[[   0 1707]\n",
      " [   0   83]]\n",
      "\n",
      "Accuracy:\n",
      "0.04636871508379888\n",
      "\n",
      "Successfully generated and saved 'reports/ma_trend_scanning_mr_primary_clf_report.png'\n",
      "Classification Report (as text):\n",
      "              precision    recall  f1-score   support\n",
      "\n",
      "           0       0.96      0.97      0.96      1707\n",
      "           1       0.16      0.13      0.15        83\n",
      "\n",
      "    accuracy                           0.93      1790\n",
      "   macro avg       0.56      0.55      0.55      1790\n",
      "weighted avg       0.92      0.93      0.92      1790\n",
      "\n",
      "\n",
      "Confusion Matrix:\n",
      "[[1651   56]\n",
      " [  72   11]]\n",
      "\n",
      "Accuracy:\n",
      "0.9284916201117318\n",
      "\n",
      "Successfully generated and saved 'reports/ma_trend_scanning_mr_meta_clf_report.png'\n",
      "Classification reports saved.\n",
      "\n"
     ]
    }
   ],
   "source": [
    "dirpath = \"reports\"\n",
    "meta_labelling_classification_reports(model_data=model_ma_fh, title=\"Fixed-Time Horizon\", output_filename=f\"{dirpath}/ma_fixed_time\")\n",
    "meta_labelling_classification_reports(model_data=model_ma_tbl, title=\"Triple Barrier\", output_filename=f\"{dirpath}/ma_triple_barrier\")\n",
    "meta_labelling_classification_reports(model_data=model_ma_trend, title=f\"Trend-Scanning (σ_threshold={volatility_threshold})\", \n",
    "                                      output_filename=f\"{dirpath}/ma_trend_scanning\")\n",
    "meta_labelling_classification_reports(model_data=model_ma_trend_mr, title=f\"Trend-Scanning (σ_threshold={volatility_threshold_mr})\", \n",
    "                                      output_filename=f\"{dirpath}/ma_trend_scanning_mr\")"
   ]
  },
  {
   "cell_type": "code",
   "execution_count": 49,
   "id": "a37b0afe",
   "metadata": {},
   "outputs": [
    {
     "data": {
      "image/png": "[encoded data removed]",
      "text/plain": [
       "<Figure size 750x500 with 4 Axes>"
      ]
     },
     "metadata": {},
     "output_type": "display_data"
    }
   ],
   "source": [
    "titles = [\n",
    "    f\"Fixed-Time Horizon (h={time_horizon})\", \n",
    "    f\"Triple Barrier (pt={pt_barrier}, sl={sl_barrier}, h={time_horizon})\", \n",
    "    f\"Trend-Scanning ($\\\\sigma_{{\\\\text{{threshold}}}} = {volatility_threshold}$)\",\n",
    "    f\"Trend-Scanning ($\\\\sigma_{{\\\\text{{threshold}}}} = {volatility_threshold_mr}$)\",\n",
    "    ]\n",
    "ma_models = [model_ma_fh, model_ma_tbl, model_ma_trend, model_ma_trend_mr]\n",
    "ma_roc = compare_roc_curves(ma_models, titles)\n",
    "ma_roc.savefig(\"reports/ma_roc_comparison.png\")"
   ]
  },
  {
   "cell_type": "code",
   "execution_count": null,
   "id": "799ea2d8",
   "metadata": {},
   "outputs": [],
   "source": []
  },
  {
   "cell_type": "code",
   "execution_count": null,
   "id": "e45fec13",
   "metadata": {},
   "outputs": [],
   "source": []
  }
 ],
 "metadata": {
  "kernelspec": {
   "display_name": "mlfinlab_env",
   "language": "python",
   "name": "python3"
  },
  "language_info": {
   "codemirror_mode": {
    "name": "ipython",
    "version": 3
   },
   "file_extension": ".py",
   "mimetype": "text/x-python",
   "name": "python",
   "nbconvert_exporter": "python",
   "pygments_lexer": "ipython3",
   "version": "3.10.18"
  }
 },
 "nbformat": 4,
 "nbformat_minor": 5
}
