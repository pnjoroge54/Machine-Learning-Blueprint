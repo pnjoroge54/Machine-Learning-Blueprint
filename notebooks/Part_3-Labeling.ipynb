{
 "cells": [
  {
   "cell_type": "markdown",
   "id": "883cfcc8",
   "metadata": {
    "vscode": {
     "languageId": "plaintext"
    }
   },
   "source": [
    "# Meta-Labeling Experiments: A Step-by-Step Guide\n",
    "\n",
    "## Introduction\n",
    "\n",
    "This notebook recreates the meta-labeling experiments from Hudson & Thames' research in a beginner-friendly manner. Meta-labeling is a machine learning technique that sits on top of a primary trading strategy to improve performance by filtering out false positive signals.\n",
    "\n",
    "**Key Concepts:**\n",
    "- **Primary Model**: Generates trading signals (buy/sell/hold)\n",
    "- **Triple Barrier Method**: Advanced labeling technique that accounts for stop-loss, take-profit, and time-based exits\n",
    "- **Meta-Labeling**: Secondary ML model that decides whether to act on primary model signals\n",
    "- **Goal**: Improve Sharpe ratio, reduce drawdown, and increase precision\n",
    "\n",
    "## Setup and Dependencies"
   ]
  },
  {
   "cell_type": "code",
   "execution_count": 8,
   "id": "607009b9",
   "metadata": {},
   "outputs": [
    {
     "name": "stdout",
     "output_type": "stream",
     "text": [
      "The autoreload extension is already loaded. To reload it, use:\n",
      "  %reload_ext autoreload\n",
      "The line_profiler extension is already loaded. To reload it, use:\n",
      "  %reload_ext line_profiler\n",
      "Working Dir: c:\\Users\\JoeN\\Documents\\GitHub\\Machine-Learning-Blueprint\\notebooks\n"
     ]
    }
   ],
   "source": [
    "# --- Extension Setup ---\n",
    "%load_ext autoreload\n",
    "%load_ext line_profiler\n",
    "%autoreload 2 -p\n",
    "\n",
    "# --- Module Imports ---\n",
    "import sys\n",
    "sys.path.append(\"..\")  # Adjust if your afml repo is nested differently\n",
    "\n",
    "# --- Autoreload Target ---\n",
    "%aimport afml\n",
    "\n",
    "# --- AFML Initialization ---\n",
    "import afml\n",
    "\n",
    "# # --- Logging (Optional but Recommended) ---\n",
    "# from loguru import logger\n",
    "# from pathlib import Path\n",
    "\n",
    "# # Optional: clear old logs\n",
    "# log_path = Path(\"logs\") / \"afml_session.log\"\n",
    "# log_path.parent.mkdir(exist_ok=True)\n",
    "# log_path.unlink(missing_ok=True)\n",
    "\n",
    "# # Configure Loguru\n",
    "# logger.add(log_path, level=\"INFO\", rotation=\"10 MB\", retention=\"10 days\")\n",
    "# logger.info(\"Session started\")\n",
    "\n",
    "# --- Environment Diagnostics ---\n",
    "from pathlib import Path\n",
    "print(f\"Working Dir: {Path.cwd()}\")\n"
   ]
  },
  {
   "cell_type": "code",
   "execution_count": null,
   "id": "2507ee02",
   "metadata": {},
   "outputs": [],
   "source": [
    "import copy\n",
    "import warnings\n",
    "import winsound\n",
    "from datetime import datetime as dt\n",
    "from datetime import timedelta\n",
    "from pathlib import Path\n",
    "from pprint import pprint\n",
    "\n",
    "import matplotlib.pyplot as plt\n",
    "import MetaTrader5 as mt5\n",
    "import numpy as np\n",
    "import pandas as pd\n",
    "import pandas_ta as ta\n",
    "import seaborn as sns\n",
    "import talib\n",
    "from sklearn.ensemble import RandomForestClassifier\n",
    "\n",
    "from afml.backtest_statistics import (  # get_optimal_threshold,\n",
    "    calculate_performance_metrics,\n",
    "    compare_pr_curves,\n",
    "    compare_roc_curves,\n",
    "    compare_roc_pr_curves,\n",
    "    meta_labelling_classification_report_images,\n",
    "    meta_labelling_classification_report_tables,\n",
    "    meta_labelling_reports,\n",
    "    run_meta_labeling_analysis,\n",
    ")\n",
    "from afml.bet_sizing.bet_sizing import bet_size_probability\n",
    "from afml.cache import cache_maintenance, clear_afml_cache, selective_cache_clear\n",
    "from afml.data_structures.bars import *\n",
    "from afml.features import get_fractal_features, get_time_features, is_stationary\n",
    "from afml.filters import cusum_filter\n",
    "from afml.labeling import (\n",
    "    add_vertical_barrier,\n",
    "    get_event_weights,\n",
    "    get_events,\n",
    "    trend_scanning_labels,\n",
    "    triple_barrier_labels,\n",
    ")\n",
    "from afml.mt5.load_data import (\n",
    "    clean_tick_data,\n",
    "    get_ticks,\n",
    "    load_tick_data,\n",
    "    login_mt5,\n",
    "    save_data_to_parquet,\n",
    ")\n",
    "from afml.strategies import (\n",
    "    BollingerStrategy,\n",
    "    MACrossoverStrategy,\n",
    "    create_bollinger_features,\n",
    "    get_entries,\n",
    "    plot_bbands,\n",
    "    plot_bbands_dual_bbp_bw,\n",
    ")\n",
    "from afml.strategies.training import get_trend_scanning_meta_labels, train_meta_model\n",
    "from afml.util import (\n",
    "    CLEAN_DATA_PATH,\n",
    "    COMMODITIES,\n",
    "    CRYPTO,\n",
    "    DATA_PATH,\n",
    "    FX_MAJORS,\n",
    "    GREEKS,\n",
    "    PERCENTILES,\n",
    "    UTC,\n",
    "    DataFrameFormatter,\n",
    "    get_daily_vol,\n",
    "    get_period_vol,\n",
    "    smart_subscript,\n",
    "    to_subscript,\n",
    "    value_counts_data,\n",
    ")\n",
    "\n",
    "warnings.filterwarnings(\"ignore\")\n",
    "plt.style.use(\"dark_background\")"
   ]
  },
  {
   "cell_type": "code",
   "execution_count": null,
   "id": "bf608c7b",
   "metadata": {},
   "outputs": [
    {
     "name": "stdout",
     "output_type": "stream",
     "text": [
      "\u001b[32m2025-09-15 18:45:32\u001b[0m | \u001b[1mINFO    \u001b[0m | \u001b[1mNo function changes detected\u001b[0m\n",
      "\u001b[32m2025-09-15 18:45:32\u001b[0m | \u001b[1mINFO    \u001b[0m | \u001b[1mCache maintenance completed: 10 functions checked\u001b[0m\n",
      "{'functions_checked': 10,\n",
      " 'changed_functions': [],\n",
      " 'cleared_functions': [],\n",
      " 'size_cleared_mb': 0,\n",
      " 'old_files_removed': 0}\n"
     ]
    }
   ],
   "source": [
    "pprint(cache_maintenance(), sort_dicts=False)\n",
    "# clear_afml_cache()"
   ]
  },
  {
   "cell_type": "markdown",
   "id": "160822e7",
   "metadata": {},
   "source": [
    "## 1. Data Preparation"
   ]
  },
  {
   "cell_type": "code",
   "execution_count": null,
   "id": "2f257b76",
   "metadata": {},
   "outputs": [],
   "source": [
    "account = \"FundedNext_STLR2_6K\"\n",
    "# account = \"METAQUOTES_DEMO_25K\"\n",
    "# account = login_mt5(account)\n",
    "symbol = \"EURUSD\"\n",
    "columns = ['bid', 'ask']\n",
    "tick_bar_dict = {\"M1\": 50, \"M5\": 200, \"M15\": 700, \"M30\": 1000, \"H1\": 3000}\n",
    "tick_df = None\n",
    "\n",
    "start_date, end_date = \"2018-01-01\", \"2024-12-31\"\n",
    "sample_start, sample_end = start_date, \"2021-12-31\"\n",
    "oos_start = pd.Timestamp(sample_end) + timedelta(days=1) # Out-of-sample start date"
   ]
  },
  {
   "cell_type": "code",
   "execution_count": null,
   "id": "f816170a",
   "metadata": {},
   "outputs": [],
   "source": [
    "def get_data(symbol, timeframe, dirpath=\"../data\"):\n",
    "    \"\"\"Returns time-bars and tick-bars for timeframe\"\"\"\n",
    "    global tick_df\n",
    "    timeframe = timeframe.title()\n",
    "    directory = Path(dirpath)\n",
    "    tick_bar_size = tick_bar_dict.get(timeframe)\n",
    "    fname = Path(dirpath, f\"{symbol}_{timeframe}_time_{start_date}-{end_date}.parq\")\n",
    "    fname1 = Path(dirpath, f\"{symbol}_{timeframe}_tick-{tick_bar_size}_{start_date}-{end_date}.parq\")\n",
    "    time_bars, tick_bars = (None, None)\n",
    "\n",
    "    # --- Construct the search pattern ---\n",
    "    # The '*' is a wildcard that matches any sequence of characters\n",
    "    search_pattern = f\"{symbol}_{timeframe}_*\"\n",
    "\n",
    "    # --- Find the files ---\n",
    "    # glob() returns a generator, so you can iterate over it\n",
    "    found_files = directory.glob(search_pattern)\n",
    "\n",
    "    # --- Print the results ---\n",
    "    for file in found_files:\n",
    "        if fname == file:\n",
    "            time_bars = pd.read_parquet(fname)\n",
    "            print(\"Loaded\", file.name)\n",
    "        elif fname1 == file:\n",
    "            tick_bars = pd.read_parquet(fname1)\n",
    "            print(\"Loaded\", file.name)\n",
    "        \n",
    "    if any(x is None for x in (time_bars, tick_bars)):\n",
    "        try:\n",
    "            tick_df = load_tick_data(CLEAN_DATA_PATH, symbol, start_date, end_date, account, columns)\n",
    "            print(f\"Loading ticks from {CLEAN_DATA_PATH}...\")\n",
    "        except FileNotFoundError:\n",
    "            print(f\"Downloading ticks to {DATA_PATH}...\")\n",
    "            save_data_to_parquet(DATA_PATH, symbol, start_date, end_date, account)\n",
    "            tick_df = load_tick_data(DATA_PATH, symbol, start_date, end_date, account, columns)\n",
    "            tick_df = clean_tick_data(tick_df)\n",
    "        if time_bars is None:\n",
    "            time_bars = make_bars(tick_df, bar_type=\"time\", timeframe=timeframe, price=\"bid_ask\", verbose=True)\n",
    "            time_bars.to_parquet(fname)\n",
    "        if tick_bars is None:\n",
    "            tick_bar_size = calculate_ticks_per_period(tick_df, timeframe)\n",
    "            tick_bar_dict[timeframe] = tick_bar_size\n",
    "            tick_bars = make_bars(tick_df, bar_type=\"tick\", bar_size=tick_bar_size, price=\"bid_ask\", verbose=True)\n",
    "            fname1 = Path(dirpath, f\"{symbol}_{timeframe}_tick-{tick_bar_size}_{start_date}-{end_date}.parq\")\n",
    "            tick_bars.to_parquet(fname1)\n",
    "\n",
    "    return time_bars, tick_bars"
   ]
  },
  {
   "cell_type": "markdown",
   "id": "9129c536",
   "metadata": {},
   "source": [
    "## 2. Bollinger Band Strategy"
   ]
  },
  {
   "cell_type": "code",
   "execution_count": null,
   "id": "f960964f",
   "metadata": {},
   "outputs": [
    {
     "name": "stdout",
     "output_type": "stream",
     "text": [
      "M5 = tick-200\n",
      "Loaded EURUSD_M5_tick-200_2018-01-01-2024-12-31.parq\n",
      "Loaded EURUSD_M5_time_2018-01-01-2024-12-31.parq\n"
     ]
    }
   ],
   "source": [
    "bb_timeframe = \"M5\"\n",
    "tick_bar_size = tick_bar_dict.get(bb_timeframe)\n",
    "print(f\"{bb_timeframe} = tick-{tick_bar_size}\")\n",
    "bb_time_bars, bb_tick_bars = get_data(symbol, bb_timeframe)\n",
    "bar_size = f\"tick-{bb_tick_bars.tick_volume.iloc[0]}\""
   ]
  },
  {
   "cell_type": "code",
   "execution_count": null,
   "id": "aaae6549",
   "metadata": {},
   "outputs": [],
   "source": [
    "bb_period, bb_std = 20, 1.5 # Bollinger Band parameters\n",
    "bb_strategy = BollingerStrategy(window=bb_period, num_std=bb_std)\n",
    "bb_lookback = 10\n",
    "bb_pt_barrier, bb_sl_barrier, bb_time_horizon = (1, 2, 50)\n",
    "bb_vol_multiplier = 1"
   ]
  },
  {
   "cell_type": "markdown",
   "id": "731dc60b",
   "metadata": {},
   "source": [
    "#### Volatility Charts"
   ]
  },
  {
   "cell_type": "code",
   "execution_count": null,
   "id": "e1a12d8c",
   "metadata": {},
   "outputs": [
    {
     "name": "stdout",
     "output_type": "stream",
     "text": [
      "Loaded EURUSD_H1_tick-3000_2018-01-01-2024-12-31.parq\n",
      "Loaded EURUSD_H1_time_2018-01-01-2024-12-31.parq\n"
     ]
    }
   ],
   "source": [
    "start = \"2018-01-01 06:00\"\n",
    "end = \"2018-03-01 06:00\"\n",
    "df_time_bars, df_tick_bars = get_data(symbol, timeframe=\"H1\")\n",
    "vol_lookback0 = 100"
   ]
  },
  {
   "cell_type": "code",
   "execution_count": null,
   "id": "e8a1dd93",
   "metadata": {},
   "outputs": [
    {
     "name": "stdout",
     "output_type": "stream",
     "text": [
      "\u001b[32m2025-09-15 21:45:55\u001b[0m | \u001b[1mINFO    \u001b[0m | \u001b[1m2,245 CUSUM-filtered events\u001b[0m\n",
      "\u001b[32m2025-09-15 21:45:55\u001b[0m | \u001b[1mINFO    \u001b[0m | \u001b[1mBollinger_w20_std1.5 | 1,791 (14.24%) trade events selected by CUSUM filter (threshold = 0.4014%).\u001b[0m\n"
     ]
    },
    {
     "data": {
      "image/png": "[encoded data removed]",
      "text/plain": [
       "<Figure size 1000x600 with 2 Axes>"
      ]
     },
     "metadata": {},
     "output_type": "display_data"
    }
   ],
   "source": [
    "close_time = df_time_bars.close.loc[start:end]\n",
    "target_time = get_daily_vol(close_time, vol_lookback0).reindex(close_time.index)\n",
    "side, t_events_time = get_entries(bb_strategy, df_time_bars, filter_threshold=target_time.mean())\n",
    "\n",
    "fig, ax = plt.subplots(2, 1, figsize=(10, 6), height_ratios=[3,2], sharex=True)\n",
    "\n",
    "close_time.plot(ax=ax[0], legend=True, ylabel=\"Price\", linewidth=1, grid=True, alpha=0.7)\n",
    "ax[0].scatter(t_events_time, close_time.reindex(t_events_time), marker='x', color='red', s=40)\n",
    "target_time.plot(ax=ax[1], legend=True, ylabel=r\"$\\sigma$\", label=fr\"$\\sigma$ Daily EWM({vol_lookback0})\", linewidth=1, grid=True)\n",
    "\n",
    "fig.suptitle(f\"{symbol} ({bb_timeframe})\", fontsize=13)\n",
    "fig.subplots_adjust(top=0.9)"
   ]
  },
  {
   "cell_type": "code",
   "execution_count": null,
   "id": "17b810b6",
   "metadata": {},
   "outputs": [
    {
     "name": "stdout",
     "output_type": "stream",
     "text": [
      "\u001b[32m2025-09-15 21:46:11\u001b[0m | \u001b[1mINFO    \u001b[0m | \u001b[1m3,617 CUSUM-filtered events\u001b[0m\n",
      "\u001b[32m2025-09-15 21:46:11\u001b[0m | \u001b[1mINFO    \u001b[0m | \u001b[1mBollinger_w20_std1.5 | 2,807 (15.92%) trade events selected by CUSUM filter (threshold = 0.3375%).\u001b[0m\n"
     ]
    },
    {
     "data": {
      "image/png": "[encoded data removed]",
      "text/plain": [
       "<Figure size 1000x600 with 2 Axes>"
      ]
     },
     "metadata": {},
     "output_type": "display_data"
    }
   ],
   "source": [
    "close_tick = df_tick_bars.close.loc[start:end]\n",
    "target_tick = get_daily_vol(close_tick, vol_lookback0)\n",
    "side, t_events_tick = get_entries(bb_strategy, df_tick_bars, filter_threshold=target_tick.mean())\n",
    "\n",
    "fig, ax = plt.subplots(2, 1, figsize=(10, 6), height_ratios=[3,2], sharex=True)\n",
    "\n",
    "close_tick.plot(ax=ax[0], legend=True, ylabel=\"Price\", linewidth=1, grid=True, alpha=0.7)\n",
    "ax[0].scatter(t_events_tick, close_tick.reindex(t_events_tick), marker='x', color='red', s=40)\n",
    "target_tick.plot(ax=ax[1], legend=True, ylabel=r\"$\\sigma$\", label=fr\"$\\sigma$ Daily EWM({vol_lookback0})\", linewidth=1, grid=True)\n",
    "\n",
    "fig.suptitle(f\"{symbol} ({f'tick-{df_tick_bars.tick_volume.iloc[0]}'})\", fontsize=13)\n",
    "plt.subplots_adjust(top=0.9)"
   ]
  },
  {
   "cell_type": "markdown",
   "id": "e83dccff",
   "metadata": {},
   "source": [
    "### Time-Bars"
   ]
  },
  {
   "cell_type": "code",
   "execution_count": null,
   "id": "144d9465",
   "metadata": {},
   "outputs": [
    {
     "name": "stdout",
     "output_type": "stream",
     "text": [
      "Bollinger_w20_std1.5 Signals:\n",
      "\n",
      "        count  proportion\n",
      "side                     \n",
      " 0    198,417    0.671105\n",
      "-1     48,987    0.165689\n",
      " 1     48,253    0.163206\n",
      "\n",
      "\u001b[32m2025-09-15 21:15:29\u001b[0m | \u001b[1mINFO    \u001b[0m | \u001b[1m9,708 CUSUM-filtered events\u001b[0m\n",
      "\u001b[32m2025-09-15 21:15:29\u001b[0m | \u001b[1mINFO    \u001b[0m | \u001b[1mBollinger_w20_std1.5 | 7,834 (8.06%) trade events selected by CUSUM filter (threshold = 0.1425%).\u001b[0m\n"
     ]
    }
   ],
   "source": [
    "bb_side = bb_strategy.generate_signals(bb_time_bars)\n",
    "bb_df = bb_time_bars.loc[sample_start : sample_end]\n",
    "\n",
    "print(f\"{bb_strategy.get_strategy_name()} Signals:\")\n",
    "value_counts_data(bb_side.reindex(bb_df.index), verbose=True)\n",
    "\n",
    "# Volatility target for barriers\n",
    "vol_lookback = 100\n",
    "vol_target = get_daily_vol(bb_df.close, vol_lookback) * bb_vol_multiplier\n",
    "close = bb_df.close\n",
    "\n",
    "thres = vol_target.mean()\n",
    "side, t_events = get_entries(bb_strategy, bb_df, filter_threshold=thres)\n",
    "\n",
    "vertical_barriers = add_vertical_barrier(t_events, close, num_bars=bb_time_horizon)\n",
    "linear_decay = False"
   ]
  },
  {
   "cell_type": "markdown",
   "id": "76ada8a2",
   "metadata": {},
   "source": [
    "#### Feature Engineering"
   ]
  },
  {
   "cell_type": "code",
   "execution_count": null,
   "id": "63d09b56",
   "metadata": {},
   "outputs": [
    {
     "name": "stdout",
     "output_type": "stream",
     "text": [
      "<class 'pandas.core.frame.DataFrame'>\n",
      "DatetimeIndex: 513293 entries, 2018-01-19 07:40:00 to 2024-12-31 00:00:00\n",
      "Data columns (total 52 columns):\n",
      " #   Column            Non-Null Count   Dtype  \n",
      "---  ------            --------------   -----  \n",
      " 0   close             513293 non-null  float32\n",
      " 1   spread            513293 non-null  float32\n",
      " 2   bb_lower          513293 non-null  float32\n",
      " 3   bb_mid            513293 non-null  float32\n",
      " 4   bb_upper          513293 non-null  float32\n",
      " 5   bb_bandwidth      513293 non-null  float32\n",
      " 6   bb_percentage     513293 non-null  float64\n",
      " 7   ret               513293 non-null  float32\n",
      " 8   ret_5             513293 non-null  float32\n",
      " 9   ret_10            513293 non-null  float32\n",
      " 10  ret_1_lag_1       513293 non-null  float32\n",
      " 11  ret_5_lag_1       513293 non-null  float32\n",
      " 12  ret_10_lag_1      513293 non-null  float32\n",
      " 13  ret_1_lag_2       513293 non-null  float32\n",
      " 14  ret_5_lag_2       513293 non-null  float32\n",
      " 15  ret_10_lag_2      513293 non-null  float32\n",
      " 16  ret_1_lag_3       513293 non-null  float32\n",
      " 17  ret_5_lag_3       513293 non-null  float32\n",
      " 18  ret_10_lag_3      513293 non-null  float32\n",
      " 19  vol               513293 non-null  float32\n",
      " 20  vol_20            513293 non-null  float32\n",
      " 21  vol_lag_1         513293 non-null  float32\n",
      " 22  vol_lag_2         513293 non-null  float32\n",
      " 23  vol_lag_3         513293 non-null  float32\n",
      " 24  vol_lag_4         513293 non-null  float32\n",
      " 25  vol_lag_5         513293 non-null  float32\n",
      " 26  autocorr          513293 non-null  float32\n",
      " 27  autocorr_1        513293 non-null  float32\n",
      " 28  autocorr_2        513293 non-null  float32\n",
      " 29  autocorr_3        513293 non-null  float32\n",
      " 30  autocorr_4        513293 non-null  float32\n",
      " 31  autocorr_5        513293 non-null  float32\n",
      " 32  H1_vol            513293 non-null  float32\n",
      " 33  H4_vol            513293 non-null  float32\n",
      " 34  D1_vol            513293 non-null  float32\n",
      " 35  ret_skew          513293 non-null  float32\n",
      " 36  ret_kurt          513293 non-null  float32\n",
      " 37  tr                513293 non-null  float32\n",
      " 38  atr               513293 non-null  float32\n",
      " 39  sma_diff_5_10     513293 non-null  float32\n",
      " 40  sma_diff_10_20    513293 non-null  float32\n",
      " 41  sma_diff_10_100   513293 non-null  float32\n",
      " 42  sma_diff_100_200  513293 non-null  float32\n",
      " 43  rsi               513293 non-null  float32\n",
      " 44  stoch_rsi_k       513293 non-null  float32\n",
      " 45  stoch_rsi_d       513293 non-null  float32\n",
      " 46  adx               513293 non-null  float32\n",
      " 47  dmp               513293 non-null  float32\n",
      " 48  dmn               513293 non-null  float32\n",
      " 49  dm_net            513293 non-null  float32\n",
      " 50  macd              513293 non-null  float32\n",
      " 51  macdh             513293 non-null  float32\n",
      "dtypes: float32(51), float64(1)\n",
      "memory usage: 107.7 MB\n"
     ]
    }
   ],
   "source": [
    "bb_feat = create_bollinger_features(bb_time_bars, bb_lookback, bb_period, bb_std)\n",
    "bb_feat_time = bb_feat.dropna()\n",
    "bb_feat_time.info()\n",
    "# not_stationary = is_stationary(bb_feat_time)"
   ]
  },
  {
   "cell_type": "markdown",
   "id": "bd2284a3",
   "metadata": {},
   "source": [
    "#### Fixed-Time Horizon Method"
   ]
  },
  {
   "cell_type": "code",
   "execution_count": null,
   "id": "49460fd5",
   "metadata": {},
   "outputs": [
    {
     "name": "stdout",
     "output_type": "stream",
     "text": [
      "Fixed-Time Horizon (h=50):\n",
      "\n",
      "     count  proportion\n",
      "bin                   \n",
      "1    4,046    0.516995\n",
      "0    3,780    0.483005\n",
      "\n",
      "Average Uniqueness: 0.5397\n"
     ]
    }
   ],
   "source": [
    "bb_events_fh = triple_barrier_labels(\n",
    "    close=close,\n",
    "    target=vol_target,\n",
    "    t_events=t_events,\n",
    "    pt_sl=[0,0],\n",
    "    min_ret=0,\n",
    "    vertical_barrier_times=vertical_barriers,\n",
    "    side_prediction=bb_side.loc[close.index],\n",
    "    vertical_barrier_zero=True,\n",
    "    verbose=False,\n",
    ")\n",
    "bb_events_fh = get_event_weights(bb_events_fh, close)\n",
    "bb_events_fh_time = bb_events_fh.copy()\n",
    "print(f\"Fixed-Time Horizon (h={bb_time_horizon}):\")\n",
    "value_counts_data(bb_events_fh.bin, verbose=True)\n",
    "\n",
    "av_uniqueness = bb_events_fh['tW'].mean()\n",
    "print(f\"Average Uniqueness: {av_uniqueness:.4f}\")"
   ]
  },
  {
   "cell_type": "markdown",
   "id": "fbe1c961",
   "metadata": {},
   "source": [
    "#### Triple-Barrier Method"
   ]
  },
  {
   "cell_type": "code",
   "execution_count": null,
   "id": "c5b85936",
   "metadata": {},
   "outputs": [
    {
     "name": "stdout",
     "output_type": "stream",
     "text": [
      "Triple-Barrier (pt=1, sl=2, h=50):\n",
      "\n",
      "     count  proportion\n",
      "bin                   \n",
      "1    4,467     0.57079\n",
      "0    3,359     0.42921\n",
      "\n",
      "Average Uniqueness: 0.7018\n"
     ]
    }
   ],
   "source": [
    "bb_events_tbl = triple_barrier_labels(\n",
    "    close=close,\n",
    "    target=vol_target,\n",
    "    t_events=t_events,\n",
    "    pt_sl=[bb_pt_barrier, bb_sl_barrier],\n",
    "    min_ret=0,\n",
    "    vertical_barrier_times=vertical_barriers,\n",
    "    side_prediction=bb_side,\n",
    "    vertical_barrier_zero=0,\n",
    "    verbose=False,\n",
    ")\n",
    "bb_events_tbl = get_event_weights(bb_events_tbl, close)\n",
    "bb_events_tbl_time = bb_events_tbl.copy()\n",
    "\n",
    "print(f\"Triple-Barrier (pt={bb_pt_barrier}, sl={bb_sl_barrier}, h={bb_time_horizon}):\")\n",
    "value_counts_data(bb_events_tbl.bin, verbose=True)\n",
    "\n",
    "av_uniqueness = bb_events_tbl['tW'].mean()\n",
    "print(f\"Average Uniqueness: {av_uniqueness:.4f}\")"
   ]
  },
  {
   "cell_type": "markdown",
   "id": "d44c8eef",
   "metadata": {},
   "source": [
    "#### Trend-Scanning Method"
   ]
  },
  {
   "cell_type": "code",
   "execution_count": null,
   "id": "7af61b42",
   "metadata": {},
   "outputs": [],
   "source": [
    "span = (5, bb_time_horizon + 1)\n",
    "volatility_threshold = 0.25\n",
    "side = bb_side.reindex(t_events)"
   ]
  },
  {
   "cell_type": "code",
   "execution_count": null,
   "id": "08ace1d8",
   "metadata": {},
   "outputs": [],
   "source": [
    "trend_events = trend_scanning_labels(close, span, volatility_threshold)\n",
    "trend_events = trend_events.reindex(t_events.intersection(trend_events.index))\n",
    "print(f\"Trend-Scanning (σ = {volatility_threshold}) \\n{'-'*40}\")\n",
    "value_counts_data(trend_events.bin, verbose=True)\n",
    "\n",
    "print(f\"\\nTriple-Barrier (pt={bb_pt_barrier}, sl={bb_sl_barrier}, h={bb_time_horizon}) \\n{'-'*40}\")\n",
    "av_uniqueness = bb_events_tbl_time['tW'].mean()\n",
    "value_counts_data(bb_events_tbl_time.bin, verbose=True)\n",
    "print(f\"Average Uniqueness: {av_uniqueness:.4f}\")\n",
    "\n",
    "bb_events_trend = bb_events_tbl_time.join(trend_events[['window', 't_value']], how=\"inner\")\n",
    "# bb_events_trend[\"bin\"] = bb_events_trend[\"bin\"].where(trend_events['bin'] == 0, 0)\n",
    "bb_events_trend[\"bin\"] = bb_events_trend[\"bin\"].where(trend_events['bin'] == side.reindex(trend_events.index), 0)\n",
    "bb_events_trend_time = bb_events_trend.copy()\n",
    "print(f\"\\nTrend-Scanning Meta-Labels (σ = {volatility_threshold})\" \\\n",
    "      f\" \\n{'-'*40} \\n{value_counts_data(bb_events_trend.bin)}\")"
   ]
  },
  {
   "cell_type": "code",
   "execution_count": null,
   "id": "fd21b790",
   "metadata": {},
   "outputs": [],
   "source": [
    "# bb_events_trend = get_trend_scanning_meta_labels(close, side, t_events, span, volatility_threshold)\n",
    "ret = bb_events_trend.ret\n",
    "sr_bb_trend = ret.mean() / ret.std()\n",
    "print(f\"Trend-Scanning Meta-labels (σ = {volatility_threshold}):\")\n",
    "value_counts_data(bb_events_trend.bin, verbose=True)\n",
    "\n",
    "events = bb_events_trend[bb_events_trend.bin == 1]\n",
    "ret_by_window = events.groupby(['window'])[\"ret\"].mean() * 100\n",
    "ave_ret = events[\"ret\"].mean() * 100\n",
    "\n",
    "fig, ax = plt.subplots(2, 1, figsize=(7.5, 5), dpi=100)\n",
    "ret_by_window.plot(kind=\"bar\", label=\"returns (%)\", ax=ax[0])\n",
    "ax[0].hlines(ave_ret, xmin=0, xmax=bb_time_horizon, linestyles=\"--\", label=f\"μ = {ave_ret:.4f}%\")\n",
    "ax[0].legend()\n",
    "events[\"window\"].value_counts(normalize=True).sort_index().plot(kind=\"bar\", ax=ax[1], legend=True)\n",
    "fig.suptitle(fr\"Trend-Scanning ($\\sigma={volatility_threshold}$) — Time-Bars\")\n",
    "plt.subplots_adjust(top=0.88);"
   ]
  },
  {
   "cell_type": "markdown",
   "id": "96495be6",
   "metadata": {},
   "source": [
    "#### Random Forest"
   ]
  },
  {
   "cell_type": "code",
   "execution_count": null,
   "id": "6cf7d99a",
   "metadata": {},
   "outputs": [
    {
     "name": "stdout",
     "output_type": "stream",
     "text": [
      "Strategy: Bollinger_w20_std1.5\n"
     ]
    }
   ],
   "source": [
    "dashes = \"-\" * 60\n",
    "volatility_threshold = 0.1\n",
    "volatility_threshold_mr = 0.85\n",
    "\n",
    "plot_titles = [\n",
    "    f\"Fixed-Time Horizon (h = {bb_time_horizon})\", \n",
    "    f\"Triple-Barrier (pt = {bb_pt_barrier}, sl = {bb_sl_barrier}, h = {bb_time_horizon})\", \n",
    "    fr\"Trend-Scanning ($\\sigma = {volatility_threshold}$)\",\n",
    "    fr\"Trend-Scanning ($\\sigma = {volatility_threshold_mr}$)\",\n",
    "    ]\n",
    "bb_titles = [\n",
    "    \"Fixed-Time Horizon\", \n",
    "    \"Triple-Barrier\",\n",
    "    f\"Trend-Scanning (σ = {volatility_threshold})\",\n",
    "    f\"Trend-Scanning (σ = {volatility_threshold_mr})\"\n",
    "    ]\n",
    "\n",
    "name = bb_strategy.get_strategy_name().replace(\"Bollinger\", \"bb\")\n",
    "filenames = [\n",
    "    f\"{name}_fixed_horizon\",\n",
    "    f\"{name}_triple_barrier\",\n",
    "    f\"{name}_trend_scanning_{volatility_threshold}\",\n",
    "    f\"{name}_trend_scanning_{volatility_threshold_mr}\"\n",
    "    ]\n",
    "print(f\"Strategy: {bb_strategy.get_strategy_name()}\")\n",
    "\n",
    "random_state = 22\n",
    "min_w_leaf = 0.05\n",
    "\n",
    "rf = RandomForestClassifier(\n",
    "    criterion='entropy',\n",
    "    n_estimators=1000,\n",
    "    class_weight='balanced_subsample',\n",
    "    random_state=random_state,\n",
    "    min_weight_fraction_leaf=min_w_leaf,\n",
    "    n_jobs=-1,  # Use all available cores\n",
    "    )"
   ]
  },
  {
   "cell_type": "markdown",
   "id": "4321cf50",
   "metadata": {},
   "source": [
    "##### Unweighted"
   ]
  },
  {
   "cell_type": "code",
   "execution_count": 22,
   "id": "e07fc510",
   "metadata": {},
   "outputs": [
    {
     "name": "stdout",
     "output_type": "stream",
     "text": [
      "\u001b[32m2025-09-15 18:46:16\u001b[0m | \u001b[1mINFO    \u001b[0m | \u001b[1mSamples are equally weighted.\u001b[0m\n",
      "\u001b[32m2025-09-15 18:46:16\u001b[0m | \u001b[1mINFO    \u001b[0m | \u001b[1mTraining on 5,384 samples...\u001b[0m\n",
      "------------------------------------------------------------\n",
      "FIXED-TIME HORIZON EVALUATION REPORT\n",
      "------------------------------------------------------------\n",
      "\n",
      "PRIMARY MODEL PERFORMANCE:\n",
      "-----------------------------------------------------\n",
      "              precision    recall  f1-score   support\n",
      "\n",
      "           0       0.00      0.00      0.00      1096\n",
      "           1       0.53      1.00      0.69      1213\n",
      "\n",
      "    accuracy                           0.53      2309\n",
      "   macro avg       0.26      0.50      0.34      2309\n",
      "weighted avg       0.28      0.53      0.36      2309\n",
      "\n",
      "\n",
      "Confusion Matrix:\n",
      "[[   0 1096]\n",
      " [   0 1213]]\n",
      "\n",
      "META-MODEL PERFORMANCE:\n",
      "-----------------------------------------------------\n",
      "              precision    recall  f1-score   support\n",
      "\n",
      "           0       0.48      0.50      0.49      1096\n",
      "           1       0.53      0.50      0.51      1213\n",
      "\n",
      "    accuracy                           0.50      2309\n",
      "   macro avg       0.50      0.50      0.50      2309\n",
      "weighted avg       0.50      0.50      0.50      2309\n",
      "\n",
      "\n",
      "Confusion Matrix:\n",
      "[[548 548]\n",
      " [604 609]]\n",
      "\n",
      "Summary Table:\n",
      "Model              Meta-Model\n",
      "ROC AUC                 0.513\n",
      "AP                      0.542\n",
      "Default Threshold       0.500\n",
      "Default Precision       0.526\n",
      "Default Recall          0.502\n",
      "Default F1              0.514\n",
      "Tuned Threshold         0.442\n",
      "Tuned Precision         0.527\n",
      "Tuned Recall            0.998\n",
      "Tuned F1                0.689\n"
     ]
    },
    {
     "data": {
      "image/png": "[encoded data removed]",
      "text/plain": [
       "<Figure size 750x500 with 1 Axes>"
      ]
     },
     "metadata": {},
     "output_type": "display_data"
    }
   ],
   "source": [
    "model_bb_fh_time = train_meta_model(model=rf, features=bb_feat_time, labels=bb_events_fh_time)\n",
    "print(f\"{dashes}\\nFIXED-TIME HORIZON EVALUATION REPORT\\n{dashes}\")\n",
    "summary = meta_labelling_reports(model_bb_fh_time, plot=True)"
   ]
  },
  {
   "cell_type": "code",
   "execution_count": 23,
   "id": "c9567408",
   "metadata": {},
   "outputs": [
    {
     "name": "stdout",
     "output_type": "stream",
     "text": [
      "\u001b[32m2025-09-15 18:46:38\u001b[0m | \u001b[1mINFO    \u001b[0m | \u001b[1mSamples are equally weighted.\u001b[0m\n",
      "\u001b[32m2025-09-15 18:46:39\u001b[0m | \u001b[1mINFO    \u001b[0m | \u001b[1mTraining on 5,385 samples...\u001b[0m\n",
      "------------------------------------------------------------\n",
      "TRIPLE-BARRIER EVALUATION REPORT\n",
      "------------------------------------------------------------\n",
      "\n",
      "PRIMARY MODEL PERFORMANCE:\n",
      "-----------------------------------------------------\n",
      "              precision    recall  f1-score   support\n",
      "\n",
      "           0       0.00      0.00      0.00       964\n",
      "           1       0.58      1.00      0.74      1345\n",
      "\n",
      "    accuracy                           0.58      2309\n",
      "   macro avg       0.29      0.50      0.37      2309\n",
      "weighted avg       0.34      0.58      0.43      2309\n",
      "\n",
      "\n",
      "Confusion Matrix:\n",
      "[[   0  964]\n",
      " [   0 1345]]\n",
      "\n",
      "META-MODEL PERFORMANCE:\n",
      "-----------------------------------------------------\n",
      "              precision    recall  f1-score   support\n",
      "\n",
      "           0       0.44      0.27      0.34       964\n",
      "           1       0.59      0.76      0.66      1345\n",
      "\n",
      "    accuracy                           0.55      2309\n",
      "   macro avg       0.52      0.51      0.50      2309\n",
      "weighted avg       0.53      0.55      0.53      2309\n",
      "\n",
      "\n",
      "Confusion Matrix:\n",
      "[[ 262  702]\n",
      " [ 328 1017]]\n",
      "\n",
      "Summary Table:\n",
      "Model              Meta-Model\n",
      "ROC AUC                 0.528\n",
      "AP                      0.600\n",
      "Default Threshold       0.500\n",
      "Default Precision       0.592\n",
      "Default Recall          0.756\n",
      "Default F1              0.664\n",
      "Tuned Threshold         0.438\n",
      "Tuned Precision         0.583\n",
      "Tuned Recall            1.000\n",
      "Tuned F1                0.736\n"
     ]
    },
    {
     "data": {
      "image/png": "[encoded data removed]",
      "text/plain": [
       "<Figure size 750x500 with 1 Axes>"
      ]
     },
     "metadata": {},
     "output_type": "display_data"
    }
   ],
   "source": [
    "model_bb_tbl_time = train_meta_model(model=rf, features=bb_feat_time, labels=bb_events_tbl_time)\n",
    "print(f\"{dashes}\\nTRIPLE-BARRIER EVALUATION REPORT\\n{dashes}\")\n",
    "summary = meta_labelling_reports(model_bb_tbl_time, plot=True)"
   ]
  },
  {
   "cell_type": "code",
   "execution_count": null,
   "id": "b1d4d895",
   "metadata": {},
   "outputs": [],
   "source": [
    "# model_bb_trend_time = train_meta_model(model=rf, features=bb_feat_time, labels=bb_events_trend_time)\n",
    "# print(f\"{dashes}\\nTREND-SCANNING (σ = {volatility_threshold}) EVALUATION REPORT\\n{dashes}\")\n",
    "# summary = meta_labelling_reports(model_bb_trend_time, plot=True)"
   ]
  },
  {
   "cell_type": "markdown",
   "id": "f2af7a76",
   "metadata": {},
   "source": [
    "##### Return-Weighted"
   ]
  },
  {
   "cell_type": "code",
   "execution_count": null,
   "id": "afe78425",
   "metadata": {},
   "outputs": [
    {
     "name": "stdout",
     "output_type": "stream",
     "text": [
      "\u001b[32m2025-09-13 20:21:35\u001b[0m | \u001b[1mINFO    \u001b[0m | \u001b[1mTraining on 5,384 samples...\u001b[0m\n",
      "------------------------------------------------------------\n",
      "FIXED-TIME HORIZON EVALUATION REPORT\n",
      "------------------------------------------------------------\n",
      "\n",
      "PRIMARY MODEL PERFORMANCE:\n",
      "-----------------------------------------------------\n",
      "              precision    recall  f1-score   support\n",
      "\n",
      "           0       0.00      0.00      0.00      1096\n",
      "           1       0.53      1.00      0.69      1213\n",
      "\n",
      "    accuracy                           0.53      2309\n",
      "   macro avg       0.26      0.50      0.34      2309\n",
      "weighted avg       0.28      0.53      0.36      2309\n",
      "\n",
      "\n",
      "Confusion Matrix:\n",
      "[[   0 1096]\n",
      " [   0 1213]]\n",
      "\n",
      "META-MODEL PERFORMANCE:\n",
      "-----------------------------------------------------\n",
      "              precision    recall  f1-score   support\n",
      "\n",
      "           0       0.47      1.00      0.64      1096\n",
      "           1       0.00      0.00      0.00      1213\n",
      "\n",
      "    accuracy                           0.47      2309\n",
      "   macro avg       0.24      0.50      0.32      2309\n",
      "weighted avg       0.23      0.47      0.31      2309\n",
      "\n",
      "\n",
      "Confusion Matrix:\n",
      "[[1096    0]\n",
      " [1213    0]]\n",
      "\n",
      "Summary Table:\n",
      "Model              Meta-Model\n",
      "ROC AUC                 0.508\n",
      "AP                      0.546\n",
      "Default Threshold       0.500\n",
      "Default Precision       0.000\n",
      "Default Recall          0.000\n",
      "Default F1              0.000\n",
      "Tuned Threshold         0.314\n",
      "Tuned Precision         0.525\n",
      "Tuned Recall            1.000\n",
      "Tuned F1                0.689\n"
     ]
    },
    {
     "data": {
      "image/png": "[encoded data removed]",
      "text/plain": [
       "<Figure size 750x500 with 1 Axes>"
      ]
     },
     "metadata": {},
     "output_type": "display_data"
    }
   ],
   "source": [
    "model_bb_fh_time_w = train_meta_model(model=rf, features=bb_feat_time, labels=bb_events_fh_time, weighting=\"return\")\n",
    "print(f\"{dashes}\\nFIXED-TIME HORIZON EVALUATION REPORT\\n{dashes}\")\n",
    "summary = meta_labelling_reports(model_bb_fh_time_w, plot=True)"
   ]
  },
  {
   "cell_type": "code",
   "execution_count": null,
   "id": "9d4dddca",
   "metadata": {},
   "outputs": [
    {
     "name": "stdout",
     "output_type": "stream",
     "text": [
      "\u001b[32m2025-09-13 20:21:52\u001b[0m | \u001b[1mINFO    \u001b[0m | \u001b[1mTraining on 5,385 samples...\u001b[0m\n",
      "------------------------------------------------------------\n",
      "TRIPLE-BARRIER EVALUATION REPORT\n",
      "------------------------------------------------------------\n",
      "\n",
      "PRIMARY MODEL PERFORMANCE:\n",
      "-----------------------------------------------------\n",
      "              precision    recall  f1-score   support\n",
      "\n",
      "           0       0.00      0.00      0.00       964\n",
      "           1       0.58      1.00      0.74      1345\n",
      "\n",
      "    accuracy                           0.58      2309\n",
      "   macro avg       0.29      0.50      0.37      2309\n",
      "weighted avg       0.34      0.58      0.43      2309\n",
      "\n",
      "\n",
      "Confusion Matrix:\n",
      "[[   0  964]\n",
      " [   0 1345]]\n",
      "\n",
      "META-MODEL PERFORMANCE:\n",
      "-----------------------------------------------------\n",
      "              precision    recall  f1-score   support\n",
      "\n",
      "           0       0.42      1.00      0.59       964\n",
      "           1       0.00      0.00      0.00      1345\n",
      "\n",
      "    accuracy                           0.42      2309\n",
      "   macro avg       0.21      0.50      0.29      2309\n",
      "weighted avg       0.17      0.42      0.25      2309\n",
      "\n",
      "\n",
      "Confusion Matrix:\n",
      "[[ 964    0]\n",
      " [1345    0]]\n",
      "\n",
      "Summary Table:\n",
      "Model              Meta-Model\n",
      "ROC AUC                 0.477\n",
      "AP                      0.572\n",
      "Default Threshold       0.500\n",
      "Default Precision       0.000\n",
      "Default Recall          0.000\n",
      "Default F1              0.000\n",
      "Tuned Threshold         0.259\n",
      "Tuned Precision         0.583\n",
      "Tuned Recall            1.000\n",
      "Tuned F1                0.736\n"
     ]
    },
    {
     "data": {
      "image/png": "[encoded data removed]",
      "text/plain": [
       "<Figure size 750x500 with 1 Axes>"
      ]
     },
     "metadata": {},
     "output_type": "display_data"
    }
   ],
   "source": [
    "model_bb_tbl_time_w = train_meta_model(model=rf, features=bb_feat_time, labels=bb_events_tbl_time, weighting=\"return\")\n",
    "print(f\"{dashes}\\nTRIPLE-BARRIER EVALUATION REPORT\\n{dashes}\")\n",
    "summary = meta_labelling_reports(model_bb_tbl_time_w, plot=True)"
   ]
  },
  {
   "cell_type": "code",
   "execution_count": null,
   "id": "3b513f1b",
   "metadata": {},
   "outputs": [],
   "source": [
    "model_bb_trend_time_w = train_meta_model(model=rf, features=bb_feat_time, labels=bb_events_trend_time, weighting=\"return\")\n",
    "print(f\"{dashes}\\nTREND-SCANNING (σ = {volatility_threshold}) EVALUATION REPORT\\n{dashes}\")\n",
    "summary = meta_labelling_reports(model_bb_trend_time_w, plot=True)"
   ]
  },
  {
   "cell_type": "markdown",
   "id": "cfd79a4f",
   "metadata": {},
   "source": [
    "##### Reports"
   ]
  },
  {
   "cell_type": "code",
   "execution_count": null,
   "id": "ebce442e",
   "metadata": {},
   "outputs": [],
   "source": [
    "dirpath = Path(\"reports\", \"time_bars\", bb_timeframe)\n",
    "dirpath.mkdir(parents=True, exist_ok=True)\n",
    "\n",
    "# Simulated loop over labeling methods\n",
    "labeling_methods = [\n",
    "    \"fixed-horizon\", \n",
    "    \"triple-barrier\", \n",
    "    \"trend-scanning\", \n",
    "    ]\n",
    "models = [model_bb_fh_time, model_bb_tbl_time, model_bb_trend_time]"
   ]
  },
  {
   "cell_type": "code",
   "execution_count": null,
   "id": "402e8e67",
   "metadata": {},
   "outputs": [],
   "source": [
    "# fp = Path(dirpath, \"unweighted\")\n",
    "# fp_plots = Path(dirpath, \"plots\", \"unweighted\")\n",
    "# fp_plots.mkdir(parents=True, exist_ok=True)\n",
    "# bb_models = [model_bb_fh_time, model_bb_tbl_time, model_bb_trend_time]\n",
    "\n",
    "# bb_roc = compare_roc_curves(\n",
    "#     bb_models[:], plot_titles[:], columns=2, height=7.5, \n",
    "#     fig_title=f\"Bollinger Strategy (window= {bb_period}, $\\\\sigma = {bb_std}$)\"\n",
    "#     )\n",
    "# bb_roc.savefig(fp_plots / \"bb_roc_comparison.png\", bbox_inches=\"tight\", dpi=100)\n",
    "\n",
    "# # bb_roc = compare_roc_curves(bb_models[:2], plot_titles[:2], columns=2)\n",
    "# # bb_roc.savefig(dirpath / \"bb_roc_barrier_comparison.png\", bbox_inches=\"tight\", dpi=100)\n",
    "\n",
    "# # bb_roc_trend = compare_roc_curves(bb_models[2:], plot_titles[2:], columns=2)\n",
    "# # bb_roc_trend.savefig(dirpath / \"bb_roc_trend_comparison.png\", bbox_inches=\"tight\", dpi=100)\n",
    "\n",
    "# # meta_labelling_classification_reports(model_data=bb_models, titles=bb_titles, output_filenames=filenames, path=fp)"
   ]
  },
  {
   "cell_type": "code",
   "execution_count": null,
   "id": "f1ada263",
   "metadata": {},
   "outputs": [],
   "source": [
    "# fp_w = Path(dirpath, \"return_weighted\") \n",
    "# fp_plots = Path(dirpath, \"plots\", \"return_weighted\")\n",
    "# fp_plots.mkdir(parents=True, exist_ok=True)\n",
    "\n",
    "# bb_models_w = [model_bb_fh_time_w, model_bb_tbl_time_w, model_bb_trend_time_w]\n",
    "# bb_titles_w = [f\"Return-Weighted {w}\" for w in bb_titles]\n",
    "# filenames_w = [f\"{w}_w\" for w in filenames]\n",
    "\n",
    "# bbb_roc = compare_roc_curves(\n",
    "#     bb_models_w[:], plot_titles[:], columns=2, height=7.5, \n",
    "#     fig_title=f\"Bollinger Strategy (window= {bb_period}, $\\\\sigma = {bb_std}$)\"\n",
    "#     )\n",
    "# bb_roc.savefig(fp_plots / \"bb_roc_comparison.png\", bbox_inches=\"tight\", dpi=100)\n",
    "\n",
    "# meta_labelling_classification_reports(model_data=bb_models_w, titles=bb_titles_w, output_filenames=filenames_w, path=fp_w)"
   ]
  },
  {
   "cell_type": "code",
   "execution_count": null,
   "id": "077c5860",
   "metadata": {},
   "outputs": [],
   "source": [
    "# fp_tw = Path(dirpath, \"time_weighted\") \n",
    "# plot_titles_tw = [fr\"$\\lambda = {decay}$\" for decay in time_decays]\n",
    "# columns = 2\n",
    "# height = 7.5\n",
    "# fig_titles = [f\"Time-Decay ($\\lambda$): {method} ROC Curves\" for method in bb_titles]\n",
    "\n",
    "# bb_models_tw, bb_titles_tw, filenames_tw = [], [], []\n",
    "# for time_decay, labels in models_bb_time_tw.items():\n",
    "#     for i, (label, model) in enumerate(labels.items()):\n",
    "#         bb_models_tw.append(model)\n",
    "#         bb_titles_tw.append(f\"Time-Weighted (λ = {time_decay}) {bb_titles[i]}\")\n",
    "#         filenames_tw.append(f\"{filenames[i]}_tw_{time_decay}\")\n",
    "\n",
    "# meta_labelling_classification_reports(model_data=bb_models_tw, titles=bb_titles_tw, output_filenames=filenames_tw, path=fp_tw)\n",
    "\n",
    "# fig_title = fig_titles[0]\n",
    "# bb_roc_fh_tw = compare_roc_curves(bb_models_tw[::4], plot_titles_tw, fig_title, columns, height)\n",
    "# bb_roc_fh_tw.savefig(dirpath / \"bb_roc_fixed_horizon_comparison_time_weighted.png\", bbox_inches=\"tight\", dpi=100)"
   ]
  },
  {
   "cell_type": "markdown",
   "id": "801a97f6",
   "metadata": {},
   "source": [
    "##### Out-of-Sample"
   ]
  },
  {
   "cell_type": "code",
   "execution_count": null,
   "id": "0226f832",
   "metadata": {},
   "outputs": [
    {
     "name": "stdout",
     "output_type": "stream",
     "text": [
      "\u001b[32m2025-09-15 20:15:24\u001b[0m | \u001b[1mINFO    \u001b[0m | \u001b[1mBollinger_w20_std1.5 | 71,159 (100.00%) trade events.\u001b[0m\n",
      "\n",
      "       count  proportion\n",
      "side                    \n",
      "-1    35,933    0.504968\n",
      " 1    35,226    0.495032\n",
      "\n",
      "<class 'pandas.core.frame.DataFrame'>\n",
      "DatetimeIndex: 71159 entries, 2021-12-31 02:40:00 to 2024-12-31 00:00:00\n",
      "Data columns (total 53 columns):\n",
      " #   Column            Non-Null Count  Dtype  \n",
      "---  ------            --------------  -----  \n",
      " 0   close             71159 non-null  float32\n",
      " 1   spread            71159 non-null  float32\n",
      " 2   bb_lower          71159 non-null  float32\n",
      " 3   bb_mid            71159 non-null  float32\n",
      " 4   bb_upper          71159 non-null  float32\n",
      " 5   bb_bandwidth      71159 non-null  float32\n",
      " 6   bb_percentage     71159 non-null  float64\n",
      " 7   ret               71159 non-null  float32\n",
      " 8   ret_5             71159 non-null  float32\n",
      " 9   ret_10            71159 non-null  float32\n",
      " 10  ret_1_lag_1       71159 non-null  float32\n",
      " 11  ret_5_lag_1       71159 non-null  float32\n",
      " 12  ret_10_lag_1      71159 non-null  float32\n",
      " 13  ret_1_lag_2       71159 non-null  float32\n",
      " 14  ret_5_lag_2       71159 non-null  float32\n",
      " 15  ret_10_lag_2      71159 non-null  float32\n",
      " 16  ret_1_lag_3       71159 non-null  float32\n",
      " 17  ret_5_lag_3       71159 non-null  float32\n",
      " 18  ret_10_lag_3      71159 non-null  float32\n",
      " 19  vol               71159 non-null  float32\n",
      " 20  vol_20            71159 non-null  float32\n",
      " 21  vol_lag_1         71159 non-null  float32\n",
      " 22  vol_lag_2         71159 non-null  float32\n",
      " 23  vol_lag_3         71159 non-null  float32\n",
      " 24  vol_lag_4         71159 non-null  float32\n",
      " 25  vol_lag_5         71159 non-null  float32\n",
      " 26  autocorr          71159 non-null  float32\n",
      " 27  autocorr_1        71159 non-null  float32\n",
      " 28  autocorr_2        71159 non-null  float32\n",
      " 29  autocorr_3        71159 non-null  float32\n",
      " 30  autocorr_4        71159 non-null  float32\n",
      " 31  autocorr_5        71159 non-null  float32\n",
      " 32  H1_vol            71159 non-null  float32\n",
      " 33  H4_vol            71159 non-null  float32\n",
      " 34  D1_vol            71159 non-null  float32\n",
      " 35  ret_skew          71159 non-null  float32\n",
      " 36  ret_kurt          71159 non-null  float32\n",
      " 37  tr                71159 non-null  float32\n",
      " 38  atr               71159 non-null  float32\n",
      " 39  sma_diff_5_10     71159 non-null  float32\n",
      " 40  sma_diff_10_20    71159 non-null  float32\n",
      " 41  sma_diff_10_100   71159 non-null  float32\n",
      " 42  sma_diff_100_200  71159 non-null  float32\n",
      " 43  rsi               71159 non-null  float32\n",
      " 44  stoch_rsi_k       71159 non-null  float32\n",
      " 45  stoch_rsi_d       71159 non-null  float32\n",
      " 46  adx               71159 non-null  float32\n",
      " 47  dmp               71159 non-null  float32\n",
      " 48  dmn               71159 non-null  float32\n",
      " 49  dm_net            71159 non-null  float32\n",
      " 50  macd              71159 non-null  float32\n",
      " 51  macdh             71159 non-null  float32\n",
      " 52  side              71159 non-null  int8   \n",
      "dtypes: float32(51), float64(1), int8(1)\n",
      "memory usage: 15.0 MB\n"
     ]
    }
   ],
   "source": [
    "df = bb_time_bars[sample_end:]\n",
    "close = df.close\n",
    "target = get_daily_vol(bb_time_bars.close, vol_lookback).reindex(df.index) * bb_vol_multiplier\n",
    "\n",
    "side, t_events = get_entries(bb_strategy, df, on_crossover=False)\n",
    "vertical_barrier_times = add_vertical_barrier(t_events, close, num_bars=bb_time_horizon)\n",
    "\n",
    "# Create feature set for model\n",
    "X_test = bb_feat_time.join(bb_side).reindex(t_events).dropna()\n",
    "value_counts_data(X_test.side, verbose=True)\n",
    "X_test.info()\n",
    "\n",
    "primary_signals = X_test.side"
   ]
  },
  {
   "cell_type": "code",
   "execution_count": null,
   "id": "dfce1aaf",
   "metadata": {},
   "outputs": [],
   "source": [
    "bet_sizing_methods = [None, 'probability', 'budget', 'dynamic', 'reserve']\n",
    "bet_sizing = bet_sizing_methods[1]\n",
    "\n",
    "if bet_sizing == \"probability\":\n",
    "    bet_sizing_args = dict(step_size=0.001, average_active=True)\n",
    "else:\n",
    "    bet_sizing_args = dict()\n",
    "\n",
    "bb_model_results_time = {}\n",
    "time_metrics_oos = {\"primary_model\": {}, \"meta_model\": {}}"
   ]
  },
  {
   "cell_type": "code",
   "execution_count": null,
   "id": "587d7a8f",
   "metadata": {},
   "outputs": [
    {
     "name": "stdout",
     "output_type": "stream",
     "text": [
      "\n",
      "====================================================================================================\n",
      "Meta-Labeling Performance Analysis: Bollinger_w20_std1.5\n",
      "====================================================================================================\n",
      "\n",
      "Signal Filtering Summary:\n",
      "  Total Primary Signals: 71,147\n",
      "  Filtered Signals: 71,147\n",
      "  Filter Rate: 0.00%\n",
      "  Confidence Threshold: 0.5\n",
      "\n",
      "CORE PERFORMANCE METRICS       Primary         Meta-Labeled    Improvement    \n",
      "===========================================================================\n",
      "Total Return                   -100.00%        -100.00%        +0.0%          \n",
      "Annualized Return              -100.00%        -100.00%        +0.0%          \n",
      "Sharpe Ratio                   -24.1753        -22.9338        +5.1%          \n",
      "Sortino Ratio                  -39.0582        -29.2583        +25.1%         \n",
      "Calmar Ratio                   -1.0000         -1.0000         +0.0%          \n",
      "\n",
      "RISK METRICS                   Primary         Meta-Labeled    Improvement    \n",
      "===========================================================================\n",
      "Max Drawdown                   100.00%         100.00%         +0.0%          \n",
      "Avg Drawdown                   20.60%          17.19%          +16.6%         \n",
      "Volatility (Ann.)              7.3669          4.1255          +44.0%         \n",
      "Downside Volatility            4.5598          3.2337          +29.1%         \n",
      "Ulcer Index                    0.3786          0.3822          -0.9%          \n",
      "VaR (95%)                      -8.44%          -5.09%          +39.7%         \n",
      "CVaR (95%)                     -10.48%         -7.08%          +32.4%         \n",
      "\n",
      "TRADING METRICS                Primary         Meta-Labeled    Improvement    \n",
      "===========================================================================\n",
      "Number of Trades               71,147          71,147          +0.0%          \n",
      "Trades per Year                23,714          23,714          +0.0%          \n",
      "Win Rate                       43.01%          41.33%          -3.9%          \n",
      "Avg Win                        3.5971%         1.7215%         -52.1%         \n",
      "Avg Loss                       -4.0321%        -2.0221%        +49.8%         \n",
      "Best Trade                     22.6139%        15.2862%        -32.4%         \n",
      "Worst Trade                    -20.1798%       -19.5850%       +2.9%          \n",
      "Profit Factor                  0.67            0.64            -4.8%          \n",
      "Expectancy                     -0.7509%        -0.4750%        +36.7%         \n",
      "Kelly Criterion                -0.2088         -0.2759         -32.2%         \n",
      "Max Consecutive Wins           37              37              +0.0%          \n",
      "Max Consecutive Losses         42              42              +0.0%          \n",
      "\n",
      "DISTRIBUTION METRICS           Primary         Meta-Labeled    Improvement    \n",
      "===========================================================================\n",
      "Skewness                       0.1024          -0.2667         -360.6%        \n",
      "Kurtosis                       0.1729          3.0059          -1638.1%       \n",
      "\n",
      "SUMMARY ASSESSMENT\n",
      "==================================================\n",
      "  ⚠️  Meta-labeling shows MODEST improvement\n",
      "  Sharpe Ratio Change: +5.1%\n",
      "  Total Return Change: +0.0%\n",
      "  Max Drawdown Change: +0.0%\n",
      "\n",
      "✅ Meta-labeling improves risk-adjusted returns\n",
      "\n",
      "📊 Signal filtering removed 0.0% of trades\n",
      "\n"
     ]
    }
   ],
   "source": [
    "model = model_bb_fh_time\n",
    "# confidence_threshold = get_optimal_threshold(model)\n",
    "\n",
    "events = get_events(\n",
    "    close, t_events, \n",
    "    pt_sl=[0, 0],\n",
    "    target=target, \n",
    "    vertical_barrier_times=vertical_barrier_times, \n",
    "    side_prediction=primary_signals,\n",
    "    )\n",
    "\n",
    "prob = model.fit.predict_proba(X_test)[:, 1]\n",
    "prob = pd.Series(prob, index=X_test.index)\n",
    "\n",
    "results = run_meta_labeling_analysis(\n",
    "    events,\n",
    "    close,\n",
    "    prob,\n",
    "    confidence_threshold=0.5,\n",
    "    strategy_name=bb_strategy.get_strategy_name(),\n",
    "    bet_sizing=bet_sizing,\n",
    "    **bet_sizing_args\n",
    "    )\n",
    "bb_model_results_time[\"fixed_horizon\"] = results"
   ]
  },
  {
   "cell_type": "code",
   "execution_count": null,
   "id": "fd49688b",
   "metadata": {},
   "outputs": [
    {
     "name": "stdout",
     "output_type": "stream",
     "text": [
      "\n",
      "====================================================================================================\n",
      "Meta-Labeling Performance Analysis: Bollinger_w20_std1.5\n",
      "====================================================================================================\n",
      "\n",
      "Signal Filtering Summary:\n",
      "  Total Primary Signals: 71,147\n",
      "  Filtered Signals: 40,832\n",
      "  Filter Rate: 42.61%\n",
      "  Confidence Threshold: 0.5\n",
      "\n",
      "CORE PERFORMANCE METRICS       Primary         Meta-Labeled    Improvement    \n",
      "===========================================================================\n",
      "Total Return                   1,731.29%       5.07%           -99.7%         \n",
      "Annualized Return              163.76%         1.66%           -99.0%         \n",
      "Sharpe Ratio                   6.8278          8.1741          +19.7%         \n",
      "Sortino Ratio                  8.9421          9.3602          +4.7%          \n",
      "Calmar Ratio                   3.4422          0.9185          -73.3%         \n",
      "\n",
      "RISK METRICS                   Primary         Meta-Labeled    Improvement    \n",
      "===========================================================================\n",
      "Max Drawdown                   47.57%          1.81%           +96.2%         \n",
      "Avg Drawdown                   2.75%           0.05%           +98.0%         \n",
      "Volatility (Ann.)              0.4576          0.0110          +97.6%         \n",
      "Downside Volatility            0.3494          0.0096          +97.3%         \n",
      "Ulcer Index                    0.0658          0.0016          +97.6%         \n",
      "VaR (95%)                      -0.29%          -0.01%          +97.5%         \n",
      "CVaR (95%)                     -0.41%          -0.01%          +97.4%         \n",
      "\n",
      "TRADING METRICS                Primary         Meta-Labeled    Improvement    \n",
      "===========================================================================\n",
      "Number of Trades               71,147          40,832          -42.6%         \n",
      "Trades per Year                23,712          13,609          -42.6%         \n",
      "Win Rate                       55.36%          55.77%          +0.7%          \n",
      "Avg Win                        0.1169%         0.0024%         -97.9%         \n",
      "Avg Loss                       -0.1359%        -0.0029%        +97.9%         \n",
      "Best Trade                     1.4700%         0.0455%         -96.9%         \n",
      "Worst Trade                    -1.4394%        -0.0452%        +96.9%         \n",
      "Profit Factor                  1.07            1.10            +2.6%          \n",
      "Expectancy                     0.0041%         0.0001%         -98.0%         \n",
      "Kelly Criterion                0.0348          0.0335          -3.6%          \n",
      "Max Consecutive Wins           73              49              -32.9%         \n",
      "Max Consecutive Losses         59              47              +20.3%         \n",
      "\n",
      "DISTRIBUTION METRICS           Primary         Meta-Labeled    Improvement    \n",
      "===========================================================================\n",
      "Skewness                       -0.4911         -0.5379         -9.5%          \n",
      "Kurtosis                       3.4626          8.4566          -144.2%        \n",
      "\n",
      "SUMMARY ASSESSMENT\n",
      "==================================================\n",
      "  ✅ Meta-labeling shows GOOD improvement\n",
      "  Sharpe Ratio Change: +19.7%\n",
      "  Total Return Change: -99.7%\n",
      "  Max Drawdown Change: +96.2%\n",
      "\n",
      "✅ Meta-labeling improves risk-adjusted returns\n",
      "\n",
      "📊 Signal filtering removed 42.6% of trades\n",
      "   High filtering rate suggests meta-model is selective\n",
      "\n"
     ]
    }
   ],
   "source": [
    "bet_sizing_methods = [None, 'probability', 'budget', 'dynamic', 'reserve']\n",
    "bet_sizing = bet_sizing_methods[1]\n",
    "model = model_bb_tbl_time\n",
    "# confidence_threshold = get_optimal_threshold(model)\n",
    "\n",
    "events = get_events(\n",
    "    close, t_events, \n",
    "    pt_sl=[bb_pt_barrier, bb_sl_barrier], \n",
    "    target=target, \n",
    "    vertical_barrier_times=vertical_barrier_times, \n",
    "    side_prediction=primary_signals,\n",
    "    )\n",
    "\n",
    "prob = model.fit.predict_proba(X_test)[:, 1]\n",
    "prob = pd.Series(prob, index=X_test.index)\n",
    "\n",
    "results = run_meta_labeling_analysis(\n",
    "    events,\n",
    "    prob,\n",
    "    close,\n",
    "    confidence_threshold=0.5,\n",
    "    strategy_name=bb_strategy.get_strategy_name(),\n",
    "    bet_sizing=bet_sizing,\n",
    "    **bet_sizing_args\n",
    "    )\n",
    "bb_model_results_time[\"triple_barrier\"] = results"
   ]
  },
  {
   "cell_type": "code",
   "execution_count": null,
   "id": "af4f0da4",
   "metadata": {},
   "outputs": [
    {
     "data": {
      "text/plain": [
       "-1.1724137931034482"
      ]
     },
     "execution_count": 81,
     "metadata": {},
     "output_type": "execute_result"
    }
   ],
   "source": [
    "(-0.29 - .05) / 0.29\n",
    "# (-0.4757 - 0.0893) / 0.4757"
   ]
  },
  {
   "cell_type": "code",
   "execution_count": null,
   "id": "d321eda3",
   "metadata": {},
   "outputs": [
    {
     "data": {
      "application/vnd.microsoft.datawrangler.viewer.v0+json": {
       "columns": [
        {
         "name": "time",
         "rawType": "datetime64[ns]",
         "type": "datetime"
        },
        {
         "name": "t1",
         "rawType": "datetime64[ns]",
         "type": "datetime"
        },
        {
         "name": "side",
         "rawType": "int8",
         "type": "integer"
        },
        {
         "name": "active_long",
         "rawType": "int32",
         "type": "integer"
        },
        {
         "name": "active_short",
         "rawType": "int32",
         "type": "integer"
        },
        {
         "name": "bet_size",
         "rawType": "float64",
         "type": "float"
        }
       ],
       "ref": "9668c6cc-da7a-4c5b-80f8-56bac12c2345",
       "rows": [
        [
         "2021-12-31 02:40:00",
         "2021-12-31 06:50:00",
         "1",
         "1",
         "0",
         "0.02631578947368421"
        ],
        [
         "2021-12-31 02:50:00",
         "2021-12-31 07:00:00",
         "1",
         "2",
         "0",
         "0.05263157894736842"
        ],
        [
         "2021-12-31 02:55:00",
         "2021-12-31 07:05:00",
         "1",
         "3",
         "0",
         "0.07894736842105263"
        ],
        [
         "2021-12-31 03:00:00",
         "2021-12-31 07:10:00",
         "1",
         "4",
         "0",
         "0.10526315789473684"
        ],
        [
         "2021-12-31 03:05:00",
         "2021-12-31 07:15:00",
         "1",
         "5",
         "0",
         "0.13157894736842105"
        ],
        [
         "2021-12-31 03:10:00",
         "2021-12-31 07:20:00",
         "1",
         "6",
         "0",
         "0.15789473684210525"
        ],
        [
         "2021-12-31 03:15:00",
         "2021-12-31 07:25:00",
         "1",
         "7",
         "0",
         "0.18421052631578946"
        ],
        [
         "2021-12-31 03:20:00",
         "2021-12-31 07:30:00",
         "1",
         "8",
         "0",
         "0.21052631578947367"
        ],
        [
         "2021-12-31 03:25:00",
         "2021-12-31 07:35:00",
         "1",
         "9",
         "0",
         "0.23684210526315788"
        ],
        [
         "2021-12-31 03:35:00",
         "2021-12-31 07:45:00",
         "1",
         "10",
         "0",
         "0.2631578947368421"
        ],
        [
         "2021-12-31 03:40:00",
         "2021-12-31 07:50:00",
         "1",
         "11",
         "0",
         "0.2894736842105263"
        ],
        [
         "2021-12-31 04:35:00",
         "2021-12-31 08:45:00",
         "1",
         "12",
         "0",
         "0.3157894736842105"
        ],
        [
         "2021-12-31 04:40:00",
         "2021-12-31 08:50:00",
         "1",
         "13",
         "0",
         "0.34210526315789475"
        ],
        [
         "2021-12-31 04:45:00",
         "2021-12-31 08:55:00",
         "1",
         "14",
         "0",
         "0.3684210526315789"
        ],
        [
         "2021-12-31 04:50:00",
         "2021-12-31 09:00:00",
         "1",
         "15",
         "0",
         "0.39473684210526316"
        ],
        [
         "2021-12-31 04:55:00",
         "2021-12-31 06:45:00",
         "1",
         "16",
         "0",
         "0.42105263157894735"
        ],
        [
         "2021-12-31 06:05:00",
         "2021-12-31 08:35:00",
         "-1",
         "16",
         "1",
         "0.39931350114416475"
        ],
        [
         "2021-12-31 06:10:00",
         "2021-12-31 07:00:00",
         "-1",
         "16",
         "2",
         "0.37757437070938216"
        ],
        [
         "2021-12-31 06:15:00",
         "2021-12-31 07:00:00",
         "-1",
         "16",
         "3",
         "0.3558352402745995"
        ],
        [
         "2021-12-31 06:20:00",
         "2021-12-31 07:00:00",
         "-1",
         "16",
         "4",
         "0.3340961098398169"
        ],
        [
         "2021-12-31 06:25:00",
         "2021-12-31 07:00:00",
         "-1",
         "16",
         "5",
         "0.3123569794050343"
        ],
        [
         "2021-12-31 06:30:00",
         "2021-12-31 07:00:00",
         "-1",
         "16",
         "6",
         "0.29061784897025167"
        ],
        [
         "2021-12-31 06:35:00",
         "2021-12-31 07:00:00",
         "-1",
         "16",
         "7",
         "0.2688787185354691"
        ],
        [
         "2021-12-31 06:40:00",
         "2021-12-31 07:00:00",
         "-1",
         "16",
         "8",
         "0.24713958810068648"
        ],
        [
         "2021-12-31 06:45:00",
         "2021-12-31 07:00:00",
         "-1",
         "15",
         "9",
         "0.19908466819221968"
        ],
        [
         "2021-12-31 07:00:00",
         "2021-12-31 10:15:00",
         "1",
         "14",
         "1",
         "0.34668192219679633"
        ],
        [
         "2021-12-31 07:05:00",
         "2021-12-31 10:10:00",
         "1",
         "14",
         "1",
         "0.34668192219679633"
        ],
        [
         "2021-12-31 07:10:00",
         "2021-12-31 10:15:00",
         "1",
         "14",
         "1",
         "0.34668192219679633"
        ],
        [
         "2021-12-31 08:35:00",
         "2021-12-31 10:10:00",
         "1",
         "8",
         "0",
         "0.21052631578947367"
        ],
        [
         "2021-12-31 08:45:00",
         "2021-12-31 10:00:00",
         "1",
         "8",
         "0",
         "0.21052631578947367"
        ],
        [
         "2021-12-31 08:55:00",
         "2021-12-31 10:00:00",
         "1",
         "7",
         "0",
         "0.18421052631578946"
        ],
        [
         "2021-12-31 09:00:00",
         "2021-12-31 09:35:00",
         "1",
         "7",
         "0",
         "0.18421052631578946"
        ],
        [
         "2021-12-31 10:00:00",
         "2021-12-31 14:10:00",
         "-1",
         "4",
         "1",
         "0.08352402745995423"
        ],
        [
         "2021-12-31 10:05:00",
         "2021-12-31 14:15:00",
         "-1",
         "4",
         "2",
         "0.06178489702517162"
        ],
        [
         "2021-12-31 10:10:00",
         "2021-12-31 14:20:00",
         "-1",
         "2",
         "3",
         "-0.012585812356979406"
        ],
        [
         "2021-12-31 10:15:00",
         "2021-12-31 13:10:00",
         "-1",
         "0",
         "4",
         "-0.08695652173913043"
        ],
        [
         "2021-12-31 10:20:00",
         "2021-12-31 13:05:00",
         "-1",
         "0",
         "5",
         "-0.10869565217391304"
        ],
        [
         "2021-12-31 10:25:00",
         "2021-12-31 13:05:00",
         "-1",
         "0",
         "6",
         "-0.13043478260869565"
        ],
        [
         "2021-12-31 10:30:00",
         "2021-12-31 13:05:00",
         "-1",
         "0",
         "7",
         "-0.15217391304347827"
        ],
        [
         "2021-12-31 10:35:00",
         "2021-12-31 13:10:00",
         "-1",
         "0",
         "8",
         "-0.17391304347826086"
        ],
        [
         "2021-12-31 10:45:00",
         "2021-12-31 13:10:00",
         "-1",
         "0",
         "9",
         "-0.1956521739130435"
        ],
        [
         "2021-12-31 11:50:00",
         "2021-12-31 14:55:00",
         "1",
         "1",
         "9",
         "-0.16933638443935928"
        ],
        [
         "2021-12-31 11:55:00",
         "2021-12-31 14:55:00",
         "1",
         "2",
         "9",
         "-0.14302059496567507"
        ],
        [
         "2021-12-31 12:05:00",
         "2021-12-31 14:55:00",
         "1",
         "3",
         "9",
         "-0.11670480549199086"
        ],
        [
         "2021-12-31 12:50:00",
         "2021-12-31 14:50:00",
         "1",
         "4",
         "9",
         "-0.09038901601830665"
        ],
        [
         "2021-12-31 13:00:00",
         "2021-12-31 14:50:00",
         "1",
         "5",
         "9",
         "-0.06407322654462244"
        ],
        [
         "2021-12-31 13:05:00",
         "2021-12-31 13:50:00",
         "1",
         "6",
         "6",
         "0.027459954233409606"
        ],
        [
         "2021-12-31 13:10:00",
         "2021-12-31 13:35:00",
         "1",
         "7",
         "3",
         "0.11899313501144164"
        ],
        [
         "2021-12-31 14:50:00",
         "2021-12-31 17:00:00",
         "-1",
         "3",
         "1",
         "0.05720823798627002"
        ],
        [
         "2021-12-31 14:55:00",
         "2021-12-31 18:25:00",
         "-1",
         "0",
         "2",
         "-0.043478260869565216"
        ]
       ],
       "shape": {
        "columns": 5,
        "rows": 71159
       }
      },
      "text/html": [
       "<div>\n",
       "<style scoped>\n",
       "    .dataframe tbody tr th:only-of-type {\n",
       "        vertical-align: middle;\n",
       "    }\n",
       "\n",
       "    .dataframe tbody tr th {\n",
       "        vertical-align: top;\n",
       "    }\n",
       "\n",
       "    .dataframe thead th {\n",
       "        text-align: right;\n",
       "    }\n",
       "</style>\n",
       "<table border=\"1\" class=\"dataframe\">\n",
       "  <thead>\n",
       "    <tr style=\"text-align: right;\">\n",
       "      <th></th>\n",
       "      <th>t1</th>\n",
       "      <th>side</th>\n",
       "      <th>active_long</th>\n",
       "      <th>active_short</th>\n",
       "      <th>bet_size</th>\n",
       "    </tr>\n",
       "    <tr>\n",
       "      <th>time</th>\n",
       "      <th></th>\n",
       "      <th></th>\n",
       "      <th></th>\n",
       "      <th></th>\n",
       "      <th></th>\n",
       "    </tr>\n",
       "  </thead>\n",
       "  <tbody>\n",
       "    <tr>\n",
       "      <th>2021-12-31 02:40:00</th>\n",
       "      <td>2021-12-31 06:50:00</td>\n",
       "      <td>1</td>\n",
       "      <td>1</td>\n",
       "      <td>0</td>\n",
       "      <td>0.026316</td>\n",
       "    </tr>\n",
       "    <tr>\n",
       "      <th>2021-12-31 02:50:00</th>\n",
       "      <td>2021-12-31 07:00:00</td>\n",
       "      <td>1</td>\n",
       "      <td>2</td>\n",
       "      <td>0</td>\n",
       "      <td>0.052632</td>\n",
       "    </tr>\n",
       "    <tr>\n",
       "      <th>2021-12-31 02:55:00</th>\n",
       "      <td>2021-12-31 07:05:00</td>\n",
       "      <td>1</td>\n",
       "      <td>3</td>\n",
       "      <td>0</td>\n",
       "      <td>0.078947</td>\n",
       "    </tr>\n",
       "    <tr>\n",
       "      <th>2021-12-31 03:00:00</th>\n",
       "      <td>2021-12-31 07:10:00</td>\n",
       "      <td>1</td>\n",
       "      <td>4</td>\n",
       "      <td>0</td>\n",
       "      <td>0.105263</td>\n",
       "    </tr>\n",
       "    <tr>\n",
       "      <th>2021-12-31 03:05:00</th>\n",
       "      <td>2021-12-31 07:15:00</td>\n",
       "      <td>1</td>\n",
       "      <td>5</td>\n",
       "      <td>0</td>\n",
       "      <td>0.131579</td>\n",
       "    </tr>\n",
       "    <tr>\n",
       "      <th>...</th>\n",
       "      <td>...</td>\n",
       "      <td>...</td>\n",
       "      <td>...</td>\n",
       "      <td>...</td>\n",
       "      <td>...</td>\n",
       "    </tr>\n",
       "    <tr>\n",
       "      <th>2024-12-30 21:00:00</th>\n",
       "      <td>NaT</td>\n",
       "      <td>-1</td>\n",
       "      <td>1</td>\n",
       "      <td>1</td>\n",
       "      <td>0.004577</td>\n",
       "    </tr>\n",
       "    <tr>\n",
       "      <th>2024-12-30 22:00:00</th>\n",
       "      <td>NaT</td>\n",
       "      <td>1</td>\n",
       "      <td>0</td>\n",
       "      <td>1</td>\n",
       "      <td>-0.021739</td>\n",
       "    </tr>\n",
       "    <tr>\n",
       "      <th>2024-12-30 23:45:00</th>\n",
       "      <td>NaT</td>\n",
       "      <td>-1</td>\n",
       "      <td>0</td>\n",
       "      <td>0</td>\n",
       "      <td>0.000000</td>\n",
       "    </tr>\n",
       "    <tr>\n",
       "      <th>2024-12-30 23:55:00</th>\n",
       "      <td>NaT</td>\n",
       "      <td>-1</td>\n",
       "      <td>0</td>\n",
       "      <td>0</td>\n",
       "      <td>0.000000</td>\n",
       "    </tr>\n",
       "    <tr>\n",
       "      <th>2024-12-31 00:00:00</th>\n",
       "      <td>NaT</td>\n",
       "      <td>-1</td>\n",
       "      <td>0</td>\n",
       "      <td>0</td>\n",
       "      <td>0.000000</td>\n",
       "    </tr>\n",
       "  </tbody>\n",
       "</table>\n",
       "<p>71159 rows × 5 columns</p>\n",
       "</div>"
      ],
      "text/plain": [
       "                                     t1  side  active_long  active_short  \\\n",
       "time                                                                       \n",
       "2021-12-31 02:40:00 2021-12-31 06:50:00     1            1             0   \n",
       "2021-12-31 02:50:00 2021-12-31 07:00:00     1            2             0   \n",
       "2021-12-31 02:55:00 2021-12-31 07:05:00     1            3             0   \n",
       "2021-12-31 03:00:00 2021-12-31 07:10:00     1            4             0   \n",
       "2021-12-31 03:05:00 2021-12-31 07:15:00     1            5             0   \n",
       "...                                 ...   ...          ...           ...   \n",
       "2024-12-30 21:00:00                 NaT    -1            1             1   \n",
       "2024-12-30 22:00:00                 NaT     1            0             1   \n",
       "2024-12-30 23:45:00                 NaT    -1            0             0   \n",
       "2024-12-30 23:55:00                 NaT    -1            0             0   \n",
       "2024-12-31 00:00:00                 NaT    -1            0             0   \n",
       "\n",
       "                     bet_size  \n",
       "time                           \n",
       "2021-12-31 02:40:00  0.026316  \n",
       "2021-12-31 02:50:00  0.052632  \n",
       "2021-12-31 02:55:00  0.078947  \n",
       "2021-12-31 03:00:00  0.105263  \n",
       "2021-12-31 03:05:00  0.131579  \n",
       "...                       ...  \n",
       "2024-12-30 21:00:00  0.004577  \n",
       "2024-12-30 22:00:00 -0.021739  \n",
       "2024-12-30 23:45:00  0.000000  \n",
       "2024-12-30 23:55:00  0.000000  \n",
       "2024-12-31 00:00:00  0.000000  \n",
       "\n",
       "[71159 rows x 5 columns]"
      ]
     },
     "execution_count": 61,
     "metadata": {},
     "output_type": "execute_result"
    }
   ],
   "source": [
    "from afml.bet_sizing.bet_sizing import bet_size_budget\n",
    "\n",
    "bet_size_budget(events.t1, events.side)"
   ]
  },
  {
   "cell_type": "code",
   "execution_count": null,
   "id": "38abe1bf",
   "metadata": {},
   "outputs": [
    {
     "data": {
      "application/vnd.microsoft.datawrangler.viewer.v0+json": {
       "columns": [
        {
         "name": "index",
         "rawType": "object",
         "type": "string"
        },
        {
         "name": "fixed_horizon",
         "rawType": "object",
         "type": "unknown"
        },
        {
         "name": "triple_barrier",
         "rawType": "object",
         "type": "unknown"
        }
       ],
       "ref": "e7c5bfa4-d828-43c8-9262-3f2ec660dcfa",
       "rows": [
        [
         "total_return",
         "-1.0",
         "17.3128604888916"
        ],
        [
         "annualized_return",
         "-1.0",
         "1.6375884323500673"
        ],
        [
         "volatility",
         "7.366912650474836",
         "0.4576241887223172"
        ],
        [
         "downside_volatility",
         "4.559798034401701",
         "0.3494210220142798"
        ],
        [
         "sharpe_ratio",
         "-24.175336665100417",
         "6.8278113820908395"
        ],
        [
         "sortino_ratio",
         "-39.05821972024796",
         "8.942139847414882"
        ],
        [
         "var_95",
         "-0.08440695740037112",
         "-0.0028574466705322266"
        ],
        [
         "cvar_95",
         "-0.10476448873504177",
         "-0.004128928"
        ],
        [
         "skewness",
         "0.10236212571483984",
         "-0.49108987613846766"
        ],
        [
         "kurtosis",
         "0.17294191704882111",
         "3.462620947432489"
        ],
        [
         "pos_concentration",
         "2.125882872985723e-05",
         "1.7556198544539583e-05"
        ],
        [
         "neg_concentration",
         "1.3298779072143185e-05",
         "2.8250254792813793e-05"
        ],
        [
         "time_concentration",
         "0.0010769638993820083",
         "0.0010769638993820083"
        ],
        [
         "max_drawdown",
         "1.0",
         "0.47574157500832714"
        ],
        [
         "avg_drawdown",
         "0.2059955430634331",
         "0.027501269095502594"
        ],
        [
         "drawdown_duration",
         "136 days 23:03:45",
         "3 days 15:04:31"
        ],
        [
         "ulcer_index",
         "0.3785813417908404",
         "0.06577791544238693"
        ],
        [
         "calmar_ratio",
         "-1.0",
         "3.442180625734473"
        ],
        [
         "avg_trade_duration",
         "0 days 03:51:50.400000",
         "0 days 02:42:43.200000"
        ],
        [
         "bet_frequency",
         "9503",
         "9503"
        ],
        [
         "bets_per_year",
         "3167",
         "3167"
        ],
        [
         "num_trades",
         "71147",
         "71147"
        ],
        [
         "trades_per_year",
         "23714",
         "23712"
        ],
        [
         "win_rate",
         "0.4300813808031259",
         "0.5536424585716896"
        ],
        [
         "avg_win",
         "0.03597073563968351",
         "0.0011690634"
        ],
        [
         "avg_loss",
         "-0.0403208132484831",
         "-0.0013589995"
        ],
        [
         "best_trade",
         "0.22613918952028356",
         "0.01470029354095459"
        ],
        [
         "worst_trade",
         "-0.20179775207895034",
         "-0.014393925666809082"
        ],
        [
         "profit_factor",
         "0.6732212757417803",
         "1.0698994"
        ],
        [
         "expectancy",
         "-0.00750923855905122",
         "4.064344077890983e-05"
        ],
        [
         "kelly_criterion",
         "-0.20875966047152245",
         "0.03476581094954989"
        ],
        [
         "consecutive_wins",
         "37",
         "73"
        ],
        [
         "consecutive_losses",
         "42",
         "59"
        ],
        [
         "ratio_of_longs",
         "0.49510169086539135",
         "0.49510169086539135"
        ]
       ],
       "shape": {
        "columns": 2,
        "rows": 34
       }
      },
      "text/html": [
       "<div>\n",
       "<style scoped>\n",
       "    .dataframe tbody tr th:only-of-type {\n",
       "        vertical-align: middle;\n",
       "    }\n",
       "\n",
       "    .dataframe tbody tr th {\n",
       "        vertical-align: top;\n",
       "    }\n",
       "\n",
       "    .dataframe thead th {\n",
       "        text-align: right;\n",
       "    }\n",
       "</style>\n",
       "<table border=\"1\" class=\"dataframe\">\n",
       "  <thead>\n",
       "    <tr style=\"text-align: right;\">\n",
       "      <th></th>\n",
       "      <th>fixed_horizon</th>\n",
       "      <th>triple_barrier</th>\n",
       "    </tr>\n",
       "  </thead>\n",
       "  <tbody>\n",
       "    <tr>\n",
       "      <th>total_return</th>\n",
       "      <td>-1.0</td>\n",
       "      <td>17.31286</td>\n",
       "    </tr>\n",
       "    <tr>\n",
       "      <th>annualized_return</th>\n",
       "      <td>-1.0</td>\n",
       "      <td>1.637588</td>\n",
       "    </tr>\n",
       "    <tr>\n",
       "      <th>volatility</th>\n",
       "      <td>7.366913</td>\n",
       "      <td>0.457624</td>\n",
       "    </tr>\n",
       "    <tr>\n",
       "      <th>downside_volatility</th>\n",
       "      <td>4.559798</td>\n",
       "      <td>0.349421</td>\n",
       "    </tr>\n",
       "    <tr>\n",
       "      <th>sharpe_ratio</th>\n",
       "      <td>-24.175337</td>\n",
       "      <td>6.827811</td>\n",
       "    </tr>\n",
       "    <tr>\n",
       "      <th>sortino_ratio</th>\n",
       "      <td>-39.05822</td>\n",
       "      <td>8.94214</td>\n",
       "    </tr>\n",
       "    <tr>\n",
       "      <th>var_95</th>\n",
       "      <td>-0.084407</td>\n",
       "      <td>-0.002857</td>\n",
       "    </tr>\n",
       "    <tr>\n",
       "      <th>cvar_95</th>\n",
       "      <td>-0.104764</td>\n",
       "      <td>-0.004129</td>\n",
       "    </tr>\n",
       "    <tr>\n",
       "      <th>skewness</th>\n",
       "      <td>0.102362</td>\n",
       "      <td>-0.49109</td>\n",
       "    </tr>\n",
       "    <tr>\n",
       "      <th>kurtosis</th>\n",
       "      <td>0.172942</td>\n",
       "      <td>3.462621</td>\n",
       "    </tr>\n",
       "    <tr>\n",
       "      <th>pos_concentration</th>\n",
       "      <td>0.000021</td>\n",
       "      <td>0.000018</td>\n",
       "    </tr>\n",
       "    <tr>\n",
       "      <th>neg_concentration</th>\n",
       "      <td>0.000013</td>\n",
       "      <td>0.000028</td>\n",
       "    </tr>\n",
       "    <tr>\n",
       "      <th>time_concentration</th>\n",
       "      <td>0.001077</td>\n",
       "      <td>0.001077</td>\n",
       "    </tr>\n",
       "    <tr>\n",
       "      <th>max_drawdown</th>\n",
       "      <td>1.0</td>\n",
       "      <td>0.475742</td>\n",
       "    </tr>\n",
       "    <tr>\n",
       "      <th>avg_drawdown</th>\n",
       "      <td>0.205996</td>\n",
       "      <td>0.027501</td>\n",
       "    </tr>\n",
       "    <tr>\n",
       "      <th>drawdown_duration</th>\n",
       "      <td>136 days 23:03:45</td>\n",
       "      <td>3 days 15:04:31</td>\n",
       "    </tr>\n",
       "    <tr>\n",
       "      <th>ulcer_index</th>\n",
       "      <td>0.378581</td>\n",
       "      <td>0.065778</td>\n",
       "    </tr>\n",
       "    <tr>\n",
       "      <th>calmar_ratio</th>\n",
       "      <td>-1.0</td>\n",
       "      <td>3.442181</td>\n",
       "    </tr>\n",
       "    <tr>\n",
       "      <th>avg_trade_duration</th>\n",
       "      <td>0 days 03:51:50.400000</td>\n",
       "      <td>0 days 02:42:43.200000</td>\n",
       "    </tr>\n",
       "    <tr>\n",
       "      <th>bet_frequency</th>\n",
       "      <td>9503</td>\n",
       "      <td>9503</td>\n",
       "    </tr>\n",
       "    <tr>\n",
       "      <th>bets_per_year</th>\n",
       "      <td>3167</td>\n",
       "      <td>3167</td>\n",
       "    </tr>\n",
       "    <tr>\n",
       "      <th>num_trades</th>\n",
       "      <td>71147</td>\n",
       "      <td>71147</td>\n",
       "    </tr>\n",
       "    <tr>\n",
       "      <th>trades_per_year</th>\n",
       "      <td>23714</td>\n",
       "      <td>23712</td>\n",
       "    </tr>\n",
       "    <tr>\n",
       "      <th>win_rate</th>\n",
       "      <td>0.430081</td>\n",
       "      <td>0.553642</td>\n",
       "    </tr>\n",
       "    <tr>\n",
       "      <th>avg_win</th>\n",
       "      <td>0.035971</td>\n",
       "      <td>0.001169</td>\n",
       "    </tr>\n",
       "    <tr>\n",
       "      <th>avg_loss</th>\n",
       "      <td>-0.040321</td>\n",
       "      <td>-0.001359</td>\n",
       "    </tr>\n",
       "    <tr>\n",
       "      <th>best_trade</th>\n",
       "      <td>0.226139</td>\n",
       "      <td>0.0147</td>\n",
       "    </tr>\n",
       "    <tr>\n",
       "      <th>worst_trade</th>\n",
       "      <td>-0.201798</td>\n",
       "      <td>-0.014394</td>\n",
       "    </tr>\n",
       "    <tr>\n",
       "      <th>profit_factor</th>\n",
       "      <td>0.673221</td>\n",
       "      <td>1.069899</td>\n",
       "    </tr>\n",
       "    <tr>\n",
       "      <th>expectancy</th>\n",
       "      <td>-0.007509</td>\n",
       "      <td>0.000041</td>\n",
       "    </tr>\n",
       "    <tr>\n",
       "      <th>kelly_criterion</th>\n",
       "      <td>-0.20876</td>\n",
       "      <td>0.034766</td>\n",
       "    </tr>\n",
       "    <tr>\n",
       "      <th>consecutive_wins</th>\n",
       "      <td>37</td>\n",
       "      <td>73</td>\n",
       "    </tr>\n",
       "    <tr>\n",
       "      <th>consecutive_losses</th>\n",
       "      <td>42</td>\n",
       "      <td>59</td>\n",
       "    </tr>\n",
       "    <tr>\n",
       "      <th>ratio_of_longs</th>\n",
       "      <td>0.495102</td>\n",
       "      <td>0.495102</td>\n",
       "    </tr>\n",
       "  </tbody>\n",
       "</table>\n",
       "</div>"
      ],
      "text/plain": [
       "                              fixed_horizon          triple_barrier\n",
       "total_return                           -1.0                17.31286\n",
       "annualized_return                      -1.0                1.637588\n",
       "volatility                         7.366913                0.457624\n",
       "downside_volatility                4.559798                0.349421\n",
       "sharpe_ratio                     -24.175337                6.827811\n",
       "sortino_ratio                     -39.05822                 8.94214\n",
       "var_95                            -0.084407               -0.002857\n",
       "cvar_95                           -0.104764               -0.004129\n",
       "skewness                           0.102362                -0.49109\n",
       "kurtosis                           0.172942                3.462621\n",
       "pos_concentration                  0.000021                0.000018\n",
       "neg_concentration                  0.000013                0.000028\n",
       "time_concentration                 0.001077                0.001077\n",
       "max_drawdown                            1.0                0.475742\n",
       "avg_drawdown                       0.205996                0.027501\n",
       "drawdown_duration         136 days 23:03:45         3 days 15:04:31\n",
       "ulcer_index                        0.378581                0.065778\n",
       "calmar_ratio                           -1.0                3.442181\n",
       "avg_trade_duration   0 days 03:51:50.400000  0 days 02:42:43.200000\n",
       "bet_frequency                          9503                    9503\n",
       "bets_per_year                          3167                    3167\n",
       "num_trades                            71147                   71147\n",
       "trades_per_year                       23714                   23712\n",
       "win_rate                           0.430081                0.553642\n",
       "avg_win                            0.035971                0.001169\n",
       "avg_loss                          -0.040321               -0.001359\n",
       "best_trade                         0.226139                  0.0147\n",
       "worst_trade                       -0.201798               -0.014394\n",
       "profit_factor                      0.673221                1.069899\n",
       "expectancy                        -0.007509                0.000041\n",
       "kelly_criterion                    -0.20876                0.034766\n",
       "consecutive_wins                         37                      73\n",
       "consecutive_losses                       42                      59\n",
       "ratio_of_longs                     0.495102                0.495102"
      ]
     },
     "execution_count": 54,
     "metadata": {},
     "output_type": "execute_result"
    }
   ],
   "source": [
    "time_metrics_oos = {}\n",
    "for col, res in bb_model_results_time.items():\n",
    "    time_metrics_oos.setdefault(\"primary_model\", []).append(pd.Series(res[\"primary_metrics\"], name=col))\n",
    "    time_metrics_oos.setdefault(\"meta_model\", []).append(pd.Series(res[\"meta_metrics\"], name=col))\n",
    "\n",
    "primary_metrics_df = pd.concat(time_metrics_oos[\"primary_model\"], axis=1)\n",
    "meta_metrics_df = pd.concat(time_metrics_oos[\"meta_model\"], axis=1)\n",
    "# pprint(time_metrics_oos)\n",
    "primary_metrics_df"
   ]
  },
  {
   "cell_type": "code",
   "execution_count": null,
   "id": "559d5ead",
   "metadata": {},
   "outputs": [
    {
     "data": {
      "application/vnd.microsoft.datawrangler.viewer.v0+json": {
       "columns": [
        {
         "name": "index",
         "rawType": "object",
         "type": "string"
        },
        {
         "name": "fixed_horizon",
         "rawType": "object",
         "type": "unknown"
        },
        {
         "name": "triple_barrier",
         "rawType": "object",
         "type": "unknown"
        }
       ],
       "ref": "34c5829e-93a7-4c2a-9b3f-01f5c8da8336",
       "rows": [
        [
         "total_return",
         "-1.0",
         "6.835007809049808"
        ],
        [
         "annualized_return",
         "-1.0",
         "0.9870887434343021"
        ],
        [
         "volatility",
         "7.366912650474836",
         "0.44470670990443695"
        ],
        [
         "downside_volatility",
         "4.559798034401701",
         "0.3394165907794404"
        ],
        [
         "sharpe_ratio",
         "-24.175336665100417",
         "8.599692849051754"
        ],
        [
         "sortino_ratio",
         "-39.05821972024796",
         "11.267395928726572"
        ],
        [
         "var_95",
         "-0.08440695740037112",
         "-0.0026779353618621824"
        ],
        [
         "cvar_95",
         "-0.10476448873504177",
         "-0.0039932230719156294"
        ],
        [
         "skewness",
         "0.10236212571483984",
         "-0.4420310171412535"
        ],
        [
         "kurtosis",
         "0.17294191704882111",
         "4.331773747179808"
        ],
        [
         "pos_concentration",
         "2.125882872985723e-05",
         "3.219635433330682e-05"
        ],
        [
         "neg_concentration",
         "1.3298779072143185e-05",
         "4.936430103208561e-05"
        ],
        [
         "time_concentration",
         "0.0010769638993820083",
         "0.004177110837270253"
        ],
        [
         "max_drawdown",
         "1.0",
         "0.3390367110329813"
        ],
        [
         "avg_drawdown",
         "0.2059955430634331",
         "0.019044458961787983"
        ],
        [
         "drawdown_duration",
         "136 days 23:03:45",
         "4 days 01:22:19"
        ],
        [
         "ulcer_index",
         "0.3785813417908404",
         "0.04534366710775789"
        ],
        [
         "calmar_ratio",
         "-1.0",
         "2.9114509175918672"
        ],
        [
         "avg_trade_duration",
         "0 days 03:51:50.400000",
         "0 days 04:03:21.600000"
        ],
        [
         "bet_frequency",
         "9503",
         "6497"
        ],
        [
         "bets_per_year",
         "3167",
         "2165"
        ],
        [
         "num_trades",
         "71147",
         "40832"
        ],
        [
         "trades_per_year",
         "23714",
         "13609"
        ],
        [
         "win_rate",
         "0.4300813808031259",
         "0.5644347570532915"
        ],
        [
         "avg_win",
         "0.03597073563968351",
         "0.0011185172887232659"
        ],
        [
         "avg_loss",
         "-0.0403208132484831",
         "-0.0013346765342685724"
        ],
        [
         "best_trade",
         "0.22613918952028356",
         "0.01470029354095459"
        ],
        [
         "worst_trade",
         "-0.20179775207895034",
         "-0.013973593711853027"
        ],
        [
         "profit_factor",
         "0.6732212757417803",
         "1.0893008646558042"
        ],
        [
         "expectancy",
         "-0.00750923855905122",
         "4.999132521646117e-05"
        ],
        [
         "kelly_criterion",
         "-0.20875966047152245",
         "0.044694280294517386"
        ],
        [
         "consecutive_wins",
         "37",
         "51"
        ],
        [
         "consecutive_losses",
         "42",
         "47"
        ],
        [
         "ratio_of_longs",
         "0.49510169086539135",
         "0.5508914576802508"
        ],
        [
         "signal_filter_rate",
         "0.0",
         "0.42608964538209626"
        ],
        [
         "confidence_threshold",
         "0.5",
         "0.5"
        ],
        [
         "information_ratio",
         null,
         null
        ]
       ],
       "shape": {
        "columns": 2,
        "rows": 37
       }
      },
      "text/html": [
       "<div>\n",
       "<style scoped>\n",
       "    .dataframe tbody tr th:only-of-type {\n",
       "        vertical-align: middle;\n",
       "    }\n",
       "\n",
       "    .dataframe tbody tr th {\n",
       "        vertical-align: top;\n",
       "    }\n",
       "\n",
       "    .dataframe thead th {\n",
       "        text-align: right;\n",
       "    }\n",
       "</style>\n",
       "<table border=\"1\" class=\"dataframe\">\n",
       "  <thead>\n",
       "    <tr style=\"text-align: right;\">\n",
       "      <th></th>\n",
       "      <th>fixed_horizon</th>\n",
       "      <th>triple_barrier</th>\n",
       "    </tr>\n",
       "  </thead>\n",
       "  <tbody>\n",
       "    <tr>\n",
       "      <th>total_return</th>\n",
       "      <td>-1.0</td>\n",
       "      <td>6.835008</td>\n",
       "    </tr>\n",
       "    <tr>\n",
       "      <th>annualized_return</th>\n",
       "      <td>-1.0</td>\n",
       "      <td>0.987089</td>\n",
       "    </tr>\n",
       "    <tr>\n",
       "      <th>volatility</th>\n",
       "      <td>7.366913</td>\n",
       "      <td>0.444707</td>\n",
       "    </tr>\n",
       "    <tr>\n",
       "      <th>downside_volatility</th>\n",
       "      <td>4.559798</td>\n",
       "      <td>0.339417</td>\n",
       "    </tr>\n",
       "    <tr>\n",
       "      <th>sharpe_ratio</th>\n",
       "      <td>-24.175337</td>\n",
       "      <td>8.599693</td>\n",
       "    </tr>\n",
       "    <tr>\n",
       "      <th>sortino_ratio</th>\n",
       "      <td>-39.05822</td>\n",
       "      <td>11.267396</td>\n",
       "    </tr>\n",
       "    <tr>\n",
       "      <th>var_95</th>\n",
       "      <td>-0.084407</td>\n",
       "      <td>-0.002678</td>\n",
       "    </tr>\n",
       "    <tr>\n",
       "      <th>cvar_95</th>\n",
       "      <td>-0.104764</td>\n",
       "      <td>-0.003993</td>\n",
       "    </tr>\n",
       "    <tr>\n",
       "      <th>skewness</th>\n",
       "      <td>0.102362</td>\n",
       "      <td>-0.442031</td>\n",
       "    </tr>\n",
       "    <tr>\n",
       "      <th>kurtosis</th>\n",
       "      <td>0.172942</td>\n",
       "      <td>4.331774</td>\n",
       "    </tr>\n",
       "    <tr>\n",
       "      <th>pos_concentration</th>\n",
       "      <td>0.000021</td>\n",
       "      <td>0.000032</td>\n",
       "    </tr>\n",
       "    <tr>\n",
       "      <th>neg_concentration</th>\n",
       "      <td>0.000013</td>\n",
       "      <td>0.000049</td>\n",
       "    </tr>\n",
       "    <tr>\n",
       "      <th>time_concentration</th>\n",
       "      <td>0.001077</td>\n",
       "      <td>0.004177</td>\n",
       "    </tr>\n",
       "    <tr>\n",
       "      <th>max_drawdown</th>\n",
       "      <td>1.0</td>\n",
       "      <td>0.339037</td>\n",
       "    </tr>\n",
       "    <tr>\n",
       "      <th>avg_drawdown</th>\n",
       "      <td>0.205996</td>\n",
       "      <td>0.019044</td>\n",
       "    </tr>\n",
       "    <tr>\n",
       "      <th>drawdown_duration</th>\n",
       "      <td>136 days 23:03:45</td>\n",
       "      <td>4 days 01:22:19</td>\n",
       "    </tr>\n",
       "    <tr>\n",
       "      <th>ulcer_index</th>\n",
       "      <td>0.378581</td>\n",
       "      <td>0.045344</td>\n",
       "    </tr>\n",
       "    <tr>\n",
       "      <th>calmar_ratio</th>\n",
       "      <td>-1.0</td>\n",
       "      <td>2.911451</td>\n",
       "    </tr>\n",
       "    <tr>\n",
       "      <th>avg_trade_duration</th>\n",
       "      <td>0 days 03:51:50.400000</td>\n",
       "      <td>0 days 04:03:21.600000</td>\n",
       "    </tr>\n",
       "    <tr>\n",
       "      <th>bet_frequency</th>\n",
       "      <td>9503</td>\n",
       "      <td>6497</td>\n",
       "    </tr>\n",
       "    <tr>\n",
       "      <th>bets_per_year</th>\n",
       "      <td>3167</td>\n",
       "      <td>2165</td>\n",
       "    </tr>\n",
       "    <tr>\n",
       "      <th>num_trades</th>\n",
       "      <td>71147</td>\n",
       "      <td>40832</td>\n",
       "    </tr>\n",
       "    <tr>\n",
       "      <th>trades_per_year</th>\n",
       "      <td>23714</td>\n",
       "      <td>13609</td>\n",
       "    </tr>\n",
       "    <tr>\n",
       "      <th>win_rate</th>\n",
       "      <td>0.430081</td>\n",
       "      <td>0.564435</td>\n",
       "    </tr>\n",
       "    <tr>\n",
       "      <th>avg_win</th>\n",
       "      <td>0.035971</td>\n",
       "      <td>0.001119</td>\n",
       "    </tr>\n",
       "    <tr>\n",
       "      <th>avg_loss</th>\n",
       "      <td>-0.040321</td>\n",
       "      <td>-0.001335</td>\n",
       "    </tr>\n",
       "    <tr>\n",
       "      <th>best_trade</th>\n",
       "      <td>0.226139</td>\n",
       "      <td>0.0147</td>\n",
       "    </tr>\n",
       "    <tr>\n",
       "      <th>worst_trade</th>\n",
       "      <td>-0.201798</td>\n",
       "      <td>-0.013974</td>\n",
       "    </tr>\n",
       "    <tr>\n",
       "      <th>profit_factor</th>\n",
       "      <td>0.673221</td>\n",
       "      <td>1.089301</td>\n",
       "    </tr>\n",
       "    <tr>\n",
       "      <th>expectancy</th>\n",
       "      <td>-0.007509</td>\n",
       "      <td>0.00005</td>\n",
       "    </tr>\n",
       "    <tr>\n",
       "      <th>kelly_criterion</th>\n",
       "      <td>-0.20876</td>\n",
       "      <td>0.044694</td>\n",
       "    </tr>\n",
       "    <tr>\n",
       "      <th>consecutive_wins</th>\n",
       "      <td>37</td>\n",
       "      <td>51</td>\n",
       "    </tr>\n",
       "    <tr>\n",
       "      <th>consecutive_losses</th>\n",
       "      <td>42</td>\n",
       "      <td>47</td>\n",
       "    </tr>\n",
       "    <tr>\n",
       "      <th>ratio_of_longs</th>\n",
       "      <td>0.495102</td>\n",
       "      <td>0.550891</td>\n",
       "    </tr>\n",
       "    <tr>\n",
       "      <th>signal_filter_rate</th>\n",
       "      <td>0.0</td>\n",
       "      <td>0.42609</td>\n",
       "    </tr>\n",
       "    <tr>\n",
       "      <th>confidence_threshold</th>\n",
       "      <td>0.5</td>\n",
       "      <td>0.5</td>\n",
       "    </tr>\n",
       "    <tr>\n",
       "      <th>information_ratio</th>\n",
       "      <td>NaN</td>\n",
       "      <td>NaN</td>\n",
       "    </tr>\n",
       "  </tbody>\n",
       "</table>\n",
       "</div>"
      ],
      "text/plain": [
       "                               fixed_horizon          triple_barrier\n",
       "total_return                            -1.0                6.835008\n",
       "annualized_return                       -1.0                0.987089\n",
       "volatility                          7.366913                0.444707\n",
       "downside_volatility                 4.559798                0.339417\n",
       "sharpe_ratio                      -24.175337                8.599693\n",
       "sortino_ratio                      -39.05822               11.267396\n",
       "var_95                             -0.084407               -0.002678\n",
       "cvar_95                            -0.104764               -0.003993\n",
       "skewness                            0.102362               -0.442031\n",
       "kurtosis                            0.172942                4.331774\n",
       "pos_concentration                   0.000021                0.000032\n",
       "neg_concentration                   0.000013                0.000049\n",
       "time_concentration                  0.001077                0.004177\n",
       "max_drawdown                             1.0                0.339037\n",
       "avg_drawdown                        0.205996                0.019044\n",
       "drawdown_duration          136 days 23:03:45         4 days 01:22:19\n",
       "ulcer_index                         0.378581                0.045344\n",
       "calmar_ratio                            -1.0                2.911451\n",
       "avg_trade_duration    0 days 03:51:50.400000  0 days 04:03:21.600000\n",
       "bet_frequency                           9503                    6497\n",
       "bets_per_year                           3167                    2165\n",
       "num_trades                             71147                   40832\n",
       "trades_per_year                        23714                   13609\n",
       "win_rate                            0.430081                0.564435\n",
       "avg_win                             0.035971                0.001119\n",
       "avg_loss                           -0.040321               -0.001335\n",
       "best_trade                          0.226139                  0.0147\n",
       "worst_trade                        -0.201798               -0.013974\n",
       "profit_factor                       0.673221                1.089301\n",
       "expectancy                         -0.007509                 0.00005\n",
       "kelly_criterion                     -0.20876                0.044694\n",
       "consecutive_wins                          37                      51\n",
       "consecutive_losses                        42                      47\n",
       "ratio_of_longs                      0.495102                0.550891\n",
       "signal_filter_rate                       0.0                 0.42609\n",
       "confidence_threshold                     0.5                     0.5\n",
       "information_ratio                        NaN                     NaN"
      ]
     },
     "execution_count": 56,
     "metadata": {},
     "output_type": "execute_result"
    }
   ],
   "source": [
    "meta_metrics_df"
   ]
  },
  {
   "cell_type": "code",
   "execution_count": null,
   "id": "3ea23520",
   "metadata": {},
   "outputs": [
    {
     "data": {
      "application/vnd.microsoft.datawrangler.viewer.v0+json": {
       "columns": [
        {
         "name": "time",
         "rawType": "datetime64[ns]",
         "type": "datetime"
        },
        {
         "name": "bet_size",
         "rawType": "float64",
         "type": "float"
        },
        {
         "name": "0",
         "rawType": "float64",
         "type": "float"
        }
       ],
       "ref": "f70a72aa-1e81-4c78-8dbb-3057c6b96c62",
       "rows": [
        [
         "2021-12-31 02:40:00",
         "-0.04119095627042513",
         "0.47421029411612975"
        ],
        [
         "2021-12-31 02:50:00",
         "-0.044235208332788045",
         "0.4723080470313967"
        ],
        [
         "2021-12-31 04:35:00",
         "-0.014694273131671709",
         "0.490792770732205"
        ],
        [
         "2021-12-31 07:00:00",
         "-0.037061191828127726",
         "0.4767920250731431"
        ],
        [
         "2021-12-31 08:35:00",
         "-0.0022697899138165445",
         "0.49857762394306654"
        ],
        [
         "2021-12-31 10:00:00",
         "-0.001639015059582638",
         "0.5010270989280282"
        ],
        [
         "2021-12-31 11:50:00",
         "-0.03254119042231629",
         "0.47961912918318955"
        ],
        [
         "2021-12-31 12:05:00",
         "-0.03937423856319067",
         "0.47534585755901115"
        ],
        [
         "2021-12-31 13:00:00",
         "-0.02660140086803464",
         "0.48333621683113187"
        ],
        [
         "2021-12-31 18:00:00",
         "-0.015558972718105357",
         "0.5097489046274464"
        ],
        [
         "2021-12-31 18:25:00",
         "-0.02819116904925667",
         "0.5176588490401435"
        ],
        [
         "2021-12-31 19:00:00",
         "-0.020884984920306326",
         "0.513084735519623"
        ],
        [
         "2021-12-31 19:20:00",
         "-0.03314287666210369",
         "0.4792427160969817"
        ],
        [
         "2021-12-31 22:00:00",
         "-0.016125970843034243",
         "0.4898959220343485"
        ],
        [
         "2021-12-31 22:25:00",
         "-0.014886650315342753",
         "0.4906722576231599"
        ],
        [
         "2021-12-31 23:00:00",
         "-0.02482747363929838",
         "0.4844467068898496"
        ],
        [
         "2022-01-03 00:15:00",
         "-0.010174527451814686",
         "0.4936244060192323"
        ],
        [
         "2022-01-03 01:20:00",
         "-0.019147283998042997",
         "0.48800352170557904"
        ],
        [
         "2022-01-03 02:40:00",
         "-0.01899272794100937",
         "0.4881003200528303"
        ],
        [
         "2022-01-03 05:55:00",
         "-0.006902112900433077",
         "0.49567485004622697"
        ],
        [
         "2022-01-03 08:30:00",
         "-0.02735716872575622",
         "0.4828631505297966"
        ],
        [
         "2022-01-03 09:00:00",
         "-0.0123864593550429",
         "0.5077614388448028"
        ],
        [
         "2022-01-03 10:00:00",
         "-0.01682858030970502",
         "0.5105441854258025"
        ],
        [
         "2022-01-03 11:05:00",
         "-0.01609536553728197",
         "0.5100849067509483"
        ],
        [
         "2022-01-03 13:10:00",
         "-0.020333006833979872",
         "0.48726093480405885"
        ],
        [
         "2022-01-03 13:50:00",
         "-0.03586970131120548",
         "0.477537124306748"
        ],
        [
         "2022-01-03 14:30:00",
         "-0.007860934504481332",
         "0.5049259507956572"
        ],
        [
         "2022-01-03 15:10:00",
         "-0.020913569578574154",
         "0.4868973639843105"
        ],
        [
         "2022-01-03 16:15:00",
         "-0.05918225660083287",
         "0.4629808301441304"
        ],
        [
         "2022-01-03 16:30:00",
         "-0.002326544799715613",
         "0.49854205838771387"
        ],
        [
         "2022-01-03 17:45:00",
         "-0.005803046985201954",
         "0.4963635437055937"
        ],
        [
         "2022-01-03 17:55:00",
         "-0.025925535429689228",
         "0.4837592942198077"
        ],
        [
         "2022-01-03 21:45:00",
         "-0.021690166675819245",
         "0.4864110506169371"
        ],
        [
         "2022-01-03 22:15:00",
         "-0.03885121862998808",
         "0.4756728258197771"
        ],
        [
         "2022-01-03 22:25:00",
         "-0.028242174609448667",
         "0.48230922789337094"
        ],
        [
         "2022-01-03 23:15:00",
         "-0.04984362022087496",
         "0.4688056870253277"
        ],
        [
         "2022-01-04 04:00:00",
         "-0.06090735950480597",
         "0.46190587329846744"
        ],
        [
         "2022-01-04 07:15:00",
         "-0.02478124026028128",
         "0.48447565138817983"
        ],
        [
         "2022-01-04 07:25:00",
         "-0.027279270878098894",
         "0.4829119086038157"
        ],
        [
         "2022-01-04 07:45:00",
         "-0.04315261696545425",
         "0.472984431548107"
        ],
        [
         "2022-01-04 11:55:00",
         "-0.025593844798615817",
         "0.48396693404943963"
        ],
        [
         "2022-01-04 14:00:00",
         "-0.02526709562265439",
         "0.4841714859162472"
        ],
        [
         "2022-01-04 19:35:00",
         "-0.03641993131772625",
         "0.4771930250656013"
        ],
        [
         "2022-01-04 21:50:00",
         "-0.032030961963623206",
         "0.47993834469326185"
        ],
        [
         "2022-01-04 22:10:00",
         "-0.03832990390023028",
         "0.47599874879563725"
        ],
        [
         "2022-01-05 00:25:00",
         "-0.05610291433378167",
         "0.4649004958894316"
        ],
        [
         "2022-01-05 01:00:00",
         "-0.06263440853963598",
         "0.4608300574265373"
        ],
        [
         "2022-01-05 01:25:00",
         "-0.061147180390504374",
         "0.4617564623472998"
        ],
        [
         "2022-01-05 05:15:00",
         "-0.057354898232315765",
         "0.4641198792242959"
        ],
        [
         "2022-01-05 05:30:00",
         "-0.037525947880929",
         "0.47650141741554974"
        ]
       ],
       "shape": {
        "columns": 2,
        "rows": 11440
       }
      },
      "text/html": [
       "<div>\n",
       "<style scoped>\n",
       "    .dataframe tbody tr th:only-of-type {\n",
       "        vertical-align: middle;\n",
       "    }\n",
       "\n",
       "    .dataframe tbody tr th {\n",
       "        vertical-align: top;\n",
       "    }\n",
       "\n",
       "    .dataframe thead th {\n",
       "        text-align: right;\n",
       "    }\n",
       "</style>\n",
       "<table border=\"1\" class=\"dataframe\">\n",
       "  <thead>\n",
       "    <tr style=\"text-align: right;\">\n",
       "      <th></th>\n",
       "      <th>bet_size</th>\n",
       "      <th>0</th>\n",
       "    </tr>\n",
       "    <tr>\n",
       "      <th>time</th>\n",
       "      <th></th>\n",
       "      <th></th>\n",
       "    </tr>\n",
       "  </thead>\n",
       "  <tbody>\n",
       "    <tr>\n",
       "      <th>2021-12-31 02:40:00</th>\n",
       "      <td>-0.041191</td>\n",
       "      <td>0.474210</td>\n",
       "    </tr>\n",
       "    <tr>\n",
       "      <th>2021-12-31 02:50:00</th>\n",
       "      <td>-0.044235</td>\n",
       "      <td>0.472308</td>\n",
       "    </tr>\n",
       "    <tr>\n",
       "      <th>2021-12-31 04:35:00</th>\n",
       "      <td>-0.014694</td>\n",
       "      <td>0.490793</td>\n",
       "    </tr>\n",
       "    <tr>\n",
       "      <th>2021-12-31 07:00:00</th>\n",
       "      <td>-0.037061</td>\n",
       "      <td>0.476792</td>\n",
       "    </tr>\n",
       "    <tr>\n",
       "      <th>2021-12-31 08:35:00</th>\n",
       "      <td>-0.002270</td>\n",
       "      <td>0.498578</td>\n",
       "    </tr>\n",
       "    <tr>\n",
       "      <th>...</th>\n",
       "      <td>...</td>\n",
       "      <td>...</td>\n",
       "    </tr>\n",
       "    <tr>\n",
       "      <th>2024-12-30 11:50:00</th>\n",
       "      <td>-0.093214</td>\n",
       "      <td>0.558149</td>\n",
       "    </tr>\n",
       "    <tr>\n",
       "      <th>2024-12-30 13:25:00</th>\n",
       "      <td>-0.050949</td>\n",
       "      <td>0.531885</td>\n",
       "    </tr>\n",
       "    <tr>\n",
       "      <th>2024-12-30 13:55:00</th>\n",
       "      <td>-0.032719</td>\n",
       "      <td>0.520492</td>\n",
       "    </tr>\n",
       "    <tr>\n",
       "      <th>2024-12-30 14:10:00</th>\n",
       "      <td>-0.033488</td>\n",
       "      <td>0.520973</td>\n",
       "    </tr>\n",
       "    <tr>\n",
       "      <th>2024-12-30 19:25:00</th>\n",
       "      <td>-0.031519</td>\n",
       "      <td>0.519741</td>\n",
       "    </tr>\n",
       "  </tbody>\n",
       "</table>\n",
       "<p>11440 rows × 2 columns</p>\n",
       "</div>"
      ],
      "text/plain": [
       "                     bet_size         0\n",
       "time                                   \n",
       "2021-12-31 02:40:00 -0.041191  0.474210\n",
       "2021-12-31 02:50:00 -0.044235  0.472308\n",
       "2021-12-31 04:35:00 -0.014694  0.490793\n",
       "2021-12-31 07:00:00 -0.037061  0.476792\n",
       "2021-12-31 08:35:00 -0.002270  0.498578\n",
       "...                       ...       ...\n",
       "2024-12-30 11:50:00 -0.093214  0.558149\n",
       "2024-12-30 13:25:00 -0.050949  0.531885\n",
       "2024-12-30 13:55:00 -0.032719  0.520492\n",
       "2024-12-30 14:10:00 -0.033488  0.520973\n",
       "2024-12-30 19:25:00 -0.031519  0.519741\n",
       "\n",
       "[11440 rows x 2 columns]"
      ]
     },
     "execution_count": 175,
     "metadata": {},
     "output_type": "execute_result"
    }
   ],
   "source": [
    "bet_sizes_raw = bet_size_probability(\n",
    "            events,\n",
    "            prob.reindex(events.index),\n",
    "            num_classes=2,\n",
    "            pred=events.side,\n",
    "            # **kwargs,\n",
    "        )\n",
    "# bet_sizes_raw.describe()\n",
    "pd.concat([bet_sizes_raw, prob], axis=1).dropna()[bet_sizes_raw < 0]"
   ]
  },
  {
   "cell_type": "code",
   "execution_count": null,
   "id": "382c2de2",
   "metadata": {},
   "outputs": [
    {
     "data": {
      "application/vnd.microsoft.datawrangler.viewer.v0+json": {
       "columns": [
        {
         "name": "time",
         "rawType": "datetime64[ns]",
         "type": "datetime"
        },
        {
         "name": "0",
         "rawType": "float32",
         "type": "float"
        },
        {
         "name": "1",
         "rawType": "float32",
         "type": "float"
        }
       ],
       "ref": "14b581d6-38e2-4764-b66e-aa8863361c7f",
       "rows": [
        [
         "2021-12-31 02:40:00",
         "9.262562e-05",
         "0.0"
        ],
        [
         "2021-12-31 02:50:00",
         "-0.0010510087",
         "-0.0"
        ],
        [
         "2021-12-31 03:35:00",
         "-0.0004285574",
         "-0.0004285574"
        ],
        [
         "2021-12-31 04:35:00",
         "-0.0009188652",
         "-0.0"
        ],
        [
         "2021-12-31 06:05:00",
         "0.00093203783",
         "-0.0"
        ],
        [
         "2021-12-31 07:00:00",
         "0.001463294",
         "0.0"
        ],
        [
         "2021-12-31 08:35:00",
         "0.0010920763",
         "0.0"
        ],
        [
         "2021-12-31 08:45:00",
         "0.0009640455",
         "0.0009640455"
        ],
        [
         "2021-12-31 08:55:00",
         "0.0009418726",
         "0.0009418726"
        ],
        [
         "2021-12-31 10:00:00",
         "-0.0006715059",
         "0.0006715059"
        ],
        [
         "2021-12-31 10:45:00",
         "0.001865983",
         "-0.0"
        ],
        [
         "2021-12-31 11:50:00",
         "0.0026851892",
         "0.0"
        ],
        [
         "2021-12-31 12:05:00",
         "0.002512455",
         "0.0"
        ],
        [
         "2021-12-31 12:50:00",
         "0.0018728971",
         "0.0018728971"
        ],
        [
         "2021-12-31 13:00:00",
         "0.0018773079",
         "0.0"
        ],
        [
         "2021-12-31 14:50:00",
         "-0.0027555227",
         "0.0"
        ],
        [
         "2021-12-31 16:25:00",
         "-0.0025628805",
         "0.0"
        ],
        [
         "2021-12-31 17:00:00",
         "-0.00089275837",
         "0.0"
        ],
        [
         "2021-12-31 17:15:00",
         "-0.0011342764",
         "0.0"
        ],
        [
         "2021-12-31 18:00:00",
         "0.00010097027",
         "-0.00010097027"
        ],
        [
         "2021-12-31 18:25:00",
         "0.0005840659",
         "-0.0005840659"
        ],
        [
         "2021-12-31 19:00:00",
         "0.0008869767",
         "-0.0008869767"
        ],
        [
         "2021-12-31 19:20:00",
         "-0.00020647049",
         "-0.0"
        ],
        [
         "2021-12-31 22:00:00",
         "-0.0023601651",
         "-0.0"
        ],
        [
         "2021-12-31 22:25:00",
         "-0.0023953319",
         "-0.0"
        ],
        [
         "2021-12-31 23:00:00",
         "-0.0024706721",
         "-0.0"
        ],
        [
         "2022-01-03 00:15:00",
         "-0.0025938153",
         "-0.0"
        ],
        [
         "2022-01-03 00:50:00",
         "-0.0018954277",
         "-0.0018954277"
        ],
        [
         "2022-01-03 01:20:00",
         "-0.0018030405",
         "-0.0"
        ],
        [
         "2022-01-03 02:40:00",
         "-0.001589179",
         "-0.0"
        ],
        [
         "2022-01-03 03:05:00",
         "-0.001378119",
         "-0.001378119"
        ],
        [
         "2022-01-03 03:40:00",
         "8.8095665e-05",
         "8.8095665e-05"
        ],
        [
         "2022-01-03 03:55:00",
         "-6.15716e-05",
         "-6.15716e-05"
        ],
        [
         "2022-01-03 05:55:00",
         "0.0006260872",
         "0.0"
        ],
        [
         "2022-01-03 06:30:00",
         "0.0009922981",
         "0.0009922981"
        ],
        [
         "2022-01-03 07:35:00",
         "-0.0007183552",
         "0.0"
        ],
        [
         "2022-01-03 08:30:00",
         "0.00201118",
         "0.0"
        ],
        [
         "2022-01-03 09:00:00",
         "-0.00022923946",
         "0.00022923946"
        ],
        [
         "2022-01-03 10:00:00",
         "-0.00044941902",
         "0.00044941902"
        ],
        [
         "2022-01-03 10:55:00",
         "0.00053721666",
         "-0.0"
        ],
        [
         "2022-01-03 11:05:00",
         "0.0017255545",
         "-0.0017255545"
        ],
        [
         "2022-01-03 12:20:00",
         "0.002252698",
         "-0.0"
        ],
        [
         "2022-01-03 13:10:00",
         "-0.0036827326",
         "-0.0"
        ],
        [
         "2022-01-03 13:50:00",
         "-0.0034939647",
         "-0.0"
        ],
        [
         "2022-01-03 14:30:00",
         "0.0015356541",
         "-0.0015356541"
        ],
        [
         "2022-01-03 15:10:00",
         "-0.002507329",
         "-0.0"
        ],
        [
         "2022-01-03 16:15:00",
         "-0.00057047606",
         "-0.0"
        ],
        [
         "2022-01-03 16:30:00",
         "0.00015497208",
         "0.0"
        ],
        [
         "2022-01-03 17:45:00",
         "0.00077962875",
         "0.0"
        ],
        [
         "2022-01-03 17:55:00",
         "0.00093925",
         "0.0"
        ]
       ],
       "shape": {
        "columns": 2,
        "rows": 23898
       }
      },
      "text/html": [
       "<div>\n",
       "<style scoped>\n",
       "    .dataframe tbody tr th:only-of-type {\n",
       "        vertical-align: middle;\n",
       "    }\n",
       "\n",
       "    .dataframe tbody tr th {\n",
       "        vertical-align: top;\n",
       "    }\n",
       "\n",
       "    .dataframe thead th {\n",
       "        text-align: right;\n",
       "    }\n",
       "</style>\n",
       "<table border=\"1\" class=\"dataframe\">\n",
       "  <thead>\n",
       "    <tr style=\"text-align: right;\">\n",
       "      <th></th>\n",
       "      <th>0</th>\n",
       "      <th>1</th>\n",
       "    </tr>\n",
       "    <tr>\n",
       "      <th>time</th>\n",
       "      <th></th>\n",
       "      <th></th>\n",
       "    </tr>\n",
       "  </thead>\n",
       "  <tbody>\n",
       "    <tr>\n",
       "      <th>2021-12-31 02:40:00</th>\n",
       "      <td>0.000093</td>\n",
       "      <td>0.000000</td>\n",
       "    </tr>\n",
       "    <tr>\n",
       "      <th>2021-12-31 02:50:00</th>\n",
       "      <td>-0.001051</td>\n",
       "      <td>-0.000000</td>\n",
       "    </tr>\n",
       "    <tr>\n",
       "      <th>2021-12-31 03:35:00</th>\n",
       "      <td>-0.000429</td>\n",
       "      <td>-0.000429</td>\n",
       "    </tr>\n",
       "    <tr>\n",
       "      <th>2021-12-31 04:35:00</th>\n",
       "      <td>-0.000919</td>\n",
       "      <td>-0.000000</td>\n",
       "    </tr>\n",
       "    <tr>\n",
       "      <th>2021-12-31 06:05:00</th>\n",
       "      <td>0.000932</td>\n",
       "      <td>-0.000000</td>\n",
       "    </tr>\n",
       "    <tr>\n",
       "      <th>...</th>\n",
       "      <td>...</td>\n",
       "      <td>...</td>\n",
       "    </tr>\n",
       "    <tr>\n",
       "      <th>2024-12-30 14:10:00</th>\n",
       "      <td>0.001043</td>\n",
       "      <td>-0.001043</td>\n",
       "    </tr>\n",
       "    <tr>\n",
       "      <th>2024-12-30 15:15:00</th>\n",
       "      <td>-0.002965</td>\n",
       "      <td>-0.002965</td>\n",
       "    </tr>\n",
       "    <tr>\n",
       "      <th>2024-12-30 15:30:00</th>\n",
       "      <td>-0.002764</td>\n",
       "      <td>-0.002764</td>\n",
       "    </tr>\n",
       "    <tr>\n",
       "      <th>2024-12-30 17:45:00</th>\n",
       "      <td>0.001522</td>\n",
       "      <td>0.001522</td>\n",
       "    </tr>\n",
       "    <tr>\n",
       "      <th>2024-12-30 19:25:00</th>\n",
       "      <td>-0.000780</td>\n",
       "      <td>0.000780</td>\n",
       "    </tr>\n",
       "  </tbody>\n",
       "</table>\n",
       "<p>23898 rows × 2 columns</p>\n",
       "</div>"
      ],
      "text/plain": [
       "                            0         1\n",
       "time                                   \n",
       "2021-12-31 02:40:00  0.000093  0.000000\n",
       "2021-12-31 02:50:00 -0.001051 -0.000000\n",
       "2021-12-31 03:35:00 -0.000429 -0.000429\n",
       "2021-12-31 04:35:00 -0.000919 -0.000000\n",
       "2021-12-31 06:05:00  0.000932 -0.000000\n",
       "...                       ...       ...\n",
       "2024-12-30 14:10:00  0.001043 -0.001043\n",
       "2024-12-30 15:15:00 -0.002965 -0.002965\n",
       "2024-12-30 15:30:00 -0.002764 -0.002764\n",
       "2024-12-30 17:45:00  0.001522  0.001522\n",
       "2024-12-30 19:25:00 -0.000780  0.000780\n",
       "\n",
       "[23898 rows x 2 columns]"
      ]
     },
     "execution_count": 189,
     "metadata": {},
     "output_type": "execute_result"
    }
   ],
   "source": [
    "pd.concat([results[\"primary_returns\"], results[\"meta_returns\"]], axis=1)"
   ]
  },
  {
   "cell_type": "code",
   "execution_count": null,
   "id": "59830193",
   "metadata": {},
   "outputs": [
    {
     "ename": "NameError",
     "evalue": "name 'model_bb_trend_time' is not defined",
     "output_type": "error",
     "traceback": [
      "\u001b[1;31m---------------------------------------------------------------------------\u001b[0m",
      "\u001b[1;31mNameError\u001b[0m                                 Traceback (most recent call last)",
      "Cell \u001b[1;32mIn[181], line 1\u001b[0m\n\u001b[1;32m----> 1\u001b[0m model \u001b[38;5;241m=\u001b[39m \u001b[43mmodel_bb_trend_time\u001b[49m\n\u001b[0;32m      2\u001b[0m \u001b[38;5;66;03m# confidence_threshold = get_optimal_threshold(model)\u001b[39;00m\n\u001b[0;32m      4\u001b[0m events \u001b[38;5;241m=\u001b[39m get_events(\n\u001b[0;32m      5\u001b[0m     close, t_events, \n\u001b[0;32m      6\u001b[0m     pt_sl\u001b[38;5;241m=\u001b[39m[\u001b[38;5;241m0\u001b[39m, \u001b[38;5;241m0\u001b[39m],\n\u001b[1;32m   (...)\u001b[0m\n\u001b[0;32m      9\u001b[0m     side_prediction\u001b[38;5;241m=\u001b[39mprimary_signals,\n\u001b[0;32m     10\u001b[0m     )\u001b[38;5;241m.\u001b[39mdropna(subset\u001b[38;5;241m=\u001b[39m[\u001b[38;5;124m\"\u001b[39m\u001b[38;5;124mt1\u001b[39m\u001b[38;5;124m\"\u001b[39m])\n",
      "\u001b[1;31mNameError\u001b[0m: name 'model_bb_trend_time' is not defined"
     ]
    }
   ],
   "source": [
    "model = model_bb_trend_time\n",
    "# confidence_threshold = get_optimal_threshold(model)\n",
    "\n",
    "events = get_events(\n",
    "    close, t_events, \n",
    "    pt_sl=[0, 0],\n",
    "    target=target, \n",
    "    vertical_barrier_times=vertical_barrier_times, \n",
    "    side_prediction=primary_signals,\n",
    "    ).dropna(subset=[\"t1\"])\n",
    "\n",
    "prob = model.fit.predict_proba(X_test)[:, 1]\n",
    "prob = pd.Series(prob, index=X_test.index)\n",
    "\n",
    "results = run_meta_labeling_analysis(\n",
    "    close,\n",
    "    events,\n",
    "    prob,\n",
    "    confidence_threshold=0.5,\n",
    "    strategy_name=bb_strategy.get_strategy_name()\n",
    "    )\n",
    "bb_model_results_time[f\"trend_scanning_{volatility_threshold}\"] = results"
   ]
  },
  {
   "cell_type": "code",
   "execution_count": null,
   "id": "9c8e6d1e",
   "metadata": {},
   "outputs": [],
   "source": [
    "# # meta_positions = (prob > 0.44).astype(\"int8\")\n",
    "# # value_counts_data(meta_positions)\n",
    "# fit = model_bb_fh_time.fit\n",
    "# prob = pd.Series(fit.predict_proba(X_test)[:, 1], index=X_test.index)\n",
    "\n",
    "# bet_sizes_raw = bet_size_probability(\n",
    "#         events,\n",
    "#         prob,\n",
    "#         num_classes=2,\n",
    "#         pred=events['side'],\n",
    "#         step_size=0,\n",
    "#         average_active=0,\n",
    "#     )\n",
    "# bet_sizes_raw.describe()"
   ]
  },
  {
   "cell_type": "markdown",
   "id": "aa55c809",
   "metadata": {},
   "source": [
    "### Tick-Bars"
   ]
  },
  {
   "cell_type": "code",
   "execution_count": null,
   "id": "0539805e",
   "metadata": {},
   "outputs": [
    {
     "name": "stdout",
     "output_type": "stream",
     "text": [
      "Bollinger_w20_std1.5 Signals:\n",
      "\n",
      "        count  proportion\n",
      "side                     \n",
      " 0    297,722    0.696537\n",
      " 1     65,015    0.152106\n",
      "-1     64,695    0.151357\n",
      "\n",
      "\u001b[32m2025-09-15 21:58:50\u001b[0m | \u001b[1mINFO    \u001b[0m | \u001b[1m14,777 CUSUM-filtered events\u001b[0m\n",
      "\u001b[32m2025-09-15 21:58:50\u001b[0m | \u001b[1mINFO    \u001b[0m | \u001b[1mBollinger_w20_std1.5 | 12,921 (9.96%) trade events selected by CUSUM filter (threshold = 0.1263%).\u001b[0m\n",
      "Time Horizon: 4:10:00\n"
     ]
    }
   ],
   "source": [
    "bb_side = bb_strategy.generate_signals(bb_tick_bars)\n",
    "bb_df = bb_tick_bars.loc[sample_start : sample_end]\n",
    "\n",
    "print(f\"{bb_strategy.get_strategy_name()} Signals:\")\n",
    "value_counts_data(bb_side.reindex(bb_df.index), verbose=True)\n",
    "\n",
    "# Volatility target for barriers\n",
    "vol_lookback = 100\n",
    "vol_target = get_daily_vol(bb_df.close, vol_lookback) * bb_vol_multiplier\n",
    "close = bb_df.close\n",
    "\n",
    "thres = vol_target.mean()\n",
    "side, t_events = get_entries(bb_strategy, bb_df, filter_threshold=thres)\n",
    "\n",
    "# Create vertical barriers\n",
    "# Ensure time horizon aligns with that of time-bars\n",
    "tm = int(\"\".join(x for x in list(bb_timeframe) if x.isnumeric()))\n",
    "bb_tick_horizon = bb_time_horizon * tm\n",
    "if bb_timeframe.startswith(\"H\"):\n",
    "    bb_tick_horizon *= 60\n",
    "elif bb_timeframe.startswith(\"D\"):\n",
    "    bb_tick_horizon *= 60 * 24\n",
    "\n",
    "h = timedelta(minutes=bb_tick_horizon)\n",
    "print(f\"Time Horizon: {h}\")\n",
    "vertical_barriers_by_time = add_vertical_barrier(t_events, close, minutes=bb_tick_horizon)\n",
    "vertical_barriers_by_num_bars = add_vertical_barrier(t_events, close, num_bars=bb_time_horizon)"
   ]
  },
  {
   "cell_type": "markdown",
   "id": "3c932964",
   "metadata": {},
   "source": [
    "#### Feature Engineering"
   ]
  },
  {
   "cell_type": "code",
   "execution_count": null,
   "id": "efc0fee8",
   "metadata": {},
   "outputs": [],
   "source": [
    "# No shifting b/c mean-reversion seems to benefit from contemporaneous information\n",
    "bb_feat = create_bollinger_features(bb_tick_bars, bb_lookback, bb_period, bb_std)\n",
    "bb_feat.info()\n",
    "\n",
    "bb_feat_tick = bb_feat.copy()\n",
    "# not_stationary = is_stationary(bb_feat_tick.dropna())"
   ]
  },
  {
   "cell_type": "markdown",
   "id": "47e79437",
   "metadata": {},
   "source": [
    "#### Fixed-Time Horizon Method"
   ]
  },
  {
   "cell_type": "code",
   "execution_count": null,
   "id": "6f4db380",
   "metadata": {},
   "outputs": [],
   "source": [
    "bb_events_fh = triple_barrier_labels(\n",
    "    close=close,\n",
    "    target=vol_target,\n",
    "    t_events=t_events,\n",
    "    pt_sl=[0,0],\n",
    "    min_ret=0,\n",
    "    vertical_barrier_times=vertical_barriers_by_num_bars,\n",
    "    side_prediction=bb_side.loc[close.index],\n",
    "    vertical_barrier_zero=True,\n",
    "    verbose=False,\n",
    ")\n",
    "bb_events_fh = get_event_weights(bb_events_fh, close)\n",
    "print(f\"Fixed-Time Horizon (h={bb_time_horizon}):\")\n",
    "value_counts_data(bb_events_fh.bin, verbose=True)\n",
    "\n",
    "bb_events_fh_tick = bb_events_fh.copy()\n",
    "\n",
    "ret = bb_events_fh.ret\n",
    "sr_bb_fh = ret.mean() / ret.std()\n",
    "av_uniqueness = bb_events_fh['tW'].mean()\n",
    "print(f\"\\nAverage Uniqueness: {av_uniqueness:.4f}\")"
   ]
  },
  {
   "cell_type": "code",
   "execution_count": null,
   "id": "19bac31c",
   "metadata": {},
   "outputs": [],
   "source": [
    "bb_events_fh = triple_barrier_labels(\n",
    "    close=close,\n",
    "    target=vol_target,\n",
    "    t_events=t_events,\n",
    "    pt_sl=[0,0],\n",
    "    min_ret=0,\n",
    "    vertical_barrier_times=vertical_barriers_by_time,\n",
    "    side_prediction=bb_side.loc[close.index],\n",
    "    vertical_barrier_zero=True,\n",
    "    verbose=False,\n",
    ")\n",
    "bb_events_fh = get_event_weights(bb_events_fh, close)\n",
    "print(f\"Fixed-Time Horizon (h={h}):\")\n",
    "value_counts_data(bb_events_fh.bin, verbose=True)\n",
    "\n",
    "bb_events_fh_tick1 = bb_events_fh.copy()\n",
    "\n",
    "ret = bb_events_fh.ret\n",
    "sr_bb_fh = ret.mean() / ret.std()\n",
    "av_uniqueness = bb_events_fh['tW'].mean()\n",
    "print(f\"\\nAverage Uniqueness: {av_uniqueness:.4f}\")"
   ]
  },
  {
   "cell_type": "markdown",
   "id": "660a52a7",
   "metadata": {},
   "source": [
    "#### Triple-Barrier Method"
   ]
  },
  {
   "cell_type": "code",
   "execution_count": null,
   "id": "a94266f2",
   "metadata": {},
   "outputs": [],
   "source": [
    "bb_events_tbl = triple_barrier_labels(\n",
    "    close=close,\n",
    "    target=vol_target,\n",
    "    t_events=t_events,\n",
    "    pt_sl=[bb_pt_barrier, bb_sl_barrier],\n",
    "    min_ret=0,\n",
    "    vertical_barrier_times=vertical_barriers_by_num_bars,\n",
    "    side_prediction=bb_side.loc[close.index],\n",
    "    vertical_barrier_zero=True,\n",
    "    verbose=False,\n",
    ")\n",
    "bb_events_tbl = get_event_weights(bb_events_tbl, close)\n",
    "bb_events_tbl_tick = bb_events_tbl.copy()\n",
    "print(f\"Triple-Barrier (pt={bb_pt_barrier}, sl={bb_sl_barrier}, h={bb_time_horizon}):\")\n",
    "value_counts_data(bb_events_tbl.bin, verbose=True)\n",
    "\n",
    "\n",
    "ret = bb_events_tbl.ret\n",
    "sr_bb_tbl = ret.mean() / ret.std()\n",
    "av_uniqueness = bb_events_tbl['tW'].mean()\n",
    "print(f\"\\nAverage Uniqueness: {av_uniqueness:.4f}\")"
   ]
  },
  {
   "cell_type": "code",
   "execution_count": null,
   "id": "4d6d109d",
   "metadata": {},
   "outputs": [],
   "source": [
    "bb_events_tbl = triple_barrier_labels(\n",
    "    close=close,\n",
    "    target=vol_target,\n",
    "    t_events=t_events,\n",
    "    pt_sl=[bb_pt_barrier, bb_sl_barrier],\n",
    "    min_ret=0,\n",
    "    vertical_barrier_times=vertical_barriers_by_time,\n",
    "    side_prediction=bb_side.loc[close.index],\n",
    "    vertical_barrier_zero=True,\n",
    "    verbose=False,\n",
    ")\n",
    "bb_events_tbl = get_event_weights(bb_events_tbl, close)\n",
    "bb_events_tbl_tick1 = bb_events_tbl.copy()\n",
    "print(f\"Triple-Barrier (pt={bb_pt_barrier}, sl={bb_sl_barrier}, h={h}):\")\n",
    "value_counts_data(bb_events_tbl.bin, verbose=True)\n",
    "\n",
    "\n",
    "ret = bb_events_tbl.ret\n",
    "sr_bb_tbl = ret.mean() / ret.std()\n",
    "av_uniqueness = bb_events_tbl['tW'].mean()\n",
    "print(f\"\\nAverage Uniqueness: {av_uniqueness:.4f}\")"
   ]
  },
  {
   "cell_type": "markdown",
   "id": "afa0eab4",
   "metadata": {},
   "source": [
    "#### Trend-Scanning Method"
   ]
  },
  {
   "cell_type": "code",
   "execution_count": null,
   "id": "a87838a8",
   "metadata": {},
   "outputs": [],
   "source": [
    "span = (5, bb_time_horizon + 1)\n",
    "volatility_threshold = 0.1\n",
    "volatility_threshold_mr = 0.85\n",
    "side = bb_side.reindex(close.index)"
   ]
  },
  {
   "cell_type": "code",
   "execution_count": null,
   "id": "374e7af8",
   "metadata": {},
   "outputs": [],
   "source": [
    "bb_events_trend = get_trend_scanning_meta_labels(close, side, t_events, span, volatility_threshold)\n",
    "bb_events_trend_tick = bb_events_trend.copy()\n",
    "ret = bb_events_trend.ret\n",
    "sr_bb_trend = ret.mean() / ret.std()\n",
    "\n",
    "\n",
    "print(f\"Bollinger_w{bb_period}_std{bb_std}:\")\n",
    "print(f\"bb_events_trend.shape: {bb_events_trend.shape}\\n\")\n",
    "\n",
    "print(f\"trend_scanning_meta_labels {volatility_threshold}: \\n{value_counts_data(bb_events_trend.bin)}\\n\")\n",
    "\n",
    "events = bb_events_trend[bb_events_trend.bin == 1]\n",
    "ret_by_window = events.groupby(['window'])[\"ret\"].mean() * 100\n",
    "ave_ret = events[\"ret\"].mean() * 100\n",
    "fig, ax = plt.subplots(2, 1, figsize=(7.5, 5), dpi=100)\n",
    "ret_by_window.plot(kind=\"bar\", label=\"returns (%)\", ax=ax[0])\n",
    "ax[0].hlines(ave_ret, xmin=0, xmax=bb_time_horizon, linestyles=\"--\", label=f\"μ = {ave_ret:.4f}%\")\n",
    "ax[0].legend()\n",
    "events[\"window\"].value_counts(normalize=True).sort_index().plot(kind=\"bar\", ax=ax[1], legend=True)\n",
    "fig.suptitle(fr\"Trend-Scanning ($\\sigma={volatility_threshold}$) — Tick-Bars\")\n",
    "plt.subplots_adjust(top=0.88);"
   ]
  },
  {
   "cell_type": "markdown",
   "id": "7ea7a19e",
   "metadata": {},
   "source": [
    "#### Random Forest"
   ]
  },
  {
   "cell_type": "code",
   "execution_count": null,
   "id": "a4b67f50",
   "metadata": {},
   "outputs": [
    {
     "name": "stdout",
     "output_type": "stream",
     "text": [
      "Strategy: Bollinger_w20_std1.5\n"
     ]
    }
   ],
   "source": [
    "dashes = \"-\" * 60\n",
    "volatility_threshold = 0.1\n",
    "volatility_threshold_mr = 0.85\n",
    "\n",
    "plot_titles = [\n",
    "    f\"Fixed-Time Horizon (h = {bb_time_horizon})\", \n",
    "    f\"Triple-Barrier (pt = {bb_pt_barrier}, sl = {bb_sl_barrier}, h = {bb_time_horizon})\", \n",
    "    fr\"Trend-Scanning ($\\sigma = {volatility_threshold}$)\",\n",
    "    fr\"Trend-Scanning ($\\sigma = {volatility_threshold_mr}$)\",\n",
    "    ]\n",
    "bb_titles = [\n",
    "    \"Fixed-Time Horizon\", \n",
    "    \"Triple-Barrier\",\n",
    "    f\"Trend-Scanning (σ = {volatility_threshold})\",\n",
    "    f\"Trend-Scanning (σ = {volatility_threshold_mr})\"\n",
    "    ]\n",
    "\n",
    "name = bb_strategy.get_strategy_name().replace(\"Bollinger\", \"bb\")\n",
    "filenames = [\n",
    "    f\"{name}_fixed_horizon\",\n",
    "    f\"{name}_triple_barrier\",\n",
    "    f\"{name}_trend_scanning_{volatility_threshold}\",\n",
    "    f\"{name}_trend_scanning_{volatility_threshold_mr}\"\n",
    "    ]\n",
    "print(f\"Strategy: {bb_strategy.get_strategy_name()}\")\n",
    "\n",
    "random_state = 52\n",
    "min_w_leaf = 0.05\n",
    "\n",
    "rf = RandomForestClassifier(\n",
    "    criterion='entropy',\n",
    "    n_estimators=1000,\n",
    "    class_weight='balanced_subsample',\n",
    "    random_state=random_state,\n",
    "    min_weight_fraction_leaf=min_w_leaf,\n",
    "    n_jobs=-1,  # Use all available cores\n",
    "    )"
   ]
  },
  {
   "cell_type": "markdown",
   "id": "27e0c1f5",
   "metadata": {},
   "source": [
    "##### Unweighted"
   ]
  },
  {
   "cell_type": "code",
   "execution_count": null,
   "id": "641d2a61",
   "metadata": {},
   "outputs": [
    {
     "ename": "NameError",
     "evalue": "name 'bb_feat_tick' is not defined",
     "output_type": "error",
     "traceback": [
      "\u001b[1;31m---------------------------------------------------------------------------\u001b[0m",
      "\u001b[1;31mNameError\u001b[0m                                 Traceback (most recent call last)",
      "Cell \u001b[1;32mIn[15], line 1\u001b[0m\n\u001b[1;32m----> 1\u001b[0m model_bb_fh_tick \u001b[38;5;241m=\u001b[39m train_meta_model(model\u001b[38;5;241m=\u001b[39mrf, features\u001b[38;5;241m=\u001b[39m\u001b[43mbb_feat_tick\u001b[49m, labels\u001b[38;5;241m=\u001b[39mbb_events_fh_tick)\n\u001b[0;32m      2\u001b[0m \u001b[38;5;28mprint\u001b[39m(\u001b[38;5;124mf\u001b[39m\u001b[38;5;124m\"\u001b[39m\u001b[38;5;132;01m{\u001b[39;00mdashes\u001b[38;5;132;01m}\u001b[39;00m\u001b[38;5;130;01m\\n\u001b[39;00m\u001b[38;5;124mFIXED-TIME HORIZON EVALUATION REPORT\u001b[39m\u001b[38;5;130;01m\\n\u001b[39;00m\u001b[38;5;132;01m{\u001b[39;00mdashes\u001b[38;5;132;01m}\u001b[39;00m\u001b[38;5;124m\"\u001b[39m)\n\u001b[0;32m      3\u001b[0m summary \u001b[38;5;241m=\u001b[39m meta_labelling_reports(model_bb_fh_tick, plot\u001b[38;5;241m=\u001b[39m\u001b[38;5;28;01mTrue\u001b[39;00m)\n",
      "\u001b[1;31mNameError\u001b[0m: name 'bb_feat_tick' is not defined"
     ]
    }
   ],
   "source": [
    "model_bb_fh_tick = train_meta_model(model=rf, features=bb_feat_tick, labels=bb_events_fh_tick)\n",
    "print(f\"{dashes}\\nFIXED-TIME HORIZON EVALUATION REPORT\\n{dashes}\")\n",
    "summary = meta_labelling_reports(model_bb_fh_tick, plot=True)"
   ]
  },
  {
   "cell_type": "code",
   "execution_count": null,
   "id": "c262291d",
   "metadata": {},
   "outputs": [],
   "source": [
    "model_bb_tbl_tick = train_meta_model(model=rf, features=bb_feat_tick, labels=bb_events_tbl_tick)\n",
    "print(f\"{dashes}\\nTRIPLE-BARRIER EVALUATION REPORT\\n{dashes}\")\n",
    "summary = meta_labelling_reports(model_bb_tbl_tick, plot=True)"
   ]
  },
  {
   "cell_type": "code",
   "execution_count": null,
   "id": "222fe610",
   "metadata": {},
   "outputs": [],
   "source": [
    "model_bb_trend_tick = train_meta_model(model=rf, features=bb_feat_tick, labels=bb_events_trend_tick)\n",
    "print(f\"{dashes}\\nTREND-SCANNING (σ = {volatility_threshold}) EVALUATION REPORT\\n{dashes}\")\n",
    "summary = meta_labelling_reports(model_bb_trend_tick, plot=True)"
   ]
  },
  {
   "cell_type": "code",
   "execution_count": null,
   "id": "404e9183",
   "metadata": {},
   "outputs": [],
   "source": [
    "model_bb_trend_mr_tick = train_meta_model(model=rf, features=bb_feat_tick, labels=bb_events_trend_mr_tick)\n",
    "print(f\"{dashes}\\nTREND-SCANNING (σ = {volatility_threshold_mr}) EVALUATION REPORT\\n{dashes}\")\n",
    "summary = meta_labelling_reports(model_bb_trend_mr_tick, plot=True)"
   ]
  },
  {
   "cell_type": "markdown",
   "id": "a14bd904",
   "metadata": {},
   "source": [
    "##### Return-Weighted"
   ]
  },
  {
   "cell_type": "code",
   "execution_count": null,
   "id": "d5fc8c3e",
   "metadata": {},
   "outputs": [],
   "source": [
    "model_bb_fh_tick_w = train_meta_model(model=rf, features=bb_feat_tick, labels=bb_events_fh_tick, weighting=\"return\")\n",
    "print(f\"{dashes}\\nFIXED-TIME HORIZON EVALUATION REPORT\\n{dashes}\")\n",
    "summary = meta_labelling_reports(model_bb_fh_tick_w, plot=True)"
   ]
  },
  {
   "cell_type": "code",
   "execution_count": null,
   "id": "4fdf9cf9",
   "metadata": {},
   "outputs": [],
   "source": [
    "model_bb_tbl_tick_w = train_meta_model(model=rf, features=bb_feat_tick, labels=bb_events_tbl_tick, weighting=\"return\")\n",
    "print(f\"{dashes}\\nTRIPLE-BARRIER EVALUATION REPORT\\n{dashes}\")\n",
    "summary = meta_labelling_reports(model_bb_tbl_tick_w, plot=True)"
   ]
  },
  {
   "cell_type": "code",
   "execution_count": null,
   "id": "7434304b",
   "metadata": {},
   "outputs": [],
   "source": [
    "model_bb_trend_tick_w = train_meta_model(model=rf, features=bb_feat_tick, labels=bb_events_trend_tick, weighting=\"return\")\n",
    "print(f\"{dashes}\\nTREND-SCANNING (σ = {volatility_threshold}) EVALUATION REPORT\\n{dashes}\")\n",
    "summary = meta_labelling_reports(model_bb_trend_tick_w, plot=True)"
   ]
  },
  {
   "cell_type": "code",
   "execution_count": null,
   "id": "f9dbd958",
   "metadata": {},
   "outputs": [],
   "source": [
    "model_bb_trend_mr_tick_w = train_meta_model(model=rf, features=bb_feat_tick, labels=bb_events_trend_mr_tick, weighting=\"return\")\n",
    "print(f\"{dashes}\\nTREND-SCANNING (σ = {volatility_threshold_mr}) EVALUATION REPORT\\n{dashes}\")\n",
    "summary = meta_labelling_reports(model_bb_trend_mr_tick_w, plot=True)"
   ]
  },
  {
   "cell_type": "markdown",
   "id": "7263deff",
   "metadata": {},
   "source": [
    "##### Reports"
   ]
  },
  {
   "cell_type": "code",
   "execution_count": null,
   "id": "4730242b",
   "metadata": {},
   "outputs": [],
   "source": [
    "dirpath = Path(\"reports\", \"tick_bars\", f\"tick-{bb_tick_bars.tick_volume.iloc[0]}\")\n",
    "dirpath.mkdir(parents=True, exist_ok=True)\n",
    "\n",
    "plot_titles = [\n",
    "    f\"Fixed-Time Horizon (h = {bb_time_horizon})\", \n",
    "    f\"Triple-Barrier (pt = {bb_pt_barrier}, sl = {bb_sl_barrier}, h = {bb_time_horizon})\", \n",
    "    fr\"Trend-Scanning ($\\sigma = {volatility_threshold}$)\",\n",
    "    fr\"Trend-Scanning ($\\sigma = {volatility_threshold_mr}$)\",\n",
    "    ]\n",
    "bb_titles = [\n",
    "    \"Fixed-Time Horizon\", \n",
    "    \"Triple-Barrier\",\n",
    "    f\"Trend-Scanning (σ = {volatility_threshold})\",\n",
    "    f\"Trend-Scanning (σ = {volatility_threshold_mr})\"\n",
    "    ]\n",
    "\n",
    "name = bb_strategy.get_strategy_name().replace(\"Bollinger\", \"bb\")\n",
    "filenames = [\n",
    "    f\"{name}_fixed_horizon\",\n",
    "    f\"{name}_triple_barrier\",\n",
    "    f\"{name}_trend_scanning_{volatility_threshold}\",\n",
    "    f\"{name}_trend_scanning_{volatility_threshold_mr}\"\n",
    "    ]\n",
    "print(f\"Strategy: {bb_strategy.get_strategy_name()}\")"
   ]
  },
  {
   "cell_type": "code",
   "execution_count": null,
   "id": "98e91566",
   "metadata": {},
   "outputs": [],
   "source": [
    "bb_models = [model_bb_fh_tick, model_bb_tbl_tick, model_bb_trend_tick, model_bb_trend_mr_tick]\n",
    "fp = Path(dirpath, \"unweighted\") \n",
    "fp.mkdir(parents=True, exist_ok=True)\n",
    "\n",
    "fp_plots = Path(dirpath, \"plots\", \"unweighted\")\n",
    "fp_plots.mkdir(parents=True, exist_ok=True)\n",
    "\n",
    "bb_roc = compare_roc_curves(\n",
    "    bb_models[:], plot_titles[:], columns=2, height=7.5, \n",
    "    fig_title=f\"Bollinger Strategy (window= {bb_period}, $\\\\sigma = {bb_std}$)\"\n",
    "    )\n",
    "bb_roc.savefig(fp_plots / \"bb_roc_comparison.png\", bbox_inches=\"tight\", dpi=100)\n",
    "\n",
    "\n",
    "meta_labelling_classification_reports(model_data=bb_models, titles=bb_titles, output_filenames=filenames, path=fp)"
   ]
  },
  {
   "cell_type": "code",
   "execution_count": null,
   "id": "ee5ea988",
   "metadata": {},
   "outputs": [],
   "source": [
    "fp_w = Path(dirpath, \"return_weighted\") \n",
    "bb_models_w = [model_bb_fh_tick_w, model_bb_tbl_tick_w, model_bb_trend_tick_w, model_bb_trend_mr_tick_w]\n",
    "bb_titles_w = [f\"Return-Weighted {w}\" for w in bb_titles]\n",
    "filenames_w = [f\"{w}_w\" for w in filenames]\n",
    "\n",
    "fp_plots = Path(dirpath, \"plots\", \"return_weighted\")\n",
    "fp_plots.mkdir(parents=True, exist_ok=True)\n",
    "\n",
    "bb_roc_w = compare_roc_curves(bb_models_w[:], plot_titles[:], columns=2, height=7.5, fig_title=f\"Bollinger Strategy (window= {bb_period}, $\\\\sigma = {bb_std}$)\")\n",
    "bb_roc_w.savefig(fp_plots / \"bb_roc_comparison.png\", bbox_inches=\"tight\", dpi=100)\n",
    "\n",
    "meta_labelling_classification_reports(model_data=bb_models_w, titles=bb_titles_w, output_filenames=filenames_w, path=fp_w)"
   ]
  },
  {
   "cell_type": "markdown",
   "id": "850db625",
   "metadata": {},
   "source": [
    "##### Out-of-Sample"
   ]
  },
  {
   "cell_type": "code",
   "execution_count": null,
   "id": "d9fe288e",
   "metadata": {},
   "outputs": [],
   "source": [
    "bb_models_w = [model_bb_fh_tick_w, model_bb_tbl_tick_w, model_bb_trend_tick_w, model_bb_trend_mr_tick_w]\n",
    "model_preds_tick_w = {}\n",
    "tick_metrics_oos_w = {}\n",
    "X = bb_feat_tick.loc[sample_end:]\n",
    "df_oos = bb_tick_bars.loc[sample_end:]\n",
    "\n",
    "for i, model in enumerate(bb_models_w):\n",
    "    df, metrics = backtest_model(model.fit, X, df_oos.close)\n",
    "    model_preds_tick_w[bb_titles[i]] = df\n",
    "    tick_metrics_oos_w[filenames[i]] = metrics\n",
    "    print(f\"{bb_titles[i]} done.\")\n",
    "\n",
    "tick_metrics_oos_df_w = pd.DataFrame(tick_metrics_oos_w)\n",
    "tick_metrics_oos_df_w"
   ]
  },
  {
   "cell_type": "markdown",
   "id": "96e17998",
   "metadata": {},
   "source": [
    "#### Time- vs. Tick-Bars"
   ]
  },
  {
   "cell_type": "code",
   "execution_count": null,
   "id": "01f0c0ab",
   "metadata": {},
   "outputs": [],
   "source": [
    "titles = [\"Time-Bars\", \"Tick-Bars\"]\n",
    "title = \"Fixed-Time Horizon Method\"\n",
    "roc_pr = compare_roc_pr_curves([model_bb_fh_time, model_bb_fh_tick], titles, fig_title=title, columns=2, height=5)"
   ]
  },
  {
   "cell_type": "code",
   "execution_count": null,
   "id": "3f3824f4",
   "metadata": {},
   "outputs": [],
   "source": [
    "titles = [\"Time-Bars\", \"Tick-Bars\"]\n",
    "title = \"Fixed-Time Horizon Method\"\n",
    "roc_pr = compare_roc_pr_curves([model_bb_fh_time, model_bb_fh_tick], titles, fig_title=title, columns=2, height=5)"
   ]
  },
  {
   "cell_type": "code",
   "execution_count": null,
   "id": "7f3a219b",
   "metadata": {},
   "outputs": [],
   "source": [
    "pr = compare_pr_curves([model_bb_fh_time, model_bb_fh_tick], titles, fig_title=title, columns=2, height=5)"
   ]
  },
  {
   "cell_type": "code",
   "execution_count": null,
   "id": "dfd1d7d7",
   "metadata": {},
   "outputs": [],
   "source": [
    "model_names = [\"Fixed-Time Horizon\", \"Triple-Barrier\"]\n",
    "titles = [\n",
    "    f\"Fixed-Time Horizon\", \n",
    "    fr\"Triple-Barrier ($\\mathit{{pt}}$={bb_pt_barrier}, \"\n",
    "    fr\"$\\mathit{{sl}}$={bb_sl_barrier})\",\n",
    "    ]\n",
    "title = fr\"Time-Bars ($\\mathit{{h}}$ = {timedelta(minutes=bb_tick_horizon)})\"\n",
    "model_data_list = [model_bb_fh_time, model_bb_tbl_time] #, model_bb_tbl_tick, model_bb_tbl_tick_w]\n",
    "metric = \"f1\"\n",
    "n = 3\n",
    "\n",
    "fig, summary_df = compare_roc_pr_curves(\n",
    "    model_data=model_data_list[:n],\n",
    "    model_names=model_names[:n],\n",
    "    titles=titles[:n],\n",
    "    fig_title=title,\n",
    "    columns=2,\n",
    "    metric=metric,\n",
    "    height=5,\n",
    "    show_baseline=True\n",
    ")\n",
    "\n",
    "summary_df\n",
    "# summary_df.to_html(\"roc_pr_dual_metrics.html\", float_format=\"%.3f\")"
   ]
  },
  {
   "cell_type": "code",
   "execution_count": null,
   "id": "3092b5bd",
   "metadata": {},
   "outputs": [],
   "source": [
    "model_names = [\"Fixed-Time Horizon\", \"Triple-Barrier\"]\n",
    "titles = [\n",
    "    f\"Fixed-Time Horizon\", \n",
    "    fr\"Triple-Barrier ($\\mathit{{pt}}$={bb_pt_barrier}, \"\n",
    "    fr\"$\\mathit{{sl}}$={bb_sl_barrier})\",\n",
    "    ]\n",
    "title = fr\"Tick-Bars ($\\mathit{{h}}$ = {timedelta(minutes=bb_tick_horizon)})\"\n",
    "model_data_list = [model_bb_fh_tick, model_bb_tbl_tick] #, model_bb_tbl_tick, model_bb_tbl_tick_w]\n",
    "n = 3\n",
    "\n",
    "fig, summary_df = compare_roc_pr_curves(\n",
    "    model_data=model_data_list[:n],\n",
    "    model_names=model_names[:n],\n",
    "    titles=titles[:n],\n",
    "    fig_title=title,\n",
    "    columns=2,\n",
    "    metric=metric,\n",
    "    height=5,\n",
    "    show_baseline=True\n",
    ")\n",
    "\n",
    "summary_df.round(2)\n",
    "# summary_df.to_html(\"roc_pr_dual_metrics.html\", float_format=\"%.3f\")"
   ]
  },
  {
   "cell_type": "markdown",
   "id": "36ec20ef",
   "metadata": {},
   "source": [
    "## 3. Moving Average Crossover Strategy"
   ]
  },
  {
   "cell_type": "code",
   "execution_count": null,
   "id": "7f163b16",
   "metadata": {},
   "outputs": [],
   "source": [
    "from afml.strategies.ma_crossover_feature_engine import ForexFeatureEngine\n",
    "\n",
    "ma_timeframe = \"M30\"\n",
    "tick_bar_size = tick_bar_dict.get(ma_timeframe)\n",
    "ma_time_bars, ma_tick_bars = get_data(symbol, ma_timeframe)\n",
    "ma_bar_size = f\"tick-{ma_tick_bars.tick_volume.iloc[0]}\"\n",
    "\n",
    "fast_window, slow_window = 20, 50\n",
    "ma_strategy = MACrossoverStrategy(fast_window, slow_window)\n",
    "ma_pt_barrier, ma_sl_barrier, ma_time_horizon = (4, 1.5, 100)\n",
    "ma_vol_multiplier = 0.3\n",
    "time_decay = 0.3\n",
    "linear_decay = False"
   ]
  },
  {
   "cell_type": "markdown",
   "id": "b0e673d8",
   "metadata": {},
   "source": [
    "### Time-Bars"
   ]
  },
  {
   "cell_type": "code",
   "execution_count": null,
   "id": "34c09a6c",
   "metadata": {},
   "outputs": [],
   "source": [
    "ma_df = ma_time_bars.loc[sample_start : sample_end]\n",
    "close = ma_df.close\n",
    "vol_target = get_daily_vol(close, lookback=fast_window).dropna() # Volatility target for barriers\n",
    "thres = vol_target.mean() * ma_vol_multiplier\n",
    "t_events = cusum_filter(close, thres)\n",
    "print(f\"CUSUM filter threshold: {thres:.4%}, t_events: {t_events.size:,}\")\n",
    "\n",
    "ma_side = ma_strategy.generate_signals(ma_df)\n",
    "vertical_barriers = add_vertical_barrier(t_events, close, num_bars=ma_time_horizon)"
   ]
  },
  {
   "cell_type": "markdown",
   "id": "de5f7545",
   "metadata": {},
   "source": [
    "#### Feature Engineering"
   ]
  },
  {
   "cell_type": "code",
   "execution_count": null,
   "id": "9804e688",
   "metadata": {},
   "outputs": [],
   "source": [
    "ma_feat_engine = ForexFeatureEngine(pair_name=symbol)\n",
    "ma_feat = ma_feat_engine.calculate_all_features(ma_df)\n",
    "ma_feat_time = ma_feat.copy()\n",
    "ma_feat.info()"
   ]
  },
  {
   "cell_type": "markdown",
   "id": "a64829d0",
   "metadata": {},
   "source": [
    "#### Fixed-Time Horizon Method"
   ]
  },
  {
   "cell_type": "code",
   "execution_count": null,
   "id": "d2f03181",
   "metadata": {},
   "outputs": [],
   "source": [
    "ma_events_fh = triple_barrier_labels(\n",
    "    close=close,\n",
    "    target=vol_target,\n",
    "    t_events=t_events,\n",
    "    pt_sl=[0,0],\n",
    "    min_ret=0,\n",
    "    vertical_barrier_times=vertical_barriers,\n",
    "    side_prediction=ma_side,\n",
    "    vertical_barrier_zero=True,\n",
    "    verbose=False,\n",
    ")\n",
    "ma_events_fh = get_event_weights(ma_events_fh, close)\n",
    "ma_events_fh_time = ma_events_fh.copy()\n",
    "ma_events_fh.info()\n",
    "ret = ma_events_fh.ret\n",
    "sr_ma_fh = ret.mean() / ret.std()\n",
    "print(f\"\\nSharpe Ratio: {sr_ma_fh:.4f}\")"
   ]
  },
  {
   "cell_type": "markdown",
   "id": "b863eb59",
   "metadata": {},
   "source": [
    "#### Triple-Barrier Method"
   ]
  },
  {
   "cell_type": "code",
   "execution_count": null,
   "id": "1b77596f",
   "metadata": {},
   "outputs": [],
   "source": [
    "ma_events_tbl = triple_barrier_labels(\n",
    "    close=close,\n",
    "    target=vol_target,\n",
    "    t_events=t_events,\n",
    "    pt_sl=[ma_pt_barrier, ma_sl_barrier],\n",
    "    min_ret=0,\n",
    "    vertical_barrier_times=vertical_barriers,\n",
    "    side_prediction=ma_side,\n",
    "    vertical_barrier_zero=True,\n",
    "    verbose=False,\n",
    ")\n",
    "ma_events_tbl = get_event_weights(ma_events_tbl, close)\n",
    "ma_events_tbl_time = ma_events_tbl.copy()\n",
    "ma_events_tbl.info()\n",
    "ret = ma_events_tbl.ret\n",
    "sr_ma_tbl = ret.mean() / ret.std()\n",
    "print(f\"\\nSharpe Ratio: {sr_ma_tbl:.4f}\")"
   ]
  },
  {
   "cell_type": "code",
   "execution_count": null,
   "id": "d65ee408",
   "metadata": {},
   "outputs": [],
   "source": [
    "print(f\"MACrossover_fast{fast_window}_slow{slow_window}: \\n\")\n",
    "\n",
    "ma_metrics_df = pd.Series({\n",
    "    \"fixed_horizon\": sr_ma_fh,\n",
    "    \"triple_barrier\": sr_ma_tbl,\n",
    "    })\n",
    "ma_metrics_df"
   ]
  },
  {
   "cell_type": "markdown",
   "id": "68aff28e",
   "metadata": {},
   "source": [
    "#### Trend-Scanning Method"
   ]
  },
  {
   "cell_type": "code",
   "execution_count": null,
   "id": "18cb8d17",
   "metadata": {},
   "outputs": [],
   "source": [
    "span = (5, ma_time_horizon)\n",
    "volatility_threshold = 0.1\n",
    "volatility_threshold_mr = 0.85\n",
    "\n",
    "close = ma_df.close\n",
    "vol_target = get_daily_vol(close, lookback=100).dropna() # Volatility target for barriers\n",
    "thres = vol_target.mean() * ma_vol_multiplier\n",
    "t_events = cusum_filter(close, thres)\n",
    "print(f\"CUSUM filter threshold: {thres:.4%}, t_events: {t_events.size:,}\")\n",
    "\n",
    "side = ma_strategy.generate_signals(ma_df)\n",
    "\n",
    "ma_events_trend = get_trend_scanning_meta_labels(close, side, t_events, span, volatility_threshold)\n",
    "ma_events_trend_time = ma_events_trend.copy()\n",
    "ret = ma_events_trend.ret\n",
    "sr_ma_trend = ret.mean() / ret.std()\n",
    "\n",
    "ma_events_trend_mr = get_trend_scanning_meta_labels(close, side, t_events, span, volatility_threshold_mr)\n",
    "ma_events_trend_mr_time = ma_events_trend_mr.copy()\n",
    "ret = ma_events_trend.ret_mr\n",
    "sr_ma_trend_mr = ret.mean() / ret.std()\n",
    "\n",
    "# ma_events_trend_metrics_mr = calculate_label_metrics(ma_df.index, side, ma_events_trend_mr)\n",
    "\n",
    "ma_metrics_df = pd.Series({\n",
    "    \"fixed_horizon\": sr_ma_fh,\n",
    "    \"triple_barrier\": sr_ma_tbl,\n",
    "    \"trend_scanning\": sr_ma_trend,\n",
    "    \"trend_scanning_mr\": sr_ma_trend_mr,\n",
    "    })\n",
    "\n",
    "print(f\"MACrossover_fast{fast_window}_slow{slow_window}:\")\n",
    "print(f\"ma_events_trend.shape: {ma_events_trend.shape}\\n\")\n",
    "ma_metrics_df"
   ]
  },
  {
   "cell_type": "markdown",
   "id": "1c225bd1",
   "metadata": {},
   "source": [
    "### Tick-Bars"
   ]
  },
  {
   "cell_type": "code",
   "execution_count": null,
   "id": "6d4755c0",
   "metadata": {},
   "outputs": [],
   "source": [
    "ma_df = ma_tick_bars.loc[sample_start : sample_end]\n",
    "close = ma_df.close\n",
    "vol_target = get_daily_vol(close, lookback=100) # Volatility target for barriers\n",
    "thres = vol_target.mean() * ma_vol_multiplier\n",
    "t_events = cusum_filter(close, thres)\n",
    "print(f\"CUSUM filter threshold: {thres:.4%}, t_events: {t_events.size:,}\")\n",
    "ma_side = ma_strategy.generate_signals(ma_df)\n",
    "\n",
    "# Create vertical barriers\n",
    "# Ensure time horizon aligns with that of time-bars\n",
    "tm = int(\"\".join(x for x in list(ma_timeframe) if x.isnumeric()))\n",
    "ma_tick_horizon = ma_time_horizon * tm\n",
    "if ma_timeframe.startswith(\"H\"):\n",
    "    ma_tick_horizon *= 60\n",
    "elif ma_timeframe.startswith(\"D\"):\n",
    "    ma_tick_horizon *= 60 * 24\n",
    "\n",
    "print(f\"Time Horizon: {pd.Timedelta(minutes=tm)}\")\n",
    "vertical_barriers = add_vertical_barrier(t_events, close, minutes=ma_tick_horizon)"
   ]
  },
  {
   "cell_type": "markdown",
   "id": "38ea72e5",
   "metadata": {},
   "source": [
    "#### Feature Engineering"
   ]
  },
  {
   "cell_type": "code",
   "execution_count": null,
   "id": "8b645323",
   "metadata": {},
   "outputs": [],
   "source": [
    "ma_feat_engine = ForexFeatureEngine(pair_name=symbol)\n",
    "ma_feat = ma_feat_engine.calculate_all_features(ma_df)\n",
    "ma_feat_tick = ma_feat.copy()\n",
    "ma_feat.info()"
   ]
  },
  {
   "cell_type": "markdown",
   "id": "81770463",
   "metadata": {},
   "source": [
    "#### Fixed-Time Horizon Method"
   ]
  },
  {
   "cell_type": "code",
   "execution_count": null,
   "id": "89992e82",
   "metadata": {},
   "outputs": [],
   "source": [
    "ma_events_fh = triple_barrier_labels(\n",
    "    close=close,\n",
    "    target=vol_target,\n",
    "    t_events=t_events,\n",
    "    pt_sl=[0,0],\n",
    "    min_ret=0,\n",
    "    vertical_barrier_times=vertical_barriers,\n",
    "    side_prediction=ma_side,\n",
    "    vertical_barrier_zero=True,\n",
    "    verbose=False,\n",
    ")\n",
    "ma_events_fh = get_event_weights(ma_events_fh, close)\n",
    "ma_events_fh_tick = ma_events_fh.copy()\n",
    "ma_events_fh.info()\n",
    "ret = ma_events_fh.ret\n",
    "sr_ma_fh = ret.mean() / ret.std()\n",
    "print(f\"\\nSharpe Ratio: {sr_ma_fh:.4f}\")"
   ]
  },
  {
   "cell_type": "markdown",
   "id": "b2b76b89",
   "metadata": {},
   "source": [
    "#### Triple-Barrier Method"
   ]
  },
  {
   "cell_type": "code",
   "execution_count": null,
   "id": "7cfedf52",
   "metadata": {},
   "outputs": [],
   "source": [
    "ma_events_tbl = triple_barrier_labels(\n",
    "    close=close,\n",
    "    target=vol_target,\n",
    "    t_events=t_events,\n",
    "    pt_sl=[ma_pt_barrier, ma_sl_barrier],\n",
    "    min_ret=0,\n",
    "    vertical_barrier_times=vertical_barriers,\n",
    "    side_prediction=ma_side,\n",
    "    vertical_barrier_zero=True,\n",
    "    verbose=False,\n",
    ")\n",
    "ma_events_tbl = get_event_weights(ma_events_tbl, close)\n",
    "ma_events_tbl_tick = ma_events_tbl.copy()\n",
    "ma_events_tbl.info()\n",
    "ret = ma_events_tbl.ret\n",
    "sr_ma_tbl = ret.mean() / ret.std()\n",
    "print(f\"\\nSharpe Ratio: {sr_ma_tbl:.4f}\")"
   ]
  },
  {
   "cell_type": "code",
   "execution_count": null,
   "id": "776036bd",
   "metadata": {},
   "outputs": [],
   "source": [
    "print(f\"MACrossover_fast{fast_window}_slow{slow_window}: \\n\")\n",
    "\n",
    "ma_metrics_df = pd.Series({\n",
    "    \"fixed_horizon\": sr_ma_fh,\n",
    "    \"triple_barrier\": sr_ma_tbl,\n",
    "    })\n",
    "ma_metrics_df"
   ]
  },
  {
   "cell_type": "markdown",
   "id": "1b067a0b",
   "metadata": {},
   "source": [
    "#### Trend-Scanning Method"
   ]
  },
  {
   "cell_type": "code",
   "execution_count": null,
   "id": "1a6f03f3",
   "metadata": {},
   "outputs": [],
   "source": [
    "span = (5, ma_time_horizon)\n",
    "volatility_threshold = 0.1\n",
    "volatility_threshold_mr = 0.85\n",
    "\n",
    "vol_target = get_daily_vol(close, lookback=100).dropna() # Volatility target for barriers\n",
    "thres = vol_target.mean() * ma_vol_multiplier\n",
    "t_events = cusum_filter(close, thres)\n",
    "print(f\"CUSUM filter threshold: {thres:.4%}, t_events: {t_events.size:,}\")\n",
    "\n",
    "side = ma_strategy.generate_signals(ma_df)\n",
    "\n",
    "ma_events_trend = get_trend_scanning_meta_labels(close, side, t_events, span, volatility_threshold)\n",
    "ma_events_trend_tick = ma_events_trend.copy()\n",
    "ret = ma_events_trend.ret\n",
    "sr_ma_trend = ret.mean() / ret.std()\n",
    "\n",
    "ma_events_trend_mr = get_trend_scanning_meta_labels(close, side, t_events, span, volatility_threshold_mr)\n",
    "ma_events_trend_mr_tick = ma_events_trend_mr.copy()\n",
    "ret = ma_events_trend.ret_mr\n",
    "sr_ma_trend_mr = ret.mean() / ret.std()\n",
    "\n",
    "# ma_events_trend_metrics_mr = calculate_label_metrics(ma_df.index, side, ma_events_trend_mr)\n",
    "\n",
    "ma_metrics_df = pd.Series({\n",
    "    \"fixed_horizon\": sr_ma_fh,\n",
    "    \"triple_barrier\": sr_ma_tbl,\n",
    "    \"trend_scanning\": sr_ma_trend,\n",
    "    \"trend_scanning_mr\": sr_ma_trend_mr,\n",
    "    })\n",
    "\n",
    "print(f\"MACrossover_fast{fast_window}_slow{slow_window}:\")\n",
    "print(f\"ma_events_trend.shape: {ma_events_trend.shape}\\n\")\n",
    "ma_metrics_df"
   ]
  },
  {
   "cell_type": "markdown",
   "id": "303e1899",
   "metadata": {},
   "source": [
    "### Random Forest"
   ]
  },
  {
   "cell_type": "code",
   "execution_count": null,
   "id": "53715e85",
   "metadata": {},
   "outputs": [],
   "source": [
    "random_state = 40\n",
    "min_w_leaf = 0.05\n",
    "\n",
    "rf = RandomForestClassifier(\n",
    "    criterion='entropy',\n",
    "    n_estimators=1000,\n",
    "    class_weight='balanced_subsample',\n",
    "    random_state=random_state,\n",
    "    min_weight_fraction_leaf=min_w_leaf,\n",
    "    n_jobs=-1,  # Use all available cores\n",
    "    )\n",
    "time_decay = 0.3"
   ]
  },
  {
   "cell_type": "markdown",
   "id": "5ee41502",
   "metadata": {},
   "source": [
    "##### Time-Bars"
   ]
  },
  {
   "cell_type": "code",
   "execution_count": null,
   "id": "296835e3",
   "metadata": {},
   "outputs": [],
   "source": [
    "model_ma_fh_time = train_meta_model(model=rf, features=ma_feat_time, labels=ma_events_fh_time)\n",
    "print(f\"{dashes}\\nFIXED-TIME HORIZON EVALUATION REPORT\\n{dashes}\")\n",
    "summary = meta_labelling_reports(\n",
    "    model_ma_fh_time.y_test, model_ma_fh_time.w_test, model_ma_fh_time.pred, model_ma_fh_time.prob, plot=True\n",
    "    )"
   ]
  },
  {
   "cell_type": "code",
   "execution_count": null,
   "id": "808ea536",
   "metadata": {},
   "outputs": [
    {
     "ename": "NameError",
     "evalue": "name 'ma_feat_time' is not defined",
     "output_type": "error",
     "traceback": [
      "\u001b[1;31m---------------------------------------------------------------------------\u001b[0m",
      "\u001b[1;31mNameError\u001b[0m                                 Traceback (most recent call last)",
      "Cell \u001b[1;32mIn[22], line 1\u001b[0m\n\u001b[1;32m----> 1\u001b[0m model_ma_tbl_time \u001b[38;5;241m=\u001b[39m train_meta_model(model\u001b[38;5;241m=\u001b[39mrf, features\u001b[38;5;241m=\u001b[39m\u001b[43mma_feat_time\u001b[49m, labels\u001b[38;5;241m=\u001b[39mma_events_tbl_time)\n\u001b[0;32m      2\u001b[0m \u001b[38;5;28mprint\u001b[39m(\u001b[38;5;124mf\u001b[39m\u001b[38;5;124m\"\u001b[39m\u001b[38;5;132;01m{\u001b[39;00mdashes\u001b[38;5;132;01m}\u001b[39;00m\u001b[38;5;130;01m\\n\u001b[39;00m\u001b[38;5;124mTRIPLE-BARRIER EVALUATION REPORT\u001b[39m\u001b[38;5;130;01m\\n\u001b[39;00m\u001b[38;5;132;01m{\u001b[39;00mdashes\u001b[38;5;132;01m}\u001b[39;00m\u001b[38;5;124m\"\u001b[39m)\n\u001b[0;32m      3\u001b[0m summary \u001b[38;5;241m=\u001b[39m meta_labelling_reports(\n\u001b[0;32m      4\u001b[0m     model_ma_tbl_time\u001b[38;5;241m.\u001b[39my_test, model_ma_tbl_time\u001b[38;5;241m.\u001b[39mw_test, model_ma_tbl_time\u001b[38;5;241m.\u001b[39mpred, model_ma_tbl_time\u001b[38;5;241m.\u001b[39mprob, plot\u001b[38;5;241m=\u001b[39m\u001b[38;5;28;01mTrue\u001b[39;00m\n\u001b[0;32m      5\u001b[0m     )\n",
      "\u001b[1;31mNameError\u001b[0m: name 'ma_feat_time' is not defined"
     ]
    }
   ],
   "source": [
    "model_ma_tbl_time = train_meta_model(model=rf, features=ma_feat_time, labels=ma_events_tbl_time)\n",
    "print(f\"{dashes}\\nTRIPLE-BARRIER EVALUATION REPORT\\n{dashes}\")\n",
    "summary = meta_labelling_reports(\n",
    "    model_ma_tbl_time.y_test, model_ma_tbl_time.w_test, model_ma_tbl_time.pred, model_ma_tbl_time.prob, plot=True\n",
    "    )"
   ]
  },
  {
   "cell_type": "code",
   "execution_count": null,
   "id": "846cec1b",
   "metadata": {},
   "outputs": [],
   "source": [
    "model_ma_trend_time = train_meta_model(model=rf, features=ma_feat_time, labels=ma_events_trend_time)\n",
    "print(f\"{dashes}\\nTREND-SCANNING (σ = {volatility_threshold}) EVALUATION REPORT\\n{dashes}\")\n",
    "summary = meta_labelling_reports(\n",
    "    model_ma_trend_time.y_test, model_ma_trend_time.w_test, model_ma_trend_time.pred, model_ma_trend_time.prob, plot=True\n",
    "    )"
   ]
  },
  {
   "cell_type": "code",
   "execution_count": null,
   "id": "eea1522e",
   "metadata": {},
   "outputs": [],
   "source": [
    "model_ma_trend_mr_time = train_meta_model(model=rf, features=ma_feat_time, labels=ma_events_trend_mr_time)\n",
    "print(f\"{dashes}\\nTREND-SCANNING (σ = {volatility_threshold}) EVALUATION REPORT\\n{dashes}\")\n",
    "summary = meta_labelling_reports(\n",
    "    model_ma_trend_mr_time.y_test, model_ma_trend_mr_time.w_test, model_ma_trend_mr_time.pred, model_ma_trend_mr_time.prob, plot=True\n",
    "    )"
   ]
  },
  {
   "cell_type": "markdown",
   "id": "c14c5d4c",
   "metadata": {},
   "source": [
    "###### Return-Weighted"
   ]
  },
  {
   "cell_type": "code",
   "execution_count": null,
   "id": "0c77b20c",
   "metadata": {},
   "outputs": [],
   "source": [
    "model_bb_fh_time_w = train_meta_model(model=rf, features=bb_feat_time, labels=bb_events_fh_time, weighting=\"return\")\n",
    "print(f\"{dashes}\\nFIXED-TIME HORIZON EVALUATION REPORT\\n{dashes}\")\n",
    "summary = meta_labelling_reports(model_bb_fh_time_w, plot=True)"
   ]
  },
  {
   "cell_type": "code",
   "execution_count": null,
   "id": "ac11a1c1",
   "metadata": {},
   "outputs": [],
   "source": [
    "model_bb_tbl_time_w = train_meta_model(model=rf, features=bb_feat_time, labels=bb_events_tbl_time, weighting=\"return\")\n",
    "print(f\"{dashes}\\nTRIPLE-BARRIER EVALUATION REPORT\\n{dashes}\")\n",
    "summary = meta_labelling_reports(model_bb_tbl_time_w, plot=True)"
   ]
  },
  {
   "cell_type": "code",
   "execution_count": null,
   "id": "669788d3",
   "metadata": {},
   "outputs": [],
   "source": [
    "model_bb_trend_time_w = train_meta_model(model=rf, features=bb_feat_time, labels=bb_events_trend_time, weighting=\"return\")\n",
    "print(f\"{dashes}\\nTREND-SCANNING (σ = {volatility_threshold}) EVALUATION REPORT\\n{dashes}\")\n",
    "summary = meta_labelling_reports(model_bb_trend_time_w, plot=True)"
   ]
  },
  {
   "cell_type": "code",
   "execution_count": null,
   "id": "a201e6f8",
   "metadata": {},
   "outputs": [],
   "source": [
    "model_bb_trend_mr_time_w = train_meta_model(model=rf, features=bb_feat_time, labels=bb_events_trend_mr_time, weighting=\"return\")\n",
    "print(f\"{dashes}\\nTREND-SCANNING (σ = {volatility_threshold_mr}) EVALUATION REPORT\\n{dashes}\")\n",
    "summary = meta_labelling_reports(model_bb_trend_mr_time_w, plot=True)"
   ]
  },
  {
   "cell_type": "markdown",
   "id": "88d906c7",
   "metadata": {},
   "source": [
    "###### Time-Decay Weighted"
   ]
  },
  {
   "cell_type": "code",
   "execution_count": null,
   "id": "de4b2ccd",
   "metadata": {},
   "outputs": [],
   "source": [
    "model_bb_fh_time_tw = train_meta_model(\n",
    "    model=rf, features=bb_feat_time, labels=bb_events_fh_time, \n",
    "    weighting=\"time\", time_decay=time_decay\n",
    "    )\n",
    "print(f\"{dashes}\\nFIXED-TIME HORIZON EVALUATION REPORT\\n{dashes}\")\n",
    "summary = meta_labelling_reports(model_bb_fh_time_tw, plot=True)"
   ]
  },
  {
   "cell_type": "code",
   "execution_count": null,
   "id": "4b284b05",
   "metadata": {},
   "outputs": [],
   "source": [
    "model_bb_tbl_time_tw = train_meta_model(\n",
    "    model=rf, features=bb_feat_time, labels=bb_events_tbl_time, \n",
    "    weighting=\"time\", time_decay=time_decay\n",
    "    )\n",
    "print(f\"{dashes}\\nTRIPLE-BARRIER EVALUATION REPORT\\n{dashes}\")\n",
    "summary = meta_labelling_reports(model_bb_tbl_time_tw, plot=True)"
   ]
  },
  {
   "cell_type": "code",
   "execution_count": null,
   "id": "1c88a660",
   "metadata": {},
   "outputs": [],
   "source": [
    "model_bb_trend_time_tw = train_meta_model(\n",
    "    model=rf, features=bb_feat_time, labels=bb_events_trend_time, \n",
    "    weighting=\"time\", time_decay=time_decay\n",
    "    )\n",
    "print(f\"{dashes}\\nTREND-SCANNING (σ = {volatility_threshold}) EVALUATION REPORT\\n{dashes}\")\n",
    "summary = meta_labelling_reports(model_bb_trend_time_tw, plot=True)"
   ]
  },
  {
   "cell_type": "code",
   "execution_count": null,
   "id": "cbd7d518",
   "metadata": {},
   "outputs": [],
   "source": [
    "model_bb_trend_mr_time_tw = train_meta_model(\n",
    "    model=rf, features=bb_feat_time, labels=bb_events_trend_mr_time, \n",
    "    weighting=\"time\", time_decay=time_decay\n",
    "    )\n",
    "print(f\"{dashes}\\nTREND-SCANNING (σ = {volatility_threshold_mr}) EVALUATION REPORT\\n{dashes}\")\n",
    "summary = meta_labelling_reports(model_bb_trend_mr_time_tw, plot=True)"
   ]
  },
  {
   "cell_type": "markdown",
   "id": "6f096399",
   "metadata": {},
   "source": [
    "Reports"
   ]
  },
  {
   "cell_type": "code",
   "execution_count": null,
   "id": "a37b0afe",
   "metadata": {},
   "outputs": [],
   "source": [
    "dirpath = Path(\"reports\", \"time_bars\", ma_timeframe)\n",
    "dirpath.mkdir(parents=True, exist_ok=True)\n",
    "\n",
    "titles = [\n",
    "    f\"Fixed-Time Horizon (h={ma_time_horizon})\", \n",
    "    f\"Triple Barrier (pt={ma_pt_barrier}, sl={ma_sl_barrier}, h={ma_time_horizon})\", \n",
    "    fr\"Trend-Scanning ($\\sigma_{{\\\\text{{threshold}}}} = {volatility_threshold}$)\",\n",
    "    fr\"Trend-Scanning ($\\sigma_{{\\\\text{{threshold}}}} = {volatility_threshold_mr}$)\",\n",
    "    ]\n",
    "ma_models = [model_ma_fh_time, model_ma_tbl_time, model_ma_trend_time, model_ma_trend_mr_time]\n",
    "ma_roc = compare_roc_curves(ma_models[:2], plot_titles[:2])\n",
    "ma_roc.savefig(dirpath / \"ma_roc_barrier_comparison.png\")\n",
    "\n",
    "ma_roc_trend = compare_roc_curves(ma_models[2:], titles[2:])\n",
    "ma_roc_trend.savefig(dirpath / \"ma_roc_trend_comparison.png\")\n",
    "\n",
    "meta_labelling_classification_reports(model_data=model_ma_fh_time, title=\"Fixed-Time Horizon\", output_filename=dirpath / \"ma_fixed_time\")\n",
    "meta_labelling_classification_reports(model_data=model_ma_tbl_time, title=\"Triple Barrier\", output_filename=dirpath / \"ma_triple_barrier\")\n",
    "meta_labelling_classification_reports(model_data=model_ma_trend_time, title=f\"Trend-Scanning (σ = {volatility_threshold})\", \n",
    "                                      output_filename=dirpath / \"ma_trend_scanning\")\n",
    "meta_labelling_classification_reports(model_data=model_ma_trend_mr_time, title=f\"Trend-Scanning (σ = {volatility_threshold_mr})\", \n",
    "                                      output_filename=dirpath / \"ma_trend_scanning_mr\")"
   ]
  },
  {
   "cell_type": "markdown",
   "id": "ac3fbd6f",
   "metadata": {},
   "source": [
    "##### Tick-Bars"
   ]
  },
  {
   "cell_type": "code",
   "execution_count": null,
   "id": "2a8df841",
   "metadata": {},
   "outputs": [],
   "source": [
    "model_ma_fh_tick = train_meta_model(model=rf, features=ma_feat_tick, labels=ma_events_fh_tick)\n",
    "print(f\"{dashes}\\nFIXED-TIME HORIZON EVALUATION REPORT\\n{dashes}\")\n",
    "summary = meta_labelling_reports(model_ma_fh_tick, plot=True)"
   ]
  },
  {
   "cell_type": "code",
   "execution_count": null,
   "id": "a8c68880",
   "metadata": {},
   "outputs": [],
   "source": [
    "model_ma_tbl_tick = train_meta_model(model=rf, features=ma_feat_tick, labels=ma_events_tbl_tick)\n",
    "print(f\"{dashes}\\nTRIPLE-BARRIER EVALUATION REPORT\\n{dashes}\")\n",
    "summary = meta_labelling_reports(model_ma_tbl_tick, plot=True)"
   ]
  },
  {
   "cell_type": "code",
   "execution_count": null,
   "id": "45a8ca36",
   "metadata": {},
   "outputs": [],
   "source": [
    "model_ma_trend_tick = train_meta_model(model=rf, features=ma_feat_tick, labels=ma_events_trend_tick)\n",
    "print(f\"{dashes}\\nTREND-SCANNING (σ = {volatility_threshold}) EVALUATION REPORT\\n{dashes}\")\n",
    "summary = meta_labelling_reports(model_ma_trend_tick, plot=True)"
   ]
  },
  {
   "cell_type": "code",
   "execution_count": null,
   "id": "c7cec3a9",
   "metadata": {},
   "outputs": [],
   "source": [
    "model_ma_trend_mr_tick = train_meta_model(model=rf, features=ma_feat_tick, labels=ma_events_trend_mr_tick)\n",
    "print(f\"{dashes}\\nTREND-SCANNING (σ = {volatility_threshold}) EVALUATION REPORT\\n{dashes}\")\n",
    "summary = meta_labelling_reports(model_ma_trend_mr_tick, plot=True)"
   ]
  },
  {
   "cell_type": "code",
   "execution_count": null,
   "id": "b4fe833d",
   "metadata": {},
   "outputs": [],
   "source": [
    "dirpath = Path(\"reports\", \"tick_bars\", ma_timeframe)\n",
    "dirpath.mkdir(parents=True, exist_ok=True)\n",
    "\n",
    "titles = [\n",
    "    f\"Fixed-Time Horizon (h={ma_tick_horizon} minutes)\", \n",
    "    f\"Triple Barrier (pt={ma_pt_barrier}, sl={ma_sl_barrier}, h={ma_tick_horizon})\", \n",
    "    fr\"Trend-Scanning ($\\sigma_{{\\\\text{{threshold}}}} = {volatility_threshold}$)\",\n",
    "    fr\"Trend-Scanning ($\\sigma_{{\\\\text{{threshold}}}} = {volatility_threshold_mr}$)\",\n",
    "    ]\n",
    "ma_models = [model_ma_fh_tick, model_ma_tbl_tick, model_ma_trend_tick, model_ma_trend_mr_tick]\n",
    "ma_roc = compare_roc_curves(ma_models[:2], plot_titles[:2])\n",
    "ma_roc.savefig(dirpath / \"ma_roc_barrier_comparison.png\")\n",
    "\n",
    "ma_roc_trend = compare_roc_curves(ma_models[2:], titles[2:])\n",
    "ma_roc_trend.savefig(dirpath / \"ma_roc_trend_comparison.png\")\n",
    "\n",
    "meta_labelling_classification_reports(model_data=ma_models, title=bb_titles, output_filename=dirpath / \"ma_fixed_tick\")"
   ]
  }
 ],
 "metadata": {
  "kernelspec": {
   "display_name": "mlfinlab_env",
   "language": "python",
   "name": "python3"
  },
  "language_info": {
   "codemirror_mode": {
    "name": "ipython",
    "version": 3
   },
   "file_extension": ".py",
   "mimetype": "text/x-python",
   "name": "python",
   "nbconvert_exporter": "python",
   "pygments_lexer": "ipython3",
   "version": "3.10.18"
  }
 },
 "nbformat": 4,
 "nbformat_minor": 5
}
