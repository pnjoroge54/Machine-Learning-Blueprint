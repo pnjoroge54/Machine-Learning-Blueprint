{
 "cells": [
  {
   "cell_type": "markdown",
   "id": "883cfcc8",
   "metadata": {
    "vscode": {
     "languageId": "plaintext"
    }
   },
   "source": [
    "# Meta-Labeling Experiments: A Step-by-Step Guide\n",
    "\n",
    "## Introduction\n",
    "\n",
    "This notebook recreates the meta-labeling experiments from Hudson & Thames' research in a beginner-friendly manner. Meta-labeling is a machine learning technique that sits on top of a primary trading strategy to improve performance by filtering out false positive signals.\n",
    "\n",
    "**Key Concepts:**\n",
    "- **Primary Model**: Generates trading signals (buy/sell/hold)\n",
    "- **Triple Barrier Method**: Advanced labeling technique that accounts for stop-loss, take-profit, and time-based exits\n",
    "- **Meta-Labeling**: Secondary ML model that decides whether to act on primary model signals\n",
    "- **Goal**: Improve Sharpe ratio, reduce drawdown, and increase precision\n",
    "\n",
    "## Setup and Dependencies"
   ]
  },
  {
   "cell_type": "code",
   "execution_count": 1,
   "id": "607009b9",
   "metadata": {},
   "outputs": [
    {
     "name": "stderr",
     "output_type": "stream",
     "text": [
      "\u001b[32m2025-09-13 12:23:17.042\u001b[0m | \u001b[34m\u001b[1mDEBUG   \u001b[0m | \u001b[36mafml.cache\u001b[0m:\u001b[36m_configure_numba\u001b[0m:\u001b[36m61\u001b[0m - \u001b[34m\u001b[1mNumba cache configured: C:\\Users\\JoeN\\AppData\\Local\\afml\\afml\\Cache\\numba_cache\u001b[0m\n",
      "\u001b[32m2025-09-13 12:23:17.044\u001b[0m | \u001b[1mINFO    \u001b[0m | \u001b[36mafml.cache\u001b[0m:\u001b[36minitialize_cache_system\u001b[0m:\u001b[36m310\u001b[0m - \u001b[1mAFML cache system initialized:\u001b[0m\n",
      "\u001b[32m2025-09-13 12:23:17.051\u001b[0m | \u001b[1mINFO    \u001b[0m | \u001b[36mafml.cache\u001b[0m:\u001b[36minitialize_cache_system\u001b[0m:\u001b[36m311\u001b[0m - \u001b[1m  Joblib cache: C:\\Users\\JoeN\\AppData\\Local\\afml\\afml\\Cache\\joblib_cache\u001b[0m\n",
      "\u001b[32m2025-09-13 12:23:17.055\u001b[0m | \u001b[1mINFO    \u001b[0m | \u001b[36mafml.cache\u001b[0m:\u001b[36minitialize_cache_system\u001b[0m:\u001b[36m312\u001b[0m - \u001b[1m  Numba cache: C:\\Users\\JoeN\\AppData\\Local\\afml\\afml\\Cache\\numba_cache\u001b[0m\n",
      "\u001b[32m2025-09-13 12:23:21.331\u001b[0m | \u001b[34m\u001b[1mDEBUG   \u001b[0m | \u001b[36mafml.cache.selective_cleaner\u001b[0m:\u001b[36m_load_tracking_data\u001b[0m:\u001b[36m39\u001b[0m - \u001b[34m\u001b[1mLoaded tracking data for 17 functions\u001b[0m\n"
     ]
    },
    {
     "name": "stdout",
     "output_type": "stream",
     "text": [
      "\u001b[32m2025-09-13 12:23:26\u001b[0m | \u001b[1mINFO    \u001b[0m | \u001b[1mAFML v1.0.0 ready - 10 heavy modules available for lazy loading\u001b[0m\n",
      "Working Dir: c:\\Users\\JoeN\\Documents\\GitHub\\Machine-Learning-Blueprint\\notebooks\n"
     ]
    }
   ],
   "source": [
    "# --- Extension Setup ---\n",
    "%load_ext autoreload\n",
    "%load_ext line_profiler\n",
    "%autoreload 2 -p\n",
    "\n",
    "# --- Module Imports ---\n",
    "import sys\n",
    "sys.path.append(\"..\")  # Adjust if your afml repo is nested differently\n",
    "\n",
    "# --- Autoreload Target ---\n",
    "%aimport afml\n",
    "\n",
    "# --- AFML Initialization ---\n",
    "import afml\n",
    "\n",
    "# # --- Logging (Optional but Recommended) ---\n",
    "# from loguru import logger\n",
    "# from pathlib import Path\n",
    "\n",
    "# # Optional: clear old logs\n",
    "# log_path = Path(\"logs\") / \"afml_session.log\"\n",
    "# log_path.parent.mkdir(exist_ok=True)\n",
    "# log_path.unlink(missing_ok=True)\n",
    "\n",
    "# # Configure Loguru\n",
    "# logger.add(log_path, level=\"INFO\", rotation=\"10 MB\", retention=\"10 days\")\n",
    "# logger.info(\"Session started\")\n",
    "\n",
    "# --- Environment Diagnostics ---\n",
    "from pathlib import Path\n",
    "print(f\"Working Dir: {Path.cwd()}\")\n"
   ]
  },
  {
   "cell_type": "code",
   "execution_count": 2,
   "id": "2507ee02",
   "metadata": {},
   "outputs": [],
   "source": [
    "import copy\n",
    "import warnings\n",
    "import winsound\n",
    "from datetime import datetime as dt\n",
    "from datetime import timedelta\n",
    "from pathlib import Path\n",
    "from pprint import pprint\n",
    "\n",
    "import matplotlib.pyplot as plt\n",
    "import MetaTrader5 as mt5\n",
    "import numpy as np\n",
    "import pandas as pd\n",
    "import pandas_ta as ta\n",
    "import seaborn as sns\n",
    "import talib\n",
    "from sklearn.ensemble import RandomForestClassifier\n",
    "\n",
    "from afml.backtest_statistics import (\n",
    "    calculate_performance_metrics,\n",
    "    compare_pr_curves,\n",
    "    compare_roc_curves,\n",
    "    compare_roc_pr_curves,\n",
    "    get_optimal_threshold,\n",
    "    meta_labelling_classification_report_images,\n",
    "    meta_labelling_classification_report_tables,\n",
    "    meta_labelling_reports,\n",
    "    run_meta_labeling_analysis,\n",
    ")\n",
    "from afml.bet_sizing.bet_sizing import bet_size_probability\n",
    "from afml.cache import cache_maintenance, clear_afml_cache, selective_cache_clear\n",
    "from afml.data_structures.bars import *\n",
    "from afml.features import get_fractal_features, get_time_features, is_stationary\n",
    "from afml.filters import cusum_filter\n",
    "from afml.labeling import (\n",
    "    add_vertical_barrier,\n",
    "    get_event_weights,\n",
    "    trend_scanning_labels,\n",
    "    triple_barrier_labels,\n",
    ")\n",
    "from afml.mt5.load_data import (\n",
    "    clean_tick_data,\n",
    "    get_ticks,\n",
    "    load_tick_data,\n",
    "    login_mt5,\n",
    "    save_data_to_parquet,\n",
    ")\n",
    "from afml.strategies import (\n",
    "    BollingerStrategy,\n",
    "    MACrossoverStrategy,\n",
    "    create_bollinger_features,\n",
    "    get_entries,\n",
    "    plot_bbands,\n",
    "    plot_bbands_dual_bbp_bw,\n",
    ")\n",
    "from afml.strategies.training import train_meta_model\n",
    "from afml.util import (\n",
    "    CLEAN_DATA_PATH,\n",
    "    COMMODITIES,\n",
    "    CRYPTO,\n",
    "    DATA_PATH,\n",
    "    FX_MAJORS,\n",
    "    GREEKS,\n",
    "    PERCENTILES,\n",
    "    UTC,\n",
    "    DataFrameFormatter,\n",
    "    get_daily_vol,\n",
    "    get_period_vol,\n",
    "    smart_subscript,\n",
    "    to_subscript,\n",
    "    value_counts_data,\n",
    ")\n",
    "\n",
    "warnings.filterwarnings(\"ignore\")\n",
    "plt.style.use(\"dark_background\")"
   ]
  },
  {
   "cell_type": "code",
   "execution_count": 3,
   "id": "bf608c7b",
   "metadata": {},
   "outputs": [
    {
     "name": "stdout",
     "output_type": "stream",
     "text": [
      "\u001b[32m2025-09-13 12:23:28\u001b[0m | \u001b[1mINFO    \u001b[0m | \u001b[1mNo function changes detected\u001b[0m\n",
      "\u001b[32m2025-09-13 12:23:29\u001b[0m | \u001b[1mINFO    \u001b[0m | \u001b[1mCache maintenance completed: 10 functions checked\u001b[0m\n",
      "{'functions_checked': 10,\n",
      " 'changed_functions': [],\n",
      " 'cleared_functions': [],\n",
      " 'size_cleared_mb': 0,\n",
      " 'old_files_removed': 0}\n"
     ]
    }
   ],
   "source": [
    "pprint(cache_maintenance(), sort_dicts=False)\n",
    "# clear_afml_cache()"
   ]
  },
  {
   "cell_type": "markdown",
   "id": "160822e7",
   "metadata": {},
   "source": [
    "## 1. Data Preparation"
   ]
  },
  {
   "cell_type": "code",
   "execution_count": 4,
   "id": "2f257b76",
   "metadata": {},
   "outputs": [],
   "source": [
    "account = \"FundedNext_STLR2_6K\"\n",
    "# account = \"METAQUOTES_DEMO_25K\"\n",
    "# account = login_mt5(account)\n",
    "symbol = \"EURUSD\"\n",
    "columns = ['bid', 'ask']\n",
    "tick_bar_dict = {\"M1\": 50, \"M5\": 200, \"M15\": 700, \"M30\": 1000, \"H1\": 3000}\n",
    "tick_df = None\n",
    "\n",
    "start_date, end_date = \"2018-01-01\", \"2024-12-31\"\n",
    "sample_start, sample_end = start_date, \"2021-12-31\"\n",
    "oos_start = pd.Timestamp(sample_end) + timedelta(days=1) # Out-of-sample start date"
   ]
  },
  {
   "cell_type": "code",
   "execution_count": 5,
   "id": "f816170a",
   "metadata": {},
   "outputs": [],
   "source": [
    "def get_data(symbol, timeframe, dirpath=\"../data\"):\n",
    "    \"\"\"Returns time-bars and tick-bars for timeframe\"\"\"\n",
    "    global tick_df\n",
    "    timeframe = timeframe.title()\n",
    "    directory = Path(dirpath)\n",
    "    tick_bar_size = tick_bar_dict.get(timeframe)\n",
    "    fname = Path(dirpath, f\"{symbol}_{timeframe}_time_{start_date}-{end_date}.parq\")\n",
    "    fname1 = Path(dirpath, f\"{symbol}_{timeframe}_tick-{tick_bar_size}_{start_date}-{end_date}.parq\")\n",
    "    time_bars, tick_bars = (None, None)\n",
    "\n",
    "    # --- Construct the search pattern ---\n",
    "    # The '*' is a wildcard that matches any sequence of characters\n",
    "    search_pattern = f\"{symbol}_{timeframe}_*\"\n",
    "\n",
    "    # --- Find the files ---\n",
    "    # glob() returns a generator, so you can iterate over it\n",
    "    found_files = directory.glob(search_pattern)\n",
    "\n",
    "    # --- Print the results ---\n",
    "    for file in found_files:\n",
    "        if fname == file:\n",
    "            time_bars = pd.read_parquet(fname)\n",
    "            print(\"Loaded\", file.name)\n",
    "        elif fname1 == file:\n",
    "            tick_bars = pd.read_parquet(fname1)\n",
    "            print(\"Loaded\", file.name)\n",
    "        \n",
    "    if any(x is None for x in (time_bars, tick_bars)):\n",
    "        try:\n",
    "            tick_df = load_tick_data(CLEAN_DATA_PATH, symbol, start_date, end_date, account, columns)\n",
    "            print(f\"Loading ticks from {CLEAN_DATA_PATH}...\")\n",
    "        except FileNotFoundError:\n",
    "            print(f\"Downloading ticks to {DATA_PATH}...\")\n",
    "            save_data_to_parquet(DATA_PATH, symbol, start_date, end_date, account)\n",
    "            tick_df = load_tick_data(DATA_PATH, symbol, start_date, end_date, account, columns)\n",
    "            tick_df = clean_tick_data(tick_df)\n",
    "        if time_bars is None:\n",
    "            time_bars = make_bars(tick_df, bar_type=\"time\", timeframe=timeframe, price=\"bid_ask\", verbose=True)\n",
    "            time_bars.to_parquet(fname)\n",
    "        if tick_bars is None:\n",
    "            tick_bar_size = calculate_ticks_per_period(tick_df, timeframe)\n",
    "            tick_bar_dict[timeframe] = tick_bar_size\n",
    "            tick_bars = make_bars(tick_df, bar_type=\"tick\", bar_size=tick_bar_size, price=\"bid_ask\", verbose=True)\n",
    "            fname1 = Path(dirpath, f\"{symbol}_{timeframe}_tick-{tick_bar_size}_{start_date}-{end_date}.parq\")\n",
    "            tick_bars.to_parquet(fname1)\n",
    "\n",
    "    return time_bars, tick_bars"
   ]
  },
  {
   "cell_type": "markdown",
   "id": "9129c536",
   "metadata": {},
   "source": [
    "## 2. Bollinger Band Strategy"
   ]
  },
  {
   "cell_type": "code",
   "execution_count": 6,
   "id": "f960964f",
   "metadata": {},
   "outputs": [
    {
     "name": "stdout",
     "output_type": "stream",
     "text": [
      "M5 = tick-200\n",
      "Loaded EURUSD_M5_tick-200_2018-01-01-2024-12-31.parq\n",
      "Loaded EURUSD_M5_time_2018-01-01-2024-12-31.parq\n"
     ]
    }
   ],
   "source": [
    "bb_timeframe = \"M5\"\n",
    "tick_bar_size = tick_bar_dict.get(bb_timeframe)\n",
    "print(f\"{bb_timeframe} = tick-{tick_bar_size}\")\n",
    "bb_time_bars, bb_tick_bars = get_data(symbol, bb_timeframe)\n",
    "bar_size = f\"tick-{bb_tick_bars.tick_volume.iloc[0]}\""
   ]
  },
  {
   "cell_type": "code",
   "execution_count": 7,
   "id": "aaae6549",
   "metadata": {},
   "outputs": [],
   "source": [
    "bb_period, bb_std = 20, 1.5 # Bollinger Band parameters\n",
    "bb_strategy = BollingerStrategy(window=bb_period, num_std=bb_std)\n",
    "bb_lookback = 10\n",
    "bb_pt_barrier, bb_sl_barrier, bb_time_horizon = (1, 2, 50)\n",
    "bb_vol_multiplier = 1"
   ]
  },
  {
   "cell_type": "markdown",
   "id": "e83dccff",
   "metadata": {},
   "source": [
    "### Time-Bars"
   ]
  },
  {
   "cell_type": "code",
   "execution_count": 8,
   "id": "144d9465",
   "metadata": {},
   "outputs": [
    {
     "name": "stdout",
     "output_type": "stream",
     "text": [
      "Bollinger_w20_std1.5 Signals:\n",
      "\n",
      "        count  proportion\n",
      "side                     \n",
      " 0    198,417    0.671105\n",
      "-1     48,987    0.165689\n",
      " 1     48,253    0.163206\n",
      "\n",
      "CUSUM filter threshold: 0.1425%\n",
      "\u001b[32m2025-09-13 12:23:33\u001b[0m | \u001b[1mINFO    \u001b[0m | \u001b[1m9,708 CUSUM-filtered events\u001b[0m\n",
      "\n",
      "Bollinger_w20_std1.5 CUSUM-Filtered Signals:\n",
      "\n",
      "      count  proportion\n",
      "side                   \n",
      " 1    3,974    0.409353\n",
      "-1    3,860    0.397610\n",
      " 0    1,874    0.193037\n",
      "\n",
      "t_events: 7,834 / 168,331 = 4.65%\n"
     ]
    }
   ],
   "source": [
    "bb_side = bb_strategy.generate_signals(bb_time_bars)\n",
    "bb_df = bb_time_bars.loc[sample_start : sample_end]\n",
    "\n",
    "print(f\"{bb_strategy.get_strategy_name()} Signals:\")\n",
    "value_counts_data(bb_side.reindex(bb_df.index), verbose=True)\n",
    "\n",
    "# Volatility target for barriers\n",
    "vol_lookback = 100\n",
    "vol_target = get_daily_vol(bb_df.close, vol_lookback) * bb_vol_multiplier\n",
    "close = bb_df.close\n",
    "\n",
    "thres = vol_target.mean()\n",
    "print(f\"CUSUM filter threshold: {thres:.4%}\")\n",
    "\n",
    "t_events = cusum_filter(close, thres)\n",
    "N = bb_side[bb_side != 0].shape[0]\n",
    "\n",
    "print(f\"\\n{bb_strategy.get_strategy_name()} CUSUM-Filtered Signals:\")\n",
    "value_counts_data(bb_side.reindex(t_events), verbose=True)\n",
    "\n",
    "t_events = t_events.intersection(bb_side[bb_side != 0].index)\n",
    "print(f\"t_events: {t_events.size:,} / {N:,} = {t_events.size / N:.2%}\")\n",
    "vertical_barriers = add_vertical_barrier(t_events, close, num_bars=bb_time_horizon)\n",
    "linear_decay = False"
   ]
  },
  {
   "cell_type": "code",
   "execution_count": 9,
   "id": "e8a1dd93",
   "metadata": {},
   "outputs": [],
   "source": [
    "# start = \"2018-01-13 06:00\"\n",
    "# end = \"2018-02-01 06:00\"\n",
    "# close_ = close.loc[start:end]\n",
    "# t_events_ = t_events.intersection(close_.index)\n",
    "\n",
    "# fig, ax = plt.subplots(2, 1, figsize=(10, 8), height_ratios=[3,2], sharex=True)\n",
    "\n",
    "# close_.plot(ax=ax[0], legend=True, ylabel=\"Price\", linewidth=1, grid=True, alpha=0.7)\n",
    "# ax[0].scatter(t_events_, close_.reindex(t_events_), marker='x', color='red', s=40)\n",
    "# (vol_target.reindex(close_.index) * 100).plot(ax=ax[1], legend=True, ylabel=r\"% $\\sigma$\", label=fr\"$\\sigma$ Daily EWM({vol_lookback})\", linewidth=1, grid=True)\n",
    "\n",
    "# fig.suptitle(f\"{symbol} - {bb_timeframe}\", fontsize=13)\n",
    "# plt.subplots_adjust(top=0.9)"
   ]
  },
  {
   "cell_type": "markdown",
   "id": "76ada8a2",
   "metadata": {},
   "source": [
    "#### Feature Engineering"
   ]
  },
  {
   "cell_type": "code",
   "execution_count": 10,
   "id": "63d09b56",
   "metadata": {},
   "outputs": [
    {
     "name": "stdout",
     "output_type": "stream",
     "text": [
      "<class 'pandas.core.frame.DataFrame'>\n",
      "DatetimeIndex: 513293 entries, 2018-01-19 07:40:00 to 2024-12-31 00:00:00\n",
      "Data columns (total 52 columns):\n",
      " #   Column            Non-Null Count   Dtype  \n",
      "---  ------            --------------   -----  \n",
      " 0   close             513293 non-null  float32\n",
      " 1   spread            513293 non-null  float32\n",
      " 2   bb_lower          513293 non-null  float32\n",
      " 3   bb_mid            513293 non-null  float32\n",
      " 4   bb_upper          513293 non-null  float32\n",
      " 5   bb_bandwidth      513293 non-null  float32\n",
      " 6   bb_percentage     513293 non-null  float64\n",
      " 7   ret               513293 non-null  float32\n",
      " 8   ret_5             513293 non-null  float32\n",
      " 9   ret_10            513293 non-null  float32\n",
      " 10  ret_1_lag_1       513293 non-null  float32\n",
      " 11  ret_5_lag_1       513293 non-null  float32\n",
      " 12  ret_10_lag_1      513293 non-null  float32\n",
      " 13  ret_1_lag_2       513293 non-null  float32\n",
      " 14  ret_5_lag_2       513293 non-null  float32\n",
      " 15  ret_10_lag_2      513293 non-null  float32\n",
      " 16  ret_1_lag_3       513293 non-null  float32\n",
      " 17  ret_5_lag_3       513293 non-null  float32\n",
      " 18  ret_10_lag_3      513293 non-null  float32\n",
      " 19  vol               513293 non-null  float32\n",
      " 20  vol_20            513293 non-null  float32\n",
      " 21  vol_lag_1         513293 non-null  float32\n",
      " 22  vol_lag_2         513293 non-null  float32\n",
      " 23  vol_lag_3         513293 non-null  float32\n",
      " 24  vol_lag_4         513293 non-null  float32\n",
      " 25  vol_lag_5         513293 non-null  float32\n",
      " 26  autocorr          513293 non-null  float32\n",
      " 27  autocorr_1        513293 non-null  float32\n",
      " 28  autocorr_2        513293 non-null  float32\n",
      " 29  autocorr_3        513293 non-null  float32\n",
      " 30  autocorr_4        513293 non-null  float32\n",
      " 31  autocorr_5        513293 non-null  float32\n",
      " 32  H1_vol            513293 non-null  float32\n",
      " 33  H4_vol            513293 non-null  float32\n",
      " 34  D1_vol            513293 non-null  float32\n",
      " 35  ret_skew          513293 non-null  float32\n",
      " 36  ret_kurt          513293 non-null  float32\n",
      " 37  tr                513293 non-null  float32\n",
      " 38  atr               513293 non-null  float32\n",
      " 39  sma_diff_5_10     513293 non-null  float32\n",
      " 40  sma_diff_10_20    513293 non-null  float32\n",
      " 41  sma_diff_10_100   513293 non-null  float32\n",
      " 42  sma_diff_100_200  513293 non-null  float32\n",
      " 43  rsi               513293 non-null  float32\n",
      " 44  stoch_rsi_k       513293 non-null  float32\n",
      " 45  stoch_rsi_d       513293 non-null  float32\n",
      " 46  adx               513293 non-null  float32\n",
      " 47  dmp               513293 non-null  float32\n",
      " 48  dmn               513293 non-null  float32\n",
      " 49  dm_net            513293 non-null  float32\n",
      " 50  macd              513293 non-null  float32\n",
      " 51  macdh             513293 non-null  float32\n",
      "dtypes: float32(51), float64(1)\n",
      "memory usage: 107.7 MB\n"
     ]
    }
   ],
   "source": [
    "bb_feat = create_bollinger_features(bb_time_bars, bb_lookback, bb_period, bb_std)\n",
    "bb_feat_time = bb_feat.shift().dropna()\n",
    "bb_feat_time.info()\n",
    "# not_stationary = is_stationary(bb_feat_time)"
   ]
  },
  {
   "cell_type": "markdown",
   "id": "bd2284a3",
   "metadata": {},
   "source": [
    "#### Fixed-Time Horizon Method"
   ]
  },
  {
   "cell_type": "code",
   "execution_count": 11,
   "id": "49460fd5",
   "metadata": {},
   "outputs": [
    {
     "name": "stdout",
     "output_type": "stream",
     "text": [
      "Fixed-Time Horizon (h=50):\n",
      "\n",
      "     count  proportion\n",
      "bin                   \n",
      "1    4,046    0.516995\n",
      "0    3,780    0.483005\n",
      "\n",
      "Average Uniqueness: 0.5397\n"
     ]
    }
   ],
   "source": [
    "bb_events_fh = triple_barrier_labels(\n",
    "    close=close,\n",
    "    target=vol_target,\n",
    "    t_events=t_events,\n",
    "    pt_sl=[0,0],\n",
    "    min_ret=0,\n",
    "    vertical_barrier_times=vertical_barriers,\n",
    "    side_prediction=bb_side.loc[close.index],\n",
    "    vertical_barrier_zero=True,\n",
    "    verbose=False,\n",
    ")\n",
    "bb_events_fh = get_event_weights(bb_events_fh, close)\n",
    "bb_events_fh_time = bb_events_fh.copy()\n",
    "print(f\"Fixed-Time Horizon (h={bb_time_horizon}):\")\n",
    "value_counts_data(bb_events_fh.bin, verbose=True)\n",
    "\n",
    "av_uniqueness = bb_events_fh['tW'].mean()\n",
    "print(f\"Average Uniqueness: {av_uniqueness:.4f}\")"
   ]
  },
  {
   "cell_type": "markdown",
   "id": "fbe1c961",
   "metadata": {},
   "source": [
    "#### Triple-Barrier Method"
   ]
  },
  {
   "cell_type": "code",
   "execution_count": 12,
   "id": "c5b85936",
   "metadata": {},
   "outputs": [
    {
     "name": "stdout",
     "output_type": "stream",
     "text": [
      "Triple-Barrier (pt=1, sl=2, h=50):\n",
      "\n",
      "     count  proportion\n",
      "bin                   \n",
      "1    4,467     0.57079\n",
      "0    3,359     0.42921\n",
      "\n",
      "Average Uniqueness: 0.7018\n"
     ]
    }
   ],
   "source": [
    "bb_events_tbl = triple_barrier_labels(\n",
    "    close=close,\n",
    "    target=vol_target,\n",
    "    t_events=t_events,\n",
    "    pt_sl=[bb_pt_barrier, bb_sl_barrier],\n",
    "    min_ret=0,\n",
    "    vertical_barrier_times=vertical_barriers,\n",
    "    side_prediction=bb_side,\n",
    "    vertical_barrier_zero=0,\n",
    "    verbose=False,\n",
    ")\n",
    "bb_events_tbl = get_event_weights(bb_events_tbl, close)\n",
    "bb_events_tbl_time = bb_events_tbl.copy()\n",
    "\n",
    "print(f\"Triple-Barrier (pt={bb_pt_barrier}, sl={bb_sl_barrier}, h={bb_time_horizon}):\")\n",
    "value_counts_data(bb_events_tbl.bin, verbose=True)\n",
    "\n",
    "av_uniqueness = bb_events_tbl['tW'].mean()\n",
    "print(f\"Average Uniqueness: {av_uniqueness:.4f}\")"
   ]
  },
  {
   "cell_type": "markdown",
   "id": "d44c8eef",
   "metadata": {},
   "source": [
    "#### Trend-Scanning Method"
   ]
  },
  {
   "cell_type": "code",
   "execution_count": 15,
   "id": "7af61b42",
   "metadata": {},
   "outputs": [],
   "source": [
    "span = (5, bb_time_horizon + 1)\n",
    "volatility_threshold = 0.25\n",
    "side = bb_side.reindex(t_events)"
   ]
  },
  {
   "cell_type": "code",
   "execution_count": null,
   "id": "08ace1d8",
   "metadata": {},
   "outputs": [],
   "source": [
    "trend_events = trend_scanning_labels(close, span, volatility_threshold)\n",
    "trend_events = trend_events.reindex(t_events.intersection(trend_events.index))\n",
    "print(f\"Trend-Scanning (σ = {volatility_threshold}) \\n{'-'*40}\")\n",
    "value_counts_data(trend_events.bin, verbose=True)\n",
    "\n",
    "print(f\"\\nTriple-Barrier (pt={bb_pt_barrier}, sl={bb_sl_barrier}, h={bb_time_horizon}) \\n{'-'*40}\")\n",
    "av_uniqueness = bb_events_tbl_time['tW'].mean()\n",
    "value_counts_data(bb_events_tbl_time.bin, verbose=True)\n",
    "print(f\"Average Uniqueness: {av_uniqueness:.4f}\")\n",
    "\n",
    "bb_events_trend = bb_events_tbl_time.join(trend_events[['window', 't_value']], how=\"inner\")\n",
    "# bb_events_trend[\"bin\"] = bb_events_trend[\"bin\"].where(trend_events['bin'] == 0, 0)\n",
    "bb_events_trend[\"bin\"] = bb_events_trend[\"bin\"].where(trend_events['bin'] == side.reindex(trend_events.index), 0)\n",
    "bb_events_trend_time = bb_events_trend.copy()\n",
    "print(f\"\\nTrend-Scanning Meta-Labels (σ = {volatility_threshold})\" \\\n",
    "      f\" \\n{'-'*40} \\n{value_counts_data(bb_events_trend.bin)}\")"
   ]
  },
  {
   "cell_type": "code",
   "execution_count": null,
   "id": "fd21b790",
   "metadata": {},
   "outputs": [],
   "source": [
    "# bb_events_trend = get_trend_scanning_meta_labels(close, side, t_events, span, volatility_threshold)\n",
    "ret = bb_events_trend.ret\n",
    "sr_bb_trend = ret.mean() / ret.std()\n",
    "print(f\"Trend-Scanning Meta-labels (σ = {volatility_threshold}):\")\n",
    "value_counts_data(bb_events_trend.bin, verbose=True)\n",
    "\n",
    "events = bb_events_trend[bb_events_trend.bin == 1]\n",
    "ret_by_window = events.groupby(['window'])[\"ret\"].mean() * 100\n",
    "ave_ret = events[\"ret\"].mean() * 100\n",
    "\n",
    "fig, ax = plt.subplots(2, 1, figsize=(7.5, 5), dpi=100)\n",
    "ret_by_window.plot(kind=\"bar\", label=\"returns (%)\", ax=ax[0])\n",
    "ax[0].hlines(ave_ret, xmin=0, xmax=bb_time_horizon, linestyles=\"--\", label=f\"μ = {ave_ret:.4f}%\")\n",
    "ax[0].legend()\n",
    "events[\"window\"].value_counts(normalize=True).sort_index().plot(kind=\"bar\", ax=ax[1], legend=True)\n",
    "fig.suptitle(fr\"Trend-Scanning ($\\sigma={volatility_threshold}$) — Time-Bars\")\n",
    "plt.subplots_adjust(top=0.88);"
   ]
  },
  {
   "cell_type": "markdown",
   "id": "96495be6",
   "metadata": {},
   "source": [
    "#### Random Forest"
   ]
  },
  {
   "cell_type": "code",
   "execution_count": 13,
   "id": "6cf7d99a",
   "metadata": {},
   "outputs": [
    {
     "name": "stdout",
     "output_type": "stream",
     "text": [
      "Strategy: Bollinger_w20_std1.5\n"
     ]
    }
   ],
   "source": [
    "dashes = \"-\" * 60\n",
    "volatility_threshold = 0.1\n",
    "volatility_threshold_mr = 0.85\n",
    "\n",
    "plot_titles = [\n",
    "    f\"Fixed-Time Horizon (h = {bb_time_horizon})\", \n",
    "    f\"Triple-Barrier (pt = {bb_pt_barrier}, sl = {bb_sl_barrier}, h = {bb_time_horizon})\", \n",
    "    fr\"Trend-Scanning ($\\sigma = {volatility_threshold}$)\",\n",
    "    fr\"Trend-Scanning ($\\sigma = {volatility_threshold_mr}$)\",\n",
    "    ]\n",
    "bb_titles = [\n",
    "    \"Fixed-Time Horizon\", \n",
    "    \"Triple-Barrier\",\n",
    "    f\"Trend-Scanning (σ = {volatility_threshold})\",\n",
    "    f\"Trend-Scanning (σ = {volatility_threshold_mr})\"\n",
    "    ]\n",
    "\n",
    "name = bb_strategy.get_strategy_name().replace(\"Bollinger\", \"bb\")\n",
    "filenames = [\n",
    "    f\"{name}_fixed_horizon\",\n",
    "    f\"{name}_triple_barrier\",\n",
    "    f\"{name}_trend_scanning_{volatility_threshold}\",\n",
    "    f\"{name}_trend_scanning_{volatility_threshold_mr}\"\n",
    "    ]\n",
    "print(f\"Strategy: {bb_strategy.get_strategy_name()}\")\n",
    "\n",
    "random_state = 12\n",
    "min_w_leaf = 0.05\n",
    "\n",
    "rf = RandomForestClassifier(\n",
    "    criterion='entropy',\n",
    "    n_estimators=1000,\n",
    "    class_weight='balanced_subsample',\n",
    "    random_state=random_state,\n",
    "    min_weight_fraction_leaf=min_w_leaf,\n",
    "    n_jobs=-1,  # Use all available cores\n",
    "    )"
   ]
  },
  {
   "cell_type": "markdown",
   "id": "4321cf50",
   "metadata": {},
   "source": [
    "##### Unweighted"
   ]
  },
  {
   "cell_type": "code",
   "execution_count": 14,
   "id": "e07fc510",
   "metadata": {},
   "outputs": [
    {
     "name": "stdout",
     "output_type": "stream",
     "text": [
      "\u001b[32m2025-09-13 12:23:54\u001b[0m | \u001b[1mINFO    \u001b[0m | \u001b[1mSamples are equally weighted.\u001b[0m\n",
      "\u001b[32m2025-09-13 12:23:55\u001b[0m | \u001b[1mINFO    \u001b[0m | \u001b[1mTraining on 5,384 samples...\u001b[0m\n",
      "------------------------------------------------------------\n",
      "FIXED-TIME HORIZON EVALUATION REPORT\n",
      "------------------------------------------------------------\n",
      "\n",
      "PRIMARY MODEL PERFORMANCE:\n",
      "-----------------------------------------------------\n",
      "              precision    recall  f1-score   support\n",
      "\n",
      "           0       0.00      0.00      0.00      1096\n",
      "           1       0.53      1.00      0.69      1213\n",
      "\n",
      "    accuracy                           0.53      2309\n",
      "   macro avg       0.26      0.50      0.34      2309\n",
      "weighted avg       0.28      0.53      0.36      2309\n",
      "\n",
      "\n",
      "Confusion Matrix:\n",
      "[[   0 1096]\n",
      " [   0 1213]]\n",
      "\n",
      "META-MODEL PERFORMANCE:\n",
      "-----------------------------------------------------\n",
      "              precision    recall  f1-score   support\n",
      "\n",
      "           0       0.48      0.51      0.49      1096\n",
      "           1       0.53      0.50      0.51      1213\n",
      "\n",
      "    accuracy                           0.50      2309\n",
      "   macro avg       0.50      0.50      0.50      2309\n",
      "weighted avg       0.50      0.50      0.50      2309\n",
      "\n",
      "\n",
      "Confusion Matrix:\n",
      "[[556 540]\n",
      " [610 603]]\n",
      "\n",
      "Summary Table:\n",
      "Model              Meta-Model\n",
      "ROC AUC                 0.509\n",
      "AP                      0.539\n",
      "Default Threshold       0.500\n",
      "Default Precision       0.528\n",
      "Default Recall          0.497\n",
      "Default F1              0.512\n",
      "Tuned Threshold         0.438\n",
      "Tuned Precision         0.527\n",
      "Tuned Recall            0.998\n",
      "Tuned F1                0.689\n"
     ]
    },
    {
     "data": {
      "image/png": "[encoded data removed]",
      "text/plain": [
       "<Figure size 750x500 with 1 Axes>"
      ]
     },
     "metadata": {},
     "output_type": "display_data"
    }
   ],
   "source": [
    "model_bb_fh_time = train_meta_model(model=rf, features=bb_feat_time, labels=bb_events_fh_time)\n",
    "print(f\"{dashes}\\nFIXED-TIME HORIZON EVALUATION REPORT\\n{dashes}\")\n",
    "summary = meta_labelling_reports(model_bb_fh_time, plot=True)"
   ]
  },
  {
   "cell_type": "code",
   "execution_count": 15,
   "id": "c9567408",
   "metadata": {},
   "outputs": [
    {
     "name": "stdout",
     "output_type": "stream",
     "text": [
      "\u001b[32m2025-09-13 12:24:17\u001b[0m | \u001b[1mINFO    \u001b[0m | \u001b[1mSamples are equally weighted.\u001b[0m\n",
      "\u001b[32m2025-09-13 12:24:17\u001b[0m | \u001b[1mINFO    \u001b[0m | \u001b[1mTraining on 5,385 samples...\u001b[0m\n",
      "------------------------------------------------------------\n",
      "TRIPLE-BARRIER EVALUATION REPORT\n",
      "------------------------------------------------------------\n",
      "\n",
      "PRIMARY MODEL PERFORMANCE:\n",
      "-----------------------------------------------------\n",
      "              precision    recall  f1-score   support\n",
      "\n",
      "           0       0.00      0.00      0.00       964\n",
      "           1       0.58      1.00      0.74      1345\n",
      "\n",
      "    accuracy                           0.58      2309\n",
      "   macro avg       0.29      0.50      0.37      2309\n",
      "weighted avg       0.34      0.58      0.43      2309\n",
      "\n",
      "\n",
      "Confusion Matrix:\n",
      "[[   0  964]\n",
      " [   0 1345]]\n",
      "\n",
      "META-MODEL PERFORMANCE:\n",
      "-----------------------------------------------------\n",
      "              precision    recall  f1-score   support\n",
      "\n",
      "           0       0.45      0.29      0.35       964\n",
      "           1       0.60      0.75      0.67      1345\n",
      "\n",
      "    accuracy                           0.56      2309\n",
      "   macro avg       0.52      0.52      0.51      2309\n",
      "weighted avg       0.54      0.56      0.53      2309\n",
      "\n",
      "\n",
      "Confusion Matrix:\n",
      "[[ 276  688]\n",
      " [ 332 1013]]\n",
      "\n",
      "Summary Table:\n",
      "Model              Meta-Model\n",
      "ROC AUC                 0.527\n",
      "AP                      0.597\n",
      "Default Threshold       0.500\n",
      "Default Precision       0.596\n",
      "Default Recall          0.753\n",
      "Default F1              0.665\n",
      "Tuned Threshold         0.438\n",
      "Tuned Precision         0.583\n",
      "Tuned Recall            1.000\n",
      "Tuned F1                0.736\n"
     ]
    },
    {
     "data": {
      "image/png": "[encoded data removed]",
      "text/plain": [
       "<Figure size 750x500 with 1 Axes>"
      ]
     },
     "metadata": {},
     "output_type": "display_data"
    }
   ],
   "source": [
    "model_bb_tbl_time = train_meta_model(model=rf, features=bb_feat_time, labels=bb_events_tbl_time)\n",
    "print(f\"{dashes}\\nTRIPLE-BARRIER EVALUATION REPORT\\n{dashes}\")\n",
    "summary = meta_labelling_reports(model_bb_tbl_time, plot=True)"
   ]
  },
  {
   "cell_type": "code",
   "execution_count": null,
   "id": "b1d4d895",
   "metadata": {},
   "outputs": [],
   "source": [
    "# model_bb_trend_time = train_meta_model(model=rf, features=bb_feat_time, labels=bb_events_trend_time)\n",
    "# print(f\"{dashes}\\nTREND-SCANNING (σ = {volatility_threshold}) EVALUATION REPORT\\n{dashes}\")\n",
    "# summary = meta_labelling_reports(model_bb_trend_time, plot=True)"
   ]
  },
  {
   "cell_type": "markdown",
   "id": "f2af7a76",
   "metadata": {},
   "source": [
    "##### Return-Weighted"
   ]
  },
  {
   "cell_type": "code",
   "execution_count": null,
   "id": "afe78425",
   "metadata": {},
   "outputs": [],
   "source": [
    "model_bb_fh_time_w = train_meta_model(model=rf, features=bb_feat_time, labels=bb_events_fh_time, weighting=\"return\")\n",
    "print(f\"{dashes}\\nFIXED-TIME HORIZON EVALUATION REPORT\\n{dashes}\")\n",
    "summary = meta_labelling_reports(model_bb_fh_time_w, plot=True)"
   ]
  },
  {
   "cell_type": "code",
   "execution_count": null,
   "id": "9d4dddca",
   "metadata": {},
   "outputs": [],
   "source": [
    "model_bb_tbl_time_w = train_meta_model(model=rf, features=bb_feat_time, labels=bb_events_tbl_time, weighting=\"return\")\n",
    "print(f\"{dashes}\\nTRIPLE-BARRIER EVALUATION REPORT\\n{dashes}\")\n",
    "summary = meta_labelling_reports(model_bb_tbl_time_w, plot=True)"
   ]
  },
  {
   "cell_type": "code",
   "execution_count": null,
   "id": "3b513f1b",
   "metadata": {},
   "outputs": [],
   "source": [
    "model_bb_trend_time_w = train_meta_model(model=rf, features=bb_feat_time, labels=bb_events_trend_time, weighting=\"return\")\n",
    "print(f\"{dashes}\\nTREND-SCANNING (σ = {volatility_threshold}) EVALUATION REPORT\\n{dashes}\")\n",
    "summary = meta_labelling_reports(model_bb_trend_time_w, plot=True)"
   ]
  },
  {
   "cell_type": "markdown",
   "id": "cfd79a4f",
   "metadata": {},
   "source": [
    "##### Reports"
   ]
  },
  {
   "cell_type": "code",
   "execution_count": null,
   "id": "ebce442e",
   "metadata": {},
   "outputs": [],
   "source": [
    "dirpath = Path(\"reports\", \"time_bars\", bb_timeframe)\n",
    "dirpath.mkdir(parents=True, exist_ok=True)\n",
    "\n",
    "# Simulated loop over labeling methods\n",
    "labeling_methods = [\n",
    "    \"fixed-horizon\", \n",
    "    \"triple-barrier\", \n",
    "    \"trend-scanning\", \n",
    "    ]\n",
    "models = [model_bb_fh_time, model_bb_tbl_time, model_bb_trend_time]"
   ]
  },
  {
   "cell_type": "code",
   "execution_count": null,
   "id": "402e8e67",
   "metadata": {},
   "outputs": [],
   "source": [
    "# fp = Path(dirpath, \"unweighted\")\n",
    "# fp_plots = Path(dirpath, \"plots\", \"unweighted\")\n",
    "# fp_plots.mkdir(parents=True, exist_ok=True)\n",
    "# bb_models = [model_bb_fh_time, model_bb_tbl_time, model_bb_trend_time]\n",
    "\n",
    "# bb_roc = compare_roc_curves(\n",
    "#     bb_models[:], plot_titles[:], columns=2, height=7.5, \n",
    "#     fig_title=f\"Bollinger Strategy (window= {bb_period}, $\\\\sigma = {bb_std}$)\"\n",
    "#     )\n",
    "# bb_roc.savefig(fp_plots / \"bb_roc_comparison.png\", bbox_inches=\"tight\", dpi=100)\n",
    "\n",
    "# # bb_roc = compare_roc_curves(bb_models[:2], plot_titles[:2], columns=2)\n",
    "# # bb_roc.savefig(dirpath / \"bb_roc_barrier_comparison.png\", bbox_inches=\"tight\", dpi=100)\n",
    "\n",
    "# # bb_roc_trend = compare_roc_curves(bb_models[2:], plot_titles[2:], columns=2)\n",
    "# # bb_roc_trend.savefig(dirpath / \"bb_roc_trend_comparison.png\", bbox_inches=\"tight\", dpi=100)\n",
    "\n",
    "# # meta_labelling_classification_reports(model_data=bb_models, titles=bb_titles, output_filenames=filenames, path=fp)"
   ]
  },
  {
   "cell_type": "code",
   "execution_count": null,
   "id": "f1ada263",
   "metadata": {},
   "outputs": [],
   "source": [
    "# fp_w = Path(dirpath, \"return_weighted\") \n",
    "# fp_plots = Path(dirpath, \"plots\", \"return_weighted\")\n",
    "# fp_plots.mkdir(parents=True, exist_ok=True)\n",
    "\n",
    "# bb_models_w = [model_bb_fh_time_w, model_bb_tbl_time_w, model_bb_trend_time_w]\n",
    "# bb_titles_w = [f\"Return-Weighted {w}\" for w in bb_titles]\n",
    "# filenames_w = [f\"{w}_w\" for w in filenames]\n",
    "\n",
    "# bbb_roc = compare_roc_curves(\n",
    "#     bb_models_w[:], plot_titles[:], columns=2, height=7.5, \n",
    "#     fig_title=f\"Bollinger Strategy (window= {bb_period}, $\\\\sigma = {bb_std}$)\"\n",
    "#     )\n",
    "# bb_roc.savefig(fp_plots / \"bb_roc_comparison.png\", bbox_inches=\"tight\", dpi=100)\n",
    "\n",
    "# meta_labelling_classification_reports(model_data=bb_models_w, titles=bb_titles_w, output_filenames=filenames_w, path=fp_w)"
   ]
  },
  {
   "cell_type": "code",
   "execution_count": null,
   "id": "077c5860",
   "metadata": {},
   "outputs": [],
   "source": [
    "# fp_tw = Path(dirpath, \"time_weighted\") \n",
    "# plot_titles_tw = [fr\"$\\lambda = {decay}$\" for decay in time_decays]\n",
    "# columns = 2\n",
    "# height = 7.5\n",
    "# fig_titles = [f\"Time-Decay ($\\lambda$): {method} ROC Curves\" for method in bb_titles]\n",
    "\n",
    "# bb_models_tw, bb_titles_tw, filenames_tw = [], [], []\n",
    "# for time_decay, labels in models_bb_time_tw.items():\n",
    "#     for i, (label, model) in enumerate(labels.items()):\n",
    "#         bb_models_tw.append(model)\n",
    "#         bb_titles_tw.append(f\"Time-Weighted (λ = {time_decay}) {bb_titles[i]}\")\n",
    "#         filenames_tw.append(f\"{filenames[i]}_tw_{time_decay}\")\n",
    "\n",
    "# meta_labelling_classification_reports(model_data=bb_models_tw, titles=bb_titles_tw, output_filenames=filenames_tw, path=fp_tw)\n",
    "\n",
    "# fig_title = fig_titles[0]\n",
    "# bb_roc_fh_tw = compare_roc_curves(bb_models_tw[::4], plot_titles_tw, fig_title, columns, height)\n",
    "# bb_roc_fh_tw.savefig(dirpath / \"bb_roc_fixed_horizon_comparison_time_weighted.png\", bbox_inches=\"tight\", dpi=100)"
   ]
  },
  {
   "cell_type": "markdown",
   "id": "801a97f6",
   "metadata": {},
   "source": [
    "##### Out-of-Sample"
   ]
  },
  {
   "cell_type": "code",
   "execution_count": 30,
   "id": "0226f832",
   "metadata": {},
   "outputs": [
    {
     "name": "stdout",
     "output_type": "stream",
     "text": [
      "\u001b[32m2025-09-13 12:49:49\u001b[0m | \u001b[1mINFO    \u001b[0m | \u001b[1mGenerated 23,876 trade events generated by crossover.\u001b[0m\n",
      "\n",
      "       count  proportion\n",
      "side                    \n",
      "-1    11,975     0.50155\n",
      " 1    11,901     0.49845\n",
      "\n",
      "<class 'pandas.core.frame.DataFrame'>\n",
      "DatetimeIndex: 23876 entries, 2022-01-03 01:45:00 to 2024-12-30 23:55:00\n",
      "Data columns (total 53 columns):\n",
      " #   Column            Non-Null Count  Dtype  \n",
      "---  ------            --------------  -----  \n",
      " 0   close             23876 non-null  float32\n",
      " 1   spread            23876 non-null  float32\n",
      " 2   bb_lower          23876 non-null  float32\n",
      " 3   bb_mid            23876 non-null  float32\n",
      " 4   bb_upper          23876 non-null  float32\n",
      " 5   bb_bandwidth      23876 non-null  float32\n",
      " 6   bb_percentage     23876 non-null  float64\n",
      " 7   ret               23876 non-null  float32\n",
      " 8   ret_5             23876 non-null  float32\n",
      " 9   ret_10            23876 non-null  float32\n",
      " 10  ret_1_lag_1       23876 non-null  float32\n",
      " 11  ret_5_lag_1       23876 non-null  float32\n",
      " 12  ret_10_lag_1      23876 non-null  float32\n",
      " 13  ret_1_lag_2       23876 non-null  float32\n",
      " 14  ret_5_lag_2       23876 non-null  float32\n",
      " 15  ret_10_lag_2      23876 non-null  float32\n",
      " 16  ret_1_lag_3       23876 non-null  float32\n",
      " 17  ret_5_lag_3       23876 non-null  float32\n",
      " 18  ret_10_lag_3      23876 non-null  float32\n",
      " 19  vol               23876 non-null  float32\n",
      " 20  vol_20            23876 non-null  float32\n",
      " 21  vol_lag_1         23876 non-null  float32\n",
      " 22  vol_lag_2         23876 non-null  float32\n",
      " 23  vol_lag_3         23876 non-null  float32\n",
      " 24  vol_lag_4         23876 non-null  float32\n",
      " 25  vol_lag_5         23876 non-null  float32\n",
      " 26  autocorr          23876 non-null  float32\n",
      " 27  autocorr_1        23876 non-null  float32\n",
      " 28  autocorr_2        23876 non-null  float32\n",
      " 29  autocorr_3        23876 non-null  float32\n",
      " 30  autocorr_4        23876 non-null  float32\n",
      " 31  autocorr_5        23876 non-null  float32\n",
      " 32  H1_vol            23876 non-null  float32\n",
      " 33  H4_vol            23876 non-null  float32\n",
      " 34  D1_vol            23876 non-null  float32\n",
      " 35  ret_skew          23876 non-null  float32\n",
      " 36  ret_kurt          23876 non-null  float32\n",
      " 37  tr                23876 non-null  float32\n",
      " 38  atr               23876 non-null  float32\n",
      " 39  sma_diff_5_10     23876 non-null  float32\n",
      " 40  sma_diff_10_20    23876 non-null  float32\n",
      " 41  sma_diff_10_100   23876 non-null  float32\n",
      " 42  sma_diff_100_200  23876 non-null  float32\n",
      " 43  rsi               23876 non-null  float32\n",
      " 44  stoch_rsi_k       23876 non-null  float32\n",
      " 45  stoch_rsi_d       23876 non-null  float32\n",
      " 46  adx               23876 non-null  float32\n",
      " 47  dmp               23876 non-null  float32\n",
      " 48  dmn               23876 non-null  float32\n",
      " 49  dm_net            23876 non-null  float32\n",
      " 50  macd              23876 non-null  float32\n",
      " 51  macdh             23876 non-null  float32\n",
      " 52  side              23876 non-null  int8   \n",
      "dtypes: float32(51), float64(1), int8(1)\n",
      "memory usage: 5.0 MB\n"
     ]
    }
   ],
   "source": [
    "bb_model_results_time = {}\n",
    "time_metrics_oos = {}\n",
    "\n",
    "df = bb_time_bars[sample_end:]\n",
    "close = df.close\n",
    "target = get_daily_vol(close, vol_lookback) * bb_vol_multiplier\n",
    "data_index = target.dropna().index\n",
    "\n",
    "_, t_events = get_entries(bb_strategy, df.reindex(data_index), on_crossover=True)\n",
    "vertical_barrier_times = add_vertical_barrier(t_events, close, num_bars=bb_time_horizon)\n",
    "\n",
    "# Create feature set for model\n",
    "X_test = bb_feat_time.join(bb_side).reindex(t_events).dropna()\n",
    "value_counts_data(X_test.side, verbose=True)\n",
    "X_test.info()"
   ]
  },
  {
   "cell_type": "code",
   "execution_count": 31,
   "id": "587d7a8f",
   "metadata": {},
   "outputs": [
    {
     "ename": "ValueError",
     "evalue": "Length mismatch: Expected axis has 344 elements, new values have 345 elements",
     "output_type": "error",
     "traceback": [
      "\u001b[1;31m---------------------------------------------------------------------------\u001b[0m",
      "\u001b[1;31mValueError\u001b[0m                                Traceback (most recent call last)",
      "Cell \u001b[1;32mIn[31], line 15\u001b[0m\n\u001b[0;32m      3\u001b[0m \u001b[38;5;66;03m# confidence_threshold = get_optimal_threshold(model)\u001b[39;00m\n\u001b[0;32m      5\u001b[0m events \u001b[38;5;241m=\u001b[39m triple_barrier_labels(\n\u001b[0;32m      6\u001b[0m     close, target, t_events, vertical_barrier_times, \n\u001b[0;32m      7\u001b[0m     side_prediction\u001b[38;5;241m=\u001b[39mbb_side, \n\u001b[1;32m   (...)\u001b[0m\n\u001b[0;32m     11\u001b[0m     verbose\u001b[38;5;241m=\u001b[39m\u001b[38;5;28;01mFalse\u001b[39;00m,\n\u001b[0;32m     12\u001b[0m     )\n\u001b[1;32m---> 15\u001b[0m results \u001b[38;5;241m=\u001b[39m \u001b[43mrun_meta_labeling_analysis\u001b[49m\u001b[43m(\u001b[49m\n\u001b[0;32m     16\u001b[0m \u001b[43m    \u001b[49m\u001b[43mdata_index\u001b[49m\u001b[43m,\u001b[49m\n\u001b[0;32m     17\u001b[0m \u001b[43m    \u001b[49m\u001b[43mevents\u001b[49m\u001b[43m,\u001b[49m\n\u001b[0;32m     18\u001b[0m \u001b[43m    \u001b[49m\u001b[43mprob\u001b[49m\u001b[43m,\u001b[49m\n\u001b[0;32m     19\u001b[0m \u001b[43m    \u001b[49m\u001b[43mconfidence_threshold\u001b[49m\u001b[38;5;241;43m=\u001b[39;49m\u001b[38;5;241;43m0.5\u001b[39;49m\u001b[43m,\u001b[49m\n\u001b[0;32m     20\u001b[0m \u001b[43m    \u001b[49m\u001b[43mstrategy_name\u001b[49m\u001b[38;5;241;43m=\u001b[39;49m\u001b[43mbb_strategy\u001b[49m\u001b[38;5;241;43m.\u001b[39;49m\u001b[43mget_strategy_name\u001b[49m\u001b[43m(\u001b[49m\u001b[43m)\u001b[49m\n\u001b[0;32m     21\u001b[0m \u001b[43m    \u001b[49m\u001b[43m)\u001b[49m\n\u001b[0;32m     22\u001b[0m bb_model_results_time[\u001b[38;5;124mf\u001b[39m\u001b[38;5;124m\"\u001b[39m\u001b[38;5;124mfixed_horizon_\u001b[39m\u001b[38;5;132;01m{\u001b[39;00mbb_time_horizon\u001b[38;5;132;01m}\u001b[39;00m\u001b[38;5;124m\"\u001b[39m] \u001b[38;5;241m=\u001b[39m results\n",
      "File \u001b[1;32mc:\\Users\\JoeN\\Documents\\GitHub\\Machine-Learning-Blueprint\\notebooks\\..\\afml\\backtest_statistics\\performance_analysis.py:885\u001b[0m, in \u001b[0;36mrun_meta_labeling_analysis\u001b[1;34m(data_index, events, prob, confidence_threshold, trading_days_per_year, trading_hours_per_day, strategy_name, average_active, step_size, save_path)\u001b[0m\n\u001b[0;32m    859\u001b[0m \u001b[38;5;28;01mdef\u001b[39;00m\u001b[38;5;250m \u001b[39m\u001b[38;5;21mrun_meta_labeling_analysis\u001b[39m(\n\u001b[0;32m    860\u001b[0m     data_index: pd\u001b[38;5;241m.\u001b[39mDatetimeIndex,\n\u001b[0;32m    861\u001b[0m     events: pd\u001b[38;5;241m.\u001b[39mDataFrame,\n\u001b[1;32m   (...)\u001b[0m\n\u001b[0;32m    869\u001b[0m     save_path: \u001b[38;5;28mstr\u001b[39m \u001b[38;5;241m=\u001b[39m \u001b[38;5;28;01mNone\u001b[39;00m,\n\u001b[0;32m    870\u001b[0m ):\n\u001b[0;32m    871\u001b[0m \u001b[38;5;250m    \u001b[39m\u001b[38;5;124;03m\"\"\"\u001b[39;00m\n\u001b[0;32m    872\u001b[0m \u001b[38;5;124;03m    A wrapper function to run a complete meta-labeling analysis.\u001b[39;00m\n\u001b[0;32m    873\u001b[0m \n\u001b[1;32m   (...)\u001b[0m\n\u001b[0;32m    883\u001b[0m \u001b[38;5;124;03m        save_path: If provided, saves the output to this file path\u001b[39;00m\n\u001b[0;32m    884\u001b[0m \u001b[38;5;124;03m    \"\"\"\u001b[39;00m\n\u001b[1;32m--> 885\u001b[0m     results \u001b[38;5;241m=\u001b[39m \u001b[43mevaluate_meta_labeling_performance\u001b[49m\u001b[43m(\u001b[49m\n\u001b[0;32m    886\u001b[0m \u001b[43m        \u001b[49m\u001b[43mdata_index\u001b[49m\u001b[38;5;241;43m=\u001b[39;49m\u001b[43mdata_index\u001b[49m\u001b[43m,\u001b[49m\n\u001b[0;32m    887\u001b[0m \u001b[43m        \u001b[49m\u001b[43mevents\u001b[49m\u001b[38;5;241;43m=\u001b[39;49m\u001b[43mevents\u001b[49m\u001b[43m,\u001b[49m\n\u001b[0;32m    888\u001b[0m \u001b[43m        \u001b[49m\u001b[43mprob\u001b[49m\u001b[38;5;241;43m=\u001b[39;49m\u001b[43mprob\u001b[49m\u001b[43m,\u001b[49m\n\u001b[0;32m    889\u001b[0m \u001b[43m        \u001b[49m\u001b[43mconfidence_threshold\u001b[49m\u001b[38;5;241;43m=\u001b[39;49m\u001b[43mconfidence_threshold\u001b[49m\u001b[43m,\u001b[49m\n\u001b[0;32m    890\u001b[0m \u001b[43m        \u001b[49m\u001b[43mtrading_days_per_year\u001b[49m\u001b[38;5;241;43m=\u001b[39;49m\u001b[43mtrading_days_per_year\u001b[49m\u001b[43m,\u001b[49m\n\u001b[0;32m    891\u001b[0m \u001b[43m        \u001b[49m\u001b[43mtrading_hours_per_day\u001b[49m\u001b[38;5;241;43m=\u001b[39;49m\u001b[43mtrading_hours_per_day\u001b[49m\u001b[43m,\u001b[49m\n\u001b[0;32m    892\u001b[0m \u001b[43m        \u001b[49m\u001b[43mstrategy_name\u001b[49m\u001b[38;5;241;43m=\u001b[39;49m\u001b[43mstrategy_name\u001b[49m\u001b[43m,\u001b[49m\n\u001b[0;32m    893\u001b[0m \u001b[43m        \u001b[49m\u001b[43mstep_size\u001b[49m\u001b[38;5;241;43m=\u001b[39;49m\u001b[43mstep_size\u001b[49m\u001b[43m,\u001b[49m\n\u001b[0;32m    894\u001b[0m \u001b[43m        \u001b[49m\u001b[43maverage_active\u001b[49m\u001b[38;5;241;43m=\u001b[39;49m\u001b[43maverage_active\u001b[49m\u001b[43m,\u001b[49m\n\u001b[0;32m    895\u001b[0m \u001b[43m    \u001b[49m\u001b[43m)\u001b[49m\n\u001b[0;32m    897\u001b[0m     print_meta_labeling_comparison(results, save_path)\n\u001b[0;32m    898\u001b[0m     \u001b[38;5;28;01mreturn\u001b[39;00m results\n",
      "File \u001b[1;32mc:\\Users\\JoeN\\Documents\\GitHub\\Machine-Learning-Blueprint\\notebooks\\..\\afml\\backtest_statistics\\performance_analysis.py:581\u001b[0m, in \u001b[0;36mevaluate_meta_labeling_performance\u001b[1;34m(data_index, events, prob, confidence_threshold, trading_days_per_year, trading_hours_per_day, strategy_name, step_size, average_active)\u001b[0m\n\u001b[0;32m    573\u001b[0m \u001b[38;5;66;03m# --- 3. Performance Calculation ---\u001b[39;00m\n\u001b[0;32m    574\u001b[0m primary_metrics \u001b[38;5;241m=\u001b[39m calculate_performance_metrics(\n\u001b[0;32m    575\u001b[0m     returns\u001b[38;5;241m=\u001b[39mprimary_returns,\n\u001b[0;32m    576\u001b[0m     data_index\u001b[38;5;241m=\u001b[39mdata_index,\n\u001b[1;32m   (...)\u001b[0m\n\u001b[0;32m    579\u001b[0m     trading_hours_per_day\u001b[38;5;241m=\u001b[39mtrading_hours_per_day,\n\u001b[0;32m    580\u001b[0m )\n\u001b[1;32m--> 581\u001b[0m meta_metrics \u001b[38;5;241m=\u001b[39m \u001b[43mcalculate_performance_metrics\u001b[49m\u001b[43m(\u001b[49m\n\u001b[0;32m    582\u001b[0m \u001b[43m    \u001b[49m\u001b[43mreturns\u001b[49m\u001b[38;5;241;43m=\u001b[39;49m\u001b[43mmeta_returns\u001b[49m\u001b[43m,\u001b[49m\n\u001b[0;32m    583\u001b[0m \u001b[43m    \u001b[49m\u001b[43mdata_index\u001b[49m\u001b[38;5;241;43m=\u001b[39;49m\u001b[43mdata_index\u001b[49m\u001b[43m,\u001b[49m\n\u001b[0;32m    584\u001b[0m \u001b[43m    \u001b[49m\u001b[43mpositions\u001b[49m\u001b[38;5;241;43m=\u001b[39;49m\u001b[43mside\u001b[49m\u001b[38;5;241;43m.\u001b[39;49m\u001b[43mloc\u001b[49m\u001b[43m[\u001b[49m\u001b[43mactive_signal_indices\u001b[49m\u001b[43m]\u001b[49m\u001b[43m,\u001b[49m\n\u001b[0;32m    585\u001b[0m \u001b[43m    \u001b[49m\u001b[43mtrading_days_per_year\u001b[49m\u001b[38;5;241;43m=\u001b[39;49m\u001b[43mtrading_days_per_year\u001b[49m\u001b[43m,\u001b[49m\n\u001b[0;32m    586\u001b[0m \u001b[43m    \u001b[49m\u001b[43mtrading_hours_per_day\u001b[49m\u001b[38;5;241;43m=\u001b[39;49m\u001b[43mtrading_hours_per_day\u001b[49m\u001b[43m,\u001b[49m\n\u001b[0;32m    587\u001b[0m \u001b[43m\u001b[49m\u001b[43m)\u001b[49m\n\u001b[0;32m    589\u001b[0m \u001b[38;5;66;03m# --- 4. Meta-Specific Metrics ---\u001b[39;00m\n\u001b[0;32m    590\u001b[0m total_signals \u001b[38;5;241m=\u001b[39m \u001b[38;5;28mlen\u001b[39m(events)\n",
      "File \u001b[1;32mc:\\Users\\JoeN\\Documents\\GitHub\\Machine-Learning-Blueprint\\notebooks\\..\\afml\\backtest_statistics\\performance_analysis.py:422\u001b[0m, in \u001b[0;36mcalculate_performance_metrics\u001b[1;34m(returns, data_index, positions, trading_days_per_year, trading_hours_per_day)\u001b[0m\n\u001b[0;32m    399\u001b[0m metrics \u001b[38;5;241m=\u001b[39m {\n\u001b[0;32m    400\u001b[0m     \u001b[38;5;124m\"\u001b[39m\u001b[38;5;124mtotal_return\u001b[39m\u001b[38;5;124m\"\u001b[39m: total_return,\n\u001b[0;32m    401\u001b[0m     \u001b[38;5;124m\"\u001b[39m\u001b[38;5;124mannualized_return\u001b[39m\u001b[38;5;124m\"\u001b[39m: annualized_return,\n\u001b[1;32m   (...)\u001b[0m\n\u001b[0;32m    418\u001b[0m     \u001b[38;5;124m\"\u001b[39m\u001b[38;5;124mtime_concentration\u001b[39m\u001b[38;5;124m\"\u001b[39m: time_concentration,\n\u001b[0;32m    419\u001b[0m }\n\u001b[0;32m    421\u001b[0m \u001b[38;5;66;03m# --- Drawdown Stats ---\u001b[39;00m\n\u001b[1;32m--> 422\u001b[0m drawdown, time_under_water \u001b[38;5;241m=\u001b[39m \u001b[43mdrawdown_and_time_under_water\u001b[49m\u001b[43m(\u001b[49m\u001b[43m(\u001b[49m\u001b[38;5;241;43m1\u001b[39;49m\u001b[43m \u001b[49m\u001b[38;5;241;43m+\u001b[39;49m\u001b[43m \u001b[49m\u001b[43mreturns\u001b[49m\u001b[43m)\u001b[49m\u001b[38;5;241;43m.\u001b[39;49m\u001b[43mcumprod\u001b[49m\u001b[43m(\u001b[49m\u001b[43m)\u001b[49m\u001b[43m)\u001b[49m\n\u001b[0;32m    423\u001b[0m drawdown_stats \u001b[38;5;241m=\u001b[39m {\n\u001b[0;32m    424\u001b[0m     \u001b[38;5;124m\"\u001b[39m\u001b[38;5;124mmax_drawdown\u001b[39m\u001b[38;5;124m\"\u001b[39m: drawdown\u001b[38;5;241m.\u001b[39mmax() \u001b[38;5;28;01mif\u001b[39;00m \u001b[38;5;129;01mnot\u001b[39;00m drawdown\u001b[38;5;241m.\u001b[39mempty \u001b[38;5;28;01melse\u001b[39;00m \u001b[38;5;241m0\u001b[39m,\n\u001b[0;32m    425\u001b[0m     \u001b[38;5;124m\"\u001b[39m\u001b[38;5;124mavg_drawdown\u001b[39m\u001b[38;5;124m\"\u001b[39m: drawdown\u001b[38;5;241m.\u001b[39mmean() \u001b[38;5;28;01mif\u001b[39;00m \u001b[38;5;129;01mnot\u001b[39;00m drawdown\u001b[38;5;241m.\u001b[39mempty \u001b[38;5;28;01melse\u001b[39;00m \u001b[38;5;241m0\u001b[39m,\n\u001b[1;32m   (...)\u001b[0m\n\u001b[0;32m    432\u001b[0m     \u001b[38;5;124m\"\u001b[39m\u001b[38;5;124mulcer_index\u001b[39m\u001b[38;5;124m\"\u001b[39m: np\u001b[38;5;241m.\u001b[39msqrt((drawdown\u001b[38;5;241m*\u001b[39m\u001b[38;5;241m*\u001b[39m\u001b[38;5;241m2\u001b[39m)\u001b[38;5;241m.\u001b[39mmean()) \u001b[38;5;28;01mif\u001b[39;00m \u001b[38;5;129;01mnot\u001b[39;00m drawdown\u001b[38;5;241m.\u001b[39mempty \u001b[38;5;28;01melse\u001b[39;00m \u001b[38;5;241m0\u001b[39m,\n\u001b[0;32m    433\u001b[0m }\n\u001b[0;32m    434\u001b[0m metrics\u001b[38;5;241m.\u001b[39mupdate(drawdown_stats)\n",
      "File \u001b[1;32mc:\\Users\\JoeN\\Documents\\GitHub\\Machine-Learning-Blueprint\\notebooks\\..\\afml\\backtest_statistics\\statistics.py:211\u001b[0m, in \u001b[0;36mdrawdown_and_time_under_water\u001b[1;34m(returns, dollars)\u001b[0m\n\u001b[0;32m    208\u001b[0m high_watermarks\u001b[38;5;241m.\u001b[39mcolumns \u001b[38;5;241m=\u001b[39m [\u001b[38;5;124m\"\u001b[39m\u001b[38;5;124mhwm\u001b[39m\u001b[38;5;124m\"\u001b[39m, \u001b[38;5;124m\"\u001b[39m\u001b[38;5;124mmin\u001b[39m\u001b[38;5;124m\"\u001b[39m]\n\u001b[0;32m    210\u001b[0m \u001b[38;5;66;03m# Time high watermark occurred\u001b[39;00m\n\u001b[1;32m--> 211\u001b[0m \u001b[43mhigh_watermarks\u001b[49m\u001b[38;5;241;43m.\u001b[39;49m\u001b[43mindex\u001b[49m \u001b[38;5;241m=\u001b[39m frame[\u001b[38;5;124m\"\u001b[39m\u001b[38;5;124mhwm\u001b[39m\u001b[38;5;124m\"\u001b[39m]\u001b[38;5;241m.\u001b[39mdrop_duplicates(keep\u001b[38;5;241m=\u001b[39m\u001b[38;5;124m\"\u001b[39m\u001b[38;5;124mfirst\u001b[39m\u001b[38;5;124m\"\u001b[39m)\u001b[38;5;241m.\u001b[39mindex\n\u001b[0;32m    213\u001b[0m \u001b[38;5;66;03m# Picking ones that had a drawdown after high watermark\u001b[39;00m\n\u001b[0;32m    214\u001b[0m high_watermarks \u001b[38;5;241m=\u001b[39m high_watermarks[high_watermarks[\u001b[38;5;124m\"\u001b[39m\u001b[38;5;124mhwm\u001b[39m\u001b[38;5;124m\"\u001b[39m] \u001b[38;5;241m>\u001b[39m high_watermarks[\u001b[38;5;124m\"\u001b[39m\u001b[38;5;124mmin\u001b[39m\u001b[38;5;124m\"\u001b[39m]]\n",
      "File \u001b[1;32mc:\\Users\\JoeN\\miniforge3\\envs\\mlfinlab_env\\lib\\site-packages\\pandas\\core\\generic.py:6313\u001b[0m, in \u001b[0;36mNDFrame.__setattr__\u001b[1;34m(self, name, value)\u001b[0m\n\u001b[0;32m   6311\u001b[0m \u001b[38;5;28;01mtry\u001b[39;00m:\n\u001b[0;32m   6312\u001b[0m     \u001b[38;5;28mobject\u001b[39m\u001b[38;5;241m.\u001b[39m\u001b[38;5;21m__getattribute__\u001b[39m(\u001b[38;5;28mself\u001b[39m, name)\n\u001b[1;32m-> 6313\u001b[0m     \u001b[38;5;28;01mreturn\u001b[39;00m \u001b[38;5;28;43mobject\u001b[39;49m\u001b[38;5;241;43m.\u001b[39;49m\u001b[38;5;21;43m__setattr__\u001b[39;49m\u001b[43m(\u001b[49m\u001b[38;5;28;43mself\u001b[39;49m\u001b[43m,\u001b[49m\u001b[43m \u001b[49m\u001b[43mname\u001b[49m\u001b[43m,\u001b[49m\u001b[43m \u001b[49m\u001b[43mvalue\u001b[49m\u001b[43m)\u001b[49m\n\u001b[0;32m   6314\u001b[0m \u001b[38;5;28;01mexcept\u001b[39;00m \u001b[38;5;167;01mAttributeError\u001b[39;00m:\n\u001b[0;32m   6315\u001b[0m     \u001b[38;5;28;01mpass\u001b[39;00m\n",
      "File \u001b[1;32mproperties.pyx:69\u001b[0m, in \u001b[0;36mpandas._libs.properties.AxisProperty.__set__\u001b[1;34m()\u001b[0m\n",
      "File \u001b[1;32mc:\\Users\\JoeN\\miniforge3\\envs\\mlfinlab_env\\lib\\site-packages\\pandas\\core\\generic.py:814\u001b[0m, in \u001b[0;36mNDFrame._set_axis\u001b[1;34m(self, axis, labels)\u001b[0m\n\u001b[0;32m    809\u001b[0m \u001b[38;5;250m\u001b[39m\u001b[38;5;124;03m\"\"\"\u001b[39;00m\n\u001b[0;32m    810\u001b[0m \u001b[38;5;124;03mThis is called from the cython code when we set the `index` attribute\u001b[39;00m\n\u001b[0;32m    811\u001b[0m \u001b[38;5;124;03mdirectly, e.g. `series.index = [1, 2, 3]`.\u001b[39;00m\n\u001b[0;32m    812\u001b[0m \u001b[38;5;124;03m\"\"\"\u001b[39;00m\n\u001b[0;32m    813\u001b[0m labels \u001b[38;5;241m=\u001b[39m ensure_index(labels)\n\u001b[1;32m--> 814\u001b[0m \u001b[38;5;28;43mself\u001b[39;49m\u001b[38;5;241;43m.\u001b[39;49m\u001b[43m_mgr\u001b[49m\u001b[38;5;241;43m.\u001b[39;49m\u001b[43mset_axis\u001b[49m\u001b[43m(\u001b[49m\u001b[43maxis\u001b[49m\u001b[43m,\u001b[49m\u001b[43m \u001b[49m\u001b[43mlabels\u001b[49m\u001b[43m)\u001b[49m\n\u001b[0;32m    815\u001b[0m \u001b[38;5;28mself\u001b[39m\u001b[38;5;241m.\u001b[39m_clear_item_cache()\n",
      "File \u001b[1;32mc:\\Users\\JoeN\\miniforge3\\envs\\mlfinlab_env\\lib\\site-packages\\pandas\\core\\internals\\managers.py:238\u001b[0m, in \u001b[0;36mBaseBlockManager.set_axis\u001b[1;34m(self, axis, new_labels)\u001b[0m\n\u001b[0;32m    236\u001b[0m \u001b[38;5;28;01mdef\u001b[39;00m\u001b[38;5;250m \u001b[39m\u001b[38;5;21mset_axis\u001b[39m(\u001b[38;5;28mself\u001b[39m, axis: AxisInt, new_labels: Index) \u001b[38;5;241m-\u001b[39m\u001b[38;5;241m>\u001b[39m \u001b[38;5;28;01mNone\u001b[39;00m:\n\u001b[0;32m    237\u001b[0m     \u001b[38;5;66;03m# Caller is responsible for ensuring we have an Index object.\u001b[39;00m\n\u001b[1;32m--> 238\u001b[0m     \u001b[38;5;28;43mself\u001b[39;49m\u001b[38;5;241;43m.\u001b[39;49m\u001b[43m_validate_set_axis\u001b[49m\u001b[43m(\u001b[49m\u001b[43maxis\u001b[49m\u001b[43m,\u001b[49m\u001b[43m \u001b[49m\u001b[43mnew_labels\u001b[49m\u001b[43m)\u001b[49m\n\u001b[0;32m    239\u001b[0m     \u001b[38;5;28mself\u001b[39m\u001b[38;5;241m.\u001b[39maxes[axis] \u001b[38;5;241m=\u001b[39m new_labels\n",
      "File \u001b[1;32mc:\\Users\\JoeN\\miniforge3\\envs\\mlfinlab_env\\lib\\site-packages\\pandas\\core\\internals\\base.py:98\u001b[0m, in \u001b[0;36mDataManager._validate_set_axis\u001b[1;34m(self, axis, new_labels)\u001b[0m\n\u001b[0;32m     95\u001b[0m     \u001b[38;5;28;01mpass\u001b[39;00m\n\u001b[0;32m     97\u001b[0m \u001b[38;5;28;01melif\u001b[39;00m new_len \u001b[38;5;241m!=\u001b[39m old_len:\n\u001b[1;32m---> 98\u001b[0m     \u001b[38;5;28;01mraise\u001b[39;00m \u001b[38;5;167;01mValueError\u001b[39;00m(\n\u001b[0;32m     99\u001b[0m         \u001b[38;5;124mf\u001b[39m\u001b[38;5;124m\"\u001b[39m\u001b[38;5;124mLength mismatch: Expected axis has \u001b[39m\u001b[38;5;132;01m{\u001b[39;00mold_len\u001b[38;5;132;01m}\u001b[39;00m\u001b[38;5;124m elements, new \u001b[39m\u001b[38;5;124m\"\u001b[39m\n\u001b[0;32m    100\u001b[0m         \u001b[38;5;124mf\u001b[39m\u001b[38;5;124m\"\u001b[39m\u001b[38;5;124mvalues have \u001b[39m\u001b[38;5;132;01m{\u001b[39;00mnew_len\u001b[38;5;132;01m}\u001b[39;00m\u001b[38;5;124m elements\u001b[39m\u001b[38;5;124m\"\u001b[39m\n\u001b[0;32m    101\u001b[0m     )\n",
      "\u001b[1;31mValueError\u001b[0m: Length mismatch: Expected axis has 344 elements, new values have 345 elements"
     ]
    }
   ],
   "source": [
    "model = model_bb_fh_time\n",
    "prob = pd.Series(model.fit.predict_proba(X_test)[:, 1], index=X_test.index)\n",
    "# confidence_threshold = get_optimal_threshold(model)\n",
    "\n",
    "events = triple_barrier_labels(\n",
    "    close, target, t_events, vertical_barrier_times, \n",
    "    side_prediction=bb_side, \n",
    "    pt_sl=[0, 0], \n",
    "    vertical_barrier_zero=False, \n",
    "    drop=False,\n",
    "    verbose=False,\n",
    "    )\n",
    "\n",
    "\n",
    "results = run_meta_labeling_analysis(\n",
    "    data_index,\n",
    "    events,\n",
    "    prob,\n",
    "    confidence_threshold=0.5,\n",
    "    strategy_name=bb_strategy.get_strategy_name()\n",
    "    )\n",
    "bb_model_results_time[f\"fixed_horizon_{bb_time_horizon}\"] = results"
   ]
  },
  {
   "cell_type": "code",
   "execution_count": 24,
   "id": "06f9c95f",
   "metadata": {},
   "outputs": [
    {
     "ename": "ValueError",
     "evalue": "operands could not be broadcast together with shapes (23870,) (23876,) ",
     "output_type": "error",
     "traceback": [
      "\u001b[1;31m---------------------------------------------------------------------------\u001b[0m",
      "\u001b[1;31mValueError\u001b[0m                                Traceback (most recent call last)",
      "Cell \u001b[1;32mIn[24], line 2\u001b[0m\n\u001b[0;32m      1\u001b[0m \u001b[38;5;66;03m# # --- Bet Sizing Logic ---\u001b[39;00m\n\u001b[1;32m----> 2\u001b[0m bet_sizes_raw \u001b[38;5;241m=\u001b[39m \u001b[43mbet_size_probability\u001b[49m\u001b[43m(\u001b[49m\n\u001b[0;32m      3\u001b[0m \u001b[43m    \u001b[49m\u001b[43mevents\u001b[49m\u001b[43m,\u001b[49m\n\u001b[0;32m      4\u001b[0m \u001b[43m    \u001b[49m\u001b[43mprob\u001b[49m\u001b[43m,\u001b[49m\n\u001b[0;32m      5\u001b[0m \u001b[43m    \u001b[49m\u001b[43mnum_classes\u001b[49m\u001b[38;5;241;43m=\u001b[39;49m\u001b[38;5;241;43m2\u001b[39;49m\u001b[43m,\u001b[49m\n\u001b[0;32m      6\u001b[0m \u001b[43m    \u001b[49m\u001b[43mpred\u001b[49m\u001b[38;5;241;43m=\u001b[39;49m\u001b[43mevents\u001b[49m\u001b[38;5;241;43m.\u001b[39;49m\u001b[43mside\u001b[49m\u001b[43m,\u001b[49m\n\u001b[0;32m      7\u001b[0m \u001b[43m    \u001b[49m\u001b[38;5;66;43;03m# step_size=step_size,\u001b[39;49;00m\n\u001b[0;32m      8\u001b[0m \u001b[43m    \u001b[49m\u001b[38;5;66;43;03m# average_active=average_active,\u001b[39;49;00m\n\u001b[0;32m      9\u001b[0m \u001b[43m)\u001b[49m\n\u001b[0;32m     10\u001b[0m \u001b[38;5;28msum\u001b[39m(bet_sizes_raw \u001b[38;5;241m==\u001b[39m \u001b[38;5;241m0\u001b[39m)\n",
      "File \u001b[1;32mc:\\Users\\JoeN\\Documents\\GitHub\\Machine-Learning-Blueprint\\notebooks\\..\\afml\\bet_sizing\\bet_sizing.py:46\u001b[0m, in \u001b[0;36mbet_size_probability\u001b[1;34m(events, prob, num_classes, pred, step_size, average_active)\u001b[0m\n\u001b[0;32m     23\u001b[0m \u001b[38;5;28;01mdef\u001b[39;00m\u001b[38;5;250m \u001b[39m\u001b[38;5;21mbet_size_probability\u001b[39m(\n\u001b[0;32m     24\u001b[0m     events,\n\u001b[0;32m     25\u001b[0m     prob,\n\u001b[1;32m   (...)\u001b[0m\n\u001b[0;32m     29\u001b[0m     average_active\u001b[38;5;241m=\u001b[39m\u001b[38;5;28;01mFalse\u001b[39;00m,\n\u001b[0;32m     30\u001b[0m ):\n\u001b[0;32m     31\u001b[0m \u001b[38;5;250m    \u001b[39m\u001b[38;5;124;03m\"\"\"\u001b[39;00m\n\u001b[0;32m     32\u001b[0m \u001b[38;5;124;03m    Calculates the bet size using the predicted probability. Note that if 'average_active' is True, the returned\u001b[39;00m\n\u001b[0;32m     33\u001b[0m \u001b[38;5;124;03m    pandas.Series will be twice the length of the original since the average is calculated at each bet's open and close.\u001b[39;00m\n\u001b[1;32m   (...)\u001b[0m\n\u001b[0;32m     44\u001b[0m \u001b[38;5;124;03m    :return: (pandas.Series) The bet size, with the time index.\u001b[39;00m\n\u001b[0;32m     45\u001b[0m \u001b[38;5;124;03m    \"\"\"\u001b[39;00m\n\u001b[1;32m---> 46\u001b[0m     signal_0 \u001b[38;5;241m=\u001b[39m \u001b[43mget_signal\u001b[49m\u001b[43m(\u001b[49m\u001b[43mprob\u001b[49m\u001b[43m,\u001b[49m\u001b[43m \u001b[49m\u001b[43mnum_classes\u001b[49m\u001b[43m,\u001b[49m\u001b[43m \u001b[49m\u001b[43mpred\u001b[49m\u001b[43m)\u001b[49m\n\u001b[0;32m     47\u001b[0m     events_0 \u001b[38;5;241m=\u001b[39m signal_0\u001b[38;5;241m.\u001b[39mto_frame(\u001b[38;5;124m\"\u001b[39m\u001b[38;5;124msignal\u001b[39m\u001b[38;5;124m\"\u001b[39m)\u001b[38;5;241m.\u001b[39mjoin(events[\u001b[38;5;124m\"\u001b[39m\u001b[38;5;124mt1\u001b[39m\u001b[38;5;124m\"\u001b[39m], how\u001b[38;5;241m=\u001b[39m\u001b[38;5;124m\"\u001b[39m\u001b[38;5;124mleft\u001b[39m\u001b[38;5;124m\"\u001b[39m)\n\u001b[0;32m     48\u001b[0m     \u001b[38;5;28;01mif\u001b[39;00m average_active:\n",
      "File \u001b[1;32mc:\\Users\\JoeN\\Documents\\GitHub\\Machine-Learning-Blueprint\\notebooks\\..\\afml\\bet_sizing\\ch10_snippets.py:38\u001b[0m, in \u001b[0;36mget_signal\u001b[1;34m(prob, num_classes, pred)\u001b[0m\n\u001b[0;32m     35\u001b[0m \u001b[38;5;66;03m# Allow for bet size to be returned with or without side.\u001b[39;00m\n\u001b[0;32m     36\u001b[0m \u001b[38;5;28;01mif\u001b[39;00m \u001b[38;5;129;01mnot\u001b[39;00m \u001b[38;5;28misinstance\u001b[39m(pred, \u001b[38;5;28mtype\u001b[39m(\u001b[38;5;28;01mNone\u001b[39;00m)):\n\u001b[0;32m     37\u001b[0m     \u001b[38;5;66;03m# signal = side * size\u001b[39;00m\n\u001b[1;32m---> 38\u001b[0m     bet_sizes \u001b[38;5;241m=\u001b[39m \u001b[43mpred\u001b[49m\u001b[43m \u001b[49m\u001b[38;5;241;43m*\u001b[39;49m\u001b[43m \u001b[49m\u001b[43m(\u001b[49m\u001b[38;5;241;43m2\u001b[39;49m\u001b[43m \u001b[49m\u001b[38;5;241;43m*\u001b[39;49m\u001b[43m \u001b[49m\u001b[43mnorm\u001b[49m\u001b[38;5;241;43m.\u001b[39;49m\u001b[43mcdf\u001b[49m\u001b[43m(\u001b[49m\u001b[43mbet_sizes\u001b[49m\u001b[43m)\u001b[49m\u001b[43m \u001b[49m\u001b[38;5;241;43m-\u001b[39;49m\u001b[43m \u001b[49m\u001b[38;5;241;43m1\u001b[39;49m\u001b[43m)\u001b[49m\n\u001b[0;32m     39\u001b[0m \u001b[38;5;28;01melse\u001b[39;00m:\n\u001b[0;32m     40\u001b[0m     \u001b[38;5;66;03m# signal = size only\u001b[39;00m\n\u001b[0;32m     41\u001b[0m     bet_sizes \u001b[38;5;241m=\u001b[39m bet_sizes\u001b[38;5;241m.\u001b[39mapply(\u001b[38;5;28;01mlambda\u001b[39;00m s: \u001b[38;5;241m2\u001b[39m \u001b[38;5;241m*\u001b[39m norm\u001b[38;5;241m.\u001b[39mcdf(s) \u001b[38;5;241m-\u001b[39m \u001b[38;5;241m1\u001b[39m)\n",
      "File \u001b[1;32mc:\\Users\\JoeN\\miniforge3\\envs\\mlfinlab_env\\lib\\site-packages\\pandas\\core\\ops\\common.py:76\u001b[0m, in \u001b[0;36m_unpack_zerodim_and_defer.<locals>.new_method\u001b[1;34m(self, other)\u001b[0m\n\u001b[0;32m     72\u001b[0m             \u001b[38;5;28;01mreturn\u001b[39;00m \u001b[38;5;28mNotImplemented\u001b[39m\n\u001b[0;32m     74\u001b[0m other \u001b[38;5;241m=\u001b[39m item_from_zerodim(other)\n\u001b[1;32m---> 76\u001b[0m \u001b[38;5;28;01mreturn\u001b[39;00m \u001b[43mmethod\u001b[49m\u001b[43m(\u001b[49m\u001b[38;5;28;43mself\u001b[39;49m\u001b[43m,\u001b[49m\u001b[43m \u001b[49m\u001b[43mother\u001b[49m\u001b[43m)\u001b[49m\n",
      "File \u001b[1;32mc:\\Users\\JoeN\\miniforge3\\envs\\mlfinlab_env\\lib\\site-packages\\pandas\\core\\arraylike.py:202\u001b[0m, in \u001b[0;36mOpsMixin.__mul__\u001b[1;34m(self, other)\u001b[0m\n\u001b[0;32m    200\u001b[0m \u001b[38;5;129m@unpack_zerodim_and_defer\u001b[39m(\u001b[38;5;124m\"\u001b[39m\u001b[38;5;124m__mul__\u001b[39m\u001b[38;5;124m\"\u001b[39m)\n\u001b[0;32m    201\u001b[0m \u001b[38;5;28;01mdef\u001b[39;00m\u001b[38;5;250m \u001b[39m\u001b[38;5;21m__mul__\u001b[39m(\u001b[38;5;28mself\u001b[39m, other):\n\u001b[1;32m--> 202\u001b[0m     \u001b[38;5;28;01mreturn\u001b[39;00m \u001b[38;5;28;43mself\u001b[39;49m\u001b[38;5;241;43m.\u001b[39;49m\u001b[43m_arith_method\u001b[49m\u001b[43m(\u001b[49m\u001b[43mother\u001b[49m\u001b[43m,\u001b[49m\u001b[43m \u001b[49m\u001b[43moperator\u001b[49m\u001b[38;5;241;43m.\u001b[39;49m\u001b[43mmul\u001b[49m\u001b[43m)\u001b[49m\n",
      "File \u001b[1;32mc:\\Users\\JoeN\\miniforge3\\envs\\mlfinlab_env\\lib\\site-packages\\pandas\\core\\series.py:6135\u001b[0m, in \u001b[0;36mSeries._arith_method\u001b[1;34m(self, other, op)\u001b[0m\n\u001b[0;32m   6133\u001b[0m \u001b[38;5;28;01mdef\u001b[39;00m\u001b[38;5;250m \u001b[39m\u001b[38;5;21m_arith_method\u001b[39m(\u001b[38;5;28mself\u001b[39m, other, op):\n\u001b[0;32m   6134\u001b[0m     \u001b[38;5;28mself\u001b[39m, other \u001b[38;5;241m=\u001b[39m \u001b[38;5;28mself\u001b[39m\u001b[38;5;241m.\u001b[39m_align_for_op(other)\n\u001b[1;32m-> 6135\u001b[0m     \u001b[38;5;28;01mreturn\u001b[39;00m \u001b[43mbase\u001b[49m\u001b[38;5;241;43m.\u001b[39;49m\u001b[43mIndexOpsMixin\u001b[49m\u001b[38;5;241;43m.\u001b[39;49m\u001b[43m_arith_method\u001b[49m\u001b[43m(\u001b[49m\u001b[38;5;28;43mself\u001b[39;49m\u001b[43m,\u001b[49m\u001b[43m \u001b[49m\u001b[43mother\u001b[49m\u001b[43m,\u001b[49m\u001b[43m \u001b[49m\u001b[43mop\u001b[49m\u001b[43m)\u001b[49m\n",
      "File \u001b[1;32mc:\\Users\\JoeN\\miniforge3\\envs\\mlfinlab_env\\lib\\site-packages\\pandas\\core\\base.py:1382\u001b[0m, in \u001b[0;36mIndexOpsMixin._arith_method\u001b[1;34m(self, other, op)\u001b[0m\n\u001b[0;32m   1379\u001b[0m     rvalues \u001b[38;5;241m=\u001b[39m np\u001b[38;5;241m.\u001b[39marange(rvalues\u001b[38;5;241m.\u001b[39mstart, rvalues\u001b[38;5;241m.\u001b[39mstop, rvalues\u001b[38;5;241m.\u001b[39mstep)\n\u001b[0;32m   1381\u001b[0m \u001b[38;5;28;01mwith\u001b[39;00m np\u001b[38;5;241m.\u001b[39merrstate(\u001b[38;5;28mall\u001b[39m\u001b[38;5;241m=\u001b[39m\u001b[38;5;124m\"\u001b[39m\u001b[38;5;124mignore\u001b[39m\u001b[38;5;124m\"\u001b[39m):\n\u001b[1;32m-> 1382\u001b[0m     result \u001b[38;5;241m=\u001b[39m \u001b[43mops\u001b[49m\u001b[38;5;241;43m.\u001b[39;49m\u001b[43marithmetic_op\u001b[49m\u001b[43m(\u001b[49m\u001b[43mlvalues\u001b[49m\u001b[43m,\u001b[49m\u001b[43m \u001b[49m\u001b[43mrvalues\u001b[49m\u001b[43m,\u001b[49m\u001b[43m \u001b[49m\u001b[43mop\u001b[49m\u001b[43m)\u001b[49m\n\u001b[0;32m   1384\u001b[0m \u001b[38;5;28;01mreturn\u001b[39;00m \u001b[38;5;28mself\u001b[39m\u001b[38;5;241m.\u001b[39m_construct_result(result, name\u001b[38;5;241m=\u001b[39mres_name)\n",
      "File \u001b[1;32mc:\\Users\\JoeN\\miniforge3\\envs\\mlfinlab_env\\lib\\site-packages\\pandas\\core\\ops\\array_ops.py:283\u001b[0m, in \u001b[0;36marithmetic_op\u001b[1;34m(left, right, op)\u001b[0m\n\u001b[0;32m    279\u001b[0m     _bool_arith_check(op, left, right)  \u001b[38;5;66;03m# type: ignore[arg-type]\u001b[39;00m\n\u001b[0;32m    281\u001b[0m     \u001b[38;5;66;03m# error: Argument 1 to \"_na_arithmetic_op\" has incompatible type\u001b[39;00m\n\u001b[0;32m    282\u001b[0m     \u001b[38;5;66;03m# \"Union[ExtensionArray, ndarray[Any, Any]]\"; expected \"ndarray[Any, Any]\"\u001b[39;00m\n\u001b[1;32m--> 283\u001b[0m     res_values \u001b[38;5;241m=\u001b[39m \u001b[43m_na_arithmetic_op\u001b[49m\u001b[43m(\u001b[49m\u001b[43mleft\u001b[49m\u001b[43m,\u001b[49m\u001b[43m \u001b[49m\u001b[43mright\u001b[49m\u001b[43m,\u001b[49m\u001b[43m \u001b[49m\u001b[43mop\u001b[49m\u001b[43m)\u001b[49m  \u001b[38;5;66;03m# type: ignore[arg-type]\u001b[39;00m\n\u001b[0;32m    285\u001b[0m \u001b[38;5;28;01mreturn\u001b[39;00m res_values\n",
      "File \u001b[1;32mc:\\Users\\JoeN\\miniforge3\\envs\\mlfinlab_env\\lib\\site-packages\\pandas\\core\\ops\\array_ops.py:218\u001b[0m, in \u001b[0;36m_na_arithmetic_op\u001b[1;34m(left, right, op, is_cmp)\u001b[0m\n\u001b[0;32m    215\u001b[0m     func \u001b[38;5;241m=\u001b[39m partial(expressions\u001b[38;5;241m.\u001b[39mevaluate, op)\n\u001b[0;32m    217\u001b[0m \u001b[38;5;28;01mtry\u001b[39;00m:\n\u001b[1;32m--> 218\u001b[0m     result \u001b[38;5;241m=\u001b[39m \u001b[43mfunc\u001b[49m\u001b[43m(\u001b[49m\u001b[43mleft\u001b[49m\u001b[43m,\u001b[49m\u001b[43m \u001b[49m\u001b[43mright\u001b[49m\u001b[43m)\u001b[49m\n\u001b[0;32m    219\u001b[0m \u001b[38;5;28;01mexcept\u001b[39;00m \u001b[38;5;167;01mTypeError\u001b[39;00m:\n\u001b[0;32m    220\u001b[0m     \u001b[38;5;28;01mif\u001b[39;00m \u001b[38;5;129;01mnot\u001b[39;00m is_cmp \u001b[38;5;129;01mand\u001b[39;00m (\n\u001b[0;32m    221\u001b[0m         left\u001b[38;5;241m.\u001b[39mdtype \u001b[38;5;241m==\u001b[39m \u001b[38;5;28mobject\u001b[39m \u001b[38;5;129;01mor\u001b[39;00m \u001b[38;5;28mgetattr\u001b[39m(right, \u001b[38;5;124m\"\u001b[39m\u001b[38;5;124mdtype\u001b[39m\u001b[38;5;124m\"\u001b[39m, \u001b[38;5;28;01mNone\u001b[39;00m) \u001b[38;5;241m==\u001b[39m \u001b[38;5;28mobject\u001b[39m\n\u001b[0;32m    222\u001b[0m     ):\n\u001b[1;32m   (...)\u001b[0m\n\u001b[0;32m    225\u001b[0m         \u001b[38;5;66;03m# Don't do this for comparisons, as that will handle complex numbers\u001b[39;00m\n\u001b[0;32m    226\u001b[0m         \u001b[38;5;66;03m#  incorrectly, see GH#32047\u001b[39;00m\n",
      "File \u001b[1;32mc:\\Users\\JoeN\\miniforge3\\envs\\mlfinlab_env\\lib\\site-packages\\pandas\\core\\computation\\expressions.py:242\u001b[0m, in \u001b[0;36mevaluate\u001b[1;34m(op, a, b, use_numexpr)\u001b[0m\n\u001b[0;32m    239\u001b[0m \u001b[38;5;28;01mif\u001b[39;00m op_str \u001b[38;5;129;01mis\u001b[39;00m \u001b[38;5;129;01mnot\u001b[39;00m \u001b[38;5;28;01mNone\u001b[39;00m:\n\u001b[0;32m    240\u001b[0m     \u001b[38;5;28;01mif\u001b[39;00m use_numexpr:\n\u001b[0;32m    241\u001b[0m         \u001b[38;5;66;03m# error: \"None\" not callable\u001b[39;00m\n\u001b[1;32m--> 242\u001b[0m         \u001b[38;5;28;01mreturn\u001b[39;00m \u001b[43m_evaluate\u001b[49m\u001b[43m(\u001b[49m\u001b[43mop\u001b[49m\u001b[43m,\u001b[49m\u001b[43m \u001b[49m\u001b[43mop_str\u001b[49m\u001b[43m,\u001b[49m\u001b[43m \u001b[49m\u001b[43ma\u001b[49m\u001b[43m,\u001b[49m\u001b[43m \u001b[49m\u001b[43mb\u001b[49m\u001b[43m)\u001b[49m  \u001b[38;5;66;03m# type: ignore[misc]\u001b[39;00m\n\u001b[0;32m    243\u001b[0m \u001b[38;5;28;01mreturn\u001b[39;00m _evaluate_standard(op, op_str, a, b)\n",
      "File \u001b[1;32mc:\\Users\\JoeN\\miniforge3\\envs\\mlfinlab_env\\lib\\site-packages\\pandas\\core\\computation\\expressions.py:73\u001b[0m, in \u001b[0;36m_evaluate_standard\u001b[1;34m(op, op_str, a, b)\u001b[0m\n\u001b[0;32m     71\u001b[0m \u001b[38;5;28;01mif\u001b[39;00m _TEST_MODE:\n\u001b[0;32m     72\u001b[0m     _store_test_result(\u001b[38;5;28;01mFalse\u001b[39;00m)\n\u001b[1;32m---> 73\u001b[0m \u001b[38;5;28;01mreturn\u001b[39;00m \u001b[43mop\u001b[49m\u001b[43m(\u001b[49m\u001b[43ma\u001b[49m\u001b[43m,\u001b[49m\u001b[43m \u001b[49m\u001b[43mb\u001b[49m\u001b[43m)\u001b[49m\n",
      "\u001b[1;31mValueError\u001b[0m: operands could not be broadcast together with shapes (23870,) (23876,) "
     ]
    }
   ],
   "source": [
    "# # --- Bet Sizing Logic ---\n",
    "bet_sizes_raw = bet_size_probability(\n",
    "    events,\n",
    "    prob,\n",
    "    num_classes=2,\n",
    "    pred=events.side,\n",
    "    # step_size=step_size,\n",
    "    # average_active=average_active,\n",
    ")\n",
    "sum(bet_sizes_raw == 0)"
   ]
  },
  {
   "cell_type": "code",
   "execution_count": 29,
   "id": "eff86151",
   "metadata": {},
   "outputs": [
    {
     "ename": "ValueError",
     "evalue": "Length mismatch: Expected axis has 515 elements, new values have 516 elements",
     "output_type": "error",
     "traceback": [
      "\u001b[1;31m---------------------------------------------------------------------------\u001b[0m",
      "\u001b[1;31mValueError\u001b[0m                                Traceback (most recent call last)",
      "Cell \u001b[1;32mIn[29], line 15\u001b[0m\n\u001b[0;32m      3\u001b[0m \u001b[38;5;66;03m# confidence_threshold = get_optimal_threshold(model)\u001b[39;00m\n\u001b[0;32m      5\u001b[0m events \u001b[38;5;241m=\u001b[39m triple_barrier_labels(\n\u001b[0;32m      6\u001b[0m     close, target, t_events, vertical_barrier_times, \n\u001b[0;32m      7\u001b[0m     side_prediction\u001b[38;5;241m=\u001b[39mbb_side, \n\u001b[1;32m   (...)\u001b[0m\n\u001b[0;32m     11\u001b[0m     verbose\u001b[38;5;241m=\u001b[39m\u001b[38;5;28;01mFalse\u001b[39;00m,\n\u001b[0;32m     12\u001b[0m     )\n\u001b[1;32m---> 15\u001b[0m results \u001b[38;5;241m=\u001b[39m \u001b[43mrun_meta_labeling_analysis\u001b[49m\u001b[43m(\u001b[49m\n\u001b[0;32m     16\u001b[0m \u001b[43m    \u001b[49m\u001b[43mdata_index\u001b[49m\u001b[43m,\u001b[49m\n\u001b[0;32m     17\u001b[0m \u001b[43m    \u001b[49m\u001b[43mevents\u001b[49m\u001b[43m,\u001b[49m\n\u001b[0;32m     18\u001b[0m \u001b[43m    \u001b[49m\u001b[43mprob\u001b[49m\u001b[43m,\u001b[49m\n\u001b[0;32m     19\u001b[0m \u001b[43m    \u001b[49m\u001b[43mconfidence_threshold\u001b[49m\u001b[38;5;241;43m=\u001b[39;49m\u001b[38;5;241;43m0.5\u001b[39;49m\u001b[43m,\u001b[49m\n\u001b[0;32m     20\u001b[0m \u001b[43m    \u001b[49m\u001b[43mstrategy_name\u001b[49m\u001b[38;5;241;43m=\u001b[39;49m\u001b[43mbb_strategy\u001b[49m\u001b[38;5;241;43m.\u001b[39;49m\u001b[43mget_strategy_name\u001b[49m\u001b[43m(\u001b[49m\u001b[43m)\u001b[49m\n\u001b[0;32m     21\u001b[0m \u001b[43m    \u001b[49m\u001b[43m)\u001b[49m\n\u001b[0;32m     22\u001b[0m bb_model_results_time[\u001b[38;5;124mf\u001b[39m\u001b[38;5;124m\"\u001b[39m\u001b[38;5;124mtriple_barrier_\u001b[39m\u001b[38;5;132;01m{\u001b[39;00mbb_pt_barrier\u001b[38;5;132;01m}\u001b[39;00m\u001b[38;5;124m_\u001b[39m\u001b[38;5;132;01m{\u001b[39;00mbb_sl_barrier\u001b[38;5;132;01m}\u001b[39;00m\u001b[38;5;124m_\u001b[39m\u001b[38;5;132;01m{\u001b[39;00mbb_time_horizon\u001b[38;5;132;01m}\u001b[39;00m\u001b[38;5;124m\"\u001b[39m] \u001b[38;5;241m=\u001b[39m results\n",
      "File \u001b[1;32mc:\\Users\\JoeN\\Documents\\GitHub\\Machine-Learning-Blueprint\\notebooks\\..\\afml\\backtest_statistics\\performance_analysis.py:885\u001b[0m, in \u001b[0;36mrun_meta_labeling_analysis\u001b[1;34m(data_index, events, prob, confidence_threshold, trading_days_per_year, trading_hours_per_day, strategy_name, average_active, step_size, save_path)\u001b[0m\n\u001b[0;32m    859\u001b[0m \u001b[38;5;28;01mdef\u001b[39;00m\u001b[38;5;250m \u001b[39m\u001b[38;5;21mrun_meta_labeling_analysis\u001b[39m(\n\u001b[0;32m    860\u001b[0m     data_index: pd\u001b[38;5;241m.\u001b[39mDatetimeIndex,\n\u001b[0;32m    861\u001b[0m     events: pd\u001b[38;5;241m.\u001b[39mDataFrame,\n\u001b[1;32m   (...)\u001b[0m\n\u001b[0;32m    869\u001b[0m     save_path: \u001b[38;5;28mstr\u001b[39m \u001b[38;5;241m=\u001b[39m \u001b[38;5;28;01mNone\u001b[39;00m,\n\u001b[0;32m    870\u001b[0m ):\n\u001b[0;32m    871\u001b[0m \u001b[38;5;250m    \u001b[39m\u001b[38;5;124;03m\"\"\"\u001b[39;00m\n\u001b[0;32m    872\u001b[0m \u001b[38;5;124;03m    A wrapper function to run a complete meta-labeling analysis.\u001b[39;00m\n\u001b[0;32m    873\u001b[0m \n\u001b[1;32m   (...)\u001b[0m\n\u001b[0;32m    883\u001b[0m \u001b[38;5;124;03m        save_path: If provided, saves the output to this file path\u001b[39;00m\n\u001b[0;32m    884\u001b[0m \u001b[38;5;124;03m    \"\"\"\u001b[39;00m\n\u001b[1;32m--> 885\u001b[0m     results \u001b[38;5;241m=\u001b[39m \u001b[43mevaluate_meta_labeling_performance\u001b[49m\u001b[43m(\u001b[49m\n\u001b[0;32m    886\u001b[0m \u001b[43m        \u001b[49m\u001b[43mdata_index\u001b[49m\u001b[38;5;241;43m=\u001b[39;49m\u001b[43mdata_index\u001b[49m\u001b[43m,\u001b[49m\n\u001b[0;32m    887\u001b[0m \u001b[43m        \u001b[49m\u001b[43mevents\u001b[49m\u001b[38;5;241;43m=\u001b[39;49m\u001b[43mevents\u001b[49m\u001b[43m,\u001b[49m\n\u001b[0;32m    888\u001b[0m \u001b[43m        \u001b[49m\u001b[43mprob\u001b[49m\u001b[38;5;241;43m=\u001b[39;49m\u001b[43mprob\u001b[49m\u001b[43m,\u001b[49m\n\u001b[0;32m    889\u001b[0m \u001b[43m        \u001b[49m\u001b[43mconfidence_threshold\u001b[49m\u001b[38;5;241;43m=\u001b[39;49m\u001b[43mconfidence_threshold\u001b[49m\u001b[43m,\u001b[49m\n\u001b[0;32m    890\u001b[0m \u001b[43m        \u001b[49m\u001b[43mtrading_days_per_year\u001b[49m\u001b[38;5;241;43m=\u001b[39;49m\u001b[43mtrading_days_per_year\u001b[49m\u001b[43m,\u001b[49m\n\u001b[0;32m    891\u001b[0m \u001b[43m        \u001b[49m\u001b[43mtrading_hours_per_day\u001b[49m\u001b[38;5;241;43m=\u001b[39;49m\u001b[43mtrading_hours_per_day\u001b[49m\u001b[43m,\u001b[49m\n\u001b[0;32m    892\u001b[0m \u001b[43m        \u001b[49m\u001b[43mstrategy_name\u001b[49m\u001b[38;5;241;43m=\u001b[39;49m\u001b[43mstrategy_name\u001b[49m\u001b[43m,\u001b[49m\n\u001b[0;32m    893\u001b[0m \u001b[43m        \u001b[49m\u001b[43mstep_size\u001b[49m\u001b[38;5;241;43m=\u001b[39;49m\u001b[43mstep_size\u001b[49m\u001b[43m,\u001b[49m\n\u001b[0;32m    894\u001b[0m \u001b[43m        \u001b[49m\u001b[43maverage_active\u001b[49m\u001b[38;5;241;43m=\u001b[39;49m\u001b[43maverage_active\u001b[49m\u001b[43m,\u001b[49m\n\u001b[0;32m    895\u001b[0m \u001b[43m    \u001b[49m\u001b[43m)\u001b[49m\n\u001b[0;32m    897\u001b[0m     print_meta_labeling_comparison(results, save_path)\n\u001b[0;32m    898\u001b[0m     \u001b[38;5;28;01mreturn\u001b[39;00m results\n",
      "File \u001b[1;32mc:\\Users\\JoeN\\Documents\\GitHub\\Machine-Learning-Blueprint\\notebooks\\..\\afml\\backtest_statistics\\performance_analysis.py:581\u001b[0m, in \u001b[0;36mevaluate_meta_labeling_performance\u001b[1;34m(data_index, events, prob, confidence_threshold, trading_days_per_year, trading_hours_per_day, strategy_name, step_size, average_active)\u001b[0m\n\u001b[0;32m    573\u001b[0m \u001b[38;5;66;03m# --- 3. Performance Calculation ---\u001b[39;00m\n\u001b[0;32m    574\u001b[0m primary_metrics \u001b[38;5;241m=\u001b[39m calculate_performance_metrics(\n\u001b[0;32m    575\u001b[0m     returns\u001b[38;5;241m=\u001b[39mprimary_returns,\n\u001b[0;32m    576\u001b[0m     data_index\u001b[38;5;241m=\u001b[39mdata_index,\n\u001b[1;32m   (...)\u001b[0m\n\u001b[0;32m    579\u001b[0m     trading_hours_per_day\u001b[38;5;241m=\u001b[39mtrading_hours_per_day,\n\u001b[0;32m    580\u001b[0m )\n\u001b[1;32m--> 581\u001b[0m meta_metrics \u001b[38;5;241m=\u001b[39m \u001b[43mcalculate_performance_metrics\u001b[49m\u001b[43m(\u001b[49m\n\u001b[0;32m    582\u001b[0m \u001b[43m    \u001b[49m\u001b[43mreturns\u001b[49m\u001b[38;5;241;43m=\u001b[39;49m\u001b[43mmeta_returns\u001b[49m\u001b[43m,\u001b[49m\n\u001b[0;32m    583\u001b[0m \u001b[43m    \u001b[49m\u001b[43mdata_index\u001b[49m\u001b[38;5;241;43m=\u001b[39;49m\u001b[43mdata_index\u001b[49m\u001b[43m,\u001b[49m\n\u001b[0;32m    584\u001b[0m \u001b[43m    \u001b[49m\u001b[43mpositions\u001b[49m\u001b[38;5;241;43m=\u001b[39;49m\u001b[43mside\u001b[49m\u001b[38;5;241;43m.\u001b[39;49m\u001b[43mloc\u001b[49m\u001b[43m[\u001b[49m\u001b[43mactive_signal_indices\u001b[49m\u001b[43m]\u001b[49m\u001b[43m,\u001b[49m\n\u001b[0;32m    585\u001b[0m \u001b[43m    \u001b[49m\u001b[43mtrading_days_per_year\u001b[49m\u001b[38;5;241;43m=\u001b[39;49m\u001b[43mtrading_days_per_year\u001b[49m\u001b[43m,\u001b[49m\n\u001b[0;32m    586\u001b[0m \u001b[43m    \u001b[49m\u001b[43mtrading_hours_per_day\u001b[49m\u001b[38;5;241;43m=\u001b[39;49m\u001b[43mtrading_hours_per_day\u001b[49m\u001b[43m,\u001b[49m\n\u001b[0;32m    587\u001b[0m \u001b[43m\u001b[49m\u001b[43m)\u001b[49m\n\u001b[0;32m    589\u001b[0m \u001b[38;5;66;03m# --- 4. Meta-Specific Metrics ---\u001b[39;00m\n\u001b[0;32m    590\u001b[0m total_signals \u001b[38;5;241m=\u001b[39m \u001b[38;5;28mlen\u001b[39m(events)\n",
      "File \u001b[1;32mc:\\Users\\JoeN\\Documents\\GitHub\\Machine-Learning-Blueprint\\notebooks\\..\\afml\\backtest_statistics\\performance_analysis.py:422\u001b[0m, in \u001b[0;36mcalculate_performance_metrics\u001b[1;34m(returns, data_index, positions, trading_days_per_year, trading_hours_per_day)\u001b[0m\n\u001b[0;32m    399\u001b[0m metrics \u001b[38;5;241m=\u001b[39m {\n\u001b[0;32m    400\u001b[0m     \u001b[38;5;124m\"\u001b[39m\u001b[38;5;124mtotal_return\u001b[39m\u001b[38;5;124m\"\u001b[39m: total_return,\n\u001b[0;32m    401\u001b[0m     \u001b[38;5;124m\"\u001b[39m\u001b[38;5;124mannualized_return\u001b[39m\u001b[38;5;124m\"\u001b[39m: annualized_return,\n\u001b[1;32m   (...)\u001b[0m\n\u001b[0;32m    418\u001b[0m     \u001b[38;5;124m\"\u001b[39m\u001b[38;5;124mtime_concentration\u001b[39m\u001b[38;5;124m\"\u001b[39m: time_concentration,\n\u001b[0;32m    419\u001b[0m }\n\u001b[0;32m    421\u001b[0m \u001b[38;5;66;03m# --- Drawdown Stats ---\u001b[39;00m\n\u001b[1;32m--> 422\u001b[0m drawdown, time_under_water \u001b[38;5;241m=\u001b[39m \u001b[43mdrawdown_and_time_under_water\u001b[49m\u001b[43m(\u001b[49m\u001b[43m(\u001b[49m\u001b[38;5;241;43m1\u001b[39;49m\u001b[43m \u001b[49m\u001b[38;5;241;43m+\u001b[39;49m\u001b[43m \u001b[49m\u001b[43mreturns\u001b[49m\u001b[43m)\u001b[49m\u001b[38;5;241;43m.\u001b[39;49m\u001b[43mcumprod\u001b[49m\u001b[43m(\u001b[49m\u001b[43m)\u001b[49m\u001b[43m)\u001b[49m\n\u001b[0;32m    423\u001b[0m drawdown_stats \u001b[38;5;241m=\u001b[39m {\n\u001b[0;32m    424\u001b[0m     \u001b[38;5;124m\"\u001b[39m\u001b[38;5;124mmax_drawdown\u001b[39m\u001b[38;5;124m\"\u001b[39m: drawdown\u001b[38;5;241m.\u001b[39mmax() \u001b[38;5;28;01mif\u001b[39;00m \u001b[38;5;129;01mnot\u001b[39;00m drawdown\u001b[38;5;241m.\u001b[39mempty \u001b[38;5;28;01melse\u001b[39;00m \u001b[38;5;241m0\u001b[39m,\n\u001b[0;32m    425\u001b[0m     \u001b[38;5;124m\"\u001b[39m\u001b[38;5;124mavg_drawdown\u001b[39m\u001b[38;5;124m\"\u001b[39m: drawdown\u001b[38;5;241m.\u001b[39mmean() \u001b[38;5;28;01mif\u001b[39;00m \u001b[38;5;129;01mnot\u001b[39;00m drawdown\u001b[38;5;241m.\u001b[39mempty \u001b[38;5;28;01melse\u001b[39;00m \u001b[38;5;241m0\u001b[39m,\n\u001b[1;32m   (...)\u001b[0m\n\u001b[0;32m    432\u001b[0m     \u001b[38;5;124m\"\u001b[39m\u001b[38;5;124mulcer_index\u001b[39m\u001b[38;5;124m\"\u001b[39m: np\u001b[38;5;241m.\u001b[39msqrt((drawdown\u001b[38;5;241m*\u001b[39m\u001b[38;5;241m*\u001b[39m\u001b[38;5;241m2\u001b[39m)\u001b[38;5;241m.\u001b[39mmean()) \u001b[38;5;28;01mif\u001b[39;00m \u001b[38;5;129;01mnot\u001b[39;00m drawdown\u001b[38;5;241m.\u001b[39mempty \u001b[38;5;28;01melse\u001b[39;00m \u001b[38;5;241m0\u001b[39m,\n\u001b[0;32m    433\u001b[0m }\n\u001b[0;32m    434\u001b[0m metrics\u001b[38;5;241m.\u001b[39mupdate(drawdown_stats)\n",
      "File \u001b[1;32mc:\\Users\\JoeN\\Documents\\GitHub\\Machine-Learning-Blueprint\\notebooks\\..\\afml\\backtest_statistics\\statistics.py:211\u001b[0m, in \u001b[0;36mdrawdown_and_time_under_water\u001b[1;34m(returns, dollars)\u001b[0m\n\u001b[0;32m    208\u001b[0m high_watermarks\u001b[38;5;241m.\u001b[39mcolumns \u001b[38;5;241m=\u001b[39m [\u001b[38;5;124m\"\u001b[39m\u001b[38;5;124mhwm\u001b[39m\u001b[38;5;124m\"\u001b[39m, \u001b[38;5;124m\"\u001b[39m\u001b[38;5;124mmin\u001b[39m\u001b[38;5;124m\"\u001b[39m]\n\u001b[0;32m    210\u001b[0m \u001b[38;5;66;03m# Time high watermark occurred\u001b[39;00m\n\u001b[1;32m--> 211\u001b[0m \u001b[43mhigh_watermarks\u001b[49m\u001b[38;5;241;43m.\u001b[39;49m\u001b[43mindex\u001b[49m \u001b[38;5;241m=\u001b[39m frame[\u001b[38;5;124m\"\u001b[39m\u001b[38;5;124mhwm\u001b[39m\u001b[38;5;124m\"\u001b[39m]\u001b[38;5;241m.\u001b[39mdrop_duplicates(keep\u001b[38;5;241m=\u001b[39m\u001b[38;5;124m\"\u001b[39m\u001b[38;5;124mfirst\u001b[39m\u001b[38;5;124m\"\u001b[39m)\u001b[38;5;241m.\u001b[39mindex\n\u001b[0;32m    213\u001b[0m \u001b[38;5;66;03m# Picking ones that had a drawdown after high watermark\u001b[39;00m\n\u001b[0;32m    214\u001b[0m high_watermarks \u001b[38;5;241m=\u001b[39m high_watermarks[high_watermarks[\u001b[38;5;124m\"\u001b[39m\u001b[38;5;124mhwm\u001b[39m\u001b[38;5;124m\"\u001b[39m] \u001b[38;5;241m>\u001b[39m high_watermarks[\u001b[38;5;124m\"\u001b[39m\u001b[38;5;124mmin\u001b[39m\u001b[38;5;124m\"\u001b[39m]]\n",
      "File \u001b[1;32mc:\\Users\\JoeN\\miniforge3\\envs\\mlfinlab_env\\lib\\site-packages\\pandas\\core\\generic.py:6313\u001b[0m, in \u001b[0;36mNDFrame.__setattr__\u001b[1;34m(self, name, value)\u001b[0m\n\u001b[0;32m   6311\u001b[0m \u001b[38;5;28;01mtry\u001b[39;00m:\n\u001b[0;32m   6312\u001b[0m     \u001b[38;5;28mobject\u001b[39m\u001b[38;5;241m.\u001b[39m\u001b[38;5;21m__getattribute__\u001b[39m(\u001b[38;5;28mself\u001b[39m, name)\n\u001b[1;32m-> 6313\u001b[0m     \u001b[38;5;28;01mreturn\u001b[39;00m \u001b[38;5;28;43mobject\u001b[39;49m\u001b[38;5;241;43m.\u001b[39;49m\u001b[38;5;21;43m__setattr__\u001b[39;49m\u001b[43m(\u001b[49m\u001b[38;5;28;43mself\u001b[39;49m\u001b[43m,\u001b[49m\u001b[43m \u001b[49m\u001b[43mname\u001b[49m\u001b[43m,\u001b[49m\u001b[43m \u001b[49m\u001b[43mvalue\u001b[49m\u001b[43m)\u001b[49m\n\u001b[0;32m   6314\u001b[0m \u001b[38;5;28;01mexcept\u001b[39;00m \u001b[38;5;167;01mAttributeError\u001b[39;00m:\n\u001b[0;32m   6315\u001b[0m     \u001b[38;5;28;01mpass\u001b[39;00m\n",
      "File \u001b[1;32mproperties.pyx:69\u001b[0m, in \u001b[0;36mpandas._libs.properties.AxisProperty.__set__\u001b[1;34m()\u001b[0m\n",
      "File \u001b[1;32mc:\\Users\\JoeN\\miniforge3\\envs\\mlfinlab_env\\lib\\site-packages\\pandas\\core\\generic.py:814\u001b[0m, in \u001b[0;36mNDFrame._set_axis\u001b[1;34m(self, axis, labels)\u001b[0m\n\u001b[0;32m    809\u001b[0m \u001b[38;5;250m\u001b[39m\u001b[38;5;124;03m\"\"\"\u001b[39;00m\n\u001b[0;32m    810\u001b[0m \u001b[38;5;124;03mThis is called from the cython code when we set the `index` attribute\u001b[39;00m\n\u001b[0;32m    811\u001b[0m \u001b[38;5;124;03mdirectly, e.g. `series.index = [1, 2, 3]`.\u001b[39;00m\n\u001b[0;32m    812\u001b[0m \u001b[38;5;124;03m\"\"\"\u001b[39;00m\n\u001b[0;32m    813\u001b[0m labels \u001b[38;5;241m=\u001b[39m ensure_index(labels)\n\u001b[1;32m--> 814\u001b[0m \u001b[38;5;28;43mself\u001b[39;49m\u001b[38;5;241;43m.\u001b[39;49m\u001b[43m_mgr\u001b[49m\u001b[38;5;241;43m.\u001b[39;49m\u001b[43mset_axis\u001b[49m\u001b[43m(\u001b[49m\u001b[43maxis\u001b[49m\u001b[43m,\u001b[49m\u001b[43m \u001b[49m\u001b[43mlabels\u001b[49m\u001b[43m)\u001b[49m\n\u001b[0;32m    815\u001b[0m \u001b[38;5;28mself\u001b[39m\u001b[38;5;241m.\u001b[39m_clear_item_cache()\n",
      "File \u001b[1;32mc:\\Users\\JoeN\\miniforge3\\envs\\mlfinlab_env\\lib\\site-packages\\pandas\\core\\internals\\managers.py:238\u001b[0m, in \u001b[0;36mBaseBlockManager.set_axis\u001b[1;34m(self, axis, new_labels)\u001b[0m\n\u001b[0;32m    236\u001b[0m \u001b[38;5;28;01mdef\u001b[39;00m\u001b[38;5;250m \u001b[39m\u001b[38;5;21mset_axis\u001b[39m(\u001b[38;5;28mself\u001b[39m, axis: AxisInt, new_labels: Index) \u001b[38;5;241m-\u001b[39m\u001b[38;5;241m>\u001b[39m \u001b[38;5;28;01mNone\u001b[39;00m:\n\u001b[0;32m    237\u001b[0m     \u001b[38;5;66;03m# Caller is responsible for ensuring we have an Index object.\u001b[39;00m\n\u001b[1;32m--> 238\u001b[0m     \u001b[38;5;28;43mself\u001b[39;49m\u001b[38;5;241;43m.\u001b[39;49m\u001b[43m_validate_set_axis\u001b[49m\u001b[43m(\u001b[49m\u001b[43maxis\u001b[49m\u001b[43m,\u001b[49m\u001b[43m \u001b[49m\u001b[43mnew_labels\u001b[49m\u001b[43m)\u001b[49m\n\u001b[0;32m    239\u001b[0m     \u001b[38;5;28mself\u001b[39m\u001b[38;5;241m.\u001b[39maxes[axis] \u001b[38;5;241m=\u001b[39m new_labels\n",
      "File \u001b[1;32mc:\\Users\\JoeN\\miniforge3\\envs\\mlfinlab_env\\lib\\site-packages\\pandas\\core\\internals\\base.py:98\u001b[0m, in \u001b[0;36mDataManager._validate_set_axis\u001b[1;34m(self, axis, new_labels)\u001b[0m\n\u001b[0;32m     95\u001b[0m     \u001b[38;5;28;01mpass\u001b[39;00m\n\u001b[0;32m     97\u001b[0m \u001b[38;5;28;01melif\u001b[39;00m new_len \u001b[38;5;241m!=\u001b[39m old_len:\n\u001b[1;32m---> 98\u001b[0m     \u001b[38;5;28;01mraise\u001b[39;00m \u001b[38;5;167;01mValueError\u001b[39;00m(\n\u001b[0;32m     99\u001b[0m         \u001b[38;5;124mf\u001b[39m\u001b[38;5;124m\"\u001b[39m\u001b[38;5;124mLength mismatch: Expected axis has \u001b[39m\u001b[38;5;132;01m{\u001b[39;00mold_len\u001b[38;5;132;01m}\u001b[39;00m\u001b[38;5;124m elements, new \u001b[39m\u001b[38;5;124m\"\u001b[39m\n\u001b[0;32m    100\u001b[0m         \u001b[38;5;124mf\u001b[39m\u001b[38;5;124m\"\u001b[39m\u001b[38;5;124mvalues have \u001b[39m\u001b[38;5;132;01m{\u001b[39;00mnew_len\u001b[38;5;132;01m}\u001b[39;00m\u001b[38;5;124m elements\u001b[39m\u001b[38;5;124m\"\u001b[39m\n\u001b[0;32m    101\u001b[0m     )\n",
      "\u001b[1;31mValueError\u001b[0m: Length mismatch: Expected axis has 515 elements, new values have 516 elements"
     ]
    }
   ],
   "source": [
    "model = model_bb_tbl_time\n",
    "prob = pd.Series(model.fit.predict_proba(X_test)[:, 1], index=X_test.index)\n",
    "# confidence_threshold = get_optimal_threshold(model)\n",
    "\n",
    "events = triple_barrier_labels(\n",
    "    close, target, t_events, vertical_barrier_times, \n",
    "    side_prediction=bb_side, \n",
    "    pt_sl=[bb_pt_barrier, bb_sl_barrier], \n",
    "    vertical_barrier_zero=False, \n",
    "    drop=False,\n",
    "    verbose=False,\n",
    "    )\n",
    "\n",
    "\n",
    "results = run_meta_labeling_analysis(\n",
    "    data_index,\n",
    "    events,\n",
    "    prob,\n",
    "    confidence_threshold=0.5,\n",
    "    strategy_name=bb_strategy.get_strategy_name()\n",
    "    )\n",
    "bb_model_results_time[f\"triple_barrier_{bb_pt_barrier}_{bb_sl_barrier}_{bb_time_horizon}\"] = results"
   ]
  },
  {
   "cell_type": "code",
   "execution_count": null,
   "id": "59830193",
   "metadata": {},
   "outputs": [],
   "source": [
    "model = model_bb_trend_time\n",
    "prob = pd.Series(model.fit.predict_proba(X_test)[:, 1], index=X_test.index)\n",
    "# confidence_threshold = get_optimal_threshold(model)\n",
    "\n",
    "results = run_meta_labeling_analysis(\n",
    "    data_index,\n",
    "    events,\n",
    "    prob,\n",
    "    confidence_threshold=0.5,\n",
    "    strategy_name=bb_strategy.get_strategy_name()\n",
    "    )\n",
    "bb_model_results_time[f\"trend_scanning_{volatility_threshold}\"] = results"
   ]
  },
  {
   "cell_type": "code",
   "execution_count": null,
   "id": "9c8e6d1e",
   "metadata": {},
   "outputs": [],
   "source": [
    "# # meta_positions = (prob > 0.44).astype(\"int8\")\n",
    "# # value_counts_data(meta_positions)\n",
    "# fit = model_bb_fh_time.fit\n",
    "# prob = pd.Series(fit.predict_proba(X_test)[:, 1], index=X_test.index)\n",
    "\n",
    "# bet_sizes_raw = bet_size_probability(\n",
    "#         events,\n",
    "#         prob,\n",
    "#         num_classes=2,\n",
    "#         pred=events['side'],\n",
    "#         step_size=0,\n",
    "#         average_active=0,\n",
    "#     )\n",
    "# bet_sizes_raw.describe()"
   ]
  },
  {
   "cell_type": "markdown",
   "id": "aa55c809",
   "metadata": {},
   "source": [
    "### Tick-Bars"
   ]
  },
  {
   "cell_type": "code",
   "execution_count": null,
   "id": "3193c28c",
   "metadata": {},
   "outputs": [],
   "source": [
    "bb_df = bb_tick_bars.loc[sample_start : sample_end]\n",
    "bb_side = bb_strategy.generate_signals(bb_tick_bars)\n",
    "close = bb_df.close\n",
    "\n",
    "# Volatility target for barriers\n",
    "vol_target = get_daily_vol(close, lookback=bb_period) * bb_vol_multiplier\n",
    "thres = vol_target.mean()\n",
    "print(f\"CUSUM filter threshold: {thres:.4%}\")\n",
    "\n",
    "t_events = cusum_filter(close, thres)\n",
    "t_events = t_events.intersection(bb_side[bb_side != 0].index)\n",
    "print(f\"t_events: {t_events.size:,}\")\n",
    "\n",
    "# Create vertical barriers\n",
    "# Ensure time horizon aligns with that of time-bars\n",
    "tm = int(\"\".join(x for x in list(bb_timeframe) if x.isnumeric()))\n",
    "bb_tick_horizon = bb_time_horizon * tm\n",
    "if bb_timeframe.startswith(\"H\"):\n",
    "    bb_tick_horizon *= 60\n",
    "elif bb_timeframe.startswith(\"D\"):\n",
    "    bb_tick_horizon *= 60 * 24\n",
    "\n",
    "h = timedelta(minutes=bb_tick_horizon)\n",
    "print(f\"Time Horizon: {h}\")\n",
    "vertical_barriers_bars = add_vertical_barrier(t_events, close, num_bars=bb_time_horizon)\n",
    "vertical_barriers_time = add_vertical_barrier(t_events, close, minutes=bb_tick_horizon)"
   ]
  },
  {
   "cell_type": "markdown",
   "id": "3c932964",
   "metadata": {},
   "source": [
    "#### Feature Engineering"
   ]
  },
  {
   "cell_type": "code",
   "execution_count": null,
   "id": "efc0fee8",
   "metadata": {},
   "outputs": [],
   "source": [
    "# No shifting b/c mean-reversion seems to benefit from contemporaneous information\n",
    "bb_feat = create_bollinger_features(bb_tick_bars, bb_lookback, bb_period, bb_std)\n",
    "bb_feat.info()\n",
    "\n",
    "bb_feat_tick = bb_feat.copy()\n",
    "# not_stationary = is_stationary(bb_feat_tick.dropna())"
   ]
  },
  {
   "cell_type": "markdown",
   "id": "47e79437",
   "metadata": {},
   "source": [
    "#### Fixed-Time Horizon Method"
   ]
  },
  {
   "cell_type": "code",
   "execution_count": null,
   "id": "6f4db380",
   "metadata": {},
   "outputs": [],
   "source": [
    "bb_events_fh = triple_barrier_labels(\n",
    "    close=close,\n",
    "    target=vol_target,\n",
    "    t_events=t_events,\n",
    "    pt_sl=[0,0],\n",
    "    min_ret=0,\n",
    "    vertical_barrier_times=vertical_barriers_bars,\n",
    "    side_prediction=bb_side.loc[close.index],\n",
    "    vertical_barrier_zero=True,\n",
    "    verbose=False,\n",
    ")\n",
    "bb_events_fh = get_event_weights(bb_events_fh, close)\n",
    "print(f\"Fixed-Time Horizon (h={bb_time_horizon}):\")\n",
    "value_counts_data(bb_events_fh.bin, verbose=True)\n",
    "\n",
    "bb_events_fh_tick = bb_events_fh.copy()\n",
    "\n",
    "ret = bb_events_fh.ret\n",
    "sr_bb_fh = ret.mean() / ret.std()\n",
    "av_uniqueness = bb_events_fh['tW'].mean()\n",
    "print(f\"\\nAverage Uniqueness: {av_uniqueness:.4f}\")"
   ]
  },
  {
   "cell_type": "code",
   "execution_count": null,
   "id": "19bac31c",
   "metadata": {},
   "outputs": [],
   "source": [
    "bb_events_fh = triple_barrier_labels(\n",
    "    close=close,\n",
    "    target=vol_target,\n",
    "    t_events=t_events,\n",
    "    pt_sl=[0,0],\n",
    "    min_ret=0,\n",
    "    vertical_barrier_times=vertical_barriers_time,\n",
    "    side_prediction=bb_side.loc[close.index],\n",
    "    vertical_barrier_zero=True,\n",
    "    verbose=False,\n",
    ")\n",
    "bb_events_fh = get_event_weights(bb_events_fh, close)\n",
    "print(f\"Fixed-Time Horizon (h={h}):\")\n",
    "value_counts_data(bb_events_fh.bin, verbose=True)\n",
    "\n",
    "bb_events_fh_tick1 = bb_events_fh.copy()\n",
    "\n",
    "ret = bb_events_fh.ret\n",
    "sr_bb_fh = ret.mean() / ret.std()\n",
    "av_uniqueness = bb_events_fh['tW'].mean()\n",
    "print(f\"\\nAverage Uniqueness: {av_uniqueness:.4f}\")"
   ]
  },
  {
   "cell_type": "markdown",
   "id": "660a52a7",
   "metadata": {},
   "source": [
    "#### Triple-Barrier Method"
   ]
  },
  {
   "cell_type": "code",
   "execution_count": null,
   "id": "a94266f2",
   "metadata": {},
   "outputs": [],
   "source": [
    "bb_events_tbl = triple_barrier_labels(\n",
    "    close=close,\n",
    "    target=vol_target,\n",
    "    t_events=t_events,\n",
    "    pt_sl=[bb_pt_barrier, bb_sl_barrier],\n",
    "    min_ret=0,\n",
    "    vertical_barrier_times=vertical_barriers_bars,\n",
    "    side_prediction=bb_side.loc[close.index],\n",
    "    vertical_barrier_zero=True,\n",
    "    verbose=False,\n",
    ")\n",
    "bb_events_tbl = get_event_weights(bb_events_tbl, close)\n",
    "bb_events_tbl_tick = bb_events_tbl.copy()\n",
    "print(f\"Triple-Barrier (pt={bb_pt_barrier}, sl={bb_sl_barrier}, h={bb_time_horizon}):\")\n",
    "value_counts_data(bb_events_tbl.bin, verbose=True)\n",
    "\n",
    "\n",
    "ret = bb_events_tbl.ret\n",
    "sr_bb_tbl = ret.mean() / ret.std()\n",
    "av_uniqueness = bb_events_tbl['tW'].mean()\n",
    "print(f\"\\nAverage Uniqueness: {av_uniqueness:.4f}\")"
   ]
  },
  {
   "cell_type": "code",
   "execution_count": null,
   "id": "4d6d109d",
   "metadata": {},
   "outputs": [],
   "source": [
    "bb_events_tbl = triple_barrier_labels(\n",
    "    close=close,\n",
    "    target=vol_target,\n",
    "    t_events=t_events,\n",
    "    pt_sl=[bb_pt_barrier, bb_sl_barrier],\n",
    "    min_ret=0,\n",
    "    vertical_barrier_times=vertical_barriers_time,\n",
    "    side_prediction=bb_side.loc[close.index],\n",
    "    vertical_barrier_zero=True,\n",
    "    verbose=False,\n",
    ")\n",
    "bb_events_tbl = get_event_weights(bb_events_tbl, close)\n",
    "bb_events_tbl_tick1 = bb_events_tbl.copy()\n",
    "print(f\"Triple-Barrier (pt={bb_pt_barrier}, sl={bb_sl_barrier}, h={h}):\")\n",
    "value_counts_data(bb_events_tbl.bin, verbose=True)\n",
    "\n",
    "\n",
    "ret = bb_events_tbl.ret\n",
    "sr_bb_tbl = ret.mean() / ret.std()\n",
    "av_uniqueness = bb_events_tbl['tW'].mean()\n",
    "print(f\"\\nAverage Uniqueness: {av_uniqueness:.4f}\")"
   ]
  },
  {
   "cell_type": "markdown",
   "id": "afa0eab4",
   "metadata": {},
   "source": [
    "#### Trend-Scanning Method"
   ]
  },
  {
   "cell_type": "code",
   "execution_count": null,
   "id": "a87838a8",
   "metadata": {},
   "outputs": [],
   "source": [
    "span = (5, bb_time_horizon + 1)\n",
    "volatility_threshold = 0.1\n",
    "volatility_threshold_mr = 0.85\n",
    "side = bb_side.reindex(close.index)"
   ]
  },
  {
   "cell_type": "code",
   "execution_count": null,
   "id": "374e7af8",
   "metadata": {},
   "outputs": [],
   "source": [
    "bb_events_trend = get_trend_scanning_meta_labels(close, side, t_events, span, volatility_threshold)\n",
    "bb_events_trend_tick = bb_events_trend.copy()\n",
    "ret = bb_events_trend.ret\n",
    "sr_bb_trend = ret.mean() / ret.std()\n",
    "\n",
    "\n",
    "print(f\"Bollinger_w{bb_period}_std{bb_std}:\")\n",
    "print(f\"bb_events_trend.shape: {bb_events_trend.shape}\\n\")\n",
    "\n",
    "print(f\"trend_scanning_meta_labels {volatility_threshold}: \\n{value_counts_data(bb_events_trend.bin)}\\n\")\n",
    "\n",
    "events = bb_events_trend[bb_events_trend.bin == 1]\n",
    "ret_by_window = events.groupby(['window'])[\"ret\"].mean() * 100\n",
    "ave_ret = events[\"ret\"].mean() * 100\n",
    "fig, ax = plt.subplots(2, 1, figsize=(7.5, 5), dpi=100)\n",
    "ret_by_window.plot(kind=\"bar\", label=\"returns (%)\", ax=ax[0])\n",
    "ax[0].hlines(ave_ret, xmin=0, xmax=bb_time_horizon, linestyles=\"--\", label=f\"μ = {ave_ret:.4f}%\")\n",
    "ax[0].legend()\n",
    "events[\"window\"].value_counts(normalize=True).sort_index().plot(kind=\"bar\", ax=ax[1], legend=True)\n",
    "fig.suptitle(fr\"Trend-Scanning ($\\sigma={volatility_threshold}$) — Tick-Bars\")\n",
    "plt.subplots_adjust(top=0.88);"
   ]
  },
  {
   "cell_type": "markdown",
   "id": "7ea7a19e",
   "metadata": {},
   "source": [
    "#### Random Forest"
   ]
  },
  {
   "cell_type": "code",
   "execution_count": null,
   "id": "a4b67f50",
   "metadata": {},
   "outputs": [],
   "source": [
    "dashes = \"-\" * 60\n",
    "volatility_threshold = 0.1\n",
    "volatility_threshold_mr = 0.85\n",
    "\n",
    "plot_titles = [\n",
    "    f\"Fixed-Time Horizon (h = {bb_time_horizon})\", \n",
    "    f\"Triple-Barrier (pt = {bb_pt_barrier}, sl = {bb_sl_barrier}, h = {bb_time_horizon})\", \n",
    "    fr\"Trend-Scanning ($\\sigma = {volatility_threshold}$)\",\n",
    "    fr\"Trend-Scanning ($\\sigma = {volatility_threshold_mr}$)\",\n",
    "    ]\n",
    "bb_titles = [\n",
    "    \"Fixed-Time Horizon\", \n",
    "    \"Triple-Barrier\",\n",
    "    f\"Trend-Scanning (σ = {volatility_threshold})\",\n",
    "    f\"Trend-Scanning (σ = {volatility_threshold_mr})\"\n",
    "    ]\n",
    "\n",
    "name = bb_strategy.get_strategy_name().replace(\"Bollinger\", \"bb\")\n",
    "filenames = [\n",
    "    f\"{name}_fixed_horizon\",\n",
    "    f\"{name}_triple_barrier\",\n",
    "    f\"{name}_trend_scanning_{volatility_threshold}\",\n",
    "    f\"{name}_trend_scanning_{volatility_threshold_mr}\"\n",
    "    ]\n",
    "print(f\"Strategy: {bb_strategy.get_strategy_name()}\")\n",
    "\n",
    "random_state = 52\n",
    "min_w_leaf = 0.05\n",
    "\n",
    "rf = RandomForestClassifier(\n",
    "    criterion='entropy',\n",
    "    n_estimators=1000,\n",
    "    class_weight='balanced_subsample',\n",
    "    random_state=random_state,\n",
    "    min_weight_fraction_leaf=min_w_leaf,\n",
    "    n_jobs=-1,  # Use all available cores\n",
    "    )"
   ]
  },
  {
   "cell_type": "markdown",
   "id": "27e0c1f5",
   "metadata": {},
   "source": [
    "##### Unweighted"
   ]
  },
  {
   "cell_type": "code",
   "execution_count": null,
   "id": "641d2a61",
   "metadata": {},
   "outputs": [],
   "source": [
    "model_bb_fh_tick = train_meta_model(model=rf, features=bb_feat_tick, labels=bb_events_fh_tick)\n",
    "print(f\"{dashes}\\nFIXED-TIME HORIZON EVALUATION REPORT\\n{dashes}\")\n",
    "summary = meta_labelling_reports(model_bb_fh_tick, plot=True)"
   ]
  },
  {
   "cell_type": "code",
   "execution_count": null,
   "id": "c262291d",
   "metadata": {},
   "outputs": [],
   "source": [
    "model_bb_tbl_tick = train_meta_model(model=rf, features=bb_feat_tick, labels=bb_events_tbl_tick)\n",
    "print(f\"{dashes}\\nTRIPLE-BARRIER EVALUATION REPORT\\n{dashes}\")\n",
    "summary = meta_labelling_reports(model_bb_tbl_tick, plot=True)"
   ]
  },
  {
   "cell_type": "code",
   "execution_count": null,
   "id": "222fe610",
   "metadata": {},
   "outputs": [],
   "source": [
    "model_bb_trend_tick = train_meta_model(model=rf, features=bb_feat_tick, labels=bb_events_trend_tick)\n",
    "print(f\"{dashes}\\nTREND-SCANNING (σ = {volatility_threshold}) EVALUATION REPORT\\n{dashes}\")\n",
    "summary = meta_labelling_reports(model_bb_trend_tick, plot=True)"
   ]
  },
  {
   "cell_type": "code",
   "execution_count": null,
   "id": "404e9183",
   "metadata": {},
   "outputs": [],
   "source": [
    "model_bb_trend_mr_tick = train_meta_model(model=rf, features=bb_feat_tick, labels=bb_events_trend_mr_tick)\n",
    "print(f\"{dashes}\\nTREND-SCANNING (σ = {volatility_threshold_mr}) EVALUATION REPORT\\n{dashes}\")\n",
    "summary = meta_labelling_reports(model_bb_trend_mr_tick, plot=True)"
   ]
  },
  {
   "cell_type": "markdown",
   "id": "a14bd904",
   "metadata": {},
   "source": [
    "##### Return-Weighted"
   ]
  },
  {
   "cell_type": "code",
   "execution_count": null,
   "id": "d5fc8c3e",
   "metadata": {},
   "outputs": [],
   "source": [
    "model_bb_fh_tick_w = train_meta_model(model=rf, features=bb_feat_tick, labels=bb_events_fh_tick, weighting=\"return\")\n",
    "print(f\"{dashes}\\nFIXED-TIME HORIZON EVALUATION REPORT\\n{dashes}\")\n",
    "summary = meta_labelling_reports(model_bb_fh_tick_w, plot=True)"
   ]
  },
  {
   "cell_type": "code",
   "execution_count": null,
   "id": "4fdf9cf9",
   "metadata": {},
   "outputs": [],
   "source": [
    "model_bb_tbl_tick_w = train_meta_model(model=rf, features=bb_feat_tick, labels=bb_events_tbl_tick, weighting=\"return\")\n",
    "print(f\"{dashes}\\nTRIPLE-BARRIER EVALUATION REPORT\\n{dashes}\")\n",
    "summary = meta_labelling_reports(model_bb_tbl_tick_w, plot=True)"
   ]
  },
  {
   "cell_type": "code",
   "execution_count": null,
   "id": "7434304b",
   "metadata": {},
   "outputs": [],
   "source": [
    "model_bb_trend_tick_w = train_meta_model(model=rf, features=bb_feat_tick, labels=bb_events_trend_tick, weighting=\"return\")\n",
    "print(f\"{dashes}\\nTREND-SCANNING (σ = {volatility_threshold}) EVALUATION REPORT\\n{dashes}\")\n",
    "summary = meta_labelling_reports(model_bb_trend_tick_w, plot=True)"
   ]
  },
  {
   "cell_type": "code",
   "execution_count": null,
   "id": "f9dbd958",
   "metadata": {},
   "outputs": [],
   "source": [
    "model_bb_trend_mr_tick_w = train_meta_model(model=rf, features=bb_feat_tick, labels=bb_events_trend_mr_tick, weighting=\"return\")\n",
    "print(f\"{dashes}\\nTREND-SCANNING (σ = {volatility_threshold_mr}) EVALUATION REPORT\\n{dashes}\")\n",
    "summary = meta_labelling_reports(model_bb_trend_mr_tick_w, plot=True)"
   ]
  },
  {
   "cell_type": "markdown",
   "id": "7263deff",
   "metadata": {},
   "source": [
    "##### Reports"
   ]
  },
  {
   "cell_type": "code",
   "execution_count": null,
   "id": "4730242b",
   "metadata": {},
   "outputs": [],
   "source": [
    "dirpath = Path(\"reports\", \"tick_bars\", f\"tick-{bb_tick_bars.tick_volume.iloc[0]}\")\n",
    "dirpath.mkdir(parents=True, exist_ok=True)\n",
    "\n",
    "plot_titles = [\n",
    "    f\"Fixed-Time Horizon (h = {bb_time_horizon})\", \n",
    "    f\"Triple-Barrier (pt = {bb_pt_barrier}, sl = {bb_sl_barrier}, h = {bb_time_horizon})\", \n",
    "    fr\"Trend-Scanning ($\\sigma = {volatility_threshold}$)\",\n",
    "    fr\"Trend-Scanning ($\\sigma = {volatility_threshold_mr}$)\",\n",
    "    ]\n",
    "bb_titles = [\n",
    "    \"Fixed-Time Horizon\", \n",
    "    \"Triple-Barrier\",\n",
    "    f\"Trend-Scanning (σ = {volatility_threshold})\",\n",
    "    f\"Trend-Scanning (σ = {volatility_threshold_mr})\"\n",
    "    ]\n",
    "\n",
    "name = bb_strategy.get_strategy_name().replace(\"Bollinger\", \"bb\")\n",
    "filenames = [\n",
    "    f\"{name}_fixed_horizon\",\n",
    "    f\"{name}_triple_barrier\",\n",
    "    f\"{name}_trend_scanning_{volatility_threshold}\",\n",
    "    f\"{name}_trend_scanning_{volatility_threshold_mr}\"\n",
    "    ]\n",
    "print(f\"Strategy: {bb_strategy.get_strategy_name()}\")"
   ]
  },
  {
   "cell_type": "code",
   "execution_count": null,
   "id": "98e91566",
   "metadata": {},
   "outputs": [],
   "source": [
    "bb_models = [model_bb_fh_tick, model_bb_tbl_tick, model_bb_trend_tick, model_bb_trend_mr_tick]\n",
    "fp = Path(dirpath, \"unweighted\") \n",
    "fp.mkdir(parents=True, exist_ok=True)\n",
    "\n",
    "fp_plots = Path(dirpath, \"plots\", \"unweighted\")\n",
    "fp_plots.mkdir(parents=True, exist_ok=True)\n",
    "\n",
    "bb_roc = compare_roc_curves(\n",
    "    bb_models[:], plot_titles[:], columns=2, height=7.5, \n",
    "    fig_title=f\"Bollinger Strategy (window= {bb_period}, $\\\\sigma = {bb_std}$)\"\n",
    "    )\n",
    "bb_roc.savefig(fp_plots / \"bb_roc_comparison.png\", bbox_inches=\"tight\", dpi=100)\n",
    "\n",
    "\n",
    "meta_labelling_classification_reports(model_data=bb_models, titles=bb_titles, output_filenames=filenames, path=fp)"
   ]
  },
  {
   "cell_type": "code",
   "execution_count": null,
   "id": "ee5ea988",
   "metadata": {},
   "outputs": [],
   "source": [
    "fp_w = Path(dirpath, \"return_weighted\") \n",
    "bb_models_w = [model_bb_fh_tick_w, model_bb_tbl_tick_w, model_bb_trend_tick_w, model_bb_trend_mr_tick_w]\n",
    "bb_titles_w = [f\"Return-Weighted {w}\" for w in bb_titles]\n",
    "filenames_w = [f\"{w}_w\" for w in filenames]\n",
    "\n",
    "fp_plots = Path(dirpath, \"plots\", \"return_weighted\")\n",
    "fp_plots.mkdir(parents=True, exist_ok=True)\n",
    "\n",
    "bb_roc_w = compare_roc_curves(bb_models_w[:], plot_titles[:], columns=2, height=7.5, fig_title=f\"Bollinger Strategy (window= {bb_period}, $\\\\sigma = {bb_std}$)\")\n",
    "bb_roc_w.savefig(fp_plots / \"bb_roc_comparison.png\", bbox_inches=\"tight\", dpi=100)\n",
    "\n",
    "meta_labelling_classification_reports(model_data=bb_models_w, titles=bb_titles_w, output_filenames=filenames_w, path=fp_w)"
   ]
  },
  {
   "cell_type": "markdown",
   "id": "850db625",
   "metadata": {},
   "source": [
    "##### Out-of-Sample"
   ]
  },
  {
   "cell_type": "code",
   "execution_count": null,
   "id": "d9fe288e",
   "metadata": {},
   "outputs": [],
   "source": [
    "bb_models_w = [model_bb_fh_tick_w, model_bb_tbl_tick_w, model_bb_trend_tick_w, model_bb_trend_mr_tick_w]\n",
    "model_preds_tick_w = {}\n",
    "tick_metrics_oos_w = {}\n",
    "X = bb_feat_tick.loc[sample_end:]\n",
    "df_oos = bb_tick_bars.loc[sample_end:]\n",
    "\n",
    "for i, model in enumerate(bb_models_w):\n",
    "    df, metrics = backtest_model(model.fit, X, df_oos.close)\n",
    "    model_preds_tick_w[bb_titles[i]] = df\n",
    "    tick_metrics_oos_w[filenames[i]] = metrics\n",
    "    print(f\"{bb_titles[i]} done.\")\n",
    "\n",
    "tick_metrics_oos_df_w = pd.DataFrame(tick_metrics_oos_w)\n",
    "tick_metrics_oos_df_w"
   ]
  },
  {
   "cell_type": "markdown",
   "id": "96e17998",
   "metadata": {},
   "source": [
    "#### Time- vs. Tick-Bars"
   ]
  },
  {
   "cell_type": "code",
   "execution_count": null,
   "id": "01f0c0ab",
   "metadata": {},
   "outputs": [],
   "source": [
    "titles = [\"Time-Bars\", \"Tick-Bars\"]\n",
    "title = \"Fixed-Time Horizon Method\"\n",
    "roc_pr = compare_roc_pr_curves([model_bb_fh_time, model_bb_fh_tick], titles, fig_title=title, columns=2, height=5)"
   ]
  },
  {
   "cell_type": "code",
   "execution_count": null,
   "id": "3f3824f4",
   "metadata": {},
   "outputs": [],
   "source": [
    "titles = [\"Time-Bars\", \"Tick-Bars\"]\n",
    "title = \"Fixed-Time Horizon Method\"\n",
    "roc_pr = compare_roc_pr_curves([model_bb_fh_time, model_bb_fh_tick], titles, fig_title=title, columns=2, height=5)"
   ]
  },
  {
   "cell_type": "code",
   "execution_count": null,
   "id": "7f3a219b",
   "metadata": {},
   "outputs": [],
   "source": [
    "pr = compare_pr_curves([model_bb_fh_time, model_bb_fh_tick], titles, fig_title=title, columns=2, height=5)"
   ]
  },
  {
   "cell_type": "code",
   "execution_count": null,
   "id": "dfd1d7d7",
   "metadata": {},
   "outputs": [],
   "source": [
    "model_names = [\"Fixed-Time Horizon\", \"Triple-Barrier\"]\n",
    "titles = [\n",
    "    f\"Fixed-Time Horizon\", \n",
    "    fr\"Triple-Barrier ($\\mathit{{pt}}$={bb_pt_barrier}, \"\n",
    "    fr\"$\\mathit{{sl}}$={bb_sl_barrier})\",\n",
    "    ]\n",
    "title = fr\"Time-Bars ($\\mathit{{h}}$ = {timedelta(minutes=bb_tick_horizon)})\"\n",
    "model_data_list = [model_bb_fh_time, model_bb_tbl_time] #, model_bb_tbl_tick, model_bb_tbl_tick_w]\n",
    "metric = \"f1\"\n",
    "n = 3\n",
    "\n",
    "fig, summary_df = compare_roc_pr_curves(\n",
    "    model_data=model_data_list[:n],\n",
    "    model_names=model_names[:n],\n",
    "    titles=titles[:n],\n",
    "    fig_title=title,\n",
    "    columns=2,\n",
    "    metric=metric,\n",
    "    height=5,\n",
    "    show_baseline=True\n",
    ")\n",
    "\n",
    "summary_df\n",
    "# summary_df.to_html(\"roc_pr_dual_metrics.html\", float_format=\"%.3f\")"
   ]
  },
  {
   "cell_type": "code",
   "execution_count": null,
   "id": "3092b5bd",
   "metadata": {},
   "outputs": [],
   "source": [
    "model_names = [\"Fixed-Time Horizon\", \"Triple-Barrier\"]\n",
    "titles = [\n",
    "    f\"Fixed-Time Horizon\", \n",
    "    fr\"Triple-Barrier ($\\mathit{{pt}}$={bb_pt_barrier}, \"\n",
    "    fr\"$\\mathit{{sl}}$={bb_sl_barrier})\",\n",
    "    ]\n",
    "title = fr\"Tick-Bars ($\\mathit{{h}}$ = {timedelta(minutes=bb_tick_horizon)})\"\n",
    "model_data_list = [model_bb_fh_tick, model_bb_tbl_tick] #, model_bb_tbl_tick, model_bb_tbl_tick_w]\n",
    "n = 3\n",
    "\n",
    "fig, summary_df = compare_roc_pr_curves(\n",
    "    model_data=model_data_list[:n],\n",
    "    model_names=model_names[:n],\n",
    "    titles=titles[:n],\n",
    "    fig_title=title,\n",
    "    columns=2,\n",
    "    metric=metric,\n",
    "    height=5,\n",
    "    show_baseline=True\n",
    ")\n",
    "\n",
    "summary_df.round(2)\n",
    "# summary_df.to_html(\"roc_pr_dual_metrics.html\", float_format=\"%.3f\")"
   ]
  },
  {
   "cell_type": "markdown",
   "id": "36ec20ef",
   "metadata": {},
   "source": [
    "## 3. Moving Average Crossover Strategy"
   ]
  },
  {
   "cell_type": "code",
   "execution_count": null,
   "id": "7f163b16",
   "metadata": {},
   "outputs": [],
   "source": [
    "from afml.strategies.ma_crossover_feature_engine import ForexFeatureEngine\n",
    "\n",
    "ma_timeframe = \"M30\"\n",
    "tick_bar_size = tick_bar_dict.get(ma_timeframe)\n",
    "ma_time_bars, ma_tick_bars = get_data(symbol, ma_timeframe)\n",
    "ma_bar_size = f\"tick-{ma_tick_bars.tick_volume.iloc[0]}\"\n",
    "\n",
    "fast_window, slow_window = 20, 50\n",
    "ma_strategy = MACrossoverStrategy(fast_window, slow_window)\n",
    "ma_pt_barrier, ma_sl_barrier, ma_time_horizon = (4, 1.5, 100)\n",
    "ma_vol_multiplier = 0.3\n",
    "time_decay = 0.3\n",
    "linear_decay = False"
   ]
  },
  {
   "cell_type": "markdown",
   "id": "b0e673d8",
   "metadata": {},
   "source": [
    "### Time-Bars"
   ]
  },
  {
   "cell_type": "code",
   "execution_count": null,
   "id": "34c09a6c",
   "metadata": {},
   "outputs": [],
   "source": [
    "ma_df = ma_time_bars.loc[sample_start : sample_end]\n",
    "close = ma_df.close\n",
    "vol_target = get_daily_vol(close, lookback=fast_window).dropna() # Volatility target for barriers\n",
    "thres = vol_target.mean() * ma_vol_multiplier\n",
    "t_events = cusum_filter(close, thres)\n",
    "print(f\"CUSUM filter threshold: {thres:.4%}, t_events: {t_events.size:,}\")\n",
    "\n",
    "ma_side = ma_strategy.generate_signals(ma_df)\n",
    "vertical_barriers = add_vertical_barrier(t_events, close, num_bars=ma_time_horizon)"
   ]
  },
  {
   "cell_type": "markdown",
   "id": "de5f7545",
   "metadata": {},
   "source": [
    "#### Feature Engineering"
   ]
  },
  {
   "cell_type": "code",
   "execution_count": null,
   "id": "9804e688",
   "metadata": {},
   "outputs": [],
   "source": [
    "ma_feat_engine = ForexFeatureEngine(pair_name=symbol)\n",
    "ma_feat = ma_feat_engine.calculate_all_features(ma_df)\n",
    "ma_feat_time = ma_feat.copy()\n",
    "ma_feat.info()"
   ]
  },
  {
   "cell_type": "markdown",
   "id": "a64829d0",
   "metadata": {},
   "source": [
    "#### Fixed-Time Horizon Method"
   ]
  },
  {
   "cell_type": "code",
   "execution_count": null,
   "id": "d2f03181",
   "metadata": {},
   "outputs": [],
   "source": [
    "ma_events_fh = triple_barrier_labels(\n",
    "    close=close,\n",
    "    target=vol_target,\n",
    "    t_events=t_events,\n",
    "    pt_sl=[0,0],\n",
    "    min_ret=0,\n",
    "    vertical_barrier_times=vertical_barriers,\n",
    "    side_prediction=ma_side,\n",
    "    vertical_barrier_zero=True,\n",
    "    verbose=False,\n",
    ")\n",
    "ma_events_fh = get_event_weights(ma_events_fh, close)\n",
    "ma_events_fh_time = ma_events_fh.copy()\n",
    "ma_events_fh.info()\n",
    "ret = ma_events_fh.ret\n",
    "sr_ma_fh = ret.mean() / ret.std()\n",
    "print(f\"\\nSharpe Ratio: {sr_ma_fh:.4f}\")"
   ]
  },
  {
   "cell_type": "markdown",
   "id": "b863eb59",
   "metadata": {},
   "source": [
    "#### Triple-Barrier Method"
   ]
  },
  {
   "cell_type": "code",
   "execution_count": null,
   "id": "1b77596f",
   "metadata": {},
   "outputs": [],
   "source": [
    "ma_events_tbl = triple_barrier_labels(\n",
    "    close=close,\n",
    "    target=vol_target,\n",
    "    t_events=t_events,\n",
    "    pt_sl=[ma_pt_barrier, ma_sl_barrier],\n",
    "    min_ret=0,\n",
    "    vertical_barrier_times=vertical_barriers,\n",
    "    side_prediction=ma_side,\n",
    "    vertical_barrier_zero=True,\n",
    "    verbose=False,\n",
    ")\n",
    "ma_events_tbl = get_event_weights(ma_events_tbl, close)\n",
    "ma_events_tbl_time = ma_events_tbl.copy()\n",
    "ma_events_tbl.info()\n",
    "ret = ma_events_tbl.ret\n",
    "sr_ma_tbl = ret.mean() / ret.std()\n",
    "print(f\"\\nSharpe Ratio: {sr_ma_tbl:.4f}\")"
   ]
  },
  {
   "cell_type": "code",
   "execution_count": null,
   "id": "d65ee408",
   "metadata": {},
   "outputs": [],
   "source": [
    "print(f\"MACrossover_fast{fast_window}_slow{slow_window}: \\n\")\n",
    "\n",
    "ma_metrics_df = pd.Series({\n",
    "    \"fixed_horizon\": sr_ma_fh,\n",
    "    \"triple_barrier\": sr_ma_tbl,\n",
    "    })\n",
    "ma_metrics_df"
   ]
  },
  {
   "cell_type": "markdown",
   "id": "68aff28e",
   "metadata": {},
   "source": [
    "#### Trend-Scanning Method"
   ]
  },
  {
   "cell_type": "code",
   "execution_count": null,
   "id": "18cb8d17",
   "metadata": {},
   "outputs": [],
   "source": [
    "span = (5, ma_time_horizon)\n",
    "volatility_threshold = 0.1\n",
    "volatility_threshold_mr = 0.85\n",
    "\n",
    "close = ma_df.close\n",
    "vol_target = get_daily_vol(close, lookback=100).dropna() # Volatility target for barriers\n",
    "thres = vol_target.mean() * ma_vol_multiplier\n",
    "t_events = cusum_filter(close, thres)\n",
    "print(f\"CUSUM filter threshold: {thres:.4%}, t_events: {t_events.size:,}\")\n",
    "\n",
    "side = ma_strategy.generate_signals(ma_df)\n",
    "\n",
    "ma_events_trend = get_trend_scanning_meta_labels(close, side, t_events, span, volatility_threshold)\n",
    "ma_events_trend_time = ma_events_trend.copy()\n",
    "ret = ma_events_trend.ret\n",
    "sr_ma_trend = ret.mean() / ret.std()\n",
    "\n",
    "ma_events_trend_mr = get_trend_scanning_meta_labels(close, side, t_events, span, volatility_threshold_mr)\n",
    "ma_events_trend_mr_time = ma_events_trend_mr.copy()\n",
    "ret = ma_events_trend.ret_mr\n",
    "sr_ma_trend_mr = ret.mean() / ret.std()\n",
    "\n",
    "# ma_events_trend_metrics_mr = calculate_label_metrics(ma_df.index, side, ma_events_trend_mr)\n",
    "\n",
    "ma_metrics_df = pd.Series({\n",
    "    \"fixed_horizon\": sr_ma_fh,\n",
    "    \"triple_barrier\": sr_ma_tbl,\n",
    "    \"trend_scanning\": sr_ma_trend,\n",
    "    \"trend_scanning_mr\": sr_ma_trend_mr,\n",
    "    })\n",
    "\n",
    "print(f\"MACrossover_fast{fast_window}_slow{slow_window}:\")\n",
    "print(f\"ma_events_trend.shape: {ma_events_trend.shape}\\n\")\n",
    "ma_metrics_df"
   ]
  },
  {
   "cell_type": "markdown",
   "id": "1c225bd1",
   "metadata": {},
   "source": [
    "### Tick-Bars"
   ]
  },
  {
   "cell_type": "code",
   "execution_count": null,
   "id": "6d4755c0",
   "metadata": {},
   "outputs": [],
   "source": [
    "ma_df = ma_tick_bars.loc[sample_start : sample_end]\n",
    "close = ma_df.close\n",
    "vol_target = get_daily_vol(close, lookback=100) # Volatility target for barriers\n",
    "thres = vol_target.mean() * ma_vol_multiplier\n",
    "t_events = cusum_filter(close, thres)\n",
    "print(f\"CUSUM filter threshold: {thres:.4%}, t_events: {t_events.size:,}\")\n",
    "ma_side = ma_strategy.generate_signals(ma_df)\n",
    "\n",
    "# Create vertical barriers\n",
    "# Ensure time horizon aligns with that of time-bars\n",
    "tm = int(\"\".join(x for x in list(ma_timeframe) if x.isnumeric()))\n",
    "ma_tick_horizon = ma_time_horizon * tm\n",
    "if ma_timeframe.startswith(\"H\"):\n",
    "    ma_tick_horizon *= 60\n",
    "elif ma_timeframe.startswith(\"D\"):\n",
    "    ma_tick_horizon *= 60 * 24\n",
    "\n",
    "print(f\"Time Horizon: {pd.Timedelta(minutes=tm)}\")\n",
    "vertical_barriers = add_vertical_barrier(t_events, close, minutes=ma_tick_horizon)"
   ]
  },
  {
   "cell_type": "markdown",
   "id": "38ea72e5",
   "metadata": {},
   "source": [
    "#### Feature Engineering"
   ]
  },
  {
   "cell_type": "code",
   "execution_count": null,
   "id": "8b645323",
   "metadata": {},
   "outputs": [],
   "source": [
    "ma_feat_engine = ForexFeatureEngine(pair_name=symbol)\n",
    "ma_feat = ma_feat_engine.calculate_all_features(ma_df)\n",
    "ma_feat_tick = ma_feat.copy()\n",
    "ma_feat.info()"
   ]
  },
  {
   "cell_type": "markdown",
   "id": "81770463",
   "metadata": {},
   "source": [
    "#### Fixed-Time Horizon Method"
   ]
  },
  {
   "cell_type": "code",
   "execution_count": null,
   "id": "89992e82",
   "metadata": {},
   "outputs": [],
   "source": [
    "ma_events_fh = triple_barrier_labels(\n",
    "    close=close,\n",
    "    target=vol_target,\n",
    "    t_events=t_events,\n",
    "    pt_sl=[0,0],\n",
    "    min_ret=0,\n",
    "    vertical_barrier_times=vertical_barriers,\n",
    "    side_prediction=ma_side,\n",
    "    vertical_barrier_zero=True,\n",
    "    verbose=False,\n",
    ")\n",
    "ma_events_fh = get_event_weights(ma_events_fh, close)\n",
    "ma_events_fh_tick = ma_events_fh.copy()\n",
    "ma_events_fh.info()\n",
    "ret = ma_events_fh.ret\n",
    "sr_ma_fh = ret.mean() / ret.std()\n",
    "print(f\"\\nSharpe Ratio: {sr_ma_fh:.4f}\")"
   ]
  },
  {
   "cell_type": "markdown",
   "id": "b2b76b89",
   "metadata": {},
   "source": [
    "#### Triple-Barrier Method"
   ]
  },
  {
   "cell_type": "code",
   "execution_count": null,
   "id": "7cfedf52",
   "metadata": {},
   "outputs": [],
   "source": [
    "ma_events_tbl = triple_barrier_labels(\n",
    "    close=close,\n",
    "    target=vol_target,\n",
    "    t_events=t_events,\n",
    "    pt_sl=[ma_pt_barrier, ma_sl_barrier],\n",
    "    min_ret=0,\n",
    "    vertical_barrier_times=vertical_barriers,\n",
    "    side_prediction=ma_side,\n",
    "    vertical_barrier_zero=True,\n",
    "    verbose=False,\n",
    ")\n",
    "ma_events_tbl = get_event_weights(ma_events_tbl, close)\n",
    "ma_events_tbl_tick = ma_events_tbl.copy()\n",
    "ma_events_tbl.info()\n",
    "ret = ma_events_tbl.ret\n",
    "sr_ma_tbl = ret.mean() / ret.std()\n",
    "print(f\"\\nSharpe Ratio: {sr_ma_tbl:.4f}\")"
   ]
  },
  {
   "cell_type": "code",
   "execution_count": null,
   "id": "776036bd",
   "metadata": {},
   "outputs": [],
   "source": [
    "print(f\"MACrossover_fast{fast_window}_slow{slow_window}: \\n\")\n",
    "\n",
    "ma_metrics_df = pd.Series({\n",
    "    \"fixed_horizon\": sr_ma_fh,\n",
    "    \"triple_barrier\": sr_ma_tbl,\n",
    "    })\n",
    "ma_metrics_df"
   ]
  },
  {
   "cell_type": "markdown",
   "id": "1b067a0b",
   "metadata": {},
   "source": [
    "#### Trend-Scanning Method"
   ]
  },
  {
   "cell_type": "code",
   "execution_count": null,
   "id": "1a6f03f3",
   "metadata": {},
   "outputs": [],
   "source": [
    "span = (5, ma_time_horizon)\n",
    "volatility_threshold = 0.1\n",
    "volatility_threshold_mr = 0.85\n",
    "\n",
    "vol_target = get_daily_vol(close, lookback=100).dropna() # Volatility target for barriers\n",
    "thres = vol_target.mean() * ma_vol_multiplier\n",
    "t_events = cusum_filter(close, thres)\n",
    "print(f\"CUSUM filter threshold: {thres:.4%}, t_events: {t_events.size:,}\")\n",
    "\n",
    "side = ma_strategy.generate_signals(ma_df)\n",
    "\n",
    "ma_events_trend = get_trend_scanning_meta_labels(close, side, t_events, span, volatility_threshold)\n",
    "ma_events_trend_tick = ma_events_trend.copy()\n",
    "ret = ma_events_trend.ret\n",
    "sr_ma_trend = ret.mean() / ret.std()\n",
    "\n",
    "ma_events_trend_mr = get_trend_scanning_meta_labels(close, side, t_events, span, volatility_threshold_mr)\n",
    "ma_events_trend_mr_tick = ma_events_trend_mr.copy()\n",
    "ret = ma_events_trend.ret_mr\n",
    "sr_ma_trend_mr = ret.mean() / ret.std()\n",
    "\n",
    "# ma_events_trend_metrics_mr = calculate_label_metrics(ma_df.index, side, ma_events_trend_mr)\n",
    "\n",
    "ma_metrics_df = pd.Series({\n",
    "    \"fixed_horizon\": sr_ma_fh,\n",
    "    \"triple_barrier\": sr_ma_tbl,\n",
    "    \"trend_scanning\": sr_ma_trend,\n",
    "    \"trend_scanning_mr\": sr_ma_trend_mr,\n",
    "    })\n",
    "\n",
    "print(f\"MACrossover_fast{fast_window}_slow{slow_window}:\")\n",
    "print(f\"ma_events_trend.shape: {ma_events_trend.shape}\\n\")\n",
    "ma_metrics_df"
   ]
  },
  {
   "cell_type": "markdown",
   "id": "303e1899",
   "metadata": {},
   "source": [
    "### Random Forest"
   ]
  },
  {
   "cell_type": "code",
   "execution_count": null,
   "id": "53715e85",
   "metadata": {},
   "outputs": [],
   "source": [
    "random_state = 40\n",
    "min_w_leaf = 0.05\n",
    "\n",
    "rf = RandomForestClassifier(\n",
    "    criterion='entropy',\n",
    "    n_estimators=1000,\n",
    "    class_weight='balanced_subsample',\n",
    "    random_state=random_state,\n",
    "    min_weight_fraction_leaf=min_w_leaf,\n",
    "    n_jobs=-1,  # Use all available cores\n",
    "    )\n",
    "time_decay = 0.3"
   ]
  },
  {
   "cell_type": "markdown",
   "id": "5ee41502",
   "metadata": {},
   "source": [
    "##### Time-Bars"
   ]
  },
  {
   "cell_type": "code",
   "execution_count": null,
   "id": "296835e3",
   "metadata": {},
   "outputs": [],
   "source": [
    "model_ma_fh_time = train_meta_model(model=rf, features=ma_feat_time, labels=ma_events_fh_time)\n",
    "print(f\"{dashes}\\nFIXED-TIME HORIZON EVALUATION REPORT\\n{dashes}\")\n",
    "summary = meta_labelling_reports(\n",
    "    model_ma_fh_time.y_test, model_ma_fh_time.w_test, model_ma_fh_time.pred, model_ma_fh_time.prob, plot=True\n",
    "    )"
   ]
  },
  {
   "cell_type": "code",
   "execution_count": null,
   "id": "808ea536",
   "metadata": {},
   "outputs": [],
   "source": [
    "model_ma_tbl_time = train_meta_model(model=rf, features=ma_feat_time, labels=ma_events_tbl_time)\n",
    "print(f\"{dashes}\\nTRIPLE-BARRIER EVALUATION REPORT\\n{dashes}\")\n",
    "summary = meta_labelling_reports(\n",
    "    model_ma_tbl_time.y_test, model_ma_tbl_time.w_test, model_ma_tbl_time.pred, model_ma_tbl_time.prob, plot=True\n",
    "    )"
   ]
  },
  {
   "cell_type": "code",
   "execution_count": null,
   "id": "846cec1b",
   "metadata": {},
   "outputs": [],
   "source": [
    "model_ma_trend_time = train_meta_model(model=rf, features=ma_feat_time, labels=ma_events_trend_time)\n",
    "print(f\"{dashes}\\nTREND-SCANNING (σ = {volatility_threshold}) EVALUATION REPORT\\n{dashes}\")\n",
    "summary = meta_labelling_reports(\n",
    "    model_ma_trend_time.y_test, model_ma_trend_time.w_test, model_ma_trend_time.pred, model_ma_trend_time.prob, plot=True\n",
    "    )"
   ]
  },
  {
   "cell_type": "code",
   "execution_count": null,
   "id": "eea1522e",
   "metadata": {},
   "outputs": [],
   "source": [
    "model_ma_trend_mr_time = train_meta_model(model=rf, features=ma_feat_time, labels=ma_events_trend_mr_time)\n",
    "print(f\"{dashes}\\nTREND-SCANNING (σ = {volatility_threshold}) EVALUATION REPORT\\n{dashes}\")\n",
    "summary = meta_labelling_reports(\n",
    "    model_ma_trend_mr_time.y_test, model_ma_trend_mr_time.w_test, model_ma_trend_mr_time.pred, model_ma_trend_mr_time.prob, plot=True\n",
    "    )"
   ]
  },
  {
   "cell_type": "markdown",
   "id": "c14c5d4c",
   "metadata": {},
   "source": [
    "###### Return-Weighted"
   ]
  },
  {
   "cell_type": "code",
   "execution_count": null,
   "id": "0c77b20c",
   "metadata": {},
   "outputs": [],
   "source": [
    "model_bb_fh_time_w = train_meta_model(model=rf, features=bb_feat_time, labels=bb_events_fh_time, weighting=\"return\")\n",
    "print(f\"{dashes}\\nFIXED-TIME HORIZON EVALUATION REPORT\\n{dashes}\")\n",
    "summary = meta_labelling_reports(model_bb_fh_time_w, plot=True)"
   ]
  },
  {
   "cell_type": "code",
   "execution_count": null,
   "id": "ac11a1c1",
   "metadata": {},
   "outputs": [],
   "source": [
    "model_bb_tbl_time_w = train_meta_model(model=rf, features=bb_feat_time, labels=bb_events_tbl_time, weighting=\"return\")\n",
    "print(f\"{dashes}\\nTRIPLE-BARRIER EVALUATION REPORT\\n{dashes}\")\n",
    "summary = meta_labelling_reports(model_bb_tbl_time_w, plot=True)"
   ]
  },
  {
   "cell_type": "code",
   "execution_count": null,
   "id": "669788d3",
   "metadata": {},
   "outputs": [],
   "source": [
    "model_bb_trend_time_w = train_meta_model(model=rf, features=bb_feat_time, labels=bb_events_trend_time, weighting=\"return\")\n",
    "print(f\"{dashes}\\nTREND-SCANNING (σ = {volatility_threshold}) EVALUATION REPORT\\n{dashes}\")\n",
    "summary = meta_labelling_reports(model_bb_trend_time_w, plot=True)"
   ]
  },
  {
   "cell_type": "code",
   "execution_count": null,
   "id": "a201e6f8",
   "metadata": {},
   "outputs": [],
   "source": [
    "model_bb_trend_mr_time_w = train_meta_model(model=rf, features=bb_feat_time, labels=bb_events_trend_mr_time, weighting=\"return\")\n",
    "print(f\"{dashes}\\nTREND-SCANNING (σ = {volatility_threshold_mr}) EVALUATION REPORT\\n{dashes}\")\n",
    "summary = meta_labelling_reports(model_bb_trend_mr_time_w, plot=True)"
   ]
  },
  {
   "cell_type": "markdown",
   "id": "88d906c7",
   "metadata": {},
   "source": [
    "###### Time-Decay Weighted"
   ]
  },
  {
   "cell_type": "code",
   "execution_count": null,
   "id": "de4b2ccd",
   "metadata": {},
   "outputs": [],
   "source": [
    "model_bb_fh_time_tw = train_meta_model(\n",
    "    model=rf, features=bb_feat_time, labels=bb_events_fh_time, \n",
    "    weighting=\"time\", time_decay=time_decay\n",
    "    )\n",
    "print(f\"{dashes}\\nFIXED-TIME HORIZON EVALUATION REPORT\\n{dashes}\")\n",
    "summary = meta_labelling_reports(model_bb_fh_time_tw, plot=True)"
   ]
  },
  {
   "cell_type": "code",
   "execution_count": null,
   "id": "4b284b05",
   "metadata": {},
   "outputs": [],
   "source": [
    "model_bb_tbl_time_tw = train_meta_model(\n",
    "    model=rf, features=bb_feat_time, labels=bb_events_tbl_time, \n",
    "    weighting=\"time\", time_decay=time_decay\n",
    "    )\n",
    "print(f\"{dashes}\\nTRIPLE-BARRIER EVALUATION REPORT\\n{dashes}\")\n",
    "summary = meta_labelling_reports(model_bb_tbl_time_tw, plot=True)"
   ]
  },
  {
   "cell_type": "code",
   "execution_count": null,
   "id": "1c88a660",
   "metadata": {},
   "outputs": [],
   "source": [
    "model_bb_trend_time_tw = train_meta_model(\n",
    "    model=rf, features=bb_feat_time, labels=bb_events_trend_time, \n",
    "    weighting=\"time\", time_decay=time_decay\n",
    "    )\n",
    "print(f\"{dashes}\\nTREND-SCANNING (σ = {volatility_threshold}) EVALUATION REPORT\\n{dashes}\")\n",
    "summary = meta_labelling_reports(model_bb_trend_time_tw, plot=True)"
   ]
  },
  {
   "cell_type": "code",
   "execution_count": null,
   "id": "cbd7d518",
   "metadata": {},
   "outputs": [],
   "source": [
    "model_bb_trend_mr_time_tw = train_meta_model(\n",
    "    model=rf, features=bb_feat_time, labels=bb_events_trend_mr_time, \n",
    "    weighting=\"time\", time_decay=time_decay\n",
    "    )\n",
    "print(f\"{dashes}\\nTREND-SCANNING (σ = {volatility_threshold_mr}) EVALUATION REPORT\\n{dashes}\")\n",
    "summary = meta_labelling_reports(model_bb_trend_mr_time_tw, plot=True)"
   ]
  },
  {
   "cell_type": "markdown",
   "id": "6f096399",
   "metadata": {},
   "source": [
    "Reports"
   ]
  },
  {
   "cell_type": "code",
   "execution_count": null,
   "id": "a37b0afe",
   "metadata": {},
   "outputs": [],
   "source": [
    "dirpath = Path(\"reports\", \"time_bars\", ma_timeframe)\n",
    "dirpath.mkdir(parents=True, exist_ok=True)\n",
    "\n",
    "titles = [\n",
    "    f\"Fixed-Time Horizon (h={ma_time_horizon})\", \n",
    "    f\"Triple Barrier (pt={ma_pt_barrier}, sl={ma_sl_barrier}, h={ma_time_horizon})\", \n",
    "    fr\"Trend-Scanning ($\\sigma_{{\\\\text{{threshold}}}} = {volatility_threshold}$)\",\n",
    "    fr\"Trend-Scanning ($\\sigma_{{\\\\text{{threshold}}}} = {volatility_threshold_mr}$)\",\n",
    "    ]\n",
    "ma_models = [model_ma_fh_time, model_ma_tbl_time, model_ma_trend_time, model_ma_trend_mr_time]\n",
    "ma_roc = compare_roc_curves(ma_models[:2], plot_titles[:2])\n",
    "ma_roc.savefig(dirpath / \"ma_roc_barrier_comparison.png\")\n",
    "\n",
    "ma_roc_trend = compare_roc_curves(ma_models[2:], titles[2:])\n",
    "ma_roc_trend.savefig(dirpath / \"ma_roc_trend_comparison.png\")\n",
    "\n",
    "meta_labelling_classification_reports(model_data=model_ma_fh_time, title=\"Fixed-Time Horizon\", output_filename=dirpath / \"ma_fixed_time\")\n",
    "meta_labelling_classification_reports(model_data=model_ma_tbl_time, title=\"Triple Barrier\", output_filename=dirpath / \"ma_triple_barrier\")\n",
    "meta_labelling_classification_reports(model_data=model_ma_trend_time, title=f\"Trend-Scanning (σ = {volatility_threshold})\", \n",
    "                                      output_filename=dirpath / \"ma_trend_scanning\")\n",
    "meta_labelling_classification_reports(model_data=model_ma_trend_mr_time, title=f\"Trend-Scanning (σ = {volatility_threshold_mr})\", \n",
    "                                      output_filename=dirpath / \"ma_trend_scanning_mr\")"
   ]
  },
  {
   "cell_type": "markdown",
   "id": "ac3fbd6f",
   "metadata": {},
   "source": [
    "##### Tick-Bars"
   ]
  },
  {
   "cell_type": "code",
   "execution_count": null,
   "id": "2a8df841",
   "metadata": {},
   "outputs": [],
   "source": [
    "model_ma_fh_tick = train_meta_model(model=rf, features=ma_feat_tick, labels=ma_events_fh_tick)\n",
    "print(f\"{dashes}\\nFIXED-TIME HORIZON EVALUATION REPORT\\n{dashes}\")\n",
    "summary = meta_labelling_reports(model_ma_fh_tick, plot=True)"
   ]
  },
  {
   "cell_type": "code",
   "execution_count": null,
   "id": "a8c68880",
   "metadata": {},
   "outputs": [],
   "source": [
    "model_ma_tbl_tick = train_meta_model(model=rf, features=ma_feat_tick, labels=ma_events_tbl_tick)\n",
    "print(f\"{dashes}\\nTRIPLE-BARRIER EVALUATION REPORT\\n{dashes}\")\n",
    "summary = meta_labelling_reports(model_ma_tbl_tick, plot=True)"
   ]
  },
  {
   "cell_type": "code",
   "execution_count": null,
   "id": "45a8ca36",
   "metadata": {},
   "outputs": [],
   "source": [
    "model_ma_trend_tick = train_meta_model(model=rf, features=ma_feat_tick, labels=ma_events_trend_tick)\n",
    "print(f\"{dashes}\\nTREND-SCANNING (σ = {volatility_threshold}) EVALUATION REPORT\\n{dashes}\")\n",
    "summary = meta_labelling_reports(model_ma_trend_tick, plot=True)"
   ]
  },
  {
   "cell_type": "code",
   "execution_count": null,
   "id": "c7cec3a9",
   "metadata": {},
   "outputs": [],
   "source": [
    "model_ma_trend_mr_tick = train_meta_model(model=rf, features=ma_feat_tick, labels=ma_events_trend_mr_tick)\n",
    "print(f\"{dashes}\\nTREND-SCANNING (σ = {volatility_threshold}) EVALUATION REPORT\\n{dashes}\")\n",
    "summary = meta_labelling_reports(model_ma_trend_mr_tick, plot=True)"
   ]
  },
  {
   "cell_type": "code",
   "execution_count": null,
   "id": "b4fe833d",
   "metadata": {},
   "outputs": [],
   "source": [
    "dirpath = Path(\"reports\", \"tick_bars\", ma_timeframe)\n",
    "dirpath.mkdir(parents=True, exist_ok=True)\n",
    "\n",
    "titles = [\n",
    "    f\"Fixed-Time Horizon (h={ma_tick_horizon} minutes)\", \n",
    "    f\"Triple Barrier (pt={ma_pt_barrier}, sl={ma_sl_barrier}, h={ma_tick_horizon})\", \n",
    "    fr\"Trend-Scanning ($\\sigma_{{\\\\text{{threshold}}}} = {volatility_threshold}$)\",\n",
    "    fr\"Trend-Scanning ($\\sigma_{{\\\\text{{threshold}}}} = {volatility_threshold_mr}$)\",\n",
    "    ]\n",
    "ma_models = [model_ma_fh_tick, model_ma_tbl_tick, model_ma_trend_tick, model_ma_trend_mr_tick]\n",
    "ma_roc = compare_roc_curves(ma_models[:2], plot_titles[:2])\n",
    "ma_roc.savefig(dirpath / \"ma_roc_barrier_comparison.png\")\n",
    "\n",
    "ma_roc_trend = compare_roc_curves(ma_models[2:], titles[2:])\n",
    "ma_roc_trend.savefig(dirpath / \"ma_roc_trend_comparison.png\")\n",
    "\n",
    "meta_labelling_classification_reports(model_data=ma_models, title=bb_titles, output_filename=dirpath / \"ma_fixed_tick\")"
   ]
  }
 ],
 "metadata": {
  "kernelspec": {
   "display_name": "mlfinlab_env",
   "language": "python",
   "name": "python3"
  },
  "language_info": {
   "codemirror_mode": {
    "name": "ipython",
    "version": 3
   },
   "file_extension": ".py",
   "mimetype": "text/x-python",
   "name": "python",
   "nbconvert_exporter": "python",
   "pygments_lexer": "ipython3",
   "version": "3.10.18"
  }
 },
 "nbformat": 4,
 "nbformat_minor": 5
}
