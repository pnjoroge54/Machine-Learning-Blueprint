{
 "cells": [
  {
   "cell_type": "markdown",
   "id": "883cfcc8",
   "metadata": {
    "vscode": {
     "languageId": "plaintext"
    }
   },
   "source": [
    "# Meta-Labeling Experiments: A Step-by-Step Guide\n",
    "\n",
    "## Introduction\n",
    "\n",
    "This notebook recreates the meta-labeling experiments from Hudson & Thames' research in a beginner-friendly manner. Meta-labeling is a machine learning technique that sits on top of a primary trading strategy to improve performance by filtering out false positive signals.\n",
    "\n",
    "**Key Concepts:**\n",
    "- **Primary Model**: Generates trading signals (buy/sell/hold)\n",
    "- **Triple Barrier Method**: Advanced labeling technique that accounts for stop-loss, take-profit, and time-based exits\n",
    "- **Meta-Labeling**: Secondary ML model that decides whether to act on primary model signals\n",
    "- **Goal**: Improve Sharpe ratio, reduce drawdown, and increase precision\n",
    "\n",
    "## Setup and Dependencies"
   ]
  },
  {
   "cell_type": "code",
   "execution_count": 1,
   "id": "b1e50b0d",
   "metadata": {},
   "outputs": [],
   "source": [
    "import sys\n",
    "sys.path.append(\"..\")  # Adjust based on your directory structure\n",
    "\n",
    "%reload_ext autoreload\n",
    "%load_ext line_profiler\n",
    "%autoreload 3 -p\n",
    "\n",
    "# %aimport afml"
   ]
  },
  {
   "cell_type": "code",
   "execution_count": null,
   "id": "2507ee02",
   "metadata": {},
   "outputs": [],
   "source": [
    "import warnings\n",
    "import winsound\n",
    "from datetime import timedelta, datetime as dt\n",
    "from pprint import pprint\n",
    "from pathlib import Path\n",
    "\n",
    "import matplotlib.pyplot as plt\n",
    "import MetaTrader5 as mt5\n",
    "import seaborn as sns\n",
    "\n",
    "from afml.data_structures.bars import *\n",
    "from afml.labeling import (\n",
    "    add_vertical_barrier,\n",
    "    calculate_label_metrics,\n",
    "    fixed_time_horizon,\n",
    "    get_bins,\n",
    "    get_bins_from_trend,\n",
    "    get_events,\n",
    "    triple_barrier_labels,\n",
    "    trend_meta_labels,\n",
    ")\n",
    "from afml.strategies import (\n",
    "    BaseStrategy,\n",
    "    BollingerMeanReversionStrategy,\n",
    "    MovingAverageCrossoverStrategy,\n",
    "    TripleBarrierEvaluator,\n",
    "    get_entries,\n",
    ")\n",
    "from afml.util import (\n",
    "    COMMODITIES,\n",
    "    CLEAN_DATA_PATH,\n",
    "    CRYPTO,\n",
    "    DATA_PATH,\n",
    "    FX_MAJORS,\n",
    "    PERCENTILES,\n",
    "    UTC,\n",
    "    DataFrameFormatter,\n",
    "    get_ticks,\n",
    "    load_tick_data,\n",
    "    login_mt5,\n",
    "    save_data_to_parquet,\n",
    "    value_counts_data,\n",
    "    verify_or_create_account_info,\n",
    ")\n",
    "\n",
    "warnings.filterwarnings(\"ignore\")\n",
    "plt.style.use(\"dark_background\")\n"
   ]
  },
  {
   "cell_type": "code",
   "execution_count": 3,
   "id": "015d7b36",
   "metadata": {},
   "outputs": [],
   "source": [
    "from afml.cache import clear_afml_cache\n",
    "\n",
    "\n",
    "clear_afml_cache()"
   ]
  },
  {
   "cell_type": "markdown",
   "id": "160822e7",
   "metadata": {},
   "source": [
    "## 1. Data Preparation"
   ]
  },
  {
   "cell_type": "code",
   "execution_count": 4,
   "id": "f816170a",
   "metadata": {},
   "outputs": [
    {
     "name": "stdout",
     "output_type": "stream",
     "text": [
      "\u001b[32m2025-08-29 01:49:45.543\u001b[0m | \u001b[1mINFO    \u001b[0m | \u001b[36mafml.util.get_data\u001b[0m:\u001b[36mlogin_mt5\u001b[0m:\u001b[36m82\u001b[0m - \u001b[1mAttempting to log in to MT5 with account: FundedNext_STLR2_6K\u001b[0m\n",
      "\u001b[32m2025-08-29 01:49:45.613\u001b[0m | \u001b[32m\u001b[1mSUCCESS \u001b[0m | \u001b[36mafml.util.get_data\u001b[0m:\u001b[36mlogin_mt5\u001b[0m:\u001b[36m93\u001b[0m - \u001b[32m\u001b[1mSuccessfully logged in to MT5 as FundedNext_STLR2_6K.\u001b[0m\n",
      "\u001b[32m2025-08-29 01:49:45.624\u001b[0m | \u001b[1mINFO    \u001b[0m | \u001b[36mafml.util.get_data\u001b[0m:\u001b[36mlogin_mt5\u001b[0m:\u001b[36m95\u001b[0m - \u001b[1mMT5 Version: (500, 5200, '1 Aug 2025')\u001b[0m\n",
      "\u001b[32m2025-08-29 01:49:45.639\u001b[0m | \u001b[1mINFO    \u001b[0m | \u001b[36mafml.util.get_data\u001b[0m:\u001b[36mlogin_mt5\u001b[0m:\u001b[36m98\u001b[0m - \u001b[1mConnected to MetaTrader 5 at C:\\Program Files\\MetaTrader 5\u001b[0m\n"
     ]
    }
   ],
   "source": [
    "account = login_mt5(account=\"FundedNext_STLR2_6K\")\n",
    "symbol = \"EURUSD\"\n",
    "columns = ['bid', 'ask']\n",
    "tick_bar_dict = {\"M1\": 50, \"M5\": 200, \"M15\": 700, \"M30\": 1000, \"H1\": 3000}\n",
    "tick_df = None\n",
    "\n",
    "start_date, end_date = \"2018-01-01\", \"2024-12-31\"\n",
    "sample_start, sample_end = start_date, \"2021-12-31\"\n",
    "oos_start = pd.Timestamp(sample_end) + timedelta(days=1) # Out-of-sample start date\n",
    "\n",
    "\n",
    "def get_data(symbol, timeframe, dirpath=\"data\"):\n",
    "    \"\"\"Returns time-bars and tick-bars for timeframe\"\"\"\n",
    "    global tick_df\n",
    "    timeframe = timeframe.title()\n",
    "    directory = Path(dirpath)\n",
    "    tick_bar_size = tick_bar_dict[timeframe]\n",
    "    fname = Path(dirpath, f\"{symbol}_{timeframe}_time_{start_date}-{end_date}.parq\")\n",
    "    fname1 = Path(dirpath, f\"{symbol}_{timeframe}_tick-{tick_bar_size}_{start_date}-{end_date}.parq\")\n",
    "    time_bars, tick_bars = (None, None)\n",
    "\n",
    "    # --- Construct the search pattern ---\n",
    "    # The '*' is a wildcard that matches any sequence of characters\n",
    "    search_pattern = f\"{symbol}_{timeframe}_*\"\n",
    "\n",
    "    # --- Find the files ---\n",
    "    # glob() returns a generator, so you can iterate over it\n",
    "    found_files = directory.glob(search_pattern)\n",
    "\n",
    "    # --- Print the results ---\n",
    "    for file in found_files:\n",
    "        if fname == file:\n",
    "            time_bars = pd.read_parquet(fname)\n",
    "            print(\"Loaded\", file.name)\n",
    "        elif fname1 == file:\n",
    "            tick_bars = pd.read_parquet(fname1)\n",
    "            print(\"Loaded\", file.name)\n",
    "        \n",
    "    if any(x is None for x in (time_bars, tick_bars)):\n",
    "        try:\n",
    "            tick_df = load_tick_data(CLEAN_DATA_PATH, symbol, start_date, end_date, account, columns)\n",
    "        except FileNotFoundError:\n",
    "            save_data_to_parquet(CLEAN_DATA_PATH, symbol, start_date, end_date, account)\n",
    "        if time_bars is None:\n",
    "            time_bars = make_bars(tick_df, bar_type=\"time\", timeframe=timeframe, price=\"bid_ask\", verbose=True)\n",
    "            time_bars.to_parquet(fname)\n",
    "        if tick_bars is None:\n",
    "            tick_bar_size = calculate_ticks_per_period(tick_df, timeframe)\n",
    "            tick_bar_dict[timeframe] = tick_bar_size\n",
    "            tick_bars = make_bars(tick_df, bar_type=\"tick\", bar_size=tick_bar_size, price=\"bid_ask\", verbose=True)\n",
    "            fname1 = Path(dirpath, f\"{symbol}_{timeframe}_tick-{tick_bar_size}_{start_date}-{end_date}.parq\")\n",
    "            tick_bars.to_parquet(fname1)\n",
    "\n",
    "    return time_bars, tick_bars"
   ]
  },
  {
   "cell_type": "markdown",
   "id": "9129c536",
   "metadata": {},
   "source": [
    "## 2. Bollinger Band Strategy"
   ]
  },
  {
   "cell_type": "code",
   "execution_count": 5,
   "id": "b7e0c62e",
   "metadata": {},
   "outputs": [
    {
     "name": "stdout",
     "output_type": "stream",
     "text": [
      "Loaded EURUSD_M5_tick-200_2018-01-01-2024-12-31.parq\n",
      "Loaded EURUSD_M5_time_2018-01-01-2024-12-31.parq\n",
      "\u001b[32m2025-08-29 01:49:47.650\u001b[0m | \u001b[1mINFO    \u001b[0m | \u001b[36mafml.strategies.genetic_optimizer\u001b[0m:\u001b[36m__init__\u001b[0m:\u001b[36m147\u001b[0m - \u001b[1mGenerating primary signals...\u001b[0m\n",
      "\u001b[32m2025-08-29 01:49:47.768\u001b[0m | \u001b[1mINFO    \u001b[0m | \u001b[36mafml.strategies.strategies\u001b[0m:\u001b[36mget_entries\u001b[0m:\u001b[36m76\u001b[0m - \u001b[1mGenerated 32,863 trade events generated by crossover.\u001b[0m\n"
     ]
    }
   ],
   "source": [
    "timeframe = \"M5\"\n",
    "tick_bar_size = tick_bar_dict[timeframe]\n",
    "bb_time_bars, bb_tick_bars = get_data(symbol, timeframe, dirpath=\"data\")\n",
    "bar_size = f\"tick-{bb_tick_bars.tick_volume.iloc[0]}\"\n",
    "bb_df = bb_time_bars.loc[sample_start : sample_end]\n",
    "bb_df0 = bb_tick_bars.loc[sample_start : sample_end]\n",
    "\n",
    "bb_period, bb_std = 20, 1.5 # Bollinger Band parameters\n",
    "bb_strategy = BollingerMeanReversionStrategy(window=bb_period, num_std=bb_std)\n",
    "target_vol_params = dict(days=1, lookback=100)\n",
    "bb_strategy = BollingerMeanReversionStrategy(20, 1.5)\n",
    "tb_evaluator = TripleBarrierEvaluator(\n",
    "    bb_strategy, bb_df, target_vol_params,\n",
    "    target_vol_multiplier=1,\n",
    "    filter_events=False,\n",
    "    vertical_barrier_zero=True,\n",
    "    on_crossover=True,\n",
    "    )\n",
    "pt_barrier, sl_barrier, time_horizon = (1, 2, 20)"
   ]
  },
  {
   "cell_type": "markdown",
   "id": "bd2284a3",
   "metadata": {},
   "source": [
    "### Fixed-Time Horizon Method"
   ]
  },
  {
   "cell_type": "code",
   "execution_count": 6,
   "id": "917ed43f",
   "metadata": {},
   "outputs": [
    {
     "data": {
      "application/vnd.microsoft.datawrangler.viewer.v0+json": {
       "columns": [
        {
         "name": "index",
         "rawType": "object",
         "type": "string"
        },
        {
         "name": "trade_metrics",
         "rawType": "object",
         "type": "unknown"
        }
       ],
       "ref": "10eade70-1bb0-4931-b372-32e8ca6a0201",
       "rows": [
        [
         "total_return",
         "2.2908486871335243"
        ],
        [
         "annualized_return",
         "0.3476995500714324"
        ],
        [
         "volatility",
         "0.2957333939614466"
        ],
        [
         "downside_volatility",
         "0.21959706135371082"
        ],
        [
         "sharpe_ratio",
         "9.218396881846493"
        ],
        [
         "sortino_ratio",
         "12.414500357820986"
        ],
        [
         "var_95",
         "-0.001625691997239853"
        ],
        [
         "cvar_95",
         "-0.0025568155656695624"
        ],
        [
         "skewness",
         "0.1419039512039369"
        ],
        [
         "kurtosis",
         "7.629223479078192"
        ],
        [
         "probabilistic_sharpe_ratio",
         "0.9999999996168812"
        ],
        [
         "pos_concentration",
         "7.482668210040852e-05"
        ],
        [
         "neg_concentration",
         "8.05177231220844e-05"
        ],
        [
         "time_concentration",
         "0.00011025618549840866"
        ],
        [
         "max_drawdown",
         "0.0966054095893204"
        ],
        [
         "avg_drawdown",
         "0.00458615277190901"
        ],
        [
         "drawdown_duration",
         "2 days 03:33:46"
        ],
        [
         "ulcer_index",
         "0.010736151591402865"
        ],
        [
         "calmar_ratio",
         "3.599172671070276"
        ],
        [
         "bet_frequency",
         "13366"
        ],
        [
         "bets_per_year",
         "3346"
        ],
        [
         "num_trades",
         "32835"
        ],
        [
         "trades_per_year",
         "8220"
        ],
        [
         "win_rate",
         "0.5215775848941678"
        ],
        [
         "avg_win",
         "0.00072714557941992"
        ],
        [
         "avg_loss",
         "-0.0007204891741590056"
        ],
        [
         "best_trade",
         "0.010309213241058934"
        ],
        [
         "worst_trade",
         "-0.012406468100915169"
        ],
        [
         "profit_factor",
         "1.1076789603575037"
        ],
        [
         "expectancy",
         "3.4564664421554237e-05"
        ],
        [
         "kelly_criterion",
         "0.04753472399451042"
        ],
        [
         "consecutive_wins",
         "17"
        ],
        [
         "consecutive_losses",
         "18"
        ],
        [
         "avg_trade_duration",
         "0 days 02:37:11"
        ],
        [
         "ratio_of_longs",
         "0.49693924166285974"
        ]
       ],
       "shape": {
        "columns": 1,
        "rows": 35
       }
      },
      "text/plain": [
       "total_return                         2.290849\n",
       "annualized_return                      0.3477\n",
       "volatility                           0.295733\n",
       "downside_volatility                  0.219597\n",
       "sharpe_ratio                         9.218397\n",
       "sortino_ratio                         12.4145\n",
       "var_95                              -0.001626\n",
       "cvar_95                             -0.002557\n",
       "skewness                             0.141904\n",
       "kurtosis                             7.629223\n",
       "probabilistic_sharpe_ratio                1.0\n",
       "pos_concentration                    0.000075\n",
       "neg_concentration                    0.000081\n",
       "time_concentration                    0.00011\n",
       "max_drawdown                         0.096605\n",
       "avg_drawdown                         0.004586\n",
       "drawdown_duration             2 days 03:33:46\n",
       "ulcer_index                          0.010736\n",
       "calmar_ratio                         3.599173\n",
       "bet_frequency                           13366\n",
       "bets_per_year                            3346\n",
       "num_trades                              32835\n",
       "trades_per_year                          8220\n",
       "win_rate                             0.521578\n",
       "avg_win                              0.000727\n",
       "avg_loss                             -0.00072\n",
       "best_trade                           0.010309\n",
       "worst_trade                         -0.012406\n",
       "profit_factor                        1.107679\n",
       "expectancy                           0.000035\n",
       "kelly_criterion                      0.047535\n",
       "consecutive_wins                           17\n",
       "consecutive_losses                         18\n",
       "avg_trade_duration            0 days 02:37:11\n",
       "ratio_of_longs                       0.496939\n",
       "Name: trade_metrics, dtype: object"
      ]
     },
     "execution_count": 6,
     "metadata": {},
     "output_type": "execute_result"
    }
   ],
   "source": [
    "bb_events_time0 = tb_evaluator.evaluate_performance(0, 0, time_horizon)\n",
    "bb_events_time_metrics0 = tb_evaluator.calculate_strategy_metrics(bb_events_time0)\n",
    "bb_events_time_metrics0"
   ]
  },
  {
   "cell_type": "markdown",
   "id": "fbe1c961",
   "metadata": {},
   "source": [
    "### Triple-Barrier Method"
   ]
  },
  {
   "cell_type": "code",
   "execution_count": 7,
   "id": "c5b85936",
   "metadata": {},
   "outputs": [
    {
     "name": "stdout",
     "output_type": "stream",
     "text": [
      "\u001b[32m2025-08-29 01:49:59.619\u001b[0m | \u001b[1mINFO    \u001b[0m | \u001b[36mafml.strategies.genetic_optimizer\u001b[0m:\u001b[36m__init__\u001b[0m:\u001b[36m147\u001b[0m - \u001b[1mGenerating primary signals...\u001b[0m\n",
      "\u001b[32m2025-08-29 01:49:59.703\u001b[0m | \u001b[1mINFO    \u001b[0m | \u001b[36mafml.strategies.strategies\u001b[0m:\u001b[36mget_entries\u001b[0m:\u001b[36m76\u001b[0m - \u001b[1mGenerated 32,863 trade events generated by crossover.\u001b[0m\n"
     ]
    },
    {
     "data": {
      "application/vnd.microsoft.datawrangler.viewer.v0+json": {
       "columns": [
        {
         "name": "index",
         "rawType": "object",
         "type": "string"
        },
        {
         "name": "trade_metrics",
         "rawType": "object",
         "type": "unknown"
        }
       ],
       "ref": "9f86ef9e-3b32-4d47-bb32-0d23ab47a071",
       "rows": [
        [
         "total_return",
         "2.4799177085195017"
        ],
        [
         "annualized_return",
         "0.3666925542345054"
        ],
        [
         "volatility",
         "0.2686327223583192"
        ],
        [
         "downside_volatility",
         "0.20761326178654763"
        ],
        [
         "sharpe_ratio",
         "10.588294793726192"
        ],
        [
         "sortino_ratio",
         "13.700292703341105"
        ],
        [
         "var_95",
         "-0.001613579726480363"
        ],
        [
         "cvar_95",
         "-0.0024234108396656976"
        ],
        [
         "skewness",
         "-0.4499100377062589"
        ],
        [
         "kurtosis",
         "4.252901326816851"
        ],
        [
         "probabilistic_sharpe_ratio",
         "0.9999999999986299"
        ],
        [
         "pos_concentration",
         "4.863527598947911e-05"
        ],
        [
         "neg_concentration",
         "7.447515000565019e-05"
        ],
        [
         "time_concentration",
         "0.00011025618549840866"
        ],
        [
         "max_drawdown",
         "0.09166715811536319"
        ],
        [
         "avg_drawdown",
         "0.00413647659582231"
        ],
        [
         "drawdown_duration",
         "1 days 21:35:09"
        ],
        [
         "ulcer_index",
         "0.009637133070826198"
        ],
        [
         "calmar_ratio",
         "4.000260963397846"
        ],
        [
         "bet_frequency",
         "13366"
        ],
        [
         "bets_per_year",
         "3346"
        ],
        [
         "num_trades",
         "32835"
        ],
        [
         "trades_per_year",
         "8220"
        ],
        [
         "win_rate",
         "0.5371097913811481"
        ],
        [
         "avg_win",
         "0.0006880549290282075"
        ],
        [
         "avg_loss",
         "-0.000720013136809733"
        ],
        [
         "best_trade",
         "0.007273445007721646"
        ],
        [
         "worst_trade",
         "-0.009731947631067772"
        ],
        [
         "profit_factor",
         "1.116180921736257"
        ],
        [
         "expectancy",
         "3.6274008282939966e-05"
        ],
        [
         "kelly_criterion",
         "0.05271964018072289"
        ],
        [
         "consecutive_wins",
         "18"
        ],
        [
         "consecutive_losses",
         "18"
        ],
        [
         "avg_trade_duration",
         "0 days 02:37:11"
        ],
        [
         "ratio_of_longs",
         "0.49693924166285974"
        ]
       ],
       "shape": {
        "columns": 1,
        "rows": 35
       }
      },
      "text/plain": [
       "total_return                         2.479918\n",
       "annualized_return                    0.366693\n",
       "volatility                           0.268633\n",
       "downside_volatility                  0.207613\n",
       "sharpe_ratio                        10.588295\n",
       "sortino_ratio                       13.700293\n",
       "var_95                              -0.001614\n",
       "cvar_95                             -0.002423\n",
       "skewness                             -0.44991\n",
       "kurtosis                             4.252901\n",
       "probabilistic_sharpe_ratio                1.0\n",
       "pos_concentration                    0.000049\n",
       "neg_concentration                    0.000074\n",
       "time_concentration                    0.00011\n",
       "max_drawdown                         0.091667\n",
       "avg_drawdown                         0.004136\n",
       "drawdown_duration             1 days 21:35:09\n",
       "ulcer_index                          0.009637\n",
       "calmar_ratio                         4.000261\n",
       "bet_frequency                           13366\n",
       "bets_per_year                            3346\n",
       "num_trades                              32835\n",
       "trades_per_year                          8220\n",
       "win_rate                              0.53711\n",
       "avg_win                              0.000688\n",
       "avg_loss                             -0.00072\n",
       "best_trade                           0.007273\n",
       "worst_trade                         -0.009732\n",
       "profit_factor                        1.116181\n",
       "expectancy                           0.000036\n",
       "kelly_criterion                       0.05272\n",
       "consecutive_wins                           18\n",
       "consecutive_losses                         18\n",
       "avg_trade_duration            0 days 02:37:11\n",
       "ratio_of_longs                       0.496939\n",
       "Name: trade_metrics, dtype: object"
      ]
     },
     "execution_count": 7,
     "metadata": {},
     "output_type": "execute_result"
    }
   ],
   "source": [
    "tb_evaluator.set_params(strategy=bb_strategy, data=bb_df, filter_events=False, \n",
    "                        target_vol_params=target_vol_params,\n",
    "                        vertical_barrier_zero=True)\n",
    "bb_events_time = tb_evaluator.evaluate_performance(pt_barrier, sl_barrier, time_horizon)\n",
    "bb_events_time_metrics = tb_evaluator.calculate_strategy_metrics(bb_events_time)\n",
    "bb_events_time_metrics"
   ]
  },
  {
   "cell_type": "code",
   "execution_count": 8,
   "id": "68a75aa2",
   "metadata": {},
   "outputs": [
    {
     "name": "stdout",
     "output_type": "stream",
     "text": [
      "\u001b[32m2025-08-29 01:50:03.591\u001b[0m | \u001b[1mINFO    \u001b[0m | \u001b[36mafml.strategies.genetic_optimizer\u001b[0m:\u001b[36m__init__\u001b[0m:\u001b[36m147\u001b[0m - \u001b[1mGenerating primary signals...\u001b[0m\n",
      "\u001b[32m2025-08-29 01:50:08.738\u001b[0m | \u001b[1mINFO    \u001b[0m | \u001b[36mafml.strategies.strategies\u001b[0m:\u001b[36mget_entries\u001b[0m:\u001b[36m76\u001b[0m - \u001b[1mGenerated 7,834 trade events generated by CUSUM filter.\u001b[0m\n"
     ]
    },
    {
     "data": {
      "application/vnd.microsoft.datawrangler.viewer.v0+json": {
       "columns": [
        {
         "name": "index",
         "rawType": "object",
         "type": "string"
        },
        {
         "name": "trade_metrics",
         "rawType": "object",
         "type": "unknown"
        }
       ],
       "ref": "c45a0b07-eba9-485a-8909-eaa1886e91c0",
       "rows": [
        [
         "total_return",
         "0.5184714346622985"
        ],
        [
         "annualized_return",
         "0.11031184449786324"
        ],
        [
         "volatility",
         "0.36695161953551914"
        ],
        [
         "downside_volatility",
         "0.27038957118488943"
        ],
        [
         "sharpe_ratio",
         "10.939009623630385"
        ],
        [
         "sortino_ratio",
         "14.845569967493349"
        ],
        [
         "var_95",
         "-0.002269953410607206"
        ],
        [
         "cvar_95",
         "-0.003161194082704595"
        ],
        [
         "skewness",
         "-0.4469066457450044"
        ],
        [
         "kurtosis",
         "2.3347591133317342"
        ],
        [
         "probabilistic_sharpe_ratio",
         "0.999789083733706"
        ],
        [
         "pos_concentration",
         "0.00015630842551282498"
        ],
        [
         "neg_concentration",
         "0.0002476451392828722"
        ],
        [
         "time_concentration",
         "0.003162863600413463"
        ],
        [
         "max_drawdown",
         "0.08210427117436259"
        ],
        [
         "avg_drawdown",
         "0.004899953871983486"
        ],
        [
         "drawdown_duration",
         "6 days 07:32:24"
        ],
        [
         "ulcer_index",
         "0.010183477760943"
        ],
        [
         "calmar_ratio",
         "1.3435579284736237"
        ],
        [
         "bet_frequency",
         "3541"
        ],
        [
         "bets_per_year",
         "886"
        ],
        [
         "num_trades",
         "7826"
        ],
        [
         "trades_per_year",
         "1959"
        ],
        [
         "win_rate",
         "0.5474060822898033"
        ],
        [
         "avg_win",
         "0.0009753674052662964"
        ],
        [
         "avg_loss",
         "-0.0010639544506277096"
        ],
        [
         "best_trade",
         "0.007179259832495566"
        ],
        [
         "worst_trade",
         "-0.009731947631067772"
        ],
        [
         "profit_factor",
         "1.1131817773740535"
        ],
        [
         "expectancy",
         "5.238273703519889e-05"
        ],
        [
         "kelly_criterion",
         "0.0537056464593435"
        ],
        [
         "consecutive_wins",
         "12"
        ],
        [
         "consecutive_losses",
         "10"
        ],
        [
         "avg_trade_duration",
         "0 days 09:53:21"
        ],
        [
         "ratio_of_longs",
         "0.5074111934577051"
        ]
       ],
       "shape": {
        "columns": 1,
        "rows": 35
       }
      },
      "text/plain": [
       "total_return                         0.518471\n",
       "annualized_return                    0.110312\n",
       "volatility                           0.366952\n",
       "downside_volatility                   0.27039\n",
       "sharpe_ratio                         10.93901\n",
       "sortino_ratio                        14.84557\n",
       "var_95                               -0.00227\n",
       "cvar_95                             -0.003161\n",
       "skewness                            -0.446907\n",
       "kurtosis                             2.334759\n",
       "probabilistic_sharpe_ratio           0.999789\n",
       "pos_concentration                    0.000156\n",
       "neg_concentration                    0.000248\n",
       "time_concentration                   0.003163\n",
       "max_drawdown                         0.082104\n",
       "avg_drawdown                           0.0049\n",
       "drawdown_duration             6 days 07:32:24\n",
       "ulcer_index                          0.010183\n",
       "calmar_ratio                         1.343558\n",
       "bet_frequency                            3541\n",
       "bets_per_year                             886\n",
       "num_trades                               7826\n",
       "trades_per_year                          1959\n",
       "win_rate                             0.547406\n",
       "avg_win                              0.000975\n",
       "avg_loss                            -0.001064\n",
       "best_trade                           0.007179\n",
       "worst_trade                         -0.009732\n",
       "profit_factor                        1.113182\n",
       "expectancy                           0.000052\n",
       "kelly_criterion                      0.053706\n",
       "consecutive_wins                           12\n",
       "consecutive_losses                         10\n",
       "avg_trade_duration            0 days 09:53:21\n",
       "ratio_of_longs                       0.507411\n",
       "Name: trade_metrics, dtype: object"
      ]
     },
     "execution_count": 8,
     "metadata": {},
     "output_type": "execute_result"
    }
   ],
   "source": [
    "tb_evaluator.set_params(strategy=bb_strategy, data=bb_df, filter_events=True, \n",
    "                        target_vol_params=target_vol_params, vertical_barrier_zero=True)\n",
    "bb_events_time_filt = tb_evaluator.evaluate_performance(pt_barrier, sl_barrier, time_horizon)\n",
    "bb_events_time_filt_metrics = tb_evaluator.calculate_strategy_metrics(bb_events_time_filt)\n",
    "bb_events_time_filt_metrics"
   ]
  },
  {
   "cell_type": "code",
   "execution_count": 9,
   "id": "b28d9424",
   "metadata": {},
   "outputs": [
    {
     "name": "stdout",
     "output_type": "stream",
     "text": [
      "\u001b[32m2025-08-29 01:50:15.364\u001b[0m | \u001b[1mINFO    \u001b[0m | \u001b[36mafml.strategies.genetic_optimizer\u001b[0m:\u001b[36m__init__\u001b[0m:\u001b[36m147\u001b[0m - \u001b[1mGenerating primary signals...\u001b[0m\n",
      "\u001b[32m2025-08-29 01:50:15.496\u001b[0m | \u001b[1mINFO    \u001b[0m | \u001b[36mafml.strategies.strategies\u001b[0m:\u001b[36mget_entries\u001b[0m:\u001b[36m76\u001b[0m - \u001b[1mGenerated 45,846 trade events generated by crossover.\u001b[0m\n"
     ]
    },
    {
     "data": {
      "application/vnd.microsoft.datawrangler.viewer.v0+json": {
       "columns": [
        {
         "name": "index",
         "rawType": "object",
         "type": "string"
        },
        {
         "name": "trade_metrics",
         "rawType": "object",
         "type": "unknown"
        }
       ],
       "ref": "cfe61b94-27c3-4224-8fd0-63def147486d",
       "rows": [
        [
         "total_return",
         "1.9995699979606432"
        ],
        [
         "annualized_return",
         "0.31677068993323276"
        ],
        [
         "volatility",
         "0.28360380576099525"
        ],
        [
         "downside_volatility",
         "0.19384735244857865"
        ],
        [
         "sharpe_ratio",
         "9.182316050106833"
        ],
        [
         "sortino_ratio",
         "13.433971341967956"
        ],
        [
         "var_95",
         "-0.0014198289438971667"
        ],
        [
         "cvar_95",
         "-0.0019584091186892086"
        ],
        [
         "skewness",
         "-0.3439225514336485"
        ],
        [
         "kurtosis",
         "2.0048536363592087"
        ],
        [
         "probabilistic_sharpe_ratio",
         "0.9999999988900238"
        ],
        [
         "pos_concentration",
         "2.337580346913984e-05"
        ],
        [
         "neg_concentration",
         "3.460401232297305e-05"
        ],
        [
         "time_concentration",
         "0.0042504435667950384"
        ],
        [
         "max_drawdown",
         "0.08849925697760963"
        ],
        [
         "avg_drawdown",
         "0.004423684084263085"
        ],
        [
         "drawdown_duration",
         "1 days 23:57:29"
        ],
        [
         "ulcer_index",
         "0.010249128196051406"
        ],
        [
         "calmar_ratio",
         "3.5793598811047187"
        ],
        [
         "bet_frequency",
         "15594"
        ],
        [
         "bets_per_year",
         "3903"
        ],
        [
         "num_trades",
         "45796"
        ],
        [
         "trades_per_year",
         "11464"
        ],
        [
         "win_rate",
         "0.5213992488426937"
        ],
        [
         "avg_win",
         "0.0006701261282046788"
        ],
        [
         "avg_loss",
         "-0.000682510637433373"
        ],
        [
         "best_trade",
         "0.007324790682932569"
        ],
        [
         "worst_trade",
         "-0.007609080621201247"
        ],
        [
         "profit_factor",
         "1.074952834258599"
        ],
        [
         "expectancy",
         "2.2753156127317974e-05"
        ],
        [
         "kelly_criterion",
         "0.033953542728255515"
        ],
        [
         "consecutive_wins",
         "19"
        ],
        [
         "consecutive_losses",
         "22"
        ],
        [
         "avg_trade_duration",
         "0 days 02:14:44"
        ],
        [
         "ratio_of_longs",
         "0.5029915276443357"
        ]
       ],
       "shape": {
        "columns": 1,
        "rows": 35
       }
      },
      "text/plain": [
       "total_return                          1.99957\n",
       "annualized_return                    0.316771\n",
       "volatility                           0.283604\n",
       "downside_volatility                  0.193847\n",
       "sharpe_ratio                         9.182316\n",
       "sortino_ratio                       13.433971\n",
       "var_95                               -0.00142\n",
       "cvar_95                             -0.001958\n",
       "skewness                            -0.343923\n",
       "kurtosis                             2.004854\n",
       "probabilistic_sharpe_ratio                1.0\n",
       "pos_concentration                    0.000023\n",
       "neg_concentration                    0.000035\n",
       "time_concentration                    0.00425\n",
       "max_drawdown                         0.088499\n",
       "avg_drawdown                         0.004424\n",
       "drawdown_duration             1 days 23:57:29\n",
       "ulcer_index                          0.010249\n",
       "calmar_ratio                          3.57936\n",
       "bet_frequency                           15594\n",
       "bets_per_year                            3903\n",
       "num_trades                              45796\n",
       "trades_per_year                         11464\n",
       "win_rate                             0.521399\n",
       "avg_win                               0.00067\n",
       "avg_loss                            -0.000683\n",
       "best_trade                           0.007325\n",
       "worst_trade                         -0.007609\n",
       "profit_factor                        1.074953\n",
       "expectancy                           0.000023\n",
       "kelly_criterion                      0.033954\n",
       "consecutive_wins                           19\n",
       "consecutive_losses                         22\n",
       "avg_trade_duration            0 days 02:14:44\n",
       "ratio_of_longs                       0.502992\n",
       "Name: trade_metrics, dtype: object"
      ]
     },
     "execution_count": 9,
     "metadata": {},
     "output_type": "execute_result"
    }
   ],
   "source": [
    "tb_evaluator.set_params(strategy=bb_strategy, data=bb_df0, filter_events=False, \n",
    "                        target_vol_params=target_vol_params, vertical_barrier_zero=True)\n",
    "bb_events_tick = tb_evaluator.evaluate_performance(pt_barrier, sl_barrier, time_horizon)\n",
    "bb_events_tick_metrics = tb_evaluator.calculate_strategy_metrics(bb_events_tick)\n",
    "bb_events_tick_metrics"
   ]
  },
  {
   "cell_type": "code",
   "execution_count": 10,
   "id": "c77288ff",
   "metadata": {},
   "outputs": [
    {
     "name": "stdout",
     "output_type": "stream",
     "text": [
      "\u001b[32m2025-08-29 01:50:23.435\u001b[0m | \u001b[1mINFO    \u001b[0m | \u001b[36mafml.strategies.genetic_optimizer\u001b[0m:\u001b[36m__init__\u001b[0m:\u001b[36m147\u001b[0m - \u001b[1mGenerating primary signals...\u001b[0m\n",
      "\u001b[32m2025-08-29 01:50:23.554\u001b[0m | \u001b[1mINFO    \u001b[0m | \u001b[36mafml.strategies.strategies\u001b[0m:\u001b[36mget_entries\u001b[0m:\u001b[36m76\u001b[0m - \u001b[1mGenerated 12,921 trade events generated by CUSUM filter.\u001b[0m\n"
     ]
    },
    {
     "data": {
      "application/vnd.microsoft.datawrangler.viewer.v0+json": {
       "columns": [
        {
         "name": "index",
         "rawType": "object",
         "type": "string"
        },
        {
         "name": "trade_metrics",
         "rawType": "object",
         "type": "unknown"
        }
       ],
       "ref": "25c1081e-09f8-4cb0-a2f3-c012cff515fb",
       "rows": [
        [
         "total_return",
         "0.6616969188166044"
        ],
        [
         "annualized_return",
         "0.13566804574109748"
        ],
        [
         "volatility",
         "0.32423088499525365"
        ],
        [
         "downside_volatility",
         "0.2268937345549284"
        ],
        [
         "sharpe_ratio",
         "13.129728366560629"
        ],
        [
         "sortino_ratio",
         "18.762366692883063"
        ],
        [
         "var_95",
         "-0.0016177309100102732"
        ],
        [
         "cvar_95",
         "-0.0022750807943420605"
        ],
        [
         "skewness",
         "-0.3826144241803283"
        ],
        [
         "kurtosis",
         "1.8965811430830941"
        ],
        [
         "probabilistic_sharpe_ratio",
         "0.9999970160958374"
        ],
        [
         "pos_concentration",
         "8.416003063617705e-05"
        ],
        [
         "neg_concentration",
         "0.0001334239338315169"
        ],
        [
         "time_concentration",
         "0.006253510026817227"
        ],
        [
         "max_drawdown",
         "0.036675131429606544"
        ],
        [
         "avg_drawdown",
         "0.003499344410455768"
        ],
        [
         "drawdown_duration",
         "3 days 21:51:15"
        ],
        [
         "ulcer_index",
         "0.006423587027151572"
        ],
        [
         "calmar_ratio",
         "3.6991836280531345"
        ],
        [
         "bet_frequency",
         "6145"
        ],
        [
         "bets_per_year",
         "1538"
        ],
        [
         "num_trades",
         "12911"
        ],
        [
         "trades_per_year",
         "3232"
        ],
        [
         "win_rate",
         "0.529548447060646"
        ],
        [
         "avg_win",
         "0.0007589497667317903"
        ],
        [
         "avg_loss",
         "-0.0007723014125967962"
        ],
        [
         "best_trade",
         "0.005691070234248308"
        ],
        [
         "worst_trade",
         "-0.007106227533263509"
        ],
        [
         "profit_factor",
         "1.109995220087036"
        ],
        [
         "expectancy",
         "3.8570271476439505e-05"
        ],
        [
         "kelly_criterion",
         "0.05082058545525592"
        ],
        [
         "consecutive_wins",
         "17"
        ],
        [
         "consecutive_losses",
         "12"
        ],
        [
         "avg_trade_duration",
         "0 days 05:41:52"
        ],
        [
         "ratio_of_longs",
         "0.5046084733947797"
        ]
       ],
       "shape": {
        "columns": 1,
        "rows": 35
       }
      },
      "text/plain": [
       "total_return                         0.661697\n",
       "annualized_return                    0.135668\n",
       "volatility                           0.324231\n",
       "downside_volatility                  0.226894\n",
       "sharpe_ratio                        13.129728\n",
       "sortino_ratio                       18.762367\n",
       "var_95                              -0.001618\n",
       "cvar_95                             -0.002275\n",
       "skewness                            -0.382614\n",
       "kurtosis                             1.896581\n",
       "probabilistic_sharpe_ratio           0.999997\n",
       "pos_concentration                    0.000084\n",
       "neg_concentration                    0.000133\n",
       "time_concentration                   0.006254\n",
       "max_drawdown                         0.036675\n",
       "avg_drawdown                         0.003499\n",
       "drawdown_duration             3 days 21:51:15\n",
       "ulcer_index                          0.006424\n",
       "calmar_ratio                         3.699184\n",
       "bet_frequency                            6145\n",
       "bets_per_year                            1538\n",
       "num_trades                              12911\n",
       "trades_per_year                          3232\n",
       "win_rate                             0.529548\n",
       "avg_win                              0.000759\n",
       "avg_loss                            -0.000772\n",
       "best_trade                           0.005691\n",
       "worst_trade                         -0.007106\n",
       "profit_factor                        1.109995\n",
       "expectancy                           0.000039\n",
       "kelly_criterion                      0.050821\n",
       "consecutive_wins                           17\n",
       "consecutive_losses                         12\n",
       "avg_trade_duration            0 days 05:41:52\n",
       "ratio_of_longs                       0.504608\n",
       "Name: trade_metrics, dtype: object"
      ]
     },
     "execution_count": 10,
     "metadata": {},
     "output_type": "execute_result"
    }
   ],
   "source": [
    "tb_evaluator.set_params(strategy=bb_strategy, data=bb_df0, filter_events=True, \n",
    "                        target_vol_params=target_vol_params, vertical_barrier_zero=True)\n",
    "bb_events_tick_filt = tb_evaluator.evaluate_performance(pt_barrier, sl_barrier, time_horizon)\n",
    "bb_events_tick_filt_metrics = tb_evaluator.calculate_strategy_metrics(bb_events_tick_filt)\n",
    "bb_events_tick_filt_metrics"
   ]
  },
  {
   "cell_type": "code",
   "execution_count": 11,
   "id": "99347f48",
   "metadata": {},
   "outputs": [
    {
     "name": "stdout",
     "output_type": "stream",
     "text": [
      "Bollinger_w20_std1.5: \n",
      "\n"
     ]
    },
    {
     "data": {
      "application/vnd.microsoft.datawrangler.viewer.v0+json": {
       "columns": [
        {
         "name": "index",
         "rawType": "object",
         "type": "string"
        },
        {
         "name": "time",
         "rawType": "object",
         "type": "unknown"
        },
        {
         "name": "filtered_time",
         "rawType": "object",
         "type": "unknown"
        },
        {
         "name": "tick",
         "rawType": "object",
         "type": "unknown"
        },
        {
         "name": "filtered_tick",
         "rawType": "object",
         "type": "unknown"
        }
       ],
       "ref": "f9182545-d92e-4d56-9afe-d5791d755d0a",
       "rows": [
        [
         "total_return",
         "2.4799177085195017",
         "0.5184714346622985",
         "1.9995699979606432",
         "0.6616969188166044"
        ],
        [
         "annualized_return",
         "0.3666925542345054",
         "0.11031184449786324",
         "0.31677068993323276",
         "0.13566804574109748"
        ],
        [
         "volatility",
         "0.2686327223583192",
         "0.36695161953551914",
         "0.28360380576099525",
         "0.32423088499525365"
        ],
        [
         "downside_volatility",
         "0.20761326178654763",
         "0.27038957118488943",
         "0.19384735244857865",
         "0.2268937345549284"
        ],
        [
         "sharpe_ratio",
         "10.588294793726192",
         "10.939009623630385",
         "9.182316050106833",
         "13.129728366560629"
        ],
        [
         "sortino_ratio",
         "13.700292703341105",
         "14.845569967493349",
         "13.433971341967956",
         "18.762366692883063"
        ],
        [
         "var_95",
         "-0.001613579726480363",
         "-0.002269953410607206",
         "-0.0014198289438971667",
         "-0.0016177309100102732"
        ],
        [
         "cvar_95",
         "-0.0024234108396656976",
         "-0.003161194082704595",
         "-0.0019584091186892086",
         "-0.0022750807943420605"
        ],
        [
         "skewness",
         "-0.4499100377062589",
         "-0.4469066457450044",
         "-0.3439225514336485",
         "-0.3826144241803283"
        ],
        [
         "kurtosis",
         "4.252901326816851",
         "2.3347591133317342",
         "2.0048536363592087",
         "1.8965811430830941"
        ],
        [
         "probabilistic_sharpe_ratio",
         "0.9999999999986299",
         "0.999789083733706",
         "0.9999999988900238",
         "0.9999970160958374"
        ],
        [
         "pos_concentration",
         "4.863527598947911e-05",
         "0.00015630842551282498",
         "2.337580346913984e-05",
         "8.416003063617705e-05"
        ],
        [
         "neg_concentration",
         "7.447515000565019e-05",
         "0.0002476451392828722",
         "3.460401232297305e-05",
         "0.0001334239338315169"
        ],
        [
         "time_concentration",
         "0.00011025618549840866",
         "0.003162863600413463",
         "0.0042504435667950384",
         "0.006253510026817227"
        ],
        [
         "max_drawdown",
         "0.09166715811536319",
         "0.08210427117436259",
         "0.08849925697760963",
         "0.036675131429606544"
        ],
        [
         "avg_drawdown",
         "0.00413647659582231",
         "0.004899953871983486",
         "0.004423684084263085",
         "0.003499344410455768"
        ],
        [
         "drawdown_duration",
         "1 days 21:35:09",
         "6 days 07:32:24",
         "1 days 23:57:29",
         "3 days 21:51:15"
        ],
        [
         "ulcer_index",
         "0.009637133070826198",
         "0.010183477760943",
         "0.010249128196051406",
         "0.006423587027151572"
        ],
        [
         "calmar_ratio",
         "4.000260963397846",
         "1.3435579284736237",
         "3.5793598811047187",
         "3.6991836280531345"
        ],
        [
         "bet_frequency",
         "13366",
         "3541",
         "15594",
         "6145"
        ],
        [
         "bets_per_year",
         "3346",
         "886",
         "3903",
         "1538"
        ],
        [
         "num_trades",
         "32835",
         "7826",
         "45796",
         "12911"
        ],
        [
         "trades_per_year",
         "8220",
         "1959",
         "11464",
         "3232"
        ],
        [
         "win_rate",
         "0.5371097913811481",
         "0.5474060822898033",
         "0.5213992488426937",
         "0.529548447060646"
        ],
        [
         "avg_win",
         "0.0006880549290282075",
         "0.0009753674052662964",
         "0.0006701261282046788",
         "0.0007589497667317903"
        ],
        [
         "avg_loss",
         "-0.000720013136809733",
         "-0.0010639544506277096",
         "-0.000682510637433373",
         "-0.0007723014125967962"
        ],
        [
         "best_trade",
         "0.007273445007721646",
         "0.007179259832495566",
         "0.007324790682932569",
         "0.005691070234248308"
        ],
        [
         "worst_trade",
         "-0.009731947631067772",
         "-0.009731947631067772",
         "-0.007609080621201247",
         "-0.007106227533263509"
        ],
        [
         "profit_factor",
         "1.116180921736257",
         "1.1131817773740535",
         "1.074952834258599",
         "1.109995220087036"
        ],
        [
         "expectancy",
         "3.6274008282939966e-05",
         "5.238273703519889e-05",
         "2.2753156127317974e-05",
         "3.8570271476439505e-05"
        ],
        [
         "kelly_criterion",
         "0.05271964018072289",
         "0.0537056464593435",
         "0.033953542728255515",
         "0.05082058545525592"
        ],
        [
         "consecutive_wins",
         "18",
         "12",
         "19",
         "17"
        ],
        [
         "consecutive_losses",
         "18",
         "10",
         "22",
         "12"
        ],
        [
         "avg_trade_duration",
         "0 days 02:37:11",
         "0 days 09:53:21",
         "0 days 02:14:44",
         "0 days 05:41:52"
        ],
        [
         "ratio_of_longs",
         "0.49693924166285974",
         "0.5074111934577051",
         "0.5029915276443357",
         "0.5046084733947797"
        ]
       ],
       "shape": {
        "columns": 4,
        "rows": 35
       }
      },
      "text/html": [
       "<div>\n",
       "<style scoped>\n",
       "    .dataframe tbody tr th:only-of-type {\n",
       "        vertical-align: middle;\n",
       "    }\n",
       "\n",
       "    .dataframe tbody tr th {\n",
       "        vertical-align: top;\n",
       "    }\n",
       "\n",
       "    .dataframe thead th {\n",
       "        text-align: right;\n",
       "    }\n",
       "</style>\n",
       "<table border=\"1\" class=\"dataframe\">\n",
       "  <thead>\n",
       "    <tr style=\"text-align: right;\">\n",
       "      <th></th>\n",
       "      <th>time</th>\n",
       "      <th>filtered_time</th>\n",
       "      <th>tick</th>\n",
       "      <th>filtered_tick</th>\n",
       "    </tr>\n",
       "  </thead>\n",
       "  <tbody>\n",
       "    <tr>\n",
       "      <th>total_return</th>\n",
       "      <td>2.479918</td>\n",
       "      <td>0.518471</td>\n",
       "      <td>1.99957</td>\n",
       "      <td>0.661697</td>\n",
       "    </tr>\n",
       "    <tr>\n",
       "      <th>annualized_return</th>\n",
       "      <td>0.366693</td>\n",
       "      <td>0.110312</td>\n",
       "      <td>0.316771</td>\n",
       "      <td>0.135668</td>\n",
       "    </tr>\n",
       "    <tr>\n",
       "      <th>volatility</th>\n",
       "      <td>0.268633</td>\n",
       "      <td>0.366952</td>\n",
       "      <td>0.283604</td>\n",
       "      <td>0.324231</td>\n",
       "    </tr>\n",
       "    <tr>\n",
       "      <th>downside_volatility</th>\n",
       "      <td>0.207613</td>\n",
       "      <td>0.27039</td>\n",
       "      <td>0.193847</td>\n",
       "      <td>0.226894</td>\n",
       "    </tr>\n",
       "    <tr>\n",
       "      <th>sharpe_ratio</th>\n",
       "      <td>10.588295</td>\n",
       "      <td>10.93901</td>\n",
       "      <td>9.182316</td>\n",
       "      <td>13.129728</td>\n",
       "    </tr>\n",
       "    <tr>\n",
       "      <th>sortino_ratio</th>\n",
       "      <td>13.700293</td>\n",
       "      <td>14.84557</td>\n",
       "      <td>13.433971</td>\n",
       "      <td>18.762367</td>\n",
       "    </tr>\n",
       "    <tr>\n",
       "      <th>var_95</th>\n",
       "      <td>-0.001614</td>\n",
       "      <td>-0.00227</td>\n",
       "      <td>-0.00142</td>\n",
       "      <td>-0.001618</td>\n",
       "    </tr>\n",
       "    <tr>\n",
       "      <th>cvar_95</th>\n",
       "      <td>-0.002423</td>\n",
       "      <td>-0.003161</td>\n",
       "      <td>-0.001958</td>\n",
       "      <td>-0.002275</td>\n",
       "    </tr>\n",
       "    <tr>\n",
       "      <th>skewness</th>\n",
       "      <td>-0.44991</td>\n",
       "      <td>-0.446907</td>\n",
       "      <td>-0.343923</td>\n",
       "      <td>-0.382614</td>\n",
       "    </tr>\n",
       "    <tr>\n",
       "      <th>kurtosis</th>\n",
       "      <td>4.252901</td>\n",
       "      <td>2.334759</td>\n",
       "      <td>2.004854</td>\n",
       "      <td>1.896581</td>\n",
       "    </tr>\n",
       "    <tr>\n",
       "      <th>probabilistic_sharpe_ratio</th>\n",
       "      <td>1.0</td>\n",
       "      <td>0.999789</td>\n",
       "      <td>1.0</td>\n",
       "      <td>0.999997</td>\n",
       "    </tr>\n",
       "    <tr>\n",
       "      <th>pos_concentration</th>\n",
       "      <td>0.000049</td>\n",
       "      <td>0.000156</td>\n",
       "      <td>0.000023</td>\n",
       "      <td>0.000084</td>\n",
       "    </tr>\n",
       "    <tr>\n",
       "      <th>neg_concentration</th>\n",
       "      <td>0.000074</td>\n",
       "      <td>0.000248</td>\n",
       "      <td>0.000035</td>\n",
       "      <td>0.000133</td>\n",
       "    </tr>\n",
       "    <tr>\n",
       "      <th>time_concentration</th>\n",
       "      <td>0.00011</td>\n",
       "      <td>0.003163</td>\n",
       "      <td>0.00425</td>\n",
       "      <td>0.006254</td>\n",
       "    </tr>\n",
       "    <tr>\n",
       "      <th>max_drawdown</th>\n",
       "      <td>0.091667</td>\n",
       "      <td>0.082104</td>\n",
       "      <td>0.088499</td>\n",
       "      <td>0.036675</td>\n",
       "    </tr>\n",
       "    <tr>\n",
       "      <th>avg_drawdown</th>\n",
       "      <td>0.004136</td>\n",
       "      <td>0.0049</td>\n",
       "      <td>0.004424</td>\n",
       "      <td>0.003499</td>\n",
       "    </tr>\n",
       "    <tr>\n",
       "      <th>drawdown_duration</th>\n",
       "      <td>1 days 21:35:09</td>\n",
       "      <td>6 days 07:32:24</td>\n",
       "      <td>1 days 23:57:29</td>\n",
       "      <td>3 days 21:51:15</td>\n",
       "    </tr>\n",
       "    <tr>\n",
       "      <th>ulcer_index</th>\n",
       "      <td>0.009637</td>\n",
       "      <td>0.010183</td>\n",
       "      <td>0.010249</td>\n",
       "      <td>0.006424</td>\n",
       "    </tr>\n",
       "    <tr>\n",
       "      <th>calmar_ratio</th>\n",
       "      <td>4.000261</td>\n",
       "      <td>1.343558</td>\n",
       "      <td>3.57936</td>\n",
       "      <td>3.699184</td>\n",
       "    </tr>\n",
       "    <tr>\n",
       "      <th>bet_frequency</th>\n",
       "      <td>13366</td>\n",
       "      <td>3541</td>\n",
       "      <td>15594</td>\n",
       "      <td>6145</td>\n",
       "    </tr>\n",
       "    <tr>\n",
       "      <th>bets_per_year</th>\n",
       "      <td>3346</td>\n",
       "      <td>886</td>\n",
       "      <td>3903</td>\n",
       "      <td>1538</td>\n",
       "    </tr>\n",
       "    <tr>\n",
       "      <th>num_trades</th>\n",
       "      <td>32835</td>\n",
       "      <td>7826</td>\n",
       "      <td>45796</td>\n",
       "      <td>12911</td>\n",
       "    </tr>\n",
       "    <tr>\n",
       "      <th>trades_per_year</th>\n",
       "      <td>8220</td>\n",
       "      <td>1959</td>\n",
       "      <td>11464</td>\n",
       "      <td>3232</td>\n",
       "    </tr>\n",
       "    <tr>\n",
       "      <th>win_rate</th>\n",
       "      <td>0.53711</td>\n",
       "      <td>0.547406</td>\n",
       "      <td>0.521399</td>\n",
       "      <td>0.529548</td>\n",
       "    </tr>\n",
       "    <tr>\n",
       "      <th>avg_win</th>\n",
       "      <td>0.000688</td>\n",
       "      <td>0.000975</td>\n",
       "      <td>0.00067</td>\n",
       "      <td>0.000759</td>\n",
       "    </tr>\n",
       "    <tr>\n",
       "      <th>avg_loss</th>\n",
       "      <td>-0.00072</td>\n",
       "      <td>-0.001064</td>\n",
       "      <td>-0.000683</td>\n",
       "      <td>-0.000772</td>\n",
       "    </tr>\n",
       "    <tr>\n",
       "      <th>best_trade</th>\n",
       "      <td>0.007273</td>\n",
       "      <td>0.007179</td>\n",
       "      <td>0.007325</td>\n",
       "      <td>0.005691</td>\n",
       "    </tr>\n",
       "    <tr>\n",
       "      <th>worst_trade</th>\n",
       "      <td>-0.009732</td>\n",
       "      <td>-0.009732</td>\n",
       "      <td>-0.007609</td>\n",
       "      <td>-0.007106</td>\n",
       "    </tr>\n",
       "    <tr>\n",
       "      <th>profit_factor</th>\n",
       "      <td>1.116181</td>\n",
       "      <td>1.113182</td>\n",
       "      <td>1.074953</td>\n",
       "      <td>1.109995</td>\n",
       "    </tr>\n",
       "    <tr>\n",
       "      <th>expectancy</th>\n",
       "      <td>0.000036</td>\n",
       "      <td>0.000052</td>\n",
       "      <td>0.000023</td>\n",
       "      <td>0.000039</td>\n",
       "    </tr>\n",
       "    <tr>\n",
       "      <th>kelly_criterion</th>\n",
       "      <td>0.05272</td>\n",
       "      <td>0.053706</td>\n",
       "      <td>0.033954</td>\n",
       "      <td>0.050821</td>\n",
       "    </tr>\n",
       "    <tr>\n",
       "      <th>consecutive_wins</th>\n",
       "      <td>18</td>\n",
       "      <td>12</td>\n",
       "      <td>19</td>\n",
       "      <td>17</td>\n",
       "    </tr>\n",
       "    <tr>\n",
       "      <th>consecutive_losses</th>\n",
       "      <td>18</td>\n",
       "      <td>10</td>\n",
       "      <td>22</td>\n",
       "      <td>12</td>\n",
       "    </tr>\n",
       "    <tr>\n",
       "      <th>avg_trade_duration</th>\n",
       "      <td>0 days 02:37:11</td>\n",
       "      <td>0 days 09:53:21</td>\n",
       "      <td>0 days 02:14:44</td>\n",
       "      <td>0 days 05:41:52</td>\n",
       "    </tr>\n",
       "    <tr>\n",
       "      <th>ratio_of_longs</th>\n",
       "      <td>0.496939</td>\n",
       "      <td>0.507411</td>\n",
       "      <td>0.502992</td>\n",
       "      <td>0.504608</td>\n",
       "    </tr>\n",
       "  </tbody>\n",
       "</table>\n",
       "</div>"
      ],
      "text/plain": [
       "                                       time    filtered_time             tick  \\\n",
       "total_return                       2.479918         0.518471          1.99957   \n",
       "annualized_return                  0.366693         0.110312         0.316771   \n",
       "volatility                         0.268633         0.366952         0.283604   \n",
       "downside_volatility                0.207613          0.27039         0.193847   \n",
       "sharpe_ratio                      10.588295         10.93901         9.182316   \n",
       "sortino_ratio                     13.700293         14.84557        13.433971   \n",
       "var_95                            -0.001614         -0.00227         -0.00142   \n",
       "cvar_95                           -0.002423        -0.003161        -0.001958   \n",
       "skewness                           -0.44991        -0.446907        -0.343923   \n",
       "kurtosis                           4.252901         2.334759         2.004854   \n",
       "probabilistic_sharpe_ratio              1.0         0.999789              1.0   \n",
       "pos_concentration                  0.000049         0.000156         0.000023   \n",
       "neg_concentration                  0.000074         0.000248         0.000035   \n",
       "time_concentration                  0.00011         0.003163          0.00425   \n",
       "max_drawdown                       0.091667         0.082104         0.088499   \n",
       "avg_drawdown                       0.004136           0.0049         0.004424   \n",
       "drawdown_duration           1 days 21:35:09  6 days 07:32:24  1 days 23:57:29   \n",
       "ulcer_index                        0.009637         0.010183         0.010249   \n",
       "calmar_ratio                       4.000261         1.343558          3.57936   \n",
       "bet_frequency                         13366             3541            15594   \n",
       "bets_per_year                          3346              886             3903   \n",
       "num_trades                            32835             7826            45796   \n",
       "trades_per_year                        8220             1959            11464   \n",
       "win_rate                            0.53711         0.547406         0.521399   \n",
       "avg_win                            0.000688         0.000975          0.00067   \n",
       "avg_loss                           -0.00072        -0.001064        -0.000683   \n",
       "best_trade                         0.007273         0.007179         0.007325   \n",
       "worst_trade                       -0.009732        -0.009732        -0.007609   \n",
       "profit_factor                      1.116181         1.113182         1.074953   \n",
       "expectancy                         0.000036         0.000052         0.000023   \n",
       "kelly_criterion                     0.05272         0.053706         0.033954   \n",
       "consecutive_wins                         18               12               19   \n",
       "consecutive_losses                       18               10               22   \n",
       "avg_trade_duration          0 days 02:37:11  0 days 09:53:21  0 days 02:14:44   \n",
       "ratio_of_longs                     0.496939         0.507411         0.502992   \n",
       "\n",
       "                              filtered_tick  \n",
       "total_return                       0.661697  \n",
       "annualized_return                  0.135668  \n",
       "volatility                         0.324231  \n",
       "downside_volatility                0.226894  \n",
       "sharpe_ratio                      13.129728  \n",
       "sortino_ratio                     18.762367  \n",
       "var_95                            -0.001618  \n",
       "cvar_95                           -0.002275  \n",
       "skewness                          -0.382614  \n",
       "kurtosis                           1.896581  \n",
       "probabilistic_sharpe_ratio         0.999997  \n",
       "pos_concentration                  0.000084  \n",
       "neg_concentration                  0.000133  \n",
       "time_concentration                 0.006254  \n",
       "max_drawdown                       0.036675  \n",
       "avg_drawdown                       0.003499  \n",
       "drawdown_duration           3 days 21:51:15  \n",
       "ulcer_index                        0.006424  \n",
       "calmar_ratio                       3.699184  \n",
       "bet_frequency                          6145  \n",
       "bets_per_year                          1538  \n",
       "num_trades                            12911  \n",
       "trades_per_year                        3232  \n",
       "win_rate                           0.529548  \n",
       "avg_win                            0.000759  \n",
       "avg_loss                          -0.000772  \n",
       "best_trade                         0.005691  \n",
       "worst_trade                       -0.007106  \n",
       "profit_factor                      1.109995  \n",
       "expectancy                         0.000039  \n",
       "kelly_criterion                    0.050821  \n",
       "consecutive_wins                         17  \n",
       "consecutive_losses                       12  \n",
       "avg_trade_duration          0 days 05:41:52  \n",
       "ratio_of_longs                     0.504608  "
      ]
     },
     "execution_count": 11,
     "metadata": {},
     "output_type": "execute_result"
    }
   ],
   "source": [
    "print(f\"Bollinger_w{bb_period}_std{bb_std}: \\n\")\n",
    "\n",
    "bb_metrics_df = pd.DataFrame({\n",
    "    \"time\": bb_events_time_metrics, \n",
    "    \"filtered_time\": bb_events_time_filt_metrics,\n",
    "    \"tick\": bb_events_tick_metrics, \n",
    "    \"filtered_tick\": bb_events_tick_filt_metrics\n",
    "    })\n",
    "bb_metrics_df"
   ]
  },
  {
   "cell_type": "markdown",
   "id": "d44c8eef",
   "metadata": {},
   "source": [
    "### Trend-Scanning Method"
   ]
  },
  {
   "cell_type": "code",
   "execution_count": null,
   "id": "fd21b790",
   "metadata": {},
   "outputs": [
    {
     "name": "stdout",
     "output_type": "stream",
     "text": [
      "Reloading 'afml.labeling.trend_scanning'.\n",
      "\u001b[32m2025-08-29 02:02:11.435\u001b[0m | \u001b[1mINFO    \u001b[0m | \u001b[36mafml.strategies.strategies\u001b[0m:\u001b[36mget_entries\u001b[0m:\u001b[36m76\u001b[0m - \u001b[1mGenerated 32,863 trade events generated by crossover.\u001b[0m\n",
      "bb_trend_time.shape: (25518, 8), bb_trend_time_mr.shape: (2415, 8)\n",
      "\n",
      "Bollinger_w20_std1.5_trend_scanning: \n",
      "\n"
     ]
    },
    {
     "data": {
      "application/vnd.microsoft.datawrangler.viewer.v0+json": {
       "columns": [
        {
         "name": "index",
         "rawType": "object",
         "type": "string"
        },
        {
         "name": "trend_time",
         "rawType": "object",
         "type": "unknown"
        },
        {
         "name": "trend_time_mr",
         "rawType": "object",
         "type": "unknown"
        }
       ],
       "ref": "df1f5249-eba6-4f03-8ed8-551cf1d21c21",
       "rows": [
        [
         "total_return",
         "2.6261398792266846",
         "0.2259809970855713"
        ],
        [
         "annualized_return",
         "0.38055228842079836",
         "0.052328319726496986"
        ],
        [
         "volatility",
         "0.34294212854632605",
         "0.5584325197327665"
        ],
        [
         "downside_volatility",
         "0.23452691002646542",
         "0.3502608210306384"
        ],
        [
         "sharpe_ratio",
         "11.059244716339707",
         "11.453744942853739"
        ],
        [
         "sortino_ratio",
         "16.171623643138687",
         "18.261087922975992"
        ],
        [
         "var_95",
         "-0.0018819123506546018",
         "-0.003181469440460205"
        ],
        [
         "cvar_95",
         "-0.0028508566",
         "-0.0044803685"
        ],
        [
         "skewness",
         "-0.030976484718638637",
         "0.14325254477622415"
        ],
        [
         "kurtosis",
         "5.096015944061929",
         "2.621596483545101"
        ],
        [
         "probabilistic_sharpe_ratio",
         "0.9999999999559733",
         "0.9809939970177994"
        ],
        [
         "pos_concentration",
         "5.9054257701106e-05",
         "0.0005640492197884203"
        ],
        [
         "neg_concentration",
         "6.871415787242585e-05",
         "0.0005723135807084538"
        ],
        [
         "time_concentration",
         "0.00029788356293807087",
         "0.02681698702084703"
        ],
        [
         "max_drawdown",
         "0.11216269147815461",
         "0.09083375970346663"
        ],
        [
         "avg_drawdown",
         "0.0052243129181979075",
         "0.007180699995732739"
        ],
        [
         "drawdown_duration",
         "2 days 10:46:36",
         "18 days 11:25:34"
        ],
        [
         "ulcer_index",
         "0.011096499368709647",
         "0.013976747424018908"
        ],
        [
         "calmar_ratio",
         "3.392859812880977",
         "0.5760888891677122"
        ],
        [
         "bet_frequency",
         "13373",
         "13373"
        ],
        [
         "bets_per_year",
         "3345",
         "3345"
        ],
        [
         "num_trades",
         "25518",
         "2415"
        ],
        [
         "trades_per_year",
         "6383",
         "604"
        ],
        [
         "win_rate",
         "0.5363664864017557",
         "0.5341614906832298"
        ],
        [
         "avg_win",
         "0.0009219721",
         "0.0015616347"
        ],
        [
         "avg_loss",
         "-0.0009568993",
         "-0.0016064685"
        ],
        [
         "best_trade",
         "0.011127591133117676",
         "0.011127591133117676"
        ],
        [
         "worst_trade",
         "-0.011484026908874512",
         "-0.009731948375701904"
        ],
        [
         "profit_factor",
         "1.1156869",
         "1.1156569"
        ],
        [
         "expectancy",
         "5.0864343556922785e-05",
         "8.581025071835479e-05"
        ],
        [
         "kelly_criterion",
         "0.05516907762571621",
         "0.05494899166962025"
        ],
        [
         "consecutive_wins",
         "19",
         "13"
        ],
        [
         "consecutive_losses",
         "17",
         "11"
        ],
        [
         "avg_trade_duration",
         "0 days 02:37:13",
         "0 days 02:37:13"
        ],
        [
         "ratio_of_longs",
         "0.49960811975860175",
         "0.494824016563147"
        ]
       ],
       "shape": {
        "columns": 2,
        "rows": 35
       }
      },
      "text/html": [
       "<div>\n",
       "<style scoped>\n",
       "    .dataframe tbody tr th:only-of-type {\n",
       "        vertical-align: middle;\n",
       "    }\n",
       "\n",
       "    .dataframe tbody tr th {\n",
       "        vertical-align: top;\n",
       "    }\n",
       "\n",
       "    .dataframe thead th {\n",
       "        text-align: right;\n",
       "    }\n",
       "</style>\n",
       "<table border=\"1\" class=\"dataframe\">\n",
       "  <thead>\n",
       "    <tr style=\"text-align: right;\">\n",
       "      <th></th>\n",
       "      <th>trend_time</th>\n",
       "      <th>trend_time_mr</th>\n",
       "    </tr>\n",
       "  </thead>\n",
       "  <tbody>\n",
       "    <tr>\n",
       "      <th>total_return</th>\n",
       "      <td>2.62614</td>\n",
       "      <td>0.225981</td>\n",
       "    </tr>\n",
       "    <tr>\n",
       "      <th>annualized_return</th>\n",
       "      <td>0.380552</td>\n",
       "      <td>0.052328</td>\n",
       "    </tr>\n",
       "    <tr>\n",
       "      <th>volatility</th>\n",
       "      <td>0.342942</td>\n",
       "      <td>0.558433</td>\n",
       "    </tr>\n",
       "    <tr>\n",
       "      <th>downside_volatility</th>\n",
       "      <td>0.234527</td>\n",
       "      <td>0.350261</td>\n",
       "    </tr>\n",
       "    <tr>\n",
       "      <th>sharpe_ratio</th>\n",
       "      <td>11.059245</td>\n",
       "      <td>11.453745</td>\n",
       "    </tr>\n",
       "    <tr>\n",
       "      <th>sortino_ratio</th>\n",
       "      <td>16.171624</td>\n",
       "      <td>18.261088</td>\n",
       "    </tr>\n",
       "    <tr>\n",
       "      <th>var_95</th>\n",
       "      <td>-0.001882</td>\n",
       "      <td>-0.003181</td>\n",
       "    </tr>\n",
       "    <tr>\n",
       "      <th>cvar_95</th>\n",
       "      <td>-0.002851</td>\n",
       "      <td>-0.00448</td>\n",
       "    </tr>\n",
       "    <tr>\n",
       "      <th>skewness</th>\n",
       "      <td>-0.030976</td>\n",
       "      <td>0.143253</td>\n",
       "    </tr>\n",
       "    <tr>\n",
       "      <th>kurtosis</th>\n",
       "      <td>5.096016</td>\n",
       "      <td>2.621596</td>\n",
       "    </tr>\n",
       "    <tr>\n",
       "      <th>probabilistic_sharpe_ratio</th>\n",
       "      <td>1.0</td>\n",
       "      <td>0.980994</td>\n",
       "    </tr>\n",
       "    <tr>\n",
       "      <th>pos_concentration</th>\n",
       "      <td>0.000059</td>\n",
       "      <td>0.000564</td>\n",
       "    </tr>\n",
       "    <tr>\n",
       "      <th>neg_concentration</th>\n",
       "      <td>0.000069</td>\n",
       "      <td>0.000572</td>\n",
       "    </tr>\n",
       "    <tr>\n",
       "      <th>time_concentration</th>\n",
       "      <td>0.000298</td>\n",
       "      <td>0.026817</td>\n",
       "    </tr>\n",
       "    <tr>\n",
       "      <th>max_drawdown</th>\n",
       "      <td>0.112163</td>\n",
       "      <td>0.090834</td>\n",
       "    </tr>\n",
       "    <tr>\n",
       "      <th>avg_drawdown</th>\n",
       "      <td>0.005224</td>\n",
       "      <td>0.007181</td>\n",
       "    </tr>\n",
       "    <tr>\n",
       "      <th>drawdown_duration</th>\n",
       "      <td>2 days 10:46:36</td>\n",
       "      <td>18 days 11:25:34</td>\n",
       "    </tr>\n",
       "    <tr>\n",
       "      <th>ulcer_index</th>\n",
       "      <td>0.011096</td>\n",
       "      <td>0.013977</td>\n",
       "    </tr>\n",
       "    <tr>\n",
       "      <th>calmar_ratio</th>\n",
       "      <td>3.39286</td>\n",
       "      <td>0.576089</td>\n",
       "    </tr>\n",
       "    <tr>\n",
       "      <th>bet_frequency</th>\n",
       "      <td>13373</td>\n",
       "      <td>13373</td>\n",
       "    </tr>\n",
       "    <tr>\n",
       "      <th>bets_per_year</th>\n",
       "      <td>3345</td>\n",
       "      <td>3345</td>\n",
       "    </tr>\n",
       "    <tr>\n",
       "      <th>num_trades</th>\n",
       "      <td>25518</td>\n",
       "      <td>2415</td>\n",
       "    </tr>\n",
       "    <tr>\n",
       "      <th>trades_per_year</th>\n",
       "      <td>6383</td>\n",
       "      <td>604</td>\n",
       "    </tr>\n",
       "    <tr>\n",
       "      <th>win_rate</th>\n",
       "      <td>0.536366</td>\n",
       "      <td>0.534161</td>\n",
       "    </tr>\n",
       "    <tr>\n",
       "      <th>avg_win</th>\n",
       "      <td>0.000922</td>\n",
       "      <td>0.001562</td>\n",
       "    </tr>\n",
       "    <tr>\n",
       "      <th>avg_loss</th>\n",
       "      <td>-0.000957</td>\n",
       "      <td>-0.001606</td>\n",
       "    </tr>\n",
       "    <tr>\n",
       "      <th>best_trade</th>\n",
       "      <td>0.011128</td>\n",
       "      <td>0.011128</td>\n",
       "    </tr>\n",
       "    <tr>\n",
       "      <th>worst_trade</th>\n",
       "      <td>-0.011484</td>\n",
       "      <td>-0.009732</td>\n",
       "    </tr>\n",
       "    <tr>\n",
       "      <th>profit_factor</th>\n",
       "      <td>1.115687</td>\n",
       "      <td>1.115657</td>\n",
       "    </tr>\n",
       "    <tr>\n",
       "      <th>expectancy</th>\n",
       "      <td>0.000051</td>\n",
       "      <td>0.000086</td>\n",
       "    </tr>\n",
       "    <tr>\n",
       "      <th>kelly_criterion</th>\n",
       "      <td>0.055169</td>\n",
       "      <td>0.054949</td>\n",
       "    </tr>\n",
       "    <tr>\n",
       "      <th>consecutive_wins</th>\n",
       "      <td>19</td>\n",
       "      <td>13</td>\n",
       "    </tr>\n",
       "    <tr>\n",
       "      <th>consecutive_losses</th>\n",
       "      <td>17</td>\n",
       "      <td>11</td>\n",
       "    </tr>\n",
       "    <tr>\n",
       "      <th>avg_trade_duration</th>\n",
       "      <td>0 days 02:37:13</td>\n",
       "      <td>0 days 02:37:13</td>\n",
       "    </tr>\n",
       "    <tr>\n",
       "      <th>ratio_of_longs</th>\n",
       "      <td>0.499608</td>\n",
       "      <td>0.494824</td>\n",
       "    </tr>\n",
       "  </tbody>\n",
       "</table>\n",
       "</div>"
      ],
      "text/plain": [
       "                                 trend_time     trend_time_mr\n",
       "total_return                        2.62614          0.225981\n",
       "annualized_return                  0.380552          0.052328\n",
       "volatility                         0.342942          0.558433\n",
       "downside_volatility                0.234527          0.350261\n",
       "sharpe_ratio                      11.059245         11.453745\n",
       "sortino_ratio                     16.171624         18.261088\n",
       "var_95                            -0.001882         -0.003181\n",
       "cvar_95                           -0.002851          -0.00448\n",
       "skewness                          -0.030976          0.143253\n",
       "kurtosis                           5.096016          2.621596\n",
       "probabilistic_sharpe_ratio              1.0          0.980994\n",
       "pos_concentration                  0.000059          0.000564\n",
       "neg_concentration                  0.000069          0.000572\n",
       "time_concentration                 0.000298          0.026817\n",
       "max_drawdown                       0.112163          0.090834\n",
       "avg_drawdown                       0.005224          0.007181\n",
       "drawdown_duration           2 days 10:46:36  18 days 11:25:34\n",
       "ulcer_index                        0.011096          0.013977\n",
       "calmar_ratio                        3.39286          0.576089\n",
       "bet_frequency                         13373             13373\n",
       "bets_per_year                          3345              3345\n",
       "num_trades                            25518              2415\n",
       "trades_per_year                        6383               604\n",
       "win_rate                           0.536366          0.534161\n",
       "avg_win                            0.000922          0.001562\n",
       "avg_loss                          -0.000957         -0.001606\n",
       "best_trade                         0.011128          0.011128\n",
       "worst_trade                       -0.011484         -0.009732\n",
       "profit_factor                      1.115687          1.115657\n",
       "expectancy                         0.000051          0.000086\n",
       "kelly_criterion                    0.055169          0.054949\n",
       "consecutive_wins                         19                13\n",
       "consecutive_losses                       17                11\n",
       "avg_trade_duration          0 days 02:37:13   0 days 02:37:13\n",
       "ratio_of_longs                     0.499608          0.494824"
      ]
     },
     "execution_count": 17,
     "metadata": {},
     "output_type": "execute_result"
    }
   ],
   "source": [
    "span = (5, 21)\n",
    "volatility_threshold = 0.1\n",
    "volatility_threshold_mr = 0.85\n",
    "\n",
    "side, t_events = get_entries(bb_strategy, bb_df)\n",
    "close = bb_df.close\n",
    "\n",
    "bb_trend_time = get_bins_from_trend(close, span, volatility_threshold)\n",
    "bb_trend_time = trend_meta_labels(bb_trend_time, side, t_events)\n",
    "bb_trend_time_metrics = calculate_label_metrics(bb_df.index, side, bb_trend_time)\n",
    "\n",
    "bb_trend_time_mr = get_bins_from_trend(close, span, volatility_threshold_mr)\n",
    "bb_trend_time_mr = trend_meta_labels(bb_trend_time_mr, side, t_events)\n",
    "bb_trend_time_metrics_mr = calculate_label_metrics(bb_df.index, side, bb_trend_time_mr)\n",
    "\n",
    "print(f\"bb_trend_time.shape: {bb_trend_time.shape}, bb_trend_time_mr.shape: {bb_trend_time_mr.shape}\\n\")\n",
    "print(f\"Bollinger_w{bb_period}_std{bb_std}_trend_scanning: \\n\")\n",
    "bb_trend_time_metrics_all = pd.concat([bb_trend_time_metrics, bb_trend_time_metrics_mr], axis=1)\n",
    "bb_trend_time_metrics_all.columns = [\"trend_time\", \"trend_time_mr\"]\n",
    "bb_trend_time_metrics_all"
   ]
  },
  {
   "cell_type": "markdown",
   "id": "36ec20ef",
   "metadata": {},
   "source": [
    "## 3. Moving Average Crossover Strategy"
   ]
  },
  {
   "cell_type": "code",
   "execution_count": null,
   "id": "7f163b16",
   "metadata": {},
   "outputs": [
    {
     "name": "stdout",
     "output_type": "stream",
     "text": [
      "Loaded EURUSD_M30_tick-1000_2018-01-01-2024-12-31.parq\n",
      "Loaded EURUSD_M30_time_2018-01-01-2024-12-31.parq\n",
      "\u001b[32m2025-08-29 00:44:40.736\u001b[0m | \u001b[1mINFO    \u001b[0m | \u001b[36mafml.strategies.genetic_optimizer\u001b[0m:\u001b[36m__init__\u001b[0m:\u001b[36m146\u001b[0m - \u001b[1mGenerating primary signals...\u001b[0m\n",
      "\u001b[32m2025-08-29 00:44:40.842\u001b[0m | \u001b[1mINFO    \u001b[0m | \u001b[36mafml.strategies.strategies\u001b[0m:\u001b[36mget_entries\u001b[0m:\u001b[36m76\u001b[0m - \u001b[1mGenerated 287 trade events generated by crossover.\u001b[0m\n"
     ]
    }
   ],
   "source": [
    "timeframe = \"M30\"\n",
    "tick_bar_size = tick_bar_dict[timeframe]\n",
    "ma_time_bars, ma_tick_bars = get_data(symbol, timeframe, dirpath=\"data\")\n",
    "bar_size = f\"tick-{ma_tick_bars.tick_volume.iloc[0]}\"\n",
    "ma_df = ma_time_bars.loc[sample_start : sample_end]\n",
    "ma_df0 = ma_tick_bars.loc[sample_start : sample_end]\n",
    "\n",
    "fast_window, slow_window = 50, 200\n",
    "ma_strategy = MovingAverageCrossoverStrategy(fast_window, slow_window)\n",
    "target_vol_params = dict(days=1, lookback=100)\n",
    "pt_barrier, sl_barrier, time_horizon = (3, 1, 200)\n",
    "tb_evaluator = TripleBarrierEvaluator(\n",
    "    ma_strategy, ma_df, target_vol_params,\n",
    "    target_vol_multiplier=1,\n",
    "    filter_events=False,\n",
    "    vertical_barrier_zero=True,\n",
    "    on_crossover=True,\n",
    "    )"
   ]
  },
  {
   "cell_type": "code",
   "execution_count": null,
   "id": "d2f03181",
   "metadata": {},
   "outputs": [
    {
     "name": "stdout",
     "output_type": "stream",
     "text": [
      "\u001b[32m2025-08-29 00:44:43.592\u001b[0m | \u001b[1mINFO    \u001b[0m | \u001b[36mafml.strategies.genetic_optimizer\u001b[0m:\u001b[36m__init__\u001b[0m:\u001b[36m146\u001b[0m - \u001b[1mGenerating primary signals...\u001b[0m\n",
      "\u001b[32m2025-08-29 00:44:43.613\u001b[0m | \u001b[1mINFO    \u001b[0m | \u001b[36mafml.strategies.strategies\u001b[0m:\u001b[36mget_entries\u001b[0m:\u001b[36m76\u001b[0m - \u001b[1mGenerated 287 trade events generated by crossover.\u001b[0m\n"
     ]
    },
    {
     "data": {
      "application/vnd.microsoft.datawrangler.viewer.v0+json": {
       "columns": [
        {
         "name": "index",
         "rawType": "object",
         "type": "string"
        },
        {
         "name": "trade_metrics",
         "rawType": "object",
         "type": "unknown"
        }
       ],
       "ref": "1fdc2397-eb55-4566-820b-62b1d023a991",
       "rows": [
        [
         "total_return",
         "0.12413299083709717"
        ],
        [
         "annualized_return",
         "0.029747068292901524"
        ],
        [
         "volatility",
         "0.6235526045539919"
        ],
        [
         "downside_volatility",
         "0.13940757776855836"
        ],
        [
         "sharpe_ratio",
         "8.397365579615442"
        ],
        [
         "sortino_ratio",
         "37.56036266015814"
        ],
        [
         "var_95",
         "-0.005438655614852905"
        ],
        [
         "cvar_95",
         "-0.00595539"
        ],
        [
         "skewness",
         "1.2989157992467566"
        ],
        [
         "kurtosis",
         "2.0224534059887933"
        ],
        [
         "probabilistic_sharpe_ratio",
         "0.9104678619676169"
        ],
        [
         "pos_concentration",
         "0.0037020299987832335"
        ],
        [
         "neg_concentration",
         "0.0007910500123594582"
        ],
        [
         "time_concentration",
         "0.003894483733793366"
        ],
        [
         "max_drawdown",
         "0.04817818272587582"
        ],
        [
         "avg_drawdown",
         "0.019730406067537436"
        ],
        [
         "drawdown_duration",
         "121 days 02:10:00"
        ],
        [
         "ulcer_index",
         "0.024584743757194435"
        ],
        [
         "calmar_ratio",
         "0.6174385709431252"
        ],
        [
         "bet_frequency",
         "288"
        ],
        [
         "bets_per_year",
         "72"
        ],
        [
         "num_trades",
         "286"
        ],
        [
         "trades_per_year",
         "71"
        ],
        [
         "win_rate",
         "0.3741258741258741"
        ],
        [
         "avg_win",
         "0.006733899"
        ],
        [
         "avg_loss",
         "-0.0033464716"
        ],
        [
         "best_trade",
         "0.027700066566467285"
        ],
        [
         "worst_trade",
         "-0.006834208965301514"
        ],
        [
         "profit_factor",
         "1.2028465"
        ],
        [
         "expectancy",
         "0.0004248558755286717"
        ],
        [
         "kelly_criterion",
         "0.06309210496989082"
        ],
        [
         "consecutive_wins",
         "8"
        ],
        [
         "consecutive_losses",
         "11"
        ],
        [
         "avg_trade_duration",
         "0 days 02:47:45"
        ],
        [
         "ratio_of_longs",
         "0.5"
        ]
       ],
       "shape": {
        "columns": 1,
        "rows": 35
       }
      },
      "text/plain": [
       "total_return                           0.124133\n",
       "annualized_return                      0.029747\n",
       "volatility                             0.623553\n",
       "downside_volatility                    0.139408\n",
       "sharpe_ratio                           8.397366\n",
       "sortino_ratio                         37.560363\n",
       "var_95                                -0.005439\n",
       "cvar_95                               -0.005955\n",
       "skewness                               1.298916\n",
       "kurtosis                               2.022453\n",
       "probabilistic_sharpe_ratio             0.910468\n",
       "pos_concentration                      0.003702\n",
       "neg_concentration                      0.000791\n",
       "time_concentration                     0.003894\n",
       "max_drawdown                           0.048178\n",
       "avg_drawdown                            0.01973\n",
       "drawdown_duration             121 days 02:10:00\n",
       "ulcer_index                            0.024585\n",
       "calmar_ratio                           0.617439\n",
       "bet_frequency                               288\n",
       "bets_per_year                                72\n",
       "num_trades                                  286\n",
       "trades_per_year                              71\n",
       "win_rate                               0.374126\n",
       "avg_win                                0.006734\n",
       "avg_loss                              -0.003346\n",
       "best_trade                               0.0277\n",
       "worst_trade                           -0.006834\n",
       "profit_factor                          1.202847\n",
       "expectancy                             0.000425\n",
       "kelly_criterion                        0.063092\n",
       "consecutive_wins                              8\n",
       "consecutive_losses                           11\n",
       "avg_trade_duration              0 days 02:47:45\n",
       "ratio_of_longs                              0.5\n",
       "Name: trade_metrics, dtype: object"
      ]
     },
     "execution_count": 12,
     "metadata": {},
     "output_type": "execute_result"
    }
   ],
   "source": [
    "tb_evaluator.set_params(strategy=ma_strategy, data=ma_df, filter_events=False, \n",
    "                        target_vol_params=target_vol_params)\n",
    "ma_events_time = tb_evaluator.evaluate_performance(pt_barrier, sl_barrier, time_horizon)\n",
    "ma_events_time_metrics = tb_evaluator.calculate_strategy_metrics(ma_events_time)\n",
    "ma_events_time_metrics"
   ]
  },
  {
   "cell_type": "code",
   "execution_count": null,
   "id": "1b77596f",
   "metadata": {},
   "outputs": [
    {
     "name": "stdout",
     "output_type": "stream",
     "text": [
      "\u001b[32m2025-08-29 00:44:54.436\u001b[0m | \u001b[1mINFO    \u001b[0m | \u001b[36mafml.strategies.genetic_optimizer\u001b[0m:\u001b[36m__init__\u001b[0m:\u001b[36m146\u001b[0m - \u001b[1mGenerating primary signals...\u001b[0m\n",
      "\u001b[32m2025-08-29 00:44:55.004\u001b[0m | \u001b[1mINFO    \u001b[0m | \u001b[36mafml.strategies.strategies\u001b[0m:\u001b[36mget_entries\u001b[0m:\u001b[36m76\u001b[0m - \u001b[1mGenerated 2,264 trade events generated by CUSUM filter.\u001b[0m\n"
     ]
    },
    {
     "data": {
      "application/vnd.microsoft.datawrangler.viewer.v0+json": {
       "columns": [
        {
         "name": "index",
         "rawType": "object",
         "type": "string"
        },
        {
         "name": "trade_metrics",
         "rawType": "object",
         "type": "unknown"
        }
       ],
       "ref": "1c4bea82-cc08-4ac8-952c-5217cc501fc0",
       "rows": [
        [
         "total_return",
         "0.2625739574432373"
        ],
        [
         "annualized_return",
         "0.06014750016719517"
        ],
        [
         "volatility",
         "0.6936300719160914"
        ],
        [
         "downside_volatility",
         "0.18503857481627123"
        ],
        [
         "sharpe_ratio",
         "2.177029629281527"
        ],
        [
         "sortino_ratio",
         "8.16074821058999"
        ],
        [
         "var_95",
         "-0.0063787102699279785"
        ],
        [
         "cvar_95",
         "-0.0076517733"
        ],
        [
         "skewness",
         "1.3642499240964003"
        ],
        [
         "kurtosis",
         "1.7231618074579744"
        ],
        [
         "probabilistic_sharpe_ratio",
         "0.827655235589792"
        ],
        [
         "pos_concentration",
         "0.0005406847464389542"
        ],
        [
         "neg_concentration",
         "0.00013872578415012577"
        ],
        [
         "time_concentration",
         "0.005817558666899169"
        ],
        [
         "max_drawdown",
         "0.27212560363054583"
        ],
        [
         "avg_drawdown",
         "0.1177052753519402"
        ],
        [
         "drawdown_duration",
         "145 days 05:30:00"
        ],
        [
         "ulcer_index",
         "0.1555258696104864"
        ],
        [
         "calmar_ratio",
         "0.2210284492335203"
        ],
        [
         "bet_frequency",
         "273"
        ],
        [
         "bets_per_year",
         "68"
        ],
        [
         "num_trades",
         "2261"
        ],
        [
         "trades_per_year",
         "566"
        ],
        [
         "win_rate",
         "0.32551968155683325"
        ],
        [
         "avg_win",
         "0.007887361"
        ],
        [
         "avg_loss",
         "-0.0036249661"
        ],
        [
         "best_trade",
         "0.0283738374710083"
        ],
        [
         "worst_trade",
         "-0.012382566928863525"
        ],
        [
         "profit_factor",
         "1.0501122"
        ],
        [
         "expectancy",
         "0.0001225228105663054"
        ],
        [
         "kelly_criterion",
         "0.015534070145467427"
        ],
        [
         "consecutive_wins",
         "14"
        ],
        [
         "consecutive_losses",
         "41"
        ],
        [
         "avg_trade_duration",
         "5 days 08:35:12"
        ],
        [
         "ratio_of_longs",
         "0.5161432994250331"
        ]
       ],
       "shape": {
        "columns": 1,
        "rows": 35
       }
      },
      "text/plain": [
       "total_return                           0.262574\n",
       "annualized_return                      0.060148\n",
       "volatility                              0.69363\n",
       "downside_volatility                    0.185039\n",
       "sharpe_ratio                            2.17703\n",
       "sortino_ratio                          8.160748\n",
       "var_95                                -0.006379\n",
       "cvar_95                               -0.007652\n",
       "skewness                                1.36425\n",
       "kurtosis                               1.723162\n",
       "probabilistic_sharpe_ratio             0.827655\n",
       "pos_concentration                      0.000541\n",
       "neg_concentration                      0.000139\n",
       "time_concentration                     0.005818\n",
       "max_drawdown                           0.272126\n",
       "avg_drawdown                           0.117705\n",
       "drawdown_duration             145 days 05:30:00\n",
       "ulcer_index                            0.155526\n",
       "calmar_ratio                           0.221028\n",
       "bet_frequency                               273\n",
       "bets_per_year                                68\n",
       "num_trades                                 2261\n",
       "trades_per_year                             566\n",
       "win_rate                                0.32552\n",
       "avg_win                                0.007887\n",
       "avg_loss                              -0.003625\n",
       "best_trade                             0.028374\n",
       "worst_trade                           -0.012383\n",
       "profit_factor                          1.050112\n",
       "expectancy                             0.000123\n",
       "kelly_criterion                        0.015534\n",
       "consecutive_wins                             14\n",
       "consecutive_losses                           41\n",
       "avg_trade_duration              5 days 08:35:12\n",
       "ratio_of_longs                         0.516143\n",
       "Name: trade_metrics, dtype: object"
      ]
     },
     "execution_count": 13,
     "metadata": {},
     "output_type": "execute_result"
    }
   ],
   "source": [
    "tb_evaluator.set_params(strategy=ma_strategy, data=ma_df, filter_events=True, \n",
    "                        target_vol_params=target_vol_params)\n",
    "ma_events_time_filt = tb_evaluator.evaluate_performance(pt_barrier, sl_barrier, time_horizon)\n",
    "ma_events_time_filt_metrics = tb_evaluator.calculate_strategy_metrics(ma_events_time_filt)\n",
    "ma_events_time_filt_metrics"
   ]
  },
  {
   "cell_type": "code",
   "execution_count": null,
   "id": "4030a8ae",
   "metadata": {},
   "outputs": [
    {
     "name": "stdout",
     "output_type": "stream",
     "text": [
      "\u001b[32m2025-08-29 00:44:56.561\u001b[0m | \u001b[1mINFO    \u001b[0m | \u001b[36mafml.strategies.genetic_optimizer\u001b[0m:\u001b[36m__init__\u001b[0m:\u001b[36m146\u001b[0m - \u001b[1mGenerating primary signals...\u001b[0m\n",
      "\u001b[32m2025-08-29 00:44:56.585\u001b[0m | \u001b[1mINFO    \u001b[0m | \u001b[36mafml.strategies.strategies\u001b[0m:\u001b[36mget_entries\u001b[0m:\u001b[36m76\u001b[0m - \u001b[1mGenerated 516 trade events generated by crossover.\u001b[0m\n"
     ]
    },
    {
     "data": {
      "application/vnd.microsoft.datawrangler.viewer.v0+json": {
       "columns": [
        {
         "name": "index",
         "rawType": "object",
         "type": "string"
        },
        {
         "name": "trade_metrics",
         "rawType": "object",
         "type": "unknown"
        }
       ],
       "ref": "e5c88141-3dd0-4827-b807-91b168cdd63d",
       "rows": [
        [
         "total_return",
         "-0.015796303749084473"
        ],
        [
         "annualized_return",
         "-0.003980844621167545"
        ],
        [
         "volatility",
         "0.6277766521063948"
        ],
        [
         "downside_volatility",
         "0.14087392304016783"
        ],
        [
         "sharpe_ratio",
         "-0.7383854206380571"
        ],
        [
         "sortino_ratio",
         "-3.290467939905106"
        ],
        [
         "var_95",
         "-0.004366517066955566"
        ],
        [
         "cvar_95",
         "-0.0050455746"
        ],
        [
         "skewness",
         "0.9377752309429878"
        ],
        [
         "kurtosis",
         "-0.4608913989846224"
        ],
        [
         "probabilistic_sharpe_ratio",
         "0.4544866508604912"
        ],
        [
         "pos_concentration",
         "0.0012400974815636014"
        ],
        [
         "neg_concentration",
         "0.0003380971138646877"
        ],
        [
         "time_concentration",
         "0.005864776436563375"
        ],
        [
         "max_drawdown",
         "0.06996597238251112"
        ],
        [
         "avg_drawdown",
         "0.016848380219191068"
        ],
        [
         "drawdown_duration",
         "121 days 08:01:50"
        ],
        [
         "ulcer_index",
         "0.028707482397831902"
        ],
        [
         "calmar_ratio",
         "-0.05689686694274555"
        ],
        [
         "bet_frequency",
         "517"
        ],
        [
         "bets_per_year",
         "129"
        ],
        [
         "num_trades",
         "516"
        ],
        [
         "trades_per_year",
         "129"
        ],
        [
         "win_rate",
         "0.3372093023255814"
        ],
        [
         "avg_win",
         "0.005512961"
        ],
        [
         "avg_loss",
         "-0.0028375539"
        ],
        [
         "best_trade",
         "0.012514114379882812"
        ],
        [
         "worst_trade",
         "-0.0065773725509643555"
        ],
        [
         "profit_factor",
         "0.98847103"
        ],
        [
         "expectancy",
         "-2.1682502593585538e-05"
        ],
        [
         "kelly_criterion",
         "-0.003933009801633414"
        ],
        [
         "consecutive_wins",
         "5"
        ],
        [
         "consecutive_losses",
         "11"
        ],
        [
         "avg_trade_duration",
         "2 days 19:51:11"
        ],
        [
         "ratio_of_longs",
         "0.5"
        ]
       ],
       "shape": {
        "columns": 1,
        "rows": 35
       }
      },
      "text/plain": [
       "total_return                          -0.015796\n",
       "annualized_return                     -0.003981\n",
       "volatility                             0.627777\n",
       "downside_volatility                    0.140874\n",
       "sharpe_ratio                          -0.738385\n",
       "sortino_ratio                         -3.290468\n",
       "var_95                                -0.004367\n",
       "cvar_95                               -0.005046\n",
       "skewness                               0.937775\n",
       "kurtosis                              -0.460891\n",
       "probabilistic_sharpe_ratio             0.454487\n",
       "pos_concentration                       0.00124\n",
       "neg_concentration                      0.000338\n",
       "time_concentration                     0.005865\n",
       "max_drawdown                           0.069966\n",
       "avg_drawdown                           0.016848\n",
       "drawdown_duration             121 days 08:01:50\n",
       "ulcer_index                            0.028707\n",
       "calmar_ratio                          -0.056897\n",
       "bet_frequency                               517\n",
       "bets_per_year                               129\n",
       "num_trades                                  516\n",
       "trades_per_year                             129\n",
       "win_rate                               0.337209\n",
       "avg_win                                0.005513\n",
       "avg_loss                              -0.002838\n",
       "best_trade                             0.012514\n",
       "worst_trade                           -0.006577\n",
       "profit_factor                          0.988471\n",
       "expectancy                            -0.000022\n",
       "kelly_criterion                       -0.003933\n",
       "consecutive_wins                              5\n",
       "consecutive_losses                           11\n",
       "avg_trade_duration              2 days 19:51:11\n",
       "ratio_of_longs                              0.5\n",
       "Name: trade_metrics, dtype: object"
      ]
     },
     "execution_count": 14,
     "metadata": {},
     "output_type": "execute_result"
    }
   ],
   "source": [
    "tb_evaluator.set_params(strategy=ma_strategy, data=ma_df0, filter_events=False, \n",
    "                        target_vol_params=target_vol_params)\n",
    "ma_events_tick = tb_evaluator.evaluate_performance(pt_barrier, sl_barrier, time_horizon)\n",
    "ma_events_tick_metrics = tb_evaluator.calculate_strategy_metrics(ma_events_tick)\n",
    "ma_events_tick_metrics"
   ]
  },
  {
   "cell_type": "code",
   "execution_count": null,
   "id": "22024f02",
   "metadata": {},
   "outputs": [
    {
     "name": "stdout",
     "output_type": "stream",
     "text": [
      "\u001b[32m2025-08-29 00:44:58.406\u001b[0m | \u001b[1mINFO    \u001b[0m | \u001b[36mafml.strategies.genetic_optimizer\u001b[0m:\u001b[36m__init__\u001b[0m:\u001b[36m146\u001b[0m - \u001b[1mGenerating primary signals...\u001b[0m\n",
      "\u001b[32m2025-08-29 00:44:58.444\u001b[0m | \u001b[1mINFO    \u001b[0m | \u001b[36mafml.strategies.strategies\u001b[0m:\u001b[36mget_entries\u001b[0m:\u001b[36m76\u001b[0m - \u001b[1mGenerated 3,446 trade events generated by CUSUM filter.\u001b[0m\n"
     ]
    },
    {
     "data": {
      "application/vnd.microsoft.datawrangler.viewer.v0+json": {
       "columns": [
        {
         "name": "index",
         "rawType": "object",
         "type": "string"
        },
        {
         "name": "trade_metrics",
         "rawType": "object",
         "type": "unknown"
        }
       ],
       "ref": "bd99616a-ec35-44af-988a-63ca0d655d0f",
       "rows": [
        [
         "total_return",
         "0.2203308343887329"
        ],
        [
         "annualized_return",
         "0.05114802963190046"
        ],
        [
         "volatility",
         "0.6749521220148726"
        ],
        [
         "downside_volatility",
         "0.17289790759461823"
        ],
        [
         "sharpe_ratio",
         "2.169734155090259"
        ],
        [
         "sortino_ratio",
         "8.470123742734646"
        ],
        [
         "var_95",
         "-0.004620653390884399"
        ],
        [
         "cvar_95",
         "-0.005545887"
        ],
        [
         "skewness",
         "1.0722877911787798"
        ],
        [
         "kurtosis",
         "0.25112892130319153"
        ],
        [
         "probabilistic_sharpe_ratio",
         "0.8098260490001198"
        ],
        [
         "pos_concentration",
         "0.00025224929080044"
        ],
        [
         "neg_concentration",
         "7.47882598405663e-05"
        ],
        [
         "time_concentration",
         "0.009770433701943547"
        ],
        [
         "max_drawdown",
         "0.24980947654454644"
        ],
        [
         "avg_drawdown",
         "0.07932498505029024"
        ],
        [
         "drawdown_duration",
         "85 days 15:49:44"
        ],
        [
         "ulcer_index",
         "0.11763713653476089"
        ],
        [
         "calmar_ratio",
         "0.20474815583218942"
        ],
        [
         "bet_frequency",
         "501"
        ],
        [
         "bets_per_year",
         "125"
        ],
        [
         "num_trades",
         "3440"
        ],
        [
         "trades_per_year",
         "861"
        ],
        [
         "win_rate",
         "0.33517441860465114"
        ],
        [
         "avg_win",
         "0.0058769886"
        ],
        [
         "avg_loss",
         "-0.0028598695"
        ],
        [
         "best_trade",
         "0.019072890281677246"
        ],
        [
         "worst_trade",
         "-0.010540902614593506"
        ],
        [
         "profit_factor",
         "1.0360286"
        ],
        [
         "expectancy",
         "6.850184277133178e-05"
        ],
        [
         "kelly_criterion",
         "0.011655928921657677"
        ],
        [
         "consecutive_wins",
         "14"
        ],
        [
         "consecutive_losses",
         "39"
        ],
        [
         "avg_trade_duration",
         "2 days 22:01:15"
        ],
        [
         "ratio_of_longs",
         "0.5101744186046512"
        ]
       ],
       "shape": {
        "columns": 1,
        "rows": 35
       }
      },
      "text/plain": [
       "total_return                          0.220331\n",
       "annualized_return                     0.051148\n",
       "volatility                            0.674952\n",
       "downside_volatility                   0.172898\n",
       "sharpe_ratio                          2.169734\n",
       "sortino_ratio                         8.470124\n",
       "var_95                               -0.004621\n",
       "cvar_95                              -0.005546\n",
       "skewness                              1.072288\n",
       "kurtosis                              0.251129\n",
       "probabilistic_sharpe_ratio            0.809826\n",
       "pos_concentration                     0.000252\n",
       "neg_concentration                     0.000075\n",
       "time_concentration                     0.00977\n",
       "max_drawdown                          0.249809\n",
       "avg_drawdown                          0.079325\n",
       "drawdown_duration             85 days 15:49:44\n",
       "ulcer_index                           0.117637\n",
       "calmar_ratio                          0.204748\n",
       "bet_frequency                              501\n",
       "bets_per_year                              125\n",
       "num_trades                                3440\n",
       "trades_per_year                            861\n",
       "win_rate                              0.335174\n",
       "avg_win                               0.005877\n",
       "avg_loss                              -0.00286\n",
       "best_trade                            0.019073\n",
       "worst_trade                          -0.010541\n",
       "profit_factor                         1.036029\n",
       "expectancy                            0.000069\n",
       "kelly_criterion                       0.011656\n",
       "consecutive_wins                            14\n",
       "consecutive_losses                          39\n",
       "avg_trade_duration             2 days 22:01:15\n",
       "ratio_of_longs                        0.510174\n",
       "Name: trade_metrics, dtype: object"
      ]
     },
     "execution_count": 15,
     "metadata": {},
     "output_type": "execute_result"
    }
   ],
   "source": [
    "tb_evaluator.set_params(strategy=ma_strategy, data=ma_df0, filter_events=True, \n",
    "                        target_vol_params=target_vol_params)\n",
    "ma_events_tick_filt = tb_evaluator.evaluate_performance(pt_barrier, sl_barrier, time_horizon)\n",
    "ma_events_tick_filt_metrics = tb_evaluator.calculate_strategy_metrics(ma_events_tick_filt)\n",
    "ma_events_tick_filt_metrics"
   ]
  },
  {
   "cell_type": "code",
   "execution_count": null,
   "id": "d65ee408",
   "metadata": {},
   "outputs": [
    {
     "name": "stdout",
     "output_type": "stream",
     "text": [
      "MACrossover_fast50_slow200: \n",
      "\n"
     ]
    },
    {
     "data": {
      "application/vnd.microsoft.datawrangler.viewer.v0+json": {
       "columns": [
        {
         "name": "index",
         "rawType": "object",
         "type": "string"
        },
        {
         "name": "time",
         "rawType": "object",
         "type": "unknown"
        },
        {
         "name": "filtered_time",
         "rawType": "object",
         "type": "unknown"
        },
        {
         "name": "tick",
         "rawType": "object",
         "type": "unknown"
        },
        {
         "name": "filtered_tick",
         "rawType": "object",
         "type": "unknown"
        }
       ],
       "ref": "73aa461f-6635-49ab-b771-73319025ade6",
       "rows": [
        [
         "total_return",
         "0.12413299083709717",
         "0.2625739574432373",
         "-0.015796303749084473",
         "0.2203308343887329"
        ],
        [
         "annualized_return",
         "0.029747068292901524",
         "0.06014750016719517",
         "-0.003980844621167545",
         "0.05114802963190046"
        ],
        [
         "volatility",
         "0.6235526045539919",
         "0.6936300719160914",
         "0.6277766521063948",
         "0.6749521220148726"
        ],
        [
         "downside_volatility",
         "0.13940757776855836",
         "0.18503857481627123",
         "0.14087392304016783",
         "0.17289790759461823"
        ],
        [
         "sharpe_ratio",
         "8.397365579615442",
         "2.177029629281527",
         "-0.7383854206380571",
         "2.169734155090259"
        ],
        [
         "sortino_ratio",
         "37.56036266015814",
         "8.16074821058999",
         "-3.290467939905106",
         "8.470123742734646"
        ],
        [
         "var_95",
         "-0.005438655614852905",
         "-0.0063787102699279785",
         "-0.004366517066955566",
         "-0.004620653390884399"
        ],
        [
         "cvar_95",
         "-0.00595539",
         "-0.0076517733",
         "-0.0050455746",
         "-0.005545887"
        ],
        [
         "skewness",
         "1.2989157992467566",
         "1.3642499240964003",
         "0.9377752309429878",
         "1.0722877911787798"
        ],
        [
         "kurtosis",
         "2.0224534059887933",
         "1.7231618074579744",
         "-0.4608913989846224",
         "0.25112892130319153"
        ],
        [
         "probabilistic_sharpe_ratio",
         "0.9104678619676169",
         "0.827655235589792",
         "0.4544866508604912",
         "0.8098260490001198"
        ],
        [
         "pos_concentration",
         "0.0037020299987832335",
         "0.0005406847464389542",
         "0.0012400974815636014",
         "0.00025224929080044"
        ],
        [
         "neg_concentration",
         "0.0007910500123594582",
         "0.00013872578415012577",
         "0.0003380971138646877",
         "7.47882598405663e-05"
        ],
        [
         "time_concentration",
         "0.003894483733793366",
         "0.005817558666899169",
         "0.005864776436563375",
         "0.009770433701943547"
        ],
        [
         "max_drawdown",
         "0.04817818272587582",
         "0.27212560363054583",
         "0.06996597238251112",
         "0.24980947654454644"
        ],
        [
         "avg_drawdown",
         "0.019730406067537436",
         "0.1177052753519402",
         "0.016848380219191068",
         "0.07932498505029024"
        ],
        [
         "drawdown_duration",
         "121 days 02:10:00",
         "145 days 05:30:00",
         "121 days 08:01:50",
         "85 days 15:49:44"
        ],
        [
         "ulcer_index",
         "0.024584743757194435",
         "0.1555258696104864",
         "0.028707482397831902",
         "0.11763713653476089"
        ],
        [
         "calmar_ratio",
         "0.6174385709431252",
         "0.2210284492335203",
         "-0.05689686694274555",
         "0.20474815583218942"
        ],
        [
         "bet_frequency",
         "288",
         "273",
         "517",
         "501"
        ],
        [
         "bets_per_year",
         "72",
         "68",
         "129",
         "125"
        ],
        [
         "num_trades",
         "286",
         "2261",
         "516",
         "3440"
        ],
        [
         "trades_per_year",
         "71",
         "566",
         "129",
         "861"
        ],
        [
         "win_rate",
         "0.3741258741258741",
         "0.32551968155683325",
         "0.3372093023255814",
         "0.33517441860465114"
        ],
        [
         "avg_win",
         "0.006733899",
         "0.007887361",
         "0.005512961",
         "0.0058769886"
        ],
        [
         "avg_loss",
         "-0.0033464716",
         "-0.0036249661",
         "-0.0028375539",
         "-0.0028598695"
        ],
        [
         "best_trade",
         "0.027700066566467285",
         "0.0283738374710083",
         "0.012514114379882812",
         "0.019072890281677246"
        ],
        [
         "worst_trade",
         "-0.006834208965301514",
         "-0.012382566928863525",
         "-0.0065773725509643555",
         "-0.010540902614593506"
        ],
        [
         "profit_factor",
         "1.2028465",
         "1.0501122",
         "0.98847103",
         "1.0360286"
        ],
        [
         "expectancy",
         "0.0004248558755286717",
         "0.0001225228105663054",
         "-2.1682502593585538e-05",
         "6.850184277133178e-05"
        ],
        [
         "kelly_criterion",
         "0.06309210496989082",
         "0.015534070145467427",
         "-0.003933009801633414",
         "0.011655928921657677"
        ],
        [
         "consecutive_wins",
         "8",
         "14",
         "5",
         "14"
        ],
        [
         "consecutive_losses",
         "11",
         "41",
         "11",
         "39"
        ],
        [
         "avg_trade_duration",
         "0 days 02:47:45",
         "5 days 08:35:12",
         "2 days 19:51:11",
         "2 days 22:01:15"
        ],
        [
         "ratio_of_longs",
         "0.5",
         "0.5161432994250331",
         "0.5",
         "0.5101744186046512"
        ]
       ],
       "shape": {
        "columns": 4,
        "rows": 35
       }
      },
      "text/html": [
       "<div>\n",
       "<style scoped>\n",
       "    .dataframe tbody tr th:only-of-type {\n",
       "        vertical-align: middle;\n",
       "    }\n",
       "\n",
       "    .dataframe tbody tr th {\n",
       "        vertical-align: top;\n",
       "    }\n",
       "\n",
       "    .dataframe thead th {\n",
       "        text-align: right;\n",
       "    }\n",
       "</style>\n",
       "<table border=\"1\" class=\"dataframe\">\n",
       "  <thead>\n",
       "    <tr style=\"text-align: right;\">\n",
       "      <th></th>\n",
       "      <th>time</th>\n",
       "      <th>filtered_time</th>\n",
       "      <th>tick</th>\n",
       "      <th>filtered_tick</th>\n",
       "    </tr>\n",
       "  </thead>\n",
       "  <tbody>\n",
       "    <tr>\n",
       "      <th>total_return</th>\n",
       "      <td>0.124133</td>\n",
       "      <td>0.262574</td>\n",
       "      <td>-0.015796</td>\n",
       "      <td>0.220331</td>\n",
       "    </tr>\n",
       "    <tr>\n",
       "      <th>annualized_return</th>\n",
       "      <td>0.029747</td>\n",
       "      <td>0.060148</td>\n",
       "      <td>-0.003981</td>\n",
       "      <td>0.051148</td>\n",
       "    </tr>\n",
       "    <tr>\n",
       "      <th>volatility</th>\n",
       "      <td>0.623553</td>\n",
       "      <td>0.69363</td>\n",
       "      <td>0.627777</td>\n",
       "      <td>0.674952</td>\n",
       "    </tr>\n",
       "    <tr>\n",
       "      <th>downside_volatility</th>\n",
       "      <td>0.139408</td>\n",
       "      <td>0.185039</td>\n",
       "      <td>0.140874</td>\n",
       "      <td>0.172898</td>\n",
       "    </tr>\n",
       "    <tr>\n",
       "      <th>sharpe_ratio</th>\n",
       "      <td>8.397366</td>\n",
       "      <td>2.17703</td>\n",
       "      <td>-0.738385</td>\n",
       "      <td>2.169734</td>\n",
       "    </tr>\n",
       "    <tr>\n",
       "      <th>sortino_ratio</th>\n",
       "      <td>37.560363</td>\n",
       "      <td>8.160748</td>\n",
       "      <td>-3.290468</td>\n",
       "      <td>8.470124</td>\n",
       "    </tr>\n",
       "    <tr>\n",
       "      <th>var_95</th>\n",
       "      <td>-0.005439</td>\n",
       "      <td>-0.006379</td>\n",
       "      <td>-0.004367</td>\n",
       "      <td>-0.004621</td>\n",
       "    </tr>\n",
       "    <tr>\n",
       "      <th>cvar_95</th>\n",
       "      <td>-0.005955</td>\n",
       "      <td>-0.007652</td>\n",
       "      <td>-0.005046</td>\n",
       "      <td>-0.005546</td>\n",
       "    </tr>\n",
       "    <tr>\n",
       "      <th>skewness</th>\n",
       "      <td>1.298916</td>\n",
       "      <td>1.36425</td>\n",
       "      <td>0.937775</td>\n",
       "      <td>1.072288</td>\n",
       "    </tr>\n",
       "    <tr>\n",
       "      <th>kurtosis</th>\n",
       "      <td>2.022453</td>\n",
       "      <td>1.723162</td>\n",
       "      <td>-0.460891</td>\n",
       "      <td>0.251129</td>\n",
       "    </tr>\n",
       "    <tr>\n",
       "      <th>probabilistic_sharpe_ratio</th>\n",
       "      <td>0.910468</td>\n",
       "      <td>0.827655</td>\n",
       "      <td>0.454487</td>\n",
       "      <td>0.809826</td>\n",
       "    </tr>\n",
       "    <tr>\n",
       "      <th>pos_concentration</th>\n",
       "      <td>0.003702</td>\n",
       "      <td>0.000541</td>\n",
       "      <td>0.00124</td>\n",
       "      <td>0.000252</td>\n",
       "    </tr>\n",
       "    <tr>\n",
       "      <th>neg_concentration</th>\n",
       "      <td>0.000791</td>\n",
       "      <td>0.000139</td>\n",
       "      <td>0.000338</td>\n",
       "      <td>0.000075</td>\n",
       "    </tr>\n",
       "    <tr>\n",
       "      <th>time_concentration</th>\n",
       "      <td>0.003894</td>\n",
       "      <td>0.005818</td>\n",
       "      <td>0.005865</td>\n",
       "      <td>0.00977</td>\n",
       "    </tr>\n",
       "    <tr>\n",
       "      <th>max_drawdown</th>\n",
       "      <td>0.048178</td>\n",
       "      <td>0.272126</td>\n",
       "      <td>0.069966</td>\n",
       "      <td>0.249809</td>\n",
       "    </tr>\n",
       "    <tr>\n",
       "      <th>avg_drawdown</th>\n",
       "      <td>0.01973</td>\n",
       "      <td>0.117705</td>\n",
       "      <td>0.016848</td>\n",
       "      <td>0.079325</td>\n",
       "    </tr>\n",
       "    <tr>\n",
       "      <th>drawdown_duration</th>\n",
       "      <td>121 days 02:10:00</td>\n",
       "      <td>145 days 05:30:00</td>\n",
       "      <td>121 days 08:01:50</td>\n",
       "      <td>85 days 15:49:44</td>\n",
       "    </tr>\n",
       "    <tr>\n",
       "      <th>ulcer_index</th>\n",
       "      <td>0.024585</td>\n",
       "      <td>0.155526</td>\n",
       "      <td>0.028707</td>\n",
       "      <td>0.117637</td>\n",
       "    </tr>\n",
       "    <tr>\n",
       "      <th>calmar_ratio</th>\n",
       "      <td>0.617439</td>\n",
       "      <td>0.221028</td>\n",
       "      <td>-0.056897</td>\n",
       "      <td>0.204748</td>\n",
       "    </tr>\n",
       "    <tr>\n",
       "      <th>bet_frequency</th>\n",
       "      <td>288</td>\n",
       "      <td>273</td>\n",
       "      <td>517</td>\n",
       "      <td>501</td>\n",
       "    </tr>\n",
       "    <tr>\n",
       "      <th>bets_per_year</th>\n",
       "      <td>72</td>\n",
       "      <td>68</td>\n",
       "      <td>129</td>\n",
       "      <td>125</td>\n",
       "    </tr>\n",
       "    <tr>\n",
       "      <th>num_trades</th>\n",
       "      <td>286</td>\n",
       "      <td>2261</td>\n",
       "      <td>516</td>\n",
       "      <td>3440</td>\n",
       "    </tr>\n",
       "    <tr>\n",
       "      <th>trades_per_year</th>\n",
       "      <td>71</td>\n",
       "      <td>566</td>\n",
       "      <td>129</td>\n",
       "      <td>861</td>\n",
       "    </tr>\n",
       "    <tr>\n",
       "      <th>win_rate</th>\n",
       "      <td>0.374126</td>\n",
       "      <td>0.32552</td>\n",
       "      <td>0.337209</td>\n",
       "      <td>0.335174</td>\n",
       "    </tr>\n",
       "    <tr>\n",
       "      <th>avg_win</th>\n",
       "      <td>0.006734</td>\n",
       "      <td>0.007887</td>\n",
       "      <td>0.005513</td>\n",
       "      <td>0.005877</td>\n",
       "    </tr>\n",
       "    <tr>\n",
       "      <th>avg_loss</th>\n",
       "      <td>-0.003346</td>\n",
       "      <td>-0.003625</td>\n",
       "      <td>-0.002838</td>\n",
       "      <td>-0.00286</td>\n",
       "    </tr>\n",
       "    <tr>\n",
       "      <th>best_trade</th>\n",
       "      <td>0.0277</td>\n",
       "      <td>0.028374</td>\n",
       "      <td>0.012514</td>\n",
       "      <td>0.019073</td>\n",
       "    </tr>\n",
       "    <tr>\n",
       "      <th>worst_trade</th>\n",
       "      <td>-0.006834</td>\n",
       "      <td>-0.012383</td>\n",
       "      <td>-0.006577</td>\n",
       "      <td>-0.010541</td>\n",
       "    </tr>\n",
       "    <tr>\n",
       "      <th>profit_factor</th>\n",
       "      <td>1.202847</td>\n",
       "      <td>1.050112</td>\n",
       "      <td>0.988471</td>\n",
       "      <td>1.036029</td>\n",
       "    </tr>\n",
       "    <tr>\n",
       "      <th>expectancy</th>\n",
       "      <td>0.000425</td>\n",
       "      <td>0.000123</td>\n",
       "      <td>-0.000022</td>\n",
       "      <td>0.000069</td>\n",
       "    </tr>\n",
       "    <tr>\n",
       "      <th>kelly_criterion</th>\n",
       "      <td>0.063092</td>\n",
       "      <td>0.015534</td>\n",
       "      <td>-0.003933</td>\n",
       "      <td>0.011656</td>\n",
       "    </tr>\n",
       "    <tr>\n",
       "      <th>consecutive_wins</th>\n",
       "      <td>8</td>\n",
       "      <td>14</td>\n",
       "      <td>5</td>\n",
       "      <td>14</td>\n",
       "    </tr>\n",
       "    <tr>\n",
       "      <th>consecutive_losses</th>\n",
       "      <td>11</td>\n",
       "      <td>41</td>\n",
       "      <td>11</td>\n",
       "      <td>39</td>\n",
       "    </tr>\n",
       "    <tr>\n",
       "      <th>avg_trade_duration</th>\n",
       "      <td>0 days 02:47:45</td>\n",
       "      <td>5 days 08:35:12</td>\n",
       "      <td>2 days 19:51:11</td>\n",
       "      <td>2 days 22:01:15</td>\n",
       "    </tr>\n",
       "    <tr>\n",
       "      <th>ratio_of_longs</th>\n",
       "      <td>0.5</td>\n",
       "      <td>0.516143</td>\n",
       "      <td>0.5</td>\n",
       "      <td>0.510174</td>\n",
       "    </tr>\n",
       "  </tbody>\n",
       "</table>\n",
       "</div>"
      ],
      "text/plain": [
       "                                         time      filtered_time  \\\n",
       "total_return                         0.124133           0.262574   \n",
       "annualized_return                    0.029747           0.060148   \n",
       "volatility                           0.623553            0.69363   \n",
       "downside_volatility                  0.139408           0.185039   \n",
       "sharpe_ratio                         8.397366            2.17703   \n",
       "sortino_ratio                       37.560363           8.160748   \n",
       "var_95                              -0.005439          -0.006379   \n",
       "cvar_95                             -0.005955          -0.007652   \n",
       "skewness                             1.298916            1.36425   \n",
       "kurtosis                             2.022453           1.723162   \n",
       "probabilistic_sharpe_ratio           0.910468           0.827655   \n",
       "pos_concentration                    0.003702           0.000541   \n",
       "neg_concentration                    0.000791           0.000139   \n",
       "time_concentration                   0.003894           0.005818   \n",
       "max_drawdown                         0.048178           0.272126   \n",
       "avg_drawdown                          0.01973           0.117705   \n",
       "drawdown_duration           121 days 02:10:00  145 days 05:30:00   \n",
       "ulcer_index                          0.024585           0.155526   \n",
       "calmar_ratio                         0.617439           0.221028   \n",
       "bet_frequency                             288                273   \n",
       "bets_per_year                              72                 68   \n",
       "num_trades                                286               2261   \n",
       "trades_per_year                            71                566   \n",
       "win_rate                             0.374126            0.32552   \n",
       "avg_win                              0.006734           0.007887   \n",
       "avg_loss                            -0.003346          -0.003625   \n",
       "best_trade                             0.0277           0.028374   \n",
       "worst_trade                         -0.006834          -0.012383   \n",
       "profit_factor                        1.202847           1.050112   \n",
       "expectancy                           0.000425           0.000123   \n",
       "kelly_criterion                      0.063092           0.015534   \n",
       "consecutive_wins                            8                 14   \n",
       "consecutive_losses                         11                 41   \n",
       "avg_trade_duration            0 days 02:47:45    5 days 08:35:12   \n",
       "ratio_of_longs                            0.5           0.516143   \n",
       "\n",
       "                                         tick     filtered_tick  \n",
       "total_return                        -0.015796          0.220331  \n",
       "annualized_return                   -0.003981          0.051148  \n",
       "volatility                           0.627777          0.674952  \n",
       "downside_volatility                  0.140874          0.172898  \n",
       "sharpe_ratio                        -0.738385          2.169734  \n",
       "sortino_ratio                       -3.290468          8.470124  \n",
       "var_95                              -0.004367         -0.004621  \n",
       "cvar_95                             -0.005046         -0.005546  \n",
       "skewness                             0.937775          1.072288  \n",
       "kurtosis                            -0.460891          0.251129  \n",
       "probabilistic_sharpe_ratio           0.454487          0.809826  \n",
       "pos_concentration                     0.00124          0.000252  \n",
       "neg_concentration                    0.000338          0.000075  \n",
       "time_concentration                   0.005865           0.00977  \n",
       "max_drawdown                         0.069966          0.249809  \n",
       "avg_drawdown                         0.016848          0.079325  \n",
       "drawdown_duration           121 days 08:01:50  85 days 15:49:44  \n",
       "ulcer_index                          0.028707          0.117637  \n",
       "calmar_ratio                        -0.056897          0.204748  \n",
       "bet_frequency                             517               501  \n",
       "bets_per_year                             129               125  \n",
       "num_trades                                516              3440  \n",
       "trades_per_year                           129               861  \n",
       "win_rate                             0.337209          0.335174  \n",
       "avg_win                              0.005513          0.005877  \n",
       "avg_loss                            -0.002838          -0.00286  \n",
       "best_trade                           0.012514          0.019073  \n",
       "worst_trade                         -0.006577         -0.010541  \n",
       "profit_factor                        0.988471          1.036029  \n",
       "expectancy                          -0.000022          0.000069  \n",
       "kelly_criterion                     -0.003933          0.011656  \n",
       "consecutive_wins                            5                14  \n",
       "consecutive_losses                         11                39  \n",
       "avg_trade_duration            2 days 19:51:11   2 days 22:01:15  \n",
       "ratio_of_longs                            0.5          0.510174  "
      ]
     },
     "execution_count": 16,
     "metadata": {},
     "output_type": "execute_result"
    }
   ],
   "source": [
    "print(f\"MACrossover_fast{fast_window}_slow{slow_window}: \\n\")\n",
    "\n",
    "ma_metrics_df = pd.DataFrame({\n",
    "    \"time\": ma_events_time_metrics, \n",
    "    \"filtered_time\": ma_events_time_filt_metrics,\n",
    "    \"tick\": ma_events_tick_metrics, \n",
    "    \"filtered_tick\": ma_events_tick_filt_metrics\n",
    "    })\n",
    "ma_metrics_df"
   ]
  }
 ],
 "metadata": {
  "kernelspec": {
   "display_name": "mlfinlab_env",
   "language": "python",
   "name": "python3"
  },
  "language_info": {
   "codemirror_mode": {
    "name": "ipython",
    "version": 3
   },
   "file_extension": ".py",
   "mimetype": "text/x-python",
   "name": "python",
   "nbconvert_exporter": "python",
   "pygments_lexer": "ipython3",
   "version": "3.10.18"
  }
 },
 "nbformat": 4,
 "nbformat_minor": 5
}
