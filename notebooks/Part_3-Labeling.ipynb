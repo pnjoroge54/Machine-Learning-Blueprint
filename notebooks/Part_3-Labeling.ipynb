{
 "cells": [
  {
   "cell_type": "markdown",
   "id": "883cfcc8",
   "metadata": {
    "vscode": {
     "languageId": "plaintext"
    }
   },
   "source": [
    "# Meta-Labeling Experiments: A Step-by-Step Guide\n",
    "\n",
    "## Introduction\n",
    "\n",
    "This notebook recreates the meta-labeling experiments from Hudson & Thames' research in a beginner-friendly manner. Meta-labeling is a machine learning technique that sits on top of a primary trading strategy to improve performance by filtering out false positive signals.\n",
    "\n",
    "**Key Concepts:**\n",
    "- **Primary Model**: Generates trading signals (buy/sell/hold)\n",
    "- **Triple Barrier Method**: Advanced labeling technique that accounts for stop-loss, take-profit, and time-based exits\n",
    "- **Meta-Labeling**: Secondary ML model that decides whether to act on primary model signals\n",
    "- **Goal**: Improve Sharpe ratio, reduce drawdown, and increase precision\n",
    "\n",
    "## Setup and Dependencies"
   ]
  },
  {
   "cell_type": "code",
   "execution_count": 2,
   "id": "b1e50b0d",
   "metadata": {},
   "outputs": [],
   "source": [
    "import sys\n",
    "sys.path.append(\"..\")  # Adjust based on your directory structure\n",
    "\n",
    "%reload_ext autoreload\n",
    "%load_ext line_profiler\n",
    "%autoreload 3 -p\n",
    "\n",
    "# %aimport afml"
   ]
  },
  {
   "cell_type": "code",
   "execution_count": 35,
   "id": "2507ee02",
   "metadata": {},
   "outputs": [],
   "source": [
    "import warnings\n",
    "import winsound\n",
    "from datetime import timedelta, datetime as dt\n",
    "from pprint import pprint\n",
    "from pathlib import Path\n",
    "\n",
    "import matplotlib.pyplot as plt\n",
    "import MetaTrader5 as mt5\n",
    "import seaborn as sns\n",
    "\n",
    "from afml.data_structures.bars import *\n",
    "from afml.filters import cusum_filter\n",
    "from afml.labeling import (\n",
    "    add_vertical_barrier,\n",
    "    calculate_label_metrics,\n",
    "    fixed_time_horizon,\n",
    "    get_bins,\n",
    "    get_bins_from_trend,\n",
    "    get_events,\n",
    "    triple_barrier_labels,\n",
    "    get_trend_scanning_meta_labels,\n",
    "\n",
    ")\n",
    "from afml.strategies import (\n",
    "    BaseStrategy,\n",
    "    BollingerMeanReversionStrategy,\n",
    "    MovingAverageCrossoverStrategy,\n",
    "    TripleBarrierEvaluator,\n",
    "    create_bollinger_features,\n",
    "    get_entries,\n",
    ")\n",
    "from afml.util import (\n",
    "    COMMODITIES,\n",
    "    CLEAN_DATA_PATH,\n",
    "    CRYPTO,\n",
    "    DATA_PATH,\n",
    "    FX_MAJORS,\n",
    "    PERCENTILES,\n",
    "    UTC,\n",
    "    DataFrameFormatter,\n",
    "    get_daily_vol,\n",
    "    get_ticks,\n",
    "    load_tick_data,\n",
    "    login_mt5,\n",
    "    save_data_to_parquet,\n",
    "    value_counts_data,\n",
    "    verify_or_create_account_info,\n",
    ")\n",
    "\n",
    "warnings.filterwarnings(\"ignore\")\n",
    "plt.style.use(\"dark_background\")\n"
   ]
  },
  {
   "cell_type": "code",
   "execution_count": 7,
   "id": "015d7b36",
   "metadata": {},
   "outputs": [],
   "source": [
    "from afml.cache import clear_afml_cache\n",
    "\n",
    "\n",
    "clear_afml_cache()"
   ]
  },
  {
   "cell_type": "markdown",
   "id": "160822e7",
   "metadata": {},
   "source": [
    "## 1. Data Preparation"
   ]
  },
  {
   "cell_type": "code",
   "execution_count": 9,
   "id": "f816170a",
   "metadata": {},
   "outputs": [],
   "source": [
    "account = \"FundedNext_STLR2_6K\"\n",
    "# account = login_mt5(account=\"FundedNext_STLR2_6K\")\n",
    "symbol = \"EURUSD\"\n",
    "columns = ['bid', 'ask']\n",
    "tick_bar_dict = {\"M1\": 50, \"M5\": 200, \"M15\": 700, \"M30\": 1000, \"H1\": 3000}\n",
    "tick_df = None\n",
    "\n",
    "start_date, end_date = \"2018-01-01\", \"2024-12-31\"\n",
    "sample_start, sample_end = start_date, \"2021-12-31\"\n",
    "oos_start = pd.Timestamp(sample_end) + timedelta(days=1) # Out-of-sample start date\n",
    "\n",
    "\n",
    "def get_data(symbol, timeframe, dirpath=\"../data\"):\n",
    "    \"\"\"Returns time-bars and tick-bars for timeframe\"\"\"\n",
    "    global tick_df\n",
    "    timeframe = timeframe.title()\n",
    "    directory = Path(dirpath)\n",
    "    tick_bar_size = tick_bar_dict[timeframe]\n",
    "    fname = Path(dirpath, f\"{symbol}_{timeframe}_time_{start_date}-{end_date}.parq\")\n",
    "    fname1 = Path(dirpath, f\"{symbol}_{timeframe}_tick-{tick_bar_size}_{start_date}-{end_date}.parq\")\n",
    "    time_bars, tick_bars = (None, None)\n",
    "\n",
    "    # --- Construct the search pattern ---\n",
    "    # The '*' is a wildcard that matches any sequence of characters\n",
    "    search_pattern = f\"{symbol}_{timeframe}_*\"\n",
    "\n",
    "    # --- Find the files ---\n",
    "    # glob() returns a generator, so you can iterate over it\n",
    "    found_files = directory.glob(search_pattern)\n",
    "\n",
    "    # --- Print the results ---\n",
    "    for file in found_files:\n",
    "        if fname == file:\n",
    "            time_bars = pd.read_parquet(fname)\n",
    "            print(\"Loaded\", file.name)\n",
    "        elif fname1 == file:\n",
    "            tick_bars = pd.read_parquet(fname1)\n",
    "            print(\"Loaded\", file.name)\n",
    "        \n",
    "    if any(x is None for x in (time_bars, tick_bars)):\n",
    "        try:\n",
    "            tick_df = load_tick_data(CLEAN_DATA_PATH, symbol, start_date, end_date, account, columns)\n",
    "        except FileNotFoundError:\n",
    "            save_data_to_parquet(CLEAN_DATA_PATH, symbol, start_date, end_date, account)\n",
    "        if time_bars is None:\n",
    "            time_bars = make_bars(tick_df, bar_type=\"time\", timeframe=timeframe, price=\"bid_ask\", verbose=True)\n",
    "            time_bars.to_parquet(fname)\n",
    "        if tick_bars is None:\n",
    "            tick_bar_size = calculate_ticks_per_period(tick_df, timeframe)\n",
    "            tick_bar_dict[timeframe] = tick_bar_size\n",
    "            tick_bars = make_bars(tick_df, bar_type=\"tick\", bar_size=tick_bar_size, price=\"bid_ask\", verbose=True)\n",
    "            fname1 = Path(dirpath, f\"{symbol}_{timeframe}_tick-{tick_bar_size}_{start_date}-{end_date}.parq\")\n",
    "            tick_bars.to_parquet(fname1)\n",
    "\n",
    "    return time_bars, tick_bars"
   ]
  },
  {
   "cell_type": "markdown",
   "id": "9129c536",
   "metadata": {},
   "source": [
    "## 2. Bollinger Band Strategy"
   ]
  },
  {
   "cell_type": "code",
   "execution_count": 7,
   "id": "49716f8d",
   "metadata": {},
   "outputs": [
    {
     "name": "stdout",
     "output_type": "stream",
     "text": [
      "Loaded EURUSD_M5_tick-200_2018-01-01-2024-12-31.parq\n",
      "Loaded EURUSD_M5_time_2018-01-01-2024-12-31.parq\n"
     ]
    }
   ],
   "source": [
    "timeframe = \"M5\"\n",
    "tick_bar_size = tick_bar_dict[timeframe]\n",
    "bb_time_bars, bb_tick_bars = get_data(symbol, timeframe)\n",
    "bar_size = f\"tick-{bb_tick_bars.tick_volume.iloc[0]}\"\n",
    "bb_df = bb_time_bars.loc[sample_start : sample_end]\n",
    "bb_df0 = bb_tick_bars.loc[sample_start : sample_end]"
   ]
  },
  {
   "cell_type": "markdown",
   "id": "76ada8a2",
   "metadata": {},
   "source": [
    "### Feature Engineering"
   ]
  },
  {
   "cell_type": "code",
   "execution_count": null,
   "id": "63d09b56",
   "metadata": {},
   "outputs": [
    {
     "name": "stdout",
     "output_type": "stream",
     "text": [
      "\u001b[32m2025-08-29 22:26:49\u001b[0m | \u001b[1mINFO    \u001b[0m | \u001b[1m\n",
      "Dropped features with correlation > 0.8: \n",
      "\t['sma_diff_20_50', 'sma_diff_50_100', 'sma_diff_5_100']\n",
      "Kept features: \n",
      "\t['sma_diff_5_20', 'sma_diff_5_50', 'sma_diff_20_100']\u001b[0m\n",
      "<class 'pandas.core.frame.DataFrame'>\n",
      "DatetimeIndex: 295657 entries, 2018-01-01 23:05:00 to 2021-12-31 23:00:00\n",
      "Data columns (total 51 columns):\n",
      " #   Column            Non-Null Count   Dtype  \n",
      "---  ------            --------------   -----  \n",
      " 0   rel_spread        295657 non-null  float32\n",
      " 1   bb_bandwidth      295638 non-null  float32\n",
      " 2   bb_percentage     295638 non-null  float64\n",
      " 3   returns           295656 non-null  float32\n",
      " 4   returns_5         295652 non-null  float32\n",
      " 5   returns_10        295647 non-null  float32\n",
      " 6   returns_1_lag_1   295655 non-null  float32\n",
      " 7   returns_5_lag_1   295647 non-null  float32\n",
      " 8   returns_10_lag_1  295637 non-null  float32\n",
      " 9   returns_1_lag_2   295654 non-null  float32\n",
      " 10  returns_5_lag_2   295642 non-null  float32\n",
      " 11  returns_10_lag_2  295627 non-null  float32\n",
      " 12  returns_1_lag_3   295653 non-null  float32\n",
      " 13  returns_5_lag_3   295637 non-null  float32\n",
      " 14  returns_10_lag_3  295617 non-null  float32\n",
      " 15  vol               295652 non-null  float32\n",
      " 16  vol_20            295637 non-null  float32\n",
      " 17  vol_lag_1         295651 non-null  float32\n",
      " 18  vol_lag_2         295650 non-null  float32\n",
      " 19  vol_lag_3         295649 non-null  float32\n",
      " 20  vol_lag_4         295648 non-null  float32\n",
      " 21  vol_lag_5         295647 non-null  float32\n",
      " 22  autocorr          295647 non-null  float32\n",
      " 23  autocorr_1        295646 non-null  float32\n",
      " 24  autocorr_2        295645 non-null  float32\n",
      " 25  autocorr_3        295644 non-null  float32\n",
      " 26  autocorr_4        295643 non-null  float32\n",
      " 27  autocorr_5        295642 non-null  float32\n",
      " 28  H1_vol            295643 non-null  float32\n",
      " 29  H4_vol            295607 non-null  float32\n",
      " 30  D1_vol            295367 non-null  float32\n",
      " 31  returns_skew      295647 non-null  float32\n",
      " 32  returns_kurt      295647 non-null  float32\n",
      " 33  tr                295656 non-null  float32\n",
      " 34  atr               295643 non-null  float32\n",
      " 35  sma_diff_5_20     295637 non-null  float32\n",
      " 36  sma_diff_5_50     295607 non-null  float32\n",
      " 37  sma_diff_20_100   295557 non-null  float32\n",
      " 38  mom_10            295647 non-null  float32\n",
      " 39  mom_50            295607 non-null  float32\n",
      " 40  mom_100           295557 non-null  float32\n",
      " 41  rsi               295643 non-null  float32\n",
      " 42  stoch_rsi_k       295628 non-null  float32\n",
      " 43  stoch_rsi_d       295626 non-null  float32\n",
      " 44  adx               295630 non-null  float32\n",
      " 45  dmp               295643 non-null  float32\n",
      " 46  dmn               295643 non-null  float32\n",
      " 47  dm_net            295643 non-null  float32\n",
      " 48  macd              295624 non-null  float32\n",
      " 49  macd_hist         295624 non-null  float32\n",
      " 50  side              295657 non-null  int8   \n",
      "dtypes: float32(49), float64(1), int8(1)\n",
      "memory usage: 68.1 MB\n"
     ]
    }
   ],
   "source": [
    "bb_period, bb_std = 20, 1.5 # Bollinger Band parameters\n",
    "bb_strategy = BollingerMeanReversionStrategy(window=bb_period, num_std=bb_std)\n",
    "\n",
    "lookback = 10\n",
    "bb_feat = create_bollinger_features(bb_df, lookback, bb_period, bb_std)\n",
    "bb_feat[\"side\"] = bb_strategy.generate_signals(bb_df)\n",
    "bb_feat.info()"
   ]
  },
  {
   "cell_type": "code",
   "execution_count": 46,
   "id": "b7e0c62e",
   "metadata": {},
   "outputs": [
    {
     "name": "stdout",
     "output_type": "stream",
     "text": [
      "\u001b[32m2025-08-29 22:04:26.490\u001b[0m | \u001b[1mINFO    \u001b[0m | \u001b[36mafml.strategies.genetic_optimizer\u001b[0m:\u001b[36m__init__\u001b[0m:\u001b[36m147\u001b[0m - \u001b[1mGenerating primary signals...\u001b[0m\n",
      "\u001b[32m2025-08-29 22:04:26.737\u001b[0m | \u001b[1mINFO    \u001b[0m | \u001b[36mafml.strategies.strategies\u001b[0m:\u001b[36mget_entries\u001b[0m:\u001b[36m76\u001b[0m - \u001b[1mGenerated 7,834 trade events generated by CUSUM filter.\u001b[0m\n"
     ]
    }
   ],
   "source": [
    "target_vol_params = dict(days=1, lookback=100)\n",
    "tb_evaluator = TripleBarrierEvaluator(\n",
    "    bb_strategy, bb_df, target_vol_params,\n",
    "    target_vol_multiplier=1,\n",
    "    filter_events=True,\n",
    "    vertical_barrier_zero=True,\n",
    "    on_crossover=True,\n",
    "    )\n",
    "pt_barrier, sl_barrier, time_horizon = (2, 1, 20)"
   ]
  },
  {
   "cell_type": "markdown",
   "id": "bd2284a3",
   "metadata": {},
   "source": [
    "### Fixed-Time Horizon Method"
   ]
  },
  {
   "cell_type": "code",
   "execution_count": 83,
   "id": "917ed43f",
   "metadata": {},
   "outputs": [],
   "source": [
    "bb_events_fh = tb_evaluator.evaluate_performance(0, 0, time_horizon)\n",
    "bb_events_fh_metrics = tb_evaluator.calculate_strategy_metrics(bb_events_fh)"
   ]
  },
  {
   "cell_type": "markdown",
   "id": "fbe1c961",
   "metadata": {},
   "source": [
    "### Triple-Barrier Method"
   ]
  },
  {
   "cell_type": "code",
   "execution_count": 84,
   "id": "c5b85936",
   "metadata": {},
   "outputs": [],
   "source": [
    "bb_events_tbl = tb_evaluator.evaluate_performance(pt_barrier, sl_barrier, time_horizon)\n",
    "bb_events_tbl_metrics = tb_evaluator.calculate_strategy_metrics(bb_events_tbl)"
   ]
  },
  {
   "cell_type": "code",
   "execution_count": 85,
   "id": "99347f48",
   "metadata": {},
   "outputs": [
    {
     "name": "stdout",
     "output_type": "stream",
     "text": [
      "Bollinger_w20_std1.5: \n",
      "\n"
     ]
    },
    {
     "data": {
      "application/vnd.microsoft.datawrangler.viewer.v0+json": {
       "columns": [
        {
         "name": "index",
         "rawType": "object",
         "type": "string"
        },
        {
         "name": "fixed_horizon",
         "rawType": "object",
         "type": "unknown"
        },
        {
         "name": "triple_barrier",
         "rawType": "object",
         "type": "unknown"
        }
       ],
       "ref": "94508d28-075f-48a6-8cb4-58a919a5207d",
       "rows": [
        [
         "total_return",
         "0.7241012537477265",
         "0.44250574612289384"
        ],
        [
         "annualized_return",
         "0.14620521633509376",
         "0.0961279162955786"
        ],
        [
         "volatility",
         "0.40575751343050065",
         "0.3779885946830118"
        ],
        [
         "downside_volatility",
         "0.2756656323319422",
         "0.22772266577491074"
        ],
        [
         "sharpe_ratio",
         "12.887154034218703",
         "9.347378863519616"
        ],
        [
         "sortino_ratio",
         "18.968848354022835",
         "15.515375198021841"
        ],
        [
         "var_95",
         "-0.0022262135016876405",
         "-0.0020002128460850643"
        ],
        [
         "cvar_95",
         "-0.0032808483511186023",
         "-0.002784395575736406"
        ],
        [
         "skewness",
         "0.3377669424555541",
         "0.4260032253809848"
        ],
        [
         "kurtosis",
         "4.533642058987901",
         "3.027380230270782"
        ],
        [
         "probabilistic_sharpe_ratio",
         "0.9999878919528811",
         "0.9989019507420437"
        ],
        [
         "pos_concentration",
         "0.0002659671446065537",
         "0.00023204701178845645"
        ],
        [
         "neg_concentration",
         "0.0002579059153697859",
         "0.0001809528881067443"
        ],
        [
         "time_concentration",
         "0.003162863600413463",
         "0.003162863600413463"
        ],
        [
         "max_drawdown",
         "0.08073977476312066",
         "0.10755553769081327"
        ],
        [
         "avg_drawdown",
         "0.005334361215471346",
         "0.0048623376042068005"
        ],
        [
         "drawdown_duration",
         "6 days 10:12:37",
         "7 days 07:54:30"
        ],
        [
         "ulcer_index",
         "0.010663781807425082",
         "0.010718132537269724"
        ],
        [
         "calmar_ratio",
         "1.8108202154890778",
         "0.8937514363222717"
        ],
        [
         "num_trades",
         "7826",
         "7826"
        ],
        [
         "trades_per_year",
         "1959",
         "1959"
        ],
        [
         "win_rate",
         "0.5292614362381804",
         "0.5102223358037311"
        ],
        [
         "avg_win",
         "0.0010568783587700209",
         "0.0010572723986412421"
        ],
        [
         "avg_loss",
         "-0.0010422887318606308",
         "-0.0010075260180561984"
        ],
        [
         "best_trade",
         "0.011397361797839567",
         "0.011067271398325751"
        ],
        [
         "worst_trade",
         "-0.009447455354591239",
         "-0.0073644518623537936"
        ],
        [
         "profit_factor",
         "1.144720196669541",
         "1.097186047852627"
        ],
        [
         "expectancy",
         "6.871945743047064e-05",
         "4.5980253075015415e-05"
        ],
        [
         "kelly_criterion",
         "0.065021160533976",
         "0.043489504818348734"
        ],
        [
         "consecutive_wins",
         "22",
         "11"
        ],
        [
         "consecutive_losses",
         "11",
         "10"
        ],
        [
         "avg_trade_duration",
         "0 days 09:53:21",
         "0 days 09:53:21"
        ],
        [
         "ratio_of_longs",
         "0.5074111934577051",
         "0.5074111934577051"
        ]
       ],
       "shape": {
        "columns": 2,
        "rows": 33
       }
      },
      "text/html": [
       "<div>\n",
       "<style scoped>\n",
       "    .dataframe tbody tr th:only-of-type {\n",
       "        vertical-align: middle;\n",
       "    }\n",
       "\n",
       "    .dataframe tbody tr th {\n",
       "        vertical-align: top;\n",
       "    }\n",
       "\n",
       "    .dataframe thead th {\n",
       "        text-align: right;\n",
       "    }\n",
       "</style>\n",
       "<table border=\"1\" class=\"dataframe\">\n",
       "  <thead>\n",
       "    <tr style=\"text-align: right;\">\n",
       "      <th></th>\n",
       "      <th>fixed_horizon</th>\n",
       "      <th>triple_barrier</th>\n",
       "    </tr>\n",
       "  </thead>\n",
       "  <tbody>\n",
       "    <tr>\n",
       "      <th>total_return</th>\n",
       "      <td>0.724101</td>\n",
       "      <td>0.442506</td>\n",
       "    </tr>\n",
       "    <tr>\n",
       "      <th>annualized_return</th>\n",
       "      <td>0.146205</td>\n",
       "      <td>0.096128</td>\n",
       "    </tr>\n",
       "    <tr>\n",
       "      <th>volatility</th>\n",
       "      <td>0.405758</td>\n",
       "      <td>0.377989</td>\n",
       "    </tr>\n",
       "    <tr>\n",
       "      <th>downside_volatility</th>\n",
       "      <td>0.275666</td>\n",
       "      <td>0.227723</td>\n",
       "    </tr>\n",
       "    <tr>\n",
       "      <th>sharpe_ratio</th>\n",
       "      <td>12.887154</td>\n",
       "      <td>9.347379</td>\n",
       "    </tr>\n",
       "    <tr>\n",
       "      <th>sortino_ratio</th>\n",
       "      <td>18.968848</td>\n",
       "      <td>15.515375</td>\n",
       "    </tr>\n",
       "    <tr>\n",
       "      <th>var_95</th>\n",
       "      <td>-0.002226</td>\n",
       "      <td>-0.002</td>\n",
       "    </tr>\n",
       "    <tr>\n",
       "      <th>cvar_95</th>\n",
       "      <td>-0.003281</td>\n",
       "      <td>-0.002784</td>\n",
       "    </tr>\n",
       "    <tr>\n",
       "      <th>skewness</th>\n",
       "      <td>0.337767</td>\n",
       "      <td>0.426003</td>\n",
       "    </tr>\n",
       "    <tr>\n",
       "      <th>kurtosis</th>\n",
       "      <td>4.533642</td>\n",
       "      <td>3.02738</td>\n",
       "    </tr>\n",
       "    <tr>\n",
       "      <th>probabilistic_sharpe_ratio</th>\n",
       "      <td>0.999988</td>\n",
       "      <td>0.998902</td>\n",
       "    </tr>\n",
       "    <tr>\n",
       "      <th>pos_concentration</th>\n",
       "      <td>0.000266</td>\n",
       "      <td>0.000232</td>\n",
       "    </tr>\n",
       "    <tr>\n",
       "      <th>neg_concentration</th>\n",
       "      <td>0.000258</td>\n",
       "      <td>0.000181</td>\n",
       "    </tr>\n",
       "    <tr>\n",
       "      <th>time_concentration</th>\n",
       "      <td>0.003163</td>\n",
       "      <td>0.003163</td>\n",
       "    </tr>\n",
       "    <tr>\n",
       "      <th>max_drawdown</th>\n",
       "      <td>0.08074</td>\n",
       "      <td>0.107556</td>\n",
       "    </tr>\n",
       "    <tr>\n",
       "      <th>avg_drawdown</th>\n",
       "      <td>0.005334</td>\n",
       "      <td>0.004862</td>\n",
       "    </tr>\n",
       "    <tr>\n",
       "      <th>drawdown_duration</th>\n",
       "      <td>6 days 10:12:37</td>\n",
       "      <td>7 days 07:54:30</td>\n",
       "    </tr>\n",
       "    <tr>\n",
       "      <th>ulcer_index</th>\n",
       "      <td>0.010664</td>\n",
       "      <td>0.010718</td>\n",
       "    </tr>\n",
       "    <tr>\n",
       "      <th>calmar_ratio</th>\n",
       "      <td>1.81082</td>\n",
       "      <td>0.893751</td>\n",
       "    </tr>\n",
       "    <tr>\n",
       "      <th>num_trades</th>\n",
       "      <td>7826</td>\n",
       "      <td>7826</td>\n",
       "    </tr>\n",
       "    <tr>\n",
       "      <th>trades_per_year</th>\n",
       "      <td>1959</td>\n",
       "      <td>1959</td>\n",
       "    </tr>\n",
       "    <tr>\n",
       "      <th>win_rate</th>\n",
       "      <td>0.529261</td>\n",
       "      <td>0.510222</td>\n",
       "    </tr>\n",
       "    <tr>\n",
       "      <th>avg_win</th>\n",
       "      <td>0.001057</td>\n",
       "      <td>0.001057</td>\n",
       "    </tr>\n",
       "    <tr>\n",
       "      <th>avg_loss</th>\n",
       "      <td>-0.001042</td>\n",
       "      <td>-0.001008</td>\n",
       "    </tr>\n",
       "    <tr>\n",
       "      <th>best_trade</th>\n",
       "      <td>0.011397</td>\n",
       "      <td>0.011067</td>\n",
       "    </tr>\n",
       "    <tr>\n",
       "      <th>worst_trade</th>\n",
       "      <td>-0.009447</td>\n",
       "      <td>-0.007364</td>\n",
       "    </tr>\n",
       "    <tr>\n",
       "      <th>profit_factor</th>\n",
       "      <td>1.14472</td>\n",
       "      <td>1.097186</td>\n",
       "    </tr>\n",
       "    <tr>\n",
       "      <th>expectancy</th>\n",
       "      <td>0.000069</td>\n",
       "      <td>0.000046</td>\n",
       "    </tr>\n",
       "    <tr>\n",
       "      <th>kelly_criterion</th>\n",
       "      <td>0.065021</td>\n",
       "      <td>0.04349</td>\n",
       "    </tr>\n",
       "    <tr>\n",
       "      <th>consecutive_wins</th>\n",
       "      <td>22</td>\n",
       "      <td>11</td>\n",
       "    </tr>\n",
       "    <tr>\n",
       "      <th>consecutive_losses</th>\n",
       "      <td>11</td>\n",
       "      <td>10</td>\n",
       "    </tr>\n",
       "    <tr>\n",
       "      <th>avg_trade_duration</th>\n",
       "      <td>0 days 09:53:21</td>\n",
       "      <td>0 days 09:53:21</td>\n",
       "    </tr>\n",
       "    <tr>\n",
       "      <th>ratio_of_longs</th>\n",
       "      <td>0.507411</td>\n",
       "      <td>0.507411</td>\n",
       "    </tr>\n",
       "  </tbody>\n",
       "</table>\n",
       "</div>"
      ],
      "text/plain": [
       "                              fixed_horizon   triple_barrier\n",
       "total_return                       0.724101         0.442506\n",
       "annualized_return                  0.146205         0.096128\n",
       "volatility                         0.405758         0.377989\n",
       "downside_volatility                0.275666         0.227723\n",
       "sharpe_ratio                      12.887154         9.347379\n",
       "sortino_ratio                     18.968848        15.515375\n",
       "var_95                            -0.002226           -0.002\n",
       "cvar_95                           -0.003281        -0.002784\n",
       "skewness                           0.337767         0.426003\n",
       "kurtosis                           4.533642          3.02738\n",
       "probabilistic_sharpe_ratio         0.999988         0.998902\n",
       "pos_concentration                  0.000266         0.000232\n",
       "neg_concentration                  0.000258         0.000181\n",
       "time_concentration                 0.003163         0.003163\n",
       "max_drawdown                        0.08074         0.107556\n",
       "avg_drawdown                       0.005334         0.004862\n",
       "drawdown_duration           6 days 10:12:37  7 days 07:54:30\n",
       "ulcer_index                        0.010664         0.010718\n",
       "calmar_ratio                        1.81082         0.893751\n",
       "num_trades                             7826             7826\n",
       "trades_per_year                        1959             1959\n",
       "win_rate                           0.529261         0.510222\n",
       "avg_win                            0.001057         0.001057\n",
       "avg_loss                          -0.001042        -0.001008\n",
       "best_trade                         0.011397         0.011067\n",
       "worst_trade                       -0.009447        -0.007364\n",
       "profit_factor                       1.14472         1.097186\n",
       "expectancy                         0.000069         0.000046\n",
       "kelly_criterion                    0.065021          0.04349\n",
       "consecutive_wins                         22               11\n",
       "consecutive_losses                       11               10\n",
       "avg_trade_duration          0 days 09:53:21  0 days 09:53:21\n",
       "ratio_of_longs                     0.507411         0.507411"
      ]
     },
     "execution_count": 85,
     "metadata": {},
     "output_type": "execute_result"
    }
   ],
   "source": [
    "print(f\"Bollinger_w{bb_period}_std{bb_std}: \\n\")\n",
    "\n",
    "bb_metrics_df = pd.DataFrame({\n",
    "    \"fixed_horizon\": bb_events_fh_metrics,\n",
    "    \"triple_barrier\": bb_events_tbl_metrics,\n",
    "    })\n",
    "bb_metrics_df"
   ]
  },
  {
   "cell_type": "markdown",
   "id": "d44c8eef",
   "metadata": {},
   "source": [
    "### Trend-Scanning Method"
   ]
  },
  {
   "cell_type": "code",
   "execution_count": null,
   "id": "fd21b790",
   "metadata": {},
   "outputs": [
    {
     "name": "stdout",
     "output_type": "stream",
     "text": [
      "bb_events_trend.shape: (9708, 4), bb_events_trend_mr.shape: (9708, 4)\n",
      "\n",
      "Bollinger_w20_std1.5_trend_scanning: \n",
      "\n"
     ]
    },
    {
     "data": {
      "application/vnd.microsoft.datawrangler.viewer.v0+json": {
       "columns": [
        {
         "name": "index",
         "rawType": "object",
         "type": "string"
        },
        {
         "name": "trend_time",
         "rawType": "object",
         "type": "unknown"
        },
        {
         "name": "trend_time_mr",
         "rawType": "object",
         "type": "unknown"
        }
       ],
       "ref": "36d3d988-46a9-4df9-84d2-d85790fe486f",
       "rows": [
        [
         "total_return",
         "0.9893361330032349",
         "0.46498072147369385"
        ],
        [
         "annualized_return",
         "0.18789870852331036",
         "0.10030936173993554"
        ],
        [
         "volatility",
         "0.39072235390670707",
         "0.29538783507511246"
        ],
        [
         "downside_volatility",
         "0.28388101251359216",
         "0.26337139306072566"
        ],
        [
         "sharpe_ratio",
         "13.607675497145854",
         "9.9966272263352"
        ],
        [
         "sortino_ratio",
         "18.7290546640166",
         "11.211855775692516"
        ],
        [
         "var_95",
         "-0.0022195905447006223",
         "-0.001544448733329773"
        ],
        [
         "cvar_95",
         "-0.0032582677",
         "-0.002692413"
        ],
        [
         "skewness",
         "0.15699572543033669",
         "0.3954746823299475"
        ],
        [
         "kurtosis",
         "5.306701742871187",
         "14.829726759224762"
        ],
        [
         "probabilistic_sharpe_ratio",
         "0.999999614152082",
         "0.999863391942088"
        ],
        [
         "pos_concentration",
         "0.00025533761826492",
         "0.00048621340124001136"
        ],
        [
         "neg_concentration",
         "0.00020090253134699327",
         "0.0004558890657236527"
        ],
        [
         "time_concentration",
         "0.006702912808796871",
         "0.006702912808796871"
        ],
        [
         "max_drawdown",
         "0.10391932570981233",
         "0.09734921933605833"
        ],
        [
         "avg_drawdown",
         "0.0050103808957534315",
         "0.0035262170215592963"
        ],
        [
         "drawdown_duration",
         "4 days 21:32:19",
         "6 days 05:02:56"
        ],
        [
         "ulcer_index",
         "0.010239012227376965",
         "0.009137441300399365"
        ],
        [
         "calmar_ratio",
         "1.8081209365041953",
         "1.0304074590845822"
        ],
        [
         "num_trades",
         "9708",
         "9708"
        ],
        [
         "trades_per_year",
         "2428",
         "2428"
        ],
        [
         "win_rate",
         "0.44149155335805523",
         "0.44241862381541"
        ],
        [
         "avg_win",
         "0.0011862791",
         "0.00071577786"
        ],
        [
         "avg_loss",
         "-0.001236693",
         "-0.0007658766"
        ],
        [
         "best_trade",
         "0.011528372764587402",
         "0.011528372764587402"
        ],
        [
         "worst_trade",
         "-0.009731948375701904",
         "-0.009731948375701904"
        ],
        [
         "profit_factor",
         "1.1590868",
         "1.1442556"
        ],
        [
         "expectancy",
         "-0.00016697127877404207",
         "-0.00011036507934736729"
        ],
        [
         "kelly_criterion",
         "-0.140752118687419",
         "-0.15418900149526915"
        ],
        [
         "consecutive_wins",
         "9",
         "10"
        ],
        [
         "consecutive_losses",
         "11",
         "11"
        ],
        [
         "avg_trade_duration",
         "0 days 00:21:23",
         "0 days 00:21:23"
        ],
        [
         "ratio_of_longs",
         "0.5072759765126372",
         "0.5072759765126372"
        ]
       ],
       "shape": {
        "columns": 2,
        "rows": 33
       }
      },
      "text/html": [
       "<div>\n",
       "<style scoped>\n",
       "    .dataframe tbody tr th:only-of-type {\n",
       "        vertical-align: middle;\n",
       "    }\n",
       "\n",
       "    .dataframe tbody tr th {\n",
       "        vertical-align: top;\n",
       "    }\n",
       "\n",
       "    .dataframe thead th {\n",
       "        text-align: right;\n",
       "    }\n",
       "</style>\n",
       "<table border=\"1\" class=\"dataframe\">\n",
       "  <thead>\n",
       "    <tr style=\"text-align: right;\">\n",
       "      <th></th>\n",
       "      <th>trend_time</th>\n",
       "      <th>trend_time_mr</th>\n",
       "    </tr>\n",
       "  </thead>\n",
       "  <tbody>\n",
       "    <tr>\n",
       "      <th>total_return</th>\n",
       "      <td>0.989336</td>\n",
       "      <td>0.464981</td>\n",
       "    </tr>\n",
       "    <tr>\n",
       "      <th>annualized_return</th>\n",
       "      <td>0.187899</td>\n",
       "      <td>0.100309</td>\n",
       "    </tr>\n",
       "    <tr>\n",
       "      <th>volatility</th>\n",
       "      <td>0.390722</td>\n",
       "      <td>0.295388</td>\n",
       "    </tr>\n",
       "    <tr>\n",
       "      <th>downside_volatility</th>\n",
       "      <td>0.283881</td>\n",
       "      <td>0.263371</td>\n",
       "    </tr>\n",
       "    <tr>\n",
       "      <th>sharpe_ratio</th>\n",
       "      <td>13.607675</td>\n",
       "      <td>9.996627</td>\n",
       "    </tr>\n",
       "    <tr>\n",
       "      <th>sortino_ratio</th>\n",
       "      <td>18.729055</td>\n",
       "      <td>11.211856</td>\n",
       "    </tr>\n",
       "    <tr>\n",
       "      <th>var_95</th>\n",
       "      <td>-0.00222</td>\n",
       "      <td>-0.001544</td>\n",
       "    </tr>\n",
       "    <tr>\n",
       "      <th>cvar_95</th>\n",
       "      <td>-0.003258</td>\n",
       "      <td>-0.002692</td>\n",
       "    </tr>\n",
       "    <tr>\n",
       "      <th>skewness</th>\n",
       "      <td>0.156996</td>\n",
       "      <td>0.395475</td>\n",
       "    </tr>\n",
       "    <tr>\n",
       "      <th>kurtosis</th>\n",
       "      <td>5.306702</td>\n",
       "      <td>14.829727</td>\n",
       "    </tr>\n",
       "    <tr>\n",
       "      <th>probabilistic_sharpe_ratio</th>\n",
       "      <td>1.0</td>\n",
       "      <td>0.999863</td>\n",
       "    </tr>\n",
       "    <tr>\n",
       "      <th>pos_concentration</th>\n",
       "      <td>0.000255</td>\n",
       "      <td>0.000486</td>\n",
       "    </tr>\n",
       "    <tr>\n",
       "      <th>neg_concentration</th>\n",
       "      <td>0.000201</td>\n",
       "      <td>0.000456</td>\n",
       "    </tr>\n",
       "    <tr>\n",
       "      <th>time_concentration</th>\n",
       "      <td>0.006703</td>\n",
       "      <td>0.006703</td>\n",
       "    </tr>\n",
       "    <tr>\n",
       "      <th>max_drawdown</th>\n",
       "      <td>0.103919</td>\n",
       "      <td>0.097349</td>\n",
       "    </tr>\n",
       "    <tr>\n",
       "      <th>avg_drawdown</th>\n",
       "      <td>0.00501</td>\n",
       "      <td>0.003526</td>\n",
       "    </tr>\n",
       "    <tr>\n",
       "      <th>drawdown_duration</th>\n",
       "      <td>4 days 21:32:19</td>\n",
       "      <td>6 days 05:02:56</td>\n",
       "    </tr>\n",
       "    <tr>\n",
       "      <th>ulcer_index</th>\n",
       "      <td>0.010239</td>\n",
       "      <td>0.009137</td>\n",
       "    </tr>\n",
       "    <tr>\n",
       "      <th>calmar_ratio</th>\n",
       "      <td>1.808121</td>\n",
       "      <td>1.030407</td>\n",
       "    </tr>\n",
       "    <tr>\n",
       "      <th>num_trades</th>\n",
       "      <td>9708</td>\n",
       "      <td>9708</td>\n",
       "    </tr>\n",
       "    <tr>\n",
       "      <th>trades_per_year</th>\n",
       "      <td>2428</td>\n",
       "      <td>2428</td>\n",
       "    </tr>\n",
       "    <tr>\n",
       "      <th>win_rate</th>\n",
       "      <td>0.441492</td>\n",
       "      <td>0.442419</td>\n",
       "    </tr>\n",
       "    <tr>\n",
       "      <th>avg_win</th>\n",
       "      <td>0.001186</td>\n",
       "      <td>0.000716</td>\n",
       "    </tr>\n",
       "    <tr>\n",
       "      <th>avg_loss</th>\n",
       "      <td>-0.001237</td>\n",
       "      <td>-0.000766</td>\n",
       "    </tr>\n",
       "    <tr>\n",
       "      <th>best_trade</th>\n",
       "      <td>0.011528</td>\n",
       "      <td>0.011528</td>\n",
       "    </tr>\n",
       "    <tr>\n",
       "      <th>worst_trade</th>\n",
       "      <td>-0.009732</td>\n",
       "      <td>-0.009732</td>\n",
       "    </tr>\n",
       "    <tr>\n",
       "      <th>profit_factor</th>\n",
       "      <td>1.159087</td>\n",
       "      <td>1.144256</td>\n",
       "    </tr>\n",
       "    <tr>\n",
       "      <th>expectancy</th>\n",
       "      <td>-0.000167</td>\n",
       "      <td>-0.00011</td>\n",
       "    </tr>\n",
       "    <tr>\n",
       "      <th>kelly_criterion</th>\n",
       "      <td>-0.140752</td>\n",
       "      <td>-0.154189</td>\n",
       "    </tr>\n",
       "    <tr>\n",
       "      <th>consecutive_wins</th>\n",
       "      <td>9</td>\n",
       "      <td>10</td>\n",
       "    </tr>\n",
       "    <tr>\n",
       "      <th>consecutive_losses</th>\n",
       "      <td>11</td>\n",
       "      <td>11</td>\n",
       "    </tr>\n",
       "    <tr>\n",
       "      <th>avg_trade_duration</th>\n",
       "      <td>0 days 00:21:23</td>\n",
       "      <td>0 days 00:21:23</td>\n",
       "    </tr>\n",
       "    <tr>\n",
       "      <th>ratio_of_longs</th>\n",
       "      <td>0.507276</td>\n",
       "      <td>0.507276</td>\n",
       "    </tr>\n",
       "  </tbody>\n",
       "</table>\n",
       "</div>"
      ],
      "text/plain": [
       "                                 trend_time    trend_time_mr\n",
       "total_return                       0.989336         0.464981\n",
       "annualized_return                  0.187899         0.100309\n",
       "volatility                         0.390722         0.295388\n",
       "downside_volatility                0.283881         0.263371\n",
       "sharpe_ratio                      13.607675         9.996627\n",
       "sortino_ratio                     18.729055        11.211856\n",
       "var_95                             -0.00222        -0.001544\n",
       "cvar_95                           -0.003258        -0.002692\n",
       "skewness                           0.156996         0.395475\n",
       "kurtosis                           5.306702        14.829727\n",
       "probabilistic_sharpe_ratio              1.0         0.999863\n",
       "pos_concentration                  0.000255         0.000486\n",
       "neg_concentration                  0.000201         0.000456\n",
       "time_concentration                 0.006703         0.006703\n",
       "max_drawdown                       0.103919         0.097349\n",
       "avg_drawdown                        0.00501         0.003526\n",
       "drawdown_duration           4 days 21:32:19  6 days 05:02:56\n",
       "ulcer_index                        0.010239         0.009137\n",
       "calmar_ratio                       1.808121         1.030407\n",
       "num_trades                             9708             9708\n",
       "trades_per_year                        2428             2428\n",
       "win_rate                           0.441492         0.442419\n",
       "avg_win                            0.001186         0.000716\n",
       "avg_loss                          -0.001237        -0.000766\n",
       "best_trade                         0.011528         0.011528\n",
       "worst_trade                       -0.009732        -0.009732\n",
       "profit_factor                      1.159087         1.144256\n",
       "expectancy                        -0.000167         -0.00011\n",
       "kelly_criterion                   -0.140752        -0.154189\n",
       "consecutive_wins                          9               10\n",
       "consecutive_losses                       11               11\n",
       "avg_trade_duration          0 days 00:21:23  0 days 00:21:23\n",
       "ratio_of_longs                     0.507276         0.507276"
      ]
     },
     "execution_count": 98,
     "metadata": {},
     "output_type": "execute_result"
    }
   ],
   "source": [
    "from afml.filters.filters import cusum_filter\n",
    "from afml.labeling.trend_scanning import get_trend_scanning_meta_labels\n",
    "from afml.util.volatility import get_daily_vol\n",
    "\n",
    "\n",
    "span = (5, 21)\n",
    "volatility_threshold = 0.1\n",
    "volatility_threshold_mr = 0.85\n",
    "\n",
    "thres = get_daily_vol(bb_df.close).mean()\n",
    "t_events = cusum_filter(bb_df.close, thres)\n",
    "side = bb_strategy.generate_signals(bb_df)\n",
    "close = bb_df.close\n",
    "\n",
    "\n",
    "bb_events_trend = get_trend_scanning_meta_labels(close, side, t_events, span, volatility_threshold)\n",
    "bb_events_trend_metrics = calculate_label_metrics(bb_df.index, side, bb_events_trend)\n",
    "\n",
    "# bb_events_trend_mr = get_bins_from_trend(close, span, volatility_threshold_mr)\n",
    "# bb_events_trend_mr = trend_meta_labels(bb_events_trend_mr, side, t_events, mean_reversion=True)\n",
    "bb_events_trend_mr = get_trend_scanning_meta_labels(close, side, t_events, span, volatility_threshold_mr)\n",
    "bb_events_trend_metrics_mr = calculate_label_metrics(bb_df.index, side, bb_events_trend_mr)\n",
    "\n",
    "print(f\"bb_events_trend.shape: {bb_events_trend.shape}, bb_events_trend_mr.shape: {bb_events_trend_mr.shape}\\n\")\n",
    "print(f\"Bollinger_w{bb_period}_std{bb_std}_trend_scanning: \\n\")\n",
    "bb_events_trend_metrics_all = pd.concat([bb_events_trend_metrics, bb_events_trend_metrics_mr], axis=1)\n",
    "bb_events_trend_metrics_all.columns = [\"trend_time\", \"trend_time_mr\"]\n",
    "bb_events_trend_metrics_all"
   ]
  },
  {
   "cell_type": "markdown",
   "id": "675591d3",
   "metadata": {},
   "source": [
    "### Random Forest"
   ]
  },
  {
   "cell_type": "code",
   "execution_count": 38,
   "id": "10075d44",
   "metadata": {},
   "outputs": [],
   "source": [
    "from sklearn.base import clone\n",
    "from sklearn.ensemble import RandomForestClassifier, BaggingClassifier\n",
    "from collections import namedtuple\n",
    "\n",
    "from afml.cross_validation.cross_validation import PurgedSplit\n",
    "from afml.backtest_statistics.reporting import (\n",
    "    create_classification_report_image,\n",
    "    meta_labelling_reports,\n",
    ")\n",
    "\n",
    "\n",
    "random_state = 40\n",
    "min_w_leaf = 0.05\n",
    "\n",
    "rf = RandomForestClassifier(\n",
    "    criterion='entropy',\n",
    "    n_estimators=1000,\n",
    "    class_weight='balanced_subsample',\n",
    "    random_state=random_state,\n",
    "    min_weight_fraction_leaf=min_w_leaf,\n",
    "    n_jobs=-1,  # Use all available cores\n",
    "    )\n",
    "\n",
    "def train_meta_model(model, features, labels, test_size=0.3) -> namedtuple:\n",
    "    \"\"\"\n",
    "    Generate meta-labeling report for both tick and time bar features.\n",
    "\n",
    "    Args:\n",
    "        model_template: Classifier to be used for meta-labeling.\n",
    "        X: DataFrame containing features.\n",
    "        cont: DataFrame containing label features.\n",
    "\n",
    "    Returns: namedtuple that contains fit, X_train, X_test, y_train, y_test, w_train, w_test, pred, prob\n",
    "    \"\"\"\n",
    "\n",
    "    # Prepare features and target\n",
    "    X = features.replace([np.inf, -np.inf], np.nan).dropna()\n",
    "    cont = labels.loc[X.index]\n",
    "    y = cont[\"bin\"]\n",
    "    w = cont[\"w\"] if \"w\" in cont else np.ones_like(y)  # sample weights\n",
    "    t1 = cont[\"t1\"]\n",
    "\n",
    "    # Split data\n",
    "    train, test = PurgedSplit(t1, test_size).split(X)\n",
    "    X_train, X_test, y_train, y_test, w_train, w_test = (\n",
    "        X.iloc[train],\n",
    "        X.iloc[test],\n",
    "        y.iloc[train],\n",
    "        y.iloc[test],\n",
    "        w[train],\n",
    "        w[test],\n",
    "    )\n",
    "\n",
    "    if isinstance(model, BaggingClassifier):\n",
    "        # Set max_samples based on average uniqueness from the triple barrier\n",
    "        try:\n",
    "            av_uniqueness = cont[\"tW\"].iloc[train].mean()\n",
    "            print(f\"Average uniqueness: {av_uniqueness:.4f}\")\n",
    "            model.set_params(max_samples=av_uniqueness)\n",
    "        except KeyError:\n",
    "            model = clone(model)\n",
    "            print(\"Warning: 'tW' column not found in labels. Using default max_samples.\\n\")\n",
    "    else:\n",
    "        model = clone(model)  # Ensure independence of estimator instances\n",
    "\n",
    "    model.fit(X_train, y_train, sample_weight=w_train)\n",
    "\n",
    "    # Make predictions\n",
    "    pred = model.predict(X_test)\n",
    "    prob = model.predict_proba(X_test)[:, 1]\n",
    "    pred = pd.Series(pred, index=X_test.index, name=\"pred\")\n",
    "    prob = pd.Series(prob, index=X_test.index, name=\"prob\")\n",
    "\n",
    "    model_data = namedtuple(\n",
    "        \"ModelData\", [\"fit\", \"X_train\", \"X_test\", \"y_train\", \"y_test\", \"w_train\", \"w_test\", \"pred\", \"prob\"]\n",
    "    )\n",
    "    return model_data(model, X_train, X_test, y_train, y_test, w_train, w_test, pred, prob)"
   ]
  },
  {
   "cell_type": "code",
   "execution_count": 115,
   "id": "8d94b26e",
   "metadata": {},
   "outputs": [],
   "source": [
    "from typing import List\n",
    "\n",
    "from sklearn.metrics import roc_auc_score, roc_curve\n",
    "\n",
    "\n",
    "def compare_roc_curves(\n",
    "    model_data: List[namedtuple], titles: List[str] = None\n",
    "):\n",
    "    n = len(model_data)\n",
    "    fig, axes = plt.subplots(nrows=n // 2, ncols=2, sharex=True, sharey=True, figsize=(7.5, 5), dpi=100)\n",
    "    axes = axes.flatten()\n",
    "    if not titles:\n",
    "        titles = [\"\"] * n\n",
    "\n",
    "    # Plot ROC curve\n",
    "    for data, ax, title in zip(model_data, axes, titles):\n",
    "        # Compute ROC curve\n",
    "        fpr, tpr, _ = roc_curve(data.y_test, data.prob, sample_weight=data.w_test)\n",
    "        auc = roc_auc_score(data.y_test, data.prob, sample_weight=data.w_test)\n",
    "        ax.plot(fpr, tpr, label=f\"ROC Curve (AUC = {auc:.2f})\", color=\"blue\")\n",
    "        ax.plot([0, 1], [0, 1], linestyle=\"--\", color=\"gray\", label=\"Random Chance\")\n",
    "        ax.set_xlabel(\"False Positive Rate\")\n",
    "        ax.set_ylabel(\"True Positive Rate\")\n",
    "        ax.set_title(f\"{title}\")\n",
    "        ax.legend()\n",
    "    \n",
    "    plt.tight_layout()\n",
    "    plt.style.use(\"dark_background\")\n",
    "    return fig\n",
    "\n",
    "\n",
    "def meta_labelling_classification_reports(model_data, title, output_filename):\n",
    "    create_classification_report_image(\n",
    "        y_true=model_data.y_test, \n",
    "        y_pred=np.ones_like(model_data.pred), \n",
    "        title=f\"{title} Primary Model\", \n",
    "        output_filename=f\"{output_filename}_primary_clf_report.png\",\n",
    "        display=False,\n",
    "        )\n",
    "    create_classification_report_image(\n",
    "        y_true=model_data.y_test, \n",
    "        y_pred=model_data.pred, \n",
    "        title=f\"{title} Meta-Model\", \n",
    "        output_filename=f\"{output_filename}_meta_clf_report.png\",\n",
    "        display=False,\n",
    "        )\n",
    "    print(\"Classification reports saved.\\n\")"
   ]
  },
  {
   "cell_type": "code",
   "execution_count": 87,
   "id": "189b77de",
   "metadata": {},
   "outputs": [
    {
     "name": "stdout",
     "output_type": "stream",
     "text": [
      "Fixed-Time Horizon Meta-Model Results:\n",
      "\n",
      "Primary-Model on Validation Set:\n",
      "              precision    recall  f1-score   support\n",
      "\n",
      "           0       0.00      0.00      0.00      1146\n",
      "           1       0.51      1.00      0.68      1201\n",
      "\n",
      "    accuracy                           0.51      2347\n",
      "   macro avg       0.26      0.50      0.34      2347\n",
      "weighted avg       0.26      0.51      0.35      2347\n",
      "\n",
      "\n",
      "Confusion Matrix:\n",
      "[[   0 1146]\n",
      " [   0 1201]]\n",
      "\n",
      "Meta-Model on Validation Set:\n",
      "              precision    recall  f1-score   support\n",
      "\n",
      "           0       0.48      0.59      0.53      1146\n",
      "           1       0.49      0.38      0.43      1201\n",
      "\n",
      "    accuracy                           0.48      2347\n",
      "   macro avg       0.48      0.49      0.48      2347\n",
      "weighted avg       0.49      0.48      0.48      2347\n",
      "\n",
      "\n",
      "Confusion Matrix:\n",
      "[[677 469]\n",
      " [744 457]]\n"
     ]
    },
    {
     "data": {
      "image/png": "[encoded data removed]",
      "text/plain": [
       "<Figure size 750x500 with 1 Axes>"
      ]
     },
     "metadata": {},
     "output_type": "display_data"
    }
   ],
   "source": [
    "model_bb_fh = train_meta_model(model=rf, features=bb_feat.reindex(bb_events_fh.index), labels=bb_events_fh)\n",
    "print(\"Fixed-Time Horizon Meta-Model Results:\\n\")\n",
    "meta_labelling_reports(\n",
    "    model_bb_fh.y_test, model_bb_fh.w_test, model_bb_fh.pred, model_bb_fh.prob, plot_roc=True\n",
    "    )"
   ]
  },
  {
   "cell_type": "code",
   "execution_count": 88,
   "id": "cf3a3ab8",
   "metadata": {},
   "outputs": [
    {
     "name": "stdout",
     "output_type": "stream",
     "text": [
      "Triple Barrier Meta-Model Results:\n",
      "\n",
      "Primary-Model on Validation Set:\n",
      "              precision    recall  f1-score   support\n",
      "\n",
      "           0       0.00      0.00      0.00      2186\n",
      "           1       0.07      1.00      0.13       161\n",
      "\n",
      "    accuracy                           0.07      2347\n",
      "   macro avg       0.03      0.50      0.06      2347\n",
      "weighted avg       0.00      0.07      0.01      2347\n",
      "\n",
      "\n",
      "Confusion Matrix:\n",
      "[[   0 2186]\n",
      " [   0  161]]\n",
      "\n",
      "Meta-Model on Validation Set:\n",
      "              precision    recall  f1-score   support\n",
      "\n",
      "           0       0.97      0.71      0.82      2186\n",
      "           1       0.15      0.68      0.24       161\n",
      "\n",
      "    accuracy                           0.71      2347\n",
      "   macro avg       0.56      0.70      0.53      2347\n",
      "weighted avg       0.91      0.71      0.78      2347\n",
      "\n",
      "\n",
      "Confusion Matrix:\n",
      "[[1557  629]\n",
      " [  51  110]]\n"
     ]
    },
    {
     "data": {
      "image/png": "[encoded data removed]",
      "text/plain": [
       "<Figure size 750x500 with 1 Axes>"
      ]
     },
     "metadata": {},
     "output_type": "display_data"
    }
   ],
   "source": [
    "model_bb_tbl = train_meta_model(model=rf, features=bb_feat.reindex(bb_events_tbl.index), labels=bb_events_tbl)\n",
    "print(\"Triple Barrier Meta-Model Results:\\n\")\n",
    "meta_labelling_reports(\n",
    "    model_bb_tbl.y_test, model_bb_tbl.w_test, model_bb_tbl.pred, model_bb_tbl.prob, plot_roc=True\n",
    "    )"
   ]
  },
  {
   "cell_type": "code",
   "execution_count": 116,
   "id": "4a6b990e",
   "metadata": {},
   "outputs": [
    {
     "name": "stdout",
     "output_type": "stream",
     "text": [
      "Trend-Scanning Meta-Model Results:\n",
      "\n",
      "Primary-Model on Validation Set:\n",
      "              precision    recall  f1-score   support\n",
      "\n",
      "           0       0.00      0.00      0.00      1584\n",
      "           1       0.46      1.00      0.63      1325\n",
      "\n",
      "    accuracy                           0.46      2909\n",
      "   macro avg       0.23      0.50      0.31      2909\n",
      "weighted avg       0.21      0.46      0.29      2909\n",
      "\n",
      "\n",
      "Confusion Matrix:\n",
      "[[   0 1584]\n",
      " [   0 1325]]\n",
      "\n",
      "Meta-Model on Validation Set:\n",
      "              precision    recall  f1-score   support\n",
      "\n",
      "           0       0.85      0.32      0.47      1584\n",
      "           1       0.54      0.93      0.68      1325\n",
      "\n",
      "    accuracy                           0.60      2909\n",
      "   macro avg       0.69      0.63      0.58      2909\n",
      "weighted avg       0.71      0.60      0.57      2909\n",
      "\n",
      "\n",
      "Confusion Matrix:\n",
      "[[ 513 1071]\n",
      " [  88 1237]]\n"
     ]
    },
    {
     "data": {
      "image/png": "[encoded data removed]",
      "text/plain": [
       "<Figure size 750x500 with 1 Axes>"
      ]
     },
     "metadata": {},
     "output_type": "display_data"
    }
   ],
   "source": [
    "model_bb_trend = train_meta_model(model=rf, features=bb_feat.reindex(bb_events_trend.index), labels=bb_events_trend)\n",
    "print(\"Trend-Scanning Meta-Model Results:\\n\")\n",
    "meta_labelling_reports(\n",
    "    model_bb_trend.y_test, model_bb_trend.w_test, model_bb_trend.pred, model_bb_trend.prob, plot_roc=True\n",
    "    )"
   ]
  },
  {
   "cell_type": "code",
   "execution_count": 100,
   "id": "3ee79980",
   "metadata": {},
   "outputs": [
    {
     "name": "stdout",
     "output_type": "stream",
     "text": [
      "Trend-Scanning Mean-Reversion Meta-Model Results:\n",
      "\n",
      "Primary-Model on Validation Set:\n",
      "              precision    recall  f1-score   support\n",
      "\n",
      "           0       0.00      0.00      0.00      2688\n",
      "           1       0.08      1.00      0.14       221\n",
      "\n",
      "    accuracy                           0.08      2909\n",
      "   macro avg       0.04      0.50      0.07      2909\n",
      "weighted avg       0.01      0.08      0.01      2909\n",
      "\n",
      "\n",
      "Confusion Matrix:\n",
      "[[   0 2688]\n",
      " [   0  221]]\n",
      "\n",
      "Meta-Model on Validation Set:\n",
      "              precision    recall  f1-score   support\n",
      "\n",
      "           0       0.99      0.91      0.95      2688\n",
      "           1       0.47      0.94      0.63       221\n",
      "\n",
      "    accuracy                           0.92      2909\n",
      "   macro avg       0.73      0.93      0.79      2909\n",
      "weighted avg       0.95      0.92      0.93      2909\n",
      "\n",
      "\n",
      "Confusion Matrix:\n",
      "[[2457  231]\n",
      " [  14  207]]\n"
     ]
    },
    {
     "data": {
      "image/png": "[encoded data removed]",
      "text/plain": [
       "<Figure size 750x500 with 1 Axes>"
      ]
     },
     "metadata": {},
     "output_type": "display_data"
    }
   ],
   "source": [
    "model_bb_trend_mr = train_meta_model(model=rf, features=bb_feat.reindex(bb_events_trend_mr.index), labels=bb_events_trend_mr)\n",
    "print(\"Trend-Scanning Mean-Reversion Meta-Model Results:\\n\")\n",
    "meta_labelling_reports(\n",
    "    model_bb_trend_mr.y_test, model_bb_trend_mr.w_test, model_bb_trend_mr.pred, model_bb_trend_mr.prob, plot_roc=True\n",
    "    )"
   ]
  },
  {
   "cell_type": "code",
   "execution_count": null,
   "id": "551e2d6c",
   "metadata": {},
   "outputs": [
    {
     "data": {
      "image/png": "[encoded data removed]",
      "text/plain": [
       "<Figure size 750x500 with 4 Axes>"
      ]
     },
     "metadata": {},
     "output_type": "display_data"
    }
   ],
   "source": [
    "titles = [\"Fixed-Time Horizon\", \"Triple Barrier\", \"Trend-Scanning\", \"Trend-Scanning Mean-Reversion\"]\n",
    "bb_models = [model_bb_fh, model_bb_tbl, model_bb_trend, model_bb_trend_mr]\n",
    "bb_roc = compare_roc_curves(bb_models, titles)\n",
    "bb_roc.savefig(\"reports/bollinger_roc_comparison.png\")"
   ]
  },
  {
   "cell_type": "code",
   "execution_count": null,
   "id": "a5662f90",
   "metadata": {},
   "outputs": [
    {
     "name": "stdout",
     "output_type": "stream",
     "text": [
      "Classification Report (as text):\n",
      "              precision    recall  f1-score   support\n",
      "\n",
      "           0       0.00      0.00      0.00      1146\n",
      "           1       0.51      1.00      0.68      1201\n",
      "\n",
      "    accuracy                           0.51      2347\n",
      "   macro avg       0.26      0.50      0.34      2347\n",
      "weighted avg       0.26      0.51      0.35      2347\n",
      "\n",
      "\n",
      "Confusion Matrix:\n",
      "[[   0 1146]\n",
      " [   0 1201]]\n",
      "\n",
      "Accuracy:\n",
      "0.5117170856412442\n",
      "\n",
      "Successfully generated and saved 'fixed_time_primary_clf_report.png'\n",
      "Classification Report (as text):\n",
      "              precision    recall  f1-score   support\n",
      "\n",
      "           0       0.48      0.59      0.53      1146\n",
      "           1       0.49      0.38      0.43      1201\n",
      "\n",
      "    accuracy                           0.48      2347\n",
      "   macro avg       0.48      0.49      0.48      2347\n",
      "weighted avg       0.49      0.48      0.48      2347\n",
      "\n",
      "\n",
      "Confusion Matrix:\n",
      "[[677 469]\n",
      " [744 457]]\n",
      "\n",
      "Accuracy:\n",
      "0.4831700042607584\n",
      "\n",
      "Successfully generated and saved 'fixed_time_meta_clf_report.png'\n",
      "Classification reports saved.\n",
      "\n",
      "Classification Report (as text):\n",
      "              precision    recall  f1-score   support\n",
      "\n",
      "           0       0.00      0.00      0.00      1146\n",
      "           1       0.51      1.00      0.68      1201\n",
      "\n",
      "    accuracy                           0.51      2347\n",
      "   macro avg       0.26      0.50      0.34      2347\n",
      "weighted avg       0.26      0.51      0.35      2347\n",
      "\n",
      "\n",
      "Confusion Matrix:\n",
      "[[   0 1146]\n",
      " [   0 1201]]\n",
      "\n",
      "Accuracy:\n",
      "0.5117170856412442\n",
      "\n",
      "Successfully generated and saved 'triple_barrier_primary_clf_report.png'\n",
      "Classification Report (as text):\n",
      "              precision    recall  f1-score   support\n",
      "\n",
      "           0       0.48      0.59      0.53      1146\n",
      "           1       0.49      0.38      0.43      1201\n",
      "\n",
      "    accuracy                           0.48      2347\n",
      "   macro avg       0.48      0.49      0.48      2347\n",
      "weighted avg       0.49      0.48      0.48      2347\n",
      "\n",
      "\n",
      "Confusion Matrix:\n",
      "[[677 469]\n",
      " [744 457]]\n",
      "\n",
      "Accuracy:\n",
      "0.4831700042607584\n",
      "\n",
      "Successfully generated and saved 'triple_barrier_meta_clf_report.png'\n",
      "Classification reports saved.\n",
      "\n",
      "Classification Report (as text):\n",
      "              precision    recall  f1-score   support\n",
      "\n",
      "           0       0.00      0.00      0.00      1146\n",
      "           1       0.51      1.00      0.68      1201\n",
      "\n",
      "    accuracy                           0.51      2347\n",
      "   macro avg       0.26      0.50      0.34      2347\n",
      "weighted avg       0.26      0.51      0.35      2347\n",
      "\n",
      "\n",
      "Confusion Matrix:\n",
      "[[   0 1146]\n",
      " [   0 1201]]\n",
      "\n",
      "Accuracy:\n",
      "0.5117170856412442\n",
      "\n",
      "Successfully generated and saved 'trend_scanning_primary_clf_report.png'\n",
      "Classification Report (as text):\n",
      "              precision    recall  f1-score   support\n",
      "\n",
      "           0       0.48      0.59      0.53      1146\n",
      "           1       0.49      0.38      0.43      1201\n",
      "\n",
      "    accuracy                           0.48      2347\n",
      "   macro avg       0.48      0.49      0.48      2347\n",
      "weighted avg       0.49      0.48      0.48      2347\n",
      "\n",
      "\n",
      "Confusion Matrix:\n",
      "[[677 469]\n",
      " [744 457]]\n",
      "\n",
      "Accuracy:\n",
      "0.4831700042607584\n",
      "\n",
      "Successfully generated and saved 'trend_scanning_meta_clf_report.png'\n",
      "Classification reports saved.\n",
      "\n",
      "Classification Report (as text):\n",
      "              precision    recall  f1-score   support\n",
      "\n",
      "           0       0.00      0.00      0.00      1146\n",
      "           1       0.51      1.00      0.68      1201\n",
      "\n",
      "    accuracy                           0.51      2347\n",
      "   macro avg       0.26      0.50      0.34      2347\n",
      "weighted avg       0.26      0.51      0.35      2347\n",
      "\n",
      "\n",
      "Confusion Matrix:\n",
      "[[   0 1146]\n",
      " [   0 1201]]\n",
      "\n",
      "Accuracy:\n",
      "0.5117170856412442\n",
      "\n",
      "Successfully generated and saved 'trend_scanning_mr_primary_clf_report.png'\n",
      "Classification Report (as text):\n",
      "              precision    recall  f1-score   support\n",
      "\n",
      "           0       0.48      0.59      0.53      1146\n",
      "           1       0.49      0.38      0.43      1201\n",
      "\n",
      "    accuracy                           0.48      2347\n",
      "   macro avg       0.48      0.49      0.48      2347\n",
      "weighted avg       0.49      0.48      0.48      2347\n",
      "\n",
      "\n",
      "Confusion Matrix:\n",
      "[[677 469]\n",
      " [744 457]]\n",
      "\n",
      "Accuracy:\n",
      "0.4831700042607584\n",
      "\n",
      "Successfully generated and saved 'trend_scanning_mr_meta_clf_report.png'\n",
      "Classification reports saved.\n",
      "\n"
     ]
    }
   ],
   "source": [
    "meta_labelling_classification_reports(model_data=model_bb_fh, title=\"Fixed-Time Horizon\", output_filename=\"bb_fixed_time\")\n",
    "meta_labelling_classification_reports(model_data=model_bb_fh, title=\"Triple Barrier\", output_filename=\"bb_triple_barrier\")\n",
    "meta_labelling_classification_reports(model_data=model_bb_fh, title=\"Trend-Scanning\", output_filename=\"bb_trend_scanning\")\n",
    "meta_labelling_classification_reports(model_data=model_bb_fh, title=\"Trend-Scanning (Mean-Reversion)\", output_filename=\"bb_trend_scanning_mr\")"
   ]
  },
  {
   "cell_type": "markdown",
   "id": "36ec20ef",
   "metadata": {},
   "source": [
    "## 3. Moving Average Crossover Strategy"
   ]
  },
  {
   "cell_type": "code",
   "execution_count": null,
   "id": "7f163b16",
   "metadata": {},
   "outputs": [
    {
     "name": "stdout",
     "output_type": "stream",
     "text": [
      "Loaded EURUSD_M30_tick-1000_2018-01-01-2024-12-31.parq\n",
      "Loaded EURUSD_M30_time_2018-01-01-2024-12-31.parq\n",
      "\u001b[32m2025-08-30 06:06:25.017\u001b[0m | \u001b[1mINFO    \u001b[0m | \u001b[36mafml.strategies.genetic_optimizer\u001b[0m:\u001b[36m__init__\u001b[0m:\u001b[36m147\u001b[0m - \u001b[1mGenerating primary signals...\u001b[0m\n",
      "\u001b[32m2025-08-30 06:06:25.081\u001b[0m | \u001b[1mINFO    \u001b[0m | \u001b[36mafml.strategies.strategies\u001b[0m:\u001b[36mget_entries\u001b[0m:\u001b[36m76\u001b[0m - \u001b[1mGenerated 5,988 trade events generated by CUSUM filter.\u001b[0m\n"
     ]
    }
   ],
   "source": [
    "timeframe = \"M30\"\n",
    "tick_bar_size = tick_bar_dict[timeframe]\n",
    "ma_time_bars, ma_tick_bars = get_data(symbol, timeframe)\n",
    "bar_size = f\"tick-{ma_tick_bars.tick_volume.iloc[0]}\"\n",
    "ma_df = ma_time_bars.loc[sample_start : sample_end]\n",
    "ma_df0 = ma_tick_bars.loc[sample_start : sample_end]\n",
    "\n",
    "fast_window, slow_window = 20, 50\n",
    "ma_strategy = MovingAverageCrossoverStrategy(fast_window, slow_window)\n",
    "target_vol_params = dict(days=1, lookback=100)\n",
    "vol_multiplier = 0.5\n",
    "pt_barrier, sl_barrier, time_horizon = (3, 1, 200)\n",
    "tb_evaluator = TripleBarrierEvaluator(\n",
    "    ma_strategy, ma_df, target_vol_params,\n",
    "    target_vol_multiplier=vol_multiplier,\n",
    "    filter_events=True,\n",
    "    vertical_barrier_zero=False,\n",
    "    )"
   ]
  },
  {
   "cell_type": "markdown",
   "id": "de5f7545",
   "metadata": {},
   "source": [
    "### Feature Engineering"
   ]
  },
  {
   "cell_type": "code",
   "execution_count": 177,
   "id": "9804e688",
   "metadata": {},
   "outputs": [
    {
     "name": "stdout",
     "output_type": "stream",
     "text": [
      "Memory usage reduced from 5.71 MB to 3.83 MB (32.9% reduction)\n",
      "<class 'pandas.core.frame.DataFrame'>\n",
      "DatetimeIndex: 49280 entries, 2018-01-01 23:30:00 to 2021-12-31 23:00:00\n",
      "Data columns (total 83 columns):\n",
      " #   Column                          Non-Null Count  Dtype  \n",
      "---  ------                          --------------  -----  \n",
      " 0   ma_10                           49280 non-null  float64\n",
      " 1   ma_20                           49280 non-null  float64\n",
      " 2   ma_50                           49280 non-null  float64\n",
      " 3   ma_100                          49280 non-null  float64\n",
      " 4   ma_200                          49280 non-null  float64\n",
      " 5   ma_10_20_cross                  49280 non-null  int32  \n",
      " 6   ma_20_50_cross                  49280 non-null  int32  \n",
      " 7   ma_50_200_cross                 49280 non-null  int32  \n",
      " 8   ma_spread_10_20                 49280 non-null  float64\n",
      " 9   ma_spread_20_50                 49280 non-null  float64\n",
      " 10  ma_spread_50_200                49280 non-null  float64\n",
      " 11  ma_20_slope                     49280 non-null  float64\n",
      " 12  ma_50_slope                     49280 non-null  float64\n",
      " 13  price_above_ma_20               49280 non-null  int32  \n",
      " 14  price_above_ma_50               49280 non-null  int32  \n",
      " 15  ma_ribbon_aligned               49280 non-null  int32  \n",
      " 16  atr_14                          49280 non-null  float64\n",
      " 17  atr_21                          49280 non-null  float64\n",
      " 18  atr_regime                      49280 non-null  float64\n",
      " 19  realized_vol_10                 49280 non-null  float64\n",
      " 20  realized_vol_20                 49280 non-null  float64\n",
      " 21  vol_of_vol                      49280 non-null  float64\n",
      " 22  hl_range                        49280 non-null  float32\n",
      " 23  hl_range_ma                     49280 non-null  float64\n",
      " 24  hl_range_regime                 49280 non-null  float64\n",
      " 25  bb_upper                        49280 non-null  float64\n",
      " 26  bb_lower                        49280 non-null  float64\n",
      " 27  bb_percent                      49280 non-null  float64\n",
      " 28  bb_bandwidth                    49280 non-null  float64\n",
      " 29  bb_squeeze                      49280 non-null  float64\n",
      " 30  adx                             49280 non-null  float32\n",
      " 31  plus_di                         49280 non-null  float32\n",
      " 32  minus_di                        49280 non-null  float32\n",
      " 33  efficiency_ratio_14             49280 non-null  float32\n",
      " 34  efficiency_ratio_30             49280 non-null  float32\n",
      " 35  lr_slope                        49280 non-null  float32\n",
      " 36  lr_rsquared                     49280 non-null  float32\n",
      " 37  lr_t_value                      49280 non-null  float32\n",
      " 38  roc_10                          49280 non-null  float32\n",
      " 39  roc_20                          49280 non-null  float32\n",
      " 40  momentum_14                     49280 non-null  float32\n",
      " 41  hh_ll_20                        49280 non-null  float32\n",
      " 42  trend_persistence               49280 non-null  float32\n",
      " 43  asian_session                   49280 non-null  int32  \n",
      " 44  london_session                  49280 non-null  int32  \n",
      " 45  ny_session                      49280 non-null  int32  \n",
      " 46  session_overlap                 49280 non-null  int32  \n",
      " 47  asian_session_vol               49280 non-null  float64\n",
      " 48  london_session_vol              49280 non-null  float64\n",
      " 49  ny_session_vol                  49280 non-null  float64\n",
      " 50  session_vol_ratio               49280 non-null  float64\n",
      " 51  return_skew_20                  49280 non-null  float64\n",
      " 52  return_kurtosis_20              49280 non-null  float64\n",
      " 53  var_95                          49280 non-null  float64\n",
      " 54  cvar_95                         49280 non-null  float64\n",
      " 55  market_stress                   49280 non-null  int32  \n",
      " 56  current_drawdown                49280 non-null  float64\n",
      " 57  days_since_high                 49280 non-null  int32  \n",
      " 58  hour                            49280 non-null  int32  \n",
      " 59  day_of_week                     49280 non-null  int32  \n",
      " 60  day_of_month                    49280 non-null  int32  \n",
      " 61  month                           49280 non-null  int32  \n",
      " 62  hour_sin                        49280 non-null  float64\n",
      " 63  hour_cos                        49280 non-null  float64\n",
      " 64  day_sin                         49280 non-null  float64\n",
      " 65  day_cos                         49280 non-null  float64\n",
      " 66  friday_ny_close                 49280 non-null  int32  \n",
      " 67  sunday_open                     49280 non-null  int32  \n",
      " 68  month_end                       49280 non-null  int32  \n",
      " 69  quarter_end                     49280 non-null  int32  \n",
      " 70  doji                            49280 non-null  int32  \n",
      " 71  hammer                          49280 non-null  int32  \n",
      " 72  inside_bar                      49280 non-null  int32  \n",
      " 73  outside_bar                     49280 non-null  int32  \n",
      " 74  near_recent_high                49280 non-null  int32  \n",
      " 75  near_recent_low                 49280 non-null  int32  \n",
      " 76  fractal_trend_confirmation      49280 non-null  int32  \n",
      " 77  distance_to_fractal_resistance  49280 non-null  float64\n",
      " 78  distance_to_fractal_support     49280 non-null  float64\n",
      " 79  fractal_trend_confirmation      49280 non-null  int32  \n",
      " 80  distance_to_fractal_resistance  49280 non-null  float64\n",
      " 81  distance_to_fractal_support     49280 non-null  float64\n",
      " 82  side                            49280 non-null  int8   \n",
      "dtypes: float32(14), float64(40), int32(28), int8(1)\n",
      "memory usage: 24.4 MB\n"
     ]
    }
   ],
   "source": [
    "from afml.strategies.ma_crossover_feature_engine import ForexFeatureEngine\n",
    "\n",
    "# ma_feat = create_bollinger_features(ma_df, lookback_window=fast_window, bb_period=20, bb_std=2)\n",
    "# trend_feat = get_bins_from_trend(ma_df.close, span=(5, time_horizon), volatility_threshold=0.1, lookforward=False)\n",
    "# trend_feat_cols = ['window', 't_value', 'rsquared']\n",
    "# trend_feat.rename(columns={k: f\"trend_{k}\" for k in trend_feat_cols}, inplace=True)\n",
    "# ma_feat = ma_feat.join(trend_feat[[f\"trend_{k}\" for k in trend_feat_cols]])\n",
    "\n",
    "feat_engine = ForexFeatureEngine(pair_name=symbol)\n",
    "ma_feat = feat_engine.calculate_all_features(ma_df)\n",
    "\n",
    "ma_feat[\"side\"] = ma_strategy.generate_signals(ma_df)\n",
    "ma_feat.info()"
   ]
  },
  {
   "cell_type": "markdown",
   "id": "a64829d0",
   "metadata": {},
   "source": [
    "### Fixed-Time Horizon Method"
   ]
  },
  {
   "cell_type": "code",
   "execution_count": 178,
   "id": "d2f03181",
   "metadata": {},
   "outputs": [
    {
     "data": {
      "application/vnd.microsoft.datawrangler.viewer.v0+json": {
       "columns": [
        {
         "name": "index",
         "rawType": "object",
         "type": "string"
        },
        {
         "name": "trade_metrics",
         "rawType": "object",
         "type": "unknown"
        }
       ],
       "ref": "72fb4379-e93b-4c6e-ba28-52277ff6e98d",
       "rows": [
        [
         "total_return",
         "0.8989582061767578"
        ],
        [
         "annualized_return",
         "0.1742812348899585"
        ],
        [
         "volatility",
         "1.1021495718518448"
        ],
        [
         "downside_volatility",
         "0.720549035342409"
        ],
        [
         "sharpe_ratio",
         "1.753297971279017"
        ],
        [
         "sortino_ratio",
         "2.68183914430694"
        ],
        [
         "var_95",
         "-0.015042436122894288"
        ],
        [
         "cvar_95",
         "-0.021588562"
        ],
        [
         "skewness",
         "0.005452997208068374"
        ],
        [
         "kurtosis",
         "2.034684418049448"
        ],
        [
         "probabilistic_sharpe_ratio",
         "0.8887047989635111"
        ],
        [
         "pos_concentration",
         "0.00026523007526472943"
        ],
        [
         "neg_concentration",
         "0.0002620107947689109"
        ],
        [
         "time_concentration",
         "0.003804640395530139"
        ],
        [
         "max_drawdown",
         "0.6301011700710774"
        ],
        [
         "avg_drawdown",
         "0.3107865109909642"
        ],
        [
         "drawdown_duration",
         "111 days 21:30:00"
        ],
        [
         "ulcer_index",
         "0.38829426381998505"
        ],
        [
         "calmar_ratio",
         "0.2765924635091521"
        ],
        [
         "num_trades",
         "5965"
        ],
        [
         "trades_per_year",
         "1493"
        ],
        [
         "win_rate",
         "0.509639564124057"
        ],
        [
         "avg_win",
         "0.0074412115"
        ],
        [
         "avg_loss",
         "-0.007416561"
        ],
        [
         "best_trade",
         "0.04209315776824951"
        ],
        [
         "worst_trade",
         "-0.046008944511413574"
        ],
        [
         "profit_factor",
         "1.0431273"
        ],
        [
         "expectancy",
         "0.00015554780434045776"
        ],
        [
         "kelly_criterion",
         "0.02090358567313233"
        ],
        [
         "consecutive_wins",
         "45"
        ],
        [
         "consecutive_losses",
         "43"
        ],
        [
         "avg_trade_duration",
         "5 days 21:59:06"
        ],
        [
         "ratio_of_longs",
         "0.5032690695725063"
        ]
       ],
       "shape": {
        "columns": 1,
        "rows": 33
       }
      },
      "text/plain": [
       "total_return                           0.898958\n",
       "annualized_return                      0.174281\n",
       "volatility                              1.10215\n",
       "downside_volatility                    0.720549\n",
       "sharpe_ratio                           1.753298\n",
       "sortino_ratio                          2.681839\n",
       "var_95                                -0.015042\n",
       "cvar_95                               -0.021589\n",
       "skewness                               0.005453\n",
       "kurtosis                               2.034684\n",
       "probabilistic_sharpe_ratio             0.888705\n",
       "pos_concentration                      0.000265\n",
       "neg_concentration                      0.000262\n",
       "time_concentration                     0.003805\n",
       "max_drawdown                           0.630101\n",
       "avg_drawdown                           0.310787\n",
       "drawdown_duration             111 days 21:30:00\n",
       "ulcer_index                            0.388294\n",
       "calmar_ratio                           0.276592\n",
       "num_trades                                 5965\n",
       "trades_per_year                            1493\n",
       "win_rate                                0.50964\n",
       "avg_win                                0.007441\n",
       "avg_loss                              -0.007417\n",
       "best_trade                             0.042093\n",
       "worst_trade                           -0.046009\n",
       "profit_factor                          1.043127\n",
       "expectancy                             0.000156\n",
       "kelly_criterion                        0.020904\n",
       "consecutive_wins                             45\n",
       "consecutive_losses                           43\n",
       "avg_trade_duration              5 days 21:59:06\n",
       "ratio_of_longs                         0.503269\n",
       "Name: trade_metrics, dtype: object"
      ]
     },
     "execution_count": 178,
     "metadata": {},
     "output_type": "execute_result"
    }
   ],
   "source": [
    "ma_events_fh = tb_evaluator.evaluate_performance(0, 0, time_horizon)\n",
    "ma_events_fh_metrics = tb_evaluator.calculate_strategy_metrics(ma_events_fh)\n",
    "ma_events_fh_metrics"
   ]
  },
  {
   "cell_type": "markdown",
   "id": "b863eb59",
   "metadata": {},
   "source": [
    "### Triple-Barrier Method"
   ]
  },
  {
   "cell_type": "code",
   "execution_count": 179,
   "id": "1b77596f",
   "metadata": {},
   "outputs": [
    {
     "data": {
      "application/vnd.microsoft.datawrangler.viewer.v0+json": {
       "columns": [
        {
         "name": "index",
         "rawType": "object",
         "type": "string"
        },
        {
         "name": "trade_metrics",
         "rawType": "object",
         "type": "unknown"
        }
       ],
       "ref": "e1079c32-899f-4aaf-9a6d-36b2a04ec978",
       "rows": [
        [
         "total_return",
         "1.198094367980957"
        ],
        [
         "annualized_return",
         "0.21811287383507838"
        ],
        [
         "volatility",
         "0.4176090365024759"
        ],
        [
         "downside_volatility",
         "0.11214143655505873"
        ],
        [
         "sharpe_ratio",
         "4.091394156639698"
        ],
        [
         "sortino_ratio",
         "15.236144855940749"
        ],
        [
         "var_95",
         "-0.0037324726581573486"
        ],
        [
         "cvar_95",
         "-0.004668298"
        ],
        [
         "skewness",
         "1.1911284179368962"
        ],
        [
         "kurtosis",
         "0.7800378406623891"
        ],
        [
         "probabilistic_sharpe_ratio",
         "0.9982269958760231"
        ],
        [
         "pos_concentration",
         "0.00012173989116460283"
        ],
        [
         "neg_concentration",
         "5.589320865039645e-05"
        ],
        [
         "time_concentration",
         "0.0037756107812067946"
        ],
        [
         "max_drawdown",
         "0.3046033781150608"
        ],
        [
         "avg_drawdown",
         "0.035849114385843026"
        ],
        [
         "drawdown_duration",
         "22 days 10:25:51"
        ],
        [
         "ulcer_index",
         "0.07108746300601061"
        ],
        [
         "calmar_ratio",
         "0.7160553345954308"
        ],
        [
         "num_trades",
         "5986"
        ],
        [
         "trades_per_year",
         "1498"
        ],
        [
         "win_rate",
         "0.29986635482793184"
        ],
        [
         "avg_win",
         "0.005335869"
        ],
        [
         "avg_loss",
         "-0.0020873365"
        ],
        [
         "best_trade",
         "0.016232728958129883"
        ],
        [
         "worst_trade",
         "-0.009121596813201904"
        ],
        [
         "profit_factor",
         "1.0948623"
        ],
        [
         "expectancy",
         "0.00013863301555592806"
        ],
        [
         "kelly_criterion",
         "0.025981327847709457"
        ],
        [
         "consecutive_wins",
         "20"
        ],
        [
         "consecutive_losses",
         "45"
        ],
        [
         "avg_trade_duration",
         "0 days 21:43:05"
        ],
        [
         "ratio_of_longs",
         "0.5028399599064484"
        ]
       ],
       "shape": {
        "columns": 1,
        "rows": 33
       }
      },
      "text/plain": [
       "total_return                          1.198094\n",
       "annualized_return                     0.218113\n",
       "volatility                            0.417609\n",
       "downside_volatility                   0.112141\n",
       "sharpe_ratio                          4.091394\n",
       "sortino_ratio                        15.236145\n",
       "var_95                               -0.003732\n",
       "cvar_95                              -0.004668\n",
       "skewness                              1.191128\n",
       "kurtosis                              0.780038\n",
       "probabilistic_sharpe_ratio            0.998227\n",
       "pos_concentration                     0.000122\n",
       "neg_concentration                     0.000056\n",
       "time_concentration                    0.003776\n",
       "max_drawdown                          0.304603\n",
       "avg_drawdown                          0.035849\n",
       "drawdown_duration             22 days 10:25:51\n",
       "ulcer_index                           0.071087\n",
       "calmar_ratio                          0.716055\n",
       "num_trades                                5986\n",
       "trades_per_year                           1498\n",
       "win_rate                              0.299866\n",
       "avg_win                               0.005336\n",
       "avg_loss                             -0.002087\n",
       "best_trade                            0.016233\n",
       "worst_trade                          -0.009122\n",
       "profit_factor                         1.094862\n",
       "expectancy                            0.000139\n",
       "kelly_criterion                       0.025981\n",
       "consecutive_wins                            20\n",
       "consecutive_losses                          45\n",
       "avg_trade_duration             0 days 21:43:05\n",
       "ratio_of_longs                         0.50284\n",
       "Name: trade_metrics, dtype: object"
      ]
     },
     "execution_count": 179,
     "metadata": {},
     "output_type": "execute_result"
    }
   ],
   "source": [
    "ma_events_tbl = tb_evaluator.evaluate_performance(pt_barrier, sl_barrier, time_horizon)\n",
    "ma_events_tbl_metrics = tb_evaluator.calculate_strategy_metrics(ma_events_tbl)\n",
    "ma_events_tbl_metrics"
   ]
  },
  {
   "cell_type": "code",
   "execution_count": 180,
   "id": "d65ee408",
   "metadata": {},
   "outputs": [
    {
     "name": "stdout",
     "output_type": "stream",
     "text": [
      "MACrossover_fast20_slow50: \n",
      "\n"
     ]
    },
    {
     "data": {
      "application/vnd.microsoft.datawrangler.viewer.v0+json": {
       "columns": [
        {
         "name": "index",
         "rawType": "object",
         "type": "string"
        },
        {
         "name": "fixed_horizon",
         "rawType": "object",
         "type": "unknown"
        },
        {
         "name": "triple_barrier",
         "rawType": "object",
         "type": "unknown"
        }
       ],
       "ref": "747e8cf7-5dac-498d-ba3e-29d078dbea8c",
       "rows": [
        [
         "total_return",
         "0.8989582061767578",
         "1.198094367980957"
        ],
        [
         "annualized_return",
         "0.1742812348899585",
         "0.21811287383507838"
        ],
        [
         "volatility",
         "1.1021495718518448",
         "0.4176090365024759"
        ],
        [
         "downside_volatility",
         "0.720549035342409",
         "0.11214143655505873"
        ],
        [
         "sharpe_ratio",
         "1.753297971279017",
         "4.091394156639698"
        ],
        [
         "sortino_ratio",
         "2.68183914430694",
         "15.236144855940749"
        ],
        [
         "var_95",
         "-0.015042436122894288",
         "-0.0037324726581573486"
        ],
        [
         "cvar_95",
         "-0.021588562",
         "-0.004668298"
        ],
        [
         "skewness",
         "0.005452997208068374",
         "1.1911284179368962"
        ],
        [
         "kurtosis",
         "2.034684418049448",
         "0.7800378406623891"
        ],
        [
         "probabilistic_sharpe_ratio",
         "0.8887047989635111",
         "0.9982269958760231"
        ],
        [
         "pos_concentration",
         "0.00026523007526472943",
         "0.00012173989116460283"
        ],
        [
         "neg_concentration",
         "0.0002620107947689109",
         "5.589320865039645e-05"
        ],
        [
         "time_concentration",
         "0.003804640395530139",
         "0.0037756107812067946"
        ],
        [
         "max_drawdown",
         "0.6301011700710774",
         "0.3046033781150608"
        ],
        [
         "avg_drawdown",
         "0.3107865109909642",
         "0.035849114385843026"
        ],
        [
         "drawdown_duration",
         "111 days 21:30:00",
         "22 days 10:25:51"
        ],
        [
         "ulcer_index",
         "0.38829426381998505",
         "0.07108746300601061"
        ],
        [
         "calmar_ratio",
         "0.2765924635091521",
         "0.7160553345954308"
        ],
        [
         "num_trades",
         "5965",
         "5986"
        ],
        [
         "trades_per_year",
         "1493",
         "1498"
        ],
        [
         "win_rate",
         "0.509639564124057",
         "0.29986635482793184"
        ],
        [
         "avg_win",
         "0.0074412115",
         "0.005335869"
        ],
        [
         "avg_loss",
         "-0.007416561",
         "-0.0020873365"
        ],
        [
         "best_trade",
         "0.04209315776824951",
         "0.016232728958129883"
        ],
        [
         "worst_trade",
         "-0.046008944511413574",
         "-0.009121596813201904"
        ],
        [
         "profit_factor",
         "1.0431273",
         "1.0948623"
        ],
        [
         "expectancy",
         "0.00015554780434045776",
         "0.00013863301555592806"
        ],
        [
         "kelly_criterion",
         "0.02090358567313233",
         "0.025981327847709457"
        ],
        [
         "consecutive_wins",
         "45",
         "20"
        ],
        [
         "consecutive_losses",
         "43",
         "45"
        ],
        [
         "avg_trade_duration",
         "5 days 21:59:06",
         "0 days 21:43:05"
        ],
        [
         "ratio_of_longs",
         "0.5032690695725063",
         "0.5028399599064484"
        ]
       ],
       "shape": {
        "columns": 2,
        "rows": 33
       }
      },
      "text/html": [
       "<div>\n",
       "<style scoped>\n",
       "    .dataframe tbody tr th:only-of-type {\n",
       "        vertical-align: middle;\n",
       "    }\n",
       "\n",
       "    .dataframe tbody tr th {\n",
       "        vertical-align: top;\n",
       "    }\n",
       "\n",
       "    .dataframe thead th {\n",
       "        text-align: right;\n",
       "    }\n",
       "</style>\n",
       "<table border=\"1\" class=\"dataframe\">\n",
       "  <thead>\n",
       "    <tr style=\"text-align: right;\">\n",
       "      <th></th>\n",
       "      <th>fixed_horizon</th>\n",
       "      <th>triple_barrier</th>\n",
       "    </tr>\n",
       "  </thead>\n",
       "  <tbody>\n",
       "    <tr>\n",
       "      <th>total_return</th>\n",
       "      <td>0.898958</td>\n",
       "      <td>1.198094</td>\n",
       "    </tr>\n",
       "    <tr>\n",
       "      <th>annualized_return</th>\n",
       "      <td>0.174281</td>\n",
       "      <td>0.218113</td>\n",
       "    </tr>\n",
       "    <tr>\n",
       "      <th>volatility</th>\n",
       "      <td>1.10215</td>\n",
       "      <td>0.417609</td>\n",
       "    </tr>\n",
       "    <tr>\n",
       "      <th>downside_volatility</th>\n",
       "      <td>0.720549</td>\n",
       "      <td>0.112141</td>\n",
       "    </tr>\n",
       "    <tr>\n",
       "      <th>sharpe_ratio</th>\n",
       "      <td>1.753298</td>\n",
       "      <td>4.091394</td>\n",
       "    </tr>\n",
       "    <tr>\n",
       "      <th>sortino_ratio</th>\n",
       "      <td>2.681839</td>\n",
       "      <td>15.236145</td>\n",
       "    </tr>\n",
       "    <tr>\n",
       "      <th>var_95</th>\n",
       "      <td>-0.015042</td>\n",
       "      <td>-0.003732</td>\n",
       "    </tr>\n",
       "    <tr>\n",
       "      <th>cvar_95</th>\n",
       "      <td>-0.021589</td>\n",
       "      <td>-0.004668</td>\n",
       "    </tr>\n",
       "    <tr>\n",
       "      <th>skewness</th>\n",
       "      <td>0.005453</td>\n",
       "      <td>1.191128</td>\n",
       "    </tr>\n",
       "    <tr>\n",
       "      <th>kurtosis</th>\n",
       "      <td>2.034684</td>\n",
       "      <td>0.780038</td>\n",
       "    </tr>\n",
       "    <tr>\n",
       "      <th>probabilistic_sharpe_ratio</th>\n",
       "      <td>0.888705</td>\n",
       "      <td>0.998227</td>\n",
       "    </tr>\n",
       "    <tr>\n",
       "      <th>pos_concentration</th>\n",
       "      <td>0.000265</td>\n",
       "      <td>0.000122</td>\n",
       "    </tr>\n",
       "    <tr>\n",
       "      <th>neg_concentration</th>\n",
       "      <td>0.000262</td>\n",
       "      <td>0.000056</td>\n",
       "    </tr>\n",
       "    <tr>\n",
       "      <th>time_concentration</th>\n",
       "      <td>0.003805</td>\n",
       "      <td>0.003776</td>\n",
       "    </tr>\n",
       "    <tr>\n",
       "      <th>max_drawdown</th>\n",
       "      <td>0.630101</td>\n",
       "      <td>0.304603</td>\n",
       "    </tr>\n",
       "    <tr>\n",
       "      <th>avg_drawdown</th>\n",
       "      <td>0.310787</td>\n",
       "      <td>0.035849</td>\n",
       "    </tr>\n",
       "    <tr>\n",
       "      <th>drawdown_duration</th>\n",
       "      <td>111 days 21:30:00</td>\n",
       "      <td>22 days 10:25:51</td>\n",
       "    </tr>\n",
       "    <tr>\n",
       "      <th>ulcer_index</th>\n",
       "      <td>0.388294</td>\n",
       "      <td>0.071087</td>\n",
       "    </tr>\n",
       "    <tr>\n",
       "      <th>calmar_ratio</th>\n",
       "      <td>0.276592</td>\n",
       "      <td>0.716055</td>\n",
       "    </tr>\n",
       "    <tr>\n",
       "      <th>num_trades</th>\n",
       "      <td>5965</td>\n",
       "      <td>5986</td>\n",
       "    </tr>\n",
       "    <tr>\n",
       "      <th>trades_per_year</th>\n",
       "      <td>1493</td>\n",
       "      <td>1498</td>\n",
       "    </tr>\n",
       "    <tr>\n",
       "      <th>win_rate</th>\n",
       "      <td>0.50964</td>\n",
       "      <td>0.299866</td>\n",
       "    </tr>\n",
       "    <tr>\n",
       "      <th>avg_win</th>\n",
       "      <td>0.007441</td>\n",
       "      <td>0.005336</td>\n",
       "    </tr>\n",
       "    <tr>\n",
       "      <th>avg_loss</th>\n",
       "      <td>-0.007417</td>\n",
       "      <td>-0.002087</td>\n",
       "    </tr>\n",
       "    <tr>\n",
       "      <th>best_trade</th>\n",
       "      <td>0.042093</td>\n",
       "      <td>0.016233</td>\n",
       "    </tr>\n",
       "    <tr>\n",
       "      <th>worst_trade</th>\n",
       "      <td>-0.046009</td>\n",
       "      <td>-0.009122</td>\n",
       "    </tr>\n",
       "    <tr>\n",
       "      <th>profit_factor</th>\n",
       "      <td>1.043127</td>\n",
       "      <td>1.094862</td>\n",
       "    </tr>\n",
       "    <tr>\n",
       "      <th>expectancy</th>\n",
       "      <td>0.000156</td>\n",
       "      <td>0.000139</td>\n",
       "    </tr>\n",
       "    <tr>\n",
       "      <th>kelly_criterion</th>\n",
       "      <td>0.020904</td>\n",
       "      <td>0.025981</td>\n",
       "    </tr>\n",
       "    <tr>\n",
       "      <th>consecutive_wins</th>\n",
       "      <td>45</td>\n",
       "      <td>20</td>\n",
       "    </tr>\n",
       "    <tr>\n",
       "      <th>consecutive_losses</th>\n",
       "      <td>43</td>\n",
       "      <td>45</td>\n",
       "    </tr>\n",
       "    <tr>\n",
       "      <th>avg_trade_duration</th>\n",
       "      <td>5 days 21:59:06</td>\n",
       "      <td>0 days 21:43:05</td>\n",
       "    </tr>\n",
       "    <tr>\n",
       "      <th>ratio_of_longs</th>\n",
       "      <td>0.503269</td>\n",
       "      <td>0.50284</td>\n",
       "    </tr>\n",
       "  </tbody>\n",
       "</table>\n",
       "</div>"
      ],
      "text/plain": [
       "                                fixed_horizon    triple_barrier\n",
       "total_return                         0.898958          1.198094\n",
       "annualized_return                    0.174281          0.218113\n",
       "volatility                            1.10215          0.417609\n",
       "downside_volatility                  0.720549          0.112141\n",
       "sharpe_ratio                         1.753298          4.091394\n",
       "sortino_ratio                        2.681839         15.236145\n",
       "var_95                              -0.015042         -0.003732\n",
       "cvar_95                             -0.021589         -0.004668\n",
       "skewness                             0.005453          1.191128\n",
       "kurtosis                             2.034684          0.780038\n",
       "probabilistic_sharpe_ratio           0.888705          0.998227\n",
       "pos_concentration                    0.000265          0.000122\n",
       "neg_concentration                    0.000262          0.000056\n",
       "time_concentration                   0.003805          0.003776\n",
       "max_drawdown                         0.630101          0.304603\n",
       "avg_drawdown                         0.310787          0.035849\n",
       "drawdown_duration           111 days 21:30:00  22 days 10:25:51\n",
       "ulcer_index                          0.388294          0.071087\n",
       "calmar_ratio                         0.276592          0.716055\n",
       "num_trades                               5965              5986\n",
       "trades_per_year                          1493              1498\n",
       "win_rate                              0.50964          0.299866\n",
       "avg_win                              0.007441          0.005336\n",
       "avg_loss                            -0.007417         -0.002087\n",
       "best_trade                           0.042093          0.016233\n",
       "worst_trade                         -0.046009         -0.009122\n",
       "profit_factor                        1.043127          1.094862\n",
       "expectancy                           0.000156          0.000139\n",
       "kelly_criterion                      0.020904          0.025981\n",
       "consecutive_wins                           45                20\n",
       "consecutive_losses                         43                45\n",
       "avg_trade_duration            5 days 21:59:06   0 days 21:43:05\n",
       "ratio_of_longs                       0.503269           0.50284"
      ]
     },
     "execution_count": 180,
     "metadata": {},
     "output_type": "execute_result"
    }
   ],
   "source": [
    "print(f\"MACrossover_fast{fast_window}_slow{slow_window}: \\n\")\n",
    "\n",
    "ma_metrics_df = pd.DataFrame({\n",
    "    \"fixed_horizon\": ma_events_fh_metrics,\n",
    "    \"triple_barrier\": ma_events_tbl_metrics,\n",
    "    })\n",
    "ma_metrics_df"
   ]
  },
  {
   "cell_type": "markdown",
   "id": "68aff28e",
   "metadata": {},
   "source": [
    "### Trend-Scanning Method"
   ]
  },
  {
   "cell_type": "code",
   "execution_count": 181,
   "id": "18cb8d17",
   "metadata": {},
   "outputs": [
    {
     "name": "stdout",
     "output_type": "stream",
     "text": [
      "t_events: 5,993\n",
      "\u001b[32m2025-08-30 06:07:04.192\u001b[0m | \u001b[1mINFO    \u001b[0m | \u001b[36mafml.labeling.performance_metrics\u001b[0m:\u001b[36mcalculate_label_metrics\u001b[0m:\u001b[36m41\u001b[0m - \u001b[1mCalculating avg_trade_duration using (events['t1'] - events.index).mean()\u001b[0m\n",
      "MACrossover_fast20_slow50:\n",
      "ma_events_trend.shape: (5970, 4)\n",
      "\n"
     ]
    },
    {
     "data": {
      "application/vnd.microsoft.datawrangler.viewer.v0+json": {
       "columns": [
        {
         "name": "index",
         "rawType": "object",
         "type": "string"
        },
        {
         "name": "fixed_horizon",
         "rawType": "object",
         "type": "unknown"
        },
        {
         "name": "triple_barrier",
         "rawType": "object",
         "type": "unknown"
        },
        {
         "name": "trend_scanning",
         "rawType": "object",
         "type": "unknown"
        }
       ],
       "ref": "94718324-2403-42b5-bf62-ff74738e8149",
       "rows": [
        [
         "total_return",
         "0.8989582061767578",
         "1.198094367980957",
         "3.9864320755004883"
        ],
        [
         "annualized_return",
         "0.1742812348899585",
         "0.21811287383507838",
         "0.49515635058594243"
        ],
        [
         "volatility",
         "1.1021495718518448",
         "0.4176090365024759",
         "1.156368540847366"
        ],
        [
         "downside_volatility",
         "0.720549035342409",
         "0.11214143655505873",
         "0.7247081653015514"
        ],
        [
         "sharpe_ratio",
         "1.753297971279017",
         "4.091394156639698",
         "3.4478208361809553"
        ],
        [
         "sortino_ratio",
         "2.68183914430694",
         "15.236144855940749",
         "5.501458021766244"
        ],
        [
         "var_95",
         "-0.015042436122894288",
         "-0.0037324726581573486",
         "-0.015248316526412963"
        ],
        [
         "cvar_95",
         "-0.021588562",
         "-0.004668298",
         "-0.022259463"
        ],
        [
         "skewness",
         "0.005452997208068374",
         "1.1911284179368962",
         "-0.02607669357818935"
        ],
        [
         "kurtosis",
         "2.034684418049448",
         "0.7800378406623891",
         "1.4666510313605503"
        ],
        [
         "probabilistic_sharpe_ratio",
         "0.8887047989635111",
         "0.9982269958760231",
         "0.9917567482248077"
        ],
        [
         "pos_concentration",
         "0.00026523007526472943",
         "0.00012173989116460283",
         "0.00021999113665946787"
        ],
        [
         "neg_concentration",
         "0.0002620107947689109",
         "5.589320865039645e-05",
         "0.00023052519347937486"
        ],
        [
         "time_concentration",
         "0.003804640395530139",
         "0.0037756107812067946",
         "0.003813507825667417"
        ],
        [
         "max_drawdown",
         "0.6301011700710774",
         "0.3046033781150608",
         "0.7354710716265427"
        ],
        [
         "avg_drawdown",
         "0.3107865109909642",
         "0.035849114385843026",
         "0.2627072881224416"
        ],
        [
         "drawdown_duration",
         "111 days 21:30:00",
         "22 days 10:25:51",
         "97 days 00:36:00"
        ],
        [
         "ulcer_index",
         "0.38829426381998505",
         "0.07108746300601061",
         "0.3350464140829105"
        ],
        [
         "calmar_ratio",
         "0.2765924635091521",
         "0.7160553345954308",
         "0.6732506140464118"
        ],
        [
         "num_trades",
         "5965",
         "5986",
         "5970"
        ],
        [
         "trades_per_year",
         "1493",
         "1498",
         "1493"
        ],
        [
         "win_rate",
         "0.509639564124057",
         "0.29986635482793184",
         "0.5159128978224455"
        ],
        [
         "avg_win",
         "0.0074412115",
         "0.005335869",
         "0.008122302"
        ],
        [
         "avg_loss",
         "-0.007416561",
         "-0.0020873365",
         "-0.008007635"
        ],
        [
         "best_trade",
         "0.04209315776824951",
         "0.016232728958129883",
         "0.04123872518539429"
        ],
        [
         "worst_trade",
         "-0.046008944511413574",
         "-0.009121596813201904",
         "-0.04608112573623657"
        ],
        [
         "profit_factor",
         "1.0431273",
         "1.0948623",
         "1.0836296"
        ],
        [
         "expectancy",
         "0.00015554780434045776",
         "0.00013863301555592806",
         "0.00031400718874418114"
        ],
        [
         "kelly_criterion",
         "0.02090358567313233",
         "0.025981327847709457",
         "0.03865989555025556"
        ],
        [
         "consecutive_wins",
         "45",
         "20",
         "42"
        ],
        [
         "consecutive_losses",
         "43",
         "45",
         "35"
        ],
        [
         "avg_trade_duration",
         "5 days 21:59:06",
         "0 days 21:43:05",
         "3 days 16:32:57"
        ],
        [
         "ratio_of_longs",
         "0.5032690695725063",
         "0.5028399599064484",
         "0.5032690695725063"
        ]
       ],
       "shape": {
        "columns": 3,
        "rows": 33
       }
      },
      "text/html": [
       "<div>\n",
       "<style scoped>\n",
       "    .dataframe tbody tr th:only-of-type {\n",
       "        vertical-align: middle;\n",
       "    }\n",
       "\n",
       "    .dataframe tbody tr th {\n",
       "        vertical-align: top;\n",
       "    }\n",
       "\n",
       "    .dataframe thead th {\n",
       "        text-align: right;\n",
       "    }\n",
       "</style>\n",
       "<table border=\"1\" class=\"dataframe\">\n",
       "  <thead>\n",
       "    <tr style=\"text-align: right;\">\n",
       "      <th></th>\n",
       "      <th>fixed_horizon</th>\n",
       "      <th>triple_barrier</th>\n",
       "      <th>trend_scanning</th>\n",
       "    </tr>\n",
       "  </thead>\n",
       "  <tbody>\n",
       "    <tr>\n",
       "      <th>total_return</th>\n",
       "      <td>0.898958</td>\n",
       "      <td>1.198094</td>\n",
       "      <td>3.986432</td>\n",
       "    </tr>\n",
       "    <tr>\n",
       "      <th>annualized_return</th>\n",
       "      <td>0.174281</td>\n",
       "      <td>0.218113</td>\n",
       "      <td>0.495156</td>\n",
       "    </tr>\n",
       "    <tr>\n",
       "      <th>volatility</th>\n",
       "      <td>1.10215</td>\n",
       "      <td>0.417609</td>\n",
       "      <td>1.156369</td>\n",
       "    </tr>\n",
       "    <tr>\n",
       "      <th>downside_volatility</th>\n",
       "      <td>0.720549</td>\n",
       "      <td>0.112141</td>\n",
       "      <td>0.724708</td>\n",
       "    </tr>\n",
       "    <tr>\n",
       "      <th>sharpe_ratio</th>\n",
       "      <td>1.753298</td>\n",
       "      <td>4.091394</td>\n",
       "      <td>3.447821</td>\n",
       "    </tr>\n",
       "    <tr>\n",
       "      <th>sortino_ratio</th>\n",
       "      <td>2.681839</td>\n",
       "      <td>15.236145</td>\n",
       "      <td>5.501458</td>\n",
       "    </tr>\n",
       "    <tr>\n",
       "      <th>var_95</th>\n",
       "      <td>-0.015042</td>\n",
       "      <td>-0.003732</td>\n",
       "      <td>-0.015248</td>\n",
       "    </tr>\n",
       "    <tr>\n",
       "      <th>cvar_95</th>\n",
       "      <td>-0.021589</td>\n",
       "      <td>-0.004668</td>\n",
       "      <td>-0.022259</td>\n",
       "    </tr>\n",
       "    <tr>\n",
       "      <th>skewness</th>\n",
       "      <td>0.005453</td>\n",
       "      <td>1.191128</td>\n",
       "      <td>-0.026077</td>\n",
       "    </tr>\n",
       "    <tr>\n",
       "      <th>kurtosis</th>\n",
       "      <td>2.034684</td>\n",
       "      <td>0.780038</td>\n",
       "      <td>1.466651</td>\n",
       "    </tr>\n",
       "    <tr>\n",
       "      <th>probabilistic_sharpe_ratio</th>\n",
       "      <td>0.888705</td>\n",
       "      <td>0.998227</td>\n",
       "      <td>0.991757</td>\n",
       "    </tr>\n",
       "    <tr>\n",
       "      <th>pos_concentration</th>\n",
       "      <td>0.000265</td>\n",
       "      <td>0.000122</td>\n",
       "      <td>0.00022</td>\n",
       "    </tr>\n",
       "    <tr>\n",
       "      <th>neg_concentration</th>\n",
       "      <td>0.000262</td>\n",
       "      <td>0.000056</td>\n",
       "      <td>0.000231</td>\n",
       "    </tr>\n",
       "    <tr>\n",
       "      <th>time_concentration</th>\n",
       "      <td>0.003805</td>\n",
       "      <td>0.003776</td>\n",
       "      <td>0.003814</td>\n",
       "    </tr>\n",
       "    <tr>\n",
       "      <th>max_drawdown</th>\n",
       "      <td>0.630101</td>\n",
       "      <td>0.304603</td>\n",
       "      <td>0.735471</td>\n",
       "    </tr>\n",
       "    <tr>\n",
       "      <th>avg_drawdown</th>\n",
       "      <td>0.310787</td>\n",
       "      <td>0.035849</td>\n",
       "      <td>0.262707</td>\n",
       "    </tr>\n",
       "    <tr>\n",
       "      <th>drawdown_duration</th>\n",
       "      <td>111 days 21:30:00</td>\n",
       "      <td>22 days 10:25:51</td>\n",
       "      <td>97 days 00:36:00</td>\n",
       "    </tr>\n",
       "    <tr>\n",
       "      <th>ulcer_index</th>\n",
       "      <td>0.388294</td>\n",
       "      <td>0.071087</td>\n",
       "      <td>0.335046</td>\n",
       "    </tr>\n",
       "    <tr>\n",
       "      <th>calmar_ratio</th>\n",
       "      <td>0.276592</td>\n",
       "      <td>0.716055</td>\n",
       "      <td>0.673251</td>\n",
       "    </tr>\n",
       "    <tr>\n",
       "      <th>num_trades</th>\n",
       "      <td>5965</td>\n",
       "      <td>5986</td>\n",
       "      <td>5970</td>\n",
       "    </tr>\n",
       "    <tr>\n",
       "      <th>trades_per_year</th>\n",
       "      <td>1493</td>\n",
       "      <td>1498</td>\n",
       "      <td>1493</td>\n",
       "    </tr>\n",
       "    <tr>\n",
       "      <th>win_rate</th>\n",
       "      <td>0.50964</td>\n",
       "      <td>0.299866</td>\n",
       "      <td>0.515913</td>\n",
       "    </tr>\n",
       "    <tr>\n",
       "      <th>avg_win</th>\n",
       "      <td>0.007441</td>\n",
       "      <td>0.005336</td>\n",
       "      <td>0.008122</td>\n",
       "    </tr>\n",
       "    <tr>\n",
       "      <th>avg_loss</th>\n",
       "      <td>-0.007417</td>\n",
       "      <td>-0.002087</td>\n",
       "      <td>-0.008008</td>\n",
       "    </tr>\n",
       "    <tr>\n",
       "      <th>best_trade</th>\n",
       "      <td>0.042093</td>\n",
       "      <td>0.016233</td>\n",
       "      <td>0.041239</td>\n",
       "    </tr>\n",
       "    <tr>\n",
       "      <th>worst_trade</th>\n",
       "      <td>-0.046009</td>\n",
       "      <td>-0.009122</td>\n",
       "      <td>-0.046081</td>\n",
       "    </tr>\n",
       "    <tr>\n",
       "      <th>profit_factor</th>\n",
       "      <td>1.043127</td>\n",
       "      <td>1.094862</td>\n",
       "      <td>1.08363</td>\n",
       "    </tr>\n",
       "    <tr>\n",
       "      <th>expectancy</th>\n",
       "      <td>0.000156</td>\n",
       "      <td>0.000139</td>\n",
       "      <td>0.000314</td>\n",
       "    </tr>\n",
       "    <tr>\n",
       "      <th>kelly_criterion</th>\n",
       "      <td>0.020904</td>\n",
       "      <td>0.025981</td>\n",
       "      <td>0.03866</td>\n",
       "    </tr>\n",
       "    <tr>\n",
       "      <th>consecutive_wins</th>\n",
       "      <td>45</td>\n",
       "      <td>20</td>\n",
       "      <td>42</td>\n",
       "    </tr>\n",
       "    <tr>\n",
       "      <th>consecutive_losses</th>\n",
       "      <td>43</td>\n",
       "      <td>45</td>\n",
       "      <td>35</td>\n",
       "    </tr>\n",
       "    <tr>\n",
       "      <th>avg_trade_duration</th>\n",
       "      <td>5 days 21:59:06</td>\n",
       "      <td>0 days 21:43:05</td>\n",
       "      <td>3 days 16:32:57</td>\n",
       "    </tr>\n",
       "    <tr>\n",
       "      <th>ratio_of_longs</th>\n",
       "      <td>0.503269</td>\n",
       "      <td>0.50284</td>\n",
       "      <td>0.503269</td>\n",
       "    </tr>\n",
       "  </tbody>\n",
       "</table>\n",
       "</div>"
      ],
      "text/plain": [
       "                                fixed_horizon    triple_barrier  \\\n",
       "total_return                         0.898958          1.198094   \n",
       "annualized_return                    0.174281          0.218113   \n",
       "volatility                            1.10215          0.417609   \n",
       "downside_volatility                  0.720549          0.112141   \n",
       "sharpe_ratio                         1.753298          4.091394   \n",
       "sortino_ratio                        2.681839         15.236145   \n",
       "var_95                              -0.015042         -0.003732   \n",
       "cvar_95                             -0.021589         -0.004668   \n",
       "skewness                             0.005453          1.191128   \n",
       "kurtosis                             2.034684          0.780038   \n",
       "probabilistic_sharpe_ratio           0.888705          0.998227   \n",
       "pos_concentration                    0.000265          0.000122   \n",
       "neg_concentration                    0.000262          0.000056   \n",
       "time_concentration                   0.003805          0.003776   \n",
       "max_drawdown                         0.630101          0.304603   \n",
       "avg_drawdown                         0.310787          0.035849   \n",
       "drawdown_duration           111 days 21:30:00  22 days 10:25:51   \n",
       "ulcer_index                          0.388294          0.071087   \n",
       "calmar_ratio                         0.276592          0.716055   \n",
       "num_trades                               5965              5986   \n",
       "trades_per_year                          1493              1498   \n",
       "win_rate                              0.50964          0.299866   \n",
       "avg_win                              0.007441          0.005336   \n",
       "avg_loss                            -0.007417         -0.002087   \n",
       "best_trade                           0.042093          0.016233   \n",
       "worst_trade                         -0.046009         -0.009122   \n",
       "profit_factor                        1.043127          1.094862   \n",
       "expectancy                           0.000156          0.000139   \n",
       "kelly_criterion                      0.020904          0.025981   \n",
       "consecutive_wins                           45                20   \n",
       "consecutive_losses                         43                45   \n",
       "avg_trade_duration            5 days 21:59:06   0 days 21:43:05   \n",
       "ratio_of_longs                       0.503269           0.50284   \n",
       "\n",
       "                              trend_scanning  \n",
       "total_return                        3.986432  \n",
       "annualized_return                   0.495156  \n",
       "volatility                          1.156369  \n",
       "downside_volatility                 0.724708  \n",
       "sharpe_ratio                        3.447821  \n",
       "sortino_ratio                       5.501458  \n",
       "var_95                             -0.015248  \n",
       "cvar_95                            -0.022259  \n",
       "skewness                           -0.026077  \n",
       "kurtosis                            1.466651  \n",
       "probabilistic_sharpe_ratio          0.991757  \n",
       "pos_concentration                    0.00022  \n",
       "neg_concentration                   0.000231  \n",
       "time_concentration                  0.003814  \n",
       "max_drawdown                        0.735471  \n",
       "avg_drawdown                        0.262707  \n",
       "drawdown_duration           97 days 00:36:00  \n",
       "ulcer_index                         0.335046  \n",
       "calmar_ratio                        0.673251  \n",
       "num_trades                              5970  \n",
       "trades_per_year                         1493  \n",
       "win_rate                            0.515913  \n",
       "avg_win                             0.008122  \n",
       "avg_loss                           -0.008008  \n",
       "best_trade                          0.041239  \n",
       "worst_trade                        -0.046081  \n",
       "profit_factor                        1.08363  \n",
       "expectancy                          0.000314  \n",
       "kelly_criterion                      0.03866  \n",
       "consecutive_wins                          42  \n",
       "consecutive_losses                        35  \n",
       "avg_trade_duration           3 days 16:32:57  \n",
       "ratio_of_longs                      0.503269  "
      ]
     },
     "execution_count": 181,
     "metadata": {},
     "output_type": "execute_result"
    }
   ],
   "source": [
    "span = (5, time_horizon)\n",
    "volatility_threshold = 0.1\n",
    "\n",
    "thres = get_daily_vol(ma_df.close).mean() * vol_multiplier\n",
    "t_events = cusum_filter(ma_df.close, thres)\n",
    "print(f\"t_events: {len(t_events):,}\")\n",
    "\n",
    "side = ma_strategy.generate_signals(ma_df)\n",
    "close = ma_df.close\n",
    "\n",
    "ma_events_trend = get_trend_scanning_meta_labels(close, side, t_events, span, volatility_threshold)\n",
    "ma_events_trend_metrics = calculate_label_metrics(ma_df.index, side, ma_events_trend)\n",
    "\n",
    "ma_metrics_df = pd.DataFrame({\n",
    "    \"fixed_horizon\": ma_events_fh_metrics,\n",
    "    \"triple_barrier\": ma_events_tbl_metrics,\n",
    "    \"trend_scanning\": ma_events_trend_metrics,\n",
    "    })\n",
    "\n",
    "print(f\"MACrossover_fast{fast_window}_slow{slow_window}:\")\n",
    "print(f\"ma_events_trend.shape: {ma_events_trend.shape}\\n\")\n",
    "ma_metrics_df"
   ]
  },
  {
   "cell_type": "markdown",
   "id": "303e1899",
   "metadata": {},
   "source": [
    "### Random Forest"
   ]
  },
  {
   "cell_type": "code",
   "execution_count": 182,
   "id": "296835e3",
   "metadata": {},
   "outputs": [
    {
     "name": "stdout",
     "output_type": "stream",
     "text": [
      "Fixed-Time Horizon Meta-Model Results:\n",
      "\n",
      "Primary-Model on Validation Set:\n",
      "              precision    recall  f1-score   support\n",
      "\n",
      "           0       0.00      0.00      0.00       878\n",
      "           1       0.51      1.00      0.67       911\n",
      "\n",
      "    accuracy                           0.51      1789\n",
      "   macro avg       0.25      0.50      0.34      1789\n",
      "weighted avg       0.26      0.51      0.34      1789\n",
      "\n",
      "\n",
      "Confusion Matrix:\n",
      "[[  0 878]\n",
      " [  0 911]]\n",
      "\n",
      "Meta-Model on Validation Set:\n",
      "              precision    recall  f1-score   support\n",
      "\n",
      "           0       0.51      0.67      0.58       878\n",
      "           1       0.55      0.38      0.45       911\n",
      "\n",
      "    accuracy                           0.52      1789\n",
      "   macro avg       0.53      0.53      0.51      1789\n",
      "weighted avg       0.53      0.52      0.51      1789\n",
      "\n",
      "\n",
      "Confusion Matrix:\n",
      "[[587 291]\n",
      " [562 349]]\n"
     ]
    },
    {
     "data": {
      "image/png": "[encoded data removed]",
      "text/plain": [
       "<Figure size 750x500 with 1 Axes>"
      ]
     },
     "metadata": {},
     "output_type": "display_data"
    }
   ],
   "source": [
    "model_ma_fh = train_meta_model(model=rf, features=ma_feat.reindex(ma_events_fh.index), labels=ma_events_fh)\n",
    "print(\"Fixed-Time Horizon Meta-Model Results:\\n\")\n",
    "meta_labelling_reports(\n",
    "    model_ma_fh.y_test, model_ma_fh.w_test, model_ma_fh.pred, model_ma_fh.prob, plot_roc=True\n",
    "    )"
   ]
  },
  {
   "cell_type": "code",
   "execution_count": 183,
   "id": "808ea536",
   "metadata": {},
   "outputs": [
    {
     "name": "stdout",
     "output_type": "stream",
     "text": [
      "Triple Barrier Meta-Model Results:\n",
      "\n",
      "Primary-Model on Validation Set:\n",
      "              precision    recall  f1-score   support\n",
      "\n",
      "           0       0.00      0.00      0.00      1287\n",
      "           1       0.28      1.00      0.44       508\n",
      "\n",
      "    accuracy                           0.28      1795\n",
      "   macro avg       0.14      0.50      0.22      1795\n",
      "weighted avg       0.08      0.28      0.12      1795\n",
      "\n",
      "\n",
      "Confusion Matrix:\n",
      "[[   0 1287]\n",
      " [   0  508]]\n",
      "\n",
      "Meta-Model on Validation Set:\n",
      "              precision    recall  f1-score   support\n",
      "\n",
      "           0       0.72      0.98      0.83      1287\n",
      "           1       0.38      0.03      0.05       508\n",
      "\n",
      "    accuracy                           0.71      1795\n",
      "   macro avg       0.55      0.50      0.44      1795\n",
      "weighted avg       0.62      0.71      0.61      1795\n",
      "\n",
      "\n",
      "Confusion Matrix:\n",
      "[[1264   23]\n",
      " [ 494   14]]\n"
     ]
    },
    {
     "data": {
      "image/png": "[encoded data removed]",
      "text/plain": [
       "<Figure size 750x500 with 1 Axes>"
      ]
     },
     "metadata": {},
     "output_type": "display_data"
    }
   ],
   "source": [
    "model_ma_tbl = train_meta_model(model=rf, features=ma_feat.reindex(ma_events_tbl.index), labels=ma_events_tbl)\n",
    "print(\"Triple Barrier Meta-Model Results:\\n\")\n",
    "meta_labelling_reports(\n",
    "    model_ma_tbl.y_test, model_ma_tbl.w_test, model_ma_tbl.pred, model_ma_tbl.prob, plot_roc=True\n",
    "    )"
   ]
  },
  {
   "cell_type": "code",
   "execution_count": 184,
   "id": "846cec1b",
   "metadata": {},
   "outputs": [
    {
     "name": "stdout",
     "output_type": "stream",
     "text": [
      "Trend-Scanning Meta-Model Results:\n",
      "\n",
      "Primary-Model on Validation Set:\n",
      "              precision    recall  f1-score   support\n",
      "\n",
      "           0       0.00      0.00      0.00       981\n",
      "           1       0.45      1.00      0.62       809\n",
      "\n",
      "    accuracy                           0.45      1790\n",
      "   macro avg       0.23      0.50      0.31      1790\n",
      "weighted avg       0.20      0.45      0.28      1790\n",
      "\n",
      "\n",
      "Confusion Matrix:\n",
      "[[  0 981]\n",
      " [  0 809]]\n",
      "\n",
      "Meta-Model on Validation Set:\n",
      "              precision    recall  f1-score   support\n",
      "\n",
      "           0       0.57      0.80      0.67       981\n",
      "           1       0.53      0.28      0.37       809\n",
      "\n",
      "    accuracy                           0.56      1790\n",
      "   macro avg       0.55      0.54      0.52      1790\n",
      "weighted avg       0.56      0.56      0.53      1790\n",
      "\n",
      "\n",
      "Confusion Matrix:\n",
      "[[783 198]\n",
      " [583 226]]\n"
     ]
    },
    {
     "data": {
      "image/png": "[encoded data removed]",
      "text/plain": [
       "<Figure size 750x500 with 1 Axes>"
      ]
     },
     "metadata": {},
     "output_type": "display_data"
    }
   ],
   "source": [
    "model_ma_trend = train_meta_model(model=rf, features=ma_feat.reindex(ma_events_trend.index), labels=ma_events_trend)\n",
    "print(\"Trend-Scanning Meta-Model Results:\\n\")\n",
    "meta_labelling_reports(\n",
    "    model_ma_trend.y_test, model_ma_trend.w_test, model_ma_trend.pred, model_ma_trend.prob, plot_roc=True\n",
    "    )"
   ]
  },
  {
   "cell_type": "code",
   "execution_count": 185,
   "id": "bc62f830",
   "metadata": {},
   "outputs": [
    {
     "name": "stdout",
     "output_type": "stream",
     "text": [
      "Classification Report (as text):\n",
      "              precision    recall  f1-score   support\n",
      "\n",
      "           0       0.00      0.00      0.00       878\n",
      "           1       0.51      1.00      0.67       911\n",
      "\n",
      "    accuracy                           0.51      1789\n",
      "   macro avg       0.25      0.50      0.34      1789\n",
      "weighted avg       0.26      0.51      0.34      1789\n",
      "\n",
      "\n",
      "Confusion Matrix:\n",
      "[[  0 878]\n",
      " [  0 911]]\n",
      "\n",
      "Accuracy:\n",
      "0.5092230296254892\n",
      "\n",
      "Successfully generated and saved 'reports/ma_fixed_time_primary_clf_report.png'\n",
      "Classification Report (as text):\n",
      "              precision    recall  f1-score   support\n",
      "\n",
      "           0       0.51      0.67      0.58       878\n",
      "           1       0.55      0.38      0.45       911\n",
      "\n",
      "    accuracy                           0.52      1789\n",
      "   macro avg       0.53      0.53      0.51      1789\n",
      "weighted avg       0.53      0.52      0.51      1789\n",
      "\n",
      "\n",
      "Confusion Matrix:\n",
      "[[587 291]\n",
      " [562 349]]\n",
      "\n",
      "Accuracy:\n",
      "0.5231973169368362\n",
      "\n",
      "Successfully generated and saved 'reports/ma_fixed_time_meta_clf_report.png'\n",
      "Classification reports saved.\n",
      "\n",
      "Classification Report (as text):\n",
      "              precision    recall  f1-score   support\n",
      "\n",
      "           0       0.00      0.00      0.00       878\n",
      "           1       0.51      1.00      0.67       911\n",
      "\n",
      "    accuracy                           0.51      1789\n",
      "   macro avg       0.25      0.50      0.34      1789\n",
      "weighted avg       0.26      0.51      0.34      1789\n",
      "\n",
      "\n",
      "Confusion Matrix:\n",
      "[[  0 878]\n",
      " [  0 911]]\n",
      "\n",
      "Accuracy:\n",
      "0.5092230296254892\n",
      "\n",
      "Successfully generated and saved 'reports/ma_triple_barrier_primary_clf_report.png'\n",
      "Classification Report (as text):\n",
      "              precision    recall  f1-score   support\n",
      "\n",
      "           0       0.51      0.67      0.58       878\n",
      "           1       0.55      0.38      0.45       911\n",
      "\n",
      "    accuracy                           0.52      1789\n",
      "   macro avg       0.53      0.53      0.51      1789\n",
      "weighted avg       0.53      0.52      0.51      1789\n",
      "\n",
      "\n",
      "Confusion Matrix:\n",
      "[[587 291]\n",
      " [562 349]]\n",
      "\n",
      "Accuracy:\n",
      "0.5231973169368362\n",
      "\n",
      "Successfully generated and saved 'reports/ma_triple_barrier_meta_clf_report.png'\n",
      "Classification reports saved.\n",
      "\n",
      "Classification Report (as text):\n",
      "              precision    recall  f1-score   support\n",
      "\n",
      "           0       0.00      0.00      0.00       878\n",
      "           1       0.51      1.00      0.67       911\n",
      "\n",
      "    accuracy                           0.51      1789\n",
      "   macro avg       0.25      0.50      0.34      1789\n",
      "weighted avg       0.26      0.51      0.34      1789\n",
      "\n",
      "\n",
      "Confusion Matrix:\n",
      "[[  0 878]\n",
      " [  0 911]]\n",
      "\n",
      "Accuracy:\n",
      "0.5092230296254892\n",
      "\n",
      "Successfully generated and saved 'reports/ma_trend_scanning_primary_clf_report.png'\n",
      "Classification Report (as text):\n",
      "              precision    recall  f1-score   support\n",
      "\n",
      "           0       0.51      0.67      0.58       878\n",
      "           1       0.55      0.38      0.45       911\n",
      "\n",
      "    accuracy                           0.52      1789\n",
      "   macro avg       0.53      0.53      0.51      1789\n",
      "weighted avg       0.53      0.52      0.51      1789\n",
      "\n",
      "\n",
      "Confusion Matrix:\n",
      "[[587 291]\n",
      " [562 349]]\n",
      "\n",
      "Accuracy:\n",
      "0.5231973169368362\n",
      "\n",
      "Successfully generated and saved 'reports/ma_trend_scanning_meta_clf_report.png'\n",
      "Classification reports saved.\n",
      "\n",
      "Classification Report (as text):\n",
      "              precision    recall  f1-score   support\n",
      "\n",
      "           0       0.00      0.00      0.00       878\n",
      "           1       0.51      1.00      0.67       911\n",
      "\n",
      "    accuracy                           0.51      1789\n",
      "   macro avg       0.25      0.50      0.34      1789\n",
      "weighted avg       0.26      0.51      0.34      1789\n",
      "\n",
      "\n",
      "Confusion Matrix:\n",
      "[[  0 878]\n",
      " [  0 911]]\n",
      "\n",
      "Accuracy:\n",
      "0.5092230296254892\n",
      "\n",
      "Successfully generated and saved 'reports/ma_trend_scanning_mr_primary_clf_report.png'\n",
      "Classification Report (as text):\n",
      "              precision    recall  f1-score   support\n",
      "\n",
      "           0       0.51      0.67      0.58       878\n",
      "           1       0.55      0.38      0.45       911\n",
      "\n",
      "    accuracy                           0.52      1789\n",
      "   macro avg       0.53      0.53      0.51      1789\n",
      "weighted avg       0.53      0.52      0.51      1789\n",
      "\n",
      "\n",
      "Confusion Matrix:\n",
      "[[587 291]\n",
      " [562 349]]\n",
      "\n",
      "Accuracy:\n",
      "0.5231973169368362\n",
      "\n",
      "Successfully generated and saved 'reports/ma_trend_scanning_mr_meta_clf_report.png'\n",
      "Classification reports saved.\n",
      "\n"
     ]
    }
   ],
   "source": [
    "dirpath = \"reports\"\n",
    "meta_labelling_classification_reports(model_data=model_ma_fh, title=\"Fixed-Time Horizon\", output_filename=f\"{dirpath}/ma_fixed_time\")\n",
    "meta_labelling_classification_reports(model_data=model_ma_fh, title=\"Triple Barrier\", output_filename=f\"{dirpath}/ma_triple_barrier\")\n",
    "meta_labelling_classification_reports(model_data=model_ma_fh, title=\"Trend-Scanning\", output_filename=f\"{dirpath}/ma_trend_scanning\")\n",
    "meta_labelling_classification_reports(model_data=model_ma_fh, title=\"Trend-Scanning (Mean-Reversion)\", output_filename=f\"{dirpath}/ma_trend_scanning_mr\")"
   ]
  },
  {
   "cell_type": "code",
   "execution_count": null,
   "id": "a37b0afe",
   "metadata": {},
   "outputs": [],
   "source": []
  },
  {
   "cell_type": "code",
   "execution_count": null,
   "id": "799ea2d8",
   "metadata": {},
   "outputs": [],
   "source": []
  },
  {
   "cell_type": "code",
   "execution_count": null,
   "id": "e45fec13",
   "metadata": {},
   "outputs": [],
   "source": []
  }
 ],
 "metadata": {
  "kernelspec": {
   "display_name": "mlfinlab_env",
   "language": "python",
   "name": "python3"
  },
  "language_info": {
   "codemirror_mode": {
    "name": "ipython",
    "version": 3
   },
   "file_extension": ".py",
   "mimetype": "text/x-python",
   "name": "python",
   "nbconvert_exporter": "python",
   "pygments_lexer": "ipython3",
   "version": "3.10.18"
  }
 },
 "nbformat": 4,
 "nbformat_minor": 5
}
