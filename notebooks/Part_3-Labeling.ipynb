{
 "cells": [
  {
   "cell_type": "markdown",
   "id": "883cfcc8",
   "metadata": {
    "vscode": {
     "languageId": "plaintext"
    }
   },
   "source": [
    "# Meta-Labeling Experiments: A Step-by-Step Guide\n",
    "\n",
    "## Introduction\n",
    "\n",
    "This notebook recreates the meta-labeling experiments from Hudson & Thames' research in a beginner-friendly manner. Meta-labeling is a machine learning technique that sits on top of a primary trading strategy to improve performance by filtering out false positive signals.\n",
    "\n",
    "**Key Concepts:**\n",
    "- **Primary Model**: Generates trading signals (buy/sell/hold)\n",
    "- **Triple Barrier Method**: Advanced labeling technique that accounts for stop-loss, take-profit, and time-based exits\n",
    "- **Meta-Labeling**: Secondary ML model that decides whether to act on primary model signals\n",
    "- **Goal**: Improve Sharpe ratio, reduce drawdown, and increase precision\n",
    "\n",
    "## Setup and Dependencies"
   ]
  },
  {
   "cell_type": "code",
   "execution_count": 1,
   "id": "b1e50b0d",
   "metadata": {},
   "outputs": [],
   "source": [
    "import sys\n",
    "sys.path.append(\"..\")  # Adjust based on your directory structure\n",
    "\n",
    "%load_ext autoreload\n",
    "%load_ext line_profiler\n",
    "%autoreload 3 -p\n",
    "\n",
    "# %aimport afml"
   ]
  },
  {
   "cell_type": "code",
   "execution_count": 108,
   "id": "2507ee02",
   "metadata": {},
   "outputs": [],
   "source": [
    "import warnings\n",
    "import winsound\n",
    "from datetime import timedelta, datetime as dt\n",
    "from pprint import pprint\n",
    "from pathlib import Path\n",
    "\n",
    "import pandas_ta as ta\n",
    "import talib\n",
    "import matplotlib.pyplot as plt\n",
    "import MetaTrader5 as mt5\n",
    "import seaborn as sns\n",
    "from sklearn.ensemble import RandomForestClassifier\n",
    "\n",
    "from afml.backtest_statistics.reporting import (\n",
    "    create_classification_report_image,\n",
    "    meta_labelling_reports,\n",
    ")\n",
    "\n",
    "from afml.data_structures.bars import *\n",
    "from afml.features import get_time_features, get_fractal_features\n",
    "from afml.filters import cusum_filter\n",
    "from afml.labeling import (\n",
    "    add_vertical_barrier,\n",
    "    calculate_label_metrics,\n",
    "    fixed_time_horizon,\n",
    "    get_bins,\n",
    "    get_bins_from_trend,\n",
    "    get_events,\n",
    "    triple_barrier_labels,\n",
    "    get_trend_scanning_meta_labels,\n",
    "\n",
    ")\n",
    "from afml.strategies import (\n",
    "    BaseStrategy,\n",
    "    BollingerMeanReversionStrategy,\n",
    "    MovingAverageCrossoverStrategy,\n",
    "    TripleBarrierEvaluator,\n",
    "    create_bollinger_features,\n",
    "    get_entries,\n",
    ")\n",
    "from afml.util import (\n",
    "    COMMODITIES,\n",
    "    CLEAN_DATA_PATH,\n",
    "    CRYPTO,\n",
    "    DATA_PATH,\n",
    "    FX_MAJORS,\n",
    "    PERCENTILES,\n",
    "    UTC,\n",
    "    DataFrameFormatter,\n",
    "    get_daily_vol,\n",
    "    value_counts_data,\n",
    ")\n",
    "from afml.mt5.get_data import (\n",
    "    get_ticks,\n",
    "    load_tick_data,\n",
    "    login_mt5,\n",
    "    save_data_to_parquet,\n",
    "    verify_or_create_account_info,\n",
    ")\n",
    "from notebooks.training import train_meta_model, compare_roc_curves, meta_labelling_classification_reports\n",
    "\n",
    "warnings.filterwarnings(\"ignore\")\n",
    "plt.style.use(\"dark_background\")\n"
   ]
  },
  {
   "cell_type": "code",
   "execution_count": 3,
   "id": "015d7b36",
   "metadata": {},
   "outputs": [],
   "source": [
    "from afml.cache import clear_afml_cache\n",
    "\n",
    "\n",
    "clear_afml_cache()"
   ]
  },
  {
   "cell_type": "markdown",
   "id": "160822e7",
   "metadata": {},
   "source": [
    "## 1. Data Preparation"
   ]
  },
  {
   "cell_type": "code",
   "execution_count": 4,
   "id": "f816170a",
   "metadata": {},
   "outputs": [],
   "source": [
    "account = \"FundedNext_STLR2_6K\"\n",
    "# account = login_mt5(account=\"FundedNext_STLR2_6K\")\n",
    "symbol = \"EURUSD\"\n",
    "columns = ['bid', 'ask']\n",
    "tick_bar_dict = {\"M1\": 50, \"M5\": 200, \"M15\": 700, \"M30\": 1000, \"H1\": 3000}\n",
    "tick_df = None\n",
    "\n",
    "start_date, end_date = \"2018-01-01\", \"2024-12-31\"\n",
    "sample_start, sample_end = start_date, \"2021-12-31\"\n",
    "oos_start = pd.Timestamp(sample_end) + timedelta(days=1) # Out-of-sample start date\n",
    "\n",
    "\n",
    "def get_data(symbol, timeframe, dirpath=\"../data\"):\n",
    "    \"\"\"Returns time-bars and tick-bars for timeframe\"\"\"\n",
    "    global tick_df\n",
    "    timeframe = timeframe.title()\n",
    "    directory = Path(dirpath)\n",
    "    tick_bar_size = tick_bar_dict[timeframe]\n",
    "    fname = Path(dirpath, f\"{symbol}_{timeframe}_time_{start_date}-{end_date}.parq\")\n",
    "    fname1 = Path(dirpath, f\"{symbol}_{timeframe}_tick-{tick_bar_size}_{start_date}-{end_date}.parq\")\n",
    "    time_bars, tick_bars = (None, None)\n",
    "\n",
    "    # --- Construct the search pattern ---\n",
    "    # The '*' is a wildcard that matches any sequence of characters\n",
    "    search_pattern = f\"{symbol}_{timeframe}_*\"\n",
    "\n",
    "    # --- Find the files ---\n",
    "    # glob() returns a generator, so you can iterate over it\n",
    "    found_files = directory.glob(search_pattern)\n",
    "\n",
    "    # --- Print the results ---\n",
    "    for file in found_files:\n",
    "        if fname == file:\n",
    "            time_bars = pd.read_parquet(fname)\n",
    "            print(\"Loaded\", file.name)\n",
    "        elif fname1 == file:\n",
    "            tick_bars = pd.read_parquet(fname1)\n",
    "            print(\"Loaded\", file.name)\n",
    "        \n",
    "    if any(x is None for x in (time_bars, tick_bars)):\n",
    "        try:\n",
    "            tick_df = load_tick_data(CLEAN_DATA_PATH, symbol, start_date, end_date, account, columns)\n",
    "        except FileNotFoundError:\n",
    "            save_data_to_parquet(CLEAN_DATA_PATH, symbol, start_date, end_date, account)\n",
    "        if time_bars is None:\n",
    "            time_bars = make_bars(tick_df, bar_type=\"time\", timeframe=timeframe, price=\"bid_ask\", verbose=True)\n",
    "            time_bars.to_parquet(fname)\n",
    "        if tick_bars is None:\n",
    "            tick_bar_size = calculate_ticks_per_period(tick_df, timeframe)\n",
    "            tick_bar_dict[timeframe] = tick_bar_size\n",
    "            tick_bars = make_bars(tick_df, bar_type=\"tick\", bar_size=tick_bar_size, price=\"bid_ask\", verbose=True)\n",
    "            fname1 = Path(dirpath, f\"{symbol}_{timeframe}_tick-{tick_bar_size}_{start_date}-{end_date}.parq\")\n",
    "            tick_bars.to_parquet(fname1)\n",
    "\n",
    "    return time_bars, tick_bars"
   ]
  },
  {
   "cell_type": "markdown",
   "id": "9129c536",
   "metadata": {},
   "source": [
    "## 2. Bollinger Band Strategy"
   ]
  },
  {
   "cell_type": "code",
   "execution_count": 161,
   "id": "49716f8d",
   "metadata": {},
   "outputs": [
    {
     "name": "stdout",
     "output_type": "stream",
     "text": [
      "Loaded EURUSD_M5_tick-200_2018-01-01-2024-12-31.parq\n",
      "Loaded EURUSD_M5_time_2018-01-01-2024-12-31.parq\n"
     ]
    }
   ],
   "source": [
    "timeframe = \"M5\"\n",
    "tick_bar_size = tick_bar_dict[timeframe]\n",
    "bb_time_bars, bb_tick_bars = get_data(symbol, timeframe)\n",
    "bar_size = f\"tick-{bb_tick_bars.tick_volume.iloc[0]}\"\n",
    "bb_df = bb_time_bars.loc[sample_start : sample_end]\n",
    "bb_df0 = bb_tick_bars.loc[sample_start : sample_end]"
   ]
  },
  {
   "cell_type": "markdown",
   "id": "76ada8a2",
   "metadata": {},
   "source": [
    "### Feature Engineering"
   ]
  },
  {
   "cell_type": "code",
   "execution_count": 191,
   "id": "63d09b56",
   "metadata": {},
   "outputs": [
    {
     "name": "stdout",
     "output_type": "stream",
     "text": [
      "Reloading 'afml.features.moving_averages'.\n",
      "Reloading 'afml.strategies.bollinger_features'.\n",
      "\u001b[32m2025-08-30 20:10:39.877\u001b[0m | \u001b[1mINFO    \u001b[0m | \u001b[36mafml.features.moving_averages\u001b[0m:\u001b[36mcalculate_ma_differences\u001b[0m:\u001b[36m35\u001b[0m - \u001b[1m\n",
      "Dropped features with correlation > 0.8: \n",
      "\t['sma_diff_10_200', 'sma_diff_10_50', 'sma_diff_20_100', 'sma_diff_20_200', 'sma_diff_20_50', 'sma_diff_50_100', 'sma_diff_50_200', 'sma_diff_5_100', 'sma_diff_5_20', 'sma_diff_5_200', 'sma_diff_5_50']\n",
      "Kept features: \n",
      "\t['sma_diff_5_10', 'sma_diff_10_20', 'sma_diff_10_100', 'sma_diff_100_200']\u001b[0m\n",
      "<class 'pandas.core.frame.DataFrame'>\n",
      "DatetimeIndex: 295657 entries, 2018-01-01 23:05:00 to 2021-12-31 23:00:00\n",
      "Data columns (total 49 columns):\n",
      " #   Column            Non-Null Count   Dtype  \n",
      "---  ------            --------------   -----  \n",
      " 0   rel_spread        295656 non-null  float32\n",
      " 1   bb_bandwidth      295637 non-null  float32\n",
      " 2   bb_percentage     295637 non-null  float64\n",
      " 3   returns           295656 non-null  float32\n",
      " 4   returns_5         295652 non-null  float32\n",
      " 5   returns_10        295647 non-null  float32\n",
      " 6   returns_1_lag_1   295655 non-null  float32\n",
      " 7   returns_5_lag_1   295647 non-null  float32\n",
      " 8   returns_10_lag_1  295637 non-null  float32\n",
      " 9   returns_1_lag_2   295654 non-null  float32\n",
      " 10  returns_5_lag_2   295642 non-null  float32\n",
      " 11  returns_10_lag_2  295627 non-null  float32\n",
      " 12  returns_1_lag_3   295653 non-null  float32\n",
      " 13  returns_5_lag_3   295637 non-null  float32\n",
      " 14  returns_10_lag_3  295617 non-null  float32\n",
      " 15  vol               295651 non-null  float32\n",
      " 16  vol_20            295636 non-null  float32\n",
      " 17  vol_lag_1         295650 non-null  float32\n",
      " 18  vol_lag_2         295649 non-null  float32\n",
      " 19  vol_lag_3         295648 non-null  float32\n",
      " 20  vol_lag_4         295647 non-null  float32\n",
      " 21  vol_lag_5         295646 non-null  float32\n",
      " 22  autocorr          295646 non-null  float32\n",
      " 23  autocorr_1        295645 non-null  float32\n",
      " 24  autocorr_2        295644 non-null  float32\n",
      " 25  autocorr_3        295643 non-null  float32\n",
      " 26  autocorr_4        295642 non-null  float32\n",
      " 27  autocorr_5        295641 non-null  float32\n",
      " 28  H1_vol            295642 non-null  float32\n",
      " 29  H4_vol            295606 non-null  float32\n",
      " 30  D1_vol            295366 non-null  float32\n",
      " 31  returns_skew      295646 non-null  float32\n",
      " 32  returns_kurt      295646 non-null  float32\n",
      " 33  tr                295655 non-null  float32\n",
      " 34  atr               295642 non-null  float32\n",
      " 35  sma_diff_5_10     295642 non-null  float32\n",
      " 36  sma_diff_10_20    295636 non-null  float32\n",
      " 37  sma_diff_10_100   295556 non-null  float32\n",
      " 38  sma_diff_100_200  295456 non-null  float32\n",
      " 39  rsi               295642 non-null  float32\n",
      " 40  stoch_rsi_k       295627 non-null  float32\n",
      " 41  stoch_rsi_d       295625 non-null  float32\n",
      " 42  adx               295629 non-null  float32\n",
      " 43  dmp               295642 non-null  float32\n",
      " 44  dmn               295642 non-null  float32\n",
      " 45  dm_net            295642 non-null  float32\n",
      " 46  macd              295623 non-null  float32\n",
      " 47  macd_hist         295623 non-null  float32\n",
      " 48  side              295657 non-null  int8   \n",
      "dtypes: float32(47), float64(1), int8(1)\n",
      "memory usage: 65.9 MB\n"
     ]
    }
   ],
   "source": [
    "bb_period, bb_std = 20, 1.5 # Bollinger Band parameters\n",
    "bb_strategy = BollingerMeanReversionStrategy(window=bb_period, num_std=bb_std)\n",
    "\n",
    "lookback = 10\n",
    "bb_feat = create_bollinger_features(bb_df, lookback, bb_period, bb_std)\n",
    "bb_feat[\"side\"] = bb_strategy.generate_signals(bb_df)\n",
    "bb_feat.info()"
   ]
  },
  {
   "cell_type": "code",
   "execution_count": 163,
   "id": "b7e0c62e",
   "metadata": {},
   "outputs": [
    {
     "name": "stdout",
     "output_type": "stream",
     "text": [
      "\u001b[32m2025-08-30 19:59:21.953\u001b[0m | \u001b[1mINFO    \u001b[0m | \u001b[36mafml.strategies.genetic_optimizer\u001b[0m:\u001b[36m__init__\u001b[0m:\u001b[36m147\u001b[0m - \u001b[1mGenerating primary signals...\u001b[0m\n",
      "\u001b[32m2025-08-30 19:59:22.042\u001b[0m | \u001b[1mINFO    \u001b[0m | \u001b[36mafml.strategies.strategies\u001b[0m:\u001b[36mget_entries\u001b[0m:\u001b[36m76\u001b[0m - \u001b[1mGenerated 7,834 trade events generated by CUSUM filter.\u001b[0m\n"
     ]
    }
   ],
   "source": [
    "target_vol_params = dict(days=1, lookback=100)\n",
    "tb_evaluator = TripleBarrierEvaluator(\n",
    "    bb_strategy, bb_df, target_vol_params,\n",
    "    target_vol_multiplier=1,\n",
    "    filter_events=True,\n",
    "    vertical_barrier_zero=True,\n",
    "    on_crossover=True,\n",
    "    )\n",
    "pt_barrier, sl_barrier, time_horizon = (2, 1, 20)"
   ]
  },
  {
   "cell_type": "markdown",
   "id": "bd2284a3",
   "metadata": {},
   "source": [
    "### Fixed-Time Horizon Method"
   ]
  },
  {
   "cell_type": "code",
   "execution_count": 164,
   "id": "917ed43f",
   "metadata": {},
   "outputs": [],
   "source": [
    "bb_events_fh = tb_evaluator.evaluate_performance(0, 0, time_horizon)\n",
    "bb_events_fh_metrics = tb_evaluator.calculate_strategy_metrics(bb_events_fh)"
   ]
  },
  {
   "cell_type": "markdown",
   "id": "fbe1c961",
   "metadata": {},
   "source": [
    "### Triple-Barrier Method"
   ]
  },
  {
   "cell_type": "code",
   "execution_count": 165,
   "id": "c5b85936",
   "metadata": {},
   "outputs": [],
   "source": [
    "bb_events_tbl = tb_evaluator.evaluate_performance(pt_barrier, sl_barrier, time_horizon)\n",
    "bb_events_tbl_metrics = tb_evaluator.calculate_strategy_metrics(bb_events_tbl)"
   ]
  },
  {
   "cell_type": "code",
   "execution_count": 166,
   "id": "99347f48",
   "metadata": {},
   "outputs": [
    {
     "name": "stdout",
     "output_type": "stream",
     "text": [
      "Bollinger_w20_std1.5: \n",
      "\n"
     ]
    },
    {
     "data": {
      "application/vnd.microsoft.datawrangler.viewer.v0+json": {
       "columns": [
        {
         "name": "index",
         "rawType": "object",
         "type": "string"
        },
        {
         "name": "fixed_horizon",
         "rawType": "object",
         "type": "unknown"
        },
        {
         "name": "triple_barrier",
         "rawType": "object",
         "type": "unknown"
        }
       ],
       "ref": "75bdea35-1d0f-4776-88eb-96fa08afc520",
       "rows": [
        [
         "total_return",
         "0.7241012537477265",
         "0.44250574612289384"
        ],
        [
         "annualized_return",
         "0.14620521633509376",
         "0.0961279162955786"
        ],
        [
         "volatility",
         "0.40575751343050065",
         "0.3779885946830118"
        ],
        [
         "downside_volatility",
         "0.2756656323319422",
         "0.22772266577491074"
        ],
        [
         "sharpe_ratio",
         "12.887154034218703",
         "9.347378863519616"
        ],
        [
         "sortino_ratio",
         "18.968848354022835",
         "15.515375198021841"
        ],
        [
         "var_95",
         "-0.0022262135016876405",
         "-0.0020002128460850643"
        ],
        [
         "cvar_95",
         "-0.0032808483511186023",
         "-0.002784395575736406"
        ],
        [
         "skewness",
         "0.3377669424555541",
         "0.4260032253809848"
        ],
        [
         "kurtosis",
         "4.533642058987901",
         "3.027380230270782"
        ],
        [
         "probabilistic_sharpe_ratio",
         "0.9999878919528811",
         "0.9989019507420437"
        ],
        [
         "pos_concentration",
         "0.0002659671446065537",
         "0.00023204701178845645"
        ],
        [
         "neg_concentration",
         "0.0002579059153697859",
         "0.0001809528881067443"
        ],
        [
         "time_concentration",
         "0.003162863600413463",
         "0.003162863600413463"
        ],
        [
         "max_drawdown",
         "0.08073977476312066",
         "0.10755553769081327"
        ],
        [
         "avg_drawdown",
         "0.005334361215471346",
         "0.0048623376042068005"
        ],
        [
         "drawdown_duration",
         "6 days 10:12:37",
         "7 days 07:54:30"
        ],
        [
         "ulcer_index",
         "0.010663781807425082",
         "0.010718132537269724"
        ],
        [
         "calmar_ratio",
         "1.8108202154890778",
         "0.8937514363222717"
        ],
        [
         "num_trades",
         "7826",
         "7826"
        ],
        [
         "trades_per_year",
         "1959",
         "1959"
        ],
        [
         "win_rate",
         "0.5292614362381804",
         "0.5102223358037311"
        ],
        [
         "avg_win",
         "0.0010568783587700209",
         "0.0010572723986412421"
        ],
        [
         "avg_loss",
         "-0.0010422887318606308",
         "-0.0010075260180561984"
        ],
        [
         "best_trade",
         "0.011397361797839567",
         "0.011067271398325751"
        ],
        [
         "worst_trade",
         "-0.009447455354591239",
         "-0.0073644518623537936"
        ],
        [
         "profit_factor",
         "1.144720196669541",
         "1.097186047852627"
        ],
        [
         "expectancy",
         "6.871945743047064e-05",
         "4.5980253075015415e-05"
        ],
        [
         "kelly_criterion",
         "0.065021160533976",
         "0.043489504818348734"
        ],
        [
         "consecutive_wins",
         "22",
         "11"
        ],
        [
         "consecutive_losses",
         "11",
         "10"
        ],
        [
         "avg_trade_duration",
         "0 days 09:53:21",
         "0 days 09:53:21"
        ],
        [
         "ratio_of_longs",
         "0.5074111934577051",
         "0.5074111934577051"
        ]
       ],
       "shape": {
        "columns": 2,
        "rows": 33
       }
      },
      "text/html": [
       "<div>\n",
       "<style scoped>\n",
       "    .dataframe tbody tr th:only-of-type {\n",
       "        vertical-align: middle;\n",
       "    }\n",
       "\n",
       "    .dataframe tbody tr th {\n",
       "        vertical-align: top;\n",
       "    }\n",
       "\n",
       "    .dataframe thead th {\n",
       "        text-align: right;\n",
       "    }\n",
       "</style>\n",
       "<table border=\"1\" class=\"dataframe\">\n",
       "  <thead>\n",
       "    <tr style=\"text-align: right;\">\n",
       "      <th></th>\n",
       "      <th>fixed_horizon</th>\n",
       "      <th>triple_barrier</th>\n",
       "    </tr>\n",
       "  </thead>\n",
       "  <tbody>\n",
       "    <tr>\n",
       "      <th>total_return</th>\n",
       "      <td>0.724101</td>\n",
       "      <td>0.442506</td>\n",
       "    </tr>\n",
       "    <tr>\n",
       "      <th>annualized_return</th>\n",
       "      <td>0.146205</td>\n",
       "      <td>0.096128</td>\n",
       "    </tr>\n",
       "    <tr>\n",
       "      <th>volatility</th>\n",
       "      <td>0.405758</td>\n",
       "      <td>0.377989</td>\n",
       "    </tr>\n",
       "    <tr>\n",
       "      <th>downside_volatility</th>\n",
       "      <td>0.275666</td>\n",
       "      <td>0.227723</td>\n",
       "    </tr>\n",
       "    <tr>\n",
       "      <th>sharpe_ratio</th>\n",
       "      <td>12.887154</td>\n",
       "      <td>9.347379</td>\n",
       "    </tr>\n",
       "    <tr>\n",
       "      <th>sortino_ratio</th>\n",
       "      <td>18.968848</td>\n",
       "      <td>15.515375</td>\n",
       "    </tr>\n",
       "    <tr>\n",
       "      <th>var_95</th>\n",
       "      <td>-0.002226</td>\n",
       "      <td>-0.002</td>\n",
       "    </tr>\n",
       "    <tr>\n",
       "      <th>cvar_95</th>\n",
       "      <td>-0.003281</td>\n",
       "      <td>-0.002784</td>\n",
       "    </tr>\n",
       "    <tr>\n",
       "      <th>skewness</th>\n",
       "      <td>0.337767</td>\n",
       "      <td>0.426003</td>\n",
       "    </tr>\n",
       "    <tr>\n",
       "      <th>kurtosis</th>\n",
       "      <td>4.533642</td>\n",
       "      <td>3.02738</td>\n",
       "    </tr>\n",
       "    <tr>\n",
       "      <th>probabilistic_sharpe_ratio</th>\n",
       "      <td>0.999988</td>\n",
       "      <td>0.998902</td>\n",
       "    </tr>\n",
       "    <tr>\n",
       "      <th>pos_concentration</th>\n",
       "      <td>0.000266</td>\n",
       "      <td>0.000232</td>\n",
       "    </tr>\n",
       "    <tr>\n",
       "      <th>neg_concentration</th>\n",
       "      <td>0.000258</td>\n",
       "      <td>0.000181</td>\n",
       "    </tr>\n",
       "    <tr>\n",
       "      <th>time_concentration</th>\n",
       "      <td>0.003163</td>\n",
       "      <td>0.003163</td>\n",
       "    </tr>\n",
       "    <tr>\n",
       "      <th>max_drawdown</th>\n",
       "      <td>0.08074</td>\n",
       "      <td>0.107556</td>\n",
       "    </tr>\n",
       "    <tr>\n",
       "      <th>avg_drawdown</th>\n",
       "      <td>0.005334</td>\n",
       "      <td>0.004862</td>\n",
       "    </tr>\n",
       "    <tr>\n",
       "      <th>drawdown_duration</th>\n",
       "      <td>6 days 10:12:37</td>\n",
       "      <td>7 days 07:54:30</td>\n",
       "    </tr>\n",
       "    <tr>\n",
       "      <th>ulcer_index</th>\n",
       "      <td>0.010664</td>\n",
       "      <td>0.010718</td>\n",
       "    </tr>\n",
       "    <tr>\n",
       "      <th>calmar_ratio</th>\n",
       "      <td>1.81082</td>\n",
       "      <td>0.893751</td>\n",
       "    </tr>\n",
       "    <tr>\n",
       "      <th>num_trades</th>\n",
       "      <td>7826</td>\n",
       "      <td>7826</td>\n",
       "    </tr>\n",
       "    <tr>\n",
       "      <th>trades_per_year</th>\n",
       "      <td>1959</td>\n",
       "      <td>1959</td>\n",
       "    </tr>\n",
       "    <tr>\n",
       "      <th>win_rate</th>\n",
       "      <td>0.529261</td>\n",
       "      <td>0.510222</td>\n",
       "    </tr>\n",
       "    <tr>\n",
       "      <th>avg_win</th>\n",
       "      <td>0.001057</td>\n",
       "      <td>0.001057</td>\n",
       "    </tr>\n",
       "    <tr>\n",
       "      <th>avg_loss</th>\n",
       "      <td>-0.001042</td>\n",
       "      <td>-0.001008</td>\n",
       "    </tr>\n",
       "    <tr>\n",
       "      <th>best_trade</th>\n",
       "      <td>0.011397</td>\n",
       "      <td>0.011067</td>\n",
       "    </tr>\n",
       "    <tr>\n",
       "      <th>worst_trade</th>\n",
       "      <td>-0.009447</td>\n",
       "      <td>-0.007364</td>\n",
       "    </tr>\n",
       "    <tr>\n",
       "      <th>profit_factor</th>\n",
       "      <td>1.14472</td>\n",
       "      <td>1.097186</td>\n",
       "    </tr>\n",
       "    <tr>\n",
       "      <th>expectancy</th>\n",
       "      <td>0.000069</td>\n",
       "      <td>0.000046</td>\n",
       "    </tr>\n",
       "    <tr>\n",
       "      <th>kelly_criterion</th>\n",
       "      <td>0.065021</td>\n",
       "      <td>0.04349</td>\n",
       "    </tr>\n",
       "    <tr>\n",
       "      <th>consecutive_wins</th>\n",
       "      <td>22</td>\n",
       "      <td>11</td>\n",
       "    </tr>\n",
       "    <tr>\n",
       "      <th>consecutive_losses</th>\n",
       "      <td>11</td>\n",
       "      <td>10</td>\n",
       "    </tr>\n",
       "    <tr>\n",
       "      <th>avg_trade_duration</th>\n",
       "      <td>0 days 09:53:21</td>\n",
       "      <td>0 days 09:53:21</td>\n",
       "    </tr>\n",
       "    <tr>\n",
       "      <th>ratio_of_longs</th>\n",
       "      <td>0.507411</td>\n",
       "      <td>0.507411</td>\n",
       "    </tr>\n",
       "  </tbody>\n",
       "</table>\n",
       "</div>"
      ],
      "text/plain": [
       "                              fixed_horizon   triple_barrier\n",
       "total_return                       0.724101         0.442506\n",
       "annualized_return                  0.146205         0.096128\n",
       "volatility                         0.405758         0.377989\n",
       "downside_volatility                0.275666         0.227723\n",
       "sharpe_ratio                      12.887154         9.347379\n",
       "sortino_ratio                     18.968848        15.515375\n",
       "var_95                            -0.002226           -0.002\n",
       "cvar_95                           -0.003281        -0.002784\n",
       "skewness                           0.337767         0.426003\n",
       "kurtosis                           4.533642          3.02738\n",
       "probabilistic_sharpe_ratio         0.999988         0.998902\n",
       "pos_concentration                  0.000266         0.000232\n",
       "neg_concentration                  0.000258         0.000181\n",
       "time_concentration                 0.003163         0.003163\n",
       "max_drawdown                        0.08074         0.107556\n",
       "avg_drawdown                       0.005334         0.004862\n",
       "drawdown_duration           6 days 10:12:37  7 days 07:54:30\n",
       "ulcer_index                        0.010664         0.010718\n",
       "calmar_ratio                        1.81082         0.893751\n",
       "num_trades                             7826             7826\n",
       "trades_per_year                        1959             1959\n",
       "win_rate                           0.529261         0.510222\n",
       "avg_win                            0.001057         0.001057\n",
       "avg_loss                          -0.001042        -0.001008\n",
       "best_trade                         0.011397         0.011067\n",
       "worst_trade                       -0.009447        -0.007364\n",
       "profit_factor                       1.14472         1.097186\n",
       "expectancy                         0.000069         0.000046\n",
       "kelly_criterion                    0.065021          0.04349\n",
       "consecutive_wins                         22               11\n",
       "consecutive_losses                       11               10\n",
       "avg_trade_duration          0 days 09:53:21  0 days 09:53:21\n",
       "ratio_of_longs                     0.507411         0.507411"
      ]
     },
     "execution_count": 166,
     "metadata": {},
     "output_type": "execute_result"
    }
   ],
   "source": [
    "print(f\"Bollinger_w{bb_period}_std{bb_std}: \\n\")\n",
    "\n",
    "bb_metrics_df = pd.DataFrame({\n",
    "    \"fixed_horizon\": bb_events_fh_metrics,\n",
    "    \"triple_barrier\": bb_events_tbl_metrics,\n",
    "    })\n",
    "bb_metrics_df"
   ]
  },
  {
   "cell_type": "markdown",
   "id": "d44c8eef",
   "metadata": {},
   "source": [
    "### Trend-Scanning Method"
   ]
  },
  {
   "cell_type": "code",
   "execution_count": 167,
   "id": "fd21b790",
   "metadata": {},
   "outputs": [
    {
     "name": "stdout",
     "output_type": "stream",
     "text": [
      "bb_events_trend.shape: (9708, 4), bb_events_trend_mr.shape: (9708, 4)\n",
      "\n",
      "Bollinger_w20_std1.5_trend_scanning: \n",
      "\n"
     ]
    },
    {
     "data": {
      "application/vnd.microsoft.datawrangler.viewer.v0+json": {
       "columns": [
        {
         "name": "index",
         "rawType": "object",
         "type": "string"
        },
        {
         "name": "trend_time",
         "rawType": "object",
         "type": "unknown"
        },
        {
         "name": "trend_time_mr",
         "rawType": "object",
         "type": "unknown"
        }
       ],
       "ref": "4a2905b3-b04f-4f4d-8952-c5f10db9bb61",
       "rows": [
        [
         "total_return",
         "0.9893361330032349",
         "0.46498072147369385"
        ],
        [
         "annualized_return",
         "0.18789870852331036",
         "0.10030936173993554"
        ],
        [
         "volatility",
         "0.39072235390670707",
         "0.29538783507511246"
        ],
        [
         "downside_volatility",
         "0.28388101251359216",
         "0.26337139306072566"
        ],
        [
         "sharpe_ratio",
         "13.607675497145854",
         "9.9966272263352"
        ],
        [
         "sortino_ratio",
         "18.7290546640166",
         "11.211855775692516"
        ],
        [
         "var_95",
         "-0.0022195905447006223",
         "-0.001544448733329773"
        ],
        [
         "cvar_95",
         "-0.0032582677",
         "-0.002692413"
        ],
        [
         "skewness",
         "0.15699572543033669",
         "0.3954746823299475"
        ],
        [
         "kurtosis",
         "5.306701742871187",
         "14.829726759224762"
        ],
        [
         "probabilistic_sharpe_ratio",
         "0.999999614152082",
         "0.999863391942088"
        ],
        [
         "pos_concentration",
         "0.00025533761826492",
         "0.00048621340124001136"
        ],
        [
         "neg_concentration",
         "0.00020090253134699327",
         "0.0004558890657236527"
        ],
        [
         "time_concentration",
         "0.006702912808796871",
         "0.006702912808796871"
        ],
        [
         "max_drawdown",
         "0.10391932570981233",
         "0.09734921933605833"
        ],
        [
         "avg_drawdown",
         "0.0050103808957534315",
         "0.0035262170215592963"
        ],
        [
         "drawdown_duration",
         "4 days 21:32:19",
         "6 days 05:02:56"
        ],
        [
         "ulcer_index",
         "0.010239012227376965",
         "0.009137441300399365"
        ],
        [
         "calmar_ratio",
         "1.8081209365041953",
         "1.0304074590845822"
        ],
        [
         "num_trades",
         "9708",
         "9708"
        ],
        [
         "trades_per_year",
         "2428",
         "2428"
        ],
        [
         "win_rate",
         "0.44149155335805523",
         "0.44241862381541"
        ],
        [
         "avg_win",
         "0.0011862791",
         "0.00071577786"
        ],
        [
         "avg_loss",
         "-0.001236693",
         "-0.0007658766"
        ],
        [
         "best_trade",
         "0.011528372764587402",
         "0.011528372764587402"
        ],
        [
         "worst_trade",
         "-0.009731948375701904",
         "-0.009731948375701904"
        ],
        [
         "profit_factor",
         "1.1590868",
         "1.1442556"
        ],
        [
         "expectancy",
         "-0.00016697127877404207",
         "-0.00011036507934736729"
        ],
        [
         "kelly_criterion",
         "-0.140752118687419",
         "-0.15418900149526915"
        ],
        [
         "consecutive_wins",
         "9",
         "10"
        ],
        [
         "consecutive_losses",
         "11",
         "11"
        ],
        [
         "avg_trade_duration",
         "0 days 00:21:23",
         "0 days 00:21:23"
        ],
        [
         "ratio_of_longs",
         "0.5072759765126372",
         "0.5072759765126372"
        ]
       ],
       "shape": {
        "columns": 2,
        "rows": 33
       }
      },
      "text/html": [
       "<div>\n",
       "<style scoped>\n",
       "    .dataframe tbody tr th:only-of-type {\n",
       "        vertical-align: middle;\n",
       "    }\n",
       "\n",
       "    .dataframe tbody tr th {\n",
       "        vertical-align: top;\n",
       "    }\n",
       "\n",
       "    .dataframe thead th {\n",
       "        text-align: right;\n",
       "    }\n",
       "</style>\n",
       "<table border=\"1\" class=\"dataframe\">\n",
       "  <thead>\n",
       "    <tr style=\"text-align: right;\">\n",
       "      <th></th>\n",
       "      <th>trend_time</th>\n",
       "      <th>trend_time_mr</th>\n",
       "    </tr>\n",
       "  </thead>\n",
       "  <tbody>\n",
       "    <tr>\n",
       "      <th>total_return</th>\n",
       "      <td>0.989336</td>\n",
       "      <td>0.464981</td>\n",
       "    </tr>\n",
       "    <tr>\n",
       "      <th>annualized_return</th>\n",
       "      <td>0.187899</td>\n",
       "      <td>0.100309</td>\n",
       "    </tr>\n",
       "    <tr>\n",
       "      <th>volatility</th>\n",
       "      <td>0.390722</td>\n",
       "      <td>0.295388</td>\n",
       "    </tr>\n",
       "    <tr>\n",
       "      <th>downside_volatility</th>\n",
       "      <td>0.283881</td>\n",
       "      <td>0.263371</td>\n",
       "    </tr>\n",
       "    <tr>\n",
       "      <th>sharpe_ratio</th>\n",
       "      <td>13.607675</td>\n",
       "      <td>9.996627</td>\n",
       "    </tr>\n",
       "    <tr>\n",
       "      <th>sortino_ratio</th>\n",
       "      <td>18.729055</td>\n",
       "      <td>11.211856</td>\n",
       "    </tr>\n",
       "    <tr>\n",
       "      <th>var_95</th>\n",
       "      <td>-0.00222</td>\n",
       "      <td>-0.001544</td>\n",
       "    </tr>\n",
       "    <tr>\n",
       "      <th>cvar_95</th>\n",
       "      <td>-0.003258</td>\n",
       "      <td>-0.002692</td>\n",
       "    </tr>\n",
       "    <tr>\n",
       "      <th>skewness</th>\n",
       "      <td>0.156996</td>\n",
       "      <td>0.395475</td>\n",
       "    </tr>\n",
       "    <tr>\n",
       "      <th>kurtosis</th>\n",
       "      <td>5.306702</td>\n",
       "      <td>14.829727</td>\n",
       "    </tr>\n",
       "    <tr>\n",
       "      <th>probabilistic_sharpe_ratio</th>\n",
       "      <td>1.0</td>\n",
       "      <td>0.999863</td>\n",
       "    </tr>\n",
       "    <tr>\n",
       "      <th>pos_concentration</th>\n",
       "      <td>0.000255</td>\n",
       "      <td>0.000486</td>\n",
       "    </tr>\n",
       "    <tr>\n",
       "      <th>neg_concentration</th>\n",
       "      <td>0.000201</td>\n",
       "      <td>0.000456</td>\n",
       "    </tr>\n",
       "    <tr>\n",
       "      <th>time_concentration</th>\n",
       "      <td>0.006703</td>\n",
       "      <td>0.006703</td>\n",
       "    </tr>\n",
       "    <tr>\n",
       "      <th>max_drawdown</th>\n",
       "      <td>0.103919</td>\n",
       "      <td>0.097349</td>\n",
       "    </tr>\n",
       "    <tr>\n",
       "      <th>avg_drawdown</th>\n",
       "      <td>0.00501</td>\n",
       "      <td>0.003526</td>\n",
       "    </tr>\n",
       "    <tr>\n",
       "      <th>drawdown_duration</th>\n",
       "      <td>4 days 21:32:19</td>\n",
       "      <td>6 days 05:02:56</td>\n",
       "    </tr>\n",
       "    <tr>\n",
       "      <th>ulcer_index</th>\n",
       "      <td>0.010239</td>\n",
       "      <td>0.009137</td>\n",
       "    </tr>\n",
       "    <tr>\n",
       "      <th>calmar_ratio</th>\n",
       "      <td>1.808121</td>\n",
       "      <td>1.030407</td>\n",
       "    </tr>\n",
       "    <tr>\n",
       "      <th>num_trades</th>\n",
       "      <td>9708</td>\n",
       "      <td>9708</td>\n",
       "    </tr>\n",
       "    <tr>\n",
       "      <th>trades_per_year</th>\n",
       "      <td>2428</td>\n",
       "      <td>2428</td>\n",
       "    </tr>\n",
       "    <tr>\n",
       "      <th>win_rate</th>\n",
       "      <td>0.441492</td>\n",
       "      <td>0.442419</td>\n",
       "    </tr>\n",
       "    <tr>\n",
       "      <th>avg_win</th>\n",
       "      <td>0.001186</td>\n",
       "      <td>0.000716</td>\n",
       "    </tr>\n",
       "    <tr>\n",
       "      <th>avg_loss</th>\n",
       "      <td>-0.001237</td>\n",
       "      <td>-0.000766</td>\n",
       "    </tr>\n",
       "    <tr>\n",
       "      <th>best_trade</th>\n",
       "      <td>0.011528</td>\n",
       "      <td>0.011528</td>\n",
       "    </tr>\n",
       "    <tr>\n",
       "      <th>worst_trade</th>\n",
       "      <td>-0.009732</td>\n",
       "      <td>-0.009732</td>\n",
       "    </tr>\n",
       "    <tr>\n",
       "      <th>profit_factor</th>\n",
       "      <td>1.159087</td>\n",
       "      <td>1.144256</td>\n",
       "    </tr>\n",
       "    <tr>\n",
       "      <th>expectancy</th>\n",
       "      <td>-0.000167</td>\n",
       "      <td>-0.00011</td>\n",
       "    </tr>\n",
       "    <tr>\n",
       "      <th>kelly_criterion</th>\n",
       "      <td>-0.140752</td>\n",
       "      <td>-0.154189</td>\n",
       "    </tr>\n",
       "    <tr>\n",
       "      <th>consecutive_wins</th>\n",
       "      <td>9</td>\n",
       "      <td>10</td>\n",
       "    </tr>\n",
       "    <tr>\n",
       "      <th>consecutive_losses</th>\n",
       "      <td>11</td>\n",
       "      <td>11</td>\n",
       "    </tr>\n",
       "    <tr>\n",
       "      <th>avg_trade_duration</th>\n",
       "      <td>0 days 00:21:23</td>\n",
       "      <td>0 days 00:21:23</td>\n",
       "    </tr>\n",
       "    <tr>\n",
       "      <th>ratio_of_longs</th>\n",
       "      <td>0.507276</td>\n",
       "      <td>0.507276</td>\n",
       "    </tr>\n",
       "  </tbody>\n",
       "</table>\n",
       "</div>"
      ],
      "text/plain": [
       "                                 trend_time    trend_time_mr\n",
       "total_return                       0.989336         0.464981\n",
       "annualized_return                  0.187899         0.100309\n",
       "volatility                         0.390722         0.295388\n",
       "downside_volatility                0.283881         0.263371\n",
       "sharpe_ratio                      13.607675         9.996627\n",
       "sortino_ratio                     18.729055        11.211856\n",
       "var_95                             -0.00222        -0.001544\n",
       "cvar_95                           -0.003258        -0.002692\n",
       "skewness                           0.156996         0.395475\n",
       "kurtosis                           5.306702        14.829727\n",
       "probabilistic_sharpe_ratio              1.0         0.999863\n",
       "pos_concentration                  0.000255         0.000486\n",
       "neg_concentration                  0.000201         0.000456\n",
       "time_concentration                 0.006703         0.006703\n",
       "max_drawdown                       0.103919         0.097349\n",
       "avg_drawdown                        0.00501         0.003526\n",
       "drawdown_duration           4 days 21:32:19  6 days 05:02:56\n",
       "ulcer_index                        0.010239         0.009137\n",
       "calmar_ratio                       1.808121         1.030407\n",
       "num_trades                             9708             9708\n",
       "trades_per_year                        2428             2428\n",
       "win_rate                           0.441492         0.442419\n",
       "avg_win                            0.001186         0.000716\n",
       "avg_loss                          -0.001237        -0.000766\n",
       "best_trade                         0.011528         0.011528\n",
       "worst_trade                       -0.009732        -0.009732\n",
       "profit_factor                      1.159087         1.144256\n",
       "expectancy                        -0.000167         -0.00011\n",
       "kelly_criterion                   -0.140752        -0.154189\n",
       "consecutive_wins                          9               10\n",
       "consecutive_losses                       11               11\n",
       "avg_trade_duration          0 days 00:21:23  0 days 00:21:23\n",
       "ratio_of_longs                     0.507276         0.507276"
      ]
     },
     "execution_count": 167,
     "metadata": {},
     "output_type": "execute_result"
    }
   ],
   "source": [
    "from afml.filters.filters import cusum_filter\n",
    "from afml.labeling.trend_scanning import get_trend_scanning_meta_labels\n",
    "from afml.util.volatility import get_daily_vol\n",
    "\n",
    "\n",
    "span = (5, 21)\n",
    "volatility_threshold = 0.1\n",
    "volatility_threshold_mr = 0.85\n",
    "\n",
    "thres = get_daily_vol(bb_df.close).mean()\n",
    "t_events = cusum_filter(bb_df.close, thres)\n",
    "side = bb_strategy.generate_signals(bb_df)\n",
    "close = bb_df.close\n",
    "\n",
    "\n",
    "bb_events_trend = get_trend_scanning_meta_labels(close, side, t_events, span, volatility_threshold)\n",
    "bb_events_trend_metrics = calculate_label_metrics(bb_df.index, side, bb_events_trend)\n",
    "\n",
    "# bb_events_trend_mr = get_bins_from_trend(close, span, volatility_threshold_mr)\n",
    "# bb_events_trend_mr = trend_meta_labels(bb_events_trend_mr, side, t_events, mean_reversion=True)\n",
    "bb_events_trend_mr = get_trend_scanning_meta_labels(close, side, t_events, span, volatility_threshold_mr)\n",
    "bb_events_trend_metrics_mr = calculate_label_metrics(bb_df.index, side, bb_events_trend_mr)\n",
    "\n",
    "print(f\"bb_events_trend.shape: {bb_events_trend.shape}, bb_events_trend_mr.shape: {bb_events_trend_mr.shape}\\n\")\n",
    "print(f\"Bollinger_w{bb_period}_std{bb_std}_trend_scanning: \\n\")\n",
    "bb_events_trend_metrics_all = pd.concat([bb_events_trend_metrics, bb_events_trend_metrics_mr], axis=1)\n",
    "bb_events_trend_metrics_all.columns = [\"trend_time\", \"trend_time_mr\"]\n",
    "bb_events_trend_metrics_all"
   ]
  },
  {
   "cell_type": "markdown",
   "id": "675591d3",
   "metadata": {},
   "source": [
    "### Random Forest"
   ]
  },
  {
   "cell_type": "code",
   "execution_count": 192,
   "id": "10075d44",
   "metadata": {},
   "outputs": [],
   "source": [
    "random_state = 40\n",
    "min_w_leaf = 0.05\n",
    "\n",
    "rf = RandomForestClassifier(\n",
    "    criterion='entropy',\n",
    "    n_estimators=1000,\n",
    "    class_weight='balanced_subsample',\n",
    "    random_state=random_state,\n",
    "    min_weight_fraction_leaf=min_w_leaf,\n",
    "    n_jobs=-1,  # Use all available cores\n",
    "    )\n",
    "\n"
   ]
  },
  {
   "cell_type": "code",
   "execution_count": 193,
   "id": "189b77de",
   "metadata": {},
   "outputs": [
    {
     "name": "stdout",
     "output_type": "stream",
     "text": [
      "Fixed-Time Horizon Meta-Model Results:\n",
      "\n",
      "Primary-Model on Validation Set:\n",
      "              precision    recall  f1-score   support\n",
      "\n",
      "           0       0.00      0.00      0.00      1146\n",
      "           1       0.51      1.00      0.68      1201\n",
      "\n",
      "    accuracy                           0.51      2347\n",
      "   macro avg       0.26      0.50      0.34      2347\n",
      "weighted avg       0.26      0.51      0.35      2347\n",
      "\n",
      "\n",
      "Confusion Matrix:\n",
      "[[   0 1146]\n",
      " [   0 1201]]\n",
      "\n",
      "Meta-Model on Validation Set:\n",
      "              precision    recall  f1-score   support\n",
      "\n",
      "           0       0.48      0.57      0.52      1146\n",
      "           1       0.50      0.41      0.45      1201\n",
      "\n",
      "    accuracy                           0.49      2347\n",
      "   macro avg       0.49      0.49      0.49      2347\n",
      "weighted avg       0.49      0.49      0.49      2347\n",
      "\n",
      "\n",
      "Confusion Matrix:\n",
      "[[657 489]\n",
      " [707 494]]\n"
     ]
    },
    {
     "data": {
      "image/png": "[encoded data removed]",
      "text/plain": [
       "<Figure size 750x500 with 1 Axes>"
      ]
     },
     "metadata": {},
     "output_type": "display_data"
    }
   ],
   "source": [
    "model_bb_fh = train_meta_model(model=rf, features=bb_feat.reindex(bb_events_fh.index), labels=bb_events_fh)\n",
    "print(\"Fixed-Time Horizon Meta-Model Results:\\n\")\n",
    "meta_labelling_reports(\n",
    "    model_bb_fh.y_test, model_bb_fh.w_test, model_bb_fh.pred, model_bb_fh.prob, plot_roc=True\n",
    "    )"
   ]
  },
  {
   "cell_type": "code",
   "execution_count": 194,
   "id": "cf3a3ab8",
   "metadata": {},
   "outputs": [
    {
     "name": "stdout",
     "output_type": "stream",
     "text": [
      "Triple Barrier Meta-Model Results:\n",
      "\n",
      "Primary-Model on Validation Set:\n",
      "              precision    recall  f1-score   support\n",
      "\n",
      "           0       0.00      0.00      0.00      2186\n",
      "           1       0.07      1.00      0.13       161\n",
      "\n",
      "    accuracy                           0.07      2347\n",
      "   macro avg       0.03      0.50      0.06      2347\n",
      "weighted avg       0.00      0.07      0.01      2347\n",
      "\n",
      "\n",
      "Confusion Matrix:\n",
      "[[   0 2186]\n",
      " [   0  161]]\n",
      "\n",
      "Meta-Model on Validation Set:\n",
      "              precision    recall  f1-score   support\n",
      "\n",
      "           0       0.96      0.70      0.81      2186\n",
      "           1       0.14      0.65      0.23       161\n",
      "\n",
      "    accuracy                           0.70      2347\n",
      "   macro avg       0.55      0.68      0.52      2347\n",
      "weighted avg       0.91      0.70      0.77      2347\n",
      "\n",
      "\n",
      "Confusion Matrix:\n",
      "[[1533  653]\n",
      " [  56  105]]\n"
     ]
    },
    {
     "data": {
      "image/png": "[encoded data removed]",
      "text/plain": [
       "<Figure size 750x500 with 1 Axes>"
      ]
     },
     "metadata": {},
     "output_type": "display_data"
    }
   ],
   "source": [
    "model_bb_tbl = train_meta_model(model=rf, features=bb_feat.reindex(bb_events_tbl.index), labels=bb_events_tbl)\n",
    "print(\"Triple Barrier Meta-Model Results:\\n\")\n",
    "meta_labelling_reports(\n",
    "    model_bb_tbl.y_test, model_bb_tbl.w_test, model_bb_tbl.pred, model_bb_tbl.prob, plot_roc=True\n",
    "    )"
   ]
  },
  {
   "cell_type": "code",
   "execution_count": 195,
   "id": "4a6b990e",
   "metadata": {},
   "outputs": [
    {
     "name": "stdout",
     "output_type": "stream",
     "text": [
      "Trend-Scanning Meta-Model Results:\n",
      "\n",
      "Primary-Model on Validation Set:\n",
      "              precision    recall  f1-score   support\n",
      "\n",
      "           0       0.00      0.00      0.00      1584\n",
      "           1       0.46      1.00      0.63      1325\n",
      "\n",
      "    accuracy                           0.46      2909\n",
      "   macro avg       0.23      0.50      0.31      2909\n",
      "weighted avg       0.21      0.46      0.29      2909\n",
      "\n",
      "\n",
      "Confusion Matrix:\n",
      "[[   0 1584]\n",
      " [   0 1325]]\n",
      "\n",
      "Meta-Model on Validation Set:\n",
      "              precision    recall  f1-score   support\n",
      "\n",
      "           0       0.80      0.36      0.50      1584\n",
      "           1       0.54      0.89      0.67      1325\n",
      "\n",
      "    accuracy                           0.60      2909\n",
      "   macro avg       0.67      0.63      0.58      2909\n",
      "weighted avg       0.68      0.60      0.58      2909\n",
      "\n",
      "\n",
      "Confusion Matrix:\n",
      "[[ 568 1016]\n",
      " [ 142 1183]]\n"
     ]
    },
    {
     "data": {
      "image/png": "[encoded data removed]",
      "text/plain": [
       "<Figure size 750x500 with 1 Axes>"
      ]
     },
     "metadata": {},
     "output_type": "display_data"
    }
   ],
   "source": [
    "model_bb_trend = train_meta_model(model=rf, features=bb_feat.reindex(bb_events_trend.index), labels=bb_events_trend)\n",
    "print(\"Trend-Scanning Meta-Model Results:\\n\")\n",
    "meta_labelling_reports(\n",
    "    model_bb_trend.y_test, model_bb_trend.w_test, model_bb_trend.pred, model_bb_trend.prob, plot_roc=True\n",
    "    )"
   ]
  },
  {
   "cell_type": "code",
   "execution_count": 196,
   "id": "3ee79980",
   "metadata": {},
   "outputs": [
    {
     "name": "stdout",
     "output_type": "stream",
     "text": [
      "Trend-Scanning Mean-Reversion Meta-Model Results:\n",
      "\n",
      "Primary-Model on Validation Set:\n",
      "              precision    recall  f1-score   support\n",
      "\n",
      "           0       0.00      0.00      0.00      2688\n",
      "           1       0.08      1.00      0.14       221\n",
      "\n",
      "    accuracy                           0.08      2909\n",
      "   macro avg       0.04      0.50      0.07      2909\n",
      "weighted avg       0.01      0.08      0.01      2909\n",
      "\n",
      "\n",
      "Confusion Matrix:\n",
      "[[   0 2688]\n",
      " [   0  221]]\n",
      "\n",
      "Meta-Model on Validation Set:\n",
      "              precision    recall  f1-score   support\n",
      "\n",
      "           0       0.98      0.90      0.94      2688\n",
      "           1       0.41      0.83      0.55       221\n",
      "\n",
      "    accuracy                           0.90      2909\n",
      "   macro avg       0.70      0.87      0.75      2909\n",
      "weighted avg       0.94      0.90      0.91      2909\n",
      "\n",
      "\n",
      "Confusion Matrix:\n",
      "[[2427  261]\n",
      " [  38  183]]\n"
     ]
    },
    {
     "data": {
      "image/png": "[encoded data removed]",
      "text/plain": [
       "<Figure size 750x500 with 1 Axes>"
      ]
     },
     "metadata": {},
     "output_type": "display_data"
    }
   ],
   "source": [
    "model_bb_trend_mr = train_meta_model(model=rf, features=bb_feat.reindex(bb_events_trend_mr.index), labels=bb_events_trend_mr)\n",
    "print(\"Trend-Scanning Mean-Reversion Meta-Model Results:\\n\")\n",
    "meta_labelling_reports(\n",
    "    model_bb_trend_mr.y_test, model_bb_trend_mr.w_test, model_bb_trend_mr.pred, model_bb_trend_mr.prob, plot_roc=True\n",
    "    )"
   ]
  },
  {
   "cell_type": "code",
   "execution_count": 197,
   "id": "551e2d6c",
   "metadata": {},
   "outputs": [
    {
     "data": {
      "image/png": "[encoded data removed]",
      "text/plain": [
       "<Figure size 750x500 with 4 Axes>"
      ]
     },
     "metadata": {},
     "output_type": "display_data"
    }
   ],
   "source": [
    "titles = [\"Fixed-Time Horizon\", \"Triple Barrier\", \"Trend-Scanning\", \"Trend-Scanning Mean-Reversion\"]\n",
    "bb_models = [model_bb_fh, model_bb_tbl, model_bb_trend, model_bb_trend_mr]\n",
    "bb_roc = compare_roc_curves(bb_models, titles)\n",
    "bb_roc.savefig(\"reports/bollinger_roc_comparison.png\")"
   ]
  },
  {
   "cell_type": "code",
   "execution_count": 174,
   "id": "a5662f90",
   "metadata": {},
   "outputs": [
    {
     "name": "stdout",
     "output_type": "stream",
     "text": [
      "Classification Report (as text):\n",
      "              precision    recall  f1-score   support\n",
      "\n",
      "           0       0.00      0.00      0.00      1146\n",
      "           1       0.51      1.00      0.68      1201\n",
      "\n",
      "    accuracy                           0.51      2347\n",
      "   macro avg       0.26      0.50      0.34      2347\n",
      "weighted avg       0.26      0.51      0.35      2347\n",
      "\n",
      "\n",
      "Confusion Matrix:\n",
      "[[   0 1146]\n",
      " [   0 1201]]\n",
      "\n",
      "Accuracy:\n",
      "0.5117170856412442\n",
      "\n",
      "Successfully generated and saved 'bb_fixed_time_primary_clf_report.png'\n",
      "Classification Report (as text):\n",
      "              precision    recall  f1-score   support\n",
      "\n",
      "           0       0.48      0.57      0.52      1146\n",
      "           1       0.50      0.41      0.45      1201\n",
      "\n",
      "    accuracy                           0.49      2347\n",
      "   macro avg       0.49      0.49      0.49      2347\n",
      "weighted avg       0.49      0.49      0.49      2347\n",
      "\n",
      "\n",
      "Confusion Matrix:\n",
      "[[657 489]\n",
      " [707 494]]\n",
      "\n",
      "Accuracy:\n",
      "0.4904132935662548\n",
      "\n",
      "Successfully generated and saved 'bb_fixed_time_meta_clf_report.png'\n",
      "Classification reports saved.\n",
      "\n",
      "Classification Report (as text):\n",
      "              precision    recall  f1-score   support\n",
      "\n",
      "           0       0.00      0.00      0.00      1146\n",
      "           1       0.51      1.00      0.68      1201\n",
      "\n",
      "    accuracy                           0.51      2347\n",
      "   macro avg       0.26      0.50      0.34      2347\n",
      "weighted avg       0.26      0.51      0.35      2347\n",
      "\n",
      "\n",
      "Confusion Matrix:\n",
      "[[   0 1146]\n",
      " [   0 1201]]\n",
      "\n",
      "Accuracy:\n",
      "0.5117170856412442\n",
      "\n",
      "Successfully generated and saved 'bb_triple_barrier_primary_clf_report.png'\n",
      "Classification Report (as text):\n",
      "              precision    recall  f1-score   support\n",
      "\n",
      "           0       0.48      0.57      0.52      1146\n",
      "           1       0.50      0.41      0.45      1201\n",
      "\n",
      "    accuracy                           0.49      2347\n",
      "   macro avg       0.49      0.49      0.49      2347\n",
      "weighted avg       0.49      0.49      0.49      2347\n",
      "\n",
      "\n",
      "Confusion Matrix:\n",
      "[[657 489]\n",
      " [707 494]]\n",
      "\n",
      "Accuracy:\n",
      "0.4904132935662548\n",
      "\n",
      "Successfully generated and saved 'bb_triple_barrier_meta_clf_report.png'\n",
      "Classification reports saved.\n",
      "\n",
      "Classification Report (as text):\n",
      "              precision    recall  f1-score   support\n",
      "\n",
      "           0       0.00      0.00      0.00      1146\n",
      "           1       0.51      1.00      0.68      1201\n",
      "\n",
      "    accuracy                           0.51      2347\n",
      "   macro avg       0.26      0.50      0.34      2347\n",
      "weighted avg       0.26      0.51      0.35      2347\n",
      "\n",
      "\n",
      "Confusion Matrix:\n",
      "[[   0 1146]\n",
      " [   0 1201]]\n",
      "\n",
      "Accuracy:\n",
      "0.5117170856412442\n",
      "\n",
      "Successfully generated and saved 'bb_trend_scanning_primary_clf_report.png'\n",
      "Classification Report (as text):\n",
      "              precision    recall  f1-score   support\n",
      "\n",
      "           0       0.48      0.57      0.52      1146\n",
      "           1       0.50      0.41      0.45      1201\n",
      "\n",
      "    accuracy                           0.49      2347\n",
      "   macro avg       0.49      0.49      0.49      2347\n",
      "weighted avg       0.49      0.49      0.49      2347\n",
      "\n",
      "\n",
      "Confusion Matrix:\n",
      "[[657 489]\n",
      " [707 494]]\n",
      "\n",
      "Accuracy:\n",
      "0.4904132935662548\n",
      "\n",
      "Successfully generated and saved 'bb_trend_scanning_meta_clf_report.png'\n",
      "Classification reports saved.\n",
      "\n",
      "Classification Report (as text):\n",
      "              precision    recall  f1-score   support\n",
      "\n",
      "           0       0.00      0.00      0.00      1146\n",
      "           1       0.51      1.00      0.68      1201\n",
      "\n",
      "    accuracy                           0.51      2347\n",
      "   macro avg       0.26      0.50      0.34      2347\n",
      "weighted avg       0.26      0.51      0.35      2347\n",
      "\n",
      "\n",
      "Confusion Matrix:\n",
      "[[   0 1146]\n",
      " [   0 1201]]\n",
      "\n",
      "Accuracy:\n",
      "0.5117170856412442\n",
      "\n",
      "Successfully generated and saved 'bb_trend_scanning_mr_primary_clf_report.png'\n",
      "Classification Report (as text):\n",
      "              precision    recall  f1-score   support\n",
      "\n",
      "           0       0.48      0.57      0.52      1146\n",
      "           1       0.50      0.41      0.45      1201\n",
      "\n",
      "    accuracy                           0.49      2347\n",
      "   macro avg       0.49      0.49      0.49      2347\n",
      "weighted avg       0.49      0.49      0.49      2347\n",
      "\n",
      "\n",
      "Confusion Matrix:\n",
      "[[657 489]\n",
      " [707 494]]\n",
      "\n",
      "Accuracy:\n",
      "0.4904132935662548\n",
      "\n",
      "Successfully generated and saved 'bb_trend_scanning_mr_meta_clf_report.png'\n",
      "Classification reports saved.\n",
      "\n"
     ]
    }
   ],
   "source": [
    "meta_labelling_classification_reports(model_data=model_bb_fh, title=\"Fixed-Time Horizon\", output_filename=\"bb_fixed_time\")\n",
    "meta_labelling_classification_reports(model_data=model_bb_fh, title=\"Triple Barrier\", output_filename=\"bb_triple_barrier\")\n",
    "meta_labelling_classification_reports(model_data=model_bb_fh, title=\"Trend-Scanning\", output_filename=\"bb_trend_scanning\")\n",
    "meta_labelling_classification_reports(model_data=model_bb_fh, title=\"Trend-Scanning (Mean-Reversion)\", output_filename=\"bb_trend_scanning_mr\")"
   ]
  },
  {
   "cell_type": "markdown",
   "id": "36ec20ef",
   "metadata": {},
   "source": [
    "## 3. Moving Average Crossover Strategy"
   ]
  },
  {
   "cell_type": "code",
   "execution_count": 252,
   "id": "7f163b16",
   "metadata": {},
   "outputs": [
    {
     "name": "stdout",
     "output_type": "stream",
     "text": [
      "Loaded EURUSD_M30_tick-1000_2018-01-01-2024-12-31.parq\n",
      "Loaded EURUSD_M30_time_2018-01-01-2024-12-31.parq\n",
      "\u001b[32m2025-08-30 20:38:47.522\u001b[0m | \u001b[1mINFO    \u001b[0m | \u001b[36mafml.strategies.genetic_optimizer\u001b[0m:\u001b[36m__init__\u001b[0m:\u001b[36m147\u001b[0m - \u001b[1mGenerating primary signals...\u001b[0m\n",
      "\u001b[32m2025-08-30 20:38:47.607\u001b[0m | \u001b[1mINFO    \u001b[0m | \u001b[36mafml.strategies.strategies\u001b[0m:\u001b[36mget_entries\u001b[0m:\u001b[36m76\u001b[0m - \u001b[1mGenerated 5,988 trade events generated by CUSUM filter.\u001b[0m\n"
     ]
    }
   ],
   "source": [
    "ma_timeframe = \"M30\"\n",
    "tick_bar_size = tick_bar_dict[ma_timeframe]\n",
    "ma_time_bars, ma_tick_bars = get_data(symbol, ma_timeframe)\n",
    "bar_size = f\"tick-{ma_tick_bars.tick_volume.iloc[0]}\"\n",
    "ma_df = ma_time_bars.loc[sample_start : sample_end]\n",
    "ma_df0 = ma_tick_bars.loc[sample_start : sample_end]\n",
    "\n",
    "fast_window, slow_window = 20, 50\n",
    "ma_strategy = MovingAverageCrossoverStrategy(fast_window, slow_window)\n",
    "pt_barrier, sl_barrier, time_horizon = (4, 2, 200)\n",
    "target_vol_params = dict(days=1, lookback=100)\n",
    "vol_multiplier = 0.5\n",
    "tb_evaluator = TripleBarrierEvaluator(\n",
    "    ma_strategy, ma_df, target_vol_params,\n",
    "    target_vol_multiplier=vol_multiplier,\n",
    "    filter_events=True,\n",
    "    vertical_barrier_zero=False,\n",
    "    )"
   ]
  },
  {
   "cell_type": "markdown",
   "id": "de5f7545",
   "metadata": {},
   "source": [
    "### Feature Engineering"
   ]
  },
  {
   "cell_type": "code",
   "execution_count": 253,
   "id": "de45d939",
   "metadata": {},
   "outputs": [],
   "source": [
    "from afml.features.fracdiff import fracdiff_optimal, frac_diff_ffd\n",
    "\n",
    "\n",
    "close_ffd, d, _ = fracdiff_optimal(ma_df.close, verbose=True)\n",
    "ma_df_ffd = frac_diff_ffd(ma_df, d)"
   ]
  },
  {
   "cell_type": "code",
   "execution_count": 254,
   "id": "9804e688",
   "metadata": {},
   "outputs": [
    {
     "name": "stdout",
     "output_type": "stream",
     "text": [
      "\u001b[32m2025-08-30 20:38:50.637\u001b[0m | \u001b[1mINFO    \u001b[0m | \u001b[36mafml.features.moving_averages\u001b[0m:\u001b[36mcalculate_ma_differences\u001b[0m:\u001b[36m35\u001b[0m - \u001b[1m\n",
      "Dropped features with correlation > 0.8: \n",
      "\t['sma_diff_10_200', 'sma_diff_10_50', 'sma_diff_20_100', 'sma_diff_20_200', 'sma_diff_20_50', 'sma_diff_50_100', 'sma_diff_50_200', 'sma_diff_5_100', 'sma_diff_5_20', 'sma_diff_5_200', 'sma_diff_5_50']\n",
      "Kept features: \n",
      "\t['sma_diff_5_10', 'sma_diff_10_20', 'sma_diff_10_100', 'sma_diff_100_200']\u001b[0m\n",
      "Memory usage reduced from 22.56 MB to 16.17 MB (28.3% reduction)\n",
      "Memory usage reduced from 22.75 MB to 16.17 MB (28.9% reduction)\n",
      "<class 'pandas.core.frame.DataFrame'>\n",
      "DatetimeIndex: 49280 entries, 2018-01-01 23:30:00 to 2021-12-31 23:00:00\n",
      "Data columns (total 84 columns):\n",
      " #   Column                   Non-Null Count  Dtype  \n",
      "---  ------                   --------------  -----  \n",
      " 0   close                    49279 non-null  float32\n",
      " 1   trend_window             49231 non-null  float32\n",
      " 2   trend_slope              49231 non-null  float32\n",
      " 3   trend_t_value            49231 non-null  float32\n",
      " 4   trend_rsquared           49231 non-null  float32\n",
      " 5   minute_sin_h1            49279 non-null  float32\n",
      " 6   minute_cos_h1            49279 non-null  float32\n",
      " 7   dayofweek_sin            49279 non-null  float32\n",
      " 8   dayofweek_cos            49279 non-null  float32\n",
      " 9   dayofyear_sin            49279 non-null  float32\n",
      " 10  dayofyear_cos            49279 non-null  float32\n",
      " 11  sydney_hour_sin_h1       49279 non-null  float32\n",
      " 12  sydney_hour_cos_h1       49279 non-null  float32\n",
      " 13  tokyo_hour_sin_h1        49279 non-null  float32\n",
      " 14  tokyo_hour_cos_h1        49279 non-null  float32\n",
      " 15  london_hour_sin_h1       49279 non-null  float32\n",
      " 16  london_hour_cos_h1       49279 non-null  float32\n",
      " 17  new_york_hour_sin_h1     49279 non-null  float32\n",
      " 18  new_york_hour_cos_h1     49279 non-null  float32\n",
      " 19  fractal_high_strength    49279 non-null  float32\n",
      " 20  fractal_low_strength     49279 non-null  float32\n",
      " 21  valid_fractal_high       49279 non-null  float32\n",
      " 22  valid_fractal_low        49279 non-null  float32\n",
      " 23  fractal_breakout_up      49279 non-null  float32\n",
      " 24  fractal_breakout_down    49279 non-null  float32\n",
      " 25  resistance_level         49104 non-null  float32\n",
      " 26  support_level            49189 non-null  float32\n",
      " 27  distance_to_resistance   49104 non-null  float32\n",
      " 28  distance_to_support      49189 non-null  float32\n",
      " 29  fractal_trend_strength   49260 non-null  float32\n",
      " 30  fractal_trend_direction  49260 non-null  float32\n",
      " 31  fractal_ma_ratio         49260 non-null  float32\n",
      " 32  fractal_buy_signal       49279 non-null  float32\n",
      " 33  fractal_sell_signal      49279 non-null  float32\n",
      " 34  signal_strength          49279 non-null  float32\n",
      " 35  rel_spread               49279 non-null  float32\n",
      " 36  bb_bandwidth             49260 non-null  float32\n",
      " 37  bb_percentage            49260 non-null  float64\n",
      " 38  returns                  49279 non-null  float32\n",
      " 39  returns_5                49275 non-null  float32\n",
      " 40  returns_10               49270 non-null  float32\n",
      " 41  returns_1_lag_1          49278 non-null  float32\n",
      " 42  returns_5_lag_1          49270 non-null  float32\n",
      " 43  returns_10_lag_1         49260 non-null  float32\n",
      " 44  returns_1_lag_2          49277 non-null  float32\n",
      " 45  returns_5_lag_2          49265 non-null  float32\n",
      " 46  returns_10_lag_2         49250 non-null  float32\n",
      " 47  returns_1_lag_3          49276 non-null  float32\n",
      " 48  returns_5_lag_3          49260 non-null  float32\n",
      " 49  returns_10_lag_3         49240 non-null  float32\n",
      " 50  vol                      49274 non-null  float32\n",
      " 51  vol_20                   49259 non-null  float32\n",
      " 52  vol_lag_1                49273 non-null  float32\n",
      " 53  vol_lag_2                49272 non-null  float32\n",
      " 54  vol_lag_3                49271 non-null  float32\n",
      " 55  vol_lag_4                49270 non-null  float32\n",
      " 56  vol_lag_5                49269 non-null  float32\n",
      " 57  autocorr                 49259 non-null  float32\n",
      " 58  autocorr_1               49258 non-null  float32\n",
      " 59  autocorr_2               49257 non-null  float32\n",
      " 60  autocorr_3               49256 non-null  float32\n",
      " 61  autocorr_4               49255 non-null  float32\n",
      " 62  autocorr_5               49254 non-null  float32\n",
      " 63  H1_vol                   49275 non-null  float32\n",
      " 64  H4_vol                   49269 non-null  float32\n",
      " 65  D1_vol                   49229 non-null  float32\n",
      " 66  returns_skew             49259 non-null  float32\n",
      " 67  returns_kurt             49259 non-null  float32\n",
      " 68  tr                       49278 non-null  float32\n",
      " 69  atr                      49265 non-null  float32\n",
      " 70  sma_diff_5_10            49265 non-null  float32\n",
      " 71  sma_diff_10_20           49260 non-null  float32\n",
      " 72  sma_diff_10_100          49180 non-null  float32\n",
      " 73  sma_diff_100_200         49080 non-null  float32\n",
      " 74  rsi                      49265 non-null  float32\n",
      " 75  stoch_rsi_k              49250 non-null  float32\n",
      " 76  stoch_rsi_d              49248 non-null  float32\n",
      " 77  adx                      49252 non-null  float32\n",
      " 78  dmp                      49265 non-null  float32\n",
      " 79  dmn                      49265 non-null  float32\n",
      " 80  dm_net                   49265 non-null  float32\n",
      " 81  macd                     49246 non-null  float32\n",
      " 82  macd_hist                49246 non-null  float32\n",
      " 83  side                     49280 non-null  int8   \n",
      "dtypes: float32(82), float64(1), int8(1)\n",
      "memory usage: 16.2 MB\n"
     ]
    }
   ],
   "source": [
    "bb_feat = create_bollinger_features(ma_df, lookback_window=fast_window, bb_period=20, bb_std=2)\n",
    "span = (5, slow_window)\n",
    "\n",
    "trend_feat = get_bins_from_trend(ma_df.close, span, volatility_threshold=0.1, lookforward=False)\n",
    "trend_feat_cols = {k: f\"trend_{k}\" for k in ['window', 'slope', 't_value', 'rsquared']}\n",
    "trend_feat.rename(columns=trend_feat_cols, inplace=True)\n",
    "trend_feat = trend_feat[trend_feat_cols.values()]\n",
    "\n",
    "trend_feat_ffd = get_bins_from_trend(close_ffd, span, volatility_threshold=0.1, lookforward=False, use_log=False)\n",
    "trend_feat_ffd.rename(columns=trend_feat_cols, inplace=True)\n",
    "trend_feat_ffd = trend_feat_ffd[trend_feat_cols.values()]\n",
    "\n",
    "time_feat = get_time_features(ma_df, ma_timeframe, n_terms=1)\n",
    "\n",
    "vol_series = ma_df.ta.atr(14)\n",
    "fractal_feat = get_fractal_features(ma_df, vol_series, ma_period=fast_window)\n",
    "\n",
    "ma_feat = pd.concat([np.log(close), trend_feat, time_feat, fractal_feat], axis=1).shift(1)\n",
    "ma_feat = ma_feat.join(bb_feat)\n",
    "ma_feat = optimize_dtypes(ma_feat)\n",
    "\n",
    "ma_feat_ffd = pd.concat([close_ffd, trend_feat_ffd, time_feat, fractal_feat], axis=1).shift(1)\n",
    "ma_feat_ffd = ma_feat_ffd.join(bb_feat)\n",
    "ma_feat_ffd = optimize_dtypes(ma_feat_ffd)\n",
    "\n",
    "# feat_engine = ForexFeatureEngine(pair_name=symbol)\n",
    "# ma_feat = feat_engine.calculate_all_features(ma_df)\n",
    "\n",
    "ma_feat[\"side\"] = ma_strategy.generate_signals(ma_df)\n",
    "ma_feat_ffd[\"side\"] = ma_feat[\"side\"]\n",
    "ma_feat.info()"
   ]
  },
  {
   "cell_type": "markdown",
   "id": "a64829d0",
   "metadata": {},
   "source": [
    "### Fixed-Time Horizon Method"
   ]
  },
  {
   "cell_type": "code",
   "execution_count": 255,
   "id": "d2f03181",
   "metadata": {},
   "outputs": [
    {
     "data": {
      "application/vnd.microsoft.datawrangler.viewer.v0+json": {
       "columns": [
        {
         "name": "index",
         "rawType": "object",
         "type": "string"
        },
        {
         "name": "trade_metrics",
         "rawType": "object",
         "type": "unknown"
        }
       ],
       "ref": "34b54d2a-63cb-406c-ba6f-4590670811bf",
       "rows": [
        [
         "total_return",
         "0.8989582061767578"
        ],
        [
         "annualized_return",
         "0.1742812348899585"
        ],
        [
         "volatility",
         "1.1021495718518448"
        ],
        [
         "downside_volatility",
         "0.720549035342409"
        ],
        [
         "sharpe_ratio",
         "1.753297971279017"
        ],
        [
         "sortino_ratio",
         "2.68183914430694"
        ],
        [
         "var_95",
         "-0.015042436122894288"
        ],
        [
         "cvar_95",
         "-0.021588562"
        ],
        [
         "skewness",
         "0.005452997208068374"
        ],
        [
         "kurtosis",
         "2.034684418049448"
        ],
        [
         "probabilistic_sharpe_ratio",
         "0.8887047989635111"
        ],
        [
         "pos_concentration",
         "0.00026523007526472943"
        ],
        [
         "neg_concentration",
         "0.0002620107947689109"
        ],
        [
         "time_concentration",
         "0.003804640395530139"
        ],
        [
         "max_drawdown",
         "0.6301011700710774"
        ],
        [
         "avg_drawdown",
         "0.3107865109909642"
        ],
        [
         "drawdown_duration",
         "111 days 21:30:00"
        ],
        [
         "ulcer_index",
         "0.38829426381998505"
        ],
        [
         "calmar_ratio",
         "0.2765924635091521"
        ],
        [
         "num_trades",
         "5965"
        ],
        [
         "trades_per_year",
         "1493"
        ],
        [
         "win_rate",
         "0.509639564124057"
        ],
        [
         "avg_win",
         "0.0074412115"
        ],
        [
         "avg_loss",
         "-0.007416561"
        ],
        [
         "best_trade",
         "0.04209315776824951"
        ],
        [
         "worst_trade",
         "-0.046008944511413574"
        ],
        [
         "profit_factor",
         "1.0431273"
        ],
        [
         "expectancy",
         "0.00015554780434045776"
        ],
        [
         "kelly_criterion",
         "0.02090358567313233"
        ],
        [
         "consecutive_wins",
         "45"
        ],
        [
         "consecutive_losses",
         "43"
        ],
        [
         "avg_trade_duration",
         "0 days 00:37:04"
        ],
        [
         "ratio_of_longs",
         "0.5032690695725063"
        ]
       ],
       "shape": {
        "columns": 1,
        "rows": 33
       }
      },
      "text/plain": [
       "total_return                           0.898958\n",
       "annualized_return                      0.174281\n",
       "volatility                              1.10215\n",
       "downside_volatility                    0.720549\n",
       "sharpe_ratio                           1.753298\n",
       "sortino_ratio                          2.681839\n",
       "var_95                                -0.015042\n",
       "cvar_95                               -0.021589\n",
       "skewness                               0.005453\n",
       "kurtosis                               2.034684\n",
       "probabilistic_sharpe_ratio             0.888705\n",
       "pos_concentration                      0.000265\n",
       "neg_concentration                      0.000262\n",
       "time_concentration                     0.003805\n",
       "max_drawdown                           0.630101\n",
       "avg_drawdown                           0.310787\n",
       "drawdown_duration             111 days 21:30:00\n",
       "ulcer_index                            0.388294\n",
       "calmar_ratio                           0.276592\n",
       "num_trades                                 5965\n",
       "trades_per_year                            1493\n",
       "win_rate                                0.50964\n",
       "avg_win                                0.007441\n",
       "avg_loss                              -0.007417\n",
       "best_trade                             0.042093\n",
       "worst_trade                           -0.046009\n",
       "profit_factor                          1.043127\n",
       "expectancy                             0.000156\n",
       "kelly_criterion                        0.020904\n",
       "consecutive_wins                             45\n",
       "consecutive_losses                           43\n",
       "avg_trade_duration              0 days 00:37:04\n",
       "ratio_of_longs                         0.503269\n",
       "Name: trade_metrics, dtype: object"
      ]
     },
     "execution_count": 255,
     "metadata": {},
     "output_type": "execute_result"
    }
   ],
   "source": [
    "ma_events_fh = tb_evaluator.evaluate_performance(0, 0, time_horizon)\n",
    "ma_events_fh_metrics = tb_evaluator.calculate_strategy_metrics(ma_events_fh)\n",
    "ma_events_fh_metrics"
   ]
  },
  {
   "cell_type": "markdown",
   "id": "b863eb59",
   "metadata": {},
   "source": [
    "### Triple-Barrier Method"
   ]
  },
  {
   "cell_type": "code",
   "execution_count": 256,
   "id": "1b77596f",
   "metadata": {},
   "outputs": [
    {
     "data": {
      "application/vnd.microsoft.datawrangler.viewer.v0+json": {
       "columns": [
        {
         "name": "index",
         "rawType": "object",
         "type": "string"
        },
        {
         "name": "trade_metrics",
         "rawType": "object",
         "type": "unknown"
        }
       ],
       "ref": "188f9a70-578f-4126-a15c-051082828520",
       "rows": [
        [
         "total_return",
         "8.782923698425293"
        ],
        [
         "annualized_return",
         "0.7706253059666672"
        ],
        [
         "volatility",
         "0.6074514543860807"
        ],
        [
         "downside_volatility",
         "0.1666370277064071"
        ],
        [
         "sharpe_ratio",
         "8.035448243701861"
        ],
        [
         "sortino_ratio",
         "29.292077454002122"
        ],
        [
         "var_95",
         "-0.005755174160003662"
        ],
        [
         "cvar_95",
         "-0.0069417325"
        ],
        [
         "skewness",
         "0.8444497806917209"
        ],
        [
         "kurtosis",
         "-0.016089126416955146"
        ],
        [
         "probabilistic_sharpe_ratio",
         "0.999999996321932"
        ],
        [
         "pos_concentration",
         "0.00011870487920249878"
        ],
        [
         "neg_concentration",
         "4.961982626560052e-05"
        ],
        [
         "time_concentration",
         "0.003776427684686574"
        ],
        [
         "max_drawdown",
         "0.5092940693862014"
        ],
        [
         "avg_drawdown",
         "0.047286187312030076"
        ],
        [
         "drawdown_duration",
         "18 days 00:07:24"
        ],
        [
         "ulcer_index",
         "0.0911539756189656"
        ],
        [
         "calmar_ratio",
         "1.5131244447739611"
        ],
        [
         "num_trades",
         "5985"
        ],
        [
         "trades_per_year",
         "1498"
        ],
        [
         "win_rate",
         "0.39164578111946535"
        ],
        [
         "avg_win",
         "0.006497405"
        ],
        [
         "avg_loss",
         "-0.0035318795"
        ],
        [
         "best_trade",
         "0.02280271053314209"
        ],
        [
         "worst_trade",
         "-0.010502219200134277"
        ],
        [
         "profit_factor",
         "1.1843252"
        ],
        [
         "expectancy",
         "0.0003960474558818835"
        ],
        [
         "kelly_criterion",
         "0.060954712917756226"
        ],
        [
         "consecutive_wins",
         "24"
        ],
        [
         "consecutive_losses",
         "32"
        ],
        [
         "avg_trade_duration",
         "0 days 00:00:04"
        ],
        [
         "ratio_of_longs",
         "0.5027568922305764"
        ]
       ],
       "shape": {
        "columns": 1,
        "rows": 33
       }
      },
      "text/plain": [
       "total_return                          8.782924\n",
       "annualized_return                     0.770625\n",
       "volatility                            0.607451\n",
       "downside_volatility                   0.166637\n",
       "sharpe_ratio                          8.035448\n",
       "sortino_ratio                        29.292077\n",
       "var_95                               -0.005755\n",
       "cvar_95                              -0.006942\n",
       "skewness                               0.84445\n",
       "kurtosis                             -0.016089\n",
       "probabilistic_sharpe_ratio                 1.0\n",
       "pos_concentration                     0.000119\n",
       "neg_concentration                      0.00005\n",
       "time_concentration                    0.003776\n",
       "max_drawdown                          0.509294\n",
       "avg_drawdown                          0.047286\n",
       "drawdown_duration             18 days 00:07:24\n",
       "ulcer_index                           0.091154\n",
       "calmar_ratio                          1.513124\n",
       "num_trades                                5985\n",
       "trades_per_year                           1498\n",
       "win_rate                              0.391646\n",
       "avg_win                               0.006497\n",
       "avg_loss                             -0.003532\n",
       "best_trade                            0.022803\n",
       "worst_trade                          -0.010502\n",
       "profit_factor                         1.184325\n",
       "expectancy                            0.000396\n",
       "kelly_criterion                       0.060955\n",
       "consecutive_wins                            24\n",
       "consecutive_losses                          32\n",
       "avg_trade_duration             0 days 00:00:04\n",
       "ratio_of_longs                        0.502757\n",
       "Name: trade_metrics, dtype: object"
      ]
     },
     "execution_count": 256,
     "metadata": {},
     "output_type": "execute_result"
    }
   ],
   "source": [
    "ma_events_tbl = tb_evaluator.evaluate_performance(pt_barrier, sl_barrier, time_horizon)\n",
    "ma_events_tbl_metrics = tb_evaluator.calculate_strategy_metrics(ma_events_tbl)\n",
    "ma_events_tbl_metrics"
   ]
  },
  {
   "cell_type": "code",
   "execution_count": 257,
   "id": "d65ee408",
   "metadata": {},
   "outputs": [
    {
     "name": "stdout",
     "output_type": "stream",
     "text": [
      "MACrossover_fast20_slow50: \n",
      "\n"
     ]
    },
    {
     "data": {
      "application/vnd.microsoft.datawrangler.viewer.v0+json": {
       "columns": [
        {
         "name": "index",
         "rawType": "object",
         "type": "string"
        },
        {
         "name": "fixed_horizon",
         "rawType": "object",
         "type": "unknown"
        },
        {
         "name": "triple_barrier",
         "rawType": "object",
         "type": "unknown"
        }
       ],
       "ref": "bbcf480d-67b1-4126-9e66-b82d44f3f8e5",
       "rows": [
        [
         "total_return",
         "0.8989582061767578",
         "8.782923698425293"
        ],
        [
         "annualized_return",
         "0.1742812348899585",
         "0.7706253059666672"
        ],
        [
         "volatility",
         "1.1021495718518448",
         "0.6074514543860807"
        ],
        [
         "downside_volatility",
         "0.720549035342409",
         "0.1666370277064071"
        ],
        [
         "sharpe_ratio",
         "1.753297971279017",
         "8.035448243701861"
        ],
        [
         "sortino_ratio",
         "2.68183914430694",
         "29.292077454002122"
        ],
        [
         "var_95",
         "-0.015042436122894288",
         "-0.005755174160003662"
        ],
        [
         "cvar_95",
         "-0.021588562",
         "-0.0069417325"
        ],
        [
         "skewness",
         "0.005452997208068374",
         "0.8444497806917209"
        ],
        [
         "kurtosis",
         "2.034684418049448",
         "-0.016089126416955146"
        ],
        [
         "probabilistic_sharpe_ratio",
         "0.8887047989635111",
         "0.999999996321932"
        ],
        [
         "pos_concentration",
         "0.00026523007526472943",
         "0.00011870487920249878"
        ],
        [
         "neg_concentration",
         "0.0002620107947689109",
         "4.961982626560052e-05"
        ],
        [
         "time_concentration",
         "0.003804640395530139",
         "0.003776427684686574"
        ],
        [
         "max_drawdown",
         "0.6301011700710774",
         "0.5092940693862014"
        ],
        [
         "avg_drawdown",
         "0.3107865109909642",
         "0.047286187312030076"
        ],
        [
         "drawdown_duration",
         "111 days 21:30:00",
         "18 days 00:07:24"
        ],
        [
         "ulcer_index",
         "0.38829426381998505",
         "0.0911539756189656"
        ],
        [
         "calmar_ratio",
         "0.2765924635091521",
         "1.5131244447739611"
        ],
        [
         "num_trades",
         "5965",
         "5985"
        ],
        [
         "trades_per_year",
         "1493",
         "1498"
        ],
        [
         "win_rate",
         "0.509639564124057",
         "0.39164578111946535"
        ],
        [
         "avg_win",
         "0.0074412115",
         "0.006497405"
        ],
        [
         "avg_loss",
         "-0.007416561",
         "-0.0035318795"
        ],
        [
         "best_trade",
         "0.04209315776824951",
         "0.02280271053314209"
        ],
        [
         "worst_trade",
         "-0.046008944511413574",
         "-0.010502219200134277"
        ],
        [
         "profit_factor",
         "1.0431273",
         "1.1843252"
        ],
        [
         "expectancy",
         "0.00015554780434045776",
         "0.0003960474558818835"
        ],
        [
         "kelly_criterion",
         "0.02090358567313233",
         "0.060954712917756226"
        ],
        [
         "consecutive_wins",
         "45",
         "24"
        ],
        [
         "consecutive_losses",
         "43",
         "32"
        ],
        [
         "avg_trade_duration",
         "0 days 00:37:04",
         "0 days 00:00:04"
        ],
        [
         "ratio_of_longs",
         "0.5032690695725063",
         "0.5027568922305764"
        ]
       ],
       "shape": {
        "columns": 2,
        "rows": 33
       }
      },
      "text/html": [
       "<div>\n",
       "<style scoped>\n",
       "    .dataframe tbody tr th:only-of-type {\n",
       "        vertical-align: middle;\n",
       "    }\n",
       "\n",
       "    .dataframe tbody tr th {\n",
       "        vertical-align: top;\n",
       "    }\n",
       "\n",
       "    .dataframe thead th {\n",
       "        text-align: right;\n",
       "    }\n",
       "</style>\n",
       "<table border=\"1\" class=\"dataframe\">\n",
       "  <thead>\n",
       "    <tr style=\"text-align: right;\">\n",
       "      <th></th>\n",
       "      <th>fixed_horizon</th>\n",
       "      <th>triple_barrier</th>\n",
       "    </tr>\n",
       "  </thead>\n",
       "  <tbody>\n",
       "    <tr>\n",
       "      <th>total_return</th>\n",
       "      <td>0.898958</td>\n",
       "      <td>8.782924</td>\n",
       "    </tr>\n",
       "    <tr>\n",
       "      <th>annualized_return</th>\n",
       "      <td>0.174281</td>\n",
       "      <td>0.770625</td>\n",
       "    </tr>\n",
       "    <tr>\n",
       "      <th>volatility</th>\n",
       "      <td>1.10215</td>\n",
       "      <td>0.607451</td>\n",
       "    </tr>\n",
       "    <tr>\n",
       "      <th>downside_volatility</th>\n",
       "      <td>0.720549</td>\n",
       "      <td>0.166637</td>\n",
       "    </tr>\n",
       "    <tr>\n",
       "      <th>sharpe_ratio</th>\n",
       "      <td>1.753298</td>\n",
       "      <td>8.035448</td>\n",
       "    </tr>\n",
       "    <tr>\n",
       "      <th>sortino_ratio</th>\n",
       "      <td>2.681839</td>\n",
       "      <td>29.292077</td>\n",
       "    </tr>\n",
       "    <tr>\n",
       "      <th>var_95</th>\n",
       "      <td>-0.015042</td>\n",
       "      <td>-0.005755</td>\n",
       "    </tr>\n",
       "    <tr>\n",
       "      <th>cvar_95</th>\n",
       "      <td>-0.021589</td>\n",
       "      <td>-0.006942</td>\n",
       "    </tr>\n",
       "    <tr>\n",
       "      <th>skewness</th>\n",
       "      <td>0.005453</td>\n",
       "      <td>0.84445</td>\n",
       "    </tr>\n",
       "    <tr>\n",
       "      <th>kurtosis</th>\n",
       "      <td>2.034684</td>\n",
       "      <td>-0.016089</td>\n",
       "    </tr>\n",
       "    <tr>\n",
       "      <th>probabilistic_sharpe_ratio</th>\n",
       "      <td>0.888705</td>\n",
       "      <td>1.0</td>\n",
       "    </tr>\n",
       "    <tr>\n",
       "      <th>pos_concentration</th>\n",
       "      <td>0.000265</td>\n",
       "      <td>0.000119</td>\n",
       "    </tr>\n",
       "    <tr>\n",
       "      <th>neg_concentration</th>\n",
       "      <td>0.000262</td>\n",
       "      <td>0.00005</td>\n",
       "    </tr>\n",
       "    <tr>\n",
       "      <th>time_concentration</th>\n",
       "      <td>0.003805</td>\n",
       "      <td>0.003776</td>\n",
       "    </tr>\n",
       "    <tr>\n",
       "      <th>max_drawdown</th>\n",
       "      <td>0.630101</td>\n",
       "      <td>0.509294</td>\n",
       "    </tr>\n",
       "    <tr>\n",
       "      <th>avg_drawdown</th>\n",
       "      <td>0.310787</td>\n",
       "      <td>0.047286</td>\n",
       "    </tr>\n",
       "    <tr>\n",
       "      <th>drawdown_duration</th>\n",
       "      <td>111 days 21:30:00</td>\n",
       "      <td>18 days 00:07:24</td>\n",
       "    </tr>\n",
       "    <tr>\n",
       "      <th>ulcer_index</th>\n",
       "      <td>0.388294</td>\n",
       "      <td>0.091154</td>\n",
       "    </tr>\n",
       "    <tr>\n",
       "      <th>calmar_ratio</th>\n",
       "      <td>0.276592</td>\n",
       "      <td>1.513124</td>\n",
       "    </tr>\n",
       "    <tr>\n",
       "      <th>num_trades</th>\n",
       "      <td>5965</td>\n",
       "      <td>5985</td>\n",
       "    </tr>\n",
       "    <tr>\n",
       "      <th>trades_per_year</th>\n",
       "      <td>1493</td>\n",
       "      <td>1498</td>\n",
       "    </tr>\n",
       "    <tr>\n",
       "      <th>win_rate</th>\n",
       "      <td>0.50964</td>\n",
       "      <td>0.391646</td>\n",
       "    </tr>\n",
       "    <tr>\n",
       "      <th>avg_win</th>\n",
       "      <td>0.007441</td>\n",
       "      <td>0.006497</td>\n",
       "    </tr>\n",
       "    <tr>\n",
       "      <th>avg_loss</th>\n",
       "      <td>-0.007417</td>\n",
       "      <td>-0.003532</td>\n",
       "    </tr>\n",
       "    <tr>\n",
       "      <th>best_trade</th>\n",
       "      <td>0.042093</td>\n",
       "      <td>0.022803</td>\n",
       "    </tr>\n",
       "    <tr>\n",
       "      <th>worst_trade</th>\n",
       "      <td>-0.046009</td>\n",
       "      <td>-0.010502</td>\n",
       "    </tr>\n",
       "    <tr>\n",
       "      <th>profit_factor</th>\n",
       "      <td>1.043127</td>\n",
       "      <td>1.184325</td>\n",
       "    </tr>\n",
       "    <tr>\n",
       "      <th>expectancy</th>\n",
       "      <td>0.000156</td>\n",
       "      <td>0.000396</td>\n",
       "    </tr>\n",
       "    <tr>\n",
       "      <th>kelly_criterion</th>\n",
       "      <td>0.020904</td>\n",
       "      <td>0.060955</td>\n",
       "    </tr>\n",
       "    <tr>\n",
       "      <th>consecutive_wins</th>\n",
       "      <td>45</td>\n",
       "      <td>24</td>\n",
       "    </tr>\n",
       "    <tr>\n",
       "      <th>consecutive_losses</th>\n",
       "      <td>43</td>\n",
       "      <td>32</td>\n",
       "    </tr>\n",
       "    <tr>\n",
       "      <th>avg_trade_duration</th>\n",
       "      <td>0 days 00:37:04</td>\n",
       "      <td>0 days 00:00:04</td>\n",
       "    </tr>\n",
       "    <tr>\n",
       "      <th>ratio_of_longs</th>\n",
       "      <td>0.503269</td>\n",
       "      <td>0.502757</td>\n",
       "    </tr>\n",
       "  </tbody>\n",
       "</table>\n",
       "</div>"
      ],
      "text/plain": [
       "                                fixed_horizon    triple_barrier\n",
       "total_return                         0.898958          8.782924\n",
       "annualized_return                    0.174281          0.770625\n",
       "volatility                            1.10215          0.607451\n",
       "downside_volatility                  0.720549          0.166637\n",
       "sharpe_ratio                         1.753298          8.035448\n",
       "sortino_ratio                        2.681839         29.292077\n",
       "var_95                              -0.015042         -0.005755\n",
       "cvar_95                             -0.021589         -0.006942\n",
       "skewness                             0.005453           0.84445\n",
       "kurtosis                             2.034684         -0.016089\n",
       "probabilistic_sharpe_ratio           0.888705               1.0\n",
       "pos_concentration                    0.000265          0.000119\n",
       "neg_concentration                    0.000262           0.00005\n",
       "time_concentration                   0.003805          0.003776\n",
       "max_drawdown                         0.630101          0.509294\n",
       "avg_drawdown                         0.310787          0.047286\n",
       "drawdown_duration           111 days 21:30:00  18 days 00:07:24\n",
       "ulcer_index                          0.388294          0.091154\n",
       "calmar_ratio                         0.276592          1.513124\n",
       "num_trades                               5965              5985\n",
       "trades_per_year                          1493              1498\n",
       "win_rate                              0.50964          0.391646\n",
       "avg_win                              0.007441          0.006497\n",
       "avg_loss                            -0.007417         -0.003532\n",
       "best_trade                           0.042093          0.022803\n",
       "worst_trade                         -0.046009         -0.010502\n",
       "profit_factor                        1.043127          1.184325\n",
       "expectancy                           0.000156          0.000396\n",
       "kelly_criterion                      0.020904          0.060955\n",
       "consecutive_wins                           45                24\n",
       "consecutive_losses                         43                32\n",
       "avg_trade_duration            0 days 00:37:04   0 days 00:00:04\n",
       "ratio_of_longs                       0.503269          0.502757"
      ]
     },
     "execution_count": 257,
     "metadata": {},
     "output_type": "execute_result"
    }
   ],
   "source": [
    "print(f\"MACrossover_fast{fast_window}_slow{slow_window}: \\n\")\n",
    "\n",
    "ma_metrics_df = pd.DataFrame({\n",
    "    \"fixed_horizon\": ma_events_fh_metrics,\n",
    "    \"triple_barrier\": ma_events_tbl_metrics,\n",
    "    })\n",
    "ma_metrics_df"
   ]
  },
  {
   "cell_type": "markdown",
   "id": "68aff28e",
   "metadata": {},
   "source": [
    "### Trend-Scanning Method"
   ]
  },
  {
   "cell_type": "code",
   "execution_count": 258,
   "id": "18cb8d17",
   "metadata": {},
   "outputs": [
    {
     "name": "stdout",
     "output_type": "stream",
     "text": [
      "t_events: 5,993\n",
      "MACrossover_fast20_slow50:\n",
      "ma_events_trend.shape: (5970, 4)\n",
      "\n"
     ]
    },
    {
     "data": {
      "application/vnd.microsoft.datawrangler.viewer.v0+json": {
       "columns": [
        {
         "name": "index",
         "rawType": "object",
         "type": "string"
        },
        {
         "name": "fixed_horizon",
         "rawType": "object",
         "type": "unknown"
        },
        {
         "name": "triple_barrier",
         "rawType": "object",
         "type": "unknown"
        },
        {
         "name": "trend_scanning",
         "rawType": "object",
         "type": "unknown"
        }
       ],
       "ref": "8a292e56-bf5a-4c9d-8a3e-5e590d082285",
       "rows": [
        [
         "total_return",
         "0.8989582061767578",
         "8.782923698425293",
         "3.9864320755004883"
        ],
        [
         "annualized_return",
         "0.1742812348899585",
         "0.7706253059666672",
         "0.49515635058594243"
        ],
        [
         "volatility",
         "1.1021495718518448",
         "0.6074514543860807",
         "1.156368540847366"
        ],
        [
         "downside_volatility",
         "0.720549035342409",
         "0.1666370277064071",
         "0.7247081653015514"
        ],
        [
         "sharpe_ratio",
         "1.753297971279017",
         "8.035448243701861",
         "3.4478208361809553"
        ],
        [
         "sortino_ratio",
         "2.68183914430694",
         "29.292077454002122",
         "5.501458021766244"
        ],
        [
         "var_95",
         "-0.015042436122894288",
         "-0.005755174160003662",
         "-0.015248316526412963"
        ],
        [
         "cvar_95",
         "-0.021588562",
         "-0.0069417325",
         "-0.022259463"
        ],
        [
         "skewness",
         "0.005452997208068374",
         "0.8444497806917209",
         "-0.02607669357818935"
        ],
        [
         "kurtosis",
         "2.034684418049448",
         "-0.016089126416955146",
         "1.4666510313605503"
        ],
        [
         "probabilistic_sharpe_ratio",
         "0.8887047989635111",
         "0.999999996321932",
         "0.9917567482248077"
        ],
        [
         "pos_concentration",
         "0.00026523007526472943",
         "0.00011870487920249878",
         "0.00021999113665946787"
        ],
        [
         "neg_concentration",
         "0.0002620107947689109",
         "4.961982626560052e-05",
         "0.00023052519347937486"
        ],
        [
         "time_concentration",
         "0.003804640395530139",
         "0.003776427684686574",
         "0.003813507825667417"
        ],
        [
         "max_drawdown",
         "0.6301011700710774",
         "0.5092940693862014",
         "0.7354710716265427"
        ],
        [
         "avg_drawdown",
         "0.3107865109909642",
         "0.047286187312030076",
         "0.2627072881224416"
        ],
        [
         "drawdown_duration",
         "111 days 21:30:00",
         "18 days 00:07:24",
         "97 days 00:36:00"
        ],
        [
         "ulcer_index",
         "0.38829426381998505",
         "0.0911539756189656",
         "0.3350464140829105"
        ],
        [
         "calmar_ratio",
         "0.2765924635091521",
         "1.5131244447739611",
         "0.6732506140464118"
        ],
        [
         "num_trades",
         "5965",
         "5985",
         "5970"
        ],
        [
         "trades_per_year",
         "1493",
         "1498",
         "1493"
        ],
        [
         "win_rate",
         "0.509639564124057",
         "0.39164578111946535",
         "0.5159128978224455"
        ],
        [
         "avg_win",
         "0.0074412115",
         "0.006497405",
         "0.008122302"
        ],
        [
         "avg_loss",
         "-0.007416561",
         "-0.0035318795",
         "-0.008007635"
        ],
        [
         "best_trade",
         "0.04209315776824951",
         "0.02280271053314209",
         "0.04123872518539429"
        ],
        [
         "worst_trade",
         "-0.046008944511413574",
         "-0.010502219200134277",
         "-0.04608112573623657"
        ],
        [
         "profit_factor",
         "1.0431273",
         "1.1843252",
         "1.0836296"
        ],
        [
         "expectancy",
         "0.00015554780434045776",
         "0.0003960474558818835",
         "0.00031400718874418114"
        ],
        [
         "kelly_criterion",
         "0.02090358567313233",
         "0.060954712917756226",
         "0.03865989555025556"
        ],
        [
         "consecutive_wins",
         "45",
         "24",
         "42"
        ],
        [
         "consecutive_losses",
         "43",
         "32",
         "35"
        ],
        [
         "avg_trade_duration",
         "0 days 00:37:04",
         "0 days 00:00:04",
         "1 days 03:54:21"
        ],
        [
         "ratio_of_longs",
         "0.5032690695725063",
         "0.5027568922305764",
         "0.5032690695725063"
        ]
       ],
       "shape": {
        "columns": 3,
        "rows": 33
       }
      },
      "text/html": [
       "<div>\n",
       "<style scoped>\n",
       "    .dataframe tbody tr th:only-of-type {\n",
       "        vertical-align: middle;\n",
       "    }\n",
       "\n",
       "    .dataframe tbody tr th {\n",
       "        vertical-align: top;\n",
       "    }\n",
       "\n",
       "    .dataframe thead th {\n",
       "        text-align: right;\n",
       "    }\n",
       "</style>\n",
       "<table border=\"1\" class=\"dataframe\">\n",
       "  <thead>\n",
       "    <tr style=\"text-align: right;\">\n",
       "      <th></th>\n",
       "      <th>fixed_horizon</th>\n",
       "      <th>triple_barrier</th>\n",
       "      <th>trend_scanning</th>\n",
       "    </tr>\n",
       "  </thead>\n",
       "  <tbody>\n",
       "    <tr>\n",
       "      <th>total_return</th>\n",
       "      <td>0.898958</td>\n",
       "      <td>8.782924</td>\n",
       "      <td>3.986432</td>\n",
       "    </tr>\n",
       "    <tr>\n",
       "      <th>annualized_return</th>\n",
       "      <td>0.174281</td>\n",
       "      <td>0.770625</td>\n",
       "      <td>0.495156</td>\n",
       "    </tr>\n",
       "    <tr>\n",
       "      <th>volatility</th>\n",
       "      <td>1.10215</td>\n",
       "      <td>0.607451</td>\n",
       "      <td>1.156369</td>\n",
       "    </tr>\n",
       "    <tr>\n",
       "      <th>downside_volatility</th>\n",
       "      <td>0.720549</td>\n",
       "      <td>0.166637</td>\n",
       "      <td>0.724708</td>\n",
       "    </tr>\n",
       "    <tr>\n",
       "      <th>sharpe_ratio</th>\n",
       "      <td>1.753298</td>\n",
       "      <td>8.035448</td>\n",
       "      <td>3.447821</td>\n",
       "    </tr>\n",
       "    <tr>\n",
       "      <th>sortino_ratio</th>\n",
       "      <td>2.681839</td>\n",
       "      <td>29.292077</td>\n",
       "      <td>5.501458</td>\n",
       "    </tr>\n",
       "    <tr>\n",
       "      <th>var_95</th>\n",
       "      <td>-0.015042</td>\n",
       "      <td>-0.005755</td>\n",
       "      <td>-0.015248</td>\n",
       "    </tr>\n",
       "    <tr>\n",
       "      <th>cvar_95</th>\n",
       "      <td>-0.021589</td>\n",
       "      <td>-0.006942</td>\n",
       "      <td>-0.022259</td>\n",
       "    </tr>\n",
       "    <tr>\n",
       "      <th>skewness</th>\n",
       "      <td>0.005453</td>\n",
       "      <td>0.84445</td>\n",
       "      <td>-0.026077</td>\n",
       "    </tr>\n",
       "    <tr>\n",
       "      <th>kurtosis</th>\n",
       "      <td>2.034684</td>\n",
       "      <td>-0.016089</td>\n",
       "      <td>1.466651</td>\n",
       "    </tr>\n",
       "    <tr>\n",
       "      <th>probabilistic_sharpe_ratio</th>\n",
       "      <td>0.888705</td>\n",
       "      <td>1.0</td>\n",
       "      <td>0.991757</td>\n",
       "    </tr>\n",
       "    <tr>\n",
       "      <th>pos_concentration</th>\n",
       "      <td>0.000265</td>\n",
       "      <td>0.000119</td>\n",
       "      <td>0.00022</td>\n",
       "    </tr>\n",
       "    <tr>\n",
       "      <th>neg_concentration</th>\n",
       "      <td>0.000262</td>\n",
       "      <td>0.00005</td>\n",
       "      <td>0.000231</td>\n",
       "    </tr>\n",
       "    <tr>\n",
       "      <th>time_concentration</th>\n",
       "      <td>0.003805</td>\n",
       "      <td>0.003776</td>\n",
       "      <td>0.003814</td>\n",
       "    </tr>\n",
       "    <tr>\n",
       "      <th>max_drawdown</th>\n",
       "      <td>0.630101</td>\n",
       "      <td>0.509294</td>\n",
       "      <td>0.735471</td>\n",
       "    </tr>\n",
       "    <tr>\n",
       "      <th>avg_drawdown</th>\n",
       "      <td>0.310787</td>\n",
       "      <td>0.047286</td>\n",
       "      <td>0.262707</td>\n",
       "    </tr>\n",
       "    <tr>\n",
       "      <th>drawdown_duration</th>\n",
       "      <td>111 days 21:30:00</td>\n",
       "      <td>18 days 00:07:24</td>\n",
       "      <td>97 days 00:36:00</td>\n",
       "    </tr>\n",
       "    <tr>\n",
       "      <th>ulcer_index</th>\n",
       "      <td>0.388294</td>\n",
       "      <td>0.091154</td>\n",
       "      <td>0.335046</td>\n",
       "    </tr>\n",
       "    <tr>\n",
       "      <th>calmar_ratio</th>\n",
       "      <td>0.276592</td>\n",
       "      <td>1.513124</td>\n",
       "      <td>0.673251</td>\n",
       "    </tr>\n",
       "    <tr>\n",
       "      <th>num_trades</th>\n",
       "      <td>5965</td>\n",
       "      <td>5985</td>\n",
       "      <td>5970</td>\n",
       "    </tr>\n",
       "    <tr>\n",
       "      <th>trades_per_year</th>\n",
       "      <td>1493</td>\n",
       "      <td>1498</td>\n",
       "      <td>1493</td>\n",
       "    </tr>\n",
       "    <tr>\n",
       "      <th>win_rate</th>\n",
       "      <td>0.50964</td>\n",
       "      <td>0.391646</td>\n",
       "      <td>0.515913</td>\n",
       "    </tr>\n",
       "    <tr>\n",
       "      <th>avg_win</th>\n",
       "      <td>0.007441</td>\n",
       "      <td>0.006497</td>\n",
       "      <td>0.008122</td>\n",
       "    </tr>\n",
       "    <tr>\n",
       "      <th>avg_loss</th>\n",
       "      <td>-0.007417</td>\n",
       "      <td>-0.003532</td>\n",
       "      <td>-0.008008</td>\n",
       "    </tr>\n",
       "    <tr>\n",
       "      <th>best_trade</th>\n",
       "      <td>0.042093</td>\n",
       "      <td>0.022803</td>\n",
       "      <td>0.041239</td>\n",
       "    </tr>\n",
       "    <tr>\n",
       "      <th>worst_trade</th>\n",
       "      <td>-0.046009</td>\n",
       "      <td>-0.010502</td>\n",
       "      <td>-0.046081</td>\n",
       "    </tr>\n",
       "    <tr>\n",
       "      <th>profit_factor</th>\n",
       "      <td>1.043127</td>\n",
       "      <td>1.184325</td>\n",
       "      <td>1.08363</td>\n",
       "    </tr>\n",
       "    <tr>\n",
       "      <th>expectancy</th>\n",
       "      <td>0.000156</td>\n",
       "      <td>0.000396</td>\n",
       "      <td>0.000314</td>\n",
       "    </tr>\n",
       "    <tr>\n",
       "      <th>kelly_criterion</th>\n",
       "      <td>0.020904</td>\n",
       "      <td>0.060955</td>\n",
       "      <td>0.03866</td>\n",
       "    </tr>\n",
       "    <tr>\n",
       "      <th>consecutive_wins</th>\n",
       "      <td>45</td>\n",
       "      <td>24</td>\n",
       "      <td>42</td>\n",
       "    </tr>\n",
       "    <tr>\n",
       "      <th>consecutive_losses</th>\n",
       "      <td>43</td>\n",
       "      <td>32</td>\n",
       "      <td>35</td>\n",
       "    </tr>\n",
       "    <tr>\n",
       "      <th>avg_trade_duration</th>\n",
       "      <td>0 days 00:37:04</td>\n",
       "      <td>0 days 00:00:04</td>\n",
       "      <td>1 days 03:54:21</td>\n",
       "    </tr>\n",
       "    <tr>\n",
       "      <th>ratio_of_longs</th>\n",
       "      <td>0.503269</td>\n",
       "      <td>0.502757</td>\n",
       "      <td>0.503269</td>\n",
       "    </tr>\n",
       "  </tbody>\n",
       "</table>\n",
       "</div>"
      ],
      "text/plain": [
       "                                fixed_horizon    triple_barrier  \\\n",
       "total_return                         0.898958          8.782924   \n",
       "annualized_return                    0.174281          0.770625   \n",
       "volatility                            1.10215          0.607451   \n",
       "downside_volatility                  0.720549          0.166637   \n",
       "sharpe_ratio                         1.753298          8.035448   \n",
       "sortino_ratio                        2.681839         29.292077   \n",
       "var_95                              -0.015042         -0.005755   \n",
       "cvar_95                             -0.021589         -0.006942   \n",
       "skewness                             0.005453           0.84445   \n",
       "kurtosis                             2.034684         -0.016089   \n",
       "probabilistic_sharpe_ratio           0.888705               1.0   \n",
       "pos_concentration                    0.000265          0.000119   \n",
       "neg_concentration                    0.000262           0.00005   \n",
       "time_concentration                   0.003805          0.003776   \n",
       "max_drawdown                         0.630101          0.509294   \n",
       "avg_drawdown                         0.310787          0.047286   \n",
       "drawdown_duration           111 days 21:30:00  18 days 00:07:24   \n",
       "ulcer_index                          0.388294          0.091154   \n",
       "calmar_ratio                         0.276592          1.513124   \n",
       "num_trades                               5965              5985   \n",
       "trades_per_year                          1493              1498   \n",
       "win_rate                              0.50964          0.391646   \n",
       "avg_win                              0.007441          0.006497   \n",
       "avg_loss                            -0.007417         -0.003532   \n",
       "best_trade                           0.042093          0.022803   \n",
       "worst_trade                         -0.046009         -0.010502   \n",
       "profit_factor                        1.043127          1.184325   \n",
       "expectancy                           0.000156          0.000396   \n",
       "kelly_criterion                      0.020904          0.060955   \n",
       "consecutive_wins                           45                24   \n",
       "consecutive_losses                         43                32   \n",
       "avg_trade_duration            0 days 00:37:04   0 days 00:00:04   \n",
       "ratio_of_longs                       0.503269          0.502757   \n",
       "\n",
       "                              trend_scanning  \n",
       "total_return                        3.986432  \n",
       "annualized_return                   0.495156  \n",
       "volatility                          1.156369  \n",
       "downside_volatility                 0.724708  \n",
       "sharpe_ratio                        3.447821  \n",
       "sortino_ratio                       5.501458  \n",
       "var_95                             -0.015248  \n",
       "cvar_95                            -0.022259  \n",
       "skewness                           -0.026077  \n",
       "kurtosis                            1.466651  \n",
       "probabilistic_sharpe_ratio          0.991757  \n",
       "pos_concentration                    0.00022  \n",
       "neg_concentration                   0.000231  \n",
       "time_concentration                  0.003814  \n",
       "max_drawdown                        0.735471  \n",
       "avg_drawdown                        0.262707  \n",
       "drawdown_duration           97 days 00:36:00  \n",
       "ulcer_index                         0.335046  \n",
       "calmar_ratio                        0.673251  \n",
       "num_trades                              5970  \n",
       "trades_per_year                         1493  \n",
       "win_rate                            0.515913  \n",
       "avg_win                             0.008122  \n",
       "avg_loss                           -0.008008  \n",
       "best_trade                          0.041239  \n",
       "worst_trade                        -0.046081  \n",
       "profit_factor                        1.08363  \n",
       "expectancy                          0.000314  \n",
       "kelly_criterion                      0.03866  \n",
       "consecutive_wins                          42  \n",
       "consecutive_losses                        35  \n",
       "avg_trade_duration           1 days 03:54:21  \n",
       "ratio_of_longs                      0.503269  "
      ]
     },
     "execution_count": 258,
     "metadata": {},
     "output_type": "execute_result"
    }
   ],
   "source": [
    "span = (5, time_horizon)\n",
    "volatility_threshold = 0.1\n",
    "\n",
    "thres = get_daily_vol(ma_df.close).mean() * vol_multiplier\n",
    "t_events = cusum_filter(ma_df.close, thres)\n",
    "print(f\"t_events: {len(t_events):,}\")\n",
    "\n",
    "side = ma_strategy.generate_signals(ma_df)\n",
    "close = ma_df.close\n",
    "\n",
    "ma_events_trend = get_trend_scanning_meta_labels(close, side, t_events, span, volatility_threshold)\n",
    "ma_events_trend_metrics = calculate_label_metrics(ma_df.index, side, ma_events_trend)\n",
    "\n",
    "ma_events_trend_ffd = get_trend_scanning_meta_labels(close_ffd, side, t_events, span, volatility_threshold, use_log=False)\n",
    "\n",
    "ma_metrics_df = pd.DataFrame({\n",
    "    \"fixed_horizon\": ma_events_fh_metrics,\n",
    "    \"triple_barrier\": ma_events_tbl_metrics,\n",
    "    \"trend_scanning\": ma_events_trend_metrics,\n",
    "    })\n",
    "\n",
    "print(f\"MACrossover_fast{fast_window}_slow{slow_window}:\")\n",
    "print(f\"ma_events_trend.shape: {ma_events_trend.shape}\\n\")\n",
    "ma_metrics_df"
   ]
  },
  {
   "cell_type": "markdown",
   "id": "303e1899",
   "metadata": {},
   "source": [
    "### Random Forest"
   ]
  },
  {
   "cell_type": "code",
   "execution_count": 259,
   "id": "53715e85",
   "metadata": {},
   "outputs": [],
   "source": [
    "random_state = 40\n",
    "min_w_leaf = 0.05\n",
    "\n",
    "rf = RandomForestClassifier(\n",
    "    criterion='entropy',\n",
    "    n_estimators=1000,\n",
    "    class_weight='balanced_subsample',\n",
    "    random_state=random_state,\n",
    "    min_weight_fraction_leaf=min_w_leaf,\n",
    "    n_jobs=-1,  # Use all available cores\n",
    "    )"
   ]
  },
  {
   "cell_type": "code",
   "execution_count": 260,
   "id": "296835e3",
   "metadata": {},
   "outputs": [
    {
     "name": "stdout",
     "output_type": "stream",
     "text": [
      "Fixed-Time Horizon Meta-Model Results:\n",
      "\n",
      "Primary-Model on Validation Set:\n",
      "              precision    recall  f1-score   support\n",
      "\n",
      "           0       0.00      0.00      0.00       877\n",
      "           1       0.51      1.00      0.67       907\n",
      "\n",
      "    accuracy                           0.51      1784\n",
      "   macro avg       0.25      0.50      0.34      1784\n",
      "weighted avg       0.26      0.51      0.34      1784\n",
      "\n",
      "\n",
      "Confusion Matrix:\n",
      "[[  0 877]\n",
      " [  0 907]]\n",
      "\n",
      "Meta-Model on Validation Set:\n",
      "              precision    recall  f1-score   support\n",
      "\n",
      "           0       0.49      0.80      0.61       877\n",
      "           1       0.49      0.18      0.27       907\n",
      "\n",
      "    accuracy                           0.49      1784\n",
      "   macro avg       0.49      0.49      0.44      1784\n",
      "weighted avg       0.49      0.49      0.43      1784\n",
      "\n",
      "\n",
      "Confusion Matrix:\n",
      "[[704 173]\n",
      " [741 166]]\n"
     ]
    },
    {
     "data": {
      "image/png": "[encoded data removed]",
      "text/plain": [
       "<Figure size 750x500 with 1 Axes>"
      ]
     },
     "metadata": {},
     "output_type": "display_data"
    }
   ],
   "source": [
    "model_ma_fh = train_meta_model(model=rf, features=ma_feat.reindex(ma_events_fh.index), labels=ma_events_fh)\n",
    "print(\"Fixed-Time Horizon Meta-Model Results:\\n\")\n",
    "meta_labelling_reports(\n",
    "    model_ma_fh.y_test, model_ma_fh.w_test, model_ma_fh.pred, model_ma_fh.prob, plot_roc=True\n",
    "    )"
   ]
  },
  {
   "cell_type": "code",
   "execution_count": 261,
   "id": "808ea536",
   "metadata": {},
   "outputs": [
    {
     "name": "stdout",
     "output_type": "stream",
     "text": [
      "Triple Barrier Meta-Model Results:\n",
      "\n",
      "Primary-Model on Validation Set:\n",
      "              precision    recall  f1-score   support\n",
      "\n",
      "           0       0.00      0.00      0.00      1181\n",
      "           1       0.34      1.00      0.51       609\n",
      "\n",
      "    accuracy                           0.34      1790\n",
      "   macro avg       0.17      0.50      0.25      1790\n",
      "weighted avg       0.12      0.34      0.17      1790\n",
      "\n",
      "\n",
      "Confusion Matrix:\n",
      "[[   0 1181]\n",
      " [   0  609]]\n",
      "\n",
      "Meta-Model on Validation Set:\n",
      "              precision    recall  f1-score   support\n",
      "\n",
      "           0       0.67      0.92      0.78      1181\n",
      "           1       0.44      0.12      0.19       609\n",
      "\n",
      "    accuracy                           0.65      1790\n",
      "   macro avg       0.56      0.52      0.48      1790\n",
      "weighted avg       0.59      0.65      0.58      1790\n",
      "\n",
      "\n",
      "Confusion Matrix:\n",
      "[[1085   96]\n",
      " [ 533   76]]\n"
     ]
    },
    {
     "data": {
      "image/png": "[encoded data removed]",
      "text/plain": [
       "<Figure size 750x500 with 1 Axes>"
      ]
     },
     "metadata": {},
     "output_type": "display_data"
    }
   ],
   "source": [
    "model_ma_tbl = train_meta_model(model=rf, features=ma_feat.reindex(ma_events_tbl.index), labels=ma_events_tbl)\n",
    "print(\"Triple Barrier Meta-Model Results:\\n\")\n",
    "meta_labelling_reports(\n",
    "    model_ma_tbl.y_test, model_ma_tbl.w_test, model_ma_tbl.pred, model_ma_tbl.prob, plot_roc=True\n",
    "    )"
   ]
  },
  {
   "cell_type": "code",
   "execution_count": 262,
   "id": "846cec1b",
   "metadata": {},
   "outputs": [
    {
     "name": "stdout",
     "output_type": "stream",
     "text": [
      "Trend-Scanning Meta-Model Results:\n",
      "\n",
      "Primary-Model on Validation Set:\n",
      "              precision    recall  f1-score   support\n",
      "\n",
      "           0       0.00      0.00      0.00       980\n",
      "           1       0.45      1.00      0.62       804\n",
      "\n",
      "    accuracy                           0.45      1784\n",
      "   macro avg       0.23      0.50      0.31      1784\n",
      "weighted avg       0.20      0.45      0.28      1784\n",
      "\n",
      "\n",
      "Confusion Matrix:\n",
      "[[  0 980]\n",
      " [  0 804]]\n",
      "\n",
      "Meta-Model on Validation Set:\n",
      "              precision    recall  f1-score   support\n",
      "\n",
      "           0       0.57      0.84      0.68       980\n",
      "           1       0.54      0.23      0.32       804\n",
      "\n",
      "    accuracy                           0.56      1784\n",
      "   macro avg       0.55      0.53      0.50      1784\n",
      "weighted avg       0.55      0.56      0.52      1784\n",
      "\n",
      "\n",
      "Confusion Matrix:\n",
      "[[823 157]\n",
      " [623 181]]\n"
     ]
    },
    {
     "data": {
      "image/png": "[encoded data removed]",
      "text/plain": [
       "<Figure size 750x500 with 1 Axes>"
      ]
     },
     "metadata": {},
     "output_type": "display_data"
    }
   ],
   "source": [
    "model_ma_trend = train_meta_model(model=rf, features=ma_feat.reindex(ma_events_trend.index), labels=ma_events_trend)\n",
    "print(\"Trend-Scanning Meta-Model Results:\\n\")\n",
    "meta_labelling_reports(\n",
    "    model_ma_trend.y_test, model_ma_trend.w_test, model_ma_trend.pred, model_ma_trend.prob, plot_roc=True\n",
    "    )"
   ]
  },
  {
   "cell_type": "code",
   "execution_count": 263,
   "id": "8ab4ee13",
   "metadata": {},
   "outputs": [
    {
     "name": "stdout",
     "output_type": "stream",
     "text": [
      "Trend-Scanning Meta-Model Results:\n",
      "\n",
      "Primary-Model on Validation Set:\n",
      "              precision    recall  f1-score   support\n",
      "\n",
      "           0       0.00      0.00      0.00       924\n",
      "           1       0.44      1.00      0.61       728\n",
      "\n",
      "    accuracy                           0.44      1652\n",
      "   macro avg       0.22      0.50      0.31      1652\n",
      "weighted avg       0.19      0.44      0.27      1652\n",
      "\n",
      "\n",
      "Confusion Matrix:\n",
      "[[  0 924]\n",
      " [  0 728]]\n",
      "\n",
      "Meta-Model on Validation Set:\n",
      "              precision    recall  f1-score   support\n",
      "\n",
      "           0       0.58      0.81      0.67       924\n",
      "           1       0.51      0.26      0.34       728\n",
      "\n",
      "    accuracy                           0.56      1652\n",
      "   macro avg       0.55      0.53      0.51      1652\n",
      "weighted avg       0.55      0.56      0.53      1652\n",
      "\n",
      "\n",
      "Confusion Matrix:\n",
      "[[745 179]\n",
      " [541 187]]\n"
     ]
    },
    {
     "data": {
      "image/png": "[encoded data removed]",
      "text/plain": [
       "<Figure size 750x500 with 1 Axes>"
      ]
     },
     "metadata": {},
     "output_type": "display_data"
    }
   ],
   "source": [
    "model_ma_trend_ffd = train_meta_model(model=rf, features=ma_feat_ffd.reindex(ma_events_trend_ffd.index), labels=ma_events_trend_ffd)\n",
    "print(\"Trend-Scanning Meta-Model Results:\\n\")\n",
    "meta_labelling_reports(\n",
    "    model_ma_trend_ffd.y_test, model_ma_trend_ffd.w_test, model_ma_trend_ffd.pred, model_ma_trend_ffd.prob, plot_roc=True\n",
    "    )"
   ]
  },
  {
   "cell_type": "code",
   "execution_count": 264,
   "id": "bc62f830",
   "metadata": {},
   "outputs": [
    {
     "name": "stdout",
     "output_type": "stream",
     "text": [
      "Classification Report (as text):\n",
      "              precision    recall  f1-score   support\n",
      "\n",
      "           0       0.00      0.00      0.00       877\n",
      "           1       0.51      1.00      0.67       907\n",
      "\n",
      "    accuracy                           0.51      1784\n",
      "   macro avg       0.25      0.50      0.34      1784\n",
      "weighted avg       0.26      0.51      0.34      1784\n",
      "\n",
      "\n",
      "Confusion Matrix:\n",
      "[[  0 877]\n",
      " [  0 907]]\n",
      "\n",
      "Accuracy:\n",
      "0.5084080717488789\n",
      "\n",
      "Successfully generated and saved 'reports/ma_fixed_time_primary_clf_report.png'\n",
      "Classification Report (as text):\n",
      "              precision    recall  f1-score   support\n",
      "\n",
      "           0       0.49      0.80      0.61       877\n",
      "           1       0.49      0.18      0.27       907\n",
      "\n",
      "    accuracy                           0.49      1784\n",
      "   macro avg       0.49      0.49      0.44      1784\n",
      "weighted avg       0.49      0.49      0.43      1784\n",
      "\n",
      "\n",
      "Confusion Matrix:\n",
      "[[704 173]\n",
      " [741 166]]\n",
      "\n",
      "Accuracy:\n",
      "0.4876681614349776\n",
      "\n",
      "Successfully generated and saved 'reports/ma_fixed_time_meta_clf_report.png'\n",
      "Classification reports saved.\n",
      "\n",
      "Classification Report (as text):\n",
      "              precision    recall  f1-score   support\n",
      "\n",
      "           0       0.00      0.00      0.00      1181\n",
      "           1       0.34      1.00      0.51       609\n",
      "\n",
      "    accuracy                           0.34      1790\n",
      "   macro avg       0.17      0.50      0.25      1790\n",
      "weighted avg       0.12      0.34      0.17      1790\n",
      "\n",
      "\n",
      "Confusion Matrix:\n",
      "[[   0 1181]\n",
      " [   0  609]]\n",
      "\n",
      "Accuracy:\n",
      "0.34022346368715084\n",
      "\n",
      "Successfully generated and saved 'reports/ma_triple_barrier_primary_clf_report.png'\n",
      "Classification Report (as text):\n",
      "              precision    recall  f1-score   support\n",
      "\n",
      "           0       0.67      0.92      0.78      1181\n",
      "           1       0.44      0.12      0.19       609\n",
      "\n",
      "    accuracy                           0.65      1790\n",
      "   macro avg       0.56      0.52      0.48      1790\n",
      "weighted avg       0.59      0.65      0.58      1790\n",
      "\n",
      "\n",
      "Confusion Matrix:\n",
      "[[1085   96]\n",
      " [ 533   76]]\n",
      "\n",
      "Accuracy:\n",
      "0.6486033519553073\n",
      "\n",
      "Successfully generated and saved 'reports/ma_triple_barrier_meta_clf_report.png'\n",
      "Classification reports saved.\n",
      "\n",
      "Classification Report (as text):\n",
      "              precision    recall  f1-score   support\n",
      "\n",
      "           0       0.00      0.00      0.00       980\n",
      "           1       0.45      1.00      0.62       804\n",
      "\n",
      "    accuracy                           0.45      1784\n",
      "   macro avg       0.23      0.50      0.31      1784\n",
      "weighted avg       0.20      0.45      0.28      1784\n",
      "\n",
      "\n",
      "Confusion Matrix:\n",
      "[[  0 980]\n",
      " [  0 804]]\n",
      "\n",
      "Accuracy:\n",
      "0.45067264573991034\n",
      "\n",
      "Successfully generated and saved 'reports/ma_trend_scanning_primary_clf_report.png'\n",
      "Classification Report (as text):\n",
      "              precision    recall  f1-score   support\n",
      "\n",
      "           0       0.57      0.84      0.68       980\n",
      "           1       0.54      0.23      0.32       804\n",
      "\n",
      "    accuracy                           0.56      1784\n",
      "   macro avg       0.55      0.53      0.50      1784\n",
      "weighted avg       0.55      0.56      0.52      1784\n",
      "\n",
      "\n",
      "Confusion Matrix:\n",
      "[[823 157]\n",
      " [623 181]]\n",
      "\n",
      "Accuracy:\n",
      "0.5627802690582959\n",
      "\n",
      "Successfully generated and saved 'reports/ma_trend_scanning_meta_clf_report.png'\n",
      "Classification reports saved.\n",
      "\n",
      "Classification Report (as text):\n",
      "              precision    recall  f1-score   support\n",
      "\n",
      "           0       0.00      0.00      0.00       924\n",
      "           1       0.44      1.00      0.61       728\n",
      "\n",
      "    accuracy                           0.44      1652\n",
      "   macro avg       0.22      0.50      0.31      1652\n",
      "weighted avg       0.19      0.44      0.27      1652\n",
      "\n",
      "\n",
      "Confusion Matrix:\n",
      "[[  0 924]\n",
      " [  0 728]]\n",
      "\n",
      "Accuracy:\n",
      "0.4406779661016949\n",
      "\n",
      "Successfully generated and saved 'reports/ma_trend_scanning_ffd_primary_clf_report.png'\n",
      "Classification Report (as text):\n",
      "              precision    recall  f1-score   support\n",
      "\n",
      "           0       0.58      0.81      0.67       924\n",
      "           1       0.51      0.26      0.34       728\n",
      "\n",
      "    accuracy                           0.56      1652\n",
      "   macro avg       0.55      0.53      0.51      1652\n",
      "weighted avg       0.55      0.56      0.53      1652\n",
      "\n",
      "\n",
      "Confusion Matrix:\n",
      "[[745 179]\n",
      " [541 187]]\n",
      "\n",
      "Accuracy:\n",
      "0.5641646489104116\n",
      "\n",
      "Successfully generated and saved 'reports/ma_trend_scanning_ffd_meta_clf_report.png'\n",
      "Classification reports saved.\n",
      "\n"
     ]
    }
   ],
   "source": [
    "dirpath = \"reports\"\n",
    "meta_labelling_classification_reports(model_data=model_ma_fh, title=\"Fixed-Time Horizon\", output_filename=f\"{dirpath}/ma_fixed_time\")\n",
    "meta_labelling_classification_reports(model_data=model_ma_tbl, title=\"Triple Barrier\", output_filename=f\"{dirpath}/ma_triple_barrier\")\n",
    "meta_labelling_classification_reports(model_data=model_ma_trend, title=\"Trend-Scanning\", output_filename=f\"{dirpath}/ma_trend_scanning\")\n",
    "meta_labelling_classification_reports(model_data=model_ma_trend_ffd, title=\"Trend-Scanning (with Fractionally Differentiation)\", output_filename=f\"{dirpath}/ma_trend_scanning_ffd\")"
   ]
  },
  {
   "cell_type": "code",
   "execution_count": null,
   "id": "a37b0afe",
   "metadata": {},
   "outputs": [],
   "source": []
  },
  {
   "cell_type": "code",
   "execution_count": null,
   "id": "799ea2d8",
   "metadata": {},
   "outputs": [],
   "source": []
  },
  {
   "cell_type": "code",
   "execution_count": null,
   "id": "e45fec13",
   "metadata": {},
   "outputs": [],
   "source": []
  }
 ],
 "metadata": {
  "kernelspec": {
   "display_name": "mlfinlab_env",
   "language": "python",
   "name": "python3"
  },
  "language_info": {
   "codemirror_mode": {
    "name": "ipython",
    "version": 3
   },
   "file_extension": ".py",
   "mimetype": "text/x-python",
   "name": "python",
   "nbconvert_exporter": "python",
   "pygments_lexer": "ipython3",
   "version": "3.10.18"
  }
 },
 "nbformat": 4,
 "nbformat_minor": 5
}
